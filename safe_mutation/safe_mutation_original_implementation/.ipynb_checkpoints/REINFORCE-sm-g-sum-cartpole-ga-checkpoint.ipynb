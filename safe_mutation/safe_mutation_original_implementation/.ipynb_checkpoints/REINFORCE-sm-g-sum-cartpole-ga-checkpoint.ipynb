{
 "cells": [
  {
   "cell_type": "code",
   "execution_count": 1,
   "id": "cff20e7d",
   "metadata": {},
   "outputs": [],
   "source": [
    "import torch\n",
    "import gym\n",
    "import numpy as np\n",
    "import random\n",
    "import matplotlib.pyplot as plt\n",
    "import statistics\n",
    "\n",
    "from torch import nn\n",
    "from copy import deepcopy\n",
    "from tqdm import tqdm\n",
    "\n",
    "from bayes_opt import BayesianOptimization"
   ]
  },
  {
   "cell_type": "code",
   "execution_count": 2,
   "id": "c7205bff",
   "metadata": {},
   "outputs": [
    {
     "name": "stderr",
     "output_type": "stream",
     "text": [
      "/Users/jinhyunpark/miniforge3/envs/tilda/lib/python3.11/site-packages/gym/core.py:329: DeprecationWarning: \u001b[33mWARN: Initializing wrapper in old step API which returns one bool instead of two. It is recommended to set `new_step_api=True` to use new step API. This will be the default behaviour in future.\u001b[0m\n",
      "  deprecation(\n",
      "/Users/jinhyunpark/miniforge3/envs/tilda/lib/python3.11/site-packages/gym/wrappers/step_api_compatibility.py:39: DeprecationWarning: \u001b[33mWARN: Initializing environment in old step API which returns one bool instead of two. It is recommended to set `new_step_api=True` to use new step API. This will be the default behaviour in future.\u001b[0m\n",
      "  deprecation(\n"
     ]
    }
   ],
   "source": [
    "# Use the following gym version.\n",
    "# pip install gym==0.25.0\n",
    "# pip install pygame\n",
    "\n",
    "seed = 0\n",
    "torch.manual_seed(seed)\n",
    "np.random.seed(seed)\n",
    "random.seed(seed)\n",
    "\n",
    "# define global variable \n",
    "MAX_EP = 10\n",
    "env = gym.make('CartPole-v1')"
   ]
  },
  {
   "cell_type": "code",
   "execution_count": 3,
   "id": "24c2802b",
   "metadata": {},
   "outputs": [],
   "source": [
    "# Define network architecture\n",
    "class Network(nn.Module):\n",
    "    def __init__(self, env):\n",
    "        super().__init__()\n",
    "\n",
    "        in_features = int(np.prod(env.observation_space.shape))\n",
    "        self.net = nn.Sequential(\n",
    "            nn.Linear(in_features, 64),\n",
    "            nn.Tanh(),\n",
    "            nn.Linear(64, env.action_space.n)\n",
    "        )\n",
    "\n",
    "    def forward(self, x):\n",
    "        return self.net(x)\n",
    "\n",
    "    def act(self, state):\n",
    "        state_t = torch.as_tensor(state, dtype=torch.float32)\n",
    "        q_values = self.forward(state_t.unsqueeze(0))                           # 'q_values' outputs two values (left or right)\n",
    "        max_q_index = torch.argmax(q_values, dim=1)[0]                          # find an index that corresponds to the maximum value  \n",
    "        action = max_q_index.detach().item()                                    # 0 or 1\n",
    "        return action                                                           # 0 or 1"
   ]
  },
  {
   "cell_type": "code",
   "execution_count": 4,
   "id": "562f1c95",
   "metadata": {},
   "outputs": [],
   "source": [
    "def calculate_fitness(network, env, num_episodes=MAX_EP):\n",
    "    total_rewards = 0\n",
    "    for _ in range(num_episodes):\n",
    "        reward, _ = run_episode(network, env)\n",
    "        total_rewards += reward\n",
    "    avg_reward = total_rewards / num_episodes\n",
    "    return avg_reward"
   ]
  },
  {
   "cell_type": "code",
   "execution_count": 5,
   "id": "3406fb93",
   "metadata": {},
   "outputs": [],
   "source": [
    "def run_episode(network, env):\n",
    "    state = env.reset()\n",
    "    total_reward = 0.0\n",
    "    log_probs = []  # Store log probabilities of actions\n",
    "    done = False\n",
    "    while not done:\n",
    "        state_t = torch.as_tensor(state, dtype=torch.float32)\n",
    "        q_values = network(state_t.unsqueeze(0))\n",
    "        action_probs = nn.functional.softmax(q_values, dim=1)\n",
    "        action_dist = torch.distributions.Categorical(action_probs)\n",
    "        action = action_dist.sample()\n",
    "        log_prob = action_dist.log_prob(action)\n",
    "        log_probs.append(log_prob)\n",
    "        state, reward, done, _ = env.step(action.item())\n",
    "        total_reward += reward\n",
    "    return total_reward, log_probs"
   ]
  },
  {
   "cell_type": "code",
   "execution_count": 6,
   "id": "032a551d",
   "metadata": {},
   "outputs": [],
   "source": [
    "def prepare_mutation(network, env, num_episodes=MAX_EP):\n",
    "    total_rewards = 0\n",
    "    all_grads = []  # List of list of gradients\n",
    "    for _ in range(num_episodes):\n",
    "        reward, log_probs = run_episode(network, env)\n",
    "        total_rewards += reward\n",
    "        loss = -reward * torch.stack(log_probs).sum()\n",
    "        loss.backward()  # Calculate gradients\n",
    "\n",
    "        grads = []  # List of gradients for this episode\n",
    "        # Store gradients and zero them\n",
    "        for param in network.parameters():\n",
    "            grads.append(param.grad.clone())\n",
    "            param.grad = None\n",
    "        \n",
    "        all_grads.append(grads)  # Append the list of gradients for this episode to the overall list\n",
    "    \n",
    "    avg_reward = total_rewards / num_episodes\n",
    "    \n",
    "    return avg_reward, all_grads  # Return list of list of gradients"
   ]
  },
  {
   "cell_type": "code",
   "execution_count": 7,
   "id": "b62df800",
   "metadata": {},
   "outputs": [],
   "source": [
    "def mutate_and_tournament(population, tournament_size, mutation_rate, mutation_strength):\n",
    "    \n",
    "    # Select individuals for the tournament\n",
    "    individuals = random.sample(population, tournament_size)\n",
    "    # Calculate fitness for each individual\n",
    "    fitnesses = [calculate_fitness(individual, env) for individual in individuals]\n",
    "    # Select the best individual\n",
    "    parent = individuals[np.argmax(fitnesses)]\n",
    "    \n",
    "    # Create offspring by deep copying the parent\n",
    "    offspring = deepcopy(parent)\n",
    "    \n",
    "    # Calculate fitness and gradients for the offspring\n",
    "    _, all_grads = prepare_mutation(offspring, env)\n",
    "    \n",
    "    grads = []\n",
    "    # Average gradients over episodes\n",
    "    for grad in zip(*all_grads):\n",
    "        grads.append(sum(grad)/len(grad))\n",
    "    \n",
    "    # Apply mutation\n",
    "    with torch.no_grad():\n",
    "        for param, grad in zip(offspring.parameters(), grads):\n",
    "            if (grad is not None) and (random.random() < mutation_rate):\n",
    "                # print(\"mutation activated\")\n",
    "                delta = torch.randn_like(param)\n",
    "                grad_sum = torch.sum(grad)\n",
    "                if grad_sum != 0:\n",
    "                    param.add_(mutation_strength * delta * grad / grad_sum)\n",
    "    \n",
    "    # Return the mutated offspring\n",
    "    return offspring"
   ]
  },
  {
   "cell_type": "code",
   "execution_count": 8,
   "id": "0e6f4b95",
   "metadata": {},
   "outputs": [],
   "source": [
    "# Define genetic algorithm\n",
    "def main(POPULATION_SIZE, GENERATIONS, ELITISM, TOURNAMENT_SIZE, MUTATION_STRENGTH, MUTATION_RATE):\n",
    "\n",
    "    FITNESS_HISTORY = list()\n",
    "    FITNESS_STDERROR_HISTORY = list()\n",
    "    \n",
    "    # Create initial population\n",
    "    population = [Network(env) for _ in range(POPULATION_SIZE)]\n",
    "\n",
    "    for generation in range(1, GENERATIONS + 1):\n",
    "\n",
    "        # Calculate fitness for each network\n",
    "        fitnesses = [calculate_fitness(network, env) for network in tqdm(population, desc=\"Calculating fitnesses\")]\n",
    "        \n",
    "        # best fitness \n",
    "        best_fitness = np.max(fitnesses)\n",
    "        FITNESS_HISTORY.append(best_fitness)\n",
    "        \n",
    "        # std error\n",
    "        standard_deviation = statistics.stdev(fitnesses)\n",
    "        standard_error = standard_deviation / (POPULATION_SIZE ** 0.5)\n",
    "\n",
    "        print(f\"[Generation: {generation}] - Best Fitness: {best_fitness} - Standard Error: {standard_error}\")\n",
    "        \n",
    "        # Sort population by fitness\n",
    "        population = [x for _, x in sorted(zip(fitnesses, population), key=lambda pair: pair[0], reverse=True)]\n",
    "        \n",
    "        # Select the best networks to pass their genes to the next generation\n",
    "        survivors = population[:ELITISM]\n",
    "        \n",
    "        # Create the next generation\n",
    "        next_population = survivors  # Start with the survivors\n",
    "        \n",
    "        num_individuals_to_add = POPULATION_SIZE - len(next_population)\n",
    "        # Add offspring by tournament selection and mutation\n",
    "        for _ in tqdm(range(num_individuals_to_add), desc=\"Generating Offspring\"):\n",
    "            offspring = mutate_and_tournament(population, TOURNAMENT_SIZE, MUTATION_RATE, MUTATION_STRENGTH)\n",
    "            next_population.append(offspring)\n",
    "\n",
    "        # The next generation becomes the current population\n",
    "        population = next_population\n",
    "\n",
    "    return population, FITNESS_HISTORY"
   ]
  },
  {
   "cell_type": "markdown",
   "id": "58016015",
   "metadata": {},
   "source": [
    "### Version Control"
   ]
  },
  {
   "cell_type": "code",
   "execution_count": 9,
   "id": "5345a1c9",
   "metadata": {
    "collapsed": true
   },
   "outputs": [
    {
     "name": "stderr",
     "output_type": "stream",
     "text": [
      "Calculating fitnesses:   0%|                                         | 0/50 [00:00<?, ?it/s]/Users/jinhyunpark/miniforge3/envs/tilda/lib/python3.11/site-packages/gym/utils/passive_env_checker.py:241: DeprecationWarning: `np.bool8` is a deprecated alias for `np.bool_`.  (Deprecated NumPy 1.24)\n",
      "  if not isinstance(terminated, (bool, np.bool8)):\n",
      "Calculating fitnesses: 100%|████████████████████████████████| 50/50 [00:00<00:00, 64.22it/s]\n"
     ]
    },
    {
     "name": "stdout",
     "output_type": "stream",
     "text": [
      "[Generation: 1] - Best Fitness: 33.0\n"
     ]
    },
    {
     "name": "stderr",
     "output_type": "stream",
     "text": [
      "Generating Offspring: 100%|█████████████████████████████████| 25/25 [00:02<00:00,  9.38it/s]\n",
      "Calculating fitnesses: 100%|████████████████████████████████| 50/50 [00:00<00:00, 56.38it/s]\n"
     ]
    },
    {
     "name": "stdout",
     "output_type": "stream",
     "text": [
      "[Generation: 2] - Best Fitness: 43.2\n"
     ]
    },
    {
     "name": "stderr",
     "output_type": "stream",
     "text": [
      "Generating Offspring: 100%|█████████████████████████████████| 25/25 [00:02<00:00,  8.77it/s]\n",
      "Calculating fitnesses: 100%|████████████████████████████████| 50/50 [00:00<00:00, 56.55it/s]\n"
     ]
    },
    {
     "name": "stdout",
     "output_type": "stream",
     "text": [
      "[Generation: 3] - Best Fitness: 39.1\n"
     ]
    },
    {
     "name": "stderr",
     "output_type": "stream",
     "text": [
      "Generating Offspring: 100%|█████████████████████████████████| 25/25 [00:02<00:00,  8.51it/s]\n",
      "Calculating fitnesses: 100%|████████████████████████████████| 50/50 [00:01<00:00, 48.67it/s]\n"
     ]
    },
    {
     "name": "stdout",
     "output_type": "stream",
     "text": [
      "[Generation: 4] - Best Fitness: 46.2\n"
     ]
    },
    {
     "name": "stderr",
     "output_type": "stream",
     "text": [
      "Generating Offspring: 100%|█████████████████████████████████| 25/25 [00:03<00:00,  7.88it/s]\n",
      "Calculating fitnesses: 100%|████████████████████████████████| 50/50 [00:00<00:00, 51.72it/s]\n"
     ]
    },
    {
     "name": "stdout",
     "output_type": "stream",
     "text": [
      "[Generation: 5] - Best Fitness: 42.2\n"
     ]
    },
    {
     "name": "stderr",
     "output_type": "stream",
     "text": [
      "Generating Offspring: 100%|█████████████████████████████████| 25/25 [00:03<00:00,  7.41it/s]\n",
      "Calculating fitnesses: 100%|████████████████████████████████| 50/50 [00:00<00:00, 50.64it/s]\n"
     ]
    },
    {
     "name": "stdout",
     "output_type": "stream",
     "text": [
      "[Generation: 6] - Best Fitness: 51.0\n"
     ]
    },
    {
     "name": "stderr",
     "output_type": "stream",
     "text": [
      "Generating Offspring: 100%|█████████████████████████████████| 25/25 [00:03<00:00,  7.56it/s]\n",
      "Calculating fitnesses: 100%|████████████████████████████████| 50/50 [00:00<00:00, 50.41it/s]\n"
     ]
    },
    {
     "name": "stdout",
     "output_type": "stream",
     "text": [
      "[Generation: 7] - Best Fitness: 42.4\n"
     ]
    },
    {
     "name": "stderr",
     "output_type": "stream",
     "text": [
      "Generating Offspring: 100%|█████████████████████████████████| 25/25 [00:03<00:00,  7.71it/s]\n",
      "Calculating fitnesses: 100%|████████████████████████████████| 50/50 [00:00<00:00, 51.28it/s]\n"
     ]
    },
    {
     "name": "stdout",
     "output_type": "stream",
     "text": [
      "[Generation: 8] - Best Fitness: 42.4\n"
     ]
    },
    {
     "name": "stderr",
     "output_type": "stream",
     "text": [
      "Generating Offspring: 100%|█████████████████████████████████| 25/25 [00:03<00:00,  7.45it/s]\n",
      "Calculating fitnesses: 100%|████████████████████████████████| 50/50 [00:01<00:00, 47.83it/s]\n"
     ]
    },
    {
     "name": "stdout",
     "output_type": "stream",
     "text": [
      "[Generation: 9] - Best Fitness: 46.6\n"
     ]
    },
    {
     "name": "stderr",
     "output_type": "stream",
     "text": [
      "Generating Offspring: 100%|█████████████████████████████████| 25/25 [00:03<00:00,  7.36it/s]\n",
      "Calculating fitnesses: 100%|████████████████████████████████| 50/50 [00:01<00:00, 47.87it/s]\n"
     ]
    },
    {
     "name": "stdout",
     "output_type": "stream",
     "text": [
      "[Generation: 10] - Best Fitness: 51.2\n"
     ]
    },
    {
     "name": "stderr",
     "output_type": "stream",
     "text": [
      "Generating Offspring: 100%|█████████████████████████████████| 25/25 [00:03<00:00,  7.01it/s]\n",
      "Calculating fitnesses: 100%|████████████████████████████████| 50/50 [00:01<00:00, 44.62it/s]\n"
     ]
    },
    {
     "name": "stdout",
     "output_type": "stream",
     "text": [
      "[Generation: 11] - Best Fitness: 57.0\n"
     ]
    },
    {
     "name": "stderr",
     "output_type": "stream",
     "text": [
      "Generating Offspring: 100%|█████████████████████████████████| 25/25 [00:03<00:00,  6.38it/s]\n",
      "Calculating fitnesses: 100%|████████████████████████████████| 50/50 [00:01<00:00, 40.51it/s]\n"
     ]
    },
    {
     "name": "stdout",
     "output_type": "stream",
     "text": [
      "[Generation: 12] - Best Fitness: 66.1\n"
     ]
    },
    {
     "name": "stderr",
     "output_type": "stream",
     "text": [
      "Generating Offspring: 100%|█████████████████████████████████| 25/25 [00:04<00:00,  6.10it/s]\n",
      "Calculating fitnesses: 100%|████████████████████████████████| 50/50 [00:01<00:00, 32.90it/s]\n"
     ]
    },
    {
     "name": "stdout",
     "output_type": "stream",
     "text": [
      "[Generation: 13] - Best Fitness: 70.1\n"
     ]
    },
    {
     "name": "stderr",
     "output_type": "stream",
     "text": [
      "Generating Offspring: 100%|█████████████████████████████████| 25/25 [00:05<00:00,  4.81it/s]\n",
      "Calculating fitnesses: 100%|████████████████████████████████| 50/50 [00:01<00:00, 28.02it/s]\n"
     ]
    },
    {
     "name": "stdout",
     "output_type": "stream",
     "text": [
      "[Generation: 14] - Best Fitness: 89.9\n"
     ]
    },
    {
     "name": "stderr",
     "output_type": "stream",
     "text": [
      "Generating Offspring: 100%|█████████████████████████████████| 25/25 [00:05<00:00,  4.48it/s]\n",
      "Calculating fitnesses: 100%|████████████████████████████████| 50/50 [00:01<00:00, 27.54it/s]\n"
     ]
    },
    {
     "name": "stdout",
     "output_type": "stream",
     "text": [
      "[Generation: 15] - Best Fitness: 85.6\n"
     ]
    },
    {
     "name": "stderr",
     "output_type": "stream",
     "text": [
      "Generating Offspring: 100%|█████████████████████████████████| 25/25 [00:05<00:00,  4.39it/s]\n",
      "Calculating fitnesses: 100%|████████████████████████████████| 50/50 [00:01<00:00, 28.15it/s]\n"
     ]
    },
    {
     "name": "stdout",
     "output_type": "stream",
     "text": [
      "[Generation: 16] - Best Fitness: 74.5\n"
     ]
    },
    {
     "name": "stderr",
     "output_type": "stream",
     "text": [
      "Generating Offspring: 100%|█████████████████████████████████| 25/25 [00:05<00:00,  4.29it/s]\n",
      "Calculating fitnesses: 100%|████████████████████████████████| 50/50 [00:02<00:00, 24.57it/s]\n"
     ]
    },
    {
     "name": "stdout",
     "output_type": "stream",
     "text": [
      "[Generation: 17] - Best Fitness: 434.5\n"
     ]
    },
    {
     "name": "stderr",
     "output_type": "stream",
     "text": [
      "Generating Offspring: 100%|█████████████████████████████████| 25/25 [00:07<00:00,  3.43it/s]\n",
      "Calculating fitnesses: 100%|████████████████████████████████| 50/50 [00:02<00:00, 18.73it/s]\n"
     ]
    },
    {
     "name": "stdout",
     "output_type": "stream",
     "text": [
      "[Generation: 18] - Best Fitness: 446.7\n"
     ]
    },
    {
     "name": "stderr",
     "output_type": "stream",
     "text": [
      "Generating Offspring: 100%|█████████████████████████████████| 25/25 [00:09<00:00,  2.57it/s]\n",
      "Calculating fitnesses: 100%|████████████████████████████████| 50/50 [00:04<00:00, 12.37it/s]\n"
     ]
    },
    {
     "name": "stdout",
     "output_type": "stream",
     "text": [
      "[Generation: 19] - Best Fitness: 455.0\n"
     ]
    },
    {
     "name": "stderr",
     "output_type": "stream",
     "text": [
      "Generating Offspring: 100%|█████████████████████████████████| 25/25 [00:17<00:00,  1.42it/s]\n",
      "Calculating fitnesses: 100%|████████████████████████████████| 50/50 [00:08<00:00,  5.94it/s]\n"
     ]
    },
    {
     "name": "stdout",
     "output_type": "stream",
     "text": [
      "[Generation: 20] - Best Fitness: 464.6\n"
     ]
    },
    {
     "name": "stderr",
     "output_type": "stream",
     "text": [
      "Generating Offspring: 100%|█████████████████████████████████| 25/25 [00:33<00:00,  1.33s/it]\n",
      "Calculating fitnesses: 100%|████████████████████████████████| 50/50 [00:14<00:00,  3.37it/s]\n"
     ]
    },
    {
     "name": "stdout",
     "output_type": "stream",
     "text": [
      "[Generation: 21] - Best Fitness: 470.3\n"
     ]
    },
    {
     "name": "stderr",
     "output_type": "stream",
     "text": [
      "Generating Offspring: 100%|█████████████████████████████████| 25/25 [00:47<00:00,  1.92s/it]\n",
      "Calculating fitnesses: 100%|████████████████████████████████| 50/50 [00:16<00:00,  3.06it/s]\n"
     ]
    },
    {
     "name": "stdout",
     "output_type": "stream",
     "text": [
      "[Generation: 22] - Best Fitness: 468.4\n"
     ]
    },
    {
     "name": "stderr",
     "output_type": "stream",
     "text": [
      "Generating Offspring: 100%|█████████████████████████████████| 25/25 [00:54<00:00,  2.18s/it]\n",
      "Calculating fitnesses: 100%|████████████████████████████████| 50/50 [00:16<00:00,  2.97it/s]\n"
     ]
    },
    {
     "name": "stdout",
     "output_type": "stream",
     "text": [
      "[Generation: 23] - Best Fitness: 474.0\n"
     ]
    },
    {
     "name": "stderr",
     "output_type": "stream",
     "text": [
      "Generating Offspring: 100%|█████████████████████████████████| 25/25 [00:57<00:00,  2.28s/it]\n",
      "Calculating fitnesses: 100%|████████████████████████████████| 50/50 [00:17<00:00,  2.91it/s]\n"
     ]
    },
    {
     "name": "stdout",
     "output_type": "stream",
     "text": [
      "[Generation: 24] - Best Fitness: 470.3\n"
     ]
    },
    {
     "name": "stderr",
     "output_type": "stream",
     "text": [
      "Generating Offspring: 100%|█████████████████████████████████| 25/25 [00:55<00:00,  2.23s/it]\n",
      "Calculating fitnesses: 100%|████████████████████████████████| 50/50 [00:17<00:00,  2.87it/s]\n"
     ]
    },
    {
     "name": "stdout",
     "output_type": "stream",
     "text": [
      "[Generation: 25] - Best Fitness: 470.6\n"
     ]
    },
    {
     "name": "stderr",
     "output_type": "stream",
     "text": [
      "Generating Offspring: 100%|█████████████████████████████████| 25/25 [00:56<00:00,  2.26s/it]\n",
      "Calculating fitnesses: 100%|████████████████████████████████| 50/50 [00:16<00:00,  2.96it/s]\n"
     ]
    },
    {
     "name": "stdout",
     "output_type": "stream",
     "text": [
      "[Generation: 26] - Best Fitness: 475.4\n"
     ]
    },
    {
     "name": "stderr",
     "output_type": "stream",
     "text": [
      "Generating Offspring: 100%|█████████████████████████████████| 25/25 [00:54<00:00,  2.18s/it]\n",
      "Calculating fitnesses: 100%|████████████████████████████████| 50/50 [00:17<00:00,  2.89it/s]\n"
     ]
    },
    {
     "name": "stdout",
     "output_type": "stream",
     "text": [
      "[Generation: 27] - Best Fitness: 475.2\n"
     ]
    },
    {
     "name": "stderr",
     "output_type": "stream",
     "text": [
      "Generating Offspring: 100%|█████████████████████████████████| 25/25 [00:56<00:00,  2.25s/it]\n",
      "Calculating fitnesses: 100%|████████████████████████████████| 50/50 [00:16<00:00,  2.98it/s]\n"
     ]
    },
    {
     "name": "stdout",
     "output_type": "stream",
     "text": [
      "[Generation: 28] - Best Fitness: 471.2\n"
     ]
    },
    {
     "name": "stderr",
     "output_type": "stream",
     "text": [
      "Generating Offspring: 100%|█████████████████████████████████| 25/25 [00:55<00:00,  2.20s/it]\n",
      "Calculating fitnesses: 100%|████████████████████████████████| 50/50 [00:17<00:00,  2.89it/s]\n"
     ]
    },
    {
     "name": "stdout",
     "output_type": "stream",
     "text": [
      "[Generation: 29] - Best Fitness: 475.7\n"
     ]
    },
    {
     "name": "stderr",
     "output_type": "stream",
     "text": [
      "Generating Offspring: 100%|█████████████████████████████████| 25/25 [00:55<00:00,  2.24s/it]\n",
      "Calculating fitnesses: 100%|████████████████████████████████| 50/50 [00:17<00:00,  2.91it/s]\n"
     ]
    },
    {
     "name": "stdout",
     "output_type": "stream",
     "text": [
      "[Generation: 30] - Best Fitness: 463.0\n"
     ]
    },
    {
     "name": "stderr",
     "output_type": "stream",
     "text": [
      "Generating Offspring: 100%|█████████████████████████████████| 25/25 [00:55<00:00,  2.20s/it]\n",
      "Calculating fitnesses: 100%|████████████████████████████████| 50/50 [00:16<00:00,  2.98it/s]\n"
     ]
    },
    {
     "name": "stdout",
     "output_type": "stream",
     "text": [
      "[Generation: 31] - Best Fitness: 470.6\n"
     ]
    },
    {
     "name": "stderr",
     "output_type": "stream",
     "text": [
      "Generating Offspring: 100%|█████████████████████████████████| 25/25 [00:54<00:00,  2.18s/it]\n",
      "Calculating fitnesses: 100%|████████████████████████████████| 50/50 [00:16<00:00,  2.97it/s]\n"
     ]
    },
    {
     "name": "stdout",
     "output_type": "stream",
     "text": [
      "[Generation: 32] - Best Fitness: 469.3\n"
     ]
    },
    {
     "name": "stderr",
     "output_type": "stream",
     "text": [
      "Generating Offspring: 100%|█████████████████████████████████| 25/25 [00:56<00:00,  2.24s/it]\n",
      "Calculating fitnesses: 100%|████████████████████████████████| 50/50 [00:17<00:00,  2.89it/s]\n"
     ]
    },
    {
     "name": "stdout",
     "output_type": "stream",
     "text": [
      "[Generation: 33] - Best Fitness: 465.2\n"
     ]
    },
    {
     "name": "stderr",
     "output_type": "stream",
     "text": [
      "Generating Offspring: 100%|█████████████████████████████████| 25/25 [00:56<00:00,  2.25s/it]\n",
      "Calculating fitnesses: 100%|████████████████████████████████| 50/50 [00:17<00:00,  2.91it/s]\n"
     ]
    },
    {
     "name": "stdout",
     "output_type": "stream",
     "text": [
      "[Generation: 34] - Best Fitness: 464.1\n"
     ]
    },
    {
     "name": "stderr",
     "output_type": "stream",
     "text": [
      "Generating Offspring: 100%|█████████████████████████████████| 25/25 [00:56<00:00,  2.25s/it]\n",
      "Calculating fitnesses: 100%|████████████████████████████████| 50/50 [00:16<00:00,  3.04it/s]\n"
     ]
    },
    {
     "name": "stdout",
     "output_type": "stream",
     "text": [
      "[Generation: 35] - Best Fitness: 474.8\n"
     ]
    },
    {
     "name": "stderr",
     "output_type": "stream",
     "text": [
      "Generating Offspring: 100%|█████████████████████████████████| 25/25 [00:54<00:00,  2.17s/it]\n",
      "Calculating fitnesses: 100%|████████████████████████████████| 50/50 [00:17<00:00,  2.89it/s]\n"
     ]
    },
    {
     "name": "stdout",
     "output_type": "stream",
     "text": [
      "[Generation: 36] - Best Fitness: 476.6\n"
     ]
    },
    {
     "name": "stderr",
     "output_type": "stream",
     "text": [
      "Generating Offspring: 100%|█████████████████████████████████| 25/25 [00:55<00:00,  2.23s/it]\n",
      "Calculating fitnesses: 100%|████████████████████████████████| 50/50 [00:16<00:00,  2.96it/s]\n"
     ]
    },
    {
     "name": "stdout",
     "output_type": "stream",
     "text": [
      "[Generation: 37] - Best Fitness: 498.1\n"
     ]
    },
    {
     "name": "stderr",
     "output_type": "stream",
     "text": [
      "Generating Offspring: 100%|█████████████████████████████████| 25/25 [00:56<00:00,  2.25s/it]\n",
      "Calculating fitnesses: 100%|████████████████████████████████| 50/50 [00:17<00:00,  2.88it/s]\n"
     ]
    },
    {
     "name": "stdout",
     "output_type": "stream",
     "text": [
      "[Generation: 38] - Best Fitness: 499.9\n"
     ]
    },
    {
     "name": "stderr",
     "output_type": "stream",
     "text": [
      "Generating Offspring: 100%|█████████████████████████████████| 25/25 [00:58<00:00,  2.32s/it]\n",
      "Calculating fitnesses: 100%|████████████████████████████████| 50/50 [00:17<00:00,  2.81it/s]\n"
     ]
    },
    {
     "name": "stdout",
     "output_type": "stream",
     "text": [
      "[Generation: 39] - Best Fitness: 500.0\n"
     ]
    },
    {
     "name": "stderr",
     "output_type": "stream",
     "text": [
      "Generating Offspring: 100%|█████████████████████████████████| 25/25 [00:59<00:00,  2.37s/it]\n",
      "Calculating fitnesses: 100%|████████████████████████████████| 50/50 [00:19<00:00,  2.58it/s]\n"
     ]
    },
    {
     "name": "stdout",
     "output_type": "stream",
     "text": [
      "[Generation: 40] - Best Fitness: 500.0\n"
     ]
    },
    {
     "name": "stderr",
     "output_type": "stream",
     "text": [
      "Generating Offspring: 100%|█████████████████████████████████| 25/25 [01:03<00:00,  2.56s/it]\n",
      "Calculating fitnesses: 100%|████████████████████████████████| 50/50 [00:20<00:00,  2.49it/s]\n"
     ]
    },
    {
     "name": "stdout",
     "output_type": "stream",
     "text": [
      "[Generation: 41] - Best Fitness: 500.0\n"
     ]
    },
    {
     "name": "stderr",
     "output_type": "stream",
     "text": [
      "Generating Offspring: 100%|█████████████████████████████████| 25/25 [01:04<00:00,  2.60s/it]\n",
      "Calculating fitnesses: 100%|████████████████████████████████| 50/50 [00:19<00:00,  2.56it/s]\n"
     ]
    },
    {
     "name": "stdout",
     "output_type": "stream",
     "text": [
      "[Generation: 42] - Best Fitness: 500.0\n"
     ]
    },
    {
     "name": "stderr",
     "output_type": "stream",
     "text": [
      "Generating Offspring: 100%|█████████████████████████████████| 25/25 [01:04<00:00,  2.57s/it]\n",
      "Calculating fitnesses: 100%|████████████████████████████████| 50/50 [00:19<00:00,  2.55it/s]\n"
     ]
    },
    {
     "name": "stdout",
     "output_type": "stream",
     "text": [
      "[Generation: 43] - Best Fitness: 500.0\n"
     ]
    },
    {
     "name": "stderr",
     "output_type": "stream",
     "text": [
      "Generating Offspring: 100%|█████████████████████████████████| 25/25 [01:04<00:00,  2.57s/it]\n",
      "Calculating fitnesses: 100%|████████████████████████████████| 50/50 [00:19<00:00,  2.52it/s]\n"
     ]
    },
    {
     "name": "stdout",
     "output_type": "stream",
     "text": [
      "[Generation: 44] - Best Fitness: 500.0\n"
     ]
    },
    {
     "name": "stderr",
     "output_type": "stream",
     "text": [
      "Generating Offspring: 100%|█████████████████████████████████| 25/25 [01:04<00:00,  2.59s/it]\n",
      "Calculating fitnesses: 100%|████████████████████████████████| 50/50 [00:19<00:00,  2.52it/s]\n"
     ]
    },
    {
     "name": "stdout",
     "output_type": "stream",
     "text": [
      "[Generation: 45] - Best Fitness: 500.0\n"
     ]
    },
    {
     "name": "stderr",
     "output_type": "stream",
     "text": [
      "Generating Offspring: 100%|█████████████████████████████████| 25/25 [01:04<00:00,  2.59s/it]\n",
      "Calculating fitnesses: 100%|████████████████████████████████| 50/50 [00:19<00:00,  2.50it/s]\n"
     ]
    },
    {
     "name": "stdout",
     "output_type": "stream",
     "text": [
      "[Generation: 46] - Best Fitness: 500.0\n"
     ]
    },
    {
     "name": "stderr",
     "output_type": "stream",
     "text": [
      "Generating Offspring: 100%|█████████████████████████████████| 25/25 [01:04<00:00,  2.59s/it]\n",
      "Calculating fitnesses: 100%|████████████████████████████████| 50/50 [00:19<00:00,  2.54it/s]\n"
     ]
    },
    {
     "name": "stdout",
     "output_type": "stream",
     "text": [
      "[Generation: 47] - Best Fitness: 500.0\n"
     ]
    },
    {
     "name": "stderr",
     "output_type": "stream",
     "text": [
      "Generating Offspring: 100%|█████████████████████████████████| 25/25 [01:03<00:00,  2.56s/it]\n",
      "Calculating fitnesses: 100%|████████████████████████████████| 50/50 [00:20<00:00,  2.50it/s]\n"
     ]
    },
    {
     "name": "stdout",
     "output_type": "stream",
     "text": [
      "[Generation: 48] - Best Fitness: 500.0\n"
     ]
    },
    {
     "name": "stderr",
     "output_type": "stream",
     "text": [
      "Generating Offspring: 100%|█████████████████████████████████| 25/25 [01:05<00:00,  2.61s/it]\n",
      "Calculating fitnesses: 100%|████████████████████████████████| 50/50 [00:20<00:00,  2.50it/s]\n"
     ]
    },
    {
     "name": "stdout",
     "output_type": "stream",
     "text": [
      "[Generation: 49] - Best Fitness: 500.0\n"
     ]
    },
    {
     "name": "stderr",
     "output_type": "stream",
     "text": [
      "Generating Offspring: 100%|█████████████████████████████████| 25/25 [01:04<00:00,  2.60s/it]\n",
      "Calculating fitnesses: 100%|████████████████████████████████| 50/50 [00:19<00:00,  2.52it/s]\n"
     ]
    },
    {
     "name": "stdout",
     "output_type": "stream",
     "text": [
      "[Generation: 50] - Best Fitness: 500.0\n"
     ]
    },
    {
     "name": "stderr",
     "output_type": "stream",
     "text": [
      "Generating Offspring: 100%|█████████████████████████████████| 25/25 [01:04<00:00,  2.60s/it]\n",
      "Calculating fitnesses: 100%|████████████████████████████████| 50/50 [00:19<00:00,  2.51it/s]\n"
     ]
    },
    {
     "name": "stdout",
     "output_type": "stream",
     "text": [
      "[Generation: 51] - Best Fitness: 500.0\n"
     ]
    },
    {
     "name": "stderr",
     "output_type": "stream",
     "text": [
      "Generating Offspring: 100%|█████████████████████████████████| 25/25 [01:04<00:00,  2.60s/it]\n",
      "Calculating fitnesses: 100%|████████████████████████████████| 50/50 [00:19<00:00,  2.51it/s]\n"
     ]
    },
    {
     "name": "stdout",
     "output_type": "stream",
     "text": [
      "[Generation: 52] - Best Fitness: 500.0\n"
     ]
    },
    {
     "name": "stderr",
     "output_type": "stream",
     "text": [
      "Generating Offspring: 100%|█████████████████████████████████| 25/25 [01:04<00:00,  2.59s/it]\n",
      "Calculating fitnesses: 100%|████████████████████████████████| 50/50 [00:19<00:00,  2.50it/s]\n"
     ]
    },
    {
     "name": "stdout",
     "output_type": "stream",
     "text": [
      "[Generation: 53] - Best Fitness: 500.0\n"
     ]
    },
    {
     "name": "stderr",
     "output_type": "stream",
     "text": [
      "Generating Offspring: 100%|█████████████████████████████████| 25/25 [01:04<00:00,  2.60s/it]\n",
      "Calculating fitnesses: 100%|████████████████████████████████| 50/50 [00:19<00:00,  2.51it/s]\n"
     ]
    },
    {
     "name": "stdout",
     "output_type": "stream",
     "text": [
      "[Generation: 54] - Best Fitness: 500.0\n"
     ]
    },
    {
     "name": "stderr",
     "output_type": "stream",
     "text": [
      "Generating Offspring: 100%|█████████████████████████████████| 25/25 [01:04<00:00,  2.60s/it]\n",
      "Calculating fitnesses: 100%|████████████████████████████████| 50/50 [00:19<00:00,  2.56it/s]\n"
     ]
    },
    {
     "name": "stdout",
     "output_type": "stream",
     "text": [
      "[Generation: 55] - Best Fitness: 500.0\n"
     ]
    },
    {
     "name": "stderr",
     "output_type": "stream",
     "text": [
      "Generating Offspring: 100%|█████████████████████████████████| 25/25 [01:03<00:00,  2.55s/it]\n",
      "Calculating fitnesses: 100%|████████████████████████████████| 50/50 [00:19<00:00,  2.51it/s]\n"
     ]
    },
    {
     "name": "stdout",
     "output_type": "stream",
     "text": [
      "[Generation: 56] - Best Fitness: 500.0\n"
     ]
    },
    {
     "name": "stderr",
     "output_type": "stream",
     "text": [
      "Generating Offspring: 100%|█████████████████████████████████| 25/25 [01:04<00:00,  2.60s/it]\n",
      "Calculating fitnesses: 100%|████████████████████████████████| 50/50 [00:19<00:00,  2.55it/s]\n"
     ]
    },
    {
     "name": "stdout",
     "output_type": "stream",
     "text": [
      "[Generation: 57] - Best Fitness: 500.0\n"
     ]
    },
    {
     "name": "stderr",
     "output_type": "stream",
     "text": [
      "Generating Offspring: 100%|█████████████████████████████████| 25/25 [01:04<00:00,  2.59s/it]\n",
      "Calculating fitnesses: 100%|████████████████████████████████| 50/50 [00:19<00:00,  2.51it/s]\n"
     ]
    },
    {
     "name": "stdout",
     "output_type": "stream",
     "text": [
      "[Generation: 58] - Best Fitness: 500.0\n"
     ]
    },
    {
     "name": "stderr",
     "output_type": "stream",
     "text": [
      "Generating Offspring: 100%|█████████████████████████████████| 25/25 [01:04<00:00,  2.60s/it]\n",
      "Calculating fitnesses: 100%|████████████████████████████████| 50/50 [00:19<00:00,  2.52it/s]\n"
     ]
    },
    {
     "name": "stdout",
     "output_type": "stream",
     "text": [
      "[Generation: 59] - Best Fitness: 500.0\n"
     ]
    },
    {
     "name": "stderr",
     "output_type": "stream",
     "text": [
      "Generating Offspring: 100%|█████████████████████████████████| 25/25 [01:04<00:00,  2.60s/it]\n",
      "Calculating fitnesses: 100%|████████████████████████████████| 50/50 [00:19<00:00,  2.51it/s]\n"
     ]
    },
    {
     "name": "stdout",
     "output_type": "stream",
     "text": [
      "[Generation: 60] - Best Fitness: 500.0\n"
     ]
    },
    {
     "name": "stderr",
     "output_type": "stream",
     "text": [
      "Generating Offspring: 100%|█████████████████████████████████| 25/25 [01:03<00:00,  2.53s/it]\n",
      "Calculating fitnesses: 100%|████████████████████████████████| 50/50 [00:19<00:00,  2.59it/s]\n"
     ]
    },
    {
     "name": "stdout",
     "output_type": "stream",
     "text": [
      "[Generation: 61] - Best Fitness: 500.0\n"
     ]
    },
    {
     "name": "stderr",
     "output_type": "stream",
     "text": [
      "Generating Offspring: 100%|█████████████████████████████████| 25/25 [01:03<00:00,  2.52s/it]\n",
      "Calculating fitnesses: 100%|████████████████████████████████| 50/50 [00:19<00:00,  2.56it/s]\n"
     ]
    },
    {
     "name": "stdout",
     "output_type": "stream",
     "text": [
      "[Generation: 62] - Best Fitness: 500.0\n"
     ]
    },
    {
     "name": "stderr",
     "output_type": "stream",
     "text": [
      "Generating Offspring: 100%|█████████████████████████████████| 25/25 [01:03<00:00,  2.53s/it]\n",
      "Calculating fitnesses: 100%|████████████████████████████████| 50/50 [00:19<00:00,  2.57it/s]\n"
     ]
    },
    {
     "name": "stdout",
     "output_type": "stream",
     "text": [
      "[Generation: 63] - Best Fitness: 500.0\n"
     ]
    },
    {
     "name": "stderr",
     "output_type": "stream",
     "text": [
      "Generating Offspring: 100%|█████████████████████████████████| 25/25 [01:02<00:00,  2.52s/it]\n",
      "Calculating fitnesses: 100%|████████████████████████████████| 50/50 [00:19<00:00,  2.58it/s]\n"
     ]
    },
    {
     "name": "stdout",
     "output_type": "stream",
     "text": [
      "[Generation: 64] - Best Fitness: 500.0\n"
     ]
    },
    {
     "name": "stderr",
     "output_type": "stream",
     "text": [
      "Generating Offspring: 100%|█████████████████████████████████| 25/25 [01:02<00:00,  2.52s/it]\n",
      "Calculating fitnesses: 100%|████████████████████████████████| 50/50 [00:19<00:00,  2.62it/s]\n"
     ]
    },
    {
     "name": "stdout",
     "output_type": "stream",
     "text": [
      "[Generation: 65] - Best Fitness: 500.0\n"
     ]
    },
    {
     "name": "stderr",
     "output_type": "stream",
     "text": [
      "Generating Offspring: 100%|█████████████████████████████████| 25/25 [01:02<00:00,  2.51s/it]\n",
      "Calculating fitnesses: 100%|████████████████████████████████| 50/50 [00:19<00:00,  2.60it/s]\n"
     ]
    },
    {
     "name": "stdout",
     "output_type": "stream",
     "text": [
      "[Generation: 66] - Best Fitness: 500.0\n"
     ]
    },
    {
     "name": "stderr",
     "output_type": "stream",
     "text": [
      "Generating Offspring: 100%|█████████████████████████████████| 25/25 [01:03<00:00,  2.53s/it]\n",
      "Calculating fitnesses: 100%|████████████████████████████████| 50/50 [00:19<00:00,  2.59it/s]\n"
     ]
    },
    {
     "name": "stdout",
     "output_type": "stream",
     "text": [
      "[Generation: 67] - Best Fitness: 500.0\n"
     ]
    },
    {
     "name": "stderr",
     "output_type": "stream",
     "text": [
      "Generating Offspring: 100%|█████████████████████████████████| 25/25 [01:03<00:00,  2.53s/it]\n",
      "Calculating fitnesses: 100%|████████████████████████████████| 50/50 [00:19<00:00,  2.57it/s]\n"
     ]
    },
    {
     "name": "stdout",
     "output_type": "stream",
     "text": [
      "[Generation: 68] - Best Fitness: 500.0\n"
     ]
    },
    {
     "name": "stderr",
     "output_type": "stream",
     "text": [
      "Generating Offspring: 100%|█████████████████████████████████| 25/25 [01:03<00:00,  2.53s/it]\n",
      "Calculating fitnesses: 100%|████████████████████████████████| 50/50 [00:19<00:00,  2.56it/s]\n"
     ]
    },
    {
     "name": "stdout",
     "output_type": "stream",
     "text": [
      "[Generation: 69] - Best Fitness: 500.0\n"
     ]
    },
    {
     "name": "stderr",
     "output_type": "stream",
     "text": [
      "Generating Offspring: 100%|█████████████████████████████████| 25/25 [01:03<00:00,  2.55s/it]\n",
      "Calculating fitnesses: 100%|████████████████████████████████| 50/50 [00:19<00:00,  2.55it/s]\n"
     ]
    },
    {
     "name": "stdout",
     "output_type": "stream",
     "text": [
      "[Generation: 70] - Best Fitness: 500.0\n"
     ]
    },
    {
     "name": "stderr",
     "output_type": "stream",
     "text": [
      "Generating Offspring: 100%|█████████████████████████████████| 25/25 [01:03<00:00,  2.54s/it]\n",
      "Calculating fitnesses: 100%|████████████████████████████████| 50/50 [00:19<00:00,  2.55it/s]\n"
     ]
    },
    {
     "name": "stdout",
     "output_type": "stream",
     "text": [
      "[Generation: 71] - Best Fitness: 500.0\n"
     ]
    },
    {
     "name": "stderr",
     "output_type": "stream",
     "text": [
      "Generating Offspring: 100%|█████████████████████████████████| 25/25 [01:03<00:00,  2.54s/it]\n",
      "Calculating fitnesses: 100%|████████████████████████████████| 50/50 [00:19<00:00,  2.60it/s]\n"
     ]
    },
    {
     "name": "stdout",
     "output_type": "stream",
     "text": [
      "[Generation: 72] - Best Fitness: 500.0\n"
     ]
    },
    {
     "name": "stderr",
     "output_type": "stream",
     "text": [
      "Generating Offspring: 100%|█████████████████████████████████| 25/25 [01:03<00:00,  2.54s/it]\n",
      "Calculating fitnesses: 100%|████████████████████████████████| 50/50 [00:19<00:00,  2.55it/s]\n"
     ]
    },
    {
     "name": "stdout",
     "output_type": "stream",
     "text": [
      "[Generation: 73] - Best Fitness: 500.0\n"
     ]
    },
    {
     "name": "stderr",
     "output_type": "stream",
     "text": [
      "Generating Offspring: 100%|█████████████████████████████████| 25/25 [01:03<00:00,  2.54s/it]\n",
      "Calculating fitnesses: 100%|████████████████████████████████| 50/50 [00:19<00:00,  2.59it/s]\n"
     ]
    },
    {
     "name": "stdout",
     "output_type": "stream",
     "text": [
      "[Generation: 74] - Best Fitness: 500.0\n"
     ]
    },
    {
     "name": "stderr",
     "output_type": "stream",
     "text": [
      "Generating Offspring: 100%|█████████████████████████████████| 25/25 [01:03<00:00,  2.52s/it]\n",
      "Calculating fitnesses: 100%|████████████████████████████████| 50/50 [00:19<00:00,  2.56it/s]\n"
     ]
    },
    {
     "name": "stdout",
     "output_type": "stream",
     "text": [
      "[Generation: 75] - Best Fitness: 500.0\n"
     ]
    },
    {
     "name": "stderr",
     "output_type": "stream",
     "text": [
      "Generating Offspring: 100%|█████████████████████████████████| 25/25 [01:03<00:00,  2.53s/it]\n",
      "Calculating fitnesses: 100%|████████████████████████████████| 50/50 [00:19<00:00,  2.57it/s]\n"
     ]
    },
    {
     "name": "stdout",
     "output_type": "stream",
     "text": [
      "[Generation: 76] - Best Fitness: 500.0\n"
     ]
    },
    {
     "name": "stderr",
     "output_type": "stream",
     "text": [
      "Generating Offspring: 100%|█████████████████████████████████| 25/25 [01:03<00:00,  2.53s/it]\n",
      "Calculating fitnesses: 100%|████████████████████████████████| 50/50 [00:19<00:00,  2.62it/s]\n"
     ]
    },
    {
     "name": "stdout",
     "output_type": "stream",
     "text": [
      "[Generation: 77] - Best Fitness: 500.0\n"
     ]
    },
    {
     "name": "stderr",
     "output_type": "stream",
     "text": [
      "Generating Offspring: 100%|█████████████████████████████████| 25/25 [01:02<00:00,  2.50s/it]\n",
      "Calculating fitnesses: 100%|████████████████████████████████| 50/50 [00:19<00:00,  2.57it/s]\n"
     ]
    },
    {
     "name": "stdout",
     "output_type": "stream",
     "text": [
      "[Generation: 78] - Best Fitness: 500.0\n"
     ]
    },
    {
     "name": "stderr",
     "output_type": "stream",
     "text": [
      "Generating Offspring: 100%|█████████████████████████████████| 25/25 [01:03<00:00,  2.53s/it]\n",
      "Calculating fitnesses: 100%|████████████████████████████████| 50/50 [00:19<00:00,  2.55it/s]\n"
     ]
    },
    {
     "name": "stdout",
     "output_type": "stream",
     "text": [
      "[Generation: 79] - Best Fitness: 500.0\n"
     ]
    },
    {
     "name": "stderr",
     "output_type": "stream",
     "text": [
      "Generating Offspring: 100%|█████████████████████████████████| 25/25 [01:03<00:00,  2.54s/it]\n",
      "Calculating fitnesses: 100%|████████████████████████████████| 50/50 [00:19<00:00,  2.55it/s]\n"
     ]
    },
    {
     "name": "stdout",
     "output_type": "stream",
     "text": [
      "[Generation: 80] - Best Fitness: 500.0\n"
     ]
    },
    {
     "name": "stderr",
     "output_type": "stream",
     "text": [
      "Generating Offspring: 100%|█████████████████████████████████| 25/25 [01:03<00:00,  2.52s/it]\n",
      "Calculating fitnesses: 100%|████████████████████████████████| 50/50 [00:19<00:00,  2.62it/s]\n"
     ]
    },
    {
     "name": "stdout",
     "output_type": "stream",
     "text": [
      "[Generation: 81] - Best Fitness: 500.0\n"
     ]
    },
    {
     "name": "stderr",
     "output_type": "stream",
     "text": [
      "Generating Offspring: 100%|█████████████████████████████████| 25/25 [01:01<00:00,  2.44s/it]\n",
      "Calculating fitnesses: 100%|████████████████████████████████| 50/50 [00:19<00:00,  2.55it/s]\n"
     ]
    },
    {
     "name": "stdout",
     "output_type": "stream",
     "text": [
      "[Generation: 82] - Best Fitness: 500.0\n"
     ]
    },
    {
     "name": "stderr",
     "output_type": "stream",
     "text": [
      "Generating Offspring: 100%|█████████████████████████████████| 25/25 [01:03<00:00,  2.53s/it]\n",
      "Calculating fitnesses: 100%|████████████████████████████████| 50/50 [00:19<00:00,  2.54it/s]\n"
     ]
    },
    {
     "name": "stdout",
     "output_type": "stream",
     "text": [
      "[Generation: 83] - Best Fitness: 500.0\n"
     ]
    },
    {
     "name": "stderr",
     "output_type": "stream",
     "text": [
      "Generating Offspring: 100%|█████████████████████████████████| 25/25 [01:03<00:00,  2.53s/it]\n",
      "Calculating fitnesses: 100%|████████████████████████████████| 50/50 [00:19<00:00,  2.55it/s]\n"
     ]
    },
    {
     "name": "stdout",
     "output_type": "stream",
     "text": [
      "[Generation: 84] - Best Fitness: 500.0\n"
     ]
    },
    {
     "name": "stderr",
     "output_type": "stream",
     "text": [
      "Generating Offspring: 100%|█████████████████████████████████| 25/25 [01:03<00:00,  2.54s/it]\n",
      "Calculating fitnesses: 100%|████████████████████████████████| 50/50 [00:19<00:00,  2.57it/s]\n"
     ]
    },
    {
     "name": "stdout",
     "output_type": "stream",
     "text": [
      "[Generation: 85] - Best Fitness: 500.0\n"
     ]
    },
    {
     "name": "stderr",
     "output_type": "stream",
     "text": [
      "Generating Offspring: 100%|█████████████████████████████████| 25/25 [01:03<00:00,  2.53s/it]\n",
      "Calculating fitnesses: 100%|████████████████████████████████| 50/50 [00:19<00:00,  2.58it/s]\n"
     ]
    },
    {
     "name": "stdout",
     "output_type": "stream",
     "text": [
      "[Generation: 86] - Best Fitness: 500.0\n"
     ]
    },
    {
     "name": "stderr",
     "output_type": "stream",
     "text": [
      "Generating Offspring: 100%|█████████████████████████████████| 25/25 [01:03<00:00,  2.54s/it]\n",
      "Calculating fitnesses: 100%|████████████████████████████████| 50/50 [00:19<00:00,  2.58it/s]\n"
     ]
    },
    {
     "name": "stdout",
     "output_type": "stream",
     "text": [
      "[Generation: 87] - Best Fitness: 500.0\n"
     ]
    },
    {
     "name": "stderr",
     "output_type": "stream",
     "text": [
      "Generating Offspring: 100%|█████████████████████████████████| 25/25 [01:03<00:00,  2.55s/it]\n",
      "Calculating fitnesses: 100%|████████████████████████████████| 50/50 [00:19<00:00,  2.57it/s]\n"
     ]
    },
    {
     "name": "stdout",
     "output_type": "stream",
     "text": [
      "[Generation: 88] - Best Fitness: 500.0\n"
     ]
    },
    {
     "name": "stderr",
     "output_type": "stream",
     "text": [
      "Generating Offspring: 100%|█████████████████████████████████| 25/25 [01:03<00:00,  2.55s/it]\n",
      "Calculating fitnesses: 100%|████████████████████████████████| 50/50 [00:19<00:00,  2.57it/s]\n"
     ]
    },
    {
     "name": "stdout",
     "output_type": "stream",
     "text": [
      "[Generation: 89] - Best Fitness: 500.0\n"
     ]
    },
    {
     "name": "stderr",
     "output_type": "stream",
     "text": [
      "Generating Offspring: 100%|█████████████████████████████████| 25/25 [01:03<00:00,  2.54s/it]\n",
      "Calculating fitnesses: 100%|████████████████████████████████| 50/50 [00:19<00:00,  2.58it/s]\n"
     ]
    },
    {
     "name": "stdout",
     "output_type": "stream",
     "text": [
      "[Generation: 90] - Best Fitness: 500.0\n"
     ]
    },
    {
     "name": "stderr",
     "output_type": "stream",
     "text": [
      "Generating Offspring: 100%|█████████████████████████████████| 25/25 [01:03<00:00,  2.54s/it]\n",
      "Calculating fitnesses: 100%|████████████████████████████████| 50/50 [00:19<00:00,  2.56it/s]\n"
     ]
    },
    {
     "name": "stdout",
     "output_type": "stream",
     "text": [
      "[Generation: 91] - Best Fitness: 500.0\n"
     ]
    },
    {
     "name": "stderr",
     "output_type": "stream",
     "text": [
      "Generating Offspring: 100%|█████████████████████████████████| 25/25 [01:03<00:00,  2.54s/it]\n",
      "Calculating fitnesses: 100%|████████████████████████████████| 50/50 [00:19<00:00,  2.56it/s]\n"
     ]
    },
    {
     "name": "stdout",
     "output_type": "stream",
     "text": [
      "[Generation: 92] - Best Fitness: 500.0\n"
     ]
    },
    {
     "name": "stderr",
     "output_type": "stream",
     "text": [
      "Generating Offspring: 100%|█████████████████████████████████| 25/25 [01:03<00:00,  2.53s/it]\n",
      "Calculating fitnesses: 100%|████████████████████████████████| 50/50 [00:19<00:00,  2.54it/s]\n"
     ]
    },
    {
     "name": "stdout",
     "output_type": "stream",
     "text": [
      "[Generation: 93] - Best Fitness: 500.0\n"
     ]
    },
    {
     "name": "stderr",
     "output_type": "stream",
     "text": [
      "Generating Offspring: 100%|█████████████████████████████████| 25/25 [01:03<00:00,  2.54s/it]\n",
      "Calculating fitnesses: 100%|████████████████████████████████| 50/50 [00:19<00:00,  2.56it/s]\n"
     ]
    },
    {
     "name": "stdout",
     "output_type": "stream",
     "text": [
      "[Generation: 94] - Best Fitness: 500.0\n"
     ]
    },
    {
     "name": "stderr",
     "output_type": "stream",
     "text": [
      "Generating Offspring: 100%|█████████████████████████████████| 25/25 [01:03<00:00,  2.53s/it]\n",
      "Calculating fitnesses: 100%|████████████████████████████████| 50/50 [00:19<00:00,  2.57it/s]\n"
     ]
    },
    {
     "name": "stdout",
     "output_type": "stream",
     "text": [
      "[Generation: 95] - Best Fitness: 500.0\n"
     ]
    },
    {
     "name": "stderr",
     "output_type": "stream",
     "text": [
      "Generating Offspring: 100%|█████████████████████████████████| 25/25 [01:03<00:00,  2.54s/it]\n",
      "Calculating fitnesses: 100%|████████████████████████████████| 50/50 [00:19<00:00,  2.55it/s]\n"
     ]
    },
    {
     "name": "stdout",
     "output_type": "stream",
     "text": [
      "[Generation: 96] - Best Fitness: 500.0\n"
     ]
    },
    {
     "name": "stderr",
     "output_type": "stream",
     "text": [
      "Generating Offspring: 100%|█████████████████████████████████| 25/25 [01:03<00:00,  2.55s/it]\n",
      "Calculating fitnesses: 100%|████████████████████████████████| 50/50 [00:19<00:00,  2.58it/s]\n"
     ]
    },
    {
     "name": "stdout",
     "output_type": "stream",
     "text": [
      "[Generation: 97] - Best Fitness: 500.0\n"
     ]
    },
    {
     "name": "stderr",
     "output_type": "stream",
     "text": [
      "Generating Offspring: 100%|█████████████████████████████████| 25/25 [01:03<00:00,  2.53s/it]\n",
      "Calculating fitnesses: 100%|████████████████████████████████| 50/50 [00:19<00:00,  2.59it/s]\n"
     ]
    },
    {
     "name": "stdout",
     "output_type": "stream",
     "text": [
      "[Generation: 98] - Best Fitness: 500.0\n"
     ]
    },
    {
     "name": "stderr",
     "output_type": "stream",
     "text": [
      "Generating Offspring: 100%|█████████████████████████████████| 25/25 [01:03<00:00,  2.53s/it]\n",
      "Calculating fitnesses: 100%|████████████████████████████████| 50/50 [00:19<00:00,  2.58it/s]\n"
     ]
    },
    {
     "name": "stdout",
     "output_type": "stream",
     "text": [
      "[Generation: 99] - Best Fitness: 500.0\n"
     ]
    },
    {
     "name": "stderr",
     "output_type": "stream",
     "text": [
      "Generating Offspring: 100%|█████████████████████████████████| 25/25 [01:03<00:00,  2.53s/it]\n",
      "Calculating fitnesses: 100%|████████████████████████████████| 50/50 [00:19<00:00,  2.55it/s]\n"
     ]
    },
    {
     "name": "stdout",
     "output_type": "stream",
     "text": [
      "[Generation: 100] - Best Fitness: 500.0\n"
     ]
    },
    {
     "name": "stderr",
     "output_type": "stream",
     "text": [
      "Generating Offspring: 100%|█████████████████████████████████| 25/25 [01:03<00:00,  2.54s/it]\n"
     ]
    },
    {
     "data": {
      "image/png": "[encoded data removed]",
      "text/plain": [
       "<Figure size 1000x300 with 1 Axes>"
      ]
     },
     "metadata": {},
     "output_type": "display_data"
    }
   ],
   "source": [
    "# Version 1:\n",
    "# Run the genetic algorithm\n",
    "population, history = main(POPULATION_SIZE=50, \n",
    "                            GENERATIONS=100, \n",
    "                            ELITISM=25, \n",
    "                            TOURNAMENT_SIZE=5, \n",
    "                            MUTATION_STRENGTH=1, \n",
    "                            MUTATION_RATE=0.05)\n",
    "\n",
    "fig, ax = plt.subplots(1, 1, figsize=(10, 3))\n",
    "ax.plot(np.arange(100), history)\n",
    "ax.set_xlabel('Generations')\n",
    "ax.set_ylabel('Best Fitness')\n",
    "ax.set_title('Best Fitness History')\n",
    "ax.grid()"
   ]
  }
 ],
 "metadata": {
  "kernelspec": {
   "display_name": "Python 3 (ipykernel)",
   "language": "python",
   "name": "python3"
  },
  "language_info": {
   "codemirror_mode": {
    "name": "ipython",
    "version": 3
   },
   "file_extension": ".py",
   "mimetype": "text/x-python",
   "name": "python",
   "nbconvert_exporter": "python",
   "pygments_lexer": "ipython3",
   "version": "3.11.3"
  }
 },
 "nbformat": 4,
 "nbformat_minor": 5
}
