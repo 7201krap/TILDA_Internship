{
 "cells": [
  {
   "cell_type": "code",
   "execution_count": 1,
   "id": "cff20e7d",
   "metadata": {},
   "outputs": [],
   "source": [
    "import torch\n",
    "import gym\n",
    "import numpy as np\n",
    "import random\n",
    "import matplotlib.pyplot as plt\n",
    "import statistics\n",
    "import time\n",
    "\n",
    "from torch import nn\n",
    "from copy import deepcopy\n",
    "from torch.nn import functional as F\n",
    "from tqdm import tqdm"
   ]
  },
  {
   "cell_type": "code",
   "execution_count": 2,
   "id": "c7205bff",
   "metadata": {},
   "outputs": [
    {
     "name": "stderr",
     "output_type": "stream",
     "text": [
      "/Users/jinhyunpark/miniforge3/envs/tilda/lib/python3.11/site-packages/gym/core.py:329: DeprecationWarning: \u001b[33mWARN: Initializing wrapper in old step API which returns one bool instead of two. It is recommended to set `new_step_api=True` to use new step API. This will be the default behaviour in future.\u001b[0m\n",
      "  deprecation(\n",
      "/Users/jinhyunpark/miniforge3/envs/tilda/lib/python3.11/site-packages/gym/wrappers/step_api_compatibility.py:39: DeprecationWarning: \u001b[33mWARN: Initializing environment in old step API which returns one bool instead of two. It is recommended to set `new_step_api=True` to use new step API. This will be the default behaviour in future.\u001b[0m\n",
      "  deprecation(\n"
     ]
    }
   ],
   "source": [
    "# Use the following gym version.\n",
    "# pip install gym==0.25.0\n",
    "# pip install pygame\n",
    "\n",
    "seed = 0\n",
    "torch.manual_seed(seed)\n",
    "np.random.seed(seed)\n",
    "random.seed(seed)\n",
    "\n",
    "# define global variable \n",
    "env = gym.make('LunarLander-v2')\n",
    "pop_size = 200\n",
    "gens = 150\n",
    "elit = int(pop_size * 0.4)\n",
    "tot_size = 5\n",
    "MAX_EP = 1"
   ]
  },
  {
   "cell_type": "code",
   "execution_count": 3,
   "id": "24c2802b",
   "metadata": {},
   "outputs": [],
   "source": [
    "class PolicyNetwork(nn.Module):\n",
    "    def __init__(self, input_dim, output_dim):\n",
    "        super(PolicyNetwork, self).__init__()\n",
    "        self.fc1 = nn.Linear(input_dim, 128)\n",
    "        self.fc2 = nn.Linear(128, 64)\n",
    "        self.fc3 = nn.Linear(64, output_dim)\n",
    "\n",
    "    def forward(self, x):\n",
    "        x = F.relu(self.fc1(x))\n",
    "        x = F.relu(self.fc2(x))\n",
    "        x = self.fc3(x)\n",
    "        return x"
   ]
  },
  {
   "cell_type": "code",
   "execution_count": 4,
   "id": "562f1c95",
   "metadata": {},
   "outputs": [],
   "source": [
    "def calculate_fitness(network, env, num_episodes=MAX_EP):\n",
    "    total_rewards = 0\n",
    "    for _ in range(num_episodes):\n",
    "        reward, _ = run_episode(network, env)\n",
    "        total_rewards += reward\n",
    "    avg_reward = total_rewards / num_episodes\n",
    "    return avg_reward"
   ]
  },
  {
   "cell_type": "code",
   "execution_count": 5,
   "id": "3406fb93",
   "metadata": {},
   "outputs": [],
   "source": [
    "def run_episode(network, env):\n",
    "    state = env.reset()\n",
    "    total_reward = 0.0\n",
    "    log_probs = []  # Store log probabilities of actions\n",
    "    done = False\n",
    "    while not done:\n",
    "        state_t = torch.as_tensor(state, dtype=torch.float32)\n",
    "        q_values = network(state_t.unsqueeze(0))\n",
    "        action_probs = nn.functional.softmax(q_values, dim=1)\n",
    "        action_dist = torch.distributions.Categorical(action_probs)\n",
    "        action = action_dist.sample()\n",
    "        log_prob = action_dist.log_prob(action)\n",
    "        log_probs.append(log_prob)\n",
    "        state, reward, done, _ = env.step(action.item())\n",
    "        total_reward += reward\n",
    "    return total_reward, log_probs"
   ]
  },
  {
   "cell_type": "code",
   "execution_count": 6,
   "id": "b62df800",
   "metadata": {},
   "outputs": [],
   "source": [
    "def mutate_and_tournament(population, tournament_size, mutation_rate, mutation_strength):\n",
    "    \n",
    "    # Select individuals for the tournament\n",
    "    individuals = random.sample(population, tournament_size)\n",
    "    # Calculate fitness for each individual\n",
    "    fitnesses = [calculate_fitness(individual, env) for individual in individuals]\n",
    "    # Select the best individual\n",
    "    parent = individuals[np.argmax(fitnesses)]\n",
    "    # Create offspring by deep copying the parent\n",
    "    offspring = deepcopy(parent)\n",
    "    \n",
    "    # Apply mutation\n",
    "    with torch.no_grad():\n",
    "        for param in offspring.parameters():\n",
    "            if random.random() < mutation_rate:\n",
    "                delta = torch.randn_like(param)\n",
    "                param.add_(mutation_strength * delta)\n",
    "    \n",
    "    # Return the mutated offspring\n",
    "    return offspring"
   ]
  },
  {
   "cell_type": "code",
   "execution_count": 7,
   "id": "0e6f4b95",
   "metadata": {},
   "outputs": [],
   "source": [
    "# Define genetic algorithm\n",
    "def main(POPULATION_SIZE, GENERATIONS, ELITISM, TOURNAMENT_SIZE, MUTATION_STRENGTH, MUTATION_RATE):\n",
    "    \n",
    "    start_time = time.time()\n",
    "    \n",
    "    FITNESS_HISTORY = list()\n",
    "    FITNESS_STDERROR_HISTORY = list()\n",
    "    \n",
    "    # Create initial population\n",
    "    population = [PolicyNetwork(8, 4) for _ in range(POPULATION_SIZE)]\n",
    "\n",
    "    for generation in range(1, GENERATIONS + 1):\n",
    "\n",
    "        # Calculate fitness for each network\n",
    "        fitnesses = [calculate_fitness(network, env) for network in tqdm(population, desc=\"Calculating fitnesses\")]\n",
    "        \n",
    "        # average fitness \n",
    "        avg_fitness = np.average(fitnesses)\n",
    "        max_fitness = np.max(fitnesses)\n",
    "        min_fitness = np.min(fitnesses)\n",
    "        FITNESS_HISTORY.append([avg_fitness, max_fitness, min_fitness])\n",
    "        \n",
    "        # std error\n",
    "        standard_deviation = statistics.stdev(fitnesses)\n",
    "        standard_error = standard_deviation / (POPULATION_SIZE ** 0.5)\n",
    "        FITNESS_STDERROR_HISTORY.append(standard_error)\n",
    "\n",
    "        print(f\"[Generation: {generation}] \\n Average Fitness: {avg_fitness} \\n Best Fitness: {max_fitness} \\n Worst Fitness: {min_fitness} \\n Standard Error: {standard_error}\")\n",
    "        \n",
    "        # Sort population by fitness\n",
    "        population = [x for _, x in sorted(zip(fitnesses, population), key=lambda pair: pair[0], reverse=True)]\n",
    "        \n",
    "        # Select the best networks to pass their genes to the next generation\n",
    "        survivors = population[:ELITISM]\n",
    "        \n",
    "        # Create the next generation\n",
    "        next_population = survivors  # Start with the survivors\n",
    "        \n",
    "        num_individuals_to_add = POPULATION_SIZE - len(next_population)\n",
    "        # Add offspring by tournament selection and mutation\n",
    "        for _ in tqdm(range(num_individuals_to_add), desc=\"Generating Offspring\"):\n",
    "            offspring = mutate_and_tournament(population, TOURNAMENT_SIZE, MUTATION_RATE, MUTATION_STRENGTH)\n",
    "            next_population.append(offspring)\n",
    "\n",
    "        # The next generation becomes the current population\n",
    "        population = next_population\n",
    "    \n",
    "    print(\"--- %s seconds ---\" % (time.time() - start_time))\n",
    "    \n",
    "    return population, FITNESS_HISTORY, FITNESS_STDERROR_HISTORY"
   ]
  },
  {
   "cell_type": "markdown",
   "id": "58016015",
   "metadata": {},
   "source": [
    "### Version Control"
   ]
  },
  {
   "cell_type": "code",
   "execution_count": 8,
   "id": "5345a1c9",
   "metadata": {
    "scrolled": true
   },
   "outputs": [
    {
     "name": "stderr",
     "output_type": "stream",
     "text": [
      "Calculating fitnesses:   0%|                                                                                                                                   | 0/200 [00:00<?, ?it/s]/Users/jinhyunpark/miniforge3/envs/tilda/lib/python3.11/site-packages/gym/utils/passive_env_checker.py:241: DeprecationWarning: `np.bool8` is a deprecated alias for `np.bool_`.  (Deprecated NumPy 1.24)\n",
      "  if not isinstance(terminated, (bool, np.bool8)):\n",
      "Calculating fitnesses: 100%|█████████████████████████████████████████████████████████████████████████████████████████████████████████████████████████| 200/200 [00:04<00:00, 47.74it/s]\n"
     ]
    },
    {
     "name": "stdout",
     "output_type": "stream",
     "text": [
      "[Generation: 1] \n",
      " Average Fitness: -178.37858913069238 \n",
      " Best Fitness: 63.84055452983209 \n",
      " Worst Fitness: -562.9074785508433 \n",
      " Standard Error: 8.345884092456139\n"
     ]
    },
    {
     "name": "stderr",
     "output_type": "stream",
     "text": [
      "Generating Offspring: 100%|██████████████████████████████████████████████████████████████████████████████████████████████████████████████████████████| 120/120 [00:10<00:00, 11.90it/s]\n",
      "Calculating fitnesses: 100%|█████████████████████████████████████████████████████████████████████████████████████████████████████████████████████████| 200/200 [00:03<00:00, 60.08it/s]\n"
     ]
    },
    {
     "name": "stdout",
     "output_type": "stream",
     "text": [
      "[Generation: 2] \n",
      " Average Fitness: -193.28324247156263 \n",
      " Best Fitness: 40.53426305915778 \n",
      " Worst Fitness: -570.4638583566687 \n",
      " Standard Error: 8.570453421793122\n"
     ]
    },
    {
     "name": "stderr",
     "output_type": "stream",
     "text": [
      "Generating Offspring: 100%|██████████████████████████████████████████████████████████████████████████████████████████████████████████████████████████| 120/120 [00:12<00:00,  9.64it/s]\n",
      "Calculating fitnesses: 100%|█████████████████████████████████████████████████████████████████████████████████████████████████████████████████████████| 200/200 [00:03<00:00, 57.59it/s]\n"
     ]
    },
    {
     "name": "stdout",
     "output_type": "stream",
     "text": [
      "[Generation: 3] \n",
      " Average Fitness: -187.4576073009811 \n",
      " Best Fitness: 43.792890487757035 \n",
      " Worst Fitness: -506.90509623701087 \n",
      " Standard Error: 7.848670357380611\n"
     ]
    },
    {
     "name": "stderr",
     "output_type": "stream",
     "text": [
      "Generating Offspring: 100%|██████████████████████████████████████████████████████████████████████████████████████████████████████████████████████████| 120/120 [00:10<00:00, 11.68it/s]\n",
      "Calculating fitnesses: 100%|█████████████████████████████████████████████████████████████████████████████████████████████████████████████████████████| 200/200 [00:04<00:00, 41.19it/s]\n"
     ]
    },
    {
     "name": "stdout",
     "output_type": "stream",
     "text": [
      "[Generation: 4] \n",
      " Average Fitness: -192.89434033354067 \n",
      " Best Fitness: 120.09894791800242 \n",
      " Worst Fitness: -933.4564145000171 \n",
      " Standard Error: 9.490819506454082\n"
     ]
    },
    {
     "name": "stderr",
     "output_type": "stream",
     "text": [
      "Generating Offspring: 100%|██████████████████████████████████████████████████████████████████████████████████████████████████████████████████████████| 120/120 [00:11<00:00, 10.83it/s]\n",
      "Calculating fitnesses: 100%|█████████████████████████████████████████████████████████████████████████████████████████████████████████████████████████| 200/200 [00:03<00:00, 59.20it/s]\n"
     ]
    },
    {
     "name": "stdout",
     "output_type": "stream",
     "text": [
      "[Generation: 5] \n",
      " Average Fitness: -187.49856170968607 \n",
      " Best Fitness: 56.586110603830235 \n",
      " Worst Fitness: -568.3677418576772 \n",
      " Standard Error: 8.17975236342008\n"
     ]
    },
    {
     "name": "stderr",
     "output_type": "stream",
     "text": [
      "Generating Offspring: 100%|██████████████████████████████████████████████████████████████████████████████████████████████████████████████████████████| 120/120 [00:10<00:00, 11.59it/s]\n",
      "Calculating fitnesses: 100%|█████████████████████████████████████████████████████████████████████████████████████████████████████████████████████████| 200/200 [00:04<00:00, 47.19it/s]\n"
     ]
    },
    {
     "name": "stdout",
     "output_type": "stream",
     "text": [
      "[Generation: 6] \n",
      " Average Fitness: -183.4043988932026 \n",
      " Best Fitness: 43.43299160877246 \n",
      " Worst Fitness: -591.3294134909054 \n",
      " Standard Error: 8.286992198881624\n"
     ]
    },
    {
     "name": "stderr",
     "output_type": "stream",
     "text": [
      "Generating Offspring: 100%|██████████████████████████████████████████████████████████████████████████████████████████████████████████████████████████| 120/120 [00:10<00:00, 11.62it/s]\n",
      "Calculating fitnesses: 100%|█████████████████████████████████████████████████████████████████████████████████████████████████████████████████████████| 200/200 [00:03<00:00, 57.78it/s]\n"
     ]
    },
    {
     "name": "stdout",
     "output_type": "stream",
     "text": [
      "[Generation: 7] \n",
      " Average Fitness: -180.7320030185438 \n",
      " Best Fitness: 60.93476487613455 \n",
      " Worst Fitness: -521.3039661689952 \n",
      " Standard Error: 8.447875531788574\n"
     ]
    },
    {
     "name": "stderr",
     "output_type": "stream",
     "text": [
      "Generating Offspring: 100%|██████████████████████████████████████████████████████████████████████████████████████████████████████████████████████████| 120/120 [00:11<00:00, 10.74it/s]\n",
      "Calculating fitnesses: 100%|█████████████████████████████████████████████████████████████████████████████████████████████████████████████████████████| 200/200 [00:03<00:00, 59.36it/s]\n"
     ]
    },
    {
     "name": "stdout",
     "output_type": "stream",
     "text": [
      "[Generation: 8] \n",
      " Average Fitness: -177.09326803437915 \n",
      " Best Fitness: 17.771731235435567 \n",
      " Worst Fitness: -587.0130941246623 \n",
      " Standard Error: 8.168658703073131\n"
     ]
    },
    {
     "name": "stderr",
     "output_type": "stream",
     "text": [
      "Generating Offspring: 100%|██████████████████████████████████████████████████████████████████████████████████████████████████████████████████████████| 120/120 [00:10<00:00, 11.63it/s]\n",
      "Calculating fitnesses: 100%|█████████████████████████████████████████████████████████████████████████████████████████████████████████████████████████| 200/200 [00:03<00:00, 57.67it/s]\n"
     ]
    },
    {
     "name": "stdout",
     "output_type": "stream",
     "text": [
      "[Generation: 9] \n",
      " Average Fitness: -187.42501068330304 \n",
      " Best Fitness: 17.09727638694119 \n",
      " Worst Fitness: -579.2538266924377 \n",
      " Standard Error: 8.508576492239143\n"
     ]
    },
    {
     "name": "stderr",
     "output_type": "stream",
     "text": [
      "Generating Offspring: 100%|██████████████████████████████████████████████████████████████████████████████████████████████████████████████████████████| 120/120 [00:10<00:00, 11.15it/s]\n",
      "Calculating fitnesses: 100%|█████████████████████████████████████████████████████████████████████████████████████████████████████████████████████████| 200/200 [00:03<00:00, 55.87it/s]\n"
     ]
    },
    {
     "name": "stdout",
     "output_type": "stream",
     "text": [
      "[Generation: 10] \n",
      " Average Fitness: -208.23173959635585 \n",
      " Best Fitness: 25.181564605725995 \n",
      " Worst Fitness: -611.0488381777495 \n",
      " Standard Error: 8.588621108401421\n"
     ]
    },
    {
     "name": "stderr",
     "output_type": "stream",
     "text": [
      "Generating Offspring: 100%|██████████████████████████████████████████████████████████████████████████████████████████████████████████████████████████| 120/120 [00:10<00:00, 11.60it/s]\n",
      "Calculating fitnesses: 100%|█████████████████████████████████████████████████████████████████████████████████████████████████████████████████████████| 200/200 [00:03<00:00, 56.22it/s]\n"
     ]
    },
    {
     "name": "stdout",
     "output_type": "stream",
     "text": [
      "[Generation: 11] \n",
      " Average Fitness: -200.76528727711008 \n",
      " Best Fitness: 49.369072242614436 \n",
      " Worst Fitness: -809.9303689065656 \n",
      " Standard Error: 8.366614734243853\n"
     ]
    },
    {
     "name": "stderr",
     "output_type": "stream",
     "text": [
      "Generating Offspring: 100%|██████████████████████████████████████████████████████████████████████████████████████████████████████████████████████████| 120/120 [00:11<00:00, 10.71it/s]\n",
      "Calculating fitnesses: 100%|█████████████████████████████████████████████████████████████████████████████████████████████████████████████████████████| 200/200 [00:04<00:00, 48.22it/s]\n"
     ]
    },
    {
     "name": "stdout",
     "output_type": "stream",
     "text": [
      "[Generation: 12] \n",
      " Average Fitness: -185.14572322854306 \n",
      " Best Fitness: 109.18625233069739 \n",
      " Worst Fitness: -518.1866376144797 \n",
      " Standard Error: 8.143843228257909\n"
     ]
    },
    {
     "name": "stderr",
     "output_type": "stream",
     "text": [
      "Generating Offspring: 100%|██████████████████████████████████████████████████████████████████████████████████████████████████████████████████████████| 120/120 [00:10<00:00, 11.49it/s]\n",
      "Calculating fitnesses: 100%|█████████████████████████████████████████████████████████████████████████████████████████████████████████████████████████| 200/200 [00:03<00:00, 56.39it/s]\n"
     ]
    },
    {
     "name": "stdout",
     "output_type": "stream",
     "text": [
      "[Generation: 13] \n",
      " Average Fitness: -179.0571931045664 \n",
      " Best Fitness: 46.38089303842537 \n",
      " Worst Fitness: -541.9296401996052 \n",
      " Standard Error: 7.769761297978601\n"
     ]
    },
    {
     "name": "stderr",
     "output_type": "stream",
     "text": [
      "Generating Offspring: 100%|██████████████████████████████████████████████████████████████████████████████████████████████████████████████████████████| 120/120 [00:10<00:00, 11.49it/s]\n",
      "Calculating fitnesses: 100%|█████████████████████████████████████████████████████████████████████████████████████████████████████████████████████████| 200/200 [00:04<00:00, 48.19it/s]\n"
     ]
    },
    {
     "name": "stdout",
     "output_type": "stream",
     "text": [
      "[Generation: 14] \n",
      " Average Fitness: -183.3813995266627 \n",
      " Best Fitness: 66.75113797881576 \n",
      " Worst Fitness: -591.8395044506509 \n",
      " Standard Error: 8.038236800302984\n"
     ]
    },
    {
     "name": "stderr",
     "output_type": "stream",
     "text": [
      "Generating Offspring: 100%|██████████████████████████████████████████████████████████████████████████████████████████████████████████████████████████| 120/120 [00:10<00:00, 11.81it/s]\n",
      "Calculating fitnesses: 100%|█████████████████████████████████████████████████████████████████████████████████████████████████████████████████████████| 200/200 [00:03<00:00, 57.21it/s]\n"
     ]
    },
    {
     "name": "stdout",
     "output_type": "stream",
     "text": [
      "[Generation: 15] \n",
      " Average Fitness: -192.7433530722294 \n",
      " Best Fitness: 43.56990095588452 \n",
      " Worst Fitness: -806.1536451375714 \n",
      " Standard Error: 8.931170588917423\n"
     ]
    },
    {
     "name": "stderr",
     "output_type": "stream",
     "text": [
      "Generating Offspring: 100%|██████████████████████████████████████████████████████████████████████████████████████████████████████████████████████████| 120/120 [00:11<00:00, 10.45it/s]\n",
      "Calculating fitnesses: 100%|█████████████████████████████████████████████████████████████████████████████████████████████████████████████████████████| 200/200 [00:03<00:00, 56.65it/s]\n"
     ]
    },
    {
     "name": "stdout",
     "output_type": "stream",
     "text": [
      "[Generation: 16] \n",
      " Average Fitness: -206.44228650647116 \n",
      " Best Fitness: -11.165881241912814 \n",
      " Worst Fitness: -585.120374516324 \n",
      " Standard Error: 8.692829373427266\n"
     ]
    },
    {
     "name": "stderr",
     "output_type": "stream",
     "text": [
      "Generating Offspring: 100%|██████████████████████████████████████████████████████████████████████████████████████████████████████████████████████████| 120/120 [00:11<00:00, 10.15it/s]\n",
      "Calculating fitnesses: 100%|█████████████████████████████████████████████████████████████████████████████████████████████████████████████████████████| 200/200 [00:03<00:00, 56.89it/s]\n"
     ]
    },
    {
     "name": "stdout",
     "output_type": "stream",
     "text": [
      "[Generation: 17] \n",
      " Average Fitness: -190.46395088307597 \n",
      " Best Fitness: -15.968824856546746 \n",
      " Worst Fitness: -667.7833948387207 \n",
      " Standard Error: 8.3530177024939\n"
     ]
    },
    {
     "name": "stderr",
     "output_type": "stream",
     "text": [
      "Generating Offspring: 100%|██████████████████████████████████████████████████████████████████████████████████████████████████████████████████████████| 120/120 [00:12<00:00,  9.73it/s]\n",
      "Calculating fitnesses: 100%|█████████████████████████████████████████████████████████████████████████████████████████████████████████████████████████| 200/200 [00:04<00:00, 47.32it/s]\n"
     ]
    },
    {
     "name": "stdout",
     "output_type": "stream",
     "text": [
      "[Generation: 18] \n",
      " Average Fitness: -198.7828300960748 \n",
      " Best Fitness: 46.41744162330096 \n",
      " Worst Fitness: -615.2116787345716 \n",
      " Standard Error: 8.884156425776364\n"
     ]
    },
    {
     "name": "stderr",
     "output_type": "stream",
     "text": [
      "Generating Offspring: 100%|██████████████████████████████████████████████████████████████████████████████████████████████████████████████████████████| 120/120 [00:10<00:00, 11.29it/s]\n",
      "Calculating fitnesses: 100%|█████████████████████████████████████████████████████████████████████████████████████████████████████████████████████████| 200/200 [00:03<00:00, 56.50it/s]\n"
     ]
    },
    {
     "name": "stdout",
     "output_type": "stream",
     "text": [
      "[Generation: 19] \n",
      " Average Fitness: -180.34014568942285 \n",
      " Best Fitness: 34.92779180882093 \n",
      " Worst Fitness: -532.489340087972 \n",
      " Standard Error: 7.3555467044857945\n"
     ]
    },
    {
     "name": "stderr",
     "output_type": "stream",
     "text": [
      "Generating Offspring: 100%|██████████████████████████████████████████████████████████████████████████████████████████████████████████████████████████| 120/120 [00:10<00:00, 11.39it/s]\n",
      "Calculating fitnesses: 100%|█████████████████████████████████████████████████████████████████████████████████████████████████████████████████████████| 200/200 [00:03<00:00, 58.46it/s]\n"
     ]
    },
    {
     "name": "stdout",
     "output_type": "stream",
     "text": [
      "[Generation: 20] \n",
      " Average Fitness: -186.74949279618787 \n",
      " Best Fitness: 11.348861742602978 \n",
      " Worst Fitness: -525.1073335978007 \n",
      " Standard Error: 7.212601436065455\n"
     ]
    },
    {
     "name": "stderr",
     "output_type": "stream",
     "text": [
      "Generating Offspring: 100%|██████████████████████████████████████████████████████████████████████████████████████████████████████████████████████████| 120/120 [00:11<00:00, 10.16it/s]\n",
      "Calculating fitnesses: 100%|█████████████████████████████████████████████████████████████████████████████████████████████████████████████████████████| 200/200 [00:03<00:00, 57.25it/s]\n"
     ]
    },
    {
     "name": "stdout",
     "output_type": "stream",
     "text": [
      "[Generation: 21] \n",
      " Average Fitness: -181.5918212936193 \n",
      " Best Fitness: 29.852307793079575 \n",
      " Worst Fitness: -590.194285787531 \n",
      " Standard Error: 7.723114534903741\n"
     ]
    },
    {
     "name": "stderr",
     "output_type": "stream",
     "text": [
      "Generating Offspring: 100%|██████████████████████████████████████████████████████████████████████████████████████████████████████████████████████████| 120/120 [00:10<00:00, 11.74it/s]\n",
      "Calculating fitnesses: 100%|█████████████████████████████████████████████████████████████████████████████████████████████████████████████████████████| 200/200 [00:03<00:00, 64.42it/s]\n"
     ]
    },
    {
     "name": "stdout",
     "output_type": "stream",
     "text": [
      "[Generation: 22] \n",
      " Average Fitness: -188.32981613806223 \n",
      " Best Fitness: 31.86354037866903 \n",
      " Worst Fitness: -609.0071180343209 \n",
      " Standard Error: 8.682113833598542\n"
     ]
    },
    {
     "name": "stderr",
     "output_type": "stream",
     "text": [
      "Generating Offspring: 100%|██████████████████████████████████████████████████████████████████████████████████████████████████████████████████████████| 120/120 [00:09<00:00, 12.30it/s]\n",
      "Calculating fitnesses: 100%|█████████████████████████████████████████████████████████████████████████████████████████████████████████████████████████| 200/200 [00:03<00:00, 61.86it/s]\n"
     ]
    },
    {
     "name": "stdout",
     "output_type": "stream",
     "text": [
      "[Generation: 23] \n",
      " Average Fitness: -181.07596529703062 \n",
      " Best Fitness: 27.383130182212497 \n",
      " Worst Fitness: -628.3780959277914 \n",
      " Standard Error: 8.341072636191434\n"
     ]
    },
    {
     "name": "stderr",
     "output_type": "stream",
     "text": [
      "Generating Offspring: 100%|██████████████████████████████████████████████████████████████████████████████████████████████████████████████████████████| 120/120 [00:10<00:00, 11.99it/s]\n",
      "Calculating fitnesses: 100%|█████████████████████████████████████████████████████████████████████████████████████████████████████████████████████████| 200/200 [00:03<00:00, 62.15it/s]\n"
     ]
    },
    {
     "name": "stdout",
     "output_type": "stream",
     "text": [
      "[Generation: 24] \n",
      " Average Fitness: -188.72513316052783 \n",
      " Best Fitness: -2.7301229769661575 \n",
      " Worst Fitness: -1032.4052527966564 \n",
      " Standard Error: 8.864367949482702\n"
     ]
    },
    {
     "name": "stderr",
     "output_type": "stream",
     "text": [
      "Generating Offspring: 100%|██████████████████████████████████████████████████████████████████████████████████████████████████████████████████████████| 120/120 [00:09<00:00, 12.55it/s]\n",
      "Calculating fitnesses: 100%|█████████████████████████████████████████████████████████████████████████████████████████████████████████████████████████| 200/200 [00:03<00:00, 63.93it/s]\n"
     ]
    },
    {
     "name": "stdout",
     "output_type": "stream",
     "text": [
      "[Generation: 25] \n",
      " Average Fitness: -181.29236647114837 \n",
      " Best Fitness: 9.194579578272311 \n",
      " Worst Fitness: -699.8482855860073 \n",
      " Standard Error: 8.2234604864427\n"
     ]
    },
    {
     "name": "stderr",
     "output_type": "stream",
     "text": [
      "Generating Offspring: 100%|██████████████████████████████████████████████████████████████████████████████████████████████████████████████████████████| 120/120 [00:09<00:00, 12.55it/s]\n",
      "Calculating fitnesses: 100%|█████████████████████████████████████████████████████████████████████████████████████████████████████████████████████████| 200/200 [00:03<00:00, 56.82it/s]\n"
     ]
    },
    {
     "name": "stdout",
     "output_type": "stream",
     "text": [
      "[Generation: 26] \n",
      " Average Fitness: -196.60927308764272 \n",
      " Best Fitness: 74.28030976060552 \n",
      " Worst Fitness: -1631.202641202095 \n",
      " Standard Error: 10.353580534584005\n"
     ]
    },
    {
     "name": "stderr",
     "output_type": "stream",
     "text": [
      "Generating Offspring: 100%|██████████████████████████████████████████████████████████████████████████████████████████████████████████████████████████| 120/120 [00:10<00:00, 11.80it/s]\n",
      "Calculating fitnesses: 100%|█████████████████████████████████████████████████████████████████████████████████████████████████████████████████████████| 200/200 [00:03<00:00, 63.48it/s]\n"
     ]
    },
    {
     "name": "stdout",
     "output_type": "stream",
     "text": [
      "[Generation: 27] \n",
      " Average Fitness: -183.36322534354062 \n",
      " Best Fitness: -14.253857621708363 \n",
      " Worst Fitness: -600.6982959674468 \n",
      " Standard Error: 8.12456025553716\n"
     ]
    },
    {
     "name": "stderr",
     "output_type": "stream",
     "text": [
      "Generating Offspring: 100%|██████████████████████████████████████████████████████████████████████████████████████████████████████████████████████████| 120/120 [00:10<00:00, 11.07it/s]\n",
      "Calculating fitnesses: 100%|█████████████████████████████████████████████████████████████████████████████████████████████████████████████████████████| 200/200 [00:03<00:00, 61.92it/s]\n"
     ]
    },
    {
     "name": "stdout",
     "output_type": "stream",
     "text": [
      "[Generation: 28] \n",
      " Average Fitness: -181.65286892269629 \n",
      " Best Fitness: 16.707196227576816 \n",
      " Worst Fitness: -462.49576017198467 \n",
      " Standard Error: 7.515825906716067\n"
     ]
    },
    {
     "name": "stderr",
     "output_type": "stream",
     "text": [
      "Generating Offspring: 100%|██████████████████████████████████████████████████████████████████████████████████████████████████████████████████████████| 120/120 [00:09<00:00, 12.56it/s]\n",
      "Calculating fitnesses: 100%|█████████████████████████████████████████████████████████████████████████████████████████████████████████████████████████| 200/200 [00:03<00:00, 63.55it/s]\n"
     ]
    },
    {
     "name": "stdout",
     "output_type": "stream",
     "text": [
      "[Generation: 29] \n",
      " Average Fitness: -190.44593769182427 \n",
      " Best Fitness: 46.68519011064399 \n",
      " Worst Fitness: -563.729650718459 \n",
      " Standard Error: 8.541664453607305\n"
     ]
    },
    {
     "name": "stderr",
     "output_type": "stream",
     "text": [
      "Generating Offspring: 100%|██████████████████████████████████████████████████████████████████████████████████████████████████████████████████████████| 120/120 [00:09<00:00, 12.64it/s]\n",
      "Calculating fitnesses: 100%|█████████████████████████████████████████████████████████████████████████████████████████████████████████████████████████| 200/200 [00:03<00:00, 63.40it/s]\n"
     ]
    },
    {
     "name": "stdout",
     "output_type": "stream",
     "text": [
      "[Generation: 30] \n",
      " Average Fitness: -179.96749557906125 \n",
      " Best Fitness: 15.03204785944888 \n",
      " Worst Fitness: -560.3420905626189 \n",
      " Standard Error: 7.304812453784453\n"
     ]
    },
    {
     "name": "stderr",
     "output_type": "stream",
     "text": [
      "Generating Offspring: 100%|██████████████████████████████████████████████████████████████████████████████████████████████████████████████████████████| 120/120 [00:09<00:00, 12.36it/s]\n",
      "Calculating fitnesses: 100%|█████████████████████████████████████████████████████████████████████████████████████████████████████████████████████████| 200/200 [00:03<00:00, 61.69it/s]\n"
     ]
    },
    {
     "name": "stdout",
     "output_type": "stream",
     "text": [
      "[Generation: 31] \n",
      " Average Fitness: -178.7012783642882 \n",
      " Best Fitness: 8.387522076861572 \n",
      " Worst Fitness: -554.6915604823059 \n",
      " Standard Error: 7.986621891762359\n"
     ]
    },
    {
     "name": "stderr",
     "output_type": "stream",
     "text": [
      "Generating Offspring: 100%|██████████████████████████████████████████████████████████████████████████████████████████████████████████████████████████| 120/120 [00:09<00:00, 12.59it/s]\n",
      "Calculating fitnesses: 100%|█████████████████████████████████████████████████████████████████████████████████████████████████████████████████████████| 200/200 [00:03<00:00, 63.36it/s]\n"
     ]
    },
    {
     "name": "stdout",
     "output_type": "stream",
     "text": [
      "[Generation: 32] \n",
      " Average Fitness: -179.19264417957802 \n",
      " Best Fitness: 0.35994413154510596 \n",
      " Worst Fitness: -618.6767985817356 \n",
      " Standard Error: 8.491583296269734\n"
     ]
    },
    {
     "name": "stderr",
     "output_type": "stream",
     "text": [
      "Generating Offspring: 100%|██████████████████████████████████████████████████████████████████████████████████████████████████████████████████████████| 120/120 [00:10<00:00, 11.61it/s]\n",
      "Calculating fitnesses: 100%|█████████████████████████████████████████████████████████████████████████████████████████████████████████████████████████| 200/200 [00:03<00:00, 53.17it/s]\n"
     ]
    },
    {
     "name": "stdout",
     "output_type": "stream",
     "text": [
      "[Generation: 33] \n",
      " Average Fitness: -151.4400179567841 \n",
      " Best Fitness: 47.72619953450633 \n",
      " Worst Fitness: -795.2518054759645 \n",
      " Standard Error: 8.116349537704203\n"
     ]
    },
    {
     "name": "stderr",
     "output_type": "stream",
     "text": [
      "Generating Offspring: 100%|██████████████████████████████████████████████████████████████████████████████████████████████████████████████████████████| 120/120 [00:10<00:00, 11.13it/s]\n",
      "Calculating fitnesses: 100%|█████████████████████████████████████████████████████████████████████████████████████████████████████████████████████████| 200/200 [00:03<00:00, 62.67it/s]\n"
     ]
    },
    {
     "name": "stdout",
     "output_type": "stream",
     "text": [
      "[Generation: 34] \n",
      " Average Fitness: -156.7308978941589 \n",
      " Best Fitness: 47.40178822016219 \n",
      " Worst Fitness: -463.6065703833409 \n",
      " Standard Error: 6.646818912661953\n"
     ]
    },
    {
     "name": "stderr",
     "output_type": "stream",
     "text": [
      "Generating Offspring: 100%|██████████████████████████████████████████████████████████████████████████████████████████████████████████████████████████| 120/120 [00:09<00:00, 12.63it/s]\n",
      "Calculating fitnesses: 100%|█████████████████████████████████████████████████████████████████████████████████████████████████████████████████████████| 200/200 [00:03<00:00, 60.55it/s]\n"
     ]
    },
    {
     "name": "stdout",
     "output_type": "stream",
     "text": [
      "[Generation: 35] \n",
      " Average Fitness: -152.33261472599773 \n",
      " Best Fitness: -8.442370140328833 \n",
      " Worst Fitness: -542.7008058680796 \n",
      " Standard Error: 7.316063393962873\n"
     ]
    },
    {
     "name": "stderr",
     "output_type": "stream",
     "text": [
      "Generating Offspring: 100%|██████████████████████████████████████████████████████████████████████████████████████████████████████████████████████████| 120/120 [00:09<00:00, 12.22it/s]\n",
      "Calculating fitnesses: 100%|█████████████████████████████████████████████████████████████████████████████████████████████████████████████████████████| 200/200 [00:03<00:00, 61.42it/s]\n"
     ]
    },
    {
     "name": "stdout",
     "output_type": "stream",
     "text": [
      "[Generation: 36] \n",
      " Average Fitness: -160.9543904930805 \n",
      " Best Fitness: 43.81222064099515 \n",
      " Worst Fitness: -593.3236047485533 \n",
      " Standard Error: 8.447600399409513\n"
     ]
    },
    {
     "name": "stderr",
     "output_type": "stream",
     "text": [
      "Generating Offspring: 100%|██████████████████████████████████████████████████████████████████████████████████████████████████████████████████████████| 120/120 [00:09<00:00, 12.59it/s]\n",
      "Calculating fitnesses: 100%|█████████████████████████████████████████████████████████████████████████████████████████████████████████████████████████| 200/200 [00:03<00:00, 63.15it/s]\n"
     ]
    },
    {
     "name": "stdout",
     "output_type": "stream",
     "text": [
      "[Generation: 37] \n",
      " Average Fitness: -136.22427606719347 \n",
      " Best Fitness: 14.335127002171262 \n",
      " Worst Fitness: -793.8794474087294 \n",
      " Standard Error: 6.671734578758896\n"
     ]
    },
    {
     "name": "stderr",
     "output_type": "stream",
     "text": [
      "Generating Offspring: 100%|██████████████████████████████████████████████████████████████████████████████████████████████████████████████████████████| 120/120 [00:10<00:00, 11.94it/s]\n",
      "Calculating fitnesses: 100%|█████████████████████████████████████████████████████████████████████████████████████████████████████████████████████████| 200/200 [00:03<00:00, 50.81it/s]\n"
     ]
    },
    {
     "name": "stdout",
     "output_type": "stream",
     "text": [
      "[Generation: 38] \n",
      " Average Fitness: -125.79799056748423 \n",
      " Best Fitness: 9.431359509529775 \n",
      " Worst Fitness: -852.370706470916 \n",
      " Standard Error: 6.363705851263532\n"
     ]
    },
    {
     "name": "stderr",
     "output_type": "stream",
     "text": [
      "Generating Offspring: 100%|██████████████████████████████████████████████████████████████████████████████████████████████████████████████████████████| 120/120 [00:10<00:00, 11.31it/s]\n",
      "Calculating fitnesses: 100%|█████████████████████████████████████████████████████████████████████████████████████████████████████████████████████████| 200/200 [00:03<00:00, 59.49it/s]\n"
     ]
    },
    {
     "name": "stdout",
     "output_type": "stream",
     "text": [
      "[Generation: 39] \n",
      " Average Fitness: -121.76660301236285 \n",
      " Best Fitness: -5.450637962611182 \n",
      " Worst Fitness: -756.4646781834865 \n",
      " Standard Error: 6.98078381649886\n"
     ]
    },
    {
     "name": "stderr",
     "output_type": "stream",
     "text": [
      "Generating Offspring: 100%|██████████████████████████████████████████████████████████████████████████████████████████████████████████████████████████| 120/120 [00:11<00:00, 10.87it/s]\n",
      "Calculating fitnesses: 100%|█████████████████████████████████████████████████████████████████████████████████████████████████████████████████████████| 200/200 [00:03<00:00, 62.34it/s]\n"
     ]
    },
    {
     "name": "stdout",
     "output_type": "stream",
     "text": [
      "[Generation: 40] \n",
      " Average Fitness: -116.47882798902091 \n",
      " Best Fitness: 11.471692638125404 \n",
      " Worst Fitness: -752.0422270407261 \n",
      " Standard Error: 6.296828029201609\n"
     ]
    },
    {
     "name": "stderr",
     "output_type": "stream",
     "text": [
      "Generating Offspring: 100%|██████████████████████████████████████████████████████████████████████████████████████████████████████████████████████████| 120/120 [00:11<00:00, 10.07it/s]\n",
      "Calculating fitnesses: 100%|█████████████████████████████████████████████████████████████████████████████████████████████████████████████████████████| 200/200 [00:03<00:00, 60.70it/s]\n"
     ]
    },
    {
     "name": "stdout",
     "output_type": "stream",
     "text": [
      "[Generation: 41] \n",
      " Average Fitness: -121.31162032117487 \n",
      " Best Fitness: 32.693939874436325 \n",
      " Worst Fitness: -781.7902650841114 \n",
      " Standard Error: 6.493314375542755\n"
     ]
    },
    {
     "name": "stderr",
     "output_type": "stream",
     "text": [
      "Generating Offspring: 100%|██████████████████████████████████████████████████████████████████████████████████████████████████████████████████████████| 120/120 [00:12<00:00,  9.96it/s]\n",
      "Calculating fitnesses: 100%|█████████████████████████████████████████████████████████████████████████████████████████████████████████████████████████| 200/200 [00:03<00:00, 60.36it/s]\n"
     ]
    },
    {
     "name": "stdout",
     "output_type": "stream",
     "text": [
      "[Generation: 42] \n",
      " Average Fitness: -117.35590939296166 \n",
      " Best Fitness: 28.738164249834483 \n",
      " Worst Fitness: -1006.3392376888818 \n",
      " Standard Error: 6.843504622254229\n"
     ]
    },
    {
     "name": "stderr",
     "output_type": "stream",
     "text": [
      "Generating Offspring: 100%|██████████████████████████████████████████████████████████████████████████████████████████████████████████████████████████| 120/120 [00:09<00:00, 12.06it/s]\n",
      "Calculating fitnesses: 100%|█████████████████████████████████████████████████████████████████████████████████████████████████████████████████████████| 200/200 [00:03<00:00, 58.99it/s]\n"
     ]
    },
    {
     "name": "stdout",
     "output_type": "stream",
     "text": [
      "[Generation: 43] \n",
      " Average Fitness: -109.21897670523543 \n",
      " Best Fitness: -20.513942302975366 \n",
      " Worst Fitness: -500.7055282480353 \n",
      " Standard Error: 4.1167385441688955\n"
     ]
    },
    {
     "name": "stderr",
     "output_type": "stream",
     "text": [
      "Generating Offspring: 100%|██████████████████████████████████████████████████████████████████████████████████████████████████████████████████████████| 120/120 [00:10<00:00, 11.82it/s]\n",
      "Calculating fitnesses: 100%|█████████████████████████████████████████████████████████████████████████████████████████████████████████████████████████| 200/200 [00:03<00:00, 58.98it/s]\n"
     ]
    },
    {
     "name": "stdout",
     "output_type": "stream",
     "text": [
      "[Generation: 44] \n",
      " Average Fitness: -121.36822616948844 \n",
      " Best Fitness: 11.785955475622927 \n",
      " Worst Fitness: -923.1032899928226 \n",
      " Standard Error: 6.576731784376416\n"
     ]
    },
    {
     "name": "stderr",
     "output_type": "stream",
     "text": [
      "Generating Offspring: 100%|██████████████████████████████████████████████████████████████████████████████████████████████████████████████████████████| 120/120 [00:10<00:00, 11.87it/s]\n",
      "Calculating fitnesses: 100%|█████████████████████████████████████████████████████████████████████████████████████████████████████████████████████████| 200/200 [00:04<00:00, 46.12it/s]\n"
     ]
    },
    {
     "name": "stdout",
     "output_type": "stream",
     "text": [
      "[Generation: 45] \n",
      " Average Fitness: -122.16662863300365 \n",
      " Best Fitness: -20.079570685504223 \n",
      " Worst Fitness: -822.1367448705138 \n",
      " Standard Error: 7.045207189238101\n"
     ]
    },
    {
     "name": "stderr",
     "output_type": "stream",
     "text": [
      "Generating Offspring: 100%|██████████████████████████████████████████████████████████████████████████████████████████████████████████████████████████| 120/120 [00:10<00:00, 11.60it/s]\n",
      "Calculating fitnesses: 100%|█████████████████████████████████████████████████████████████████████████████████████████████████████████████████████████| 200/200 [00:03<00:00, 56.72it/s]\n"
     ]
    },
    {
     "name": "stdout",
     "output_type": "stream",
     "text": [
      "[Generation: 46] \n",
      " Average Fitness: -120.93915219636332 \n",
      " Best Fitness: 24.33775189487831 \n",
      " Worst Fitness: -913.5963088404211 \n",
      " Standard Error: 7.953219477985959\n"
     ]
    },
    {
     "name": "stderr",
     "output_type": "stream",
     "text": [
      "Generating Offspring: 100%|██████████████████████████████████████████████████████████████████████████████████████████████████████████████████████████| 120/120 [00:11<00:00, 10.57it/s]\n",
      "Calculating fitnesses: 100%|█████████████████████████████████████████████████████████████████████████████████████████████████████████████████████████| 200/200 [00:03<00:00, 53.02it/s]\n"
     ]
    },
    {
     "name": "stdout",
     "output_type": "stream",
     "text": [
      "[Generation: 47] \n",
      " Average Fitness: -135.27690889303713 \n",
      " Best Fitness: -17.418715973889718 \n",
      " Worst Fitness: -1415.485336144358 \n",
      " Standard Error: 10.782452995922041\n"
     ]
    },
    {
     "name": "stderr",
     "output_type": "stream",
     "text": [
      "Generating Offspring: 100%|██████████████████████████████████████████████████████████████████████████████████████████████████████████████████████████| 120/120 [00:11<00:00, 10.06it/s]\n",
      "Calculating fitnesses: 100%|█████████████████████████████████████████████████████████████████████████████████████████████████████████████████████████| 200/200 [00:03<00:00, 56.00it/s]\n"
     ]
    },
    {
     "name": "stdout",
     "output_type": "stream",
     "text": [
      "[Generation: 48] \n",
      " Average Fitness: -113.55586164881424 \n",
      " Best Fitness: 41.84771458489632 \n",
      " Worst Fitness: -649.6999272201815 \n",
      " Standard Error: 5.425966130617935\n"
     ]
    },
    {
     "name": "stderr",
     "output_type": "stream",
     "text": [
      "Generating Offspring: 100%|██████████████████████████████████████████████████████████████████████████████████████████████████████████████████████████| 120/120 [00:11<00:00, 10.12it/s]\n",
      "Calculating fitnesses: 100%|█████████████████████████████████████████████████████████████████████████████████████████████████████████████████████████| 200/200 [00:03<00:00, 57.98it/s]\n"
     ]
    },
    {
     "name": "stdout",
     "output_type": "stream",
     "text": [
      "[Generation: 49] \n",
      " Average Fitness: -109.66846524924163 \n",
      " Best Fitness: 17.001215171817606 \n",
      " Worst Fitness: -522.117191572207 \n",
      " Standard Error: 4.617977626619798\n"
     ]
    },
    {
     "name": "stderr",
     "output_type": "stream",
     "text": [
      "Generating Offspring: 100%|██████████████████████████████████████████████████████████████████████████████████████████████████████████████████████████| 120/120 [00:11<00:00, 10.46it/s]\n",
      "Calculating fitnesses: 100%|█████████████████████████████████████████████████████████████████████████████████████████████████████████████████████████| 200/200 [00:03<00:00, 57.29it/s]\n"
     ]
    },
    {
     "name": "stdout",
     "output_type": "stream",
     "text": [
      "[Generation: 50] \n",
      " Average Fitness: -112.24403168157458 \n",
      " Best Fitness: 6.119490285137417 \n",
      " Worst Fitness: -615.1747888105932 \n",
      " Standard Error: 5.506068914692113\n"
     ]
    },
    {
     "name": "stderr",
     "output_type": "stream",
     "text": [
      "Generating Offspring: 100%|██████████████████████████████████████████████████████████████████████████████████████████████████████████████████████████| 120/120 [00:10<00:00, 11.69it/s]\n",
      "Calculating fitnesses: 100%|█████████████████████████████████████████████████████████████████████████████████████████████████████████████████████████| 200/200 [00:03<00:00, 60.13it/s]\n"
     ]
    },
    {
     "name": "stdout",
     "output_type": "stream",
     "text": [
      "[Generation: 51] \n",
      " Average Fitness: -112.13906689835981 \n",
      " Best Fitness: 33.641594073705335 \n",
      " Worst Fitness: -721.2973159546157 \n",
      " Standard Error: 6.15793790340681\n"
     ]
    },
    {
     "name": "stderr",
     "output_type": "stream",
     "text": [
      "Generating Offspring: 100%|██████████████████████████████████████████████████████████████████████████████████████████████████████████████████████████| 120/120 [00:10<00:00, 11.12it/s]\n",
      "Calculating fitnesses: 100%|█████████████████████████████████████████████████████████████████████████████████████████████████████████████████████████| 200/200 [00:03<00:00, 59.93it/s]\n"
     ]
    },
    {
     "name": "stdout",
     "output_type": "stream",
     "text": [
      "[Generation: 52] \n",
      " Average Fitness: -131.09340903319875 \n",
      " Best Fitness: 25.006970704956274 \n",
      " Worst Fitness: -1330.5420949297795 \n",
      " Standard Error: 9.905994173709097\n"
     ]
    },
    {
     "name": "stderr",
     "output_type": "stream",
     "text": [
      "Generating Offspring: 100%|██████████████████████████████████████████████████████████████████████████████████████████████████████████████████████████| 120/120 [00:12<00:00,  9.80it/s]\n",
      "Calculating fitnesses: 100%|█████████████████████████████████████████████████████████████████████████████████████████████████████████████████████████| 200/200 [00:05<00:00, 36.89it/s]\n"
     ]
    },
    {
     "name": "stdout",
     "output_type": "stream",
     "text": [
      "[Generation: 53] \n",
      " Average Fitness: -111.98457838323289 \n",
      " Best Fitness: 18.623616360184897 \n",
      " Worst Fitness: -727.0263797335535 \n",
      " Standard Error: 6.142331043922259\n"
     ]
    },
    {
     "name": "stderr",
     "output_type": "stream",
     "text": [
      "Generating Offspring: 100%|██████████████████████████████████████████████████████████████████████████████████████████████████████████████████████████| 120/120 [00:10<00:00, 11.98it/s]\n",
      "Calculating fitnesses: 100%|█████████████████████████████████████████████████████████████████████████████████████████████████████████████████████████| 200/200 [00:03<00:00, 55.88it/s]\n"
     ]
    },
    {
     "name": "stdout",
     "output_type": "stream",
     "text": [
      "[Generation: 54] \n",
      " Average Fitness: -121.9828173513487 \n",
      " Best Fitness: 25.857876124436714 \n",
      " Worst Fitness: -989.4843193639623 \n",
      " Standard Error: 7.054830875895639\n"
     ]
    },
    {
     "name": "stderr",
     "output_type": "stream",
     "text": [
      "Generating Offspring: 100%|██████████████████████████████████████████████████████████████████████████████████████████████████████████████████████████| 120/120 [00:10<00:00, 11.94it/s]\n",
      "Calculating fitnesses: 100%|█████████████████████████████████████████████████████████████████████████████████████████████████████████████████████████| 200/200 [00:03<00:00, 51.41it/s]\n"
     ]
    },
    {
     "name": "stdout",
     "output_type": "stream",
     "text": [
      "[Generation: 55] \n",
      " Average Fitness: -128.1712977571925 \n",
      " Best Fitness: 37.67268541985874 \n",
      " Worst Fitness: -1509.0802752961783 \n",
      " Standard Error: 9.984117830062905\n"
     ]
    },
    {
     "name": "stderr",
     "output_type": "stream",
     "text": [
      "Generating Offspring: 100%|██████████████████████████████████████████████████████████████████████████████████████████████████████████████████████████| 120/120 [00:12<00:00,  9.43it/s]\n",
      "Calculating fitnesses: 100%|█████████████████████████████████████████████████████████████████████████████████████████████████████████████████████████| 200/200 [00:03<00:00, 50.88it/s]\n"
     ]
    },
    {
     "name": "stdout",
     "output_type": "stream",
     "text": [
      "[Generation: 56] \n",
      " Average Fitness: -128.70868343107804 \n",
      " Best Fitness: 10.838856192553536 \n",
      " Worst Fitness: -941.4470932328625 \n",
      " Standard Error: 7.616357767226382\n"
     ]
    },
    {
     "name": "stderr",
     "output_type": "stream",
     "text": [
      "Generating Offspring: 100%|██████████████████████████████████████████████████████████████████████████████████████████████████████████████████████████| 120/120 [00:09<00:00, 12.01it/s]\n",
      "Calculating fitnesses: 100%|█████████████████████████████████████████████████████████████████████████████████████████████████████████████████████████| 200/200 [00:04<00:00, 48.56it/s]\n"
     ]
    },
    {
     "name": "stdout",
     "output_type": "stream",
     "text": [
      "[Generation: 57] \n",
      " Average Fitness: -143.588781759598 \n",
      " Best Fitness: 27.992387698027642 \n",
      " Worst Fitness: -593.3159817982524 \n",
      " Standard Error: 7.482312131557546\n"
     ]
    },
    {
     "name": "stderr",
     "output_type": "stream",
     "text": [
      "Generating Offspring: 100%|██████████████████████████████████████████████████████████████████████████████████████████████████████████████████████████| 120/120 [00:12<00:00,  9.81it/s]\n",
      "Calculating fitnesses: 100%|█████████████████████████████████████████████████████████████████████████████████████████████████████████████████████████| 200/200 [00:04<00:00, 41.34it/s]\n"
     ]
    },
    {
     "name": "stdout",
     "output_type": "stream",
     "text": [
      "[Generation: 58] \n",
      " Average Fitness: -123.661008409483 \n",
      " Best Fitness: 56.19616749248078 \n",
      " Worst Fitness: -1007.513144080381 \n",
      " Standard Error: 8.692538890286626\n"
     ]
    },
    {
     "name": "stderr",
     "output_type": "stream",
     "text": [
      "Generating Offspring: 100%|██████████████████████████████████████████████████████████████████████████████████████████████████████████████████████████| 120/120 [00:10<00:00, 11.54it/s]\n",
      "Calculating fitnesses: 100%|█████████████████████████████████████████████████████████████████████████████████████████████████████████████████████████| 200/200 [00:03<00:00, 52.69it/s]\n"
     ]
    },
    {
     "name": "stdout",
     "output_type": "stream",
     "text": [
      "[Generation: 59] \n",
      " Average Fitness: -133.4981432437621 \n",
      " Best Fitness: 58.38464343003409 \n",
      " Worst Fitness: -1441.5775948873415 \n",
      " Standard Error: 10.273602399403892\n"
     ]
    },
    {
     "name": "stderr",
     "output_type": "stream",
     "text": [
      "Generating Offspring: 100%|██████████████████████████████████████████████████████████████████████████████████████████████████████████████████████████| 120/120 [00:10<00:00, 11.22it/s]\n",
      "Calculating fitnesses: 100%|█████████████████████████████████████████████████████████████████████████████████████████████████████████████████████████| 200/200 [00:04<00:00, 43.04it/s]\n"
     ]
    },
    {
     "name": "stdout",
     "output_type": "stream",
     "text": [
      "[Generation: 60] \n",
      " Average Fitness: -128.08272694443468 \n",
      " Best Fitness: 40.10300381348708 \n",
      " Worst Fitness: -659.2592605856796 \n",
      " Standard Error: 8.156450221003482\n"
     ]
    },
    {
     "name": "stderr",
     "output_type": "stream",
     "text": [
      "Generating Offspring: 100%|██████████████████████████████████████████████████████████████████████████████████████████████████████████████████████████| 120/120 [00:12<00:00,  9.36it/s]\n",
      "Calculating fitnesses: 100%|█████████████████████████████████████████████████████████████████████████████████████████████████████████████████████████| 200/200 [00:03<00:00, 55.13it/s]\n"
     ]
    },
    {
     "name": "stdout",
     "output_type": "stream",
     "text": [
      "[Generation: 61] \n",
      " Average Fitness: -141.89709373786832 \n",
      " Best Fitness: 40.83708182722199 \n",
      " Worst Fitness: -1739.2012110725448 \n",
      " Standard Error: 11.709127519971963\n"
     ]
    },
    {
     "name": "stderr",
     "output_type": "stream",
     "text": [
      "Generating Offspring: 100%|██████████████████████████████████████████████████████████████████████████████████████████████████████████████████████████| 120/120 [00:11<00:00, 10.50it/s]\n",
      "Calculating fitnesses: 100%|█████████████████████████████████████████████████████████████████████████████████████████████████████████████████████████| 200/200 [00:04<00:00, 47.86it/s]\n"
     ]
    },
    {
     "name": "stdout",
     "output_type": "stream",
     "text": [
      "[Generation: 62] \n",
      " Average Fitness: -140.45952407579585 \n",
      " Best Fitness: 38.45801962793999 \n",
      " Worst Fitness: -1208.1421380113825 \n",
      " Standard Error: 9.700785290487731\n"
     ]
    },
    {
     "name": "stderr",
     "output_type": "stream",
     "text": [
      "Generating Offspring: 100%|██████████████████████████████████████████████████████████████████████████████████████████████████████████████████████████| 120/120 [00:15<00:00,  7.55it/s]\n",
      "Calculating fitnesses: 100%|█████████████████████████████████████████████████████████████████████████████████████████████████████████████████████████| 200/200 [00:03<00:00, 55.51it/s]\n"
     ]
    },
    {
     "name": "stdout",
     "output_type": "stream",
     "text": [
      "[Generation: 63] \n",
      " Average Fitness: -154.2129272190793 \n",
      " Best Fitness: 39.67989703846936 \n",
      " Worst Fitness: -3515.9940750270835 \n",
      " Standard Error: 21.326248737006374\n"
     ]
    },
    {
     "name": "stderr",
     "output_type": "stream",
     "text": [
      "Generating Offspring: 100%|██████████████████████████████████████████████████████████████████████████████████████████████████████████████████████████| 120/120 [00:14<00:00,  8.17it/s]\n",
      "Calculating fitnesses: 100%|█████████████████████████████████████████████████████████████████████████████████████████████████████████████████████████| 200/200 [00:04<00:00, 47.95it/s]\n"
     ]
    },
    {
     "name": "stdout",
     "output_type": "stream",
     "text": [
      "[Generation: 64] \n",
      " Average Fitness: -128.89540872784306 \n",
      " Best Fitness: 55.26368912117786 \n",
      " Worst Fitness: -532.2711745252266 \n",
      " Standard Error: 7.867975528655483\n"
     ]
    },
    {
     "name": "stderr",
     "output_type": "stream",
     "text": [
      "Generating Offspring: 100%|██████████████████████████████████████████████████████████████████████████████████████████████████████████████████████████| 120/120 [00:10<00:00, 11.95it/s]\n",
      "Calculating fitnesses: 100%|█████████████████████████████████████████████████████████████████████████████████████████████████████████████████████████| 200/200 [00:03<00:00, 61.20it/s]\n"
     ]
    },
    {
     "name": "stdout",
     "output_type": "stream",
     "text": [
      "[Generation: 65] \n",
      " Average Fitness: -128.06235581223814 \n",
      " Best Fitness: 46.41065419982317 \n",
      " Worst Fitness: -555.3231593358387 \n",
      " Standard Error: 8.259029232979438\n"
     ]
    },
    {
     "name": "stderr",
     "output_type": "stream",
     "text": [
      "Generating Offspring: 100%|██████████████████████████████████████████████████████████████████████████████████████████████████████████████████████████| 120/120 [00:09<00:00, 12.19it/s]\n",
      "Calculating fitnesses: 100%|█████████████████████████████████████████████████████████████████████████████████████████████████████████████████████████| 200/200 [00:04<00:00, 46.99it/s]\n"
     ]
    },
    {
     "name": "stdout",
     "output_type": "stream",
     "text": [
      "[Generation: 66] \n",
      " Average Fitness: -133.93620759010906 \n",
      " Best Fitness: 19.589965305871033 \n",
      " Worst Fitness: -751.6125543085411 \n",
      " Standard Error: 8.396928941080342\n"
     ]
    },
    {
     "name": "stderr",
     "output_type": "stream",
     "text": [
      "Generating Offspring: 100%|██████████████████████████████████████████████████████████████████████████████████████████████████████████████████████████| 120/120 [00:12<00:00,  9.37it/s]\n",
      "Calculating fitnesses: 100%|█████████████████████████████████████████████████████████████████████████████████████████████████████████████████████████| 200/200 [00:02<00:00, 73.61it/s]\n"
     ]
    },
    {
     "name": "stdout",
     "output_type": "stream",
     "text": [
      "[Generation: 67] \n",
      " Average Fitness: -128.96971934113193 \n",
      " Best Fitness: 40.037144132278144 \n",
      " Worst Fitness: -651.8334092081865 \n",
      " Standard Error: 8.201536204229042\n"
     ]
    },
    {
     "name": "stderr",
     "output_type": "stream",
     "text": [
      "Generating Offspring: 100%|██████████████████████████████████████████████████████████████████████████████████████████████████████████████████████████| 120/120 [00:09<00:00, 12.88it/s]\n",
      "Calculating fitnesses: 100%|█████████████████████████████████████████████████████████████████████████████████████████████████████████████████████████| 200/200 [00:02<00:00, 70.20it/s]\n"
     ]
    },
    {
     "name": "stdout",
     "output_type": "stream",
     "text": [
      "[Generation: 68] \n",
      " Average Fitness: -118.96875263297306 \n",
      " Best Fitness: 41.656500674902645 \n",
      " Worst Fitness: -540.6417641108071 \n",
      " Standard Error: 7.786756935001567\n"
     ]
    },
    {
     "name": "stderr",
     "output_type": "stream",
     "text": [
      "Generating Offspring: 100%|██████████████████████████████████████████████████████████████████████████████████████████████████████████████████████████| 120/120 [00:09<00:00, 12.77it/s]\n",
      "Calculating fitnesses: 100%|█████████████████████████████████████████████████████████████████████████████████████████████████████████████████████████| 200/200 [00:02<00:00, 73.98it/s]\n"
     ]
    },
    {
     "name": "stdout",
     "output_type": "stream",
     "text": [
      "[Generation: 69] \n",
      " Average Fitness: -105.06428364775059 \n",
      " Best Fitness: 61.156789359856475 \n",
      " Worst Fitness: -537.3366512378523 \n",
      " Standard Error: 7.213217327037635\n"
     ]
    },
    {
     "name": "stderr",
     "output_type": "stream",
     "text": [
      "Generating Offspring: 100%|██████████████████████████████████████████████████████████████████████████████████████████████████████████████████████████| 120/120 [00:12<00:00,  9.84it/s]\n",
      "Calculating fitnesses: 100%|█████████████████████████████████████████████████████████████████████████████████████████████████████████████████████████| 200/200 [00:03<00:00, 64.95it/s]\n"
     ]
    },
    {
     "name": "stdout",
     "output_type": "stream",
     "text": [
      "[Generation: 70] \n",
      " Average Fitness: -150.32021419830326 \n",
      " Best Fitness: 29.59697639987823 \n",
      " Worst Fitness: -1000.3299783106836 \n",
      " Standard Error: 11.167614627803255\n"
     ]
    },
    {
     "name": "stderr",
     "output_type": "stream",
     "text": [
      "Generating Offspring: 100%|██████████████████████████████████████████████████████████████████████████████████████████████████████████████████████████| 120/120 [00:09<00:00, 12.47it/s]\n",
      "Calculating fitnesses: 100%|█████████████████████████████████████████████████████████████████████████████████████████████████████████████████████████| 200/200 [00:02<00:00, 75.89it/s]\n"
     ]
    },
    {
     "name": "stdout",
     "output_type": "stream",
     "text": [
      "[Generation: 71] \n",
      " Average Fitness: -114.3891593563851 \n",
      " Best Fitness: 57.016868344645786 \n",
      " Worst Fitness: -568.4212738291183 \n",
      " Standard Error: 7.18360465745748\n"
     ]
    },
    {
     "name": "stderr",
     "output_type": "stream",
     "text": [
      "Generating Offspring: 100%|██████████████████████████████████████████████████████████████████████████████████████████████████████████████████████████| 120/120 [00:10<00:00, 11.37it/s]\n",
      "Calculating fitnesses: 100%|█████████████████████████████████████████████████████████████████████████████████████████████████████████████████████████| 200/200 [00:02<00:00, 67.84it/s]\n"
     ]
    },
    {
     "name": "stdout",
     "output_type": "stream",
     "text": [
      "[Generation: 72] \n",
      " Average Fitness: -108.77753646143174 \n",
      " Best Fitness: 30.28991718825938 \n",
      " Worst Fitness: -734.7995936960485 \n",
      " Standard Error: 7.961414367257802\n"
     ]
    },
    {
     "name": "stderr",
     "output_type": "stream",
     "text": [
      "Generating Offspring: 100%|██████████████████████████████████████████████████████████████████████████████████████████████████████████████████████████| 120/120 [00:11<00:00, 10.78it/s]\n",
      "Calculating fitnesses: 100%|█████████████████████████████████████████████████████████████████████████████████████████████████████████████████████████| 200/200 [00:03<00:00, 63.78it/s]\n"
     ]
    },
    {
     "name": "stdout",
     "output_type": "stream",
     "text": [
      "[Generation: 73] \n",
      " Average Fitness: -125.88806857430792 \n",
      " Best Fitness: 30.114638396123638 \n",
      " Worst Fitness: -556.3113012444768 \n",
      " Standard Error: 7.8976823312484985\n"
     ]
    },
    {
     "name": "stderr",
     "output_type": "stream",
     "text": [
      "Generating Offspring: 100%|██████████████████████████████████████████████████████████████████████████████████████████████████████████████████████████| 120/120 [00:08<00:00, 14.07it/s]\n",
      "Calculating fitnesses: 100%|█████████████████████████████████████████████████████████████████████████████████████████████████████████████████████████| 200/200 [00:03<00:00, 50.75it/s]\n"
     ]
    },
    {
     "name": "stdout",
     "output_type": "stream",
     "text": [
      "[Generation: 74] \n",
      " Average Fitness: -97.49686216360539 \n",
      " Best Fitness: 57.85913223777098 \n",
      " Worst Fitness: -572.7568850876593 \n",
      " Standard Error: 6.78171581489489\n"
     ]
    },
    {
     "name": "stderr",
     "output_type": "stream",
     "text": [
      "Generating Offspring: 100%|██████████████████████████████████████████████████████████████████████████████████████████████████████████████████████████| 120/120 [00:09<00:00, 12.85it/s]\n",
      "Calculating fitnesses: 100%|█████████████████████████████████████████████████████████████████████████████████████████████████████████████████████████| 200/200 [00:02<00:00, 76.80it/s]\n"
     ]
    },
    {
     "name": "stdout",
     "output_type": "stream",
     "text": [
      "[Generation: 75] \n",
      " Average Fitness: -105.62144924820545 \n",
      " Best Fitness: 22.0265905992228 \n",
      " Worst Fitness: -502.17959742413467 \n",
      " Standard Error: 6.625780092589413\n"
     ]
    },
    {
     "name": "stderr",
     "output_type": "stream",
     "text": [
      "Generating Offspring: 100%|██████████████████████████████████████████████████████████████████████████████████████████████████████████████████████████| 120/120 [00:08<00:00, 13.40it/s]\n",
      "Calculating fitnesses: 100%|█████████████████████████████████████████████████████████████████████████████████████████████████████████████████████████| 200/200 [00:02<00:00, 69.55it/s]\n"
     ]
    },
    {
     "name": "stdout",
     "output_type": "stream",
     "text": [
      "[Generation: 76] \n",
      " Average Fitness: -106.7532263027428 \n",
      " Best Fitness: 48.297872919199364 \n",
      " Worst Fitness: -753.0095656211569 \n",
      " Standard Error: 8.575255467382286\n"
     ]
    },
    {
     "name": "stderr",
     "output_type": "stream",
     "text": [
      "Generating Offspring: 100%|██████████████████████████████████████████████████████████████████████████████████████████████████████████████████████████| 120/120 [00:08<00:00, 13.83it/s]\n",
      "Calculating fitnesses: 100%|█████████████████████████████████████████████████████████████████████████████████████████████████████████████████████████| 200/200 [00:02<00:00, 71.17it/s]\n"
     ]
    },
    {
     "name": "stdout",
     "output_type": "stream",
     "text": [
      "[Generation: 77] \n",
      " Average Fitness: -96.79465620128038 \n",
      " Best Fitness: 46.75600764114853 \n",
      " Worst Fitness: -1041.0514088269206 \n",
      " Standard Error: 9.103215028602836\n"
     ]
    },
    {
     "name": "stderr",
     "output_type": "stream",
     "text": [
      "Generating Offspring: 100%|██████████████████████████████████████████████████████████████████████████████████████████████████████████████████████████| 120/120 [00:08<00:00, 14.35it/s]\n",
      "Calculating fitnesses: 100%|█████████████████████████████████████████████████████████████████████████████████████████████████████████████████████████| 200/200 [00:02<00:00, 68.72it/s]\n"
     ]
    },
    {
     "name": "stdout",
     "output_type": "stream",
     "text": [
      "[Generation: 78] \n",
      " Average Fitness: -93.80980398521712 \n",
      " Best Fitness: 34.86276277882061 \n",
      " Worst Fitness: -622.565930433681 \n",
      " Standard Error: 6.5343553855142025\n"
     ]
    },
    {
     "name": "stderr",
     "output_type": "stream",
     "text": [
      "Generating Offspring: 100%|██████████████████████████████████████████████████████████████████████████████████████████████████████████████████████████| 120/120 [00:08<00:00, 14.99it/s]\n",
      "Calculating fitnesses: 100%|█████████████████████████████████████████████████████████████████████████████████████████████████████████████████████████| 200/200 [00:02<00:00, 68.70it/s]\n"
     ]
    },
    {
     "name": "stdout",
     "output_type": "stream",
     "text": [
      "[Generation: 79] \n",
      " Average Fitness: -112.72618509445707 \n",
      " Best Fitness: 30.899526510700696 \n",
      " Worst Fitness: -772.4371682475022 \n",
      " Standard Error: 8.876770255869356\n"
     ]
    },
    {
     "name": "stderr",
     "output_type": "stream",
     "text": [
      "Generating Offspring: 100%|██████████████████████████████████████████████████████████████████████████████████████████████████████████████████████████| 120/120 [00:08<00:00, 14.52it/s]\n",
      "Calculating fitnesses: 100%|█████████████████████████████████████████████████████████████████████████████████████████████████████████████████████████| 200/200 [00:02<00:00, 70.56it/s]\n"
     ]
    },
    {
     "name": "stdout",
     "output_type": "stream",
     "text": [
      "[Generation: 80] \n",
      " Average Fitness: -102.50808065713545 \n",
      " Best Fitness: 25.267369262393217 \n",
      " Worst Fitness: -611.9249275053073 \n",
      " Standard Error: 8.565467568741118\n"
     ]
    },
    {
     "name": "stderr",
     "output_type": "stream",
     "text": [
      "Generating Offspring: 100%|██████████████████████████████████████████████████████████████████████████████████████████████████████████████████████████| 120/120 [00:09<00:00, 12.64it/s]\n",
      "Calculating fitnesses: 100%|█████████████████████████████████████████████████████████████████████████████████████████████████████████████████████████| 200/200 [00:02<00:00, 68.26it/s]\n"
     ]
    },
    {
     "name": "stdout",
     "output_type": "stream",
     "text": [
      "[Generation: 81] \n",
      " Average Fitness: -106.77415540383873 \n",
      " Best Fitness: 41.07968560407019 \n",
      " Worst Fitness: -907.2215596936236 \n",
      " Standard Error: 10.191923327093802\n"
     ]
    },
    {
     "name": "stderr",
     "output_type": "stream",
     "text": [
      "Generating Offspring: 100%|██████████████████████████████████████████████████████████████████████████████████████████████████████████████████████████| 120/120 [00:08<00:00, 13.88it/s]\n",
      "Calculating fitnesses: 100%|█████████████████████████████████████████████████████████████████████████████████████████████████████████████████████████| 200/200 [00:03<00:00, 62.60it/s]\n"
     ]
    },
    {
     "name": "stdout",
     "output_type": "stream",
     "text": [
      "[Generation: 82] \n",
      " Average Fitness: -100.44200734806634 \n",
      " Best Fitness: 31.996706341282135 \n",
      " Worst Fitness: -690.1890312618657 \n",
      " Standard Error: 9.220849795805199\n"
     ]
    },
    {
     "name": "stderr",
     "output_type": "stream",
     "text": [
      "Generating Offspring: 100%|██████████████████████████████████████████████████████████████████████████████████████████████████████████████████████████| 120/120 [00:08<00:00, 13.47it/s]\n",
      "Calculating fitnesses: 100%|█████████████████████████████████████████████████████████████████████████████████████████████████████████████████████████| 200/200 [00:02<00:00, 68.45it/s]\n"
     ]
    },
    {
     "name": "stdout",
     "output_type": "stream",
     "text": [
      "[Generation: 83] \n",
      " Average Fitness: -102.30246141549364 \n",
      " Best Fitness: 37.457039879172385 \n",
      " Worst Fitness: -1146.1687149241493 \n",
      " Standard Error: 9.943052650900757\n"
     ]
    },
    {
     "name": "stderr",
     "output_type": "stream",
     "text": [
      "Generating Offspring: 100%|██████████████████████████████████████████████████████████████████████████████████████████████████████████████████████████| 120/120 [00:08<00:00, 13.67it/s]\n",
      "Calculating fitnesses: 100%|█████████████████████████████████████████████████████████████████████████████████████████████████████████████████████████| 200/200 [00:02<00:00, 68.92it/s]\n"
     ]
    },
    {
     "name": "stdout",
     "output_type": "stream",
     "text": [
      "[Generation: 84] \n",
      " Average Fitness: -88.9510570689493 \n",
      " Best Fitness: 56.988829252632 \n",
      " Worst Fitness: -588.8281058883213 \n",
      " Standard Error: 7.720983507139691\n"
     ]
    },
    {
     "name": "stderr",
     "output_type": "stream",
     "text": [
      "Generating Offspring: 100%|██████████████████████████████████████████████████████████████████████████████████████████████████████████████████████████| 120/120 [00:08<00:00, 14.90it/s]\n",
      "Calculating fitnesses: 100%|█████████████████████████████████████████████████████████████████████████████████████████████████████████████████████████| 200/200 [00:02<00:00, 66.98it/s]\n"
     ]
    },
    {
     "name": "stdout",
     "output_type": "stream",
     "text": [
      "[Generation: 85] \n",
      " Average Fitness: -103.20974302027615 \n",
      " Best Fitness: 24.456120296358833 \n",
      " Worst Fitness: -688.031554828849 \n",
      " Standard Error: 9.147919991148418\n"
     ]
    },
    {
     "name": "stderr",
     "output_type": "stream",
     "text": [
      "Generating Offspring: 100%|██████████████████████████████████████████████████████████████████████████████████████████████████████████████████████████| 120/120 [00:08<00:00, 14.23it/s]\n",
      "Calculating fitnesses: 100%|█████████████████████████████████████████████████████████████████████████████████████████████████████████████████████████| 200/200 [00:02<00:00, 67.67it/s]\n"
     ]
    },
    {
     "name": "stdout",
     "output_type": "stream",
     "text": [
      "[Generation: 86] \n",
      " Average Fitness: -96.2441838465911 \n",
      " Best Fitness: 41.77155139437795 \n",
      " Worst Fitness: -630.9578360397211 \n",
      " Standard Error: 8.320785267320467\n"
     ]
    },
    {
     "name": "stderr",
     "output_type": "stream",
     "text": [
      "Generating Offspring: 100%|██████████████████████████████████████████████████████████████████████████████████████████████████████████████████████████| 120/120 [00:08<00:00, 14.11it/s]\n",
      "Calculating fitnesses: 100%|█████████████████████████████████████████████████████████████████████████████████████████████████████████████████████████| 200/200 [00:02<00:00, 78.38it/s]\n"
     ]
    },
    {
     "name": "stdout",
     "output_type": "stream",
     "text": [
      "[Generation: 87] \n",
      " Average Fitness: -87.20034126550809 \n",
      " Best Fitness: 53.48741455650253 \n",
      " Worst Fitness: -644.6277863864542 \n",
      " Standard Error: 8.420254796325825\n"
     ]
    },
    {
     "name": "stderr",
     "output_type": "stream",
     "text": [
      "Generating Offspring: 100%|██████████████████████████████████████████████████████████████████████████████████████████████████████████████████████████| 120/120 [00:08<00:00, 14.52it/s]\n",
      "Calculating fitnesses: 100%|█████████████████████████████████████████████████████████████████████████████████████████████████████████████████████████| 200/200 [00:03<00:00, 62.81it/s]\n"
     ]
    },
    {
     "name": "stdout",
     "output_type": "stream",
     "text": [
      "[Generation: 88] \n",
      " Average Fitness: -110.11984513192226 \n",
      " Best Fitness: 33.55791672219871 \n",
      " Worst Fitness: -810.5702723057193 \n",
      " Standard Error: 10.327449632446164\n"
     ]
    },
    {
     "name": "stderr",
     "output_type": "stream",
     "text": [
      "Generating Offspring: 100%|██████████████████████████████████████████████████████████████████████████████████████████████████████████████████████████| 120/120 [00:08<00:00, 14.34it/s]\n",
      "Calculating fitnesses: 100%|█████████████████████████████████████████████████████████████████████████████████████████████████████████████████████████| 200/200 [00:02<00:00, 71.00it/s]\n"
     ]
    },
    {
     "name": "stdout",
     "output_type": "stream",
     "text": [
      "[Generation: 89] \n",
      " Average Fitness: -73.02213446959242 \n",
      " Best Fitness: 26.777940055042393 \n",
      " Worst Fitness: -470.1657543181 \n",
      " Standard Error: 6.609009579060498\n"
     ]
    },
    {
     "name": "stderr",
     "output_type": "stream",
     "text": [
      "Generating Offspring: 100%|██████████████████████████████████████████████████████████████████████████████████████████████████████████████████████████| 120/120 [00:08<00:00, 13.93it/s]\n",
      "Calculating fitnesses: 100%|█████████████████████████████████████████████████████████████████████████████████████████████████████████████████████████| 200/200 [00:02<00:00, 80.88it/s]\n"
     ]
    },
    {
     "name": "stdout",
     "output_type": "stream",
     "text": [
      "[Generation: 90] \n",
      " Average Fitness: -98.01366119098822 \n",
      " Best Fitness: 57.14827549250441 \n",
      " Worst Fitness: -2329.0964945969395 \n",
      " Standard Error: 13.552949892962621\n"
     ]
    },
    {
     "name": "stderr",
     "output_type": "stream",
     "text": [
      "Generating Offspring: 100%|██████████████████████████████████████████████████████████████████████████████████████████████████████████████████████████| 120/120 [00:08<00:00, 13.80it/s]\n",
      "Calculating fitnesses: 100%|█████████████████████████████████████████████████████████████████████████████████████████████████████████████████████████| 200/200 [00:02<00:00, 72.45it/s]\n"
     ]
    },
    {
     "name": "stdout",
     "output_type": "stream",
     "text": [
      "[Generation: 91] \n",
      " Average Fitness: -83.99811582198366 \n",
      " Best Fitness: 33.90497100765566 \n",
      " Worst Fitness: -535.110053716756 \n",
      " Standard Error: 7.019444021800833\n"
     ]
    },
    {
     "name": "stderr",
     "output_type": "stream",
     "text": [
      "Generating Offspring: 100%|██████████████████████████████████████████████████████████████████████████████████████████████████████████████████████████| 120/120 [00:08<00:00, 14.43it/s]\n",
      "Calculating fitnesses: 100%|█████████████████████████████████████████████████████████████████████████████████████████████████████████████████████████| 200/200 [00:02<00:00, 69.58it/s]\n"
     ]
    },
    {
     "name": "stdout",
     "output_type": "stream",
     "text": [
      "[Generation: 92] \n",
      " Average Fitness: -95.39591675665044 \n",
      " Best Fitness: 45.91357445354609 \n",
      " Worst Fitness: -676.7496119738169 \n",
      " Standard Error: 8.892232476116972\n"
     ]
    },
    {
     "name": "stderr",
     "output_type": "stream",
     "text": [
      "Generating Offspring: 100%|██████████████████████████████████████████████████████████████████████████████████████████████████████████████████████████| 120/120 [00:08<00:00, 13.67it/s]\n",
      "Calculating fitnesses: 100%|█████████████████████████████████████████████████████████████████████████████████████████████████████████████████████████| 200/200 [00:03<00:00, 65.83it/s]\n"
     ]
    },
    {
     "name": "stdout",
     "output_type": "stream",
     "text": [
      "[Generation: 93] \n",
      " Average Fitness: -104.66541331535147 \n",
      " Best Fitness: 45.986027662450624 \n",
      " Worst Fitness: -755.3409914817086 \n",
      " Standard Error: 9.765701013429318\n"
     ]
    },
    {
     "name": "stderr",
     "output_type": "stream",
     "text": [
      "Generating Offspring: 100%|██████████████████████████████████████████████████████████████████████████████████████████████████████████████████████████| 120/120 [00:08<00:00, 13.56it/s]\n",
      "Calculating fitnesses: 100%|█████████████████████████████████████████████████████████████████████████████████████████████████████████████████████████| 200/200 [00:02<00:00, 67.62it/s]\n"
     ]
    },
    {
     "name": "stdout",
     "output_type": "stream",
     "text": [
      "[Generation: 94] \n",
      " Average Fitness: -97.15259697394595 \n",
      " Best Fitness: 25.733596669520594 \n",
      " Worst Fitness: -883.0946772845995 \n",
      " Standard Error: 9.027653126700972\n"
     ]
    },
    {
     "name": "stderr",
     "output_type": "stream",
     "text": [
      "Generating Offspring: 100%|██████████████████████████████████████████████████████████████████████████████████████████████████████████████████████████| 120/120 [00:08<00:00, 14.12it/s]\n",
      "Calculating fitnesses: 100%|█████████████████████████████████████████████████████████████████████████████████████████████████████████████████████████| 200/200 [00:03<00:00, 63.83it/s]\n"
     ]
    },
    {
     "name": "stdout",
     "output_type": "stream",
     "text": [
      "[Generation: 95] \n",
      " Average Fitness: -103.72778176420364 \n",
      " Best Fitness: 50.914819524729864 \n",
      " Worst Fitness: -787.09188862351 \n",
      " Standard Error: 9.27924592753816\n"
     ]
    },
    {
     "name": "stderr",
     "output_type": "stream",
     "text": [
      "Generating Offspring: 100%|██████████████████████████████████████████████████████████████████████████████████████████████████████████████████████████| 120/120 [00:08<00:00, 13.47it/s]\n",
      "Calculating fitnesses: 100%|█████████████████████████████████████████████████████████████████████████████████████████████████████████████████████████| 200/200 [00:03<00:00, 64.89it/s]\n"
     ]
    },
    {
     "name": "stdout",
     "output_type": "stream",
     "text": [
      "[Generation: 96] \n",
      " Average Fitness: -83.65854356035729 \n",
      " Best Fitness: 43.377688215949746 \n",
      " Worst Fitness: -1302.0431825243925 \n",
      " Standard Error: 9.19095971472013\n"
     ]
    },
    {
     "name": "stderr",
     "output_type": "stream",
     "text": [
      "Generating Offspring: 100%|██████████████████████████████████████████████████████████████████████████████████████████████████████████████████████████| 120/120 [00:08<00:00, 13.45it/s]\n",
      "Calculating fitnesses: 100%|█████████████████████████████████████████████████████████████████████████████████████████████████████████████████████████| 200/200 [00:02<00:00, 72.34it/s]\n"
     ]
    },
    {
     "name": "stdout",
     "output_type": "stream",
     "text": [
      "[Generation: 97] \n",
      " Average Fitness: -102.74351705189487 \n",
      " Best Fitness: 31.11101613993293 \n",
      " Worst Fitness: -573.636100408522 \n",
      " Standard Error: 8.348966037436892\n"
     ]
    },
    {
     "name": "stderr",
     "output_type": "stream",
     "text": [
      "Generating Offspring: 100%|██████████████████████████████████████████████████████████████████████████████████████████████████████████████████████████| 120/120 [00:09<00:00, 13.17it/s]\n",
      "Calculating fitnesses: 100%|█████████████████████████████████████████████████████████████████████████████████████████████████████████████████████████| 200/200 [00:02<00:00, 74.56it/s]\n"
     ]
    },
    {
     "name": "stdout",
     "output_type": "stream",
     "text": [
      "[Generation: 98] \n",
      " Average Fitness: -98.54070054221619 \n",
      " Best Fitness: 45.75030907431247 \n",
      " Worst Fitness: -555.112139394158 \n",
      " Standard Error: 8.18468344481296\n"
     ]
    },
    {
     "name": "stderr",
     "output_type": "stream",
     "text": [
      "Generating Offspring: 100%|██████████████████████████████████████████████████████████████████████████████████████████████████████████████████████████| 120/120 [00:08<00:00, 13.74it/s]\n",
      "Calculating fitnesses: 100%|█████████████████████████████████████████████████████████████████████████████████████████████████████████████████████████| 200/200 [00:02<00:00, 69.39it/s]\n"
     ]
    },
    {
     "name": "stdout",
     "output_type": "stream",
     "text": [
      "[Generation: 99] \n",
      " Average Fitness: -93.51560412601572 \n",
      " Best Fitness: 36.65708733865088 \n",
      " Worst Fitness: -893.625893501526 \n",
      " Standard Error: 9.328514262275025\n"
     ]
    },
    {
     "name": "stderr",
     "output_type": "stream",
     "text": [
      "Generating Offspring: 100%|██████████████████████████████████████████████████████████████████████████████████████████████████████████████████████████| 120/120 [00:08<00:00, 13.50it/s]\n",
      "Calculating fitnesses: 100%|█████████████████████████████████████████████████████████████████████████████████████████████████████████████████████████| 200/200 [00:03<00:00, 64.54it/s]\n"
     ]
    },
    {
     "name": "stdout",
     "output_type": "stream",
     "text": [
      "[Generation: 100] \n",
      " Average Fitness: -94.4501068912604 \n",
      " Best Fitness: 41.35372413827514 \n",
      " Worst Fitness: -951.2161462708195 \n",
      " Standard Error: 8.748826262918243\n"
     ]
    },
    {
     "name": "stderr",
     "output_type": "stream",
     "text": [
      "Generating Offspring: 100%|██████████████████████████████████████████████████████████████████████████████████████████████████████████████████████████| 120/120 [00:08<00:00, 13.70it/s]\n",
      "Calculating fitnesses: 100%|█████████████████████████████████████████████████████████████████████████████████████████████████████████████████████████| 200/200 [00:03<00:00, 65.88it/s]\n"
     ]
    },
    {
     "name": "stdout",
     "output_type": "stream",
     "text": [
      "[Generation: 101] \n",
      " Average Fitness: -90.37460008537458 \n",
      " Best Fitness: 36.19134159006518 \n",
      " Worst Fitness: -498.0254187031764 \n",
      " Standard Error: 7.699076407845002\n"
     ]
    },
    {
     "name": "stderr",
     "output_type": "stream",
     "text": [
      "Generating Offspring: 100%|██████████████████████████████████████████████████████████████████████████████████████████████████████████████████████████| 120/120 [00:08<00:00, 13.78it/s]\n",
      "Calculating fitnesses: 100%|█████████████████████████████████████████████████████████████████████████████████████████████████████████████████████████| 200/200 [00:03<00:00, 64.15it/s]\n"
     ]
    },
    {
     "name": "stdout",
     "output_type": "stream",
     "text": [
      "[Generation: 102] \n",
      " Average Fitness: -97.37051508666062 \n",
      " Best Fitness: 44.31642894274779 \n",
      " Worst Fitness: -986.298958284049 \n",
      " Standard Error: 10.376166225290836\n"
     ]
    },
    {
     "name": "stderr",
     "output_type": "stream",
     "text": [
      "Generating Offspring: 100%|██████████████████████████████████████████████████████████████████████████████████████████████████████████████████████████| 120/120 [00:08<00:00, 13.79it/s]\n",
      "Calculating fitnesses: 100%|█████████████████████████████████████████████████████████████████████████████████████████████████████████████████████████| 200/200 [00:02<00:00, 72.33it/s]\n"
     ]
    },
    {
     "name": "stdout",
     "output_type": "stream",
     "text": [
      "[Generation: 103] \n",
      " Average Fitness: -86.3895918490329 \n",
      " Best Fitness: 37.81934067928901 \n",
      " Worst Fitness: -482.1780498471565 \n",
      " Standard Error: 6.940999433010927\n"
     ]
    },
    {
     "name": "stderr",
     "output_type": "stream",
     "text": [
      "Generating Offspring: 100%|██████████████████████████████████████████████████████████████████████████████████████████████████████████████████████████| 120/120 [00:08<00:00, 13.60it/s]\n",
      "Calculating fitnesses: 100%|█████████████████████████████████████████████████████████████████████████████████████████████████████████████████████████| 200/200 [00:03<00:00, 63.23it/s]\n"
     ]
    },
    {
     "name": "stdout",
     "output_type": "stream",
     "text": [
      "[Generation: 104] \n",
      " Average Fitness: -98.03783313093943 \n",
      " Best Fitness: 40.2313530662353 \n",
      " Worst Fitness: -597.8968965049501 \n",
      " Standard Error: 9.15456164282547\n"
     ]
    },
    {
     "name": "stderr",
     "output_type": "stream",
     "text": [
      "Generating Offspring: 100%|██████████████████████████████████████████████████████████████████████████████████████████████████████████████████████████| 120/120 [00:08<00:00, 13.77it/s]\n",
      "Calculating fitnesses: 100%|█████████████████████████████████████████████████████████████████████████████████████████████████████████████████████████| 200/200 [00:03<00:00, 65.41it/s]\n"
     ]
    },
    {
     "name": "stdout",
     "output_type": "stream",
     "text": [
      "[Generation: 105] \n",
      " Average Fitness: -105.69840660120616 \n",
      " Best Fitness: 38.841852700784585 \n",
      " Worst Fitness: -592.7636281551613 \n",
      " Standard Error: 9.575519591573457\n"
     ]
    },
    {
     "name": "stderr",
     "output_type": "stream",
     "text": [
      "Generating Offspring: 100%|██████████████████████████████████████████████████████████████████████████████████████████████████████████████████████████| 120/120 [00:08<00:00, 13.42it/s]\n",
      "Calculating fitnesses: 100%|█████████████████████████████████████████████████████████████████████████████████████████████████████████████████████████| 200/200 [00:02<00:00, 69.85it/s]\n"
     ]
    },
    {
     "name": "stdout",
     "output_type": "stream",
     "text": [
      "[Generation: 106] \n",
      " Average Fitness: -82.54035409771117 \n",
      " Best Fitness: 43.34010747599132 \n",
      " Worst Fitness: -529.8181572557422 \n",
      " Standard Error: 7.563344483411322\n"
     ]
    },
    {
     "name": "stderr",
     "output_type": "stream",
     "text": [
      "Generating Offspring: 100%|██████████████████████████████████████████████████████████████████████████████████████████████████████████████████████████| 120/120 [00:08<00:00, 14.09it/s]\n",
      "Calculating fitnesses: 100%|█████████████████████████████████████████████████████████████████████████████████████████████████████████████████████████| 200/200 [00:02<00:00, 74.79it/s]\n"
     ]
    },
    {
     "name": "stdout",
     "output_type": "stream",
     "text": [
      "[Generation: 107] \n",
      " Average Fitness: -96.80758947066202 \n",
      " Best Fitness: 44.32183922990333 \n",
      " Worst Fitness: -629.2641288464632 \n",
      " Standard Error: 8.77204020786761\n"
     ]
    },
    {
     "name": "stderr",
     "output_type": "stream",
     "text": [
      "Generating Offspring: 100%|██████████████████████████████████████████████████████████████████████████████████████████████████████████████████████████| 120/120 [00:09<00:00, 13.22it/s]\n",
      "Calculating fitnesses: 100%|█████████████████████████████████████████████████████████████████████████████████████████████████████████████████████████| 200/200 [00:02<00:00, 70.92it/s]\n"
     ]
    },
    {
     "name": "stdout",
     "output_type": "stream",
     "text": [
      "[Generation: 108] \n",
      " Average Fitness: -78.13211905233906 \n",
      " Best Fitness: 38.690884346526104 \n",
      " Worst Fitness: -928.6855543220227 \n",
      " Standard Error: 8.512468314039946\n"
     ]
    },
    {
     "name": "stderr",
     "output_type": "stream",
     "text": [
      "Generating Offspring: 100%|██████████████████████████████████████████████████████████████████████████████████████████████████████████████████████████| 120/120 [00:08<00:00, 13.40it/s]\n",
      "Calculating fitnesses: 100%|█████████████████████████████████████████████████████████████████████████████████████████████████████████████████████████| 200/200 [00:02<00:00, 67.97it/s]\n"
     ]
    },
    {
     "name": "stdout",
     "output_type": "stream",
     "text": [
      "[Generation: 109] \n",
      " Average Fitness: -107.36405105936976 \n",
      " Best Fitness: 36.810145843874636 \n",
      " Worst Fitness: -789.769281651029 \n",
      " Standard Error: 8.957772279986296\n"
     ]
    },
    {
     "name": "stderr",
     "output_type": "stream",
     "text": [
      "Generating Offspring: 100%|██████████████████████████████████████████████████████████████████████████████████████████████████████████████████████████| 120/120 [00:08<00:00, 14.06it/s]\n",
      "Calculating fitnesses: 100%|█████████████████████████████████████████████████████████████████████████████████████████████████████████████████████████| 200/200 [00:03<00:00, 64.09it/s]\n"
     ]
    },
    {
     "name": "stdout",
     "output_type": "stream",
     "text": [
      "[Generation: 110] \n",
      " Average Fitness: -96.06572882163917 \n",
      " Best Fitness: 33.40327529676216 \n",
      " Worst Fitness: -2964.791145670863 \n",
      " Standard Error: 16.278487504649686\n"
     ]
    },
    {
     "name": "stderr",
     "output_type": "stream",
     "text": [
      "Generating Offspring: 100%|██████████████████████████████████████████████████████████████████████████████████████████████████████████████████████████| 120/120 [00:08<00:00, 13.41it/s]\n",
      "Calculating fitnesses: 100%|█████████████████████████████████████████████████████████████████████████████████████████████████████████████████████████| 200/200 [00:02<00:00, 69.19it/s]\n"
     ]
    },
    {
     "name": "stdout",
     "output_type": "stream",
     "text": [
      "[Generation: 111] \n",
      " Average Fitness: -99.76977116172606 \n",
      " Best Fitness: 47.92601194738637 \n",
      " Worst Fitness: -648.5709405858461 \n",
      " Standard Error: 8.803849991807933\n"
     ]
    },
    {
     "name": "stderr",
     "output_type": "stream",
     "text": [
      "Generating Offspring: 100%|██████████████████████████████████████████████████████████████████████████████████████████████████████████████████████████| 120/120 [00:08<00:00, 13.90it/s]\n",
      "Calculating fitnesses: 100%|█████████████████████████████████████████████████████████████████████████████████████████████████████████████████████████| 200/200 [00:02<00:00, 68.95it/s]\n"
     ]
    },
    {
     "name": "stdout",
     "output_type": "stream",
     "text": [
      "[Generation: 112] \n",
      " Average Fitness: -114.86755872394049 \n",
      " Best Fitness: 39.563488760149795 \n",
      " Worst Fitness: -791.3444121965392 \n",
      " Standard Error: 10.609797859590596\n"
     ]
    },
    {
     "name": "stderr",
     "output_type": "stream",
     "text": [
      "Generating Offspring: 100%|██████████████████████████████████████████████████████████████████████████████████████████████████████████████████████████| 120/120 [00:08<00:00, 13.82it/s]\n",
      "Calculating fitnesses: 100%|█████████████████████████████████████████████████████████████████████████████████████████████████████████████████████████| 200/200 [00:03<00:00, 65.80it/s]\n"
     ]
    },
    {
     "name": "stdout",
     "output_type": "stream",
     "text": [
      "[Generation: 113] \n",
      " Average Fitness: -102.36116038297202 \n",
      " Best Fitness: 51.00161303709527 \n",
      " Worst Fitness: -1083.8714741263957 \n",
      " Standard Error: 10.456574367251166\n"
     ]
    },
    {
     "name": "stderr",
     "output_type": "stream",
     "text": [
      "Generating Offspring: 100%|██████████████████████████████████████████████████████████████████████████████████████████████████████████████████████████| 120/120 [00:09<00:00, 13.33it/s]\n",
      "Calculating fitnesses: 100%|█████████████████████████████████████████████████████████████████████████████████████████████████████████████████████████| 200/200 [00:03<00:00, 64.05it/s]\n"
     ]
    },
    {
     "name": "stdout",
     "output_type": "stream",
     "text": [
      "[Generation: 114] \n",
      " Average Fitness: -92.57821583384644 \n",
      " Best Fitness: 47.98952924475685 \n",
      " Worst Fitness: -980.1268984547283 \n",
      " Standard Error: 9.118426988600698\n"
     ]
    },
    {
     "name": "stderr",
     "output_type": "stream",
     "text": [
      "Generating Offspring: 100%|██████████████████████████████████████████████████████████████████████████████████████████████████████████████████████████| 120/120 [00:08<00:00, 13.44it/s]\n",
      "Calculating fitnesses: 100%|█████████████████████████████████████████████████████████████████████████████████████████████████████████████████████████| 200/200 [00:02<00:00, 75.47it/s]\n"
     ]
    },
    {
     "name": "stdout",
     "output_type": "stream",
     "text": [
      "[Generation: 115] \n",
      " Average Fitness: -72.97561152304128 \n",
      " Best Fitness: 34.96650328046806 \n",
      " Worst Fitness: -512.692504702685 \n",
      " Standard Error: 7.080917390968653\n"
     ]
    },
    {
     "name": "stderr",
     "output_type": "stream",
     "text": [
      "Generating Offspring: 100%|██████████████████████████████████████████████████████████████████████████████████████████████████████████████████████████| 120/120 [00:08<00:00, 13.69it/s]\n",
      "Calculating fitnesses: 100%|█████████████████████████████████████████████████████████████████████████████████████████████████████████████████████████| 200/200 [00:03<00:00, 61.52it/s]\n"
     ]
    },
    {
     "name": "stdout",
     "output_type": "stream",
     "text": [
      "[Generation: 116] \n",
      " Average Fitness: -104.01550689033581 \n",
      " Best Fitness: 33.26692299625688 \n",
      " Worst Fitness: -775.2325787601881 \n",
      " Standard Error: 10.06622601329084\n"
     ]
    },
    {
     "name": "stderr",
     "output_type": "stream",
     "text": [
      "Generating Offspring: 100%|██████████████████████████████████████████████████████████████████████████████████████████████████████████████████████████| 120/120 [00:09<00:00, 12.50it/s]\n",
      "Calculating fitnesses: 100%|█████████████████████████████████████████████████████████████████████████████████████████████████████████████████████████| 200/200 [00:03<00:00, 63.65it/s]\n"
     ]
    },
    {
     "name": "stdout",
     "output_type": "stream",
     "text": [
      "[Generation: 117] \n",
      " Average Fitness: -104.5050905612674 \n",
      " Best Fitness: 35.699760792400156 \n",
      " Worst Fitness: -783.5594820571813 \n",
      " Standard Error: 9.343228807832139\n"
     ]
    },
    {
     "name": "stderr",
     "output_type": "stream",
     "text": [
      "Generating Offspring: 100%|██████████████████████████████████████████████████████████████████████████████████████████████████████████████████████████| 120/120 [00:09<00:00, 12.45it/s]\n",
      "Calculating fitnesses: 100%|█████████████████████████████████████████████████████████████████████████████████████████████████████████████████████████| 200/200 [00:02<00:00, 68.39it/s]\n"
     ]
    },
    {
     "name": "stdout",
     "output_type": "stream",
     "text": [
      "[Generation: 118] \n",
      " Average Fitness: -88.95116270291804 \n",
      " Best Fitness: 42.04215614779079 \n",
      " Worst Fitness: -745.1204326830109 \n",
      " Standard Error: 8.755118941902571\n"
     ]
    },
    {
     "name": "stderr",
     "output_type": "stream",
     "text": [
      "Generating Offspring: 100%|██████████████████████████████████████████████████████████████████████████████████████████████████████████████████████████| 120/120 [00:09<00:00, 12.87it/s]\n",
      "Calculating fitnesses: 100%|█████████████████████████████████████████████████████████████████████████████████████████████████████████████████████████| 200/200 [00:02<00:00, 71.94it/s]\n"
     ]
    },
    {
     "name": "stdout",
     "output_type": "stream",
     "text": [
      "[Generation: 119] \n",
      " Average Fitness: -94.30452027700623 \n",
      " Best Fitness: 39.50615689672165 \n",
      " Worst Fitness: -617.9737022437571 \n",
      " Standard Error: 8.877019705652192\n"
     ]
    },
    {
     "name": "stderr",
     "output_type": "stream",
     "text": [
      "Generating Offspring: 100%|██████████████████████████████████████████████████████████████████████████████████████████████████████████████████████████| 120/120 [00:08<00:00, 13.63it/s]\n",
      "Calculating fitnesses: 100%|█████████████████████████████████████████████████████████████████████████████████████████████████████████████████████████| 200/200 [00:02<00:00, 69.75it/s]\n"
     ]
    },
    {
     "name": "stdout",
     "output_type": "stream",
     "text": [
      "[Generation: 120] \n",
      " Average Fitness: -102.71407206560869 \n",
      " Best Fitness: 44.75797626449864 \n",
      " Worst Fitness: -914.6185510331791 \n",
      " Standard Error: 9.19315785555344\n"
     ]
    },
    {
     "name": "stderr",
     "output_type": "stream",
     "text": [
      "Generating Offspring: 100%|██████████████████████████████████████████████████████████████████████████████████████████████████████████████████████████| 120/120 [00:08<00:00, 13.69it/s]\n",
      "Calculating fitnesses: 100%|█████████████████████████████████████████████████████████████████████████████████████████████████████████████████████████| 200/200 [00:02<00:00, 71.97it/s]\n"
     ]
    },
    {
     "name": "stdout",
     "output_type": "stream",
     "text": [
      "[Generation: 121] \n",
      " Average Fitness: -87.00013748471761 \n",
      " Best Fitness: 42.768358024709585 \n",
      " Worst Fitness: -697.7058683054476 \n",
      " Standard Error: 7.859578268056488\n"
     ]
    },
    {
     "name": "stderr",
     "output_type": "stream",
     "text": [
      "Generating Offspring: 100%|██████████████████████████████████████████████████████████████████████████████████████████████████████████████████████████| 120/120 [00:09<00:00, 13.22it/s]\n",
      "Calculating fitnesses: 100%|█████████████████████████████████████████████████████████████████████████████████████████████████████████████████████████| 200/200 [00:03<00:00, 65.57it/s]\n"
     ]
    },
    {
     "name": "stdout",
     "output_type": "stream",
     "text": [
      "[Generation: 122] \n",
      " Average Fitness: -90.45547518886993 \n",
      " Best Fitness: 44.88410463997798 \n",
      " Worst Fitness: -695.6894997028223 \n",
      " Standard Error: 8.115673399081146\n"
     ]
    },
    {
     "name": "stderr",
     "output_type": "stream",
     "text": [
      "Generating Offspring: 100%|██████████████████████████████████████████████████████████████████████████████████████████████████████████████████████████| 120/120 [00:08<00:00, 14.11it/s]\n",
      "Calculating fitnesses: 100%|█████████████████████████████████████████████████████████████████████████████████████████████████████████████████████████| 200/200 [00:02<00:00, 69.30it/s]\n"
     ]
    },
    {
     "name": "stdout",
     "output_type": "stream",
     "text": [
      "[Generation: 123] \n",
      " Average Fitness: -100.03330273440706 \n",
      " Best Fitness: 48.92974824910365 \n",
      " Worst Fitness: -739.0221904232245 \n",
      " Standard Error: 9.039886578276185\n"
     ]
    },
    {
     "name": "stderr",
     "output_type": "stream",
     "text": [
      "Generating Offspring: 100%|██████████████████████████████████████████████████████████████████████████████████████████████████████████████████████████| 120/120 [00:09<00:00, 13.13it/s]\n",
      "Calculating fitnesses: 100%|█████████████████████████████████████████████████████████████████████████████████████████████████████████████████████████| 200/200 [00:03<00:00, 66.48it/s]\n"
     ]
    },
    {
     "name": "stdout",
     "output_type": "stream",
     "text": [
      "[Generation: 124] \n",
      " Average Fitness: -125.28036722215103 \n",
      " Best Fitness: 56.01859496871808 \n",
      " Worst Fitness: -1990.6684796705392 \n",
      " Standard Error: 15.169543158500554\n"
     ]
    },
    {
     "name": "stderr",
     "output_type": "stream",
     "text": [
      "Generating Offspring: 100%|██████████████████████████████████████████████████████████████████████████████████████████████████████████████████████████| 120/120 [00:07<00:00, 15.34it/s]\n",
      "Calculating fitnesses: 100%|█████████████████████████████████████████████████████████████████████████████████████████████████████████████████████████| 200/200 [00:02<00:00, 76.98it/s]\n"
     ]
    },
    {
     "name": "stdout",
     "output_type": "stream",
     "text": [
      "[Generation: 125] \n",
      " Average Fitness: -75.11227555735358 \n",
      " Best Fitness: 41.574077078638595 \n",
      " Worst Fitness: -453.48445089466315 \n",
      " Standard Error: 6.645339145945425\n"
     ]
    },
    {
     "name": "stderr",
     "output_type": "stream",
     "text": [
      "Generating Offspring: 100%|██████████████████████████████████████████████████████████████████████████████████████████████████████████████████████████| 120/120 [00:07<00:00, 15.35it/s]\n",
      "Calculating fitnesses: 100%|█████████████████████████████████████████████████████████████████████████████████████████████████████████████████████████| 200/200 [00:02<00:00, 77.55it/s]\n"
     ]
    },
    {
     "name": "stdout",
     "output_type": "stream",
     "text": [
      "[Generation: 126] \n",
      " Average Fitness: -96.73404504137885 \n",
      " Best Fitness: 41.847092565124086 \n",
      " Worst Fitness: -748.3939161161242 \n",
      " Standard Error: 9.584419788440124\n"
     ]
    },
    {
     "name": "stderr",
     "output_type": "stream",
     "text": [
      "Generating Offspring: 100%|██████████████████████████████████████████████████████████████████████████████████████████████████████████████████████████| 120/120 [00:08<00:00, 14.32it/s]\n",
      "Calculating fitnesses: 100%|█████████████████████████████████████████████████████████████████████████████████████████████████████████████████████████| 200/200 [00:02<00:00, 73.50it/s]\n"
     ]
    },
    {
     "name": "stdout",
     "output_type": "stream",
     "text": [
      "[Generation: 127] \n",
      " Average Fitness: -104.50065299786675 \n",
      " Best Fitness: 46.18569650458605 \n",
      " Worst Fitness: -1802.915648819587 \n",
      " Standard Error: 11.971015351850912\n"
     ]
    },
    {
     "name": "stderr",
     "output_type": "stream",
     "text": [
      "Generating Offspring: 100%|██████████████████████████████████████████████████████████████████████████████████████████████████████████████████████████| 120/120 [00:08<00:00, 13.79it/s]\n",
      "Calculating fitnesses: 100%|█████████████████████████████████████████████████████████████████████████████████████████████████████████████████████████| 200/200 [00:02<00:00, 74.19it/s]\n"
     ]
    },
    {
     "name": "stdout",
     "output_type": "stream",
     "text": [
      "[Generation: 128] \n",
      " Average Fitness: -90.49780665716395 \n",
      " Best Fitness: 21.873926410673548 \n",
      " Worst Fitness: -671.2336755217494 \n",
      " Standard Error: 7.762941840139001\n"
     ]
    },
    {
     "name": "stderr",
     "output_type": "stream",
     "text": [
      "Generating Offspring: 100%|██████████████████████████████████████████████████████████████████████████████████████████████████████████████████████████| 120/120 [00:08<00:00, 14.52it/s]\n",
      "Calculating fitnesses: 100%|█████████████████████████████████████████████████████████████████████████████████████████████████████████████████████████| 200/200 [00:02<00:00, 73.46it/s]\n"
     ]
    },
    {
     "name": "stdout",
     "output_type": "stream",
     "text": [
      "[Generation: 129] \n",
      " Average Fitness: -94.54599127746187 \n",
      " Best Fitness: 32.23233478048488 \n",
      " Worst Fitness: -578.799101852733 \n",
      " Standard Error: 7.4070144446590405\n"
     ]
    },
    {
     "name": "stderr",
     "output_type": "stream",
     "text": [
      "Generating Offspring: 100%|██████████████████████████████████████████████████████████████████████████████████████████████████████████████████████████| 120/120 [00:08<00:00, 13.40it/s]\n",
      "Calculating fitnesses: 100%|█████████████████████████████████████████████████████████████████████████████████████████████████████████████████████████| 200/200 [00:02<00:00, 70.86it/s]\n"
     ]
    },
    {
     "name": "stdout",
     "output_type": "stream",
     "text": [
      "[Generation: 130] \n",
      " Average Fitness: -97.18346445983883 \n",
      " Best Fitness: 39.90028725325561 \n",
      " Worst Fitness: -559.625179879431 \n",
      " Standard Error: 8.501887849732498\n"
     ]
    },
    {
     "name": "stderr",
     "output_type": "stream",
     "text": [
      "Generating Offspring: 100%|██████████████████████████████████████████████████████████████████████████████████████████████████████████████████████████| 120/120 [00:08<00:00, 13.98it/s]\n",
      "Calculating fitnesses: 100%|█████████████████████████████████████████████████████████████████████████████████████████████████████████████████████████| 200/200 [00:03<00:00, 66.66it/s]\n"
     ]
    },
    {
     "name": "stdout",
     "output_type": "stream",
     "text": [
      "[Generation: 131] \n",
      " Average Fitness: -97.56281659183944 \n",
      " Best Fitness: 47.25897102926368 \n",
      " Worst Fitness: -788.5919989934299 \n",
      " Standard Error: 9.51253872869739\n"
     ]
    },
    {
     "name": "stderr",
     "output_type": "stream",
     "text": [
      "Generating Offspring: 100%|██████████████████████████████████████████████████████████████████████████████████████████████████████████████████████████| 120/120 [00:07<00:00, 15.69it/s]\n",
      "Calculating fitnesses: 100%|█████████████████████████████████████████████████████████████████████████████████████████████████████████████████████████| 200/200 [00:02<00:00, 71.91it/s]\n"
     ]
    },
    {
     "name": "stdout",
     "output_type": "stream",
     "text": [
      "[Generation: 132] \n",
      " Average Fitness: -103.90686587708697 \n",
      " Best Fitness: 44.47651727218559 \n",
      " Worst Fitness: -560.8474820767644 \n",
      " Standard Error: 8.608193575695713\n"
     ]
    },
    {
     "name": "stderr",
     "output_type": "stream",
     "text": [
      "Generating Offspring: 100%|██████████████████████████████████████████████████████████████████████████████████████████████████████████████████████████| 120/120 [00:08<00:00, 14.29it/s]\n",
      "Calculating fitnesses: 100%|█████████████████████████████████████████████████████████████████████████████████████████████████████████████████████████| 200/200 [00:02<00:00, 72.01it/s]\n"
     ]
    },
    {
     "name": "stdout",
     "output_type": "stream",
     "text": [
      "[Generation: 133] \n",
      " Average Fitness: -93.14208879017339 \n",
      " Best Fitness: 42.4443938303244 \n",
      " Worst Fitness: -598.1936162661046 \n",
      " Standard Error: 8.018974378141168\n"
     ]
    },
    {
     "name": "stderr",
     "output_type": "stream",
     "text": [
      "Generating Offspring: 100%|██████████████████████████████████████████████████████████████████████████████████████████████████████████████████████████| 120/120 [00:07<00:00, 15.62it/s]\n",
      "Calculating fitnesses: 100%|█████████████████████████████████████████████████████████████████████████████████████████████████████████████████████████| 200/200 [00:02<00:00, 77.40it/s]\n"
     ]
    },
    {
     "name": "stdout",
     "output_type": "stream",
     "text": [
      "[Generation: 134] \n",
      " Average Fitness: -84.5829491639629 \n",
      " Best Fitness: 28.753831851118036 \n",
      " Worst Fitness: -827.8961521722103 \n",
      " Standard Error: 8.445513608551517\n"
     ]
    },
    {
     "name": "stderr",
     "output_type": "stream",
     "text": [
      "Generating Offspring: 100%|██████████████████████████████████████████████████████████████████████████████████████████████████████████████████████████| 120/120 [00:08<00:00, 14.24it/s]\n",
      "Calculating fitnesses: 100%|█████████████████████████████████████████████████████████████████████████████████████████████████████████████████████████| 200/200 [00:02<00:00, 75.44it/s]\n"
     ]
    },
    {
     "name": "stdout",
     "output_type": "stream",
     "text": [
      "[Generation: 135] \n",
      " Average Fitness: -94.50934613450427 \n",
      " Best Fitness: 28.378147129695037 \n",
      " Worst Fitness: -917.0389860835991 \n",
      " Standard Error: 9.236795968699482\n"
     ]
    },
    {
     "name": "stderr",
     "output_type": "stream",
     "text": [
      "Generating Offspring: 100%|██████████████████████████████████████████████████████████████████████████████████████████████████████████████████████████| 120/120 [00:08<00:00, 14.50it/s]\n",
      "Calculating fitnesses: 100%|█████████████████████████████████████████████████████████████████████████████████████████████████████████████████████████| 200/200 [00:02<00:00, 73.97it/s]\n"
     ]
    },
    {
     "name": "stdout",
     "output_type": "stream",
     "text": [
      "[Generation: 136] \n",
      " Average Fitness: -82.10533921944729 \n",
      " Best Fitness: 46.51265825900529 \n",
      " Worst Fitness: -551.2318386116908 \n",
      " Standard Error: 7.809309283294387\n"
     ]
    },
    {
     "name": "stderr",
     "output_type": "stream",
     "text": [
      "Generating Offspring: 100%|██████████████████████████████████████████████████████████████████████████████████████████████████████████████████████████| 120/120 [00:07<00:00, 16.05it/s]\n",
      "Calculating fitnesses: 100%|█████████████████████████████████████████████████████████████████████████████████████████████████████████████████████████| 200/200 [00:03<00:00, 63.36it/s]\n"
     ]
    },
    {
     "name": "stdout",
     "output_type": "stream",
     "text": [
      "[Generation: 137] \n",
      " Average Fitness: -105.03221312805135 \n",
      " Best Fitness: 43.270879266525384 \n",
      " Worst Fitness: -699.9221572700604 \n",
      " Standard Error: 9.297459117937887\n"
     ]
    },
    {
     "name": "stderr",
     "output_type": "stream",
     "text": [
      "Generating Offspring: 100%|██████████████████████████████████████████████████████████████████████████████████████████████████████████████████████████| 120/120 [00:08<00:00, 13.74it/s]\n",
      "Calculating fitnesses: 100%|█████████████████████████████████████████████████████████████████████████████████████████████████████████████████████████| 200/200 [00:02<00:00, 74.37it/s]\n"
     ]
    },
    {
     "name": "stdout",
     "output_type": "stream",
     "text": [
      "[Generation: 138] \n",
      " Average Fitness: -114.52434278620186 \n",
      " Best Fitness: 50.20843458292691 \n",
      " Worst Fitness: -1618.9209031687633 \n",
      " Standard Error: 11.875254843061146\n"
     ]
    },
    {
     "name": "stderr",
     "output_type": "stream",
     "text": [
      "Generating Offspring: 100%|██████████████████████████████████████████████████████████████████████████████████████████████████████████████████████████| 120/120 [00:08<00:00, 14.66it/s]\n",
      "Calculating fitnesses: 100%|█████████████████████████████████████████████████████████████████████████████████████████████████████████████████████████| 200/200 [00:02<00:00, 69.21it/s]\n"
     ]
    },
    {
     "name": "stdout",
     "output_type": "stream",
     "text": [
      "[Generation: 139] \n",
      " Average Fitness: -97.92024744449809 \n",
      " Best Fitness: 51.85267590197935 \n",
      " Worst Fitness: -1591.3209831654653 \n",
      " Standard Error: 11.83611671456174\n"
     ]
    },
    {
     "name": "stderr",
     "output_type": "stream",
     "text": [
      "Generating Offspring: 100%|██████████████████████████████████████████████████████████████████████████████████████████████████████████████████████████| 120/120 [00:07<00:00, 15.12it/s]\n",
      "Calculating fitnesses: 100%|█████████████████████████████████████████████████████████████████████████████████████████████████████████████████████████| 200/200 [00:02<00:00, 74.56it/s]\n"
     ]
    },
    {
     "name": "stdout",
     "output_type": "stream",
     "text": [
      "[Generation: 140] \n",
      " Average Fitness: -83.915967851726 \n",
      " Best Fitness: 46.38790016772069 \n",
      " Worst Fitness: -477.79950799654085 \n",
      " Standard Error: 7.545898624518537\n"
     ]
    },
    {
     "name": "stderr",
     "output_type": "stream",
     "text": [
      "Generating Offspring: 100%|██████████████████████████████████████████████████████████████████████████████████████████████████████████████████████████| 120/120 [00:07<00:00, 15.75it/s]\n",
      "Calculating fitnesses: 100%|█████████████████████████████████████████████████████████████████████████████████████████████████████████████████████████| 200/200 [00:02<00:00, 74.51it/s]\n"
     ]
    },
    {
     "name": "stdout",
     "output_type": "stream",
     "text": [
      "[Generation: 141] \n",
      " Average Fitness: -102.65933500457697 \n",
      " Best Fitness: 46.387684738936144 \n",
      " Worst Fitness: -596.98730332114 \n",
      " Standard Error: 8.436621747334172\n"
     ]
    },
    {
     "name": "stderr",
     "output_type": "stream",
     "text": [
      "Generating Offspring: 100%|██████████████████████████████████████████████████████████████████████████████████████████████████████████████████████████| 120/120 [00:07<00:00, 15.21it/s]\n",
      "Calculating fitnesses: 100%|█████████████████████████████████████████████████████████████████████████████████████████████████████████████████████████| 200/200 [00:02<00:00, 83.79it/s]\n"
     ]
    },
    {
     "name": "stdout",
     "output_type": "stream",
     "text": [
      "[Generation: 142] \n",
      " Average Fitness: -88.09921307000894 \n",
      " Best Fitness: 41.40183056123743 \n",
      " Worst Fitness: -509.4047571676842 \n",
      " Standard Error: 7.383233027864556\n"
     ]
    },
    {
     "name": "stderr",
     "output_type": "stream",
     "text": [
      "Generating Offspring: 100%|██████████████████████████████████████████████████████████████████████████████████████████████████████████████████████████| 120/120 [00:08<00:00, 13.80it/s]\n",
      "Calculating fitnesses: 100%|█████████████████████████████████████████████████████████████████████████████████████████████████████████████████████████| 200/200 [00:02<00:00, 76.89it/s]\n"
     ]
    },
    {
     "name": "stdout",
     "output_type": "stream",
     "text": [
      "[Generation: 143] \n",
      " Average Fitness: -106.93525810090973 \n",
      " Best Fitness: 22.531709449464046 \n",
      " Worst Fitness: -676.6957882008775 \n",
      " Standard Error: 8.902348191228661\n"
     ]
    },
    {
     "name": "stderr",
     "output_type": "stream",
     "text": [
      "Generating Offspring: 100%|██████████████████████████████████████████████████████████████████████████████████████████████████████████████████████████| 120/120 [00:08<00:00, 14.57it/s]\n",
      "Calculating fitnesses: 100%|█████████████████████████████████████████████████████████████████████████████████████████████████████████████████████████| 200/200 [00:02<00:00, 68.83it/s]\n"
     ]
    },
    {
     "name": "stdout",
     "output_type": "stream",
     "text": [
      "[Generation: 144] \n",
      " Average Fitness: -94.10205789351207 \n",
      " Best Fitness: 28.3550743337409 \n",
      " Worst Fitness: -580.970988985704 \n",
      " Standard Error: 8.153216663058949\n"
     ]
    },
    {
     "name": "stderr",
     "output_type": "stream",
     "text": [
      "Generating Offspring: 100%|██████████████████████████████████████████████████████████████████████████████████████████████████████████████████████████| 120/120 [00:08<00:00, 13.46it/s]\n",
      "Calculating fitnesses: 100%|█████████████████████████████████████████████████████████████████████████████████████████████████████████████████████████| 200/200 [00:02<00:00, 73.30it/s]\n"
     ]
    },
    {
     "name": "stdout",
     "output_type": "stream",
     "text": [
      "[Generation: 145] \n",
      " Average Fitness: -85.63157059171103 \n",
      " Best Fitness: 49.90473408906175 \n",
      " Worst Fitness: -782.1241420194126 \n",
      " Standard Error: 8.20755348340702\n"
     ]
    },
    {
     "name": "stderr",
     "output_type": "stream",
     "text": [
      "Generating Offspring: 100%|██████████████████████████████████████████████████████████████████████████████████████████████████████████████████████████| 120/120 [00:07<00:00, 15.64it/s]\n",
      "Calculating fitnesses: 100%|█████████████████████████████████████████████████████████████████████████████████████████████████████████████████████████| 200/200 [00:02<00:00, 72.70it/s]\n"
     ]
    },
    {
     "name": "stdout",
     "output_type": "stream",
     "text": [
      "[Generation: 146] \n",
      " Average Fitness: -83.44203415654032 \n",
      " Best Fitness: 38.277591018554745 \n",
      " Worst Fitness: -536.4447862200454 \n",
      " Standard Error: 7.415847055718106\n"
     ]
    },
    {
     "name": "stderr",
     "output_type": "stream",
     "text": [
      "Generating Offspring: 100%|██████████████████████████████████████████████████████████████████████████████████████████████████████████████████████████| 120/120 [00:07<00:00, 15.28it/s]\n",
      "Calculating fitnesses: 100%|█████████████████████████████████████████████████████████████████████████████████████████████████████████████████████████| 200/200 [00:02<00:00, 69.68it/s]\n"
     ]
    },
    {
     "name": "stdout",
     "output_type": "stream",
     "text": [
      "[Generation: 147] \n",
      " Average Fitness: -102.30798033672674 \n",
      " Best Fitness: 39.49138357343341 \n",
      " Worst Fitness: -714.2556235986783 \n",
      " Standard Error: 9.489431250034043\n"
     ]
    },
    {
     "name": "stderr",
     "output_type": "stream",
     "text": [
      "Generating Offspring: 100%|██████████████████████████████████████████████████████████████████████████████████████████████████████████████████████████| 120/120 [00:07<00:00, 15.61it/s]\n",
      "Calculating fitnesses: 100%|█████████████████████████████████████████████████████████████████████████████████████████████████████████████████████████| 200/200 [00:02<00:00, 70.85it/s]\n"
     ]
    },
    {
     "name": "stdout",
     "output_type": "stream",
     "text": [
      "[Generation: 148] \n",
      " Average Fitness: -98.09475520518137 \n",
      " Best Fitness: 32.660806588022126 \n",
      " Worst Fitness: -972.0893598006936 \n",
      " Standard Error: 9.72112182517925\n"
     ]
    },
    {
     "name": "stderr",
     "output_type": "stream",
     "text": [
      "Generating Offspring: 100%|██████████████████████████████████████████████████████████████████████████████████████████████████████████████████████████| 120/120 [00:07<00:00, 15.43it/s]\n",
      "Calculating fitnesses: 100%|█████████████████████████████████████████████████████████████████████████████████████████████████████████████████████████| 200/200 [00:02<00:00, 73.97it/s]\n"
     ]
    },
    {
     "name": "stdout",
     "output_type": "stream",
     "text": [
      "[Generation: 149] \n",
      " Average Fitness: -106.98877394730613 \n",
      " Best Fitness: 40.90226157729805 \n",
      " Worst Fitness: -1107.4129919498332 \n",
      " Standard Error: 10.1010727088782\n"
     ]
    },
    {
     "name": "stderr",
     "output_type": "stream",
     "text": [
      "Generating Offspring: 100%|██████████████████████████████████████████████████████████████████████████████████████████████████████████████████████████| 120/120 [00:08<00:00, 14.87it/s]\n",
      "Calculating fitnesses: 100%|█████████████████████████████████████████████████████████████████████████████████████████████████████████████████████████| 200/200 [00:02<00:00, 75.09it/s]\n"
     ]
    },
    {
     "name": "stdout",
     "output_type": "stream",
     "text": [
      "[Generation: 150] \n",
      " Average Fitness: -87.32720046553938 \n",
      " Best Fitness: 31.756951554201436 \n",
      " Worst Fitness: -794.9123182082103 \n",
      " Standard Error: 7.673691622775125\n"
     ]
    },
    {
     "name": "stderr",
     "output_type": "stream",
     "text": [
      "Generating Offspring: 100%|██████████████████████████████████████████████████████████████████████████████████████████████████████████████████████████| 120/120 [00:07<00:00, 15.18it/s]"
     ]
    },
    {
     "name": "stdout",
     "output_type": "stream",
     "text": [
      "--- 1927.160385131836 seconds ---\n"
     ]
    },
    {
     "name": "stderr",
     "output_type": "stream",
     "text": [
      "\n"
     ]
    }
   ],
   "source": [
    "# Version 1:\n",
    "# Run the genetic algorithm\n",
    "population, history, history_std = main(POPULATION_SIZE=pop_size, \n",
    "                            GENERATIONS=gens, \n",
    "                            ELITISM=elit, \n",
    "                            TOURNAMENT_SIZE=tot_size, \n",
    "                            MUTATION_STRENGTH=1, \n",
    "                            MUTATION_RATE=0.01)"
   ]
  },
  {
   "cell_type": "code",
   "execution_count": 10,
   "id": "2d7cf11e",
   "metadata": {},
   "outputs": [
    {
     "data": {
      "image/png": "[encoded data removed]",
      "text/plain": [
       "<Figure size 2000x1500 with 1 Axes>"
      ]
     },
     "metadata": {},
     "output_type": "display_data"
    }
   ],
   "source": [
    "plt.figure(figsize=(20, 15))\n",
    "plt.plot(np.arange(gens), np.array(history)[:,0], marker='o', linestyle='-', label='Average Fitness')\n",
    "plt.plot(np.arange(gens), np.array(history)[:,1], marker='^', linestyle='-', label='Max Fitness')\n",
    "plt.plot(np.arange(gens), np.array(history)[:,2], marker='s', linestyle='-', label='Min Fitness')\n",
    "plt.fill_between(np.arange(gens), np.array(history)[:,0] - np.array(history_std), np.array(history)[:,0] + np.array(history_std),\n",
    "                 alpha=0.2, color='blue', label='Standard Error')\n",
    "\n",
    "plt.xlabel('Generations')\n",
    "plt.ylabel('Fitness')\n",
    "plt.title('Fitness History')\n",
    "plt.grid()\n",
    "plt.legend()\n",
    "plt.show()"
   ]
  }
 ],
 "metadata": {
  "kernelspec": {
   "display_name": "Python 3 (ipykernel)",
   "language": "python",
   "name": "python3"
  },
  "language_info": {
   "codemirror_mode": {
    "name": "ipython",
    "version": 3
   },
   "file_extension": ".py",
   "mimetype": "text/x-python",
   "name": "python",
   "nbconvert_exporter": "python",
   "pygments_lexer": "ipython3",
   "version": "3.11.4"
  }
 },
 "nbformat": 4,
 "nbformat_minor": 5
}
