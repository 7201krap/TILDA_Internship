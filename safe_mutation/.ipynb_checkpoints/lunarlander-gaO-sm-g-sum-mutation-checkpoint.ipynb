{
 "cells": [
  {
   "cell_type": "code",
   "execution_count": 1,
   "id": "ec50e2b9",
   "metadata": {},
   "outputs": [],
   "source": [
    "#!/usr/bin/env python\n",
    "# coding: utf-8\n",
    "\n",
    "import gym\n",
    "import torch\n",
    "import copy\n",
    "import matplotlib.pyplot as plt\n",
    "import numpy as np\n",
    "import torch.nn as nn\n",
    "import torch.nn.functional as F\n",
    "import torch.nn.init as init\n",
    "import random\n",
    "import statistics\n",
    "import time \n",
    "\n",
    "from torch import nn\n",
    "from tqdm import tqdm\n",
    "from scipy.optimize import minimize_scalar"
   ]
  },
  {
   "cell_type": "code",
   "execution_count": 2,
   "id": "45d6acca",
   "metadata": {},
   "outputs": [],
   "source": [
    "class PolicyNetwork(nn.Module):\n",
    "    def __init__(self, input_dim, output_dim):\n",
    "        super(PolicyNetwork, self).__init__()\n",
    "        self.fc1 = nn.Linear(input_dim, 128)  \n",
    "        self.fc2 = nn.Linear(128, 64)\n",
    "        self.fc3 = nn.Linear(64, output_dim)  \n",
    "\n",
    "        # Apply the weights initialization\n",
    "        self.apply(self.init_weights)\n",
    "\n",
    "    def forward(self, x):\n",
    "        x = F.relu(self.fc1(x))\n",
    "        x = F.relu(self.fc2(x))\n",
    "        x = self.fc3(x)\n",
    "        return x\n",
    "    \n",
    "    def act(self, state):\n",
    "        state_t = torch.as_tensor(state, dtype=torch.float32)\n",
    "        q_values = self.forward(state_t.unsqueeze(0))  \n",
    "        max_q_index = torch.argmax(q_values, dim=1)[0]   \n",
    "        action = max_q_index.detach().item()   \n",
    "        return action  \n",
    "\n",
    "    def init_weights(self, m):\n",
    "        if type(m) == nn.Linear:\n",
    "            init.xavier_normal_(m.weight)\n",
    "            m.bias.data.fill_(0.01)\n",
    "\n",
    "    def inject_parameters(self, pvec):\n",
    "        new_state_dict = {}\n",
    "        count = 0\n",
    "        for name, param in self.named_parameters():\n",
    "            sz = param.data.numel()\n",
    "            raw = pvec[count:count + sz]\n",
    "            reshaped = raw.reshape(param.data.shape)\n",
    "            new_state_dict[name] = torch.from_numpy(reshaped).float()\n",
    "            count += sz\n",
    "        self.load_state_dict(new_state_dict)"
   ]
  },
  {
   "cell_type": "code",
   "execution_count": 3,
   "id": "85b88327",
   "metadata": {},
   "outputs": [],
   "source": [
    "def calculate_fitness(network, env, num_episodes):\n",
    "    total_rewards = 0\n",
    "    for _ in range(num_episodes):\n",
    "        reward, _ = run_episode(network, env)\n",
    "        total_rewards += reward\n",
    "    avg_reward = total_rewards / num_episodes\n",
    "    return avg_reward\n",
    "\n",
    "def run_episode(network, env):\n",
    "    state = env.reset()\n",
    "    total_reward = 0.0\n",
    "    done = False\n",
    "    while not done:\n",
    "        action = torch.argmax(network(torch.from_numpy(state).float().unsqueeze(0))).item()\n",
    "        state, reward, done, _ = env.step(action)\n",
    "        total_reward += reward\n",
    "    return total_reward, _\n",
    "\n",
    "def select_survivors(population, fitnesses, ELITISM):\n",
    "    sorted_population = [x for _, x in sorted(zip(fitnesses, population), key=lambda pair: pair[0], reverse=True)]\n",
    "    return sorted_population[:ELITISM]\n",
    "\n",
    "def tournament_selection(population, fitnesses, tournament_size):\n",
    "    selected_indices = np.random.randint(len(population), size=tournament_size)\n",
    "    selected_fitnesses = [fitnesses[i] for i in selected_indices]\n",
    "    winner_index = selected_indices[np.argmax(selected_fitnesses)]\n",
    "    return population[winner_index]\n",
    "\n",
    "def perturb_parameters(network, weight_clip, n_episodes):\n",
    "    for episode in range(n_episodes):\n",
    "        state = env.reset()\n",
    "        done = False\n",
    "        total_reward = 0\n",
    "        current_output = None\n",
    "\n",
    "        while not done:\n",
    "            if episode == 0 and current_output is None:\n",
    "                prev_output = torch.Tensor([0.25, 0.25, 0.25, 0.25])\n",
    "            else:\n",
    "                prev_output = current_output.detach()\n",
    "\n",
    "            current_param = torch.cat([param.view(-1) for param in network.parameters()])\n",
    "\n",
    "            delta = torch.randn_like(current_param)\n",
    "\n",
    "            current_output = network(torch.from_numpy(state).float().unsqueeze(0))\n",
    "\n",
    "            error = ((current_output - prev_output)**2).mean()\n",
    "\n",
    "            network.zero_grad()\n",
    "\n",
    "            error.backward()\n",
    "\n",
    "            gradient = torch.cat([param.grad.view(-1) for param in network.parameters()])\n",
    "\n",
    "            gradient /= torch.sqrt(((gradient**2).sum() + 1e-10))\n",
    "\n",
    "            perturbation = np.clip(delta * gradient, -weight_clip, weight_clip)\n",
    "            new_param = current_param + perturbation\n",
    "\n",
    "            network.inject_parameters(new_param.detach().numpy())\n",
    "\n",
    "            action = torch.argmax(network(torch.from_numpy(state).float().unsqueeze(0))).item()\n",
    "            state, reward, done, _ = env.step(action)"
   ]
  },
  {
   "cell_type": "code",
   "execution_count": 4,
   "id": "3a5a0e21",
   "metadata": {},
   "outputs": [
    {
     "name": "stderr",
     "output_type": "stream",
     "text": [
      "/Users/jinhyunpark/miniforge3/lib/python3.9/site-packages/gym/core.py:329: DeprecationWarning: \u001b[33mWARN: Initializing wrapper in old step API which returns one bool instead of two. It is recommended to set `new_step_api=True` to use new step API. This will be the default behaviour in future.\u001b[0m\n",
      "  deprecation(\n",
      "/Users/jinhyunpark/miniforge3/lib/python3.9/site-packages/gym/wrappers/step_api_compatibility.py:39: DeprecationWarning: \u001b[33mWARN: Initializing environment in old step API which returns one bool instead of two. It is recommended to set `new_step_api=True` to use new step API. This will be the default behaviour in future.\u001b[0m\n",
      "  deprecation(\n"
     ]
    }
   ],
   "source": [
    "# Constants\n",
    "POPULATION_SIZE = 200 \n",
    "GENERATIONS = 150\n",
    "ELITISM = int(POPULATION_SIZE * 0.4)\n",
    "TOURNAMENT_SIZE = 5\n",
    "WEIGHT_CLIP = 0.5\n",
    "INPUT_DIM = 8  # For LunarLander environment\n",
    "OUTPUT_DIM = 4  # For LunarLander environment\n",
    "MAX_EP = 1\n",
    "\n",
    "FITNESS_HISTORY = list()\n",
    "FITNESS_STDERROR_HISTORY = list()\n",
    "\n",
    "env = gym.make(\"LunarLander-v2\")\n",
    "\n",
    "population = [PolicyNetwork(INPUT_DIM, OUTPUT_DIM) for _ in range(POPULATION_SIZE)]"
   ]
  },
  {
   "cell_type": "code",
   "execution_count": 5,
   "id": "76c4a558",
   "metadata": {},
   "outputs": [],
   "source": [
    "start_time = time.time()"
   ]
  },
  {
   "cell_type": "code",
   "execution_count": 6,
   "id": "66cc53da",
   "metadata": {},
   "outputs": [
    {
     "name": "stdout",
     "output_type": "stream",
     "text": [
      "[Generation 0]\n",
      "Calculating Fitnesses For Population ...\n"
     ]
    },
    {
     "name": "stderr",
     "output_type": "stream",
     "text": [
      "100%|█████████████████████████████████████████████████████| 200/200 [00:01<00:00, 101.48it/s]\n"
     ]
    },
    {
     "name": "stdout",
     "output_type": "stream",
     "text": [
      "Average Fitness: -477.0699003021322 \n",
      " Best Fitness: 44.36967681672354 \n",
      " Worst Fitness: -1824.0123931261292 \n",
      " Standard Error: 21.429123173805607\n"
     ]
    },
    {
     "name": "stderr",
     "output_type": "stream",
     "text": [
      "100%|██████████████████████████████████████████████████████| 120/120 [00:04<00:00, 25.66it/s]\n"
     ]
    },
    {
     "name": "stdout",
     "output_type": "stream",
     "text": [
      "[Generation 1]\n",
      "Calculating Fitnesses For Population ...\n"
     ]
    },
    {
     "name": "stderr",
     "output_type": "stream",
     "text": [
      "100%|█████████████████████████████████████████████████████| 200/200 [00:01<00:00, 109.53it/s]\n"
     ]
    },
    {
     "name": "stdout",
     "output_type": "stream",
     "text": [
      "Average Fitness: -449.17201094870046 \n",
      " Best Fitness: 22.004167051337618 \n",
      " Worst Fitness: -2923.3609925183373 \n",
      " Standard Error: 26.224375109523464\n"
     ]
    },
    {
     "name": "stderr",
     "output_type": "stream",
     "text": [
      "100%|██████████████████████████████████████████████████████| 120/120 [00:04<00:00, 27.68it/s]\n"
     ]
    },
    {
     "name": "stdout",
     "output_type": "stream",
     "text": [
      "[Generation 2]\n",
      "Calculating Fitnesses For Population ...\n"
     ]
    },
    {
     "name": "stderr",
     "output_type": "stream",
     "text": [
      "100%|█████████████████████████████████████████████████████| 200/200 [00:01<00:00, 123.65it/s]\n"
     ]
    },
    {
     "name": "stdout",
     "output_type": "stream",
     "text": [
      "Average Fitness: -345.91066741949885 \n",
      " Best Fitness: 40.61943999933976 \n",
      " Worst Fitness: -1728.6521418508696 \n",
      " Standard Error: 20.803244132878042\n"
     ]
    },
    {
     "name": "stderr",
     "output_type": "stream",
     "text": [
      "100%|██████████████████████████████████████████████████████| 120/120 [00:03<00:00, 30.03it/s]\n"
     ]
    },
    {
     "name": "stdout",
     "output_type": "stream",
     "text": [
      "[Generation 3]\n",
      "Calculating Fitnesses For Population ...\n"
     ]
    },
    {
     "name": "stderr",
     "output_type": "stream",
     "text": [
      "100%|█████████████████████████████████████████████████████| 200/200 [00:01<00:00, 146.50it/s]\n"
     ]
    },
    {
     "name": "stdout",
     "output_type": "stream",
     "text": [
      "Average Fitness: -285.01229270766316 \n",
      " Best Fitness: 20.48555389078666 \n",
      " Worst Fitness: -1912.6951599257181 \n",
      " Standard Error: 18.928305966701313\n"
     ]
    },
    {
     "name": "stderr",
     "output_type": "stream",
     "text": [
      "100%|██████████████████████████████████████████████████████| 120/120 [00:03<00:00, 30.14it/s]\n"
     ]
    },
    {
     "name": "stdout",
     "output_type": "stream",
     "text": [
      "[Generation 4]\n",
      "Calculating Fitnesses For Population ...\n"
     ]
    },
    {
     "name": "stderr",
     "output_type": "stream",
     "text": [
      "100%|█████████████████████████████████████████████████████| 200/200 [00:01<00:00, 143.23it/s]\n"
     ]
    },
    {
     "name": "stdout",
     "output_type": "stream",
     "text": [
      "Average Fitness: -265.0954521611235 \n",
      " Best Fitness: 143.7972894023862 \n",
      " Worst Fitness: -2009.4285448613532 \n",
      " Standard Error: 20.26844017956906\n"
     ]
    },
    {
     "name": "stderr",
     "output_type": "stream",
     "text": [
      "100%|██████████████████████████████████████████████████████| 120/120 [00:03<00:00, 31.07it/s]\n"
     ]
    },
    {
     "name": "stdout",
     "output_type": "stream",
     "text": [
      "[Generation 5]\n",
      "Calculating Fitnesses For Population ...\n"
     ]
    },
    {
     "name": "stderr",
     "output_type": "stream",
     "text": [
      "100%|█████████████████████████████████████████████████████| 200/200 [00:01<00:00, 154.12it/s]\n"
     ]
    },
    {
     "name": "stdout",
     "output_type": "stream",
     "text": [
      "Average Fitness: -256.64256388296917 \n",
      " Best Fitness: 202.26628707161996 \n",
      " Worst Fitness: -2126.267835218809 \n",
      " Standard Error: 18.577248804020204\n"
     ]
    },
    {
     "name": "stderr",
     "output_type": "stream",
     "text": [
      "100%|██████████████████████████████████████████████████████| 120/120 [00:03<00:00, 32.87it/s]\n"
     ]
    },
    {
     "name": "stdout",
     "output_type": "stream",
     "text": [
      "[Generation 6]\n",
      "Calculating Fitnesses For Population ...\n"
     ]
    },
    {
     "name": "stderr",
     "output_type": "stream",
     "text": [
      "100%|█████████████████████████████████████████████████████| 200/200 [00:01<00:00, 153.41it/s]\n"
     ]
    },
    {
     "name": "stdout",
     "output_type": "stream",
     "text": [
      "Average Fitness: -199.32382872482958 \n",
      " Best Fitness: 214.57257675178124 \n",
      " Worst Fitness: -3282.274512036092 \n",
      " Standard Error: 19.010930995731368\n"
     ]
    },
    {
     "name": "stderr",
     "output_type": "stream",
     "text": [
      "100%|██████████████████████████████████████████████████████| 120/120 [00:03<00:00, 32.47it/s]\n"
     ]
    },
    {
     "name": "stdout",
     "output_type": "stream",
     "text": [
      "[Generation 7]\n",
      "Calculating Fitnesses For Population ...\n"
     ]
    },
    {
     "name": "stderr",
     "output_type": "stream",
     "text": [
      "100%|█████████████████████████████████████████████████████| 200/200 [00:00<00:00, 202.20it/s]\n"
     ]
    },
    {
     "name": "stdout",
     "output_type": "stream",
     "text": [
      "Average Fitness: -183.68431146925587 \n",
      " Best Fitness: 4.340666658082085 \n",
      " Worst Fitness: -877.997370442783 \n",
      " Standard Error: 10.439639917788336\n"
     ]
    },
    {
     "name": "stderr",
     "output_type": "stream",
     "text": [
      "100%|██████████████████████████████████████████████████████| 120/120 [00:03<00:00, 33.02it/s]\n"
     ]
    },
    {
     "name": "stdout",
     "output_type": "stream",
     "text": [
      "[Generation 8]\n",
      "Calculating Fitnesses For Population ...\n"
     ]
    },
    {
     "name": "stderr",
     "output_type": "stream",
     "text": [
      "100%|█████████████████████████████████████████████████████| 200/200 [00:01<00:00, 167.69it/s]\n"
     ]
    },
    {
     "name": "stdout",
     "output_type": "stream",
     "text": [
      "Average Fitness: -181.44140964166715 \n",
      " Best Fitness: 17.589907127827402 \n",
      " Worst Fitness: -1221.2941650783384 \n",
      " Standard Error: 11.971064634659843\n"
     ]
    },
    {
     "name": "stderr",
     "output_type": "stream",
     "text": [
      "100%|██████████████████████████████████████████████████████| 120/120 [00:03<00:00, 32.06it/s]\n"
     ]
    },
    {
     "name": "stdout",
     "output_type": "stream",
     "text": [
      "[Generation 9]\n",
      "Calculating Fitnesses For Population ...\n"
     ]
    },
    {
     "name": "stderr",
     "output_type": "stream",
     "text": [
      "100%|█████████████████████████████████████████████████████| 200/200 [00:01<00:00, 171.61it/s]\n"
     ]
    },
    {
     "name": "stdout",
     "output_type": "stream",
     "text": [
      "Average Fitness: -176.35831561822445 \n",
      " Best Fitness: 32.7723938093699 \n",
      " Worst Fitness: -1815.1170097001868 \n",
      " Standard Error: 13.0200117355337\n"
     ]
    },
    {
     "name": "stderr",
     "output_type": "stream",
     "text": [
      "100%|██████████████████████████████████████████████████████| 120/120 [00:03<00:00, 32.44it/s]\n"
     ]
    },
    {
     "name": "stdout",
     "output_type": "stream",
     "text": [
      "[Generation 10]\n",
      "Calculating Fitnesses For Population ...\n"
     ]
    },
    {
     "name": "stderr",
     "output_type": "stream",
     "text": [
      "100%|█████████████████████████████████████████████████████| 200/200 [00:01<00:00, 181.53it/s]\n"
     ]
    },
    {
     "name": "stdout",
     "output_type": "stream",
     "text": [
      "Average Fitness: -146.89296122770207 \n",
      " Best Fitness: 60.27862587591184 \n",
      " Worst Fitness: -1761.4467098565867 \n",
      " Standard Error: 10.440090970253122\n"
     ]
    },
    {
     "name": "stderr",
     "output_type": "stream",
     "text": [
      "100%|██████████████████████████████████████████████████████| 120/120 [00:03<00:00, 30.14it/s]\n"
     ]
    },
    {
     "name": "stdout",
     "output_type": "stream",
     "text": [
      "[Generation 11]\n",
      "Calculating Fitnesses For Population ...\n"
     ]
    },
    {
     "name": "stderr",
     "output_type": "stream",
     "text": [
      "100%|█████████████████████████████████████████████████████| 200/200 [00:01<00:00, 171.86it/s]\n"
     ]
    },
    {
     "name": "stdout",
     "output_type": "stream",
     "text": [
      "Average Fitness: -157.82846508266192 \n",
      " Best Fitness: 23.984614031443428 \n",
      " Worst Fitness: -899.5470261165467 \n",
      " Standard Error: 8.559799619484362\n"
     ]
    },
    {
     "name": "stderr",
     "output_type": "stream",
     "text": [
      "100%|██████████████████████████████████████████████████████| 120/120 [00:03<00:00, 30.51it/s]\n"
     ]
    },
    {
     "name": "stdout",
     "output_type": "stream",
     "text": [
      "[Generation 12]\n",
      "Calculating Fitnesses For Population ...\n"
     ]
    },
    {
     "name": "stderr",
     "output_type": "stream",
     "text": [
      "100%|█████████████████████████████████████████████████████| 200/200 [00:01<00:00, 151.51it/s]\n"
     ]
    },
    {
     "name": "stdout",
     "output_type": "stream",
     "text": [
      "Average Fitness: -154.08117369714756 \n",
      " Best Fitness: 10.940033378810384 \n",
      " Worst Fitness: -1005.8854006551366 \n",
      " Standard Error: 8.306435663385237\n"
     ]
    },
    {
     "name": "stderr",
     "output_type": "stream",
     "text": [
      "100%|██████████████████████████████████████████████████████| 120/120 [00:04<00:00, 28.03it/s]\n"
     ]
    },
    {
     "name": "stdout",
     "output_type": "stream",
     "text": [
      "[Generation 13]\n",
      "Calculating Fitnesses For Population ...\n"
     ]
    },
    {
     "name": "stderr",
     "output_type": "stream",
     "text": [
      "100%|█████████████████████████████████████████████████████| 200/200 [00:01<00:00, 156.81it/s]\n"
     ]
    },
    {
     "name": "stdout",
     "output_type": "stream",
     "text": [
      "Average Fitness: -168.39337500232 \n",
      " Best Fitness: 208.8317379251955 \n",
      " Worst Fitness: -1278.9301948769307 \n",
      " Standard Error: 13.390499266863005\n"
     ]
    },
    {
     "name": "stderr",
     "output_type": "stream",
     "text": [
      "100%|██████████████████████████████████████████████████████| 120/120 [00:04<00:00, 29.90it/s]\n"
     ]
    },
    {
     "name": "stdout",
     "output_type": "stream",
     "text": [
      "[Generation 14]\n",
      "Calculating Fitnesses For Population ...\n"
     ]
    },
    {
     "name": "stderr",
     "output_type": "stream",
     "text": [
      "100%|█████████████████████████████████████████████████████| 200/200 [00:01<00:00, 144.82it/s]\n"
     ]
    },
    {
     "name": "stdout",
     "output_type": "stream",
     "text": [
      "Average Fitness: -154.32510324785298 \n",
      " Best Fitness: 31.16860766284543 \n",
      " Worst Fitness: -959.9802737465255 \n",
      " Standard Error: 9.159919908232643\n"
     ]
    },
    {
     "name": "stderr",
     "output_type": "stream",
     "text": [
      "100%|██████████████████████████████████████████████████████| 120/120 [00:04<00:00, 29.40it/s]\n"
     ]
    },
    {
     "name": "stdout",
     "output_type": "stream",
     "text": [
      "[Generation 15]\n",
      "Calculating Fitnesses For Population ...\n"
     ]
    },
    {
     "name": "stderr",
     "output_type": "stream",
     "text": [
      "100%|█████████████████████████████████████████████████████| 200/200 [00:01<00:00, 158.57it/s]\n"
     ]
    },
    {
     "name": "stdout",
     "output_type": "stream",
     "text": [
      "Average Fitness: -151.96213101157971 \n",
      " Best Fitness: 40.32062124702463 \n",
      " Worst Fitness: -1226.3869939628112 \n",
      " Standard Error: 9.315315951403887\n"
     ]
    },
    {
     "name": "stderr",
     "output_type": "stream",
     "text": [
      "100%|██████████████████████████████████████████████████████| 120/120 [00:04<00:00, 29.97it/s]\n"
     ]
    },
    {
     "name": "stdout",
     "output_type": "stream",
     "text": [
      "[Generation 16]\n",
      "Calculating Fitnesses For Population ...\n"
     ]
    },
    {
     "name": "stderr",
     "output_type": "stream",
     "text": [
      "100%|█████████████████████████████████████████████████████| 200/200 [00:01<00:00, 162.24it/s]\n"
     ]
    },
    {
     "name": "stdout",
     "output_type": "stream",
     "text": [
      "Average Fitness: -143.18592259863632 \n",
      " Best Fitness: 51.6117947136878 \n",
      " Worst Fitness: -1044.133084380975 \n",
      " Standard Error: 8.368739982668888\n"
     ]
    },
    {
     "name": "stderr",
     "output_type": "stream",
     "text": [
      "100%|██████████████████████████████████████████████████████| 120/120 [00:04<00:00, 29.65it/s]\n"
     ]
    },
    {
     "name": "stdout",
     "output_type": "stream",
     "text": [
      "[Generation 17]\n",
      "Calculating Fitnesses For Population ...\n"
     ]
    },
    {
     "name": "stderr",
     "output_type": "stream",
     "text": [
      "100%|█████████████████████████████████████████████████████| 200/200 [00:01<00:00, 165.03it/s]\n"
     ]
    },
    {
     "name": "stdout",
     "output_type": "stream",
     "text": [
      "Average Fitness: -138.86088393190073 \n",
      " Best Fitness: 27.95295981520877 \n",
      " Worst Fitness: -573.3620461664659 \n",
      " Standard Error: 6.813390821940703\n"
     ]
    },
    {
     "name": "stderr",
     "output_type": "stream",
     "text": [
      "100%|██████████████████████████████████████████████████████| 120/120 [00:04<00:00, 29.47it/s]\n"
     ]
    },
    {
     "name": "stdout",
     "output_type": "stream",
     "text": [
      "[Generation 18]\n",
      "Calculating Fitnesses For Population ...\n"
     ]
    },
    {
     "name": "stderr",
     "output_type": "stream",
     "text": [
      "100%|█████████████████████████████████████████████████████| 200/200 [00:01<00:00, 148.63it/s]\n"
     ]
    },
    {
     "name": "stdout",
     "output_type": "stream",
     "text": [
      "Average Fitness: -126.60016621107239 \n",
      " Best Fitness: 224.44871516654104 \n",
      " Worst Fitness: -782.2976673840568 \n",
      " Standard Error: 7.713204886204978\n"
     ]
    },
    {
     "name": "stderr",
     "output_type": "stream",
     "text": [
      "100%|██████████████████████████████████████████████████████| 120/120 [00:04<00:00, 28.18it/s]\n"
     ]
    },
    {
     "name": "stdout",
     "output_type": "stream",
     "text": [
      "[Generation 19]\n",
      "Calculating Fitnesses For Population ...\n"
     ]
    },
    {
     "name": "stderr",
     "output_type": "stream",
     "text": [
      "100%|█████████████████████████████████████████████████████| 200/200 [00:01<00:00, 135.63it/s]\n"
     ]
    },
    {
     "name": "stdout",
     "output_type": "stream",
     "text": [
      "Average Fitness: -151.75119149985187 \n",
      " Best Fitness: 204.86714180690265 \n",
      " Worst Fitness: -3189.2590457867936 \n",
      " Standard Error: 17.232237380750437\n"
     ]
    },
    {
     "name": "stderr",
     "output_type": "stream",
     "text": [
      "100%|██████████████████████████████████████████████████████| 120/120 [00:04<00:00, 27.93it/s]\n"
     ]
    },
    {
     "name": "stdout",
     "output_type": "stream",
     "text": [
      "[Generation 20]\n",
      "Calculating Fitnesses For Population ...\n"
     ]
    },
    {
     "name": "stderr",
     "output_type": "stream",
     "text": [
      "100%|█████████████████████████████████████████████████████| 200/200 [00:01<00:00, 138.75it/s]\n"
     ]
    },
    {
     "name": "stdout",
     "output_type": "stream",
     "text": [
      "Average Fitness: -119.98846616401457 \n",
      " Best Fitness: 267.1219692081087 \n",
      " Worst Fitness: -1431.18800550692 \n",
      " Standard Error: 10.527281563757654\n"
     ]
    },
    {
     "name": "stderr",
     "output_type": "stream",
     "text": [
      "100%|██████████████████████████████████████████████████████| 120/120 [00:04<00:00, 28.82it/s]\n"
     ]
    },
    {
     "name": "stdout",
     "output_type": "stream",
     "text": [
      "[Generation 21]\n",
      "Calculating Fitnesses For Population ...\n"
     ]
    },
    {
     "name": "stderr",
     "output_type": "stream",
     "text": [
      "100%|█████████████████████████████████████████████████████| 200/200 [00:01<00:00, 155.98it/s]\n"
     ]
    },
    {
     "name": "stdout",
     "output_type": "stream",
     "text": [
      "Average Fitness: -148.09653363054852 \n",
      " Best Fitness: 17.961527273170518 \n",
      " Worst Fitness: -606.0694795176447 \n",
      " Standard Error: 8.25553020633943\n"
     ]
    },
    {
     "name": "stderr",
     "output_type": "stream",
     "text": [
      "100%|██████████████████████████████████████████████████████| 120/120 [00:04<00:00, 28.08it/s]\n"
     ]
    },
    {
     "name": "stdout",
     "output_type": "stream",
     "text": [
      "[Generation 22]\n",
      "Calculating Fitnesses For Population ...\n"
     ]
    },
    {
     "name": "stderr",
     "output_type": "stream",
     "text": [
      "100%|█████████████████████████████████████████████████████| 200/200 [00:01<00:00, 149.27it/s]\n"
     ]
    },
    {
     "name": "stdout",
     "output_type": "stream",
     "text": [
      "Average Fitness: -119.70366164508857 \n",
      " Best Fitness: 150.592112350839 \n",
      " Worst Fitness: -492.9810567765068 \n",
      " Standard Error: 6.336805675427243\n"
     ]
    },
    {
     "name": "stderr",
     "output_type": "stream",
     "text": [
      "100%|██████████████████████████████████████████████████████| 120/120 [00:04<00:00, 28.80it/s]\n"
     ]
    },
    {
     "name": "stdout",
     "output_type": "stream",
     "text": [
      "[Generation 23]\n",
      "Calculating Fitnesses For Population ...\n"
     ]
    },
    {
     "name": "stderr",
     "output_type": "stream",
     "text": [
      "100%|█████████████████████████████████████████████████████| 200/200 [00:01<00:00, 139.59it/s]\n"
     ]
    },
    {
     "name": "stdout",
     "output_type": "stream",
     "text": [
      "Average Fitness: -129.40976697200236 \n",
      " Best Fitness: 228.76470219369122 \n",
      " Worst Fitness: -1352.9040321738755 \n",
      " Standard Error: 10.65608492428053\n"
     ]
    },
    {
     "name": "stderr",
     "output_type": "stream",
     "text": [
      "100%|██████████████████████████████████████████████████████| 120/120 [00:04<00:00, 24.41it/s]\n"
     ]
    },
    {
     "name": "stdout",
     "output_type": "stream",
     "text": [
      "[Generation 24]\n",
      "Calculating Fitnesses For Population ...\n"
     ]
    },
    {
     "name": "stderr",
     "output_type": "stream",
     "text": [
      "100%|█████████████████████████████████████████████████████| 200/200 [00:01<00:00, 138.98it/s]\n"
     ]
    },
    {
     "name": "stdout",
     "output_type": "stream",
     "text": [
      "Average Fitness: -109.57971110383113 \n",
      " Best Fitness: 273.76510276772626 \n",
      " Worst Fitness: -1235.7134095668496 \n",
      " Standard Error: 9.00166072719093\n"
     ]
    },
    {
     "name": "stderr",
     "output_type": "stream",
     "text": [
      "100%|██████████████████████████████████████████████████████| 120/120 [00:04<00:00, 27.32it/s]\n"
     ]
    },
    {
     "name": "stdout",
     "output_type": "stream",
     "text": [
      "[Generation 25]\n",
      "Calculating Fitnesses For Population ...\n"
     ]
    },
    {
     "name": "stderr",
     "output_type": "stream",
     "text": [
      "100%|█████████████████████████████████████████████████████| 200/200 [00:01<00:00, 136.44it/s]\n"
     ]
    },
    {
     "name": "stdout",
     "output_type": "stream",
     "text": [
      "Average Fitness: -123.3076136696478 \n",
      " Best Fitness: 221.77147818170437 \n",
      " Worst Fitness: -613.1444398440327 \n",
      " Standard Error: 7.616269555128268\n"
     ]
    },
    {
     "name": "stderr",
     "output_type": "stream",
     "text": [
      "100%|██████████████████████████████████████████████████████| 120/120 [00:04<00:00, 24.40it/s]\n"
     ]
    },
    {
     "name": "stdout",
     "output_type": "stream",
     "text": [
      "[Generation 26]\n",
      "Calculating Fitnesses For Population ...\n"
     ]
    },
    {
     "name": "stderr",
     "output_type": "stream",
     "text": [
      "100%|█████████████████████████████████████████████████████| 200/200 [00:01<00:00, 135.05it/s]\n"
     ]
    },
    {
     "name": "stdout",
     "output_type": "stream",
     "text": [
      "Average Fitness: -128.25905232806383 \n",
      " Best Fitness: 31.806118235988464 \n",
      " Worst Fitness: -1179.3448326644736 \n",
      " Standard Error: 9.280658731380461\n"
     ]
    },
    {
     "name": "stderr",
     "output_type": "stream",
     "text": [
      "100%|██████████████████████████████████████████████████████| 120/120 [00:05<00:00, 22.13it/s]\n"
     ]
    },
    {
     "name": "stdout",
     "output_type": "stream",
     "text": [
      "[Generation 27]\n",
      "Calculating Fitnesses For Population ...\n"
     ]
    },
    {
     "name": "stderr",
     "output_type": "stream",
     "text": [
      "100%|█████████████████████████████████████████████████████| 200/200 [00:01<00:00, 129.56it/s]\n"
     ]
    },
    {
     "name": "stdout",
     "output_type": "stream",
     "text": [
      "Average Fitness: -119.44460108195682 \n",
      " Best Fitness: 208.9078766245483 \n",
      " Worst Fitness: -1632.3669299544276 \n",
      " Standard Error: 10.639900656103453\n"
     ]
    },
    {
     "name": "stderr",
     "output_type": "stream",
     "text": [
      "100%|██████████████████████████████████████████████████████| 120/120 [00:05<00:00, 20.69it/s]\n"
     ]
    },
    {
     "name": "stdout",
     "output_type": "stream",
     "text": [
      "[Generation 28]\n",
      "Calculating Fitnesses For Population ...\n"
     ]
    },
    {
     "name": "stderr",
     "output_type": "stream",
     "text": [
      "100%|█████████████████████████████████████████████████████| 200/200 [00:01<00:00, 135.43it/s]\n"
     ]
    },
    {
     "name": "stdout",
     "output_type": "stream",
     "text": [
      "Average Fitness: -125.67471846931002 \n",
      " Best Fitness: 49.43930838083406 \n",
      " Worst Fitness: -748.8056294633558 \n",
      " Standard Error: 8.198485235236213\n"
     ]
    },
    {
     "name": "stderr",
     "output_type": "stream",
     "text": [
      "100%|██████████████████████████████████████████████████████| 120/120 [00:05<00:00, 21.01it/s]\n"
     ]
    },
    {
     "name": "stdout",
     "output_type": "stream",
     "text": [
      "[Generation 29]\n",
      "Calculating Fitnesses For Population ...\n"
     ]
    },
    {
     "name": "stderr",
     "output_type": "stream",
     "text": [
      "100%|█████████████████████████████████████████████████████| 200/200 [00:01<00:00, 111.35it/s]\n"
     ]
    },
    {
     "name": "stdout",
     "output_type": "stream",
     "text": [
      "Average Fitness: -138.1588199064736 \n",
      " Best Fitness: 164.42467968875786 \n",
      " Worst Fitness: -946.2136691236948 \n",
      " Standard Error: 9.0376736960094\n"
     ]
    },
    {
     "name": "stderr",
     "output_type": "stream",
     "text": [
      "100%|██████████████████████████████████████████████████████| 120/120 [00:06<00:00, 19.16it/s]\n"
     ]
    },
    {
     "name": "stdout",
     "output_type": "stream",
     "text": [
      "[Generation 30]\n",
      "Calculating Fitnesses For Population ...\n"
     ]
    },
    {
     "name": "stderr",
     "output_type": "stream",
     "text": [
      "100%|█████████████████████████████████████████████████████| 200/200 [00:01<00:00, 134.66it/s]\n"
     ]
    },
    {
     "name": "stdout",
     "output_type": "stream",
     "text": [
      "Average Fitness: -136.22644174504342 \n",
      " Best Fitness: 43.83067983218589 \n",
      " Worst Fitness: -776.1366004966452 \n",
      " Standard Error: 9.233573060773372\n"
     ]
    },
    {
     "name": "stderr",
     "output_type": "stream",
     "text": [
      "100%|██████████████████████████████████████████████████████| 120/120 [00:04<00:00, 24.57it/s]\n"
     ]
    },
    {
     "name": "stdout",
     "output_type": "stream",
     "text": [
      "[Generation 31]\n",
      "Calculating Fitnesses For Population ...\n"
     ]
    },
    {
     "name": "stderr",
     "output_type": "stream",
     "text": [
      "100%|█████████████████████████████████████████████████████| 200/200 [00:01<00:00, 137.97it/s]\n"
     ]
    },
    {
     "name": "stdout",
     "output_type": "stream",
     "text": [
      "Average Fitness: -123.40245571204818 \n",
      " Best Fitness: 41.75007915603874 \n",
      " Worst Fitness: -625.7042838789156 \n",
      " Standard Error: 8.014481585693257\n"
     ]
    },
    {
     "name": "stderr",
     "output_type": "stream",
     "text": [
      "100%|██████████████████████████████████████████████████████| 120/120 [00:04<00:00, 27.52it/s]\n"
     ]
    },
    {
     "name": "stdout",
     "output_type": "stream",
     "text": [
      "[Generation 32]\n",
      "Calculating Fitnesses For Population ...\n"
     ]
    },
    {
     "name": "stderr",
     "output_type": "stream",
     "text": [
      "100%|█████████████████████████████████████████████████████| 200/200 [00:01<00:00, 132.81it/s]\n"
     ]
    },
    {
     "name": "stdout",
     "output_type": "stream",
     "text": [
      "Average Fitness: -110.71632205590302 \n",
      " Best Fitness: 286.3921412080307 \n",
      " Worst Fitness: -333.22188798836453 \n",
      " Standard Error: 7.264080932910687\n"
     ]
    },
    {
     "name": "stderr",
     "output_type": "stream",
     "text": [
      "100%|██████████████████████████████████████████████████████| 120/120 [00:04<00:00, 28.06it/s]\n"
     ]
    },
    {
     "name": "stdout",
     "output_type": "stream",
     "text": [
      "[Generation 33]\n",
      "Calculating Fitnesses For Population ...\n"
     ]
    },
    {
     "name": "stderr",
     "output_type": "stream",
     "text": [
      "100%|█████████████████████████████████████████████████████| 200/200 [00:01<00:00, 129.37it/s]\n"
     ]
    },
    {
     "name": "stdout",
     "output_type": "stream",
     "text": [
      "Average Fitness: -125.12872704142528 \n",
      " Best Fitness: 46.80671287944048 \n",
      " Worst Fitness: -807.040640913583 \n",
      " Standard Error: 8.01106795500781\n"
     ]
    },
    {
     "name": "stderr",
     "output_type": "stream",
     "text": [
      "100%|██████████████████████████████████████████████████████| 120/120 [00:04<00:00, 26.97it/s]\n"
     ]
    },
    {
     "name": "stdout",
     "output_type": "stream",
     "text": [
      "[Generation 34]\n",
      "Calculating Fitnesses For Population ...\n"
     ]
    },
    {
     "name": "stderr",
     "output_type": "stream",
     "text": [
      "100%|█████████████████████████████████████████████████████| 200/200 [00:01<00:00, 141.13it/s]\n"
     ]
    },
    {
     "name": "stdout",
     "output_type": "stream",
     "text": [
      "Average Fitness: -116.16139623109511 \n",
      " Best Fitness: 44.36520791588674 \n",
      " Worst Fitness: -686.7823674809445 \n",
      " Standard Error: 7.373877787501087\n"
     ]
    },
    {
     "name": "stderr",
     "output_type": "stream",
     "text": [
      "100%|██████████████████████████████████████████████████████| 120/120 [00:04<00:00, 27.27it/s]\n"
     ]
    },
    {
     "name": "stdout",
     "output_type": "stream",
     "text": [
      "[Generation 35]\n",
      "Calculating Fitnesses For Population ...\n"
     ]
    },
    {
     "name": "stderr",
     "output_type": "stream",
     "text": [
      "100%|█████████████████████████████████████████████████████| 200/200 [00:01<00:00, 149.61it/s]\n"
     ]
    },
    {
     "name": "stdout",
     "output_type": "stream",
     "text": [
      "Average Fitness: -103.70876263133862 \n",
      " Best Fitness: 62.93429200285689 \n",
      " Worst Fitness: -451.444712918651 \n",
      " Standard Error: 6.343029702275401\n"
     ]
    },
    {
     "name": "stderr",
     "output_type": "stream",
     "text": [
      "100%|██████████████████████████████████████████████████████| 120/120 [00:04<00:00, 25.07it/s]\n"
     ]
    },
    {
     "name": "stdout",
     "output_type": "stream",
     "text": [
      "[Generation 36]\n",
      "Calculating Fitnesses For Population ...\n"
     ]
    },
    {
     "name": "stderr",
     "output_type": "stream",
     "text": [
      "100%|█████████████████████████████████████████████████████| 200/200 [00:01<00:00, 144.55it/s]\n"
     ]
    },
    {
     "name": "stdout",
     "output_type": "stream",
     "text": [
      "Average Fitness: -100.71630929154453 \n",
      " Best Fitness: 29.09441340311696 \n",
      " Worst Fitness: -401.89376994861954 \n",
      " Standard Error: 5.988931580855947\n"
     ]
    },
    {
     "name": "stderr",
     "output_type": "stream",
     "text": [
      "100%|██████████████████████████████████████████████████████| 120/120 [00:05<00:00, 23.41it/s]\n"
     ]
    },
    {
     "name": "stdout",
     "output_type": "stream",
     "text": [
      "[Generation 37]\n",
      "Calculating Fitnesses For Population ...\n"
     ]
    },
    {
     "name": "stderr",
     "output_type": "stream",
     "text": [
      "100%|█████████████████████████████████████████████████████| 200/200 [00:01<00:00, 134.65it/s]\n"
     ]
    },
    {
     "name": "stdout",
     "output_type": "stream",
     "text": [
      "Average Fitness: -121.27141239610818 \n",
      " Best Fitness: 190.49557103441686 \n",
      " Worst Fitness: -646.7644753536383 \n",
      " Standard Error: 8.072209363844289\n"
     ]
    },
    {
     "name": "stderr",
     "output_type": "stream",
     "text": [
      "100%|██████████████████████████████████████████████████████| 120/120 [00:05<00:00, 23.25it/s]\n"
     ]
    },
    {
     "name": "stdout",
     "output_type": "stream",
     "text": [
      "[Generation 38]\n",
      "Calculating Fitnesses For Population ...\n"
     ]
    },
    {
     "name": "stderr",
     "output_type": "stream",
     "text": [
      "100%|█████████████████████████████████████████████████████| 200/200 [00:01<00:00, 132.85it/s]\n"
     ]
    },
    {
     "name": "stdout",
     "output_type": "stream",
     "text": [
      "Average Fitness: -125.8820533332509 \n",
      " Best Fitness: 27.29855861158066 \n",
      " Worst Fitness: -736.9852662918044 \n",
      " Standard Error: 8.495037128411465\n"
     ]
    },
    {
     "name": "stderr",
     "output_type": "stream",
     "text": [
      "100%|██████████████████████████████████████████████████████| 120/120 [00:04<00:00, 29.20it/s]\n"
     ]
    },
    {
     "name": "stdout",
     "output_type": "stream",
     "text": [
      "[Generation 39]\n",
      "Calculating Fitnesses For Population ...\n"
     ]
    },
    {
     "name": "stderr",
     "output_type": "stream",
     "text": [
      "100%|█████████████████████████████████████████████████████| 200/200 [00:01<00:00, 143.85it/s]\n"
     ]
    },
    {
     "name": "stdout",
     "output_type": "stream",
     "text": [
      "Average Fitness: -137.0504532101524 \n",
      " Best Fitness: 26.016275955279085 \n",
      " Worst Fitness: -533.1106544610548 \n",
      " Standard Error: 7.8401310804217585\n"
     ]
    },
    {
     "name": "stderr",
     "output_type": "stream",
     "text": [
      "100%|██████████████████████████████████████████████████████| 120/120 [00:04<00:00, 29.37it/s]\n"
     ]
    },
    {
     "name": "stdout",
     "output_type": "stream",
     "text": [
      "[Generation 40]\n",
      "Calculating Fitnesses For Population ...\n"
     ]
    },
    {
     "name": "stderr",
     "output_type": "stream",
     "text": [
      "100%|█████████████████████████████████████████████████████| 200/200 [00:01<00:00, 155.19it/s]\n"
     ]
    },
    {
     "name": "stdout",
     "output_type": "stream",
     "text": [
      "Average Fitness: -103.10786069036818 \n",
      " Best Fitness: 27.79552558378569 \n",
      " Worst Fitness: -432.7504517574139 \n",
      " Standard Error: 5.529496978181382\n"
     ]
    },
    {
     "name": "stderr",
     "output_type": "stream",
     "text": [
      "100%|██████████████████████████████████████████████████████| 120/120 [00:04<00:00, 29.73it/s]\n"
     ]
    },
    {
     "name": "stdout",
     "output_type": "stream",
     "text": [
      "[Generation 41]\n",
      "Calculating Fitnesses For Population ...\n"
     ]
    },
    {
     "name": "stderr",
     "output_type": "stream",
     "text": [
      "100%|█████████████████████████████████████████████████████| 200/200 [00:01<00:00, 155.00it/s]\n"
     ]
    },
    {
     "name": "stdout",
     "output_type": "stream",
     "text": [
      "Average Fitness: -107.0735756811063 \n",
      " Best Fitness: 52.08173893145397 \n",
      " Worst Fitness: -388.46989729455646 \n",
      " Standard Error: 5.776993796490104\n"
     ]
    },
    {
     "name": "stderr",
     "output_type": "stream",
     "text": [
      "100%|██████████████████████████████████████████████████████| 120/120 [00:04<00:00, 27.06it/s]\n"
     ]
    },
    {
     "name": "stdout",
     "output_type": "stream",
     "text": [
      "[Generation 42]\n",
      "Calculating Fitnesses For Population ...\n"
     ]
    },
    {
     "name": "stderr",
     "output_type": "stream",
     "text": [
      "100%|█████████████████████████████████████████████████████| 200/200 [00:01<00:00, 149.36it/s]\n"
     ]
    },
    {
     "name": "stdout",
     "output_type": "stream",
     "text": [
      "Average Fitness: -106.33410458017133 \n",
      " Best Fitness: 242.02618103940085 \n",
      " Worst Fitness: -430.8218122839064 \n",
      " Standard Error: 6.457925514806149\n"
     ]
    },
    {
     "name": "stderr",
     "output_type": "stream",
     "text": [
      "100%|██████████████████████████████████████████████████████| 120/120 [00:04<00:00, 28.05it/s]\n"
     ]
    },
    {
     "name": "stdout",
     "output_type": "stream",
     "text": [
      "[Generation 43]\n",
      "Calculating Fitnesses For Population ...\n"
     ]
    },
    {
     "name": "stderr",
     "output_type": "stream",
     "text": [
      "100%|█████████████████████████████████████████████████████| 200/200 [00:01<00:00, 147.96it/s]\n"
     ]
    },
    {
     "name": "stdout",
     "output_type": "stream",
     "text": [
      "Average Fitness: -111.64385459753616 \n",
      " Best Fitness: 25.08440185315071 \n",
      " Worst Fitness: -522.6495968784371 \n",
      " Standard Error: 6.7558403751961835\n"
     ]
    },
    {
     "name": "stderr",
     "output_type": "stream",
     "text": [
      "100%|██████████████████████████████████████████████████████| 120/120 [00:04<00:00, 28.19it/s]\n"
     ]
    },
    {
     "name": "stdout",
     "output_type": "stream",
     "text": [
      "[Generation 44]\n",
      "Calculating Fitnesses For Population ...\n"
     ]
    },
    {
     "name": "stderr",
     "output_type": "stream",
     "text": [
      "100%|█████████████████████████████████████████████████████| 200/200 [00:01<00:00, 143.05it/s]\n"
     ]
    },
    {
     "name": "stdout",
     "output_type": "stream",
     "text": [
      "Average Fitness: -112.14736100599261 \n",
      " Best Fitness: 42.647587285856844 \n",
      " Worst Fitness: -526.2728732826396 \n",
      " Standard Error: 7.1260614335008725\n"
     ]
    },
    {
     "name": "stderr",
     "output_type": "stream",
     "text": [
      "100%|██████████████████████████████████████████████████████| 120/120 [00:04<00:00, 25.79it/s]\n"
     ]
    },
    {
     "name": "stdout",
     "output_type": "stream",
     "text": [
      "[Generation 45]\n",
      "Calculating Fitnesses For Population ...\n"
     ]
    },
    {
     "name": "stderr",
     "output_type": "stream",
     "text": [
      "100%|█████████████████████████████████████████████████████| 200/200 [00:01<00:00, 147.40it/s]\n"
     ]
    },
    {
     "name": "stdout",
     "output_type": "stream",
     "text": [
      "Average Fitness: -114.67988414423118 \n",
      " Best Fitness: 57.241528238133924 \n",
      " Worst Fitness: -451.7112762355281 \n",
      " Standard Error: 6.9309022777167\n"
     ]
    },
    {
     "name": "stderr",
     "output_type": "stream",
     "text": [
      "100%|██████████████████████████████████████████████████████| 120/120 [00:04<00:00, 25.44it/s]\n"
     ]
    },
    {
     "name": "stdout",
     "output_type": "stream",
     "text": [
      "[Generation 46]\n",
      "Calculating Fitnesses For Population ...\n"
     ]
    },
    {
     "name": "stderr",
     "output_type": "stream",
     "text": [
      "100%|█████████████████████████████████████████████████████| 200/200 [00:01<00:00, 141.05it/s]\n"
     ]
    },
    {
     "name": "stdout",
     "output_type": "stream",
     "text": [
      "Average Fitness: -105.10691382879226 \n",
      " Best Fitness: 218.7195446871637 \n",
      " Worst Fitness: -363.03738806921444 \n",
      " Standard Error: 7.120004820162125\n"
     ]
    },
    {
     "name": "stderr",
     "output_type": "stream",
     "text": [
      "100%|██████████████████████████████████████████████████████| 120/120 [00:04<00:00, 25.31it/s]\n"
     ]
    },
    {
     "name": "stdout",
     "output_type": "stream",
     "text": [
      "[Generation 47]\n",
      "Calculating Fitnesses For Population ...\n"
     ]
    },
    {
     "name": "stderr",
     "output_type": "stream",
     "text": [
      "100%|█████████████████████████████████████████████████████| 200/200 [00:01<00:00, 143.35it/s]\n"
     ]
    },
    {
     "name": "stdout",
     "output_type": "stream",
     "text": [
      "Average Fitness: -98.27388738048798 \n",
      " Best Fitness: 49.73328747649049 \n",
      " Worst Fitness: -570.7920679497668 \n",
      " Standard Error: 6.794184393922544\n"
     ]
    },
    {
     "name": "stderr",
     "output_type": "stream",
     "text": [
      "100%|██████████████████████████████████████████████████████| 120/120 [00:04<00:00, 27.69it/s]\n"
     ]
    },
    {
     "name": "stdout",
     "output_type": "stream",
     "text": [
      "[Generation 48]\n",
      "Calculating Fitnesses For Population ...\n"
     ]
    },
    {
     "name": "stderr",
     "output_type": "stream",
     "text": [
      "100%|█████████████████████████████████████████████████████| 200/200 [00:01<00:00, 137.52it/s]\n"
     ]
    },
    {
     "name": "stdout",
     "output_type": "stream",
     "text": [
      "Average Fitness: -112.18544672865319 \n",
      " Best Fitness: 23.451326547952007 \n",
      " Worst Fitness: -492.7014411260821 \n",
      " Standard Error: 7.559252554532424\n"
     ]
    },
    {
     "name": "stderr",
     "output_type": "stream",
     "text": [
      "100%|██████████████████████████████████████████████████████| 120/120 [00:04<00:00, 27.41it/s]\n"
     ]
    },
    {
     "name": "stdout",
     "output_type": "stream",
     "text": [
      "[Generation 49]\n",
      "Calculating Fitnesses For Population ...\n"
     ]
    },
    {
     "name": "stderr",
     "output_type": "stream",
     "text": [
      "100%|█████████████████████████████████████████████████████| 200/200 [00:01<00:00, 132.52it/s]\n"
     ]
    },
    {
     "name": "stdout",
     "output_type": "stream",
     "text": [
      "Average Fitness: -116.9029251672099 \n",
      " Best Fitness: 54.82449902641537 \n",
      " Worst Fitness: -498.1915062814319 \n",
      " Standard Error: 7.646744634214103\n"
     ]
    },
    {
     "name": "stderr",
     "output_type": "stream",
     "text": [
      "100%|██████████████████████████████████████████████████████| 120/120 [00:04<00:00, 27.57it/s]\n"
     ]
    },
    {
     "name": "stdout",
     "output_type": "stream",
     "text": [
      "[Generation 50]\n",
      "Calculating Fitnesses For Population ...\n"
     ]
    },
    {
     "name": "stderr",
     "output_type": "stream",
     "text": [
      "100%|█████████████████████████████████████████████████████| 200/200 [00:01<00:00, 131.79it/s]\n"
     ]
    },
    {
     "name": "stdout",
     "output_type": "stream",
     "text": [
      "Average Fitness: -113.46006985173216 \n",
      " Best Fitness: 194.2926030183769 \n",
      " Worst Fitness: -558.6704232401896 \n",
      " Standard Error: 7.5756512566684036\n"
     ]
    },
    {
     "name": "stderr",
     "output_type": "stream",
     "text": [
      "100%|██████████████████████████████████████████████████████| 120/120 [00:04<00:00, 26.23it/s]\n"
     ]
    },
    {
     "name": "stdout",
     "output_type": "stream",
     "text": [
      "[Generation 51]\n",
      "Calculating Fitnesses For Population ...\n"
     ]
    },
    {
     "name": "stderr",
     "output_type": "stream",
     "text": [
      "100%|█████████████████████████████████████████████████████| 200/200 [00:01<00:00, 127.87it/s]\n"
     ]
    },
    {
     "name": "stdout",
     "output_type": "stream",
     "text": [
      "Average Fitness: -114.95974575113658 \n",
      " Best Fitness: 206.14199654062352 \n",
      " Worst Fitness: -458.99774575179856 \n",
      " Standard Error: 7.553737867961189\n"
     ]
    },
    {
     "name": "stderr",
     "output_type": "stream",
     "text": [
      "100%|██████████████████████████████████████████████████████| 120/120 [00:04<00:00, 24.24it/s]\n"
     ]
    },
    {
     "name": "stdout",
     "output_type": "stream",
     "text": [
      "[Generation 52]\n",
      "Calculating Fitnesses For Population ...\n"
     ]
    },
    {
     "name": "stderr",
     "output_type": "stream",
     "text": [
      "100%|█████████████████████████████████████████████████████| 200/200 [00:01<00:00, 127.65it/s]\n"
     ]
    },
    {
     "name": "stdout",
     "output_type": "stream",
     "text": [
      "Average Fitness: -112.44746679670908 \n",
      " Best Fitness: 30.879688708805162 \n",
      " Worst Fitness: -574.041824696125 \n",
      " Standard Error: 7.357797133625167\n"
     ]
    },
    {
     "name": "stderr",
     "output_type": "stream",
     "text": [
      "100%|██████████████████████████████████████████████████████| 120/120 [00:04<00:00, 26.24it/s]\n"
     ]
    },
    {
     "name": "stdout",
     "output_type": "stream",
     "text": [
      "[Generation 53]\n",
      "Calculating Fitnesses For Population ...\n"
     ]
    },
    {
     "name": "stderr",
     "output_type": "stream",
     "text": [
      "100%|█████████████████████████████████████████████████████| 200/200 [00:01<00:00, 129.69it/s]\n"
     ]
    },
    {
     "name": "stdout",
     "output_type": "stream",
     "text": [
      "Average Fitness: -113.99977128602885 \n",
      " Best Fitness: 45.664050361807085 \n",
      " Worst Fitness: -499.05512793746306 \n",
      " Standard Error: 7.623284143691263\n"
     ]
    },
    {
     "name": "stderr",
     "output_type": "stream",
     "text": [
      "100%|██████████████████████████████████████████████████████| 120/120 [00:04<00:00, 25.86it/s]\n"
     ]
    },
    {
     "name": "stdout",
     "output_type": "stream",
     "text": [
      "[Generation 54]\n",
      "Calculating Fitnesses For Population ...\n"
     ]
    },
    {
     "name": "stderr",
     "output_type": "stream",
     "text": [
      "100%|█████████████████████████████████████████████████████| 200/200 [00:01<00:00, 123.96it/s]\n"
     ]
    },
    {
     "name": "stdout",
     "output_type": "stream",
     "text": [
      "Average Fitness: -123.54854054641133 \n",
      " Best Fitness: 45.048596409578806 \n",
      " Worst Fitness: -488.21049908352285 \n",
      " Standard Error: 8.017029866541883\n"
     ]
    },
    {
     "name": "stderr",
     "output_type": "stream",
     "text": [
      "100%|██████████████████████████████████████████████████████| 120/120 [00:04<00:00, 25.87it/s]\n"
     ]
    },
    {
     "name": "stdout",
     "output_type": "stream",
     "text": [
      "[Generation 55]\n",
      "Calculating Fitnesses For Population ...\n"
     ]
    },
    {
     "name": "stderr",
     "output_type": "stream",
     "text": [
      "100%|█████████████████████████████████████████████████████| 200/200 [00:01<00:00, 127.96it/s]\n"
     ]
    },
    {
     "name": "stdout",
     "output_type": "stream",
     "text": [
      "Average Fitness: -107.42353882423524 \n",
      " Best Fitness: 44.6805627567266 \n",
      " Worst Fitness: -523.8687328488256 \n",
      " Standard Error: 7.233122463837717\n"
     ]
    },
    {
     "name": "stderr",
     "output_type": "stream",
     "text": [
      "100%|██████████████████████████████████████████████████████| 120/120 [00:04<00:00, 24.85it/s]\n"
     ]
    },
    {
     "name": "stdout",
     "output_type": "stream",
     "text": [
      "[Generation 56]\n",
      "Calculating Fitnesses For Population ...\n"
     ]
    },
    {
     "name": "stderr",
     "output_type": "stream",
     "text": [
      "100%|█████████████████████████████████████████████████████| 200/200 [00:01<00:00, 116.89it/s]\n"
     ]
    },
    {
     "name": "stdout",
     "output_type": "stream",
     "text": [
      "Average Fitness: -98.80109753539583 \n",
      " Best Fitness: 223.14710464558374 \n",
      " Worst Fitness: -468.0965590967955 \n",
      " Standard Error: 7.868937795551144\n"
     ]
    },
    {
     "name": "stderr",
     "output_type": "stream",
     "text": [
      "100%|██████████████████████████████████████████████████████| 120/120 [00:04<00:00, 24.94it/s]\n"
     ]
    },
    {
     "name": "stdout",
     "output_type": "stream",
     "text": [
      "[Generation 57]\n",
      "Calculating Fitnesses For Population ...\n"
     ]
    },
    {
     "name": "stderr",
     "output_type": "stream",
     "text": [
      "100%|█████████████████████████████████████████████████████| 200/200 [00:01<00:00, 118.73it/s]\n"
     ]
    },
    {
     "name": "stdout",
     "output_type": "stream",
     "text": [
      "Average Fitness: -107.36925398196222 \n",
      " Best Fitness: 261.094071522794 \n",
      " Worst Fitness: -635.2703298301783 \n",
      " Standard Error: 8.07574723688261\n"
     ]
    },
    {
     "name": "stderr",
     "output_type": "stream",
     "text": [
      "100%|██████████████████████████████████████████████████████| 120/120 [00:04<00:00, 24.86it/s]\n"
     ]
    },
    {
     "name": "stdout",
     "output_type": "stream",
     "text": [
      "[Generation 58]\n",
      "Calculating Fitnesses For Population ...\n"
     ]
    },
    {
     "name": "stderr",
     "output_type": "stream",
     "text": [
      "100%|█████████████████████████████████████████████████████| 200/200 [00:01<00:00, 121.94it/s]\n"
     ]
    },
    {
     "name": "stdout",
     "output_type": "stream",
     "text": [
      "Average Fitness: -112.8836501803837 \n",
      " Best Fitness: 37.806575616817724 \n",
      " Worst Fitness: -664.702815928056 \n",
      " Standard Error: 8.787222820371591\n"
     ]
    },
    {
     "name": "stderr",
     "output_type": "stream",
     "text": [
      "100%|██████████████████████████████████████████████████████| 120/120 [00:04<00:00, 24.62it/s]\n"
     ]
    },
    {
     "name": "stdout",
     "output_type": "stream",
     "text": [
      "[Generation 59]\n",
      "Calculating Fitnesses For Population ...\n"
     ]
    },
    {
     "name": "stderr",
     "output_type": "stream",
     "text": [
      "100%|█████████████████████████████████████████████████████| 200/200 [00:01<00:00, 118.18it/s]\n"
     ]
    },
    {
     "name": "stdout",
     "output_type": "stream",
     "text": [
      "Average Fitness: -122.90973225339626 \n",
      " Best Fitness: 221.04341052595305 \n",
      " Worst Fitness: -445.4350084182802 \n",
      " Standard Error: 7.625149630737507\n"
     ]
    },
    {
     "name": "stderr",
     "output_type": "stream",
     "text": [
      "100%|██████████████████████████████████████████████████████| 120/120 [00:04<00:00, 24.69it/s]\n"
     ]
    },
    {
     "name": "stdout",
     "output_type": "stream",
     "text": [
      "[Generation 60]\n",
      "Calculating Fitnesses For Population ...\n"
     ]
    },
    {
     "name": "stderr",
     "output_type": "stream",
     "text": [
      "100%|█████████████████████████████████████████████████████| 200/200 [00:01<00:00, 123.94it/s]\n"
     ]
    },
    {
     "name": "stdout",
     "output_type": "stream",
     "text": [
      "Average Fitness: -122.47505341205641 \n",
      " Best Fitness: 45.479258408269146 \n",
      " Worst Fitness: -610.704696846963 \n",
      " Standard Error: 7.917266639984031\n"
     ]
    },
    {
     "name": "stderr",
     "output_type": "stream",
     "text": [
      "100%|██████████████████████████████████████████████████████| 120/120 [00:04<00:00, 25.82it/s]\n"
     ]
    },
    {
     "name": "stdout",
     "output_type": "stream",
     "text": [
      "[Generation 61]\n",
      "Calculating Fitnesses For Population ...\n"
     ]
    },
    {
     "name": "stderr",
     "output_type": "stream",
     "text": [
      "100%|█████████████████████████████████████████████████████| 200/200 [00:01<00:00, 123.18it/s]\n"
     ]
    },
    {
     "name": "stdout",
     "output_type": "stream",
     "text": [
      "Average Fitness: -109.9788478327673 \n",
      " Best Fitness: 191.4764422098355 \n",
      " Worst Fitness: -521.7410403562792 \n",
      " Standard Error: 8.282826201601944\n"
     ]
    },
    {
     "name": "stderr",
     "output_type": "stream",
     "text": [
      "100%|██████████████████████████████████████████████████████| 120/120 [00:04<00:00, 24.71it/s]\n"
     ]
    },
    {
     "name": "stdout",
     "output_type": "stream",
     "text": [
      "[Generation 62]\n",
      "Calculating Fitnesses For Population ...\n"
     ]
    },
    {
     "name": "stderr",
     "output_type": "stream",
     "text": [
      "100%|█████████████████████████████████████████████████████| 200/200 [00:01<00:00, 124.76it/s]\n"
     ]
    },
    {
     "name": "stdout",
     "output_type": "stream",
     "text": [
      "Average Fitness: -115.42952909489793 \n",
      " Best Fitness: 42.556755098114536 \n",
      " Worst Fitness: -511.5063471724483 \n",
      " Standard Error: 8.174865014868248\n"
     ]
    },
    {
     "name": "stderr",
     "output_type": "stream",
     "text": [
      "100%|██████████████████████████████████████████████████████| 120/120 [00:04<00:00, 25.97it/s]\n"
     ]
    },
    {
     "name": "stdout",
     "output_type": "stream",
     "text": [
      "[Generation 63]\n",
      "Calculating Fitnesses For Population ...\n"
     ]
    },
    {
     "name": "stderr",
     "output_type": "stream",
     "text": [
      "100%|█████████████████████████████████████████████████████| 200/200 [00:01<00:00, 121.74it/s]\n"
     ]
    },
    {
     "name": "stdout",
     "output_type": "stream",
     "text": [
      "Average Fitness: -105.22537332573113 \n",
      " Best Fitness: 171.3714084345662 \n",
      " Worst Fitness: -442.35668906767586 \n",
      " Standard Error: 7.76360366672123\n"
     ]
    },
    {
     "name": "stderr",
     "output_type": "stream",
     "text": [
      "100%|██████████████████████████████████████████████████████| 120/120 [00:04<00:00, 26.86it/s]\n"
     ]
    },
    {
     "name": "stdout",
     "output_type": "stream",
     "text": [
      "[Generation 64]\n",
      "Calculating Fitnesses For Population ...\n"
     ]
    },
    {
     "name": "stderr",
     "output_type": "stream",
     "text": [
      "100%|█████████████████████████████████████████████████████| 200/200 [00:01<00:00, 126.82it/s]\n"
     ]
    },
    {
     "name": "stdout",
     "output_type": "stream",
     "text": [
      "Average Fitness: -100.42654999218612 \n",
      " Best Fitness: 242.8644359421106 \n",
      " Worst Fitness: -396.9505173236585 \n",
      " Standard Error: 7.4790714165343966\n"
     ]
    },
    {
     "name": "stderr",
     "output_type": "stream",
     "text": [
      "100%|██████████████████████████████████████████████████████| 120/120 [00:04<00:00, 26.44it/s]\n"
     ]
    },
    {
     "name": "stdout",
     "output_type": "stream",
     "text": [
      "[Generation 65]\n",
      "Calculating Fitnesses For Population ...\n"
     ]
    },
    {
     "name": "stderr",
     "output_type": "stream",
     "text": [
      "100%|█████████████████████████████████████████████████████| 200/200 [00:01<00:00, 126.65it/s]\n"
     ]
    },
    {
     "name": "stdout",
     "output_type": "stream",
     "text": [
      "Average Fitness: -104.81117282434423 \n",
      " Best Fitness: 47.979839073688765 \n",
      " Worst Fitness: -468.12370467377445 \n",
      " Standard Error: 7.7336217535140035\n"
     ]
    },
    {
     "name": "stderr",
     "output_type": "stream",
     "text": [
      "100%|██████████████████████████████████████████████████████| 120/120 [00:04<00:00, 26.35it/s]\n"
     ]
    },
    {
     "name": "stdout",
     "output_type": "stream",
     "text": [
      "[Generation 66]\n",
      "Calculating Fitnesses For Population ...\n"
     ]
    },
    {
     "name": "stderr",
     "output_type": "stream",
     "text": [
      "100%|█████████████████████████████████████████████████████| 200/200 [00:01<00:00, 128.17it/s]\n"
     ]
    },
    {
     "name": "stdout",
     "output_type": "stream",
     "text": [
      "Average Fitness: -93.07964239704222 \n",
      " Best Fitness: 158.6216272824115 \n",
      " Worst Fitness: -441.5425336517816 \n",
      " Standard Error: 6.580741648814571\n"
     ]
    },
    {
     "name": "stderr",
     "output_type": "stream",
     "text": [
      "100%|██████████████████████████████████████████████████████| 120/120 [00:04<00:00, 25.72it/s]\n"
     ]
    },
    {
     "name": "stdout",
     "output_type": "stream",
     "text": [
      "[Generation 67]\n",
      "Calculating Fitnesses For Population ...\n"
     ]
    },
    {
     "name": "stderr",
     "output_type": "stream",
     "text": [
      "100%|█████████████████████████████████████████████████████| 200/200 [00:01<00:00, 126.52it/s]\n"
     ]
    },
    {
     "name": "stdout",
     "output_type": "stream",
     "text": [
      "Average Fitness: -108.54064243585356 \n",
      " Best Fitness: 47.33931907479371 \n",
      " Worst Fitness: -571.173687978594 \n",
      " Standard Error: 8.039946410496123\n"
     ]
    },
    {
     "name": "stderr",
     "output_type": "stream",
     "text": [
      "100%|██████████████████████████████████████████████████████| 120/120 [00:04<00:00, 25.83it/s]\n"
     ]
    },
    {
     "name": "stdout",
     "output_type": "stream",
     "text": [
      "[Generation 68]\n",
      "Calculating Fitnesses For Population ...\n"
     ]
    },
    {
     "name": "stderr",
     "output_type": "stream",
     "text": [
      "100%|█████████████████████████████████████████████████████| 200/200 [00:01<00:00, 125.94it/s]\n"
     ]
    },
    {
     "name": "stdout",
     "output_type": "stream",
     "text": [
      "Average Fitness: -94.77735260481793 \n",
      " Best Fitness: 229.01896463233447 \n",
      " Worst Fitness: -483.46121127656664 \n",
      " Standard Error: 7.417431925849058\n"
     ]
    },
    {
     "name": "stderr",
     "output_type": "stream",
     "text": [
      "100%|██████████████████████████████████████████████████████| 120/120 [00:04<00:00, 25.32it/s]\n"
     ]
    },
    {
     "name": "stdout",
     "output_type": "stream",
     "text": [
      "[Generation 69]\n",
      "Calculating Fitnesses For Population ...\n"
     ]
    },
    {
     "name": "stderr",
     "output_type": "stream",
     "text": [
      "100%|█████████████████████████████████████████████████████| 200/200 [00:01<00:00, 124.25it/s]\n"
     ]
    },
    {
     "name": "stdout",
     "output_type": "stream",
     "text": [
      "Average Fitness: -108.71733736700244 \n",
      " Best Fitness: 61.85370394662618 \n",
      " Worst Fitness: -625.1892625645575 \n",
      " Standard Error: 8.40265573377146\n"
     ]
    },
    {
     "name": "stderr",
     "output_type": "stream",
     "text": [
      "100%|██████████████████████████████████████████████████████| 120/120 [00:04<00:00, 25.61it/s]\n"
     ]
    },
    {
     "name": "stdout",
     "output_type": "stream",
     "text": [
      "[Generation 70]\n",
      "Calculating Fitnesses For Population ...\n"
     ]
    },
    {
     "name": "stderr",
     "output_type": "stream",
     "text": [
      "100%|█████████████████████████████████████████████████████| 200/200 [00:01<00:00, 130.09it/s]\n"
     ]
    },
    {
     "name": "stdout",
     "output_type": "stream",
     "text": [
      "Average Fitness: -104.61487907753279 \n",
      " Best Fitness: 43.371155956162454 \n",
      " Worst Fitness: -424.72313288190594 \n",
      " Standard Error: 7.5228217562857465\n"
     ]
    },
    {
     "name": "stderr",
     "output_type": "stream",
     "text": [
      "100%|██████████████████████████████████████████████████████| 120/120 [00:04<00:00, 26.36it/s]\n"
     ]
    },
    {
     "name": "stdout",
     "output_type": "stream",
     "text": [
      "[Generation 71]\n",
      "Calculating Fitnesses For Population ...\n"
     ]
    },
    {
     "name": "stderr",
     "output_type": "stream",
     "text": [
      "100%|█████████████████████████████████████████████████████| 200/200 [00:01<00:00, 133.11it/s]\n"
     ]
    },
    {
     "name": "stdout",
     "output_type": "stream",
     "text": [
      "Average Fitness: -89.62955358075396 \n",
      " Best Fitness: 260.136940746783 \n",
      " Worst Fitness: -396.8632833277607 \n",
      " Standard Error: 7.135859847390179\n"
     ]
    },
    {
     "name": "stderr",
     "output_type": "stream",
     "text": [
      "100%|██████████████████████████████████████████████████████| 120/120 [00:04<00:00, 24.73it/s]\n"
     ]
    },
    {
     "name": "stdout",
     "output_type": "stream",
     "text": [
      "[Generation 72]\n",
      "Calculating Fitnesses For Population ...\n"
     ]
    },
    {
     "name": "stderr",
     "output_type": "stream",
     "text": [
      "100%|█████████████████████████████████████████████████████| 200/200 [00:01<00:00, 125.50it/s]\n"
     ]
    },
    {
     "name": "stdout",
     "output_type": "stream",
     "text": [
      "Average Fitness: -94.81593198280662 \n",
      " Best Fitness: 211.8214351803221 \n",
      " Worst Fitness: -507.5024157328623 \n",
      " Standard Error: 7.159977747901159\n"
     ]
    },
    {
     "name": "stderr",
     "output_type": "stream",
     "text": [
      "100%|██████████████████████████████████████████████████████| 120/120 [00:04<00:00, 26.22it/s]\n"
     ]
    },
    {
     "name": "stdout",
     "output_type": "stream",
     "text": [
      "[Generation 73]\n",
      "Calculating Fitnesses For Population ...\n"
     ]
    },
    {
     "name": "stderr",
     "output_type": "stream",
     "text": [
      "100%|█████████████████████████████████████████████████████| 200/200 [00:01<00:00, 129.85it/s]\n"
     ]
    },
    {
     "name": "stdout",
     "output_type": "stream",
     "text": [
      "Average Fitness: -97.86568687045705 \n",
      " Best Fitness: 227.5398445215996 \n",
      " Worst Fitness: -533.4510582268229 \n",
      " Standard Error: 7.499301336575155\n"
     ]
    },
    {
     "name": "stderr",
     "output_type": "stream",
     "text": [
      "100%|██████████████████████████████████████████████████████| 120/120 [00:04<00:00, 26.14it/s]\n"
     ]
    },
    {
     "name": "stdout",
     "output_type": "stream",
     "text": [
      "[Generation 74]\n",
      "Calculating Fitnesses For Population ...\n"
     ]
    },
    {
     "name": "stderr",
     "output_type": "stream",
     "text": [
      "100%|█████████████████████████████████████████████████████| 200/200 [00:01<00:00, 121.71it/s]\n"
     ]
    },
    {
     "name": "stdout",
     "output_type": "stream",
     "text": [
      "Average Fitness: -93.47392054311592 \n",
      " Best Fitness: 268.3397745967776 \n",
      " Worst Fitness: -390.4197059899242 \n",
      " Standard Error: 7.430896267232224\n"
     ]
    },
    {
     "name": "stderr",
     "output_type": "stream",
     "text": [
      "100%|██████████████████████████████████████████████████████| 120/120 [00:04<00:00, 25.51it/s]\n"
     ]
    },
    {
     "name": "stdout",
     "output_type": "stream",
     "text": [
      "[Generation 75]\n",
      "Calculating Fitnesses For Population ...\n"
     ]
    },
    {
     "name": "stderr",
     "output_type": "stream",
     "text": [
      "100%|█████████████████████████████████████████████████████| 200/200 [00:01<00:00, 113.51it/s]\n"
     ]
    },
    {
     "name": "stdout",
     "output_type": "stream",
     "text": [
      "Average Fitness: -102.20899800222912 \n",
      " Best Fitness: 258.7514925379172 \n",
      " Worst Fitness: -713.167684174782 \n",
      " Standard Error: 8.51435957415241\n"
     ]
    },
    {
     "name": "stderr",
     "output_type": "stream",
     "text": [
      "100%|██████████████████████████████████████████████████████| 120/120 [00:05<00:00, 22.29it/s]\n"
     ]
    },
    {
     "name": "stdout",
     "output_type": "stream",
     "text": [
      "[Generation 76]\n",
      "Calculating Fitnesses For Population ...\n"
     ]
    },
    {
     "name": "stderr",
     "output_type": "stream",
     "text": [
      "100%|█████████████████████████████████████████████████████| 200/200 [00:01<00:00, 113.65it/s]\n"
     ]
    },
    {
     "name": "stdout",
     "output_type": "stream",
     "text": [
      "Average Fitness: -109.51789135271855 \n",
      " Best Fitness: 54.244111397946824 \n",
      " Worst Fitness: -606.9044406540211 \n",
      " Standard Error: 7.937723280867032\n"
     ]
    },
    {
     "name": "stderr",
     "output_type": "stream",
     "text": [
      "100%|██████████████████████████████████████████████████████| 120/120 [00:04<00:00, 24.03it/s]\n"
     ]
    },
    {
     "name": "stdout",
     "output_type": "stream",
     "text": [
      "[Generation 77]\n",
      "Calculating Fitnesses For Population ...\n"
     ]
    },
    {
     "name": "stderr",
     "output_type": "stream",
     "text": [
      "100%|█████████████████████████████████████████████████████| 200/200 [00:01<00:00, 113.94it/s]\n"
     ]
    },
    {
     "name": "stdout",
     "output_type": "stream",
     "text": [
      "Average Fitness: -109.4118503664342 \n",
      " Best Fitness: 196.09559142512674 \n",
      " Worst Fitness: -597.9345644962184 \n",
      " Standard Error: 8.193118794819936\n"
     ]
    },
    {
     "name": "stderr",
     "output_type": "stream",
     "text": [
      "100%|██████████████████████████████████████████████████████| 120/120 [00:04<00:00, 24.78it/s]\n"
     ]
    },
    {
     "name": "stdout",
     "output_type": "stream",
     "text": [
      "[Generation 78]\n",
      "Calculating Fitnesses For Population ...\n"
     ]
    },
    {
     "name": "stderr",
     "output_type": "stream",
     "text": [
      "100%|█████████████████████████████████████████████████████| 200/200 [00:01<00:00, 114.20it/s]\n"
     ]
    },
    {
     "name": "stdout",
     "output_type": "stream",
     "text": [
      "Average Fitness: -94.01074521145576 \n",
      " Best Fitness: 189.59197475275326 \n",
      " Worst Fitness: -424.2697497677653 \n",
      " Standard Error: 7.405106177829822\n"
     ]
    },
    {
     "name": "stderr",
     "output_type": "stream",
     "text": [
      "100%|██████████████████████████████████████████████████████| 120/120 [00:05<00:00, 23.04it/s]\n"
     ]
    },
    {
     "name": "stdout",
     "output_type": "stream",
     "text": [
      "[Generation 79]\n",
      "Calculating Fitnesses For Population ...\n"
     ]
    },
    {
     "name": "stderr",
     "output_type": "stream",
     "text": [
      "100%|█████████████████████████████████████████████████████| 200/200 [00:01<00:00, 110.39it/s]\n"
     ]
    },
    {
     "name": "stdout",
     "output_type": "stream",
     "text": [
      "Average Fitness: -100.707932479062 \n",
      " Best Fitness: 186.25497012263713 \n",
      " Worst Fitness: -511.478569184298 \n",
      " Standard Error: 7.924380741523477\n"
     ]
    },
    {
     "name": "stderr",
     "output_type": "stream",
     "text": [
      "100%|██████████████████████████████████████████████████████| 120/120 [00:04<00:00, 24.50it/s]\n"
     ]
    },
    {
     "name": "stdout",
     "output_type": "stream",
     "text": [
      "[Generation 80]\n",
      "Calculating Fitnesses For Population ...\n"
     ]
    },
    {
     "name": "stderr",
     "output_type": "stream",
     "text": [
      "100%|█████████████████████████████████████████████████████| 200/200 [00:01<00:00, 108.06it/s]\n"
     ]
    },
    {
     "name": "stdout",
     "output_type": "stream",
     "text": [
      "Average Fitness: -84.15947611197305 \n",
      " Best Fitness: 278.907440735505 \n",
      " Worst Fitness: -528.3513139763068 \n",
      " Standard Error: 8.222428954969438\n"
     ]
    },
    {
     "name": "stderr",
     "output_type": "stream",
     "text": [
      "100%|██████████████████████████████████████████████████████| 120/120 [00:04<00:00, 24.69it/s]\n"
     ]
    },
    {
     "name": "stdout",
     "output_type": "stream",
     "text": [
      "[Generation 81]\n",
      "Calculating Fitnesses For Population ...\n"
     ]
    },
    {
     "name": "stderr",
     "output_type": "stream",
     "text": [
      "100%|█████████████████████████████████████████████████████| 200/200 [00:01<00:00, 119.20it/s]\n"
     ]
    },
    {
     "name": "stdout",
     "output_type": "stream",
     "text": [
      "Average Fitness: -94.8502325498327 \n",
      " Best Fitness: 190.24232289914136 \n",
      " Worst Fitness: -563.7971495089532 \n",
      " Standard Error: 7.832836025172517\n"
     ]
    },
    {
     "name": "stderr",
     "output_type": "stream",
     "text": [
      "100%|██████████████████████████████████████████████████████| 120/120 [00:05<00:00, 23.63it/s]\n"
     ]
    },
    {
     "name": "stdout",
     "output_type": "stream",
     "text": [
      "[Generation 82]\n",
      "Calculating Fitnesses For Population ...\n"
     ]
    },
    {
     "name": "stderr",
     "output_type": "stream",
     "text": [
      "100%|█████████████████████████████████████████████████████| 200/200 [00:01<00:00, 117.60it/s]\n"
     ]
    },
    {
     "name": "stdout",
     "output_type": "stream",
     "text": [
      "Average Fitness: -89.14316221508052 \n",
      " Best Fitness: 232.2154536158548 \n",
      " Worst Fitness: -363.02917429449883 \n",
      " Standard Error: 7.162453384451014\n"
     ]
    },
    {
     "name": "stderr",
     "output_type": "stream",
     "text": [
      "100%|██████████████████████████████████████████████████████| 120/120 [00:04<00:00, 24.83it/s]\n"
     ]
    },
    {
     "name": "stdout",
     "output_type": "stream",
     "text": [
      "[Generation 83]\n",
      "Calculating Fitnesses For Population ...\n"
     ]
    },
    {
     "name": "stderr",
     "output_type": "stream",
     "text": [
      "100%|█████████████████████████████████████████████████████| 200/200 [00:01<00:00, 122.83it/s]\n"
     ]
    },
    {
     "name": "stdout",
     "output_type": "stream",
     "text": [
      "Average Fitness: -93.58896073106479 \n",
      " Best Fitness: 269.10649203399635 \n",
      " Worst Fitness: -397.73052000990793 \n",
      " Standard Error: 7.112195343734056\n"
     ]
    },
    {
     "name": "stderr",
     "output_type": "stream",
     "text": [
      "100%|██████████████████████████████████████████████████████| 120/120 [00:05<00:00, 22.44it/s]\n"
     ]
    },
    {
     "name": "stdout",
     "output_type": "stream",
     "text": [
      "[Generation 84]\n",
      "Calculating Fitnesses For Population ...\n"
     ]
    },
    {
     "name": "stderr",
     "output_type": "stream",
     "text": [
      "100%|█████████████████████████████████████████████████████| 200/200 [00:01<00:00, 113.60it/s]\n"
     ]
    },
    {
     "name": "stdout",
     "output_type": "stream",
     "text": [
      "Average Fitness: -84.97390052555805 \n",
      " Best Fitness: 233.0983257123451 \n",
      " Worst Fitness: -485.38864474512513 \n",
      " Standard Error: 7.362097948598889\n"
     ]
    },
    {
     "name": "stderr",
     "output_type": "stream",
     "text": [
      "100%|██████████████████████████████████████████████████████| 120/120 [00:05<00:00, 23.70it/s]\n"
     ]
    },
    {
     "name": "stdout",
     "output_type": "stream",
     "text": [
      "[Generation 85]\n",
      "Calculating Fitnesses For Population ...\n"
     ]
    },
    {
     "name": "stderr",
     "output_type": "stream",
     "text": [
      "100%|█████████████████████████████████████████████████████| 200/200 [00:01<00:00, 114.28it/s]\n"
     ]
    },
    {
     "name": "stdout",
     "output_type": "stream",
     "text": [
      "Average Fitness: -97.24482924940749 \n",
      " Best Fitness: 275.1861888989498 \n",
      " Worst Fitness: -494.559702142117 \n",
      " Standard Error: 8.082180515863175\n"
     ]
    },
    {
     "name": "stderr",
     "output_type": "stream",
     "text": [
      "100%|██████████████████████████████████████████████████████| 120/120 [00:04<00:00, 24.73it/s]\n"
     ]
    },
    {
     "name": "stdout",
     "output_type": "stream",
     "text": [
      "[Generation 86]\n",
      "Calculating Fitnesses For Population ...\n"
     ]
    },
    {
     "name": "stderr",
     "output_type": "stream",
     "text": [
      "100%|█████████████████████████████████████████████████████| 200/200 [00:01<00:00, 116.99it/s]\n"
     ]
    },
    {
     "name": "stdout",
     "output_type": "stream",
     "text": [
      "Average Fitness: -99.79483526101434 \n",
      " Best Fitness: 232.84228298384963 \n",
      " Worst Fitness: -532.6656701831233 \n",
      " Standard Error: 7.83058828992147\n"
     ]
    },
    {
     "name": "stderr",
     "output_type": "stream",
     "text": [
      "100%|██████████████████████████████████████████████████████| 120/120 [00:05<00:00, 23.57it/s]\n"
     ]
    },
    {
     "name": "stdout",
     "output_type": "stream",
     "text": [
      "[Generation 87]\n",
      "Calculating Fitnesses For Population ...\n"
     ]
    },
    {
     "name": "stderr",
     "output_type": "stream",
     "text": [
      "100%|█████████████████████████████████████████████████████| 200/200 [00:01<00:00, 114.05it/s]\n"
     ]
    },
    {
     "name": "stdout",
     "output_type": "stream",
     "text": [
      "Average Fitness: -107.22373441152345 \n",
      " Best Fitness: 204.64465588520403 \n",
      " Worst Fitness: -610.7727954488012 \n",
      " Standard Error: 8.8260053767096\n"
     ]
    },
    {
     "name": "stderr",
     "output_type": "stream",
     "text": [
      "100%|██████████████████████████████████████████████████████| 120/120 [00:04<00:00, 24.22it/s]\n"
     ]
    },
    {
     "name": "stdout",
     "output_type": "stream",
     "text": [
      "[Generation 88]\n",
      "Calculating Fitnesses For Population ...\n"
     ]
    },
    {
     "name": "stderr",
     "output_type": "stream",
     "text": [
      "100%|█████████████████████████████████████████████████████| 200/200 [00:01<00:00, 110.33it/s]\n"
     ]
    },
    {
     "name": "stdout",
     "output_type": "stream",
     "text": [
      "Average Fitness: -87.92777364951809 \n",
      " Best Fitness: 274.4674022427558 \n",
      " Worst Fitness: -464.6434559549798 \n",
      " Standard Error: 7.736296777369821\n"
     ]
    },
    {
     "name": "stderr",
     "output_type": "stream",
     "text": [
      "100%|██████████████████████████████████████████████████████| 120/120 [00:04<00:00, 24.14it/s]\n"
     ]
    },
    {
     "name": "stdout",
     "output_type": "stream",
     "text": [
      "[Generation 89]\n",
      "Calculating Fitnesses For Population ...\n"
     ]
    },
    {
     "name": "stderr",
     "output_type": "stream",
     "text": [
      "100%|█████████████████████████████████████████████████████| 200/200 [00:01<00:00, 105.89it/s]\n"
     ]
    },
    {
     "name": "stdout",
     "output_type": "stream",
     "text": [
      "Average Fitness: -91.39416573395916 \n",
      " Best Fitness: 282.17732963044045 \n",
      " Worst Fitness: -534.5129965215706 \n",
      " Standard Error: 8.38654523358189\n"
     ]
    },
    {
     "name": "stderr",
     "output_type": "stream",
     "text": [
      "100%|██████████████████████████████████████████████████████| 120/120 [00:04<00:00, 24.81it/s]\n"
     ]
    },
    {
     "name": "stdout",
     "output_type": "stream",
     "text": [
      "[Generation 90]\n",
      "Calculating Fitnesses For Population ...\n"
     ]
    },
    {
     "name": "stderr",
     "output_type": "stream",
     "text": [
      "100%|█████████████████████████████████████████████████████| 200/200 [00:01<00:00, 109.40it/s]\n"
     ]
    },
    {
     "name": "stdout",
     "output_type": "stream",
     "text": [
      "Average Fitness: -84.07104317699267 \n",
      " Best Fitness: 176.45848983816785 \n",
      " Worst Fitness: -484.100222993567 \n",
      " Standard Error: 7.323200397349693\n"
     ]
    },
    {
     "name": "stderr",
     "output_type": "stream",
     "text": [
      "100%|██████████████████████████████████████████████████████| 120/120 [00:06<00:00, 19.19it/s]\n"
     ]
    },
    {
     "name": "stdout",
     "output_type": "stream",
     "text": [
      "[Generation 91]\n",
      "Calculating Fitnesses For Population ...\n"
     ]
    },
    {
     "name": "stderr",
     "output_type": "stream",
     "text": [
      "100%|█████████████████████████████████████████████████████| 200/200 [00:01<00:00, 103.25it/s]\n"
     ]
    },
    {
     "name": "stdout",
     "output_type": "stream",
     "text": [
      "Average Fitness: -96.96927137118767 \n",
      " Best Fitness: 245.00378336902742 \n",
      " Worst Fitness: -479.31489962377424 \n",
      " Standard Error: 8.472259463549367\n"
     ]
    },
    {
     "name": "stderr",
     "output_type": "stream",
     "text": [
      "100%|██████████████████████████████████████████████████████| 120/120 [00:05<00:00, 22.47it/s]\n"
     ]
    },
    {
     "name": "stdout",
     "output_type": "stream",
     "text": [
      "[Generation 92]\n",
      "Calculating Fitnesses For Population ...\n"
     ]
    },
    {
     "name": "stderr",
     "output_type": "stream",
     "text": [
      "100%|█████████████████████████████████████████████████████| 200/200 [00:01<00:00, 113.66it/s]\n"
     ]
    },
    {
     "name": "stdout",
     "output_type": "stream",
     "text": [
      "Average Fitness: -97.43997586507676 \n",
      " Best Fitness: 264.44589255944106 \n",
      " Worst Fitness: -640.5733469215606 \n",
      " Standard Error: 8.763105859619195\n"
     ]
    },
    {
     "name": "stderr",
     "output_type": "stream",
     "text": [
      "100%|██████████████████████████████████████████████████████| 120/120 [00:04<00:00, 24.55it/s]\n"
     ]
    },
    {
     "name": "stdout",
     "output_type": "stream",
     "text": [
      "[Generation 93]\n",
      "Calculating Fitnesses For Population ...\n"
     ]
    },
    {
     "name": "stderr",
     "output_type": "stream",
     "text": [
      "100%|█████████████████████████████████████████████████████| 200/200 [00:01<00:00, 108.17it/s]\n"
     ]
    },
    {
     "name": "stdout",
     "output_type": "stream",
     "text": [
      "Average Fitness: -83.17111942349071 \n",
      " Best Fitness: 255.533534345189 \n",
      " Worst Fitness: -466.38609785851924 \n",
      " Standard Error: 8.294731874075536\n"
     ]
    },
    {
     "name": "stderr",
     "output_type": "stream",
     "text": [
      "100%|██████████████████████████████████████████████████████| 120/120 [00:05<00:00, 22.69it/s]\n"
     ]
    },
    {
     "name": "stdout",
     "output_type": "stream",
     "text": [
      "[Generation 94]\n",
      "Calculating Fitnesses For Population ...\n"
     ]
    },
    {
     "name": "stderr",
     "output_type": "stream",
     "text": [
      "100%|█████████████████████████████████████████████████████| 200/200 [00:01<00:00, 107.77it/s]\n"
     ]
    },
    {
     "name": "stdout",
     "output_type": "stream",
     "text": [
      "Average Fitness: -90.02894202054306 \n",
      " Best Fitness: 276.96009773569745 \n",
      " Worst Fitness: -407.4488671730521 \n",
      " Standard Error: 7.930514826004849\n"
     ]
    },
    {
     "name": "stderr",
     "output_type": "stream",
     "text": [
      "100%|██████████████████████████████████████████████████████| 120/120 [00:04<00:00, 24.88it/s]\n"
     ]
    },
    {
     "name": "stdout",
     "output_type": "stream",
     "text": [
      "[Generation 95]\n",
      "Calculating Fitnesses For Population ...\n"
     ]
    },
    {
     "name": "stderr",
     "output_type": "stream",
     "text": [
      "100%|█████████████████████████████████████████████████████| 200/200 [00:01<00:00, 108.01it/s]\n"
     ]
    },
    {
     "name": "stdout",
     "output_type": "stream",
     "text": [
      "Average Fitness: -88.95763482085654 \n",
      " Best Fitness: 227.94881914204836 \n",
      " Worst Fitness: -394.3046825337366 \n",
      " Standard Error: 7.789116410845379\n"
     ]
    },
    {
     "name": "stderr",
     "output_type": "stream",
     "text": [
      "100%|██████████████████████████████████████████████████████| 120/120 [00:05<00:00, 22.71it/s]\n"
     ]
    },
    {
     "name": "stdout",
     "output_type": "stream",
     "text": [
      "[Generation 96]\n",
      "Calculating Fitnesses For Population ...\n"
     ]
    },
    {
     "name": "stderr",
     "output_type": "stream",
     "text": [
      "100%|█████████████████████████████████████████████████████| 200/200 [00:01<00:00, 106.14it/s]\n"
     ]
    },
    {
     "name": "stdout",
     "output_type": "stream",
     "text": [
      "Average Fitness: -96.5318295856222 \n",
      " Best Fitness: 220.2362292390217 \n",
      " Worst Fitness: -501.19062831684226 \n",
      " Standard Error: 8.292606285904114\n"
     ]
    },
    {
     "name": "stderr",
     "output_type": "stream",
     "text": [
      "100%|██████████████████████████████████████████████████████| 120/120 [00:05<00:00, 22.93it/s]\n"
     ]
    },
    {
     "name": "stdout",
     "output_type": "stream",
     "text": [
      "[Generation 97]\n",
      "Calculating Fitnesses For Population ...\n"
     ]
    },
    {
     "name": "stderr",
     "output_type": "stream",
     "text": [
      "100%|█████████████████████████████████████████████████████| 200/200 [00:01<00:00, 108.40it/s]\n"
     ]
    },
    {
     "name": "stdout",
     "output_type": "stream",
     "text": [
      "Average Fitness: -83.31208217149994 \n",
      " Best Fitness: 236.62066091123052 \n",
      " Worst Fitness: -488.8286193237738 \n",
      " Standard Error: 7.723798992800095\n"
     ]
    },
    {
     "name": "stderr",
     "output_type": "stream",
     "text": [
      "100%|██████████████████████████████████████████████████████| 120/120 [00:05<00:00, 23.66it/s]\n"
     ]
    },
    {
     "name": "stdout",
     "output_type": "stream",
     "text": [
      "[Generation 98]\n",
      "Calculating Fitnesses For Population ...\n"
     ]
    },
    {
     "name": "stderr",
     "output_type": "stream",
     "text": [
      "100%|█████████████████████████████████████████████████████| 200/200 [00:01<00:00, 105.30it/s]\n"
     ]
    },
    {
     "name": "stdout",
     "output_type": "stream",
     "text": [
      "Average Fitness: -80.39074565452995 \n",
      " Best Fitness: 238.43345370609936 \n",
      " Worst Fitness: -362.3672088942208 \n",
      " Standard Error: 7.299622747367398\n"
     ]
    },
    {
     "name": "stderr",
     "output_type": "stream",
     "text": [
      "100%|██████████████████████████████████████████████████████| 120/120 [00:04<00:00, 24.31it/s]\n"
     ]
    },
    {
     "name": "stdout",
     "output_type": "stream",
     "text": [
      "[Generation 99]\n",
      "Calculating Fitnesses For Population ...\n"
     ]
    },
    {
     "name": "stderr",
     "output_type": "stream",
     "text": [
      "100%|█████████████████████████████████████████████████████| 200/200 [00:01<00:00, 106.90it/s]\n"
     ]
    },
    {
     "name": "stdout",
     "output_type": "stream",
     "text": [
      "Average Fitness: -82.90822303693079 \n",
      " Best Fitness: 276.7070828090942 \n",
      " Worst Fitness: -548.7829370652084 \n",
      " Standard Error: 8.291113305222304\n"
     ]
    },
    {
     "name": "stderr",
     "output_type": "stream",
     "text": [
      "100%|██████████████████████████████████████████████████████| 120/120 [00:05<00:00, 21.96it/s]\n"
     ]
    },
    {
     "name": "stdout",
     "output_type": "stream",
     "text": [
      "[Generation 100]\n",
      "Calculating Fitnesses For Population ...\n"
     ]
    },
    {
     "name": "stderr",
     "output_type": "stream",
     "text": [
      "100%|█████████████████████████████████████████████████████| 200/200 [00:01<00:00, 110.52it/s]\n"
     ]
    },
    {
     "name": "stdout",
     "output_type": "stream",
     "text": [
      "Average Fitness: -83.67067307439888 \n",
      " Best Fitness: 297.2464738323339 \n",
      " Worst Fitness: -732.9204013313384 \n",
      " Standard Error: 7.867498166761174\n"
     ]
    },
    {
     "name": "stderr",
     "output_type": "stream",
     "text": [
      "100%|██████████████████████████████████████████████████████| 120/120 [00:05<00:00, 23.85it/s]\n"
     ]
    },
    {
     "name": "stdout",
     "output_type": "stream",
     "text": [
      "[Generation 101]\n",
      "Calculating Fitnesses For Population ...\n"
     ]
    },
    {
     "name": "stderr",
     "output_type": "stream",
     "text": [
      "100%|█████████████████████████████████████████████████████| 200/200 [00:01<00:00, 119.66it/s]\n"
     ]
    },
    {
     "name": "stdout",
     "output_type": "stream",
     "text": [
      "Average Fitness: -86.43385085633885 \n",
      " Best Fitness: 262.1924521301569 \n",
      " Worst Fitness: -416.06463585106565 \n",
      " Standard Error: 7.479354024121957\n"
     ]
    },
    {
     "name": "stderr",
     "output_type": "stream",
     "text": [
      "100%|██████████████████████████████████████████████████████| 120/120 [00:04<00:00, 25.28it/s]\n"
     ]
    },
    {
     "name": "stdout",
     "output_type": "stream",
     "text": [
      "[Generation 102]\n",
      "Calculating Fitnesses For Population ...\n"
     ]
    },
    {
     "name": "stderr",
     "output_type": "stream",
     "text": [
      "100%|█████████████████████████████████████████████████████| 200/200 [00:01<00:00, 112.04it/s]\n"
     ]
    },
    {
     "name": "stdout",
     "output_type": "stream",
     "text": [
      "Average Fitness: -79.8557205558221 \n",
      " Best Fitness: 266.32074596029884 \n",
      " Worst Fitness: -458.93732425157106 \n",
      " Standard Error: 7.520524991712729\n"
     ]
    },
    {
     "name": "stderr",
     "output_type": "stream",
     "text": [
      "100%|██████████████████████████████████████████████████████| 120/120 [00:04<00:00, 24.87it/s]\n"
     ]
    },
    {
     "name": "stdout",
     "output_type": "stream",
     "text": [
      "[Generation 103]\n",
      "Calculating Fitnesses For Population ...\n"
     ]
    },
    {
     "name": "stderr",
     "output_type": "stream",
     "text": [
      "100%|█████████████████████████████████████████████████████| 200/200 [00:01<00:00, 107.97it/s]\n"
     ]
    },
    {
     "name": "stdout",
     "output_type": "stream",
     "text": [
      "Average Fitness: -67.17812941068897 \n",
      " Best Fitness: 246.67579855072492 \n",
      " Worst Fitness: -322.4465385361139 \n",
      " Standard Error: 6.859994911397416\n"
     ]
    },
    {
     "name": "stderr",
     "output_type": "stream",
     "text": [
      "100%|██████████████████████████████████████████████████████| 120/120 [00:05<00:00, 21.76it/s]\n"
     ]
    },
    {
     "name": "stdout",
     "output_type": "stream",
     "text": [
      "[Generation 104]\n",
      "Calculating Fitnesses For Population ...\n"
     ]
    },
    {
     "name": "stderr",
     "output_type": "stream",
     "text": [
      "100%|█████████████████████████████████████████████████████| 200/200 [00:01<00:00, 112.25it/s]\n"
     ]
    },
    {
     "name": "stdout",
     "output_type": "stream",
     "text": [
      "Average Fitness: -67.29261113734243 \n",
      " Best Fitness: 236.8262540245613 \n",
      " Worst Fitness: -718.5211055287074 \n",
      " Standard Error: 7.780389708888226\n"
     ]
    },
    {
     "name": "stderr",
     "output_type": "stream",
     "text": [
      "100%|██████████████████████████████████████████████████████| 120/120 [00:05<00:00, 22.23it/s]\n"
     ]
    },
    {
     "name": "stdout",
     "output_type": "stream",
     "text": [
      "[Generation 105]\n",
      "Calculating Fitnesses For Population ...\n"
     ]
    },
    {
     "name": "stderr",
     "output_type": "stream",
     "text": [
      "100%|█████████████████████████████████████████████████████| 200/200 [00:01<00:00, 118.80it/s]\n"
     ]
    },
    {
     "name": "stdout",
     "output_type": "stream",
     "text": [
      "Average Fitness: -74.32979443205491 \n",
      " Best Fitness: 232.0850570495741 \n",
      " Worst Fitness: -378.2690197657371 \n",
      " Standard Error: 7.44840357344259\n"
     ]
    },
    {
     "name": "stderr",
     "output_type": "stream",
     "text": [
      "100%|██████████████████████████████████████████████████████| 120/120 [00:04<00:00, 24.76it/s]\n"
     ]
    },
    {
     "name": "stdout",
     "output_type": "stream",
     "text": [
      "[Generation 106]\n",
      "Calculating Fitnesses For Population ...\n"
     ]
    },
    {
     "name": "stderr",
     "output_type": "stream",
     "text": [
      "100%|█████████████████████████████████████████████████████| 200/200 [00:01<00:00, 116.85it/s]\n"
     ]
    },
    {
     "name": "stdout",
     "output_type": "stream",
     "text": [
      "Average Fitness: -68.53151009588608 \n",
      " Best Fitness: 53.88903618189656 \n",
      " Worst Fitness: -465.9520631094965 \n",
      " Standard Error: 6.213686424077395\n"
     ]
    },
    {
     "name": "stderr",
     "output_type": "stream",
     "text": [
      "100%|██████████████████████████████████████████████████████| 120/120 [00:05<00:00, 23.35it/s]\n"
     ]
    },
    {
     "name": "stdout",
     "output_type": "stream",
     "text": [
      "[Generation 107]\n",
      "Calculating Fitnesses For Population ...\n"
     ]
    },
    {
     "name": "stderr",
     "output_type": "stream",
     "text": [
      "100%|█████████████████████████████████████████████████████| 200/200 [00:01<00:00, 114.55it/s]\n"
     ]
    },
    {
     "name": "stdout",
     "output_type": "stream",
     "text": [
      "Average Fitness: -75.57698284872728 \n",
      " Best Fitness: 263.23127499841786 \n",
      " Worst Fitness: -481.9882066801103 \n",
      " Standard Error: 7.883436775546114\n"
     ]
    },
    {
     "name": "stderr",
     "output_type": "stream",
     "text": [
      "100%|██████████████████████████████████████████████████████| 120/120 [00:05<00:00, 23.43it/s]\n"
     ]
    },
    {
     "name": "stdout",
     "output_type": "stream",
     "text": [
      "[Generation 108]\n",
      "Calculating Fitnesses For Population ...\n"
     ]
    },
    {
     "name": "stderr",
     "output_type": "stream",
     "text": [
      "100%|█████████████████████████████████████████████████████| 200/200 [00:01<00:00, 114.53it/s]\n"
     ]
    },
    {
     "name": "stdout",
     "output_type": "stream",
     "text": [
      "Average Fitness: -77.1520302469361 \n",
      " Best Fitness: 268.0078596366585 \n",
      " Worst Fitness: -380.43301720679904 \n",
      " Standard Error: 6.9132196742333605\n"
     ]
    },
    {
     "name": "stderr",
     "output_type": "stream",
     "text": [
      "100%|██████████████████████████████████████████████████████| 120/120 [00:05<00:00, 20.50it/s]\n"
     ]
    },
    {
     "name": "stdout",
     "output_type": "stream",
     "text": [
      "[Generation 109]\n",
      "Calculating Fitnesses For Population ...\n"
     ]
    },
    {
     "name": "stderr",
     "output_type": "stream",
     "text": [
      "100%|█████████████████████████████████████████████████████| 200/200 [00:01<00:00, 110.94it/s]\n"
     ]
    },
    {
     "name": "stdout",
     "output_type": "stream",
     "text": [
      "Average Fitness: -75.55527249029869 \n",
      " Best Fitness: 228.7089980933123 \n",
      " Worst Fitness: -464.3772906249853 \n",
      " Standard Error: 7.248375879384123\n"
     ]
    },
    {
     "name": "stderr",
     "output_type": "stream",
     "text": [
      "100%|██████████████████████████████████████████████████████| 120/120 [00:05<00:00, 23.94it/s]\n"
     ]
    },
    {
     "name": "stdout",
     "output_type": "stream",
     "text": [
      "[Generation 110]\n",
      "Calculating Fitnesses For Population ...\n"
     ]
    },
    {
     "name": "stderr",
     "output_type": "stream",
     "text": [
      "100%|█████████████████████████████████████████████████████| 200/200 [00:01<00:00, 109.05it/s]\n"
     ]
    },
    {
     "name": "stdout",
     "output_type": "stream",
     "text": [
      "Average Fitness: -59.485130584959514 \n",
      " Best Fitness: 265.78472094790857 \n",
      " Worst Fitness: -547.9651743973934 \n",
      " Standard Error: 7.716149191588984\n"
     ]
    },
    {
     "name": "stderr",
     "output_type": "stream",
     "text": [
      "100%|██████████████████████████████████████████████████████| 120/120 [00:05<00:00, 23.74it/s]\n"
     ]
    },
    {
     "name": "stdout",
     "output_type": "stream",
     "text": [
      "[Generation 111]\n",
      "Calculating Fitnesses For Population ...\n"
     ]
    },
    {
     "name": "stderr",
     "output_type": "stream",
     "text": [
      "100%|█████████████████████████████████████████████████████| 200/200 [00:01<00:00, 111.84it/s]\n"
     ]
    },
    {
     "name": "stdout",
     "output_type": "stream",
     "text": [
      "Average Fitness: -72.2697198324839 \n",
      " Best Fitness: 197.3230257410686 \n",
      " Worst Fitness: -328.6977188564275 \n",
      " Standard Error: 6.253597349431016\n"
     ]
    },
    {
     "name": "stderr",
     "output_type": "stream",
     "text": [
      "100%|██████████████████████████████████████████████████████| 120/120 [00:05<00:00, 21.97it/s]\n"
     ]
    },
    {
     "name": "stdout",
     "output_type": "stream",
     "text": [
      "[Generation 112]\n",
      "Calculating Fitnesses For Population ...\n"
     ]
    },
    {
     "name": "stderr",
     "output_type": "stream",
     "text": [
      "100%|█████████████████████████████████████████████████████| 200/200 [00:01<00:00, 100.97it/s]\n"
     ]
    },
    {
     "name": "stdout",
     "output_type": "stream",
     "text": [
      "Average Fitness: -77.57345888716095 \n",
      " Best Fitness: 215.929909189483 \n",
      " Worst Fitness: -560.8575438208868 \n",
      " Standard Error: 7.647731181035331\n"
     ]
    },
    {
     "name": "stderr",
     "output_type": "stream",
     "text": [
      "100%|██████████████████████████████████████████████████████| 120/120 [00:05<00:00, 21.99it/s]\n"
     ]
    },
    {
     "name": "stdout",
     "output_type": "stream",
     "text": [
      "[Generation 113]\n",
      "Calculating Fitnesses For Population ...\n"
     ]
    },
    {
     "name": "stderr",
     "output_type": "stream",
     "text": [
      "100%|█████████████████████████████████████████████████████| 200/200 [00:01<00:00, 103.64it/s]\n"
     ]
    },
    {
     "name": "stdout",
     "output_type": "stream",
     "text": [
      "Average Fitness: -79.84148524284545 \n",
      " Best Fitness: 220.36274564324106 \n",
      " Worst Fitness: -629.5130808920571 \n",
      " Standard Error: 7.792840720462818\n"
     ]
    },
    {
     "name": "stderr",
     "output_type": "stream",
     "text": [
      "100%|██████████████████████████████████████████████████████| 120/120 [00:05<00:00, 23.31it/s]\n"
     ]
    },
    {
     "name": "stdout",
     "output_type": "stream",
     "text": [
      "[Generation 114]\n",
      "Calculating Fitnesses For Population ...\n"
     ]
    },
    {
     "name": "stderr",
     "output_type": "stream",
     "text": [
      "100%|█████████████████████████████████████████████████████| 200/200 [00:01<00:00, 109.57it/s]\n"
     ]
    },
    {
     "name": "stdout",
     "output_type": "stream",
     "text": [
      "Average Fitness: -80.42714557192426 \n",
      " Best Fitness: 228.52532108640838 \n",
      " Worst Fitness: -340.83091131808374 \n",
      " Standard Error: 7.124276091851128\n"
     ]
    },
    {
     "name": "stderr",
     "output_type": "stream",
     "text": [
      "100%|██████████████████████████████████████████████████████| 120/120 [00:04<00:00, 24.45it/s]\n"
     ]
    },
    {
     "name": "stdout",
     "output_type": "stream",
     "text": [
      "[Generation 115]\n",
      "Calculating Fitnesses For Population ...\n"
     ]
    },
    {
     "name": "stderr",
     "output_type": "stream",
     "text": [
      "100%|█████████████████████████████████████████████████████| 200/200 [00:01<00:00, 112.66it/s]\n"
     ]
    },
    {
     "name": "stdout",
     "output_type": "stream",
     "text": [
      "Average Fitness: -73.97432186245041 \n",
      " Best Fitness: 250.00802934989105 \n",
      " Worst Fitness: -358.73698434334017 \n",
      " Standard Error: 6.715985435984386\n"
     ]
    },
    {
     "name": "stderr",
     "output_type": "stream",
     "text": [
      "100%|██████████████████████████████████████████████████████| 120/120 [00:05<00:00, 23.01it/s]\n"
     ]
    },
    {
     "name": "stdout",
     "output_type": "stream",
     "text": [
      "[Generation 116]\n",
      "Calculating Fitnesses For Population ...\n"
     ]
    },
    {
     "name": "stderr",
     "output_type": "stream",
     "text": [
      "100%|█████████████████████████████████████████████████████| 200/200 [00:01<00:00, 110.30it/s]\n"
     ]
    },
    {
     "name": "stdout",
     "output_type": "stream",
     "text": [
      "Average Fitness: -65.18215408715213 \n",
      " Best Fitness: 233.22145059475955 \n",
      " Worst Fitness: -409.3072047723767 \n",
      " Standard Error: 6.8308874917219145\n"
     ]
    },
    {
     "name": "stderr",
     "output_type": "stream",
     "text": [
      "100%|██████████████████████████████████████████████████████| 120/120 [00:05<00:00, 23.88it/s]\n"
     ]
    },
    {
     "name": "stdout",
     "output_type": "stream",
     "text": [
      "[Generation 117]\n",
      "Calculating Fitnesses For Population ...\n"
     ]
    },
    {
     "name": "stderr",
     "output_type": "stream",
     "text": [
      "100%|█████████████████████████████████████████████████████| 200/200 [00:01<00:00, 114.08it/s]\n"
     ]
    },
    {
     "name": "stdout",
     "output_type": "stream",
     "text": [
      "Average Fitness: -69.00385459763176 \n",
      " Best Fitness: 57.15977490117851 \n",
      " Worst Fitness: -407.4153876190444 \n",
      " Standard Error: 6.730298723672534\n"
     ]
    },
    {
     "name": "stderr",
     "output_type": "stream",
     "text": [
      "100%|██████████████████████████████████████████████████████| 120/120 [00:05<00:00, 23.37it/s]\n"
     ]
    },
    {
     "name": "stdout",
     "output_type": "stream",
     "text": [
      "[Generation 118]\n",
      "Calculating Fitnesses For Population ...\n"
     ]
    },
    {
     "name": "stderr",
     "output_type": "stream",
     "text": [
      "100%|█████████████████████████████████████████████████████| 200/200 [00:01<00:00, 107.81it/s]\n"
     ]
    },
    {
     "name": "stdout",
     "output_type": "stream",
     "text": [
      "Average Fitness: -73.58904524705633 \n",
      " Best Fitness: 239.93962161880444 \n",
      " Worst Fitness: -348.2613471086234 \n",
      " Standard Error: 6.929054366612111\n"
     ]
    },
    {
     "name": "stderr",
     "output_type": "stream",
     "text": [
      "100%|██████████████████████████████████████████████████████| 120/120 [00:05<00:00, 23.61it/s]\n"
     ]
    },
    {
     "name": "stdout",
     "output_type": "stream",
     "text": [
      "[Generation 119]\n",
      "Calculating Fitnesses For Population ...\n"
     ]
    },
    {
     "name": "stderr",
     "output_type": "stream",
     "text": [
      "100%|█████████████████████████████████████████████████████| 200/200 [00:01<00:00, 105.91it/s]\n"
     ]
    },
    {
     "name": "stdout",
     "output_type": "stream",
     "text": [
      "Average Fitness: -66.45289765864796 \n",
      " Best Fitness: 255.0051151481175 \n",
      " Worst Fitness: -303.0139636191761 \n",
      " Standard Error: 7.044562207509907\n"
     ]
    },
    {
     "name": "stderr",
     "output_type": "stream",
     "text": [
      "100%|██████████████████████████████████████████████████████| 120/120 [00:05<00:00, 22.19it/s]\n"
     ]
    },
    {
     "name": "stdout",
     "output_type": "stream",
     "text": [
      "[Generation 120]\n",
      "Calculating Fitnesses For Population ...\n"
     ]
    },
    {
     "name": "stderr",
     "output_type": "stream",
     "text": [
      "100%|█████████████████████████████████████████████████████| 200/200 [00:01<00:00, 104.07it/s]\n"
     ]
    },
    {
     "name": "stdout",
     "output_type": "stream",
     "text": [
      "Average Fitness: -59.50684018819509 \n",
      " Best Fitness: 260.9627159770589 \n",
      " Worst Fitness: -529.2722640725365 \n",
      " Standard Error: 7.7322296593650055\n"
     ]
    },
    {
     "name": "stderr",
     "output_type": "stream",
     "text": [
      "100%|██████████████████████████████████████████████████████| 120/120 [00:05<00:00, 23.40it/s]\n"
     ]
    },
    {
     "name": "stdout",
     "output_type": "stream",
     "text": [
      "[Generation 121]\n",
      "Calculating Fitnesses For Population ...\n"
     ]
    },
    {
     "name": "stderr",
     "output_type": "stream",
     "text": [
      "100%|█████████████████████████████████████████████████████| 200/200 [00:01<00:00, 109.06it/s]\n"
     ]
    },
    {
     "name": "stdout",
     "output_type": "stream",
     "text": [
      "Average Fitness: -91.10763076170079 \n",
      " Best Fitness: 261.9557453666024 \n",
      " Worst Fitness: -518.9145668868689 \n",
      " Standard Error: 7.95395763712646\n"
     ]
    },
    {
     "name": "stderr",
     "output_type": "stream",
     "text": [
      "100%|██████████████████████████████████████████████████████| 120/120 [00:05<00:00, 23.29it/s]\n"
     ]
    },
    {
     "name": "stdout",
     "output_type": "stream",
     "text": [
      "[Generation 122]\n",
      "Calculating Fitnesses For Population ...\n"
     ]
    },
    {
     "name": "stderr",
     "output_type": "stream",
     "text": [
      "100%|█████████████████████████████████████████████████████| 200/200 [00:01<00:00, 108.76it/s]\n"
     ]
    },
    {
     "name": "stdout",
     "output_type": "stream",
     "text": [
      "Average Fitness: -85.75371661810266 \n",
      " Best Fitness: 219.98612108826015 \n",
      " Worst Fitness: -450.70322180535965 \n",
      " Standard Error: 7.519833942143686\n"
     ]
    },
    {
     "name": "stderr",
     "output_type": "stream",
     "text": [
      "100%|██████████████████████████████████████████████████████| 120/120 [00:05<00:00, 22.36it/s]\n"
     ]
    },
    {
     "name": "stdout",
     "output_type": "stream",
     "text": [
      "[Generation 123]\n",
      "Calculating Fitnesses For Population ...\n"
     ]
    },
    {
     "name": "stderr",
     "output_type": "stream",
     "text": [
      "100%|█████████████████████████████████████████████████████| 200/200 [00:01<00:00, 108.94it/s]\n"
     ]
    },
    {
     "name": "stdout",
     "output_type": "stream",
     "text": [
      "Average Fitness: -73.54403118585056 \n",
      " Best Fitness: 285.7372359666099 \n",
      " Worst Fitness: -362.7456421857644 \n",
      " Standard Error: 7.401347230859101\n"
     ]
    },
    {
     "name": "stderr",
     "output_type": "stream",
     "text": [
      "100%|██████████████████████████████████████████████████████| 120/120 [00:04<00:00, 25.44it/s]\n"
     ]
    },
    {
     "name": "stdout",
     "output_type": "stream",
     "text": [
      "[Generation 124]\n",
      "Calculating Fitnesses For Population ...\n"
     ]
    },
    {
     "name": "stderr",
     "output_type": "stream",
     "text": [
      "100%|█████████████████████████████████████████████████████| 200/200 [00:01<00:00, 117.22it/s]\n"
     ]
    },
    {
     "name": "stdout",
     "output_type": "stream",
     "text": [
      "Average Fitness: -69.43105071873218 \n",
      " Best Fitness: 219.11292482722988 \n",
      " Worst Fitness: -399.9821295651067 \n",
      " Standard Error: 6.569384954677108\n"
     ]
    },
    {
     "name": "stderr",
     "output_type": "stream",
     "text": [
      "100%|██████████████████████████████████████████████████████| 120/120 [00:05<00:00, 22.79it/s]\n"
     ]
    },
    {
     "name": "stdout",
     "output_type": "stream",
     "text": [
      "[Generation 125]\n",
      "Calculating Fitnesses For Population ...\n"
     ]
    },
    {
     "name": "stderr",
     "output_type": "stream",
     "text": [
      "100%|█████████████████████████████████████████████████████| 200/200 [00:01<00:00, 112.06it/s]\n"
     ]
    },
    {
     "name": "stdout",
     "output_type": "stream",
     "text": [
      "Average Fitness: -74.64310956756283 \n",
      " Best Fitness: 284.42655170123203 \n",
      " Worst Fitness: -428.0717985374338 \n",
      " Standard Error: 6.906402578324149\n"
     ]
    },
    {
     "name": "stderr",
     "output_type": "stream",
     "text": [
      "100%|██████████████████████████████████████████████████████| 120/120 [00:05<00:00, 21.57it/s]\n"
     ]
    },
    {
     "name": "stdout",
     "output_type": "stream",
     "text": [
      "[Generation 126]\n",
      "Calculating Fitnesses For Population ...\n"
     ]
    },
    {
     "name": "stderr",
     "output_type": "stream",
     "text": [
      "100%|█████████████████████████████████████████████████████| 200/200 [00:01<00:00, 114.92it/s]\n"
     ]
    },
    {
     "name": "stdout",
     "output_type": "stream",
     "text": [
      "Average Fitness: -76.45533439471905 \n",
      " Best Fitness: 198.7438829692099 \n",
      " Worst Fitness: -305.5486624629799 \n",
      " Standard Error: 6.845988784242875\n"
     ]
    },
    {
     "name": "stderr",
     "output_type": "stream",
     "text": [
      "100%|██████████████████████████████████████████████████████| 120/120 [00:05<00:00, 22.87it/s]\n"
     ]
    },
    {
     "name": "stdout",
     "output_type": "stream",
     "text": [
      "[Generation 127]\n",
      "Calculating Fitnesses For Population ...\n"
     ]
    },
    {
     "name": "stderr",
     "output_type": "stream",
     "text": [
      "100%|█████████████████████████████████████████████████████| 200/200 [00:01<00:00, 106.84it/s]\n"
     ]
    },
    {
     "name": "stdout",
     "output_type": "stream",
     "text": [
      "Average Fitness: -58.85535490080903 \n",
      " Best Fitness: 236.61618273989808 \n",
      " Worst Fitness: -299.0369420530351 \n",
      " Standard Error: 6.3906432446485315\n"
     ]
    },
    {
     "name": "stderr",
     "output_type": "stream",
     "text": [
      "100%|██████████████████████████████████████████████████████| 120/120 [00:05<00:00, 23.50it/s]\n"
     ]
    },
    {
     "name": "stdout",
     "output_type": "stream",
     "text": [
      "[Generation 128]\n",
      "Calculating Fitnesses For Population ...\n"
     ]
    },
    {
     "name": "stderr",
     "output_type": "stream",
     "text": [
      "100%|█████████████████████████████████████████████████████| 200/200 [00:01<00:00, 102.15it/s]\n"
     ]
    },
    {
     "name": "stdout",
     "output_type": "stream",
     "text": [
      "Average Fitness: -65.80454872764409 \n",
      " Best Fitness: 275.700183094413 \n",
      " Worst Fitness: -445.6755753876913 \n",
      " Standard Error: 7.908359062640394\n"
     ]
    },
    {
     "name": "stderr",
     "output_type": "stream",
     "text": [
      "100%|██████████████████████████████████████████████████████| 120/120 [00:05<00:00, 21.82it/s]\n"
     ]
    },
    {
     "name": "stdout",
     "output_type": "stream",
     "text": [
      "[Generation 129]\n",
      "Calculating Fitnesses For Population ...\n"
     ]
    },
    {
     "name": "stderr",
     "output_type": "stream",
     "text": [
      "100%|█████████████████████████████████████████████████████| 200/200 [00:01<00:00, 102.58it/s]\n"
     ]
    },
    {
     "name": "stdout",
     "output_type": "stream",
     "text": [
      "Average Fitness: -64.7090447011221 \n",
      " Best Fitness: 247.9583734076201 \n",
      " Worst Fitness: -329.04036781699006 \n",
      " Standard Error: 8.11913075922376\n"
     ]
    },
    {
     "name": "stderr",
     "output_type": "stream",
     "text": [
      "100%|██████████████████████████████████████████████████████| 120/120 [00:05<00:00, 21.96it/s]\n"
     ]
    },
    {
     "name": "stdout",
     "output_type": "stream",
     "text": [
      "[Generation 130]\n",
      "Calculating Fitnesses For Population ...\n"
     ]
    },
    {
     "name": "stderr",
     "output_type": "stream",
     "text": [
      "100%|█████████████████████████████████████████████████████| 200/200 [00:01<00:00, 106.68it/s]\n"
     ]
    },
    {
     "name": "stdout",
     "output_type": "stream",
     "text": [
      "Average Fitness: -59.29972965868257 \n",
      " Best Fitness: 265.42984294674955 \n",
      " Worst Fitness: -423.5719167828932 \n",
      " Standard Error: 7.4438959376773965\n"
     ]
    },
    {
     "name": "stderr",
     "output_type": "stream",
     "text": [
      "100%|██████████████████████████████████████████████████████| 120/120 [00:05<00:00, 20.84it/s]\n"
     ]
    },
    {
     "name": "stdout",
     "output_type": "stream",
     "text": [
      "[Generation 131]\n",
      "Calculating Fitnesses For Population ...\n"
     ]
    },
    {
     "name": "stderr",
     "output_type": "stream",
     "text": [
      "100%|█████████████████████████████████████████████████████| 200/200 [00:01<00:00, 102.03it/s]\n"
     ]
    },
    {
     "name": "stdout",
     "output_type": "stream",
     "text": [
      "Average Fitness: -55.43149489208907 \n",
      " Best Fitness: 270.9770805925572 \n",
      " Worst Fitness: -420.7709704344289 \n",
      " Standard Error: 7.977486992410856\n"
     ]
    },
    {
     "name": "stderr",
     "output_type": "stream",
     "text": [
      "100%|██████████████████████████████████████████████████████| 120/120 [00:05<00:00, 23.93it/s]\n"
     ]
    },
    {
     "name": "stdout",
     "output_type": "stream",
     "text": [
      "[Generation 132]\n",
      "Calculating Fitnesses For Population ...\n"
     ]
    },
    {
     "name": "stderr",
     "output_type": "stream",
     "text": [
      "100%|█████████████████████████████████████████████████████| 200/200 [00:01<00:00, 107.68it/s]\n"
     ]
    },
    {
     "name": "stdout",
     "output_type": "stream",
     "text": [
      "Average Fitness: -78.21599341371206 \n",
      " Best Fitness: 266.44673224165325 \n",
      " Worst Fitness: -399.06583952203687 \n",
      " Standard Error: 7.151437338783048\n"
     ]
    },
    {
     "name": "stderr",
     "output_type": "stream",
     "text": [
      "100%|██████████████████████████████████████████████████████| 120/120 [00:06<00:00, 19.90it/s]\n"
     ]
    },
    {
     "name": "stdout",
     "output_type": "stream",
     "text": [
      "[Generation 133]\n",
      "Calculating Fitnesses For Population ...\n"
     ]
    },
    {
     "name": "stderr",
     "output_type": "stream",
     "text": [
      "100%|█████████████████████████████████████████████████████| 200/200 [00:01<00:00, 103.21it/s]\n"
     ]
    },
    {
     "name": "stdout",
     "output_type": "stream",
     "text": [
      "Average Fitness: -80.19720163113313 \n",
      " Best Fitness: 289.1374190884229 \n",
      " Worst Fitness: -471.9940224035607 \n",
      " Standard Error: 7.978950918402387\n"
     ]
    },
    {
     "name": "stderr",
     "output_type": "stream",
     "text": [
      "100%|██████████████████████████████████████████████████████| 120/120 [00:05<00:00, 22.87it/s]\n"
     ]
    },
    {
     "name": "stdout",
     "output_type": "stream",
     "text": [
      "[Generation 134]\n",
      "Calculating Fitnesses For Population ...\n"
     ]
    },
    {
     "name": "stderr",
     "output_type": "stream",
     "text": [
      "100%|█████████████████████████████████████████████████████| 200/200 [00:01<00:00, 106.32it/s]\n"
     ]
    },
    {
     "name": "stdout",
     "output_type": "stream",
     "text": [
      "Average Fitness: -73.35846218931187 \n",
      " Best Fitness: 261.50028593416954 \n",
      " Worst Fitness: -385.4260549447785 \n",
      " Standard Error: 7.792370643544231\n"
     ]
    },
    {
     "name": "stderr",
     "output_type": "stream",
     "text": [
      "100%|██████████████████████████████████████████████████████| 120/120 [00:04<00:00, 24.70it/s]\n"
     ]
    },
    {
     "name": "stdout",
     "output_type": "stream",
     "text": [
      "[Generation 135]\n",
      "Calculating Fitnesses For Population ...\n"
     ]
    },
    {
     "name": "stderr",
     "output_type": "stream",
     "text": [
      "100%|█████████████████████████████████████████████████████| 200/200 [00:01<00:00, 112.88it/s]\n"
     ]
    },
    {
     "name": "stdout",
     "output_type": "stream",
     "text": [
      "Average Fitness: -64.77447724273581 \n",
      " Best Fitness: 147.7700005093589 \n",
      " Worst Fitness: -422.0703823131578 \n",
      " Standard Error: 6.199099327418505\n"
     ]
    },
    {
     "name": "stderr",
     "output_type": "stream",
     "text": [
      "100%|██████████████████████████████████████████████████████| 120/120 [00:05<00:00, 21.83it/s]\n"
     ]
    },
    {
     "name": "stdout",
     "output_type": "stream",
     "text": [
      "[Generation 136]\n",
      "Calculating Fitnesses For Population ...\n"
     ]
    },
    {
     "name": "stderr",
     "output_type": "stream",
     "text": [
      "100%|█████████████████████████████████████████████████████| 200/200 [00:01<00:00, 114.35it/s]\n"
     ]
    },
    {
     "name": "stdout",
     "output_type": "stream",
     "text": [
      "Average Fitness: -75.2211745367869 \n",
      " Best Fitness: 71.76493766279265 \n",
      " Worst Fitness: -359.72940061891074 \n",
      " Standard Error: 6.626078465992468\n"
     ]
    },
    {
     "name": "stderr",
     "output_type": "stream",
     "text": [
      "100%|██████████████████████████████████████████████████████| 120/120 [00:04<00:00, 24.91it/s]\n"
     ]
    },
    {
     "name": "stdout",
     "output_type": "stream",
     "text": [
      "[Generation 137]\n",
      "Calculating Fitnesses For Population ...\n"
     ]
    },
    {
     "name": "stderr",
     "output_type": "stream",
     "text": [
      "100%|█████████████████████████████████████████████████████| 200/200 [00:01<00:00, 113.91it/s]\n"
     ]
    },
    {
     "name": "stdout",
     "output_type": "stream",
     "text": [
      "Average Fitness: -55.630916241445135 \n",
      " Best Fitness: 246.36163949661918 \n",
      " Worst Fitness: -510.171230329274 \n",
      " Standard Error: 7.073805486154192\n"
     ]
    },
    {
     "name": "stderr",
     "output_type": "stream",
     "text": [
      "100%|██████████████████████████████████████████████████████| 120/120 [00:05<00:00, 22.79it/s]\n"
     ]
    },
    {
     "name": "stdout",
     "output_type": "stream",
     "text": [
      "[Generation 138]\n",
      "Calculating Fitnesses For Population ...\n"
     ]
    },
    {
     "name": "stderr",
     "output_type": "stream",
     "text": [
      "100%|█████████████████████████████████████████████████████| 200/200 [00:01<00:00, 107.86it/s]\n"
     ]
    },
    {
     "name": "stdout",
     "output_type": "stream",
     "text": [
      "Average Fitness: -58.565497024070666 \n",
      " Best Fitness: 236.3470273268776 \n",
      " Worst Fitness: -393.0811663395775 \n",
      " Standard Error: 7.260054616031452\n"
     ]
    },
    {
     "name": "stderr",
     "output_type": "stream",
     "text": [
      "100%|██████████████████████████████████████████████████████| 120/120 [00:04<00:00, 25.05it/s]\n"
     ]
    },
    {
     "name": "stdout",
     "output_type": "stream",
     "text": [
      "[Generation 139]\n",
      "Calculating Fitnesses For Population ...\n"
     ]
    },
    {
     "name": "stderr",
     "output_type": "stream",
     "text": [
      "100%|█████████████████████████████████████████████████████| 200/200 [00:01<00:00, 111.37it/s]\n"
     ]
    },
    {
     "name": "stdout",
     "output_type": "stream",
     "text": [
      "Average Fitness: -63.64776538985042 \n",
      " Best Fitness: 280.65515742655157 \n",
      " Worst Fitness: -299.1965294586515 \n",
      " Standard Error: 7.107995227835387\n"
     ]
    },
    {
     "name": "stderr",
     "output_type": "stream",
     "text": [
      "100%|██████████████████████████████████████████████████████| 120/120 [00:04<00:00, 24.83it/s]\n"
     ]
    },
    {
     "name": "stdout",
     "output_type": "stream",
     "text": [
      "[Generation 140]\n",
      "Calculating Fitnesses For Population ...\n"
     ]
    },
    {
     "name": "stderr",
     "output_type": "stream",
     "text": [
      "100%|█████████████████████████████████████████████████████| 200/200 [00:01<00:00, 120.40it/s]\n"
     ]
    },
    {
     "name": "stdout",
     "output_type": "stream",
     "text": [
      "Average Fitness: -62.99873825974353 \n",
      " Best Fitness: 216.3985521284203 \n",
      " Worst Fitness: -380.68275858529233 \n",
      " Standard Error: 6.053773461356033\n"
     ]
    },
    {
     "name": "stderr",
     "output_type": "stream",
     "text": [
      "100%|██████████████████████████████████████████████████████| 120/120 [00:04<00:00, 24.35it/s]\n"
     ]
    },
    {
     "name": "stdout",
     "output_type": "stream",
     "text": [
      "[Generation 141]\n",
      "Calculating Fitnesses For Population ...\n"
     ]
    },
    {
     "name": "stderr",
     "output_type": "stream",
     "text": [
      "100%|█████████████████████████████████████████████████████| 200/200 [00:01<00:00, 113.29it/s]\n"
     ]
    },
    {
     "name": "stdout",
     "output_type": "stream",
     "text": [
      "Average Fitness: -58.33398715043013 \n",
      " Best Fitness: 218.51148558941338 \n",
      " Worst Fitness: -302.7908455209117 \n",
      " Standard Error: 6.4243688035592905\n"
     ]
    },
    {
     "name": "stderr",
     "output_type": "stream",
     "text": [
      "100%|██████████████████████████████████████████████████████| 120/120 [00:04<00:00, 24.46it/s]\n"
     ]
    },
    {
     "name": "stdout",
     "output_type": "stream",
     "text": [
      "[Generation 142]\n",
      "Calculating Fitnesses For Population ...\n"
     ]
    },
    {
     "name": "stderr",
     "output_type": "stream",
     "text": [
      "100%|█████████████████████████████████████████████████████| 200/200 [00:01<00:00, 111.28it/s]\n"
     ]
    },
    {
     "name": "stdout",
     "output_type": "stream",
     "text": [
      "Average Fitness: -77.33565726879918 \n",
      " Best Fitness: 255.35269292110365 \n",
      " Worst Fitness: -345.17761175223035 \n",
      " Standard Error: 6.993267414135739\n"
     ]
    },
    {
     "name": "stderr",
     "output_type": "stream",
     "text": [
      "100%|██████████████████████████████████████████████████████| 120/120 [00:04<00:00, 25.70it/s]\n"
     ]
    },
    {
     "name": "stdout",
     "output_type": "stream",
     "text": [
      "[Generation 143]\n",
      "Calculating Fitnesses For Population ...\n"
     ]
    },
    {
     "name": "stderr",
     "output_type": "stream",
     "text": [
      "100%|█████████████████████████████████████████████████████| 200/200 [00:01<00:00, 114.81it/s]\n"
     ]
    },
    {
     "name": "stdout",
     "output_type": "stream",
     "text": [
      "Average Fitness: -71.66523742961857 \n",
      " Best Fitness: 251.6049343236638 \n",
      " Worst Fitness: -338.89421355179894 \n",
      " Standard Error: 7.270049292940727\n"
     ]
    },
    {
     "name": "stderr",
     "output_type": "stream",
     "text": [
      "100%|██████████████████████████████████████████████████████| 120/120 [00:05<00:00, 21.13it/s]\n"
     ]
    },
    {
     "name": "stdout",
     "output_type": "stream",
     "text": [
      "[Generation 144]\n",
      "Calculating Fitnesses For Population ...\n"
     ]
    },
    {
     "name": "stderr",
     "output_type": "stream",
     "text": [
      "100%|█████████████████████████████████████████████████████| 200/200 [00:01<00:00, 113.09it/s]\n"
     ]
    },
    {
     "name": "stdout",
     "output_type": "stream",
     "text": [
      "Average Fitness: -72.18329123287077 \n",
      " Best Fitness: 284.61712820902864 \n",
      " Worst Fitness: -444.8578264782357 \n",
      " Standard Error: 7.318640466398651\n"
     ]
    },
    {
     "name": "stderr",
     "output_type": "stream",
     "text": [
      "100%|██████████████████████████████████████████████████████| 120/120 [00:04<00:00, 24.24it/s]\n"
     ]
    },
    {
     "name": "stdout",
     "output_type": "stream",
     "text": [
      "[Generation 145]\n",
      "Calculating Fitnesses For Population ...\n"
     ]
    },
    {
     "name": "stderr",
     "output_type": "stream",
     "text": [
      "100%|█████████████████████████████████████████████████████| 200/200 [00:01<00:00, 118.87it/s]\n"
     ]
    },
    {
     "name": "stdout",
     "output_type": "stream",
     "text": [
      "Average Fitness: -63.615253456338394 \n",
      " Best Fitness: 251.4795557875862 \n",
      " Worst Fitness: -451.7269759303299 \n",
      " Standard Error: 6.7674832843632275\n"
     ]
    },
    {
     "name": "stderr",
     "output_type": "stream",
     "text": [
      "100%|██████████████████████████████████████████████████████| 120/120 [00:05<00:00, 22.18it/s]\n"
     ]
    },
    {
     "name": "stdout",
     "output_type": "stream",
     "text": [
      "[Generation 146]\n",
      "Calculating Fitnesses For Population ...\n"
     ]
    },
    {
     "name": "stderr",
     "output_type": "stream",
     "text": [
      "100%|█████████████████████████████████████████████████████| 200/200 [00:01<00:00, 104.41it/s]\n"
     ]
    },
    {
     "name": "stdout",
     "output_type": "stream",
     "text": [
      "Average Fitness: -79.35998246262058 \n",
      " Best Fitness: 262.88486104096944 \n",
      " Worst Fitness: -403.4088841658813 \n",
      " Standard Error: 8.07171860058148\n"
     ]
    },
    {
     "name": "stderr",
     "output_type": "stream",
     "text": [
      "100%|██████████████████████████████████████████████████████| 120/120 [00:05<00:00, 23.94it/s]\n"
     ]
    },
    {
     "name": "stdout",
     "output_type": "stream",
     "text": [
      "[Generation 147]\n",
      "Calculating Fitnesses For Population ...\n"
     ]
    },
    {
     "name": "stderr",
     "output_type": "stream",
     "text": [
      "100%|█████████████████████████████████████████████████████| 200/200 [00:01<00:00, 107.80it/s]\n"
     ]
    },
    {
     "name": "stdout",
     "output_type": "stream",
     "text": [
      "Average Fitness: -62.315578081964816 \n",
      " Best Fitness: 262.3937972134105 \n",
      " Worst Fitness: -320.15974196296327 \n",
      " Standard Error: 6.823836075273607\n"
     ]
    },
    {
     "name": "stderr",
     "output_type": "stream",
     "text": [
      "100%|██████████████████████████████████████████████████████| 120/120 [00:05<00:00, 21.53it/s]\n"
     ]
    },
    {
     "name": "stdout",
     "output_type": "stream",
     "text": [
      "[Generation 148]\n",
      "Calculating Fitnesses For Population ...\n"
     ]
    },
    {
     "name": "stderr",
     "output_type": "stream",
     "text": [
      "100%|█████████████████████████████████████████████████████| 200/200 [00:01<00:00, 106.96it/s]\n"
     ]
    },
    {
     "name": "stdout",
     "output_type": "stream",
     "text": [
      "Average Fitness: -54.66730966565161 \n",
      " Best Fitness: 265.3287765813101 \n",
      " Worst Fitness: -383.0284583819498 \n",
      " Standard Error: 6.920335123401076\n"
     ]
    },
    {
     "name": "stderr",
     "output_type": "stream",
     "text": [
      "100%|██████████████████████████████████████████████████████| 120/120 [00:05<00:00, 22.52it/s]\n"
     ]
    },
    {
     "name": "stdout",
     "output_type": "stream",
     "text": [
      "[Generation 149]\n",
      "Calculating Fitnesses For Population ...\n"
     ]
    },
    {
     "name": "stderr",
     "output_type": "stream",
     "text": [
      "100%|█████████████████████████████████████████████████████| 200/200 [00:01<00:00, 105.60it/s]\n"
     ]
    },
    {
     "name": "stdout",
     "output_type": "stream",
     "text": [
      "Average Fitness: -67.36472955253394 \n",
      " Best Fitness: 276.09583532254817 \n",
      " Worst Fitness: -425.63714645537584 \n",
      " Standard Error: 7.941672803866082\n"
     ]
    },
    {
     "name": "stderr",
     "output_type": "stream",
     "text": [
      "100%|██████████████████████████████████████████████████████| 120/120 [00:04<00:00, 24.56it/s]\n"
     ]
    }
   ],
   "source": [
    "for generation in range(GENERATIONS):\n",
    "    print(f\"[Generation {generation}]\")\n",
    "    \n",
    "    print(\"Calculating Fitnesses For Population ...\")\n",
    "    fitnesses = [calculate_fitness(network, env, MAX_EP) for network in tqdm(population)]\n",
    "    \n",
    "    avg_fitness = np.average(fitnesses)\n",
    "    max_fitness = np.max(fitnesses)\n",
    "    min_fitness = np.min(fitnesses)\n",
    "    FITNESS_HISTORY.append([avg_fitness, max_fitness, min_fitness])\n",
    "    \n",
    "    standard_deviation = statistics.stdev(fitnesses)\n",
    "    standard_error = standard_deviation / (POPULATION_SIZE ** 0.5)\n",
    "    FITNESS_STDERROR_HISTORY.append(standard_error)\n",
    "    \n",
    "    print(f\"Average Fitness: {avg_fitness} \\n Best Fitness: {max_fitness} \\n Worst Fitness: {min_fitness} \\n Standard Error: {standard_error}\")\n",
    "\n",
    "    survivors = select_survivors(population, fitnesses, ELITISM)\n",
    "\n",
    "    next_population = survivors  \n",
    "\n",
    "    for _ in tqdm(range(POPULATION_SIZE - len(survivors))):\n",
    "        parent = tournament_selection(population, fitnesses, TOURNAMENT_SIZE)\n",
    "        offspring = copy.deepcopy(parent)\n",
    "        perturb_parameters(offspring, WEIGHT_CLIP, MAX_EP)\n",
    "        next_population.append(offspring)\n",
    "\n",
    "    population = next_population"
   ]
  },
  {
   "cell_type": "code",
   "execution_count": 7,
   "id": "e3b8a231",
   "metadata": {},
   "outputs": [
    {
     "name": "stdout",
     "output_type": "stream",
     "text": [
      "--- 970.7739150524139 seconds ---\n"
     ]
    }
   ],
   "source": [
    "print(\"--- %s seconds ---\" % (time.time() - start_time))"
   ]
  },
  {
   "cell_type": "code",
   "execution_count": 8,
   "id": "a3831798",
   "metadata": {},
   "outputs": [
    {
     "data": {
      "image/png": "[encoded data removed]",
      "text/plain": [
       "<Figure size 2000x1500 with 1 Axes>"
      ]
     },
     "metadata": {},
     "output_type": "display_data"
    }
   ],
   "source": [
    "plt.figure(figsize=(20, 15))\n",
    "plt.plot(np.arange(GENERATIONS), np.array(FITNESS_HISTORY)[:,0], marker='o', linestyle='-', label='Average Fitness')\n",
    "plt.plot(np.arange(GENERATIONS), np.array(FITNESS_HISTORY)[:,1], marker='^', linestyle='-', label='Max Fitness')\n",
    "plt.plot(np.arange(GENERATIONS), np.array(FITNESS_HISTORY)[:,2], marker='s', linestyle='-', label='Min Fitness')\n",
    "plt.fill_between(np.arange(GENERATIONS), np.array(FITNESS_HISTORY)[:,0] - np.array(FITNESS_STDERROR_HISTORY), np.array(FITNESS_HISTORY)[:,0] + np.array(FITNESS_STDERROR_HISTORY),\n",
    "                 alpha=0.2, color='blue', label='Standard Error')\n",
    "\n",
    "plt.xlabel('Generations')\n",
    "plt.ylabel('Fitness')\n",
    "plt.title('Fitness History')\n",
    "plt.grid()\n",
    "plt.legend()\n",
    "plt.show()"
   ]
  }
 ],
 "metadata": {
  "kernelspec": {
   "display_name": "Python 3 (ipykernel)",
   "language": "python",
   "name": "python3"
  },
  "language_info": {
   "codemirror_mode": {
    "name": "ipython",
    "version": 3
   },
   "file_extension": ".py",
   "mimetype": "text/x-python",
   "name": "python",
   "nbconvert_exporter": "python",
   "pygments_lexer": "ipython3",
   "version": "3.10.9"
  }
 },
 "nbformat": 4,
 "nbformat_minor": 5
}
