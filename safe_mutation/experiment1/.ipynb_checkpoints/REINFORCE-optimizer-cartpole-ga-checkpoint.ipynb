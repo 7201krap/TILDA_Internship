{
 "cells": [
  {
   "cell_type": "code",
   "execution_count": 1,
   "id": "cff20e7d",
   "metadata": {},
   "outputs": [],
   "source": [
    "import torch\n",
    "import gym\n",
    "import numpy as np\n",
    "import random\n",
    "import matplotlib.pyplot as plt\n",
    "import statistics\n",
    "\n",
    "from torch import nn\n",
    "from copy import deepcopy\n",
    "from tqdm import tqdm\n",
    "\n",
    "from bayes_opt import BayesianOptimization"
   ]
  },
  {
   "cell_type": "code",
   "execution_count": 10,
   "id": "c7205bff",
   "metadata": {},
   "outputs": [],
   "source": [
    "# Use the following gym version.\n",
    "# pip install gym==0.25.0\n",
    "# pip install pygame\n",
    "\n",
    "seed = 0\n",
    "torch.manual_seed(seed)\n",
    "np.random.seed(seed)\n",
    "random.seed(seed)\n",
    "\n",
    "# define global variable \n",
    "MAX_EP = 1\n",
    "env = gym.make('CartPole-v1')"
   ]
  },
  {
   "cell_type": "code",
   "execution_count": 3,
   "id": "24c2802b",
   "metadata": {},
   "outputs": [],
   "source": [
    "class Network(nn.Module):\n",
    "    def __init__(self, env, learning_rate=0.01):\n",
    "        super().__init__()\n",
    "\n",
    "        in_features = int(np.prod(env.observation_space.shape))\n",
    "        self.net = nn.Sequential(\n",
    "            nn.Linear(in_features, 64),\n",
    "            nn.Tanh(),\n",
    "            nn.Linear(64, env.action_space.n)\n",
    "        )\n",
    "        self.optimizer = torch.optim.Adam(self.net.parameters(), lr=learning_rate)\n",
    "\n",
    "    def forward(self, x):\n",
    "        return self.net(x)\n",
    "\n",
    "    def act(self, state):\n",
    "        state_t = torch.as_tensor(state, dtype=torch.float32)\n",
    "        q_values = self.forward(state_t.unsqueeze(0))                           \n",
    "        max_q_index = torch.argmax(q_values, dim=1)[0]                          \n",
    "        action = max_q_index.detach().item()                                    \n",
    "        return action   "
   ]
  },
  {
   "cell_type": "code",
   "execution_count": 4,
   "id": "0fc86824",
   "metadata": {},
   "outputs": [],
   "source": [
    "def calculate_fitness(network, env, num_episodes=MAX_EP):\n",
    "    total_rewards = 0\n",
    "    for _ in range(num_episodes):\n",
    "        reward, _ = run_episode(network, env)\n",
    "        total_rewards += reward\n",
    "    avg_reward = total_rewards / num_episodes\n",
    "    return avg_reward"
   ]
  },
  {
   "cell_type": "code",
   "execution_count": 5,
   "id": "2a8fe0ec",
   "metadata": {},
   "outputs": [],
   "source": [
    "def run_episode(network, env):\n",
    "    state = env.reset()\n",
    "    total_reward = 0.0\n",
    "    log_probs = []  # Store log probabilities of actions\n",
    "    done = False\n",
    "    while not done:\n",
    "        state_t = torch.as_tensor(state, dtype=torch.float32)\n",
    "        q_values = network(state_t.unsqueeze(0))\n",
    "        action_probs = nn.functional.softmax(q_values, dim=1)\n",
    "        action_dist = torch.distributions.Categorical(action_probs)\n",
    "        action = action_dist.sample()\n",
    "        log_prob = action_dist.log_prob(action)\n",
    "        log_probs.append(log_prob)\n",
    "        state, reward, done, _ = env.step(action.item())\n",
    "        total_reward += reward\n",
    "    \n",
    "    # Calculate loss based on the total reward\n",
    "    loss = -total_reward * torch.stack(log_probs).sum()\n",
    "    # Calculate gradients\n",
    "    network.optimizer.zero_grad()\n",
    "    loss.backward()\n",
    "    # Update network parameters\n",
    "    network.optimizer.step()\n",
    "\n",
    "    return total_reward, log_probs"
   ]
  },
  {
   "cell_type": "code",
   "execution_count": 6,
   "id": "135d1438",
   "metadata": {},
   "outputs": [],
   "source": [
    "def mutate_and_tournament(population, tournament_size, mutation_rate, mutation_strength):\n",
    "    \n",
    "    # Select individuals for the tournament\n",
    "    individuals = random.sample(population, tournament_size)\n",
    "    # Calculate fitness for each individual\n",
    "    fitnesses = [calculate_fitness(individual, env) for individual in individuals]\n",
    "    # Select the best individual\n",
    "    parent = individuals[np.argmax(fitnesses)]\n",
    "    \n",
    "    # Create offspring by deep copying the parent\n",
    "    offspring = deepcopy(parent)\n",
    "    \n",
    "    # Return the mutated offspring\n",
    "    return offspring"
   ]
  },
  {
   "cell_type": "code",
   "execution_count": 7,
   "id": "99bb98fc",
   "metadata": {},
   "outputs": [],
   "source": [
    "# Define genetic algorithm\n",
    "def main(POPULATION_SIZE, GENERATIONS, ELITISM, TOURNAMENT_SIZE, MUTATION_STRENGTH, MUTATION_RATE):\n",
    "    \n",
    "    FITNESS_HISTORY = list()\n",
    "    FITNESS_STDERROR_HISTORY = list()\n",
    "    \n",
    "    # Create initial population\n",
    "    population = [Network(env) for _ in range(POPULATION_SIZE)]\n",
    "\n",
    "    for generation in range(1, GENERATIONS + 1):\n",
    "\n",
    "        # Calculate fitness for each network\n",
    "        fitnesses = [calculate_fitness(network, env) for network in tqdm(population, desc=\"Calculating fitnesses\")]\n",
    "        \n",
    "        # average fitness \n",
    "        avg_fitness = np.average(fitnesses)\n",
    "        max_fitness = np.max(fitnesses)\n",
    "        min_fitness = np.min(fitnesses)\n",
    "        FITNESS_HISTORY.append([avg_fitness, max_fitness, min_fitness])\n",
    "        \n",
    "        # std error\n",
    "        standard_deviation = statistics.stdev(fitnesses)\n",
    "        standard_error = standard_deviation / (POPULATION_SIZE ** 0.5)\n",
    "        FITNESS_STDERROR_HISTORY.append(standard_error)\n",
    "\n",
    "        print(f\"[Generation: {generation}] \\n Average Fitness: {avg_fitness} \\n Best Fitness: {max_fitness} \\n Worst Fitness: {min_fitness} \\n Standard Error: {standard_error}\")\n",
    "        \n",
    "        # Sort population by fitness\n",
    "        population = [x for _, x in sorted(zip(fitnesses, population), key=lambda pair: pair[0], reverse=True)]\n",
    "        \n",
    "        # Select the best networks to pass their genes to the next generation\n",
    "        survivors = population[:ELITISM]\n",
    "        \n",
    "        # Create the next generation\n",
    "        next_population = survivors  # Start with the survivors\n",
    "        \n",
    "        num_individuals_to_add = POPULATION_SIZE - len(next_population)\n",
    "        # Add offspring by tournament selection and mutation\n",
    "        for _ in tqdm(range(num_individuals_to_add), desc=\"Generating Offspring\"):\n",
    "            offspring = mutate_and_tournament(population, TOURNAMENT_SIZE, MUTATION_RATE, MUTATION_STRENGTH)\n",
    "            next_population.append(offspring)\n",
    "\n",
    "        # The next generation becomes the current population\n",
    "        population = next_population\n",
    "\n",
    "    return population, FITNESS_HISTORY, FITNESS_STDERROR_HISTORY"
   ]
  },
  {
   "cell_type": "markdown",
   "id": "58016015",
   "metadata": {},
   "source": [
    "### Version Control"
   ]
  },
  {
   "cell_type": "code",
   "execution_count": 8,
   "id": "5345a1c9",
   "metadata": {
    "scrolled": true
   },
   "outputs": [
    {
     "name": "stderr",
     "output_type": "stream",
     "text": [
      "Calculating fitnesses:   0%|                                      | 0/200 [00:00<?, ?it/s]/Users/jinhyunpark/miniforge3/envs/tilda/lib/python3.11/site-packages/gym/utils/passive_env_checker.py:241: DeprecationWarning: `np.bool8` is a deprecated alias for `np.bool_`.  (Deprecated NumPy 1.24)\n",
      "  if not isinstance(terminated, (bool, np.bool8)):\n",
      "Calculating fitnesses: 100%|███████████████████████████| 200/200 [00:00<00:00, 403.60it/s]\n"
     ]
    },
    {
     "name": "stdout",
     "output_type": "stream",
     "text": [
      "[Generation: 1] \n",
      " Average Fitness: 20.99 \n",
      " Best Fitness: 71.0 \n",
      " Worst Fitness: 8.0 \n",
      " Standard Error: 0.7827920008424425\n"
     ]
    },
    {
     "name": "stderr",
     "output_type": "stream",
     "text": [
      "Generating Offspring: 100%|████████████████████████████| 100/100 [00:00<00:00, 138.50it/s]\n",
      "Calculating fitnesses: 100%|███████████████████████████| 200/200 [00:00<00:00, 390.27it/s]\n"
     ]
    },
    {
     "name": "stdout",
     "output_type": "stream",
     "text": [
      "[Generation: 2] \n",
      " Average Fitness: 22.33 \n",
      " Best Fitness: 87.0 \n",
      " Worst Fitness: 8.0 \n",
      " Standard Error: 0.8743729986130161\n"
     ]
    },
    {
     "name": "stderr",
     "output_type": "stream",
     "text": [
      "Generating Offspring: 100%|████████████████████████████| 100/100 [00:00<00:00, 110.16it/s]\n",
      "Calculating fitnesses: 100%|███████████████████████████| 200/200 [00:00<00:00, 342.21it/s]\n"
     ]
    },
    {
     "name": "stdout",
     "output_type": "stream",
     "text": [
      "[Generation: 3] \n",
      " Average Fitness: 25.38 \n",
      " Best Fitness: 115.0 \n",
      " Worst Fitness: 8.0 \n",
      " Standard Error: 1.113678318449688\n"
     ]
    },
    {
     "name": "stderr",
     "output_type": "stream",
     "text": [
      "Generating Offspring: 100%|█████████████████████████████| 100/100 [00:01<00:00, 95.85it/s]\n",
      "Calculating fitnesses: 100%|███████████████████████████| 200/200 [00:00<00:00, 267.90it/s]\n"
     ]
    },
    {
     "name": "stdout",
     "output_type": "stream",
     "text": [
      "[Generation: 4] \n",
      " Average Fitness: 33.105 \n",
      " Best Fitness: 135.0 \n",
      " Worst Fitness: 9.0 \n",
      " Standard Error: 1.2931671513795249\n"
     ]
    },
    {
     "name": "stderr",
     "output_type": "stream",
     "text": [
      "Generating Offspring: 100%|█████████████████████████████| 100/100 [00:01<00:00, 78.65it/s]\n",
      "Calculating fitnesses: 100%|███████████████████████████| 200/200 [00:00<00:00, 215.31it/s]\n"
     ]
    },
    {
     "name": "stdout",
     "output_type": "stream",
     "text": [
      "[Generation: 5] \n",
      " Average Fitness: 41.64 \n",
      " Best Fitness: 138.0 \n",
      " Worst Fitness: 9.0 \n",
      " Standard Error: 1.5786108007680384\n"
     ]
    },
    {
     "name": "stderr",
     "output_type": "stream",
     "text": [
      "Generating Offspring: 100%|█████████████████████████████| 100/100 [00:01<00:00, 73.20it/s]\n",
      "Calculating fitnesses: 100%|███████████████████████████| 200/200 [00:01<00:00, 188.32it/s]\n"
     ]
    },
    {
     "name": "stdout",
     "output_type": "stream",
     "text": [
      "[Generation: 6] \n",
      " Average Fitness: 47.975 \n",
      " Best Fitness: 222.0 \n",
      " Worst Fitness: 14.0 \n",
      " Standard Error: 1.9116994662462587\n"
     ]
    },
    {
     "name": "stderr",
     "output_type": "stream",
     "text": [
      "Generating Offspring: 100%|█████████████████████████████| 100/100 [00:01<00:00, 56.89it/s]\n",
      "Calculating fitnesses: 100%|███████████████████████████| 200/200 [00:01<00:00, 166.42it/s]\n"
     ]
    },
    {
     "name": "stdout",
     "output_type": "stream",
     "text": [
      "[Generation: 7] \n",
      " Average Fitness: 53.15 \n",
      " Best Fitness: 185.0 \n",
      " Worst Fitness: 12.0 \n",
      " Standard Error: 2.1012648739156514\n"
     ]
    },
    {
     "name": "stderr",
     "output_type": "stream",
     "text": [
      "Generating Offspring: 100%|█████████████████████████████| 100/100 [00:01<00:00, 52.05it/s]\n",
      "Calculating fitnesses: 100%|███████████████████████████| 200/200 [00:01<00:00, 149.35it/s]\n"
     ]
    },
    {
     "name": "stdout",
     "output_type": "stream",
     "text": [
      "[Generation: 8] \n",
      " Average Fitness: 61.275 \n",
      " Best Fitness: 179.0 \n",
      " Worst Fitness: 11.0 \n",
      " Standard Error: 2.2476669925831403\n"
     ]
    },
    {
     "name": "stderr",
     "output_type": "stream",
     "text": [
      "Generating Offspring: 100%|█████████████████████████████| 100/100 [00:01<00:00, 52.17it/s]\n",
      "Calculating fitnesses: 100%|███████████████████████████| 200/200 [00:01<00:00, 132.96it/s]\n"
     ]
    },
    {
     "name": "stdout",
     "output_type": "stream",
     "text": [
      "[Generation: 9] \n",
      " Average Fitness: 65.53 \n",
      " Best Fitness: 271.0 \n",
      " Worst Fitness: 16.0 \n",
      " Standard Error: 2.67375961003627\n"
     ]
    },
    {
     "name": "stderr",
     "output_type": "stream",
     "text": [
      "Generating Offspring: 100%|█████████████████████████████| 100/100 [00:02<00:00, 44.23it/s]\n",
      "Calculating fitnesses: 100%|███████████████████████████| 200/200 [00:01<00:00, 119.81it/s]\n"
     ]
    },
    {
     "name": "stdout",
     "output_type": "stream",
     "text": [
      "[Generation: 10] \n",
      " Average Fitness: 70.065 \n",
      " Best Fitness: 284.0 \n",
      " Worst Fitness: 15.0 \n",
      " Standard Error: 2.804806333392592\n"
     ]
    },
    {
     "name": "stderr",
     "output_type": "stream",
     "text": [
      "Generating Offspring: 100%|█████████████████████████████| 100/100 [00:02<00:00, 39.43it/s]\n",
      "Calculating fitnesses: 100%|███████████████████████████| 200/200 [00:01<00:00, 103.47it/s]\n"
     ]
    },
    {
     "name": "stdout",
     "output_type": "stream",
     "text": [
      "[Generation: 11] \n",
      " Average Fitness: 87.275 \n",
      " Best Fitness: 268.0 \n",
      " Worst Fitness: 18.0 \n",
      " Standard Error: 3.348425997135289\n"
     ]
    },
    {
     "name": "stderr",
     "output_type": "stream",
     "text": [
      "Generating Offspring: 100%|█████████████████████████████| 100/100 [00:02<00:00, 36.13it/s]\n",
      "Calculating fitnesses: 100%|████████████████████████████| 200/200 [00:02<00:00, 99.94it/s]\n"
     ]
    },
    {
     "name": "stdout",
     "output_type": "stream",
     "text": [
      "[Generation: 12] \n",
      " Average Fitness: 91.71 \n",
      " Best Fitness: 307.0 \n",
      " Worst Fitness: 19.0 \n",
      " Standard Error: 3.407201875896933\n"
     ]
    },
    {
     "name": "stderr",
     "output_type": "stream",
     "text": [
      "Generating Offspring: 100%|█████████████████████████████| 100/100 [00:03<00:00, 32.89it/s]\n",
      "Calculating fitnesses: 100%|████████████████████████████| 200/200 [00:02<00:00, 84.31it/s]\n"
     ]
    },
    {
     "name": "stdout",
     "output_type": "stream",
     "text": [
      "[Generation: 13] \n",
      " Average Fitness: 107.335 \n",
      " Best Fitness: 283.0 \n",
      " Worst Fitness: 20.0 \n",
      " Standard Error: 3.9168895816674323\n"
     ]
    },
    {
     "name": "stderr",
     "output_type": "stream",
     "text": [
      "Generating Offspring: 100%|█████████████████████████████| 100/100 [00:03<00:00, 28.48it/s]\n",
      "Calculating fitnesses: 100%|████████████████████████████| 200/200 [00:02<00:00, 70.13it/s]\n"
     ]
    },
    {
     "name": "stdout",
     "output_type": "stream",
     "text": [
      "[Generation: 14] \n",
      " Average Fitness: 127.96 \n",
      " Best Fitness: 419.0 \n",
      " Worst Fitness: 13.0 \n",
      " Standard Error: 5.123592293493867\n"
     ]
    },
    {
     "name": "stderr",
     "output_type": "stream",
     "text": [
      "Generating Offspring: 100%|█████████████████████████████| 100/100 [00:04<00:00, 23.47it/s]\n",
      "Calculating fitnesses: 100%|████████████████████████████| 200/200 [00:03<00:00, 55.43it/s]\n"
     ]
    },
    {
     "name": "stdout",
     "output_type": "stream",
     "text": [
      "[Generation: 15] \n",
      " Average Fitness: 161.135 \n",
      " Best Fitness: 500.0 \n",
      " Worst Fitness: 13.0 \n",
      " Standard Error: 7.059035613592685\n"
     ]
    },
    {
     "name": "stderr",
     "output_type": "stream",
     "text": [
      "Generating Offspring: 100%|█████████████████████████████| 100/100 [00:04<00:00, 20.01it/s]\n",
      "Calculating fitnesses: 100%|████████████████████████████| 200/200 [00:04<00:00, 48.04it/s]\n"
     ]
    },
    {
     "name": "stdout",
     "output_type": "stream",
     "text": [
      "[Generation: 16] \n",
      " Average Fitness: 185.31 \n",
      " Best Fitness: 500.0 \n",
      " Worst Fitness: 24.0 \n",
      " Standard Error: 6.85296542935096\n"
     ]
    },
    {
     "name": "stderr",
     "output_type": "stream",
     "text": [
      "Generating Offspring: 100%|█████████████████████████████| 100/100 [00:05<00:00, 17.60it/s]\n",
      "Calculating fitnesses: 100%|████████████████████████████| 200/200 [00:04<00:00, 42.77it/s]\n"
     ]
    },
    {
     "name": "stdout",
     "output_type": "stream",
     "text": [
      "[Generation: 17] \n",
      " Average Fitness: 207.46 \n",
      " Best Fitness: 500.0 \n",
      " Worst Fitness: 41.0 \n",
      " Standard Error: 7.054314906067764\n"
     ]
    },
    {
     "name": "stderr",
     "output_type": "stream",
     "text": [
      "Generating Offspring: 100%|█████████████████████████████| 100/100 [00:06<00:00, 14.64it/s]\n",
      "Calculating fitnesses: 100%|████████████████████████████| 200/200 [00:05<00:00, 36.16it/s]\n"
     ]
    },
    {
     "name": "stdout",
     "output_type": "stream",
     "text": [
      "[Generation: 18] \n",
      " Average Fitness: 243.035 \n",
      " Best Fitness: 500.0 \n",
      " Worst Fitness: 52.0 \n",
      " Standard Error: 8.176471875857178\n"
     ]
    },
    {
     "name": "stderr",
     "output_type": "stream",
     "text": [
      "Generating Offspring: 100%|█████████████████████████████| 100/100 [00:08<00:00, 11.99it/s]\n",
      "Calculating fitnesses: 100%|████████████████████████████| 200/200 [00:06<00:00, 32.31it/s]\n"
     ]
    },
    {
     "name": "stdout",
     "output_type": "stream",
     "text": [
      "[Generation: 19] \n",
      " Average Fitness: 268.36 \n",
      " Best Fitness: 500.0 \n",
      " Worst Fitness: 71.0 \n",
      " Standard Error: 8.858068575850627\n"
     ]
    },
    {
     "name": "stderr",
     "output_type": "stream",
     "text": [
      "Generating Offspring: 100%|█████████████████████████████| 100/100 [00:09<00:00, 10.62it/s]\n",
      "Calculating fitnesses: 100%|████████████████████████████| 200/200 [00:07<00:00, 27.00it/s]\n"
     ]
    },
    {
     "name": "stdout",
     "output_type": "stream",
     "text": [
      "[Generation: 20] \n",
      " Average Fitness: 316.275 \n",
      " Best Fitness: 500.0 \n",
      " Worst Fitness: 57.0 \n",
      " Standard Error: 9.209709038720465\n"
     ]
    },
    {
     "name": "stderr",
     "output_type": "stream",
     "text": [
      "Generating Offspring: 100%|█████████████████████████████| 100/100 [00:09<00:00, 10.35it/s]\n",
      "Calculating fitnesses: 100%|████████████████████████████| 200/200 [00:07<00:00, 25.77it/s]\n"
     ]
    },
    {
     "name": "stdout",
     "output_type": "stream",
     "text": [
      "[Generation: 21] \n",
      " Average Fitness: 330.57 \n",
      " Best Fitness: 500.0 \n",
      " Worst Fitness: 42.0 \n",
      " Standard Error: 9.418773378726074\n"
     ]
    },
    {
     "name": "stderr",
     "output_type": "stream",
     "text": [
      "Generating Offspring: 100%|█████████████████████████████| 100/100 [00:11<00:00,  8.46it/s]\n",
      "Calculating fitnesses: 100%|████████████████████████████| 200/200 [00:08<00:00, 22.82it/s]\n"
     ]
    },
    {
     "name": "stdout",
     "output_type": "stream",
     "text": [
      "[Generation: 22] \n",
      " Average Fitness: 367.585 \n",
      " Best Fitness: 500.0 \n",
      " Worst Fitness: 51.0 \n",
      " Standard Error: 9.40320772142471\n"
     ]
    },
    {
     "name": "stderr",
     "output_type": "stream",
     "text": [
      "Generating Offspring: 100%|█████████████████████████████| 100/100 [00:13<00:00,  7.18it/s]\n",
      "Calculating fitnesses: 100%|████████████████████████████| 200/200 [00:10<00:00, 19.54it/s]\n"
     ]
    },
    {
     "name": "stdout",
     "output_type": "stream",
     "text": [
      "[Generation: 23] \n",
      " Average Fitness: 416.81 \n",
      " Best Fitness: 500.0 \n",
      " Worst Fitness: 65.0 \n",
      " Standard Error: 7.6401030998857875\n"
     ]
    },
    {
     "name": "stderr",
     "output_type": "stream",
     "text": [
      "Generating Offspring: 100%|█████████████████████████████| 100/100 [00:14<00:00,  7.06it/s]\n",
      "Calculating fitnesses: 100%|████████████████████████████| 200/200 [00:10<00:00, 19.91it/s]\n"
     ]
    },
    {
     "name": "stdout",
     "output_type": "stream",
     "text": [
      "[Generation: 24] \n",
      " Average Fitness: 407.365 \n",
      " Best Fitness: 500.0 \n",
      " Worst Fitness: 104.0 \n",
      " Standard Error: 8.460443510655036\n"
     ]
    },
    {
     "name": "stderr",
     "output_type": "stream",
     "text": [
      "Generating Offspring: 100%|█████████████████████████████| 100/100 [00:14<00:00,  7.04it/s]\n",
      "Calculating fitnesses: 100%|████████████████████████████| 200/200 [00:10<00:00, 18.30it/s]\n"
     ]
    },
    {
     "name": "stdout",
     "output_type": "stream",
     "text": [
      "[Generation: 25] \n",
      " Average Fitness: 450.98 \n",
      " Best Fitness: 500.0 \n",
      " Worst Fitness: 98.0 \n",
      " Standard Error: 6.658243690736029\n"
     ]
    },
    {
     "name": "stderr",
     "output_type": "stream",
     "text": [
      "Generating Offspring: 100%|█████████████████████████████| 100/100 [00:14<00:00,  6.67it/s]\n",
      "Calculating fitnesses: 100%|████████████████████████████| 200/200 [00:10<00:00, 18.95it/s]\n"
     ]
    },
    {
     "name": "stdout",
     "output_type": "stream",
     "text": [
      "[Generation: 26] \n",
      " Average Fitness: 438.37 \n",
      " Best Fitness: 500.0 \n",
      " Worst Fitness: 54.0 \n",
      " Standard Error: 6.993777959783522\n"
     ]
    },
    {
     "name": "stderr",
     "output_type": "stream",
     "text": [
      "Generating Offspring: 100%|█████████████████████████████| 100/100 [00:15<00:00,  6.53it/s]\n",
      "Calculating fitnesses: 100%|████████████████████████████| 200/200 [00:10<00:00, 18.69it/s]\n"
     ]
    },
    {
     "name": "stdout",
     "output_type": "stream",
     "text": [
      "[Generation: 27] \n",
      " Average Fitness: 443.19 \n",
      " Best Fitness: 500.0 \n",
      " Worst Fitness: 13.0 \n",
      " Standard Error: 7.37489422460557\n"
     ]
    },
    {
     "name": "stderr",
     "output_type": "stream",
     "text": [
      "Generating Offspring: 100%|█████████████████████████████| 100/100 [00:15<00:00,  6.34it/s]\n",
      "Calculating fitnesses: 100%|████████████████████████████| 200/200 [00:11<00:00, 17.70it/s]\n"
     ]
    },
    {
     "name": "stdout",
     "output_type": "stream",
     "text": [
      "[Generation: 28] \n",
      " Average Fitness: 462.45 \n",
      " Best Fitness: 500.0 \n",
      " Worst Fitness: 40.0 \n",
      " Standard Error: 6.2691786146601824\n"
     ]
    },
    {
     "name": "stderr",
     "output_type": "stream",
     "text": [
      "Generating Offspring: 100%|█████████████████████████████| 100/100 [00:16<00:00,  6.13it/s]\n",
      "Calculating fitnesses: 100%|████████████████████████████| 200/200 [00:11<00:00, 17.64it/s]\n"
     ]
    },
    {
     "name": "stdout",
     "output_type": "stream",
     "text": [
      "[Generation: 29] \n",
      " Average Fitness: 465.215 \n",
      " Best Fitness: 500.0 \n",
      " Worst Fitness: 107.0 \n",
      " Standard Error: 5.9732354367557425\n"
     ]
    },
    {
     "name": "stderr",
     "output_type": "stream",
     "text": [
      "Generating Offspring: 100%|█████████████████████████████| 100/100 [00:16<00:00,  6.06it/s]\n",
      "Calculating fitnesses: 100%|████████████████████████████| 200/200 [00:11<00:00, 17.29it/s]\n"
     ]
    },
    {
     "name": "stdout",
     "output_type": "stream",
     "text": [
      "[Generation: 30] \n",
      " Average Fitness: 478.78 \n",
      " Best Fitness: 500.0 \n",
      " Worst Fitness: 82.0 \n",
      " Standard Error: 4.27319658396687\n"
     ]
    },
    {
     "name": "stderr",
     "output_type": "stream",
     "text": [
      "Generating Offspring: 100%|█████████████████████████████| 100/100 [00:16<00:00,  5.94it/s]\n",
      "Calculating fitnesses: 100%|████████████████████████████| 200/200 [00:11<00:00, 17.32it/s]\n"
     ]
    },
    {
     "name": "stdout",
     "output_type": "stream",
     "text": [
      "[Generation: 31] \n",
      " Average Fitness: 475.525 \n",
      " Best Fitness: 500.0 \n",
      " Worst Fitness: 77.0 \n",
      " Standard Error: 5.376698925145269\n"
     ]
    },
    {
     "name": "stderr",
     "output_type": "stream",
     "text": [
      "Generating Offspring: 100%|█████████████████████████████| 100/100 [00:16<00:00,  5.94it/s]\n",
      "Calculating fitnesses: 100%|████████████████████████████| 200/200 [00:11<00:00, 17.18it/s]\n"
     ]
    },
    {
     "name": "stdout",
     "output_type": "stream",
     "text": [
      "[Generation: 32] \n",
      " Average Fitness: 481.63 \n",
      " Best Fitness: 500.0 \n",
      " Worst Fitness: 148.0 \n",
      " Standard Error: 4.405183732671427\n"
     ]
    },
    {
     "name": "stderr",
     "output_type": "stream",
     "text": [
      "Generating Offspring: 100%|█████████████████████████████| 100/100 [00:16<00:00,  6.03it/s]\n",
      "Calculating fitnesses: 100%|████████████████████████████| 200/200 [00:11<00:00, 17.26it/s]\n"
     ]
    },
    {
     "name": "stdout",
     "output_type": "stream",
     "text": [
      "[Generation: 33] \n",
      " Average Fitness: 478.0 \n",
      " Best Fitness: 500.0 \n",
      " Worst Fitness: 143.0 \n",
      " Standard Error: 4.437522736865807\n"
     ]
    },
    {
     "name": "stderr",
     "output_type": "stream",
     "text": [
      "Generating Offspring: 100%|█████████████████████████████| 100/100 [00:16<00:00,  6.00it/s]\n",
      "Calculating fitnesses: 100%|████████████████████████████| 200/200 [00:11<00:00, 17.45it/s]\n"
     ]
    },
    {
     "name": "stdout",
     "output_type": "stream",
     "text": [
      "[Generation: 34] \n",
      " Average Fitness: 476.465 \n",
      " Best Fitness: 500.0 \n",
      " Worst Fitness: 109.0 \n",
      " Standard Error: 4.761586648593124\n"
     ]
    },
    {
     "name": "stderr",
     "output_type": "stream",
     "text": [
      "Generating Offspring: 100%|█████████████████████████████| 100/100 [00:16<00:00,  5.93it/s]\n",
      "Calculating fitnesses: 100%|████████████████████████████| 200/200 [00:11<00:00, 17.06it/s]\n"
     ]
    },
    {
     "name": "stdout",
     "output_type": "stream",
     "text": [
      "[Generation: 35] \n",
      " Average Fitness: 484.215 \n",
      " Best Fitness: 500.0 \n",
      " Worst Fitness: 126.0 \n",
      " Standard Error: 3.926196501685727\n"
     ]
    },
    {
     "name": "stderr",
     "output_type": "stream",
     "text": [
      "Generating Offspring: 100%|█████████████████████████████| 100/100 [00:17<00:00,  5.80it/s]\n",
      "Calculating fitnesses: 100%|████████████████████████████| 200/200 [00:11<00:00, 16.79it/s]\n"
     ]
    },
    {
     "name": "stdout",
     "output_type": "stream",
     "text": [
      "[Generation: 36] \n",
      " Average Fitness: 487.855 \n",
      " Best Fitness: 500.0 \n",
      " Worst Fitness: 155.0 \n",
      " Standard Error: 3.41925083260667\n"
     ]
    },
    {
     "name": "stderr",
     "output_type": "stream",
     "text": [
      "Generating Offspring: 100%|█████████████████████████████| 100/100 [00:17<00:00,  5.70it/s]\n",
      "Calculating fitnesses: 100%|████████████████████████████| 200/200 [00:11<00:00, 17.06it/s]\n"
     ]
    },
    {
     "name": "stdout",
     "output_type": "stream",
     "text": [
      "[Generation: 37] \n",
      " Average Fitness: 477.965 \n",
      " Best Fitness: 500.0 \n",
      " Worst Fitness: 97.0 \n",
      " Standard Error: 5.030916365073246\n"
     ]
    },
    {
     "name": "stderr",
     "output_type": "stream",
     "text": [
      "Generating Offspring: 100%|█████████████████████████████| 100/100 [00:17<00:00,  5.65it/s]\n",
      "Calculating fitnesses: 100%|████████████████████████████| 200/200 [00:11<00:00, 16.91it/s]\n"
     ]
    },
    {
     "name": "stdout",
     "output_type": "stream",
     "text": [
      "[Generation: 38] \n",
      " Average Fitness: 485.58 \n",
      " Best Fitness: 500.0 \n",
      " Worst Fitness: 70.0 \n",
      " Standard Error: 4.423488925198839\n"
     ]
    },
    {
     "name": "stderr",
     "output_type": "stream",
     "text": [
      "Generating Offspring: 100%|█████████████████████████████| 100/100 [00:17<00:00,  5.75it/s]\n",
      "Calculating fitnesses: 100%|████████████████████████████| 200/200 [00:11<00:00, 16.83it/s]\n"
     ]
    },
    {
     "name": "stdout",
     "output_type": "stream",
     "text": [
      "[Generation: 39] \n",
      " Average Fitness: 485.34 \n",
      " Best Fitness: 500.0 \n",
      " Worst Fitness: 181.0 \n",
      " Standard Error: 3.6167911039272416\n"
     ]
    },
    {
     "name": "stderr",
     "output_type": "stream",
     "text": [
      "Generating Offspring: 100%|█████████████████████████████| 100/100 [00:17<00:00,  5.79it/s]\n",
      "Calculating fitnesses: 100%|████████████████████████████| 200/200 [00:11<00:00, 16.99it/s]\n"
     ]
    },
    {
     "name": "stdout",
     "output_type": "stream",
     "text": [
      "[Generation: 40] \n",
      " Average Fitness: 477.215 \n",
      " Best Fitness: 500.0 \n",
      " Worst Fitness: 94.0 \n",
      " Standard Error: 4.646162719392787\n"
     ]
    },
    {
     "name": "stderr",
     "output_type": "stream",
     "text": [
      "Generating Offspring: 100%|█████████████████████████████| 100/100 [00:16<00:00,  5.92it/s]\n",
      "Calculating fitnesses: 100%|████████████████████████████| 200/200 [00:11<00:00, 17.35it/s]\n"
     ]
    },
    {
     "name": "stdout",
     "output_type": "stream",
     "text": [
      "[Generation: 41] \n",
      " Average Fitness: 472.73 \n",
      " Best Fitness: 500.0 \n",
      " Worst Fitness: 123.0 \n",
      " Standard Error: 5.447897155516561\n"
     ]
    },
    {
     "name": "stderr",
     "output_type": "stream",
     "text": [
      "Generating Offspring: 100%|█████████████████████████████| 100/100 [00:16<00:00,  5.99it/s]\n",
      "Calculating fitnesses: 100%|████████████████████████████| 200/200 [00:11<00:00, 17.14it/s]\n"
     ]
    },
    {
     "name": "stdout",
     "output_type": "stream",
     "text": [
      "[Generation: 42] \n",
      " Average Fitness: 481.335 \n",
      " Best Fitness: 500.0 \n",
      " Worst Fitness: 97.0 \n",
      " Standard Error: 4.5121849407685515\n"
     ]
    },
    {
     "name": "stderr",
     "output_type": "stream",
     "text": [
      "Generating Offspring: 100%|█████████████████████████████| 100/100 [00:17<00:00,  5.78it/s]\n",
      "Calculating fitnesses: 100%|████████████████████████████| 200/200 [00:11<00:00, 17.04it/s]\n"
     ]
    },
    {
     "name": "stdout",
     "output_type": "stream",
     "text": [
      "[Generation: 43] \n",
      " Average Fitness: 479.205 \n",
      " Best Fitness: 500.0 \n",
      " Worst Fitness: 39.0 \n",
      " Standard Error: 5.082912044216998\n"
     ]
    },
    {
     "name": "stderr",
     "output_type": "stream",
     "text": [
      "Generating Offspring: 100%|█████████████████████████████| 100/100 [00:17<00:00,  5.73it/s]\n",
      "Calculating fitnesses: 100%|████████████████████████████| 200/200 [00:11<00:00, 17.13it/s]\n"
     ]
    },
    {
     "name": "stdout",
     "output_type": "stream",
     "text": [
      "[Generation: 44] \n",
      " Average Fitness: 478.615 \n",
      " Best Fitness: 500.0 \n",
      " Worst Fitness: 77.0 \n",
      " Standard Error: 4.978202120925175\n"
     ]
    },
    {
     "name": "stderr",
     "output_type": "stream",
     "text": [
      "Generating Offspring: 100%|█████████████████████████████| 100/100 [00:17<00:00,  5.73it/s]\n",
      "Calculating fitnesses: 100%|████████████████████████████| 200/200 [00:11<00:00, 17.07it/s]\n"
     ]
    },
    {
     "name": "stdout",
     "output_type": "stream",
     "text": [
      "[Generation: 45] \n",
      " Average Fitness: 481.79 \n",
      " Best Fitness: 500.0 \n",
      " Worst Fitness: 98.0 \n",
      " Standard Error: 4.314307097164412\n"
     ]
    },
    {
     "name": "stderr",
     "output_type": "stream",
     "text": [
      "Generating Offspring: 100%|█████████████████████████████| 100/100 [00:16<00:00,  5.93it/s]\n",
      "Calculating fitnesses: 100%|████████████████████████████| 200/200 [00:11<00:00, 17.31it/s]\n"
     ]
    },
    {
     "name": "stdout",
     "output_type": "stream",
     "text": [
      "[Generation: 46] \n",
      " Average Fitness: 479.245 \n",
      " Best Fitness: 500.0 \n",
      " Worst Fitness: 97.0 \n",
      " Standard Error: 4.431712451328074\n"
     ]
    },
    {
     "name": "stderr",
     "output_type": "stream",
     "text": [
      "Generating Offspring: 100%|█████████████████████████████| 100/100 [00:17<00:00,  5.84it/s]\n",
      "Calculating fitnesses: 100%|████████████████████████████| 200/200 [00:11<00:00, 16.99it/s]\n"
     ]
    },
    {
     "name": "stdout",
     "output_type": "stream",
     "text": [
      "[Generation: 47] \n",
      " Average Fitness: 485.91 \n",
      " Best Fitness: 500.0 \n",
      " Worst Fitness: 154.0 \n",
      " Standard Error: 3.785114922281009\n"
     ]
    },
    {
     "name": "stderr",
     "output_type": "stream",
     "text": [
      "Generating Offspring: 100%|█████████████████████████████| 100/100 [00:17<00:00,  5.78it/s]\n",
      "Calculating fitnesses: 100%|████████████████████████████| 200/200 [00:11<00:00, 17.34it/s]\n"
     ]
    },
    {
     "name": "stdout",
     "output_type": "stream",
     "text": [
      "[Generation: 48] \n",
      " Average Fitness: 474.05 \n",
      " Best Fitness: 500.0 \n",
      " Worst Fitness: 31.0 \n",
      " Standard Error: 5.634164226632316\n"
     ]
    },
    {
     "name": "stderr",
     "output_type": "stream",
     "text": [
      "Generating Offspring: 100%|█████████████████████████████| 100/100 [00:17<00:00,  5.80it/s]\n",
      "Calculating fitnesses: 100%|████████████████████████████| 200/200 [00:11<00:00, 17.07it/s]\n"
     ]
    },
    {
     "name": "stdout",
     "output_type": "stream",
     "text": [
      "[Generation: 49] \n",
      " Average Fitness: 484.05 \n",
      " Best Fitness: 500.0 \n",
      " Worst Fitness: 17.0 \n",
      " Standard Error: 4.164849017273426\n"
     ]
    },
    {
     "name": "stderr",
     "output_type": "stream",
     "text": [
      "Generating Offspring: 100%|█████████████████████████████| 100/100 [00:17<00:00,  5.77it/s]\n",
      "Calculating fitnesses: 100%|████████████████████████████| 200/200 [00:11<00:00, 17.19it/s]\n"
     ]
    },
    {
     "name": "stdout",
     "output_type": "stream",
     "text": [
      "[Generation: 50] \n",
      " Average Fitness: 479.13 \n",
      " Best Fitness: 500.0 \n",
      " Worst Fitness: 66.0 \n",
      " Standard Error: 5.177164344819114\n"
     ]
    },
    {
     "name": "stderr",
     "output_type": "stream",
     "text": [
      "Generating Offspring: 100%|█████████████████████████████| 100/100 [00:17<00:00,  5.80it/s]\n",
      "Calculating fitnesses: 100%|████████████████████████████| 200/200 [00:11<00:00, 17.31it/s]\n"
     ]
    },
    {
     "name": "stdout",
     "output_type": "stream",
     "text": [
      "[Generation: 51] \n",
      " Average Fitness: 480.965 \n",
      " Best Fitness: 500.0 \n",
      " Worst Fitness: 79.0 \n",
      " Standard Error: 4.468265418959729\n"
     ]
    },
    {
     "name": "stderr",
     "output_type": "stream",
     "text": [
      "Generating Offspring: 100%|█████████████████████████████| 100/100 [00:17<00:00,  5.71it/s]\n",
      "Calculating fitnesses: 100%|████████████████████████████| 200/200 [00:11<00:00, 17.00it/s]\n"
     ]
    },
    {
     "name": "stdout",
     "output_type": "stream",
     "text": [
      "[Generation: 52] \n",
      " Average Fitness: 477.78 \n",
      " Best Fitness: 500.0 \n",
      " Worst Fitness: 18.0 \n",
      " Standard Error: 5.31108710445948\n"
     ]
    },
    {
     "name": "stderr",
     "output_type": "stream",
     "text": [
      "Generating Offspring: 100%|█████████████████████████████| 100/100 [00:17<00:00,  5.69it/s]\n",
      "Calculating fitnesses: 100%|████████████████████████████| 200/200 [00:11<00:00, 17.03it/s]\n"
     ]
    },
    {
     "name": "stdout",
     "output_type": "stream",
     "text": [
      "[Generation: 53] \n",
      " Average Fitness: 480.16 \n",
      " Best Fitness: 500.0 \n",
      " Worst Fitness: 13.0 \n",
      " Standard Error: 5.385260173443656\n"
     ]
    },
    {
     "name": "stderr",
     "output_type": "stream",
     "text": [
      "Generating Offspring: 100%|█████████████████████████████| 100/100 [00:17<00:00,  5.83it/s]\n",
      "Calculating fitnesses: 100%|████████████████████████████| 200/200 [00:11<00:00, 17.06it/s]\n"
     ]
    },
    {
     "name": "stdout",
     "output_type": "stream",
     "text": [
      "[Generation: 54] \n",
      " Average Fitness: 483.405 \n",
      " Best Fitness: 500.0 \n",
      " Worst Fitness: 38.0 \n",
      " Standard Error: 4.834481973776907\n"
     ]
    },
    {
     "name": "stderr",
     "output_type": "stream",
     "text": [
      "Generating Offspring: 100%|█████████████████████████████| 100/100 [00:17<00:00,  5.74it/s]\n",
      "Calculating fitnesses: 100%|████████████████████████████| 200/200 [00:11<00:00, 17.63it/s]\n"
     ]
    },
    {
     "name": "stdout",
     "output_type": "stream",
     "text": [
      "[Generation: 55] \n",
      " Average Fitness: 467.035 \n",
      " Best Fitness: 500.0 \n",
      " Worst Fitness: 13.0 \n",
      " Standard Error: 6.445462653611102\n"
     ]
    },
    {
     "name": "stderr",
     "output_type": "stream",
     "text": [
      "Generating Offspring: 100%|█████████████████████████████| 100/100 [00:17<00:00,  5.79it/s]\n",
      "Calculating fitnesses: 100%|████████████████████████████| 200/200 [00:11<00:00, 17.21it/s]\n"
     ]
    },
    {
     "name": "stdout",
     "output_type": "stream",
     "text": [
      "[Generation: 56] \n",
      " Average Fitness: 471.18 \n",
      " Best Fitness: 500.0 \n",
      " Worst Fitness: 12.0 \n",
      " Standard Error: 6.060767485439679\n"
     ]
    },
    {
     "name": "stderr",
     "output_type": "stream",
     "text": [
      "Generating Offspring: 100%|█████████████████████████████| 100/100 [00:17<00:00,  5.73it/s]\n",
      "Calculating fitnesses: 100%|████████████████████████████| 200/200 [00:11<00:00, 16.99it/s]\n"
     ]
    },
    {
     "name": "stdout",
     "output_type": "stream",
     "text": [
      "[Generation: 57] \n",
      " Average Fitness: 487.685 \n",
      " Best Fitness: 500.0 \n",
      " Worst Fitness: 62.0 \n",
      " Standard Error: 3.9395978259399467\n"
     ]
    },
    {
     "name": "stderr",
     "output_type": "stream",
     "text": [
      "Generating Offspring: 100%|█████████████████████████████| 100/100 [00:16<00:00,  5.91it/s]\n",
      "Calculating fitnesses: 100%|████████████████████████████| 200/200 [00:12<00:00, 16.15it/s]\n"
     ]
    },
    {
     "name": "stdout",
     "output_type": "stream",
     "text": [
      "[Generation: 58] \n",
      " Average Fitness: 489.625 \n",
      " Best Fitness: 500.0 \n",
      " Worst Fitness: 80.0 \n",
      " Standard Error: 3.3878695629966917\n"
     ]
    },
    {
     "name": "stderr",
     "output_type": "stream",
     "text": [
      "Generating Offspring: 100%|█████████████████████████████| 100/100 [00:18<00:00,  5.51it/s]\n",
      "Calculating fitnesses: 100%|████████████████████████████| 200/200 [00:12<00:00, 16.15it/s]\n"
     ]
    },
    {
     "name": "stdout",
     "output_type": "stream",
     "text": [
      "[Generation: 59] \n",
      " Average Fitness: 481.855 \n",
      " Best Fitness: 500.0 \n",
      " Worst Fitness: 48.0 \n",
      " Standard Error: 4.987206736255351\n"
     ]
    },
    {
     "name": "stderr",
     "output_type": "stream",
     "text": [
      "Generating Offspring: 100%|█████████████████████████████| 100/100 [00:16<00:00,  5.91it/s]\n",
      "Calculating fitnesses: 100%|████████████████████████████| 200/200 [00:11<00:00, 17.17it/s]\n"
     ]
    },
    {
     "name": "stdout",
     "output_type": "stream",
     "text": [
      "[Generation: 60] \n",
      " Average Fitness: 481.625 \n",
      " Best Fitness: 500.0 \n",
      " Worst Fitness: 144.0 \n",
      " Standard Error: 4.731384774505463\n"
     ]
    },
    {
     "name": "stderr",
     "output_type": "stream",
     "text": [
      "Generating Offspring: 100%|█████████████████████████████| 100/100 [00:17<00:00,  5.68it/s]\n",
      "Calculating fitnesses: 100%|████████████████████████████| 200/200 [00:11<00:00, 16.81it/s]\n"
     ]
    },
    {
     "name": "stdout",
     "output_type": "stream",
     "text": [
      "[Generation: 61] \n",
      " Average Fitness: 482.565 \n",
      " Best Fitness: 500.0 \n",
      " Worst Fitness: 44.0 \n",
      " Standard Error: 4.467704195545457\n"
     ]
    },
    {
     "name": "stderr",
     "output_type": "stream",
     "text": [
      "Generating Offspring: 100%|█████████████████████████████| 100/100 [00:17<00:00,  5.60it/s]\n",
      "Calculating fitnesses: 100%|████████████████████████████| 200/200 [00:12<00:00, 16.38it/s]\n"
     ]
    },
    {
     "name": "stdout",
     "output_type": "stream",
     "text": [
      "[Generation: 62] \n",
      " Average Fitness: 490.24 \n",
      " Best Fitness: 500.0 \n",
      " Worst Fitness: 19.0 \n",
      " Standard Error: 3.605329946079901\n"
     ]
    },
    {
     "name": "stderr",
     "output_type": "stream",
     "text": [
      "Generating Offspring: 100%|█████████████████████████████| 100/100 [00:17<00:00,  5.65it/s]\n",
      "Calculating fitnesses: 100%|████████████████████████████| 200/200 [00:12<00:00, 16.44it/s]\n"
     ]
    },
    {
     "name": "stdout",
     "output_type": "stream",
     "text": [
      "[Generation: 63] \n",
      " Average Fitness: 491.745 \n",
      " Best Fitness: 500.0 \n",
      " Worst Fitness: 121.0 \n",
      " Standard Error: 3.495079078335581\n"
     ]
    },
    {
     "name": "stderr",
     "output_type": "stream",
     "text": [
      "Generating Offspring: 100%|█████████████████████████████| 100/100 [00:17<00:00,  5.72it/s]\n",
      "Calculating fitnesses: 100%|████████████████████████████| 200/200 [00:11<00:00, 17.02it/s]\n"
     ]
    },
    {
     "name": "stdout",
     "output_type": "stream",
     "text": [
      "[Generation: 64] \n",
      " Average Fitness: 488.98 \n",
      " Best Fitness: 500.0 \n",
      " Worst Fitness: 58.0 \n",
      " Standard Error: 3.9493588309850236\n"
     ]
    },
    {
     "name": "stderr",
     "output_type": "stream",
     "text": [
      "Generating Offspring: 100%|█████████████████████████████| 100/100 [00:17<00:00,  5.76it/s]\n",
      "Calculating fitnesses: 100%|████████████████████████████| 200/200 [00:11<00:00, 17.20it/s]\n"
     ]
    },
    {
     "name": "stdout",
     "output_type": "stream",
     "text": [
      "[Generation: 65] \n",
      " Average Fitness: 484.46 \n",
      " Best Fitness: 500.0 \n",
      " Worst Fitness: 63.0 \n",
      " Standard Error: 4.495915734470263\n"
     ]
    },
    {
     "name": "stderr",
     "output_type": "stream",
     "text": [
      "Generating Offspring: 100%|█████████████████████████████| 100/100 [00:16<00:00,  6.06it/s]\n",
      "Calculating fitnesses: 100%|████████████████████████████| 200/200 [00:11<00:00, 17.14it/s]\n"
     ]
    },
    {
     "name": "stdout",
     "output_type": "stream",
     "text": [
      "[Generation: 66] \n",
      " Average Fitness: 485.585 \n",
      " Best Fitness: 500.0 \n",
      " Worst Fitness: 63.0 \n",
      " Standard Error: 4.066552362330761\n"
     ]
    },
    {
     "name": "stderr",
     "output_type": "stream",
     "text": [
      "Generating Offspring: 100%|█████████████████████████████| 100/100 [00:17<00:00,  5.85it/s]\n",
      "Calculating fitnesses: 100%|████████████████████████████| 200/200 [00:12<00:00, 16.47it/s]\n"
     ]
    },
    {
     "name": "stdout",
     "output_type": "stream",
     "text": [
      "[Generation: 67] \n",
      " Average Fitness: 490.97 \n",
      " Best Fitness: 500.0 \n",
      " Worst Fitness: 253.0 \n",
      " Standard Error: 2.9171552019667737\n"
     ]
    },
    {
     "name": "stderr",
     "output_type": "stream",
     "text": [
      "Generating Offspring: 100%|█████████████████████████████| 100/100 [00:17<00:00,  5.63it/s]\n",
      "Calculating fitnesses: 100%|████████████████████████████| 200/200 [00:11<00:00, 16.98it/s]\n"
     ]
    },
    {
     "name": "stdout",
     "output_type": "stream",
     "text": [
      "[Generation: 68] \n",
      " Average Fitness: 485.145 \n",
      " Best Fitness: 500.0 \n",
      " Worst Fitness: 48.0 \n",
      " Standard Error: 4.490992646369925\n"
     ]
    },
    {
     "name": "stderr",
     "output_type": "stream",
     "text": [
      "Generating Offspring: 100%|█████████████████████████████| 100/100 [00:17<00:00,  5.68it/s]\n",
      "Calculating fitnesses: 100%|████████████████████████████| 200/200 [00:12<00:00, 16.56it/s]\n"
     ]
    },
    {
     "name": "stdout",
     "output_type": "stream",
     "text": [
      "[Generation: 69] \n",
      " Average Fitness: 487.91 \n",
      " Best Fitness: 500.0 \n",
      " Worst Fitness: 78.0 \n",
      " Standard Error: 3.7146808434701657\n"
     ]
    },
    {
     "name": "stderr",
     "output_type": "stream",
     "text": [
      "Generating Offspring: 100%|█████████████████████████████| 100/100 [00:18<00:00,  5.52it/s]\n",
      "Calculating fitnesses: 100%|████████████████████████████| 200/200 [00:11<00:00, 17.01it/s]\n"
     ]
    },
    {
     "name": "stdout",
     "output_type": "stream",
     "text": [
      "[Generation: 70] \n",
      " Average Fitness: 487.965 \n",
      " Best Fitness: 500.0 \n",
      " Worst Fitness: 46.0 \n",
      " Standard Error: 3.7014690652774647\n"
     ]
    },
    {
     "name": "stderr",
     "output_type": "stream",
     "text": [
      "Generating Offspring: 100%|█████████████████████████████| 100/100 [00:16<00:00,  6.01it/s]\n",
      "Calculating fitnesses: 100%|████████████████████████████| 200/200 [00:12<00:00, 16.49it/s]\n"
     ]
    },
    {
     "name": "stdout",
     "output_type": "stream",
     "text": [
      "[Generation: 71] \n",
      " Average Fitness: 477.075 \n",
      " Best Fitness: 500.0 \n",
      " Worst Fitness: 45.0 \n",
      " Standard Error: 5.151313134536694\n"
     ]
    },
    {
     "name": "stderr",
     "output_type": "stream",
     "text": [
      "Generating Offspring: 100%|█████████████████████████████| 100/100 [00:17<00:00,  5.73it/s]\n",
      "Calculating fitnesses: 100%|████████████████████████████| 200/200 [00:11<00:00, 17.00it/s]\n"
     ]
    },
    {
     "name": "stdout",
     "output_type": "stream",
     "text": [
      "[Generation: 72] \n",
      " Average Fitness: 486.78 \n",
      " Best Fitness: 500.0 \n",
      " Worst Fitness: 144.0 \n",
      " Standard Error: 3.8306825296826776\n"
     ]
    },
    {
     "name": "stderr",
     "output_type": "stream",
     "text": [
      "Generating Offspring: 100%|█████████████████████████████| 100/100 [00:17<00:00,  5.62it/s]\n",
      "Calculating fitnesses: 100%|████████████████████████████| 200/200 [00:12<00:00, 16.45it/s]\n"
     ]
    },
    {
     "name": "stdout",
     "output_type": "stream",
     "text": [
      "[Generation: 73] \n",
      " Average Fitness: 483.97 \n",
      " Best Fitness: 500.0 \n",
      " Worst Fitness: 35.0 \n",
      " Standard Error: 4.762183053725038\n"
     ]
    },
    {
     "name": "stderr",
     "output_type": "stream",
     "text": [
      "Generating Offspring: 100%|█████████████████████████████| 100/100 [00:18<00:00,  5.46it/s]\n",
      "Calculating fitnesses: 100%|████████████████████████████| 200/200 [00:12<00:00, 16.51it/s]\n"
     ]
    },
    {
     "name": "stdout",
     "output_type": "stream",
     "text": [
      "[Generation: 74] \n",
      " Average Fitness: 479.77 \n",
      " Best Fitness: 500.0 \n",
      " Worst Fitness: 16.0 \n",
      " Standard Error: 5.362468259033869\n"
     ]
    },
    {
     "name": "stderr",
     "output_type": "stream",
     "text": [
      "Generating Offspring: 100%|█████████████████████████████| 100/100 [00:17<00:00,  5.73it/s]\n",
      "Calculating fitnesses: 100%|████████████████████████████| 200/200 [00:11<00:00, 16.90it/s]\n"
     ]
    },
    {
     "name": "stdout",
     "output_type": "stream",
     "text": [
      "[Generation: 75] \n",
      " Average Fitness: 487.515 \n",
      " Best Fitness: 500.0 \n",
      " Worst Fitness: 36.0 \n",
      " Standard Error: 3.970949644657057\n"
     ]
    },
    {
     "name": "stderr",
     "output_type": "stream",
     "text": [
      "Generating Offspring: 100%|█████████████████████████████| 100/100 [00:17<00:00,  5.67it/s]\n",
      "Calculating fitnesses: 100%|████████████████████████████| 200/200 [00:12<00:00, 16.35it/s]\n"
     ]
    },
    {
     "name": "stdout",
     "output_type": "stream",
     "text": [
      "[Generation: 76] \n",
      " Average Fitness: 482.325 \n",
      " Best Fitness: 500.0 \n",
      " Worst Fitness: 17.0 \n",
      " Standard Error: 5.734178308999206\n"
     ]
    },
    {
     "name": "stderr",
     "output_type": "stream",
     "text": [
      "Generating Offspring: 100%|█████████████████████████████| 100/100 [00:17<00:00,  5.59it/s]\n",
      "Calculating fitnesses: 100%|████████████████████████████| 200/200 [00:11<00:00, 17.25it/s]\n"
     ]
    },
    {
     "name": "stdout",
     "output_type": "stream",
     "text": [
      "[Generation: 77] \n",
      " Average Fitness: 482.55 \n",
      " Best Fitness: 500.0 \n",
      " Worst Fitness: 16.0 \n",
      " Standard Error: 5.367966357389952\n"
     ]
    },
    {
     "name": "stderr",
     "output_type": "stream",
     "text": [
      "Generating Offspring: 100%|█████████████████████████████| 100/100 [00:17<00:00,  5.87it/s]\n",
      "Calculating fitnesses: 100%|████████████████████████████| 200/200 [00:11<00:00, 16.87it/s]\n"
     ]
    },
    {
     "name": "stdout",
     "output_type": "stream",
     "text": [
      "[Generation: 78] \n",
      " Average Fitness: 486.83 \n",
      " Best Fitness: 500.0 \n",
      " Worst Fitness: 18.0 \n",
      " Standard Error: 3.992695025648615\n"
     ]
    },
    {
     "name": "stderr",
     "output_type": "stream",
     "text": [
      "Generating Offspring: 100%|█████████████████████████████| 100/100 [00:17<00:00,  5.67it/s]\n",
      "Calculating fitnesses: 100%|████████████████████████████| 200/200 [00:12<00:00, 16.56it/s]\n"
     ]
    },
    {
     "name": "stdout",
     "output_type": "stream",
     "text": [
      "[Generation: 79] \n",
      " Average Fitness: 482.695 \n",
      " Best Fitness: 500.0 \n",
      " Worst Fitness: 15.0 \n",
      " Standard Error: 4.959718126514083\n"
     ]
    },
    {
     "name": "stderr",
     "output_type": "stream",
     "text": [
      "Generating Offspring: 100%|█████████████████████████████| 100/100 [00:17<00:00,  5.58it/s]\n",
      "Calculating fitnesses: 100%|████████████████████████████| 200/200 [00:12<00:00, 16.32it/s]\n"
     ]
    },
    {
     "name": "stdout",
     "output_type": "stream",
     "text": [
      "[Generation: 80] \n",
      " Average Fitness: 487.82 \n",
      " Best Fitness: 500.0 \n",
      " Worst Fitness: 67.0 \n",
      " Standard Error: 4.0443381852639275\n"
     ]
    },
    {
     "name": "stderr",
     "output_type": "stream",
     "text": [
      "Generating Offspring: 100%|█████████████████████████████| 100/100 [00:18<00:00,  5.46it/s]\n",
      "Calculating fitnesses: 100%|████████████████████████████| 200/200 [00:11<00:00, 16.77it/s]\n"
     ]
    },
    {
     "name": "stdout",
     "output_type": "stream",
     "text": [
      "[Generation: 81] \n",
      " Average Fitness: 486.47 \n",
      " Best Fitness: 500.0 \n",
      " Worst Fitness: 16.0 \n",
      " Standard Error: 4.775470773183272\n"
     ]
    },
    {
     "name": "stderr",
     "output_type": "stream",
     "text": [
      "Generating Offspring: 100%|█████████████████████████████| 100/100 [00:18<00:00,  5.37it/s]\n",
      "Calculating fitnesses: 100%|████████████████████████████| 200/200 [00:12<00:00, 16.55it/s]\n"
     ]
    },
    {
     "name": "stdout",
     "output_type": "stream",
     "text": [
      "[Generation: 82] \n",
      " Average Fitness: 487.18 \n",
      " Best Fitness: 500.0 \n",
      " Worst Fitness: 15.0 \n",
      " Standard Error: 4.657995557432974\n"
     ]
    },
    {
     "name": "stderr",
     "output_type": "stream",
     "text": [
      "Generating Offspring: 100%|█████████████████████████████| 100/100 [00:17<00:00,  5.73it/s]\n",
      "Calculating fitnesses: 100%|████████████████████████████| 200/200 [00:11<00:00, 17.20it/s]\n"
     ]
    },
    {
     "name": "stdout",
     "output_type": "stream",
     "text": [
      "[Generation: 83] \n",
      " Average Fitness: 475.96 \n",
      " Best Fitness: 500.0 \n",
      " Worst Fitness: 12.0 \n",
      " Standard Error: 6.541728599179779\n"
     ]
    },
    {
     "name": "stderr",
     "output_type": "stream",
     "text": [
      "Generating Offspring: 100%|█████████████████████████████| 100/100 [00:17<00:00,  5.64it/s]\n",
      "Calculating fitnesses: 100%|████████████████████████████| 200/200 [00:12<00:00, 16.57it/s]\n"
     ]
    },
    {
     "name": "stdout",
     "output_type": "stream",
     "text": [
      "[Generation: 84] \n",
      " Average Fitness: 492.64 \n",
      " Best Fitness: 500.0 \n",
      " Worst Fitness: 16.0 \n",
      " Standard Error: 3.6335472099084063\n"
     ]
    },
    {
     "name": "stderr",
     "output_type": "stream",
     "text": [
      "Generating Offspring: 100%|█████████████████████████████| 100/100 [00:17<00:00,  5.58it/s]\n",
      "Calculating fitnesses: 100%|████████████████████████████| 200/200 [00:12<00:00, 16.66it/s]\n"
     ]
    },
    {
     "name": "stdout",
     "output_type": "stream",
     "text": [
      "[Generation: 85] \n",
      " Average Fitness: 492.59 \n",
      " Best Fitness: 500.0 \n",
      " Worst Fitness: 50.0 \n",
      " Standard Error: 3.141113252067101\n"
     ]
    },
    {
     "name": "stderr",
     "output_type": "stream",
     "text": [
      "Generating Offspring: 100%|█████████████████████████████| 100/100 [00:17<00:00,  5.66it/s]\n",
      "Calculating fitnesses: 100%|████████████████████████████| 200/200 [00:11<00:00, 16.72it/s]\n"
     ]
    },
    {
     "name": "stdout",
     "output_type": "stream",
     "text": [
      "[Generation: 86] \n",
      " Average Fitness: 489.355 \n",
      " Best Fitness: 500.0 \n",
      " Worst Fitness: 12.0 \n",
      " Standard Error: 4.382668569943414\n"
     ]
    },
    {
     "name": "stderr",
     "output_type": "stream",
     "text": [
      "Generating Offspring: 100%|█████████████████████████████| 100/100 [00:17<00:00,  5.64it/s]\n",
      "Calculating fitnesses: 100%|████████████████████████████| 200/200 [00:11<00:00, 16.88it/s]\n"
     ]
    },
    {
     "name": "stdout",
     "output_type": "stream",
     "text": [
      "[Generation: 87] \n",
      " Average Fitness: 490.78 \n",
      " Best Fitness: 500.0 \n",
      " Worst Fitness: 208.0 \n",
      " Standard Error: 3.2193132636398145\n"
     ]
    },
    {
     "name": "stderr",
     "output_type": "stream",
     "text": [
      "Generating Offspring: 100%|█████████████████████████████| 100/100 [00:18<00:00,  5.54it/s]\n",
      "Calculating fitnesses: 100%|████████████████████████████| 200/200 [00:11<00:00, 16.83it/s]\n"
     ]
    },
    {
     "name": "stdout",
     "output_type": "stream",
     "text": [
      "[Generation: 88] \n",
      " Average Fitness: 491.085 \n",
      " Best Fitness: 500.0 \n",
      " Worst Fitness: 42.0 \n",
      " Standard Error: 3.675026253623791\n"
     ]
    },
    {
     "name": "stderr",
     "output_type": "stream",
     "text": [
      "Generating Offspring: 100%|█████████████████████████████| 100/100 [00:17<00:00,  5.58it/s]\n",
      "Calculating fitnesses: 100%|████████████████████████████| 200/200 [00:11<00:00, 16.77it/s]\n"
     ]
    },
    {
     "name": "stdout",
     "output_type": "stream",
     "text": [
      "[Generation: 89] \n",
      " Average Fitness: 492.54 \n",
      " Best Fitness: 500.0 \n",
      " Worst Fitness: 88.0 \n",
      " Standard Error: 3.0237073320926338\n"
     ]
    },
    {
     "name": "stderr",
     "output_type": "stream",
     "text": [
      "Generating Offspring: 100%|█████████████████████████████| 100/100 [00:18<00:00,  5.55it/s]\n",
      "Calculating fitnesses: 100%|████████████████████████████| 200/200 [00:12<00:00, 16.53it/s]\n"
     ]
    },
    {
     "name": "stdout",
     "output_type": "stream",
     "text": [
      "[Generation: 90] \n",
      " Average Fitness: 496.22 \n",
      " Best Fitness: 500.0 \n",
      " Worst Fitness: 278.0 \n",
      " Standard Error: 1.5602982577912248\n"
     ]
    },
    {
     "name": "stderr",
     "output_type": "stream",
     "text": [
      "Generating Offspring: 100%|█████████████████████████████| 100/100 [00:18<00:00,  5.50it/s]\n",
      "Calculating fitnesses: 100%|████████████████████████████| 200/200 [00:12<00:00, 16.54it/s]\n"
     ]
    },
    {
     "name": "stdout",
     "output_type": "stream",
     "text": [
      "[Generation: 91] \n",
      " Average Fitness: 491.05 \n",
      " Best Fitness: 500.0 \n",
      " Worst Fitness: 32.0 \n",
      " Standard Error: 3.660420864398329\n"
     ]
    },
    {
     "name": "stderr",
     "output_type": "stream",
     "text": [
      "Generating Offspring: 100%|█████████████████████████████| 100/100 [00:17<00:00,  5.73it/s]\n",
      "Calculating fitnesses: 100%|████████████████████████████| 200/200 [00:11<00:00, 16.95it/s]\n"
     ]
    },
    {
     "name": "stdout",
     "output_type": "stream",
     "text": [
      "[Generation: 92] \n",
      " Average Fitness: 488.29 \n",
      " Best Fitness: 500.0 \n",
      " Worst Fitness: 20.0 \n",
      " Standard Error: 4.7014089088956315\n"
     ]
    },
    {
     "name": "stderr",
     "output_type": "stream",
     "text": [
      "Generating Offspring: 100%|█████████████████████████████| 100/100 [00:17<00:00,  5.73it/s]\n",
      "Calculating fitnesses: 100%|████████████████████████████| 200/200 [00:11<00:00, 16.88it/s]\n"
     ]
    },
    {
     "name": "stdout",
     "output_type": "stream",
     "text": [
      "[Generation: 93] \n",
      " Average Fitness: 494.395 \n",
      " Best Fitness: 500.0 \n",
      " Worst Fitness: 259.0 \n",
      " Standard Error: 2.2158168009737147\n"
     ]
    },
    {
     "name": "stderr",
     "output_type": "stream",
     "text": [
      "Generating Offspring: 100%|█████████████████████████████| 100/100 [00:17<00:00,  5.80it/s]\n",
      "Calculating fitnesses: 100%|████████████████████████████| 200/200 [00:11<00:00, 16.69it/s]\n"
     ]
    },
    {
     "name": "stdout",
     "output_type": "stream",
     "text": [
      "[Generation: 94] \n",
      " Average Fitness: 493.98 \n",
      " Best Fitness: 500.0 \n",
      " Worst Fitness: 164.0 \n",
      " Standard Error: 2.789850232827569\n"
     ]
    },
    {
     "name": "stderr",
     "output_type": "stream",
     "text": [
      "Generating Offspring: 100%|█████████████████████████████| 100/100 [00:17<00:00,  5.62it/s]\n",
      "Calculating fitnesses: 100%|████████████████████████████| 200/200 [00:12<00:00, 16.53it/s]\n"
     ]
    },
    {
     "name": "stdout",
     "output_type": "stream",
     "text": [
      "[Generation: 95] \n",
      " Average Fitness: 493.31 \n",
      " Best Fitness: 500.0 \n",
      " Worst Fitness: 47.0 \n",
      " Standard Error: 2.889787858882851\n"
     ]
    },
    {
     "name": "stderr",
     "output_type": "stream",
     "text": [
      "Generating Offspring: 100%|█████████████████████████████| 100/100 [00:17<00:00,  5.66it/s]\n",
      "Calculating fitnesses: 100%|████████████████████████████| 200/200 [00:12<00:00, 16.50it/s]\n"
     ]
    },
    {
     "name": "stdout",
     "output_type": "stream",
     "text": [
      "[Generation: 96] \n",
      " Average Fitness: 490.365 \n",
      " Best Fitness: 500.0 \n",
      " Worst Fitness: 13.0 \n",
      " Standard Error: 3.8625711845581425\n"
     ]
    },
    {
     "name": "stderr",
     "output_type": "stream",
     "text": [
      "Generating Offspring: 100%|█████████████████████████████| 100/100 [00:17<00:00,  5.57it/s]\n",
      "Calculating fitnesses: 100%|████████████████████████████| 200/200 [00:11<00:00, 17.08it/s]\n"
     ]
    },
    {
     "name": "stdout",
     "output_type": "stream",
     "text": [
      "[Generation: 97] \n",
      " Average Fitness: 488.535 \n",
      " Best Fitness: 500.0 \n",
      " Worst Fitness: 14.0 \n",
      " Standard Error: 4.805863658335779\n"
     ]
    },
    {
     "name": "stderr",
     "output_type": "stream",
     "text": [
      "Generating Offspring: 100%|█████████████████████████████| 100/100 [00:17<00:00,  5.56it/s]\n",
      "Calculating fitnesses: 100%|████████████████████████████| 200/200 [00:12<00:00, 16.55it/s]\n"
     ]
    },
    {
     "name": "stdout",
     "output_type": "stream",
     "text": [
      "[Generation: 98] \n",
      " Average Fitness: 480.785 \n",
      " Best Fitness: 500.0 \n",
      " Worst Fitness: 12.0 \n",
      " Standard Error: 5.927857229358539\n"
     ]
    },
    {
     "name": "stderr",
     "output_type": "stream",
     "text": [
      "Generating Offspring: 100%|█████████████████████████████| 100/100 [00:18<00:00,  5.29it/s]\n",
      "Calculating fitnesses: 100%|████████████████████████████| 200/200 [00:12<00:00, 15.88it/s]\n"
     ]
    },
    {
     "name": "stdout",
     "output_type": "stream",
     "text": [
      "[Generation: 99] \n",
      " Average Fitness: 485.93 \n",
      " Best Fitness: 500.0 \n",
      " Worst Fitness: 16.0 \n",
      " Standard Error: 4.622571398221805\n"
     ]
    },
    {
     "name": "stderr",
     "output_type": "stream",
     "text": [
      "Generating Offspring: 100%|█████████████████████████████| 100/100 [00:18<00:00,  5.32it/s]\n",
      "Calculating fitnesses: 100%|████████████████████████████| 200/200 [00:11<00:00, 16.67it/s]\n"
     ]
    },
    {
     "name": "stdout",
     "output_type": "stream",
     "text": [
      "[Generation: 100] \n",
      " Average Fitness: 488.645 \n",
      " Best Fitness: 500.0 \n",
      " Worst Fitness: 10.0 \n",
      " Standard Error: 4.186019430000499\n"
     ]
    },
    {
     "name": "stderr",
     "output_type": "stream",
     "text": [
      "Generating Offspring: 100%|█████████████████████████████| 100/100 [00:17<00:00,  5.64it/s]\n"
     ]
    }
   ],
   "source": [
    "# Version 1:\n",
    "# Run the genetic algorithm\n",
    "population, history, history_std = main(POPULATION_SIZE=200, \n",
    "                            GENERATIONS=100, \n",
    "                            ELITISM=100, \n",
    "                            TOURNAMENT_SIZE=3, \n",
    "                            MUTATION_STRENGTH=1, \n",
    "                            MUTATION_RATE=0.01)"
   ]
  },
  {
   "cell_type": "code",
   "execution_count": 9,
   "id": "037003f9",
   "metadata": {},
   "outputs": [
    {
     "data": {
      "image/png": "[encoded data removed]",
      "text/plain": [
       "<Figure size 2000x1500 with 1 Axes>"
      ]
     },
     "metadata": {},
     "output_type": "display_data"
    }
   ],
   "source": [
    "plt.figure(figsize=(20, 15))\n",
    "plt.plot(np.arange(100), np.array(history)[:,0], marker='o', linestyle='-', label='Average Fitness')\n",
    "plt.plot(np.arange(100), np.array(history)[:,1], marker='^', linestyle='-', label='Max Fitness')\n",
    "plt.plot(np.arange(100), np.array(history)[:,2], marker='s', linestyle='-', label='Min Fitness')\n",
    "plt.axhline(y=500, color='r', linewidth=1, label='Max Fitness in Cartpole problem')\n",
    "plt.fill_between(np.arange(100), 0, np.array(history)[:,0] + np.array(history)[:,1],\n",
    "                 alpha=0.2, color='blue', label='Standard Error')\n",
    "\n",
    "plt.xlabel('Generations')\n",
    "plt.ylabel('Fitness')\n",
    "plt.title('Fitness History')\n",
    "plt.grid()\n",
    "plt.legend()\n",
    "plt.show()"
   ]
  },
  {
   "cell_type": "code",
   "execution_count": null,
   "id": "b3af392e",
   "metadata": {},
   "outputs": [],
   "source": []
  }
 ],
 "metadata": {
  "kernelspec": {
   "display_name": "Python 3 (ipykernel)",
   "language": "python",
   "name": "python3"
  },
  "language_info": {
   "codemirror_mode": {
    "name": "ipython",
    "version": 3
   },
   "file_extension": ".py",
   "mimetype": "text/x-python",
   "name": "python",
   "nbconvert_exporter": "python",
   "pygments_lexer": "ipython3",
   "version": "3.11.3"
  }
 },
 "nbformat": 4,
 "nbformat_minor": 5
}
