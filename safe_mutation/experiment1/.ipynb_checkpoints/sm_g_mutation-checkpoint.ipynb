{
 "cells": [
  {
   "cell_type": "code",
   "execution_count": 1,
   "id": "cff20e7d",
   "metadata": {},
   "outputs": [],
   "source": [
    "import torch\n",
    "import gym\n",
    "import numpy as np\n",
    "import random\n",
    "import matplotlib.pyplot as plt\n",
    "import statistics\n",
    "\n",
    "from torch import nn\n",
    "from copy import deepcopy\n",
    "from tqdm import tqdm\n",
    "\n",
    "from bayes_opt import BayesianOptimization"
   ]
  },
  {
   "cell_type": "code",
   "execution_count": 2,
   "id": "c7205bff",
   "metadata": {},
   "outputs": [
    {
     "name": "stderr",
     "output_type": "stream",
     "text": [
      "/Users/jinhyunpark/miniforge3/envs/tilda/lib/python3.11/site-packages/gym/core.py:329: DeprecationWarning: \u001b[33mWARN: Initializing wrapper in old step API which returns one bool instead of two. It is recommended to set `new_step_api=True` to use new step API. This will be the default behaviour in future.\u001b[0m\n",
      "  deprecation(\n",
      "/Users/jinhyunpark/miniforge3/envs/tilda/lib/python3.11/site-packages/gym/wrappers/step_api_compatibility.py:39: DeprecationWarning: \u001b[33mWARN: Initializing environment in old step API which returns one bool instead of two. It is recommended to set `new_step_api=True` to use new step API. This will be the default behaviour in future.\u001b[0m\n",
      "  deprecation(\n"
     ]
    }
   ],
   "source": [
    "# Use the following gym version.\n",
    "# pip install gym==0.25.0\n",
    "# pip install pygame\n",
    "\n",
    "seed = 0\n",
    "torch.manual_seed(seed)\n",
    "np.random.seed(seed)\n",
    "random.seed(seed)\n",
    "\n",
    "# define global variable \n",
    "MAX_EP = 1\n",
    "env = gym.make('CartPole-v1')"
   ]
  },
  {
   "cell_type": "code",
   "execution_count": 3,
   "id": "24c2802b",
   "metadata": {},
   "outputs": [],
   "source": [
    "# Define network architecture\n",
    "class Network(nn.Module):\n",
    "    def __init__(self, env):\n",
    "        super().__init__()\n",
    "\n",
    "        in_features = int(np.prod(env.observation_space.shape))\n",
    "        self.net = nn.Sequential(\n",
    "            nn.Linear(in_features, 64),\n",
    "            nn.Tanh(),\n",
    "            nn.Linear(64, env.action_space.n)\n",
    "        )\n",
    "\n",
    "    def forward(self, x):\n",
    "        return self.net(x)\n",
    "\n",
    "    def act(self, state):\n",
    "        state_t = torch.as_tensor(state, dtype=torch.float32)\n",
    "        q_values = self.forward(state_t.unsqueeze(0))                           # 'q_values' outputs two values (left or right)\n",
    "        max_q_index = torch.argmax(q_values, dim=1)[0]                          # find an index that corresponds to the maximum value  \n",
    "        action = max_q_index.detach().item()                                    # 0 or 1\n",
    "        return action                                                           # 0 or 1"
   ]
  },
  {
   "cell_type": "code",
   "execution_count": 4,
   "id": "562f1c95",
   "metadata": {},
   "outputs": [],
   "source": [
    "def calculate_fitness(network, env, num_episodes=MAX_EP):\n",
    "    total_rewards = 0\n",
    "    for _ in range(num_episodes):\n",
    "        reward, _ = run_episode(network, env)\n",
    "        total_rewards += reward\n",
    "    avg_reward = total_rewards / num_episodes\n",
    "    return avg_reward"
   ]
  },
  {
   "cell_type": "code",
   "execution_count": 5,
   "id": "3406fb93",
   "metadata": {},
   "outputs": [],
   "source": [
    "def run_episode(network, env):\n",
    "    state = env.reset()\n",
    "    total_reward = 0.0\n",
    "    log_probs = []  # Store log probabilities of actions\n",
    "    done = False\n",
    "    while not done:\n",
    "        state_t = torch.as_tensor(state, dtype=torch.float32)\n",
    "        q_values = network(state_t.unsqueeze(0))\n",
    "        action_probs = nn.functional.softmax(q_values, dim=1)\n",
    "        action_dist = torch.distributions.Categorical(action_probs)\n",
    "        action = action_dist.sample()\n",
    "        log_prob = action_dist.log_prob(action)\n",
    "        log_probs.append(log_prob)\n",
    "        state, reward, done, _ = env.step(action.item())\n",
    "        total_reward += reward\n",
    "    return total_reward, log_probs"
   ]
  },
  {
   "cell_type": "code",
   "execution_count": 6,
   "id": "032a551d",
   "metadata": {},
   "outputs": [],
   "source": [
    "def prepare_mutation(network, env, num_episodes=MAX_EP):\n",
    "    total_rewards = 0\n",
    "    all_grads = []  # List of list of gradients\n",
    "    for _ in range(num_episodes):\n",
    "        reward, log_probs = run_episode(network, env)\n",
    "        total_rewards += reward\n",
    "        loss = -reward * torch.stack(log_probs).sum()\n",
    "        loss.backward()  # Calculate gradients\n",
    "\n",
    "        grads = []  # List of gradients for this episode\n",
    "        # Store gradients and zero them\n",
    "        for param in network.parameters():\n",
    "            grads.append(param.grad.clone())\n",
    "            param.grad = None\n",
    "        \n",
    "        all_grads.append(grads)  # Append the list of gradients for this episode to the overall list\n",
    "    \n",
    "    avg_reward = total_rewards / num_episodes\n",
    "    \n",
    "    return avg_reward, all_grads  # Return list of list of gradients"
   ]
  },
  {
   "cell_type": "code",
   "execution_count": 7,
   "id": "b62df800",
   "metadata": {},
   "outputs": [],
   "source": [
    "def mutate_and_tournament(population, tournament_size, mutation_rate, mutation_strength):\n",
    "    \n",
    "    # Select individuals for the tournament\n",
    "    individuals = random.sample(population, tournament_size)\n",
    "    # Calculate fitness for each individual\n",
    "    fitnesses = [calculate_fitness(individual, env) for individual in individuals]\n",
    "    # Select the best individual\n",
    "    parent = individuals[np.argmax(fitnesses)]\n",
    "    \n",
    "    # Create offspring by deep copying the parent\n",
    "    offspring = deepcopy(parent)\n",
    "    \n",
    "    # Calculate fitness and gradients for the offspring\n",
    "    _, all_grads = prepare_mutation(offspring, env)\n",
    "    \n",
    "    grads = []\n",
    "    # Average gradients over episodes \n",
    "    for grad in zip(*all_grads):\n",
    "        grads.append(sum(grad)/len(grad))\n",
    "    \n",
    "    # Apply mutation\n",
    "    with torch.no_grad():\n",
    "        for param, grad in zip(offspring.parameters(), grads):\n",
    "            if (grad is not None) and (random.random() < mutation_rate):\n",
    "                # print(\"mutation activated\")\n",
    "                delta = torch.randn_like(param)\n",
    "                grad_sum = torch.sum(grad)\n",
    "                if grad_sum != 0:\n",
    "                    param.add_(mutation_strength * delta * grad / grad_sum)\n",
    "    \n",
    "    # Return the mutated offspring\n",
    "    return offspring"
   ]
  },
  {
   "cell_type": "code",
   "execution_count": 8,
   "id": "0e6f4b95",
   "metadata": {},
   "outputs": [],
   "source": [
    "# Define genetic algorithm\n",
    "def main(POPULATION_SIZE, GENERATIONS, ELITISM, TOURNAMENT_SIZE, MUTATION_STRENGTH, MUTATION_RATE):\n",
    "    \n",
    "    FITNESS_HISTORY = list()\n",
    "    FITNESS_STDERROR_HISTORY = list()\n",
    "    \n",
    "    # Create initial population\n",
    "    population = [Network(env) for _ in range(POPULATION_SIZE)]\n",
    "\n",
    "    for generation in range(1, GENERATIONS + 1):\n",
    "\n",
    "        # Calculate fitness for each network\n",
    "        fitnesses = [calculate_fitness(network, env) for network in tqdm(population, desc=\"Calculating fitnesses\")]\n",
    "        \n",
    "        # average fitness \n",
    "        avg_fitness = np.average(fitnesses)\n",
    "        max_fitness = np.max(fitnesses)\n",
    "        min_fitness = np.min(fitnesses)\n",
    "        FITNESS_HISTORY.append([avg_fitness, max_fitness, min_fitness])\n",
    "        \n",
    "        # std error\n",
    "        standard_deviation = statistics.stdev(fitnesses)\n",
    "        standard_error = standard_deviation / (POPULATION_SIZE ** 0.5)\n",
    "        FITNESS_STDERROR_HISTORY.append(standard_error)\n",
    "\n",
    "        print(f\"[Generation: {generation}] \\n Average Fitness: {avg_fitness} \\n Best Fitness: {max_fitness} \\n Worst Fitness: {min_fitness} \\n Standard Error: {standard_error}\")\n",
    "        \n",
    "        # Sort population by fitness\n",
    "        population = [x for _, x in sorted(zip(fitnesses, population), key=lambda pair: pair[0], reverse=True)]\n",
    "        \n",
    "        # Select the best networks to pass their genes to the next generation\n",
    "        survivors = population[:ELITISM]\n",
    "        \n",
    "        # Create the next generation\n",
    "        next_population = survivors  # Start with the survivors\n",
    "        \n",
    "        num_individuals_to_add = POPULATION_SIZE - len(next_population)\n",
    "        # Add offspring by tournament selection and mutation\n",
    "        for _ in tqdm(range(num_individuals_to_add), desc=\"Generating Offspring\"):\n",
    "            offspring = mutate_and_tournament(population, TOURNAMENT_SIZE, MUTATION_RATE, MUTATION_STRENGTH)\n",
    "            next_population.append(offspring)\n",
    "\n",
    "        # The next generation becomes the current population\n",
    "        population = next_population\n",
    "\n",
    "    return population, FITNESS_HISTORY, FITNESS_STDERROR_HISTORY"
   ]
  },
  {
   "cell_type": "markdown",
   "id": "58016015",
   "metadata": {},
   "source": [
    "### Version Control"
   ]
  },
  {
   "cell_type": "code",
   "execution_count": 9,
   "id": "5345a1c9",
   "metadata": {
    "scrolled": true
   },
   "outputs": [
    {
     "name": "stderr",
     "output_type": "stream",
     "text": [
      "Calculating fitnesses:   0%|                                       | 0/200 [00:00<?, ?it/s]/Users/jinhyunpark/miniforge3/envs/tilda/lib/python3.11/site-packages/gym/utils/passive_env_checker.py:241: DeprecationWarning: `np.bool8` is a deprecated alias for `np.bool_`.  (Deprecated NumPy 1.24)\n",
      "  if not isinstance(terminated, (bool, np.bool8)):\n",
      "Calculating fitnesses: 100%|████████████████████████████| 200/200 [00:00<00:00, 555.48it/s]\n"
     ]
    },
    {
     "name": "stdout",
     "output_type": "stream",
     "text": [
      "[Generation: 1] \n",
      " Average Fitness: 21.905 \n",
      " Best Fitness: 62.0 \n",
      " Worst Fitness: 9.0 \n",
      " Standard Error: 0.7382785048704646\n"
     ]
    },
    {
     "name": "stderr",
     "output_type": "stream",
     "text": [
      "Generating Offspring: 100%|█████████████████████████████| 100/100 [00:00<00:00, 119.05it/s]\n",
      "Calculating fitnesses: 100%|████████████████████████████| 200/200 [00:00<00:00, 545.07it/s]\n"
     ]
    },
    {
     "name": "stdout",
     "output_type": "stream",
     "text": [
      "[Generation: 2] \n",
      " Average Fitness: 22.785 \n",
      " Best Fitness: 86.0 \n",
      " Worst Fitness: 9.0 \n",
      " Standard Error: 0.910157021628741\n"
     ]
    },
    {
     "name": "stderr",
     "output_type": "stream",
     "text": [
      "Generating Offspring: 100%|█████████████████████████████| 100/100 [00:00<00:00, 121.61it/s]\n",
      "Calculating fitnesses: 100%|████████████████████████████| 200/200 [00:00<00:00, 577.55it/s]\n"
     ]
    },
    {
     "name": "stdout",
     "output_type": "stream",
     "text": [
      "[Generation: 3] \n",
      " Average Fitness: 21.505 \n",
      " Best Fitness: 91.0 \n",
      " Worst Fitness: 9.0 \n",
      " Standard Error: 0.8463637118067602\n"
     ]
    },
    {
     "name": "stderr",
     "output_type": "stream",
     "text": [
      "Generating Offspring: 100%|█████████████████████████████| 100/100 [00:00<00:00, 114.59it/s]\n",
      "Calculating fitnesses: 100%|████████████████████████████| 200/200 [00:00<00:00, 478.79it/s]\n"
     ]
    },
    {
     "name": "stdout",
     "output_type": "stream",
     "text": [
      "[Generation: 4] \n",
      " Average Fitness: 22.875 \n",
      " Best Fitness: 115.0 \n",
      " Worst Fitness: 9.0 \n",
      " Standard Error: 0.986973891403191\n"
     ]
    },
    {
     "name": "stderr",
     "output_type": "stream",
     "text": [
      "Generating Offspring: 100%|█████████████████████████████| 100/100 [00:00<00:00, 111.83it/s]\n",
      "Calculating fitnesses: 100%|████████████████████████████| 200/200 [00:00<00:00, 504.83it/s]\n"
     ]
    },
    {
     "name": "stdout",
     "output_type": "stream",
     "text": [
      "[Generation: 5] \n",
      " Average Fitness: 24.64 \n",
      " Best Fitness: 88.0 \n",
      " Worst Fitness: 9.0 \n",
      " Standard Error: 0.9893665807756894\n"
     ]
    },
    {
     "name": "stderr",
     "output_type": "stream",
     "text": [
      "Generating Offspring: 100%|█████████████████████████████| 100/100 [00:00<00:00, 103.70it/s]\n",
      "Calculating fitnesses: 100%|████████████████████████████| 200/200 [00:00<00:00, 482.70it/s]\n"
     ]
    },
    {
     "name": "stdout",
     "output_type": "stream",
     "text": [
      "[Generation: 6] \n",
      " Average Fitness: 25.625 \n",
      " Best Fitness: 88.0 \n",
      " Worst Fitness: 8.0 \n",
      " Standard Error: 1.0588805480673336\n"
     ]
    },
    {
     "name": "stderr",
     "output_type": "stream",
     "text": [
      "Generating Offspring: 100%|█████████████████████████████| 100/100 [00:00<00:00, 109.23it/s]\n",
      "Calculating fitnesses: 100%|████████████████████████████| 200/200 [00:00<00:00, 498.19it/s]\n"
     ]
    },
    {
     "name": "stdout",
     "output_type": "stream",
     "text": [
      "[Generation: 7] \n",
      " Average Fitness: 24.705 \n",
      " Best Fitness: 79.0 \n",
      " Worst Fitness: 9.0 \n",
      " Standard Error: 0.9949823235216809\n"
     ]
    },
    {
     "name": "stderr",
     "output_type": "stream",
     "text": [
      "Generating Offspring: 100%|█████████████████████████████| 100/100 [00:00<00:00, 102.12it/s]\n",
      "Calculating fitnesses: 100%|████████████████████████████| 200/200 [00:00<00:00, 458.34it/s]\n"
     ]
    },
    {
     "name": "stdout",
     "output_type": "stream",
     "text": [
      "[Generation: 8] \n",
      " Average Fitness: 26.675 \n",
      " Best Fitness: 182.0 \n",
      " Worst Fitness: 9.0 \n",
      " Standard Error: 1.244241762204625\n"
     ]
    },
    {
     "name": "stderr",
     "output_type": "stream",
     "text": [
      "Generating Offspring: 100%|██████████████████████████████| 100/100 [00:01<00:00, 94.42it/s]\n",
      "Calculating fitnesses: 100%|████████████████████████████| 200/200 [00:00<00:00, 429.80it/s]\n"
     ]
    },
    {
     "name": "stdout",
     "output_type": "stream",
     "text": [
      "[Generation: 9] \n",
      " Average Fitness: 29.21 \n",
      " Best Fitness: 131.0 \n",
      " Worst Fitness: 9.0 \n",
      " Standard Error: 1.348972994801422\n"
     ]
    },
    {
     "name": "stderr",
     "output_type": "stream",
     "text": [
      "Generating Offspring: 100%|██████████████████████████████| 100/100 [00:01<00:00, 98.34it/s]\n",
      "Calculating fitnesses: 100%|████████████████████████████| 200/200 [00:00<00:00, 427.90it/s]\n"
     ]
    },
    {
     "name": "stdout",
     "output_type": "stream",
     "text": [
      "[Generation: 10] \n",
      " Average Fitness: 28.775 \n",
      " Best Fitness: 135.0 \n",
      " Worst Fitness: 9.0 \n",
      " Standard Error: 1.3901382292716116\n"
     ]
    },
    {
     "name": "stderr",
     "output_type": "stream",
     "text": [
      "Generating Offspring: 100%|██████████████████████████████| 100/100 [00:01<00:00, 84.83it/s]\n",
      "Calculating fitnesses: 100%|████████████████████████████| 200/200 [00:00<00:00, 373.74it/s]\n"
     ]
    },
    {
     "name": "stdout",
     "output_type": "stream",
     "text": [
      "[Generation: 11] \n",
      " Average Fitness: 33.115 \n",
      " Best Fitness: 162.0 \n",
      " Worst Fitness: 9.0 \n",
      " Standard Error: 1.627452575168355\n"
     ]
    },
    {
     "name": "stderr",
     "output_type": "stream",
     "text": [
      "Generating Offspring: 100%|██████████████████████████████| 100/100 [00:01<00:00, 76.84it/s]\n",
      "Calculating fitnesses: 100%|████████████████████████████| 200/200 [00:00<00:00, 305.17it/s]\n"
     ]
    },
    {
     "name": "stdout",
     "output_type": "stream",
     "text": [
      "[Generation: 12] \n",
      " Average Fitness: 41.105 \n",
      " Best Fitness: 144.0 \n",
      " Worst Fitness: 9.0 \n",
      " Standard Error: 2.058667148214028\n"
     ]
    },
    {
     "name": "stderr",
     "output_type": "stream",
     "text": [
      "Generating Offspring: 100%|██████████████████████████████| 100/100 [00:01<00:00, 62.78it/s]\n",
      "Calculating fitnesses: 100%|████████████████████████████| 200/200 [00:00<00:00, 248.99it/s]\n"
     ]
    },
    {
     "name": "stdout",
     "output_type": "stream",
     "text": [
      "[Generation: 13] \n",
      " Average Fitness: 49.32 \n",
      " Best Fitness: 166.0 \n",
      " Worst Fitness: 10.0 \n",
      " Standard Error: 2.2850921712604455\n"
     ]
    },
    {
     "name": "stderr",
     "output_type": "stream",
     "text": [
      "Generating Offspring: 100%|██████████████████████████████| 100/100 [00:01<00:00, 52.94it/s]\n",
      "Calculating fitnesses: 100%|████████████████████████████| 200/200 [00:00<00:00, 219.85it/s]\n"
     ]
    },
    {
     "name": "stdout",
     "output_type": "stream",
     "text": [
      "[Generation: 14] \n",
      " Average Fitness: 56.445 \n",
      " Best Fitness: 153.0 \n",
      " Worst Fitness: 10.0 \n",
      " Standard Error: 2.131678951144794\n"
     ]
    },
    {
     "name": "stderr",
     "output_type": "stream",
     "text": [
      "Generating Offspring: 100%|██████████████████████████████| 100/100 [00:02<00:00, 44.01it/s]\n",
      "Calculating fitnesses: 100%|████████████████████████████| 200/200 [00:00<00:00, 206.62it/s]\n"
     ]
    },
    {
     "name": "stdout",
     "output_type": "stream",
     "text": [
      "[Generation: 15] \n",
      " Average Fitness: 60.39 \n",
      " Best Fitness: 157.0 \n",
      " Worst Fitness: 8.0 \n",
      " Standard Error: 2.055312885007142\n"
     ]
    },
    {
     "name": "stderr",
     "output_type": "stream",
     "text": [
      "Generating Offspring: 100%|██████████████████████████████| 100/100 [00:02<00:00, 43.98it/s]\n",
      "Calculating fitnesses: 100%|████████████████████████████| 200/200 [00:01<00:00, 199.84it/s]\n"
     ]
    },
    {
     "name": "stdout",
     "output_type": "stream",
     "text": [
      "[Generation: 16] \n",
      " Average Fitness: 62.57 \n",
      " Best Fitness: 171.0 \n",
      " Worst Fitness: 12.0 \n",
      " Standard Error: 2.118896911273178\n"
     ]
    },
    {
     "name": "stderr",
     "output_type": "stream",
     "text": [
      "Generating Offspring: 100%|██████████████████████████████| 100/100 [00:02<00:00, 44.58it/s]\n",
      "Calculating fitnesses: 100%|████████████████████████████| 200/200 [00:00<00:00, 200.01it/s]\n"
     ]
    },
    {
     "name": "stdout",
     "output_type": "stream",
     "text": [
      "[Generation: 17] \n",
      " Average Fitness: 62.165 \n",
      " Best Fitness: 197.0 \n",
      " Worst Fitness: 9.0 \n",
      " Standard Error: 2.3162065839856543\n"
     ]
    },
    {
     "name": "stderr",
     "output_type": "stream",
     "text": [
      "Generating Offspring: 100%|██████████████████████████████| 100/100 [00:02<00:00, 43.48it/s]\n",
      "Calculating fitnesses: 100%|████████████████████████████| 200/200 [00:01<00:00, 193.09it/s]\n"
     ]
    },
    {
     "name": "stdout",
     "output_type": "stream",
     "text": [
      "[Generation: 18] \n",
      " Average Fitness: 64.305 \n",
      " Best Fitness: 196.0 \n",
      " Worst Fitness: 16.0 \n",
      " Standard Error: 2.2334280555677153\n"
     ]
    },
    {
     "name": "stderr",
     "output_type": "stream",
     "text": [
      "Generating Offspring: 100%|██████████████████████████████| 100/100 [00:02<00:00, 43.38it/s]\n",
      "Calculating fitnesses: 100%|████████████████████████████| 200/200 [00:01<00:00, 195.03it/s]\n"
     ]
    },
    {
     "name": "stdout",
     "output_type": "stream",
     "text": [
      "[Generation: 19] \n",
      " Average Fitness: 60.995 \n",
      " Best Fitness: 156.0 \n",
      " Worst Fitness: 10.0 \n",
      " Standard Error: 2.0489425818010587\n"
     ]
    },
    {
     "name": "stderr",
     "output_type": "stream",
     "text": [
      "Generating Offspring: 100%|██████████████████████████████| 100/100 [00:02<00:00, 44.32it/s]\n",
      "Calculating fitnesses: 100%|████████████████████████████| 200/200 [00:01<00:00, 199.67it/s]\n"
     ]
    },
    {
     "name": "stdout",
     "output_type": "stream",
     "text": [
      "[Generation: 20] \n",
      " Average Fitness: 62.445 \n",
      " Best Fitness: 172.0 \n",
      " Worst Fitness: 10.0 \n",
      " Standard Error: 2.3015583261440966\n"
     ]
    },
    {
     "name": "stderr",
     "output_type": "stream",
     "text": [
      "Generating Offspring: 100%|██████████████████████████████| 100/100 [00:02<00:00, 45.01it/s]\n",
      "Calculating fitnesses: 100%|████████████████████████████| 200/200 [00:00<00:00, 209.35it/s]\n"
     ]
    },
    {
     "name": "stdout",
     "output_type": "stream",
     "text": [
      "[Generation: 21] \n",
      " Average Fitness: 58.555 \n",
      " Best Fitness: 178.0 \n",
      " Worst Fitness: 9.0 \n",
      " Standard Error: 2.240397684322941\n"
     ]
    },
    {
     "name": "stderr",
     "output_type": "stream",
     "text": [
      "Generating Offspring: 100%|██████████████████████████████| 100/100 [00:02<00:00, 41.75it/s]\n",
      "Calculating fitnesses: 100%|████████████████████████████| 200/200 [00:00<00:00, 213.72it/s]\n"
     ]
    },
    {
     "name": "stdout",
     "output_type": "stream",
     "text": [
      "[Generation: 22] \n",
      " Average Fitness: 58.13 \n",
      " Best Fitness: 160.0 \n",
      " Worst Fitness: 8.0 \n",
      " Standard Error: 2.272550976259607\n"
     ]
    },
    {
     "name": "stderr",
     "output_type": "stream",
     "text": [
      "Generating Offspring: 100%|██████████████████████████████| 100/100 [00:02<00:00, 42.90it/s]\n",
      "Calculating fitnesses: 100%|████████████████████████████| 200/200 [00:01<00:00, 199.07it/s]\n"
     ]
    },
    {
     "name": "stdout",
     "output_type": "stream",
     "text": [
      "[Generation: 23] \n",
      " Average Fitness: 62.075 \n",
      " Best Fitness: 209.0 \n",
      " Worst Fitness: 8.0 \n",
      " Standard Error: 2.3646999607820463\n"
     ]
    },
    {
     "name": "stderr",
     "output_type": "stream",
     "text": [
      "Generating Offspring: 100%|██████████████████████████████| 100/100 [00:02<00:00, 42.32it/s]\n",
      "Calculating fitnesses: 100%|████████████████████████████| 200/200 [00:01<00:00, 185.10it/s]\n"
     ]
    },
    {
     "name": "stdout",
     "output_type": "stream",
     "text": [
      "[Generation: 24] \n",
      " Average Fitness: 67.31 \n",
      " Best Fitness: 500.0 \n",
      " Worst Fitness: 9.0 \n",
      " Standard Error: 3.0866822864830845\n"
     ]
    },
    {
     "name": "stderr",
     "output_type": "stream",
     "text": [
      "Generating Offspring: 100%|██████████████████████████████| 100/100 [00:02<00:00, 39.86it/s]\n",
      "Calculating fitnesses: 100%|████████████████████████████| 200/200 [00:01<00:00, 180.93it/s]\n"
     ]
    },
    {
     "name": "stdout",
     "output_type": "stream",
     "text": [
      "[Generation: 25] \n",
      " Average Fitness: 68.89 \n",
      " Best Fitness: 249.0 \n",
      " Worst Fitness: 9.0 \n",
      " Standard Error: 2.7792102381321735\n"
     ]
    },
    {
     "name": "stderr",
     "output_type": "stream",
     "text": [
      "Generating Offspring: 100%|██████████████████████████████| 100/100 [00:02<00:00, 35.89it/s]\n",
      "Calculating fitnesses: 100%|████████████████████████████| 200/200 [00:01<00:00, 145.86it/s]\n"
     ]
    },
    {
     "name": "stdout",
     "output_type": "stream",
     "text": [
      "[Generation: 26] \n",
      " Average Fitness: 84.765 \n",
      " Best Fitness: 500.0 \n",
      " Worst Fitness: 12.0 \n",
      " Standard Error: 4.813204082803218\n"
     ]
    },
    {
     "name": "stderr",
     "output_type": "stream",
     "text": [
      "Generating Offspring: 100%|██████████████████████████████| 100/100 [00:03<00:00, 28.10it/s]\n",
      "Calculating fitnesses: 100%|████████████████████████████| 200/200 [00:01<00:00, 116.91it/s]\n"
     ]
    },
    {
     "name": "stdout",
     "output_type": "stream",
     "text": [
      "[Generation: 27] \n",
      " Average Fitness: 105.58 \n",
      " Best Fitness: 500.0 \n",
      " Worst Fitness: 11.0 \n",
      " Standard Error: 5.892019813903988\n"
     ]
    },
    {
     "name": "stderr",
     "output_type": "stream",
     "text": [
      "Generating Offspring: 100%|██████████████████████████████| 100/100 [00:04<00:00, 21.33it/s]\n",
      "Calculating fitnesses: 100%|█████████████████████████████| 200/200 [00:02<00:00, 79.84it/s]\n"
     ]
    },
    {
     "name": "stdout",
     "output_type": "stream",
     "text": [
      "[Generation: 28] \n",
      " Average Fitness: 151.155 \n",
      " Best Fitness: 500.0 \n",
      " Worst Fitness: 12.0 \n",
      " Standard Error: 7.794983238818883\n"
     ]
    },
    {
     "name": "stderr",
     "output_type": "stream",
     "text": [
      "Generating Offspring: 100%|██████████████████████████████| 100/100 [00:06<00:00, 15.27it/s]\n",
      "Calculating fitnesses: 100%|█████████████████████████████| 200/200 [00:03<00:00, 55.93it/s]\n"
     ]
    },
    {
     "name": "stdout",
     "output_type": "stream",
     "text": [
      "[Generation: 29] \n",
      " Average Fitness: 215.575 \n",
      " Best Fitness: 500.0 \n",
      " Worst Fitness: 30.0 \n",
      " Standard Error: 8.853743033515123\n"
     ]
    },
    {
     "name": "stderr",
     "output_type": "stream",
     "text": [
      "Generating Offspring: 100%|██████████████████████████████| 100/100 [00:08<00:00, 12.23it/s]\n",
      "Calculating fitnesses: 100%|█████████████████████████████| 200/200 [00:03<00:00, 50.88it/s]\n"
     ]
    },
    {
     "name": "stdout",
     "output_type": "stream",
     "text": [
      "[Generation: 30] \n",
      " Average Fitness: 238.715 \n",
      " Best Fitness: 500.0 \n",
      " Worst Fitness: 89.0 \n",
      " Standard Error: 7.193392338925254\n"
     ]
    },
    {
     "name": "stderr",
     "output_type": "stream",
     "text": [
      "Generating Offspring: 100%|██████████████████████████████| 100/100 [00:09<00:00, 10.39it/s]\n",
      "Calculating fitnesses: 100%|█████████████████████████████| 200/200 [00:04<00:00, 42.81it/s]\n"
     ]
    },
    {
     "name": "stdout",
     "output_type": "stream",
     "text": [
      "[Generation: 31] \n",
      " Average Fitness: 278.16 \n",
      " Best Fitness: 500.0 \n",
      " Worst Fitness: 102.0 \n",
      " Standard Error: 5.490944761319248\n"
     ]
    },
    {
     "name": "stderr",
     "output_type": "stream",
     "text": [
      "Generating Offspring: 100%|██████████████████████████████| 100/100 [00:10<00:00,  9.79it/s]\n",
      "Calculating fitnesses: 100%|█████████████████████████████| 200/200 [00:04<00:00, 41.75it/s]\n"
     ]
    },
    {
     "name": "stdout",
     "output_type": "stream",
     "text": [
      "[Generation: 32] \n",
      " Average Fitness: 291.105 \n",
      " Best Fitness: 441.0 \n",
      " Worst Fitness: 111.0 \n",
      " Standard Error: 3.9599527781307096\n"
     ]
    },
    {
     "name": "stderr",
     "output_type": "stream",
     "text": [
      "Generating Offspring: 100%|██████████████████████████████| 100/100 [00:10<00:00,  9.10it/s]\n",
      "Calculating fitnesses: 100%|█████████████████████████████| 200/200 [00:04<00:00, 41.75it/s]\n"
     ]
    },
    {
     "name": "stdout",
     "output_type": "stream",
     "text": [
      "[Generation: 33] \n",
      " Average Fitness: 289.23 \n",
      " Best Fitness: 424.0 \n",
      " Worst Fitness: 115.0 \n",
      " Standard Error: 3.6495453699105007\n"
     ]
    },
    {
     "name": "stderr",
     "output_type": "stream",
     "text": [
      "Generating Offspring: 100%|██████████████████████████████| 100/100 [00:10<00:00,  9.18it/s]\n",
      "Calculating fitnesses: 100%|█████████████████████████████| 200/200 [00:04<00:00, 41.38it/s]\n"
     ]
    },
    {
     "name": "stdout",
     "output_type": "stream",
     "text": [
      "[Generation: 34] \n",
      " Average Fitness: 292.98 \n",
      " Best Fitness: 473.0 \n",
      " Worst Fitness: 187.0 \n",
      " Standard Error: 3.6927469314180588\n"
     ]
    },
    {
     "name": "stderr",
     "output_type": "stream",
     "text": [
      "Generating Offspring: 100%|██████████████████████████████| 100/100 [00:11<00:00,  9.03it/s]\n",
      "Calculating fitnesses: 100%|█████████████████████████████| 200/200 [00:04<00:00, 41.27it/s]\n"
     ]
    },
    {
     "name": "stdout",
     "output_type": "stream",
     "text": [
      "[Generation: 35] \n",
      " Average Fitness: 291.865 \n",
      " Best Fitness: 443.0 \n",
      " Worst Fitness: 187.0 \n",
      " Standard Error: 3.3159935071858166\n"
     ]
    },
    {
     "name": "stderr",
     "output_type": "stream",
     "text": [
      "Generating Offspring: 100%|██████████████████████████████| 100/100 [00:10<00:00,  9.10it/s]\n",
      "Calculating fitnesses: 100%|█████████████████████████████| 200/200 [00:04<00:00, 40.98it/s]\n"
     ]
    },
    {
     "name": "stdout",
     "output_type": "stream",
     "text": [
      "[Generation: 36] \n",
      " Average Fitness: 295.87 \n",
      " Best Fitness: 436.0 \n",
      " Worst Fitness: 186.0 \n",
      " Standard Error: 3.3401569938729816\n"
     ]
    },
    {
     "name": "stderr",
     "output_type": "stream",
     "text": [
      "Generating Offspring: 100%|██████████████████████████████| 100/100 [00:11<00:00,  9.04it/s]\n",
      "Calculating fitnesses: 100%|█████████████████████████████| 200/200 [00:04<00:00, 40.80it/s]\n"
     ]
    },
    {
     "name": "stdout",
     "output_type": "stream",
     "text": [
      "[Generation: 37] \n",
      " Average Fitness: 294.92 \n",
      " Best Fitness: 434.0 \n",
      " Worst Fitness: 191.0 \n",
      " Standard Error: 3.5021340227877973\n"
     ]
    },
    {
     "name": "stderr",
     "output_type": "stream",
     "text": [
      "Generating Offspring: 100%|██████████████████████████████| 100/100 [00:11<00:00,  9.06it/s]\n",
      "Calculating fitnesses: 100%|█████████████████████████████| 200/200 [00:04<00:00, 40.51it/s]\n"
     ]
    },
    {
     "name": "stdout",
     "output_type": "stream",
     "text": [
      "[Generation: 38] \n",
      " Average Fitness: 293.605 \n",
      " Best Fitness: 424.0 \n",
      " Worst Fitness: 189.0 \n",
      " Standard Error: 3.4946901394621914\n"
     ]
    },
    {
     "name": "stderr",
     "output_type": "stream",
     "text": [
      "Generating Offspring: 100%|██████████████████████████████| 100/100 [00:10<00:00,  9.27it/s]\n",
      "Calculating fitnesses: 100%|█████████████████████████████| 200/200 [00:04<00:00, 41.15it/s]\n"
     ]
    },
    {
     "name": "stdout",
     "output_type": "stream",
     "text": [
      "[Generation: 39] \n",
      " Average Fitness: 294.475 \n",
      " Best Fitness: 464.0 \n",
      " Worst Fitness: 191.0 \n",
      " Standard Error: 3.475325352615588\n"
     ]
    },
    {
     "name": "stderr",
     "output_type": "stream",
     "text": [
      "Generating Offspring: 100%|██████████████████████████████| 100/100 [00:11<00:00,  9.04it/s]\n",
      "Calculating fitnesses: 100%|█████████████████████████████| 200/200 [00:04<00:00, 42.20it/s]\n"
     ]
    },
    {
     "name": "stdout",
     "output_type": "stream",
     "text": [
      "[Generation: 40] \n",
      " Average Fitness: 287.11 \n",
      " Best Fitness: 410.0 \n",
      " Worst Fitness: 185.0 \n",
      " Standard Error: 3.4231607686816585\n"
     ]
    },
    {
     "name": "stderr",
     "output_type": "stream",
     "text": [
      "Generating Offspring: 100%|██████████████████████████████| 100/100 [00:10<00:00,  9.11it/s]\n",
      "Calculating fitnesses: 100%|█████████████████████████████| 200/200 [00:04<00:00, 40.53it/s]\n"
     ]
    },
    {
     "name": "stdout",
     "output_type": "stream",
     "text": [
      "[Generation: 41] \n",
      " Average Fitness: 299.62 \n",
      " Best Fitness: 437.0 \n",
      " Worst Fitness: 188.0 \n",
      " Standard Error: 3.504480692573882\n"
     ]
    },
    {
     "name": "stderr",
     "output_type": "stream",
     "text": [
      "Generating Offspring: 100%|██████████████████████████████| 100/100 [00:11<00:00,  8.97it/s]\n",
      "Calculating fitnesses: 100%|█████████████████████████████| 200/200 [00:04<00:00, 42.31it/s]\n"
     ]
    },
    {
     "name": "stdout",
     "output_type": "stream",
     "text": [
      "[Generation: 42] \n",
      " Average Fitness: 282.79 \n",
      " Best Fitness: 448.0 \n",
      " Worst Fitness: 165.0 \n",
      " Standard Error: 3.4421244316577337\n"
     ]
    },
    {
     "name": "stderr",
     "output_type": "stream",
     "text": [
      "Generating Offspring: 100%|██████████████████████████████| 100/100 [00:11<00:00,  9.08it/s]\n",
      "Calculating fitnesses: 100%|█████████████████████████████| 200/200 [00:04<00:00, 41.48it/s]\n"
     ]
    },
    {
     "name": "stdout",
     "output_type": "stream",
     "text": [
      "[Generation: 43] \n",
      " Average Fitness: 291.305 \n",
      " Best Fitness: 448.0 \n",
      " Worst Fitness: 195.0 \n",
      " Standard Error: 3.4732082796412946\n"
     ]
    },
    {
     "name": "stderr",
     "output_type": "stream",
     "text": [
      "Generating Offspring: 100%|██████████████████████████████| 100/100 [00:11<00:00,  8.77it/s]\n",
      "Calculating fitnesses: 100%|█████████████████████████████| 200/200 [00:04<00:00, 41.03it/s]\n"
     ]
    },
    {
     "name": "stdout",
     "output_type": "stream",
     "text": [
      "[Generation: 44] \n",
      " Average Fitness: 293.04 \n",
      " Best Fitness: 474.0 \n",
      " Worst Fitness: 187.0 \n",
      " Standard Error: 3.6615401652732893\n"
     ]
    },
    {
     "name": "stderr",
     "output_type": "stream",
     "text": [
      "Generating Offspring: 100%|██████████████████████████████| 100/100 [00:11<00:00,  9.04it/s]\n",
      "Calculating fitnesses: 100%|█████████████████████████████| 200/200 [00:04<00:00, 42.08it/s]\n"
     ]
    },
    {
     "name": "stdout",
     "output_type": "stream",
     "text": [
      "[Generation: 45] \n",
      " Average Fitness: 287.75 \n",
      " Best Fitness: 408.0 \n",
      " Worst Fitness: 193.0 \n",
      " Standard Error: 3.2521639490897125\n"
     ]
    },
    {
     "name": "stderr",
     "output_type": "stream",
     "text": [
      "Generating Offspring: 100%|██████████████████████████████| 100/100 [00:11<00:00,  8.99it/s]\n",
      "Calculating fitnesses: 100%|█████████████████████████████| 200/200 [00:04<00:00, 41.22it/s]\n"
     ]
    },
    {
     "name": "stdout",
     "output_type": "stream",
     "text": [
      "[Generation: 46] \n",
      " Average Fitness: 293.395 \n",
      " Best Fitness: 417.0 \n",
      " Worst Fitness: 191.0 \n",
      " Standard Error: 3.034242576834518\n"
     ]
    },
    {
     "name": "stderr",
     "output_type": "stream",
     "text": [
      "Generating Offspring: 100%|██████████████████████████████| 100/100 [00:10<00:00,  9.13it/s]\n",
      "Calculating fitnesses: 100%|█████████████████████████████| 200/200 [00:04<00:00, 41.47it/s]\n"
     ]
    },
    {
     "name": "stdout",
     "output_type": "stream",
     "text": [
      "[Generation: 47] \n",
      " Average Fitness: 288.93 \n",
      " Best Fitness: 408.0 \n",
      " Worst Fitness: 184.0 \n",
      " Standard Error: 3.5096529485257477\n"
     ]
    },
    {
     "name": "stderr",
     "output_type": "stream",
     "text": [
      "Generating Offspring: 100%|██████████████████████████████| 100/100 [00:11<00:00,  8.88it/s]\n",
      "Calculating fitnesses: 100%|█████████████████████████████| 200/200 [00:04<00:00, 41.05it/s]\n"
     ]
    },
    {
     "name": "stdout",
     "output_type": "stream",
     "text": [
      "[Generation: 48] \n",
      " Average Fitness: 295.875 \n",
      " Best Fitness: 445.0 \n",
      " Worst Fitness: 193.0 \n",
      " Standard Error: 3.4119722519740994\n"
     ]
    },
    {
     "name": "stderr",
     "output_type": "stream",
     "text": [
      "Generating Offspring: 100%|██████████████████████████████| 100/100 [00:10<00:00,  9.14it/s]\n",
      "Calculating fitnesses: 100%|█████████████████████████████| 200/200 [00:04<00:00, 41.52it/s]\n"
     ]
    },
    {
     "name": "stdout",
     "output_type": "stream",
     "text": [
      "[Generation: 49] \n",
      " Average Fitness: 290.19 \n",
      " Best Fitness: 438.0 \n",
      " Worst Fitness: 190.0 \n",
      " Standard Error: 3.203706945236217\n"
     ]
    },
    {
     "name": "stderr",
     "output_type": "stream",
     "text": [
      "Generating Offspring: 100%|██████████████████████████████| 100/100 [00:11<00:00,  9.03it/s]\n",
      "Calculating fitnesses: 100%|█████████████████████████████| 200/200 [00:04<00:00, 41.26it/s]\n"
     ]
    },
    {
     "name": "stdout",
     "output_type": "stream",
     "text": [
      "[Generation: 50] \n",
      " Average Fitness: 293.8 \n",
      " Best Fitness: 436.0 \n",
      " Worst Fitness: 190.0 \n",
      " Standard Error: 3.3166399416446404\n"
     ]
    },
    {
     "name": "stderr",
     "output_type": "stream",
     "text": [
      "Generating Offspring: 100%|██████████████████████████████| 100/100 [00:11<00:00,  9.08it/s]\n",
      "Calculating fitnesses: 100%|█████████████████████████████| 200/200 [00:04<00:00, 40.35it/s]\n"
     ]
    },
    {
     "name": "stdout",
     "output_type": "stream",
     "text": [
      "[Generation: 51] \n",
      " Average Fitness: 298.96 \n",
      " Best Fitness: 423.0 \n",
      " Worst Fitness: 191.0 \n",
      " Standard Error: 3.7680609624958863\n"
     ]
    },
    {
     "name": "stderr",
     "output_type": "stream",
     "text": [
      "Generating Offspring: 100%|██████████████████████████████| 100/100 [00:11<00:00,  9.00it/s]\n",
      "Calculating fitnesses: 100%|█████████████████████████████| 200/200 [00:04<00:00, 40.29it/s]\n"
     ]
    },
    {
     "name": "stdout",
     "output_type": "stream",
     "text": [
      "[Generation: 52] \n",
      " Average Fitness: 298.83 \n",
      " Best Fitness: 439.0 \n",
      " Worst Fitness: 186.0 \n",
      " Standard Error: 3.262379669126148\n"
     ]
    },
    {
     "name": "stderr",
     "output_type": "stream",
     "text": [
      "Generating Offspring: 100%|██████████████████████████████| 100/100 [00:10<00:00,  9.15it/s]\n",
      "Calculating fitnesses: 100%|█████████████████████████████| 200/200 [00:04<00:00, 41.55it/s]\n"
     ]
    },
    {
     "name": "stdout",
     "output_type": "stream",
     "text": [
      "[Generation: 53] \n",
      " Average Fitness: 292.04 \n",
      " Best Fitness: 427.0 \n",
      " Worst Fitness: 158.0 \n",
      " Standard Error: 3.5889055735809494\n"
     ]
    },
    {
     "name": "stderr",
     "output_type": "stream",
     "text": [
      "Generating Offspring: 100%|██████████████████████████████| 100/100 [00:11<00:00,  9.06it/s]\n",
      "Calculating fitnesses: 100%|█████████████████████████████| 200/200 [00:04<00:00, 41.32it/s]\n"
     ]
    },
    {
     "name": "stdout",
     "output_type": "stream",
     "text": [
      "[Generation: 54] \n",
      " Average Fitness: 292.565 \n",
      " Best Fitness: 444.0 \n",
      " Worst Fitness: 184.0 \n",
      " Standard Error: 3.5618058875947356\n"
     ]
    },
    {
     "name": "stderr",
     "output_type": "stream",
     "text": [
      "Generating Offspring: 100%|██████████████████████████████| 100/100 [00:10<00:00,  9.11it/s]\n",
      "Calculating fitnesses: 100%|█████████████████████████████| 200/200 [00:04<00:00, 40.66it/s]\n"
     ]
    },
    {
     "name": "stdout",
     "output_type": "stream",
     "text": [
      "[Generation: 55] \n",
      " Average Fitness: 296.645 \n",
      " Best Fitness: 439.0 \n",
      " Worst Fitness: 190.0 \n",
      " Standard Error: 3.5884088766933537\n"
     ]
    },
    {
     "name": "stderr",
     "output_type": "stream",
     "text": [
      "Generating Offspring: 100%|██████████████████████████████| 100/100 [00:11<00:00,  8.89it/s]\n",
      "Calculating fitnesses: 100%|█████████████████████████████| 200/200 [00:04<00:00, 40.47it/s]\n"
     ]
    },
    {
     "name": "stdout",
     "output_type": "stream",
     "text": [
      "[Generation: 56] \n",
      " Average Fitness: 296.6 \n",
      " Best Fitness: 500.0 \n",
      " Worst Fitness: 189.0 \n",
      " Standard Error: 3.6205096950928475\n"
     ]
    },
    {
     "name": "stderr",
     "output_type": "stream",
     "text": [
      "Generating Offspring: 100%|██████████████████████████████| 100/100 [00:11<00:00,  8.90it/s]\n",
      "Calculating fitnesses: 100%|█████████████████████████████| 200/200 [00:04<00:00, 40.46it/s]\n"
     ]
    },
    {
     "name": "stdout",
     "output_type": "stream",
     "text": [
      "[Generation: 57] \n",
      " Average Fitness: 296.495 \n",
      " Best Fitness: 435.0 \n",
      " Worst Fitness: 188.0 \n",
      " Standard Error: 3.7631444505597833\n"
     ]
    },
    {
     "name": "stderr",
     "output_type": "stream",
     "text": [
      "Generating Offspring: 100%|██████████████████████████████| 100/100 [00:11<00:00,  9.04it/s]\n",
      "Calculating fitnesses: 100%|█████████████████████████████| 200/200 [00:04<00:00, 40.17it/s]\n"
     ]
    },
    {
     "name": "stdout",
     "output_type": "stream",
     "text": [
      "[Generation: 58] \n",
      " Average Fitness: 299.49 \n",
      " Best Fitness: 455.0 \n",
      " Worst Fitness: 187.0 \n",
      " Standard Error: 3.563522550065331\n"
     ]
    },
    {
     "name": "stderr",
     "output_type": "stream",
     "text": [
      "Generating Offspring: 100%|██████████████████████████████| 100/100 [00:11<00:00,  8.91it/s]\n",
      "Calculating fitnesses: 100%|█████████████████████████████| 200/200 [00:04<00:00, 41.56it/s]\n"
     ]
    },
    {
     "name": "stdout",
     "output_type": "stream",
     "text": [
      "[Generation: 59] \n",
      " Average Fitness: 289.565 \n",
      " Best Fitness: 467.0 \n",
      " Worst Fitness: 188.0 \n",
      " Standard Error: 3.7343884587444864\n"
     ]
    },
    {
     "name": "stderr",
     "output_type": "stream",
     "text": [
      "Generating Offspring: 100%|██████████████████████████████| 100/100 [00:11<00:00,  9.05it/s]\n",
      "Calculating fitnesses: 100%|█████████████████████████████| 200/200 [00:04<00:00, 40.19it/s]\n"
     ]
    },
    {
     "name": "stdout",
     "output_type": "stream",
     "text": [
      "[Generation: 60] \n",
      " Average Fitness: 295.545 \n",
      " Best Fitness: 459.0 \n",
      " Worst Fitness: 190.0 \n",
      " Standard Error: 3.6450820278767044\n"
     ]
    },
    {
     "name": "stderr",
     "output_type": "stream",
     "text": [
      "Generating Offspring: 100%|██████████████████████████████| 100/100 [00:12<00:00,  8.20it/s]\n",
      "Calculating fitnesses: 100%|█████████████████████████████| 200/200 [00:05<00:00, 39.77it/s]\n"
     ]
    },
    {
     "name": "stdout",
     "output_type": "stream",
     "text": [
      "[Generation: 61] \n",
      " Average Fitness: 294.845 \n",
      " Best Fitness: 419.0 \n",
      " Worst Fitness: 184.0 \n",
      " Standard Error: 3.424307856557645\n"
     ]
    },
    {
     "name": "stderr",
     "output_type": "stream",
     "text": [
      "Generating Offspring: 100%|██████████████████████████████| 100/100 [00:11<00:00,  8.74it/s]\n",
      "Calculating fitnesses: 100%|█████████████████████████████| 200/200 [00:04<00:00, 40.85it/s]\n"
     ]
    },
    {
     "name": "stdout",
     "output_type": "stream",
     "text": [
      "[Generation: 62] \n",
      " Average Fitness: 294.585 \n",
      " Best Fitness: 435.0 \n",
      " Worst Fitness: 182.0 \n",
      " Standard Error: 3.6024648004097077\n"
     ]
    },
    {
     "name": "stderr",
     "output_type": "stream",
     "text": [
      "Generating Offspring: 100%|██████████████████████████████| 100/100 [00:10<00:00,  9.19it/s]\n",
      "Calculating fitnesses: 100%|█████████████████████████████| 200/200 [00:04<00:00, 40.21it/s]\n"
     ]
    },
    {
     "name": "stdout",
     "output_type": "stream",
     "text": [
      "[Generation: 63] \n",
      " Average Fitness: 301.965 \n",
      " Best Fitness: 473.0 \n",
      " Worst Fitness: 186.0 \n",
      " Standard Error: 3.914984597285783\n"
     ]
    },
    {
     "name": "stderr",
     "output_type": "stream",
     "text": [
      "Generating Offspring: 100%|██████████████████████████████| 100/100 [00:11<00:00,  9.08it/s]\n",
      "Calculating fitnesses: 100%|█████████████████████████████| 200/200 [00:04<00:00, 41.45it/s]\n"
     ]
    },
    {
     "name": "stdout",
     "output_type": "stream",
     "text": [
      "[Generation: 64] \n",
      " Average Fitness: 290.67 \n",
      " Best Fitness: 422.0 \n",
      " Worst Fitness: 189.0 \n",
      " Standard Error: 3.4229062117845657\n"
     ]
    },
    {
     "name": "stderr",
     "output_type": "stream",
     "text": [
      "Generating Offspring: 100%|██████████████████████████████| 100/100 [00:11<00:00,  9.05it/s]\n",
      "Calculating fitnesses: 100%|█████████████████████████████| 200/200 [00:04<00:00, 41.18it/s]\n"
     ]
    },
    {
     "name": "stdout",
     "output_type": "stream",
     "text": [
      "[Generation: 65] \n",
      " Average Fitness: 294.11 \n",
      " Best Fitness: 424.0 \n",
      " Worst Fitness: 189.0 \n",
      " Standard Error: 3.3908744666002018\n"
     ]
    },
    {
     "name": "stderr",
     "output_type": "stream",
     "text": [
      "Generating Offspring: 100%|██████████████████████████████| 100/100 [00:11<00:00,  8.95it/s]\n",
      "Calculating fitnesses: 100%|█████████████████████████████| 200/200 [00:04<00:00, 40.49it/s]\n"
     ]
    },
    {
     "name": "stdout",
     "output_type": "stream",
     "text": [
      "[Generation: 66] \n",
      " Average Fitness: 298.865 \n",
      " Best Fitness: 438.0 \n",
      " Worst Fitness: 195.0 \n",
      " Standard Error: 3.272327076789152\n"
     ]
    },
    {
     "name": "stderr",
     "output_type": "stream",
     "text": [
      "Generating Offspring: 100%|██████████████████████████████| 100/100 [00:11<00:00,  9.03it/s]\n",
      "Calculating fitnesses: 100%|█████████████████████████████| 200/200 [00:04<00:00, 41.16it/s]\n"
     ]
    },
    {
     "name": "stdout",
     "output_type": "stream",
     "text": [
      "[Generation: 67] \n",
      " Average Fitness: 294.675 \n",
      " Best Fitness: 450.0 \n",
      " Worst Fitness: 187.0 \n",
      " Standard Error: 3.421069343386846\n"
     ]
    },
    {
     "name": "stderr",
     "output_type": "stream",
     "text": [
      "Generating Offspring: 100%|██████████████████████████████| 100/100 [00:11<00:00,  8.96it/s]\n",
      "Calculating fitnesses: 100%|█████████████████████████████| 200/200 [00:04<00:00, 41.42it/s]\n"
     ]
    },
    {
     "name": "stdout",
     "output_type": "stream",
     "text": [
      "[Generation: 68] \n",
      " Average Fitness: 290.805 \n",
      " Best Fitness: 476.0 \n",
      " Worst Fitness: 186.0 \n",
      " Standard Error: 3.4926822100071604\n"
     ]
    },
    {
     "name": "stderr",
     "output_type": "stream",
     "text": [
      "Generating Offspring: 100%|██████████████████████████████| 100/100 [00:11<00:00,  9.04it/s]\n",
      "Calculating fitnesses: 100%|█████████████████████████████| 200/200 [00:04<00:00, 41.18it/s]\n"
     ]
    },
    {
     "name": "stdout",
     "output_type": "stream",
     "text": [
      "[Generation: 69] \n",
      " Average Fitness: 294.95 \n",
      " Best Fitness: 418.0 \n",
      " Worst Fitness: 187.0 \n",
      " Standard Error: 3.4876577070301833\n"
     ]
    },
    {
     "name": "stderr",
     "output_type": "stream",
     "text": [
      "Generating Offspring: 100%|██████████████████████████████| 100/100 [00:10<00:00,  9.16it/s]\n",
      "Calculating fitnesses: 100%|█████████████████████████████| 200/200 [00:04<00:00, 40.94it/s]\n"
     ]
    },
    {
     "name": "stdout",
     "output_type": "stream",
     "text": [
      "[Generation: 70] \n",
      " Average Fitness: 295.755 \n",
      " Best Fitness: 429.0 \n",
      " Worst Fitness: 189.0 \n",
      " Standard Error: 3.313536251112576\n"
     ]
    },
    {
     "name": "stderr",
     "output_type": "stream",
     "text": [
      "Generating Offspring: 100%|██████████████████████████████| 100/100 [00:11<00:00,  9.00it/s]\n",
      "Calculating fitnesses: 100%|█████████████████████████████| 200/200 [00:04<00:00, 40.32it/s]\n"
     ]
    },
    {
     "name": "stdout",
     "output_type": "stream",
     "text": [
      "[Generation: 71] \n",
      " Average Fitness: 298.855 \n",
      " Best Fitness: 464.0 \n",
      " Worst Fitness: 185.0 \n",
      " Standard Error: 3.354981277423064\n"
     ]
    },
    {
     "name": "stderr",
     "output_type": "stream",
     "text": [
      "Generating Offspring: 100%|██████████████████████████████| 100/100 [00:11<00:00,  8.88it/s]\n",
      "Calculating fitnesses: 100%|█████████████████████████████| 200/200 [00:05<00:00, 39.78it/s]\n"
     ]
    },
    {
     "name": "stdout",
     "output_type": "stream",
     "text": [
      "[Generation: 72] \n",
      " Average Fitness: 295.905 \n",
      " Best Fitness: 430.0 \n",
      " Worst Fitness: 185.0 \n",
      " Standard Error: 3.49299081003586\n"
     ]
    },
    {
     "name": "stderr",
     "output_type": "stream",
     "text": [
      "Generating Offspring: 100%|██████████████████████████████| 100/100 [00:11<00:00,  8.99it/s]\n",
      "Calculating fitnesses: 100%|█████████████████████████████| 200/200 [00:04<00:00, 40.27it/s]\n"
     ]
    },
    {
     "name": "stdout",
     "output_type": "stream",
     "text": [
      "[Generation: 73] \n",
      " Average Fitness: 294.425 \n",
      " Best Fitness: 432.0 \n",
      " Worst Fitness: 198.0 \n",
      " Standard Error: 3.436732097874784\n"
     ]
    },
    {
     "name": "stderr",
     "output_type": "stream",
     "text": [
      "Generating Offspring: 100%|██████████████████████████████| 100/100 [00:10<00:00,  9.11it/s]\n",
      "Calculating fitnesses: 100%|█████████████████████████████| 200/200 [00:04<00:00, 41.35it/s]\n"
     ]
    },
    {
     "name": "stdout",
     "output_type": "stream",
     "text": [
      "[Generation: 74] \n",
      " Average Fitness: 292.315 \n",
      " Best Fitness: 500.0 \n",
      " Worst Fitness: 183.0 \n",
      " Standard Error: 3.584868937842433\n"
     ]
    },
    {
     "name": "stderr",
     "output_type": "stream",
     "text": [
      "Generating Offspring: 100%|██████████████████████████████| 100/100 [00:11<00:00,  8.90it/s]\n",
      "Calculating fitnesses: 100%|█████████████████████████████| 200/200 [00:04<00:00, 41.34it/s]\n"
     ]
    },
    {
     "name": "stdout",
     "output_type": "stream",
     "text": [
      "[Generation: 75] \n",
      " Average Fitness: 290.985 \n",
      " Best Fitness: 423.0 \n",
      " Worst Fitness: 185.0 \n",
      " Standard Error: 3.244604934488099\n"
     ]
    },
    {
     "name": "stderr",
     "output_type": "stream",
     "text": [
      "Generating Offspring: 100%|██████████████████████████████| 100/100 [00:11<00:00,  8.93it/s]\n",
      "Calculating fitnesses: 100%|█████████████████████████████| 200/200 [00:04<00:00, 41.55it/s]\n"
     ]
    },
    {
     "name": "stdout",
     "output_type": "stream",
     "text": [
      "[Generation: 76] \n",
      " Average Fitness: 288.365 \n",
      " Best Fitness: 416.0 \n",
      " Worst Fitness: 182.0 \n",
      " Standard Error: 3.65301677147304\n"
     ]
    },
    {
     "name": "stderr",
     "output_type": "stream",
     "text": [
      "Generating Offspring: 100%|██████████████████████████████| 100/100 [00:10<00:00,  9.18it/s]\n",
      "Calculating fitnesses: 100%|█████████████████████████████| 200/200 [00:04<00:00, 41.01it/s]\n"
     ]
    },
    {
     "name": "stdout",
     "output_type": "stream",
     "text": [
      "[Generation: 77] \n",
      " Average Fitness: 291.39 \n",
      " Best Fitness: 444.0 \n",
      " Worst Fitness: 187.0 \n",
      " Standard Error: 3.7184639801750525\n"
     ]
    },
    {
     "name": "stderr",
     "output_type": "stream",
     "text": [
      "Generating Offspring: 100%|██████████████████████████████| 100/100 [00:11<00:00,  8.81it/s]\n",
      "Calculating fitnesses: 100%|█████████████████████████████| 200/200 [00:05<00:00, 39.76it/s]\n"
     ]
    },
    {
     "name": "stdout",
     "output_type": "stream",
     "text": [
      "[Generation: 78] \n",
      " Average Fitness: 299.085 \n",
      " Best Fitness: 432.0 \n",
      " Worst Fitness: 190.0 \n",
      " Standard Error: 3.7573363914871885\n"
     ]
    },
    {
     "name": "stderr",
     "output_type": "stream",
     "text": [
      "Generating Offspring: 100%|██████████████████████████████| 100/100 [00:11<00:00,  8.85it/s]\n",
      "Calculating fitnesses: 100%|█████████████████████████████| 200/200 [00:04<00:00, 40.21it/s]\n"
     ]
    },
    {
     "name": "stdout",
     "output_type": "stream",
     "text": [
      "[Generation: 79] \n",
      " Average Fitness: 298.05 \n",
      " Best Fitness: 437.0 \n",
      " Worst Fitness: 193.0 \n",
      " Standard Error: 3.5356458331239047\n"
     ]
    },
    {
     "name": "stderr",
     "output_type": "stream",
     "text": [
      "Generating Offspring: 100%|██████████████████████████████| 100/100 [00:11<00:00,  9.04it/s]\n",
      "Calculating fitnesses: 100%|█████████████████████████████| 200/200 [00:04<00:00, 40.27it/s]\n"
     ]
    },
    {
     "name": "stdout",
     "output_type": "stream",
     "text": [
      "[Generation: 80] \n",
      " Average Fitness: 297.475 \n",
      " Best Fitness: 471.0 \n",
      " Worst Fitness: 184.0 \n",
      " Standard Error: 3.7863875300394425\n"
     ]
    },
    {
     "name": "stderr",
     "output_type": "stream",
     "text": [
      "Generating Offspring: 100%|██████████████████████████████| 100/100 [00:11<00:00,  8.91it/s]\n",
      "Calculating fitnesses: 100%|█████████████████████████████| 200/200 [00:04<00:00, 41.12it/s]\n"
     ]
    },
    {
     "name": "stdout",
     "output_type": "stream",
     "text": [
      "[Generation: 81] \n",
      " Average Fitness: 292.21 \n",
      " Best Fitness: 417.0 \n",
      " Worst Fitness: 184.0 \n",
      " Standard Error: 3.4695632065464816\n"
     ]
    },
    {
     "name": "stderr",
     "output_type": "stream",
     "text": [
      "Generating Offspring: 100%|██████████████████████████████| 100/100 [00:11<00:00,  8.97it/s]\n",
      "Calculating fitnesses: 100%|█████████████████████████████| 200/200 [00:05<00:00, 39.96it/s]\n"
     ]
    },
    {
     "name": "stdout",
     "output_type": "stream",
     "text": [
      "[Generation: 82] \n",
      " Average Fitness: 299.38 \n",
      " Best Fitness: 430.0 \n",
      " Worst Fitness: 193.0 \n",
      " Standard Error: 3.1016899267995903\n"
     ]
    },
    {
     "name": "stderr",
     "output_type": "stream",
     "text": [
      "Generating Offspring: 100%|██████████████████████████████| 100/100 [00:11<00:00,  9.06it/s]\n",
      "Calculating fitnesses: 100%|█████████████████████████████| 200/200 [00:04<00:00, 40.47it/s]\n"
     ]
    },
    {
     "name": "stdout",
     "output_type": "stream",
     "text": [
      "[Generation: 83] \n",
      " Average Fitness: 296.565 \n",
      " Best Fitness: 418.0 \n",
      " Worst Fitness: 184.0 \n",
      " Standard Error: 3.331218087235301\n"
     ]
    },
    {
     "name": "stderr",
     "output_type": "stream",
     "text": [
      "Generating Offspring: 100%|██████████████████████████████| 100/100 [00:11<00:00,  8.73it/s]\n",
      "Calculating fitnesses: 100%|█████████████████████████████| 200/200 [00:05<00:00, 39.07it/s]\n"
     ]
    },
    {
     "name": "stdout",
     "output_type": "stream",
     "text": [
      "[Generation: 84] \n",
      " Average Fitness: 293.16 \n",
      " Best Fitness: 431.0 \n",
      " Worst Fitness: 189.0 \n",
      " Standard Error: 3.7702447836504214\n"
     ]
    },
    {
     "name": "stderr",
     "output_type": "stream",
     "text": [
      "Generating Offspring: 100%|██████████████████████████████| 100/100 [00:11<00:00,  8.59it/s]\n",
      "Calculating fitnesses: 100%|█████████████████████████████| 200/200 [00:05<00:00, 39.22it/s]\n"
     ]
    },
    {
     "name": "stdout",
     "output_type": "stream",
     "text": [
      "[Generation: 85] \n",
      " Average Fitness: 297.74 \n",
      " Best Fitness: 491.0 \n",
      " Worst Fitness: 192.0 \n",
      " Standard Error: 3.5721440431940357\n"
     ]
    },
    {
     "name": "stderr",
     "output_type": "stream",
     "text": [
      "Generating Offspring: 100%|██████████████████████████████| 100/100 [00:11<00:00,  8.87it/s]\n",
      "Calculating fitnesses: 100%|█████████████████████████████| 200/200 [00:05<00:00, 39.30it/s]\n"
     ]
    },
    {
     "name": "stdout",
     "output_type": "stream",
     "text": [
      "[Generation: 86] \n",
      " Average Fitness: 291.81 \n",
      " Best Fitness: 456.0 \n",
      " Worst Fitness: 193.0 \n",
      " Standard Error: 3.371782031856709\n"
     ]
    },
    {
     "name": "stderr",
     "output_type": "stream",
     "text": [
      "Generating Offspring: 100%|██████████████████████████████| 100/100 [00:11<00:00,  8.67it/s]\n",
      "Calculating fitnesses: 100%|█████████████████████████████| 200/200 [00:04<00:00, 40.74it/s]\n"
     ]
    },
    {
     "name": "stdout",
     "output_type": "stream",
     "text": [
      "[Generation: 87] \n",
      " Average Fitness: 290.5 \n",
      " Best Fitness: 450.0 \n",
      " Worst Fitness: 188.0 \n",
      " Standard Error: 3.5893617243097276\n"
     ]
    },
    {
     "name": "stderr",
     "output_type": "stream",
     "text": [
      "Generating Offspring: 100%|██████████████████████████████| 100/100 [00:11<00:00,  8.77it/s]\n",
      "Calculating fitnesses: 100%|█████████████████████████████| 200/200 [00:05<00:00, 38.94it/s]\n"
     ]
    },
    {
     "name": "stdout",
     "output_type": "stream",
     "text": [
      "[Generation: 88] \n",
      " Average Fitness: 301.605 \n",
      " Best Fitness: 450.0 \n",
      " Worst Fitness: 191.0 \n",
      " Standard Error: 3.6878238977074966\n"
     ]
    },
    {
     "name": "stderr",
     "output_type": "stream",
     "text": [
      "Generating Offspring: 100%|██████████████████████████████| 100/100 [00:11<00:00,  8.78it/s]\n",
      "Calculating fitnesses: 100%|█████████████████████████████| 200/200 [00:04<00:00, 40.32it/s]\n"
     ]
    },
    {
     "name": "stdout",
     "output_type": "stream",
     "text": [
      "[Generation: 89] \n",
      " Average Fitness: 293.84 \n",
      " Best Fitness: 456.0 \n",
      " Worst Fitness: 193.0 \n",
      " Standard Error: 3.6542632911443342\n"
     ]
    },
    {
     "name": "stderr",
     "output_type": "stream",
     "text": [
      "Generating Offspring: 100%|██████████████████████████████| 100/100 [00:11<00:00,  8.78it/s]\n",
      "Calculating fitnesses: 100%|█████████████████████████████| 200/200 [00:05<00:00, 39.68it/s]\n"
     ]
    },
    {
     "name": "stdout",
     "output_type": "stream",
     "text": [
      "[Generation: 90] \n",
      " Average Fitness: 298.13 \n",
      " Best Fitness: 420.0 \n",
      " Worst Fitness: 189.0 \n",
      " Standard Error: 3.269866301263815\n"
     ]
    },
    {
     "name": "stderr",
     "output_type": "stream",
     "text": [
      "Generating Offspring: 100%|██████████████████████████████| 100/100 [00:11<00:00,  8.81it/s]\n",
      "Calculating fitnesses: 100%|█████████████████████████████| 200/200 [00:05<00:00, 39.85it/s]\n"
     ]
    },
    {
     "name": "stdout",
     "output_type": "stream",
     "text": [
      "[Generation: 91] \n",
      " Average Fitness: 295.46 \n",
      " Best Fitness: 460.0 \n",
      " Worst Fitness: 191.0 \n",
      " Standard Error: 3.7790206383300715\n"
     ]
    },
    {
     "name": "stderr",
     "output_type": "stream",
     "text": [
      "Generating Offspring: 100%|██████████████████████████████| 100/100 [00:11<00:00,  8.74it/s]\n",
      "Calculating fitnesses: 100%|█████████████████████████████| 200/200 [00:05<00:00, 39.29it/s]\n"
     ]
    },
    {
     "name": "stdout",
     "output_type": "stream",
     "text": [
      "[Generation: 92] \n",
      " Average Fitness: 295.575 \n",
      " Best Fitness: 441.0 \n",
      " Worst Fitness: 185.0 \n",
      " Standard Error: 3.775346085503504\n"
     ]
    },
    {
     "name": "stderr",
     "output_type": "stream",
     "text": [
      "Generating Offspring: 100%|██████████████████████████████| 100/100 [00:11<00:00,  8.71it/s]\n",
      "Calculating fitnesses: 100%|█████████████████████████████| 200/200 [00:05<00:00, 38.61it/s]\n"
     ]
    },
    {
     "name": "stdout",
     "output_type": "stream",
     "text": [
      "[Generation: 93] \n",
      " Average Fitness: 295.445 \n",
      " Best Fitness: 437.0 \n",
      " Worst Fitness: 190.0 \n",
      " Standard Error: 3.532154505717623\n"
     ]
    },
    {
     "name": "stderr",
     "output_type": "stream",
     "text": [
      "Generating Offspring: 100%|██████████████████████████████| 100/100 [00:11<00:00,  8.61it/s]\n",
      "Calculating fitnesses: 100%|█████████████████████████████| 200/200 [00:05<00:00, 39.60it/s]\n"
     ]
    },
    {
     "name": "stdout",
     "output_type": "stream",
     "text": [
      "[Generation: 94] \n",
      " Average Fitness: 296.15 \n",
      " Best Fitness: 410.0 \n",
      " Worst Fitness: 199.0 \n",
      " Standard Error: 3.301010580757256\n"
     ]
    },
    {
     "name": "stderr",
     "output_type": "stream",
     "text": [
      "Generating Offspring: 100%|██████████████████████████████| 100/100 [00:11<00:00,  8.95it/s]\n",
      "Calculating fitnesses: 100%|█████████████████████████████| 200/200 [00:04<00:00, 40.33it/s]\n"
     ]
    },
    {
     "name": "stdout",
     "output_type": "stream",
     "text": [
      "[Generation: 95] \n",
      " Average Fitness: 292.295 \n",
      " Best Fitness: 451.0 \n",
      " Worst Fitness: 186.0 \n",
      " Standard Error: 3.5729637874082423\n"
     ]
    },
    {
     "name": "stderr",
     "output_type": "stream",
     "text": [
      "Generating Offspring: 100%|██████████████████████████████| 100/100 [00:11<00:00,  8.93it/s]\n",
      "Calculating fitnesses: 100%|█████████████████████████████| 200/200 [00:04<00:00, 41.14it/s]\n"
     ]
    },
    {
     "name": "stdout",
     "output_type": "stream",
     "text": [
      "[Generation: 96] \n",
      " Average Fitness: 288.955 \n",
      " Best Fitness: 432.0 \n",
      " Worst Fitness: 185.0 \n",
      " Standard Error: 3.2781927358020493\n"
     ]
    },
    {
     "name": "stderr",
     "output_type": "stream",
     "text": [
      "Generating Offspring: 100%|██████████████████████████████| 100/100 [00:11<00:00,  8.93it/s]\n",
      "Calculating fitnesses: 100%|█████████████████████████████| 200/200 [00:04<00:00, 40.64it/s]\n"
     ]
    },
    {
     "name": "stdout",
     "output_type": "stream",
     "text": [
      "[Generation: 97] \n",
      " Average Fitness: 293.05 \n",
      " Best Fitness: 457.0 \n",
      " Worst Fitness: 187.0 \n",
      " Standard Error: 3.5899899217394684\n"
     ]
    },
    {
     "name": "stderr",
     "output_type": "stream",
     "text": [
      "Generating Offspring: 100%|██████████████████████████████| 100/100 [00:11<00:00,  8.90it/s]\n",
      "Calculating fitnesses: 100%|█████████████████████████████| 200/200 [00:05<00:00, 39.38it/s]\n"
     ]
    },
    {
     "name": "stdout",
     "output_type": "stream",
     "text": [
      "[Generation: 98] \n",
      " Average Fitness: 300.27 \n",
      " Best Fitness: 482.0 \n",
      " Worst Fitness: 185.0 \n",
      " Standard Error: 3.607973512142461\n"
     ]
    },
    {
     "name": "stderr",
     "output_type": "stream",
     "text": [
      "Generating Offspring: 100%|██████████████████████████████| 100/100 [00:11<00:00,  8.81it/s]\n",
      "Calculating fitnesses: 100%|█████████████████████████████| 200/200 [00:04<00:00, 40.67it/s]\n"
     ]
    },
    {
     "name": "stdout",
     "output_type": "stream",
     "text": [
      "[Generation: 99] \n",
      " Average Fitness: 290.245 \n",
      " Best Fitness: 472.0 \n",
      " Worst Fitness: 193.0 \n",
      " Standard Error: 3.4034087073323604\n"
     ]
    },
    {
     "name": "stderr",
     "output_type": "stream",
     "text": [
      "Generating Offspring: 100%|██████████████████████████████| 100/100 [00:11<00:00,  8.89it/s]\n",
      "Calculating fitnesses: 100%|█████████████████████████████| 200/200 [00:04<00:00, 40.46it/s]\n"
     ]
    },
    {
     "name": "stdout",
     "output_type": "stream",
     "text": [
      "[Generation: 100] \n",
      " Average Fitness: 295.25 \n",
      " Best Fitness: 428.0 \n",
      " Worst Fitness: 188.0 \n",
      " Standard Error: 3.532012608319318\n"
     ]
    },
    {
     "name": "stderr",
     "output_type": "stream",
     "text": [
      "Generating Offspring: 100%|██████████████████████████████| 100/100 [00:11<00:00,  8.99it/s]\n"
     ]
    }
   ],
   "source": [
    "# Version 1:\n",
    "# Run the genetic algorithm\n",
    "population, history, history_std = main(POPULATION_SIZE=200, \n",
    "                            GENERATIONS=100, \n",
    "                            ELITISM=100, \n",
    "                            TOURNAMENT_SIZE=3, \n",
    "                            MUTATION_STRENGTH=1, \n",
    "                            MUTATION_RATE=0.01)"
   ]
  },
  {
   "cell_type": "code",
   "execution_count": 13,
   "id": "937137b8",
   "metadata": {},
   "outputs": [
    {
     "data": {
      "image/png": "[encoded data removed]",
      "text/plain": [
       "<Figure size 2000x1500 with 1 Axes>"
      ]
     },
     "metadata": {},
     "output_type": "display_data"
    }
   ],
   "source": [
    "plt.figure(figsize=(20, 15))\n",
    "plt.plot(np.arange(100), np.array(history)[:,0], marker='o', linestyle='-', label='Average Fitness')\n",
    "plt.plot(np.arange(100), np.array(history)[:,1], marker='^', linestyle='-', label='Max Fitness')\n",
    "plt.plot(np.arange(100), np.array(history)[:,2], marker='s', linestyle='-', label='Min Fitness')\n",
    "plt.fill_between(np.arange(100), 0, np.array(history)[:,0] + np.array(history)[:,1],\n",
    "                 alpha=0.2, color='blue', label='Standard Error')\n",
    "\n",
    "plt.xlabel('Generations')\n",
    "plt.ylabel('Fitness')\n",
    "plt.title('Fitness History')\n",
    "plt.grid()\n",
    "plt.legend()\n",
    "plt.show()"
   ]
  },
  {
   "cell_type": "code",
   "execution_count": null,
   "id": "9bf27870",
   "metadata": {},
   "outputs": [],
   "source": []
  }
 ],
 "metadata": {
  "kernelspec": {
   "display_name": "Python 3 (ipykernel)",
   "language": "python",
   "name": "python3"
  },
  "language_info": {
   "codemirror_mode": {
    "name": "ipython",
    "version": 3
   },
   "file_extension": ".py",
   "mimetype": "text/x-python",
   "name": "python",
   "nbconvert_exporter": "python",
   "pygments_lexer": "ipython3",
   "version": "3.11.3"
  }
 },
 "nbformat": 4,
 "nbformat_minor": 5
}
