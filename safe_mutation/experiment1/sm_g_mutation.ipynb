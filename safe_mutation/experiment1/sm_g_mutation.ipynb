{
 "cells": [
  {
   "cell_type": "code",
   "execution_count": 1,
   "id": "cff20e7d",
   "metadata": {},
   "outputs": [],
   "source": [
    "import torch\n",
    "import gym\n",
    "import numpy as np\n",
    "import random\n",
    "import matplotlib.pyplot as plt\n",
    "import statistics\n",
    "\n",
    "from torch import nn\n",
    "from copy import deepcopy\n",
    "from tqdm import tqdm\n",
    "\n",
    "from bayes_opt import BayesianOptimization"
   ]
  },
  {
   "cell_type": "code",
   "execution_count": 2,
   "id": "c7205bff",
   "metadata": {},
   "outputs": [
    {
     "name": "stderr",
     "output_type": "stream",
     "text": [
      "/Users/jinhyunpark/miniforge3/envs/tilda/lib/python3.11/site-packages/gym/core.py:329: DeprecationWarning: \u001b[33mWARN: Initializing wrapper in old step API which returns one bool instead of two. It is recommended to set `new_step_api=True` to use new step API. This will be the default behaviour in future.\u001b[0m\n",
      "  deprecation(\n",
      "/Users/jinhyunpark/miniforge3/envs/tilda/lib/python3.11/site-packages/gym/wrappers/step_api_compatibility.py:39: DeprecationWarning: \u001b[33mWARN: Initializing environment in old step API which returns one bool instead of two. It is recommended to set `new_step_api=True` to use new step API. This will be the default behaviour in future.\u001b[0m\n",
      "  deprecation(\n"
     ]
    }
   ],
   "source": [
    "# Use the following gym version.\n",
    "# pip install gym==0.25.0\n",
    "# pip install pygame\n",
    "\n",
    "seed = 0\n",
    "torch.manual_seed(seed)\n",
    "np.random.seed(seed)\n",
    "random.seed(seed)\n",
    "\n",
    "# define global variable \n",
    "MAX_EP = 1\n",
    "env = gym.make('CartPole-v1')"
   ]
  },
  {
   "cell_type": "code",
   "execution_count": 3,
   "id": "24c2802b",
   "metadata": {},
   "outputs": [],
   "source": [
    "# Define network architecture\n",
    "class Network(nn.Module):\n",
    "    def __init__(self, env):\n",
    "        super().__init__()\n",
    "\n",
    "        in_features = int(np.prod(env.observation_space.shape))\n",
    "        self.net = nn.Sequential(\n",
    "            nn.Linear(in_features, 64),\n",
    "            nn.Tanh(),\n",
    "            nn.Linear(64, env.action_space.n)\n",
    "        )\n",
    "\n",
    "    def forward(self, x):\n",
    "        return self.net(x)\n",
    "\n",
    "    def act(self, state):\n",
    "        state_t = torch.as_tensor(state, dtype=torch.float32)\n",
    "        q_values = self.forward(state_t.unsqueeze(0))                           # 'q_values' outputs two values (left or right)\n",
    "        max_q_index = torch.argmax(q_values, dim=1)[0]                          # find an index that corresponds to the maximum value  \n",
    "        action = max_q_index.detach().item()                                    # 0 or 1\n",
    "        return action                                                           # 0 or 1"
   ]
  },
  {
   "cell_type": "code",
   "execution_count": 4,
   "id": "562f1c95",
   "metadata": {},
   "outputs": [],
   "source": [
    "def calculate_fitness(network, env, num_episodes=MAX_EP):\n",
    "    total_rewards = 0\n",
    "    for _ in range(num_episodes):\n",
    "        reward, _ = run_episode(network, env)\n",
    "        total_rewards += reward\n",
    "    avg_reward = total_rewards / num_episodes\n",
    "    return avg_reward"
   ]
  },
  {
   "cell_type": "code",
   "execution_count": 5,
   "id": "3406fb93",
   "metadata": {},
   "outputs": [],
   "source": [
    "def run_episode(network, env):\n",
    "    state = env.reset()\n",
    "    total_reward = 0.0\n",
    "    log_probs = []  # Store log probabilities of actions\n",
    "    done = False\n",
    "    while not done:\n",
    "        state_t = torch.as_tensor(state, dtype=torch.float32)\n",
    "        q_values = network(state_t.unsqueeze(0))\n",
    "        action_probs = nn.functional.softmax(q_values, dim=1)\n",
    "        action_dist = torch.distributions.Categorical(action_probs)\n",
    "        action = action_dist.sample()\n",
    "        log_prob = action_dist.log_prob(action)\n",
    "        log_probs.append(log_prob)\n",
    "        state, reward, done, _ = env.step(action.item())\n",
    "        total_reward += reward\n",
    "    return total_reward, log_probs"
   ]
  },
  {
   "cell_type": "code",
   "execution_count": 6,
   "id": "032a551d",
   "metadata": {},
   "outputs": [],
   "source": [
    "def prepare_mutation(network, env, num_episodes=MAX_EP):\n",
    "    total_rewards = 0\n",
    "    all_grads = []  # List of list of gradients\n",
    "    for _ in range(num_episodes):\n",
    "        reward, log_probs = run_episode(network, env)\n",
    "        total_rewards += reward\n",
    "        loss = -reward * torch.stack(log_probs).sum()\n",
    "        loss.backward()  # Calculate gradients\n",
    "\n",
    "        grads = []  # List of gradients for this episode\n",
    "        # Store gradients and zero them\n",
    "        for param in network.parameters():\n",
    "            grads.append(param.grad.clone())\n",
    "            param.grad = None\n",
    "        \n",
    "        all_grads.append(grads)  # Append the list of gradients for this episode to the overall list\n",
    "    \n",
    "    avg_reward = total_rewards / num_episodes\n",
    "    \n",
    "    return avg_reward, all_grads  # Return list of list of gradients"
   ]
  },
  {
   "cell_type": "code",
   "execution_count": 7,
   "id": "b62df800",
   "metadata": {},
   "outputs": [],
   "source": [
    "def mutate_and_tournament(population, tournament_size, mutation_rate, mutation_strength):\n",
    "    \n",
    "    # Select individuals for the tournament\n",
    "    individuals = random.sample(population, tournament_size)\n",
    "    # Calculate fitness for each individual\n",
    "    fitnesses = [calculate_fitness(individual, env) for individual in individuals]\n",
    "    # Select the best individual\n",
    "    parent = individuals[np.argmax(fitnesses)]\n",
    "    \n",
    "    # Create offspring by deep copying the parent\n",
    "    offspring = deepcopy(parent)\n",
    "    \n",
    "    # Calculate fitness and gradients for the offspring\n",
    "    _, all_grads = prepare_mutation(offspring, env)\n",
    "    \n",
    "    grads = []\n",
    "    # Average gradients over episodes \n",
    "    for grad in zip(*all_grads):\n",
    "        grads.append(sum(grad)/len(grad))\n",
    "    \n",
    "    # Apply mutation\n",
    "    with torch.no_grad():\n",
    "        for param, grad in zip(offspring.parameters(), grads):\n",
    "            if (grad is not None) and (random.random() < mutation_rate):\n",
    "                # print(\"mutation activated\")\n",
    "                delta = torch.randn_like(param)\n",
    "                grad_sum = torch.sum(grad)\n",
    "                if grad_sum != 0:\n",
    "                    param.add_(mutation_strength * delta * grad / grad_sum)\n",
    "    \n",
    "    # Return the mutated offspring\n",
    "    return offspring"
   ]
  },
  {
   "cell_type": "code",
   "execution_count": 8,
   "id": "0e6f4b95",
   "metadata": {},
   "outputs": [],
   "source": [
    "# Define genetic algorithm\n",
    "def main(POPULATION_SIZE, GENERATIONS, ELITISM, TOURNAMENT_SIZE, MUTATION_STRENGTH, MUTATION_RATE):\n",
    "    \n",
    "    FITNESS_HISTORY = list()\n",
    "    FITNESS_STDERROR_HISTORY = list()\n",
    "    \n",
    "    # Create initial population\n",
    "    population = [Network(env) for _ in range(POPULATION_SIZE)]\n",
    "\n",
    "    for generation in range(1, GENERATIONS + 1):\n",
    "\n",
    "        # Calculate fitness for each network\n",
    "        fitnesses = [calculate_fitness(network, env) for network in tqdm(population, desc=\"Calculating fitnesses\")]\n",
    "        \n",
    "        # average fitness \n",
    "        avg_fitness = np.average(fitnesses)\n",
    "        max_fitness = np.max(fitnesses)\n",
    "        min_fitness = np.min(fitnesses)\n",
    "        FITNESS_HISTORY.append([avg_fitness, max_fitness, min_fitness])\n",
    "        \n",
    "        # std error\n",
    "        standard_deviation = statistics.stdev(fitnesses)\n",
    "        standard_error = standard_deviation / (POPULATION_SIZE ** 0.5)\n",
    "        FITNESS_STDERROR_HISTORY.append(standard_error)\n",
    "\n",
    "        print(f\"[Generation: {generation}] \\n Average Fitness: {avg_fitness} \\n Best Fitness: {max_fitness} \\n Worst Fitness: {min_fitness} \\n Standard Error: {standard_error}\")\n",
    "        \n",
    "        # Sort population by fitness\n",
    "        population = [x for _, x in sorted(zip(fitnesses, population), key=lambda pair: pair[0], reverse=True)]\n",
    "        \n",
    "        # Select the best networks to pass their genes to the next generation\n",
    "        survivors = population[:ELITISM]\n",
    "        \n",
    "        # Create the next generation\n",
    "        next_population = survivors  # Start with the survivors\n",
    "        \n",
    "        num_individuals_to_add = POPULATION_SIZE - len(next_population)\n",
    "        # Add offspring by tournament selection and mutation\n",
    "        for _ in tqdm(range(num_individuals_to_add), desc=\"Generating Offspring\"):\n",
    "            offspring = mutate_and_tournament(population, TOURNAMENT_SIZE, MUTATION_RATE, MUTATION_STRENGTH)\n",
    "            next_population.append(offspring)\n",
    "\n",
    "        # The next generation becomes the current population\n",
    "        population = next_population\n",
    "\n",
    "    return population, FITNESS_HISTORY, FITNESS_STDERROR_HISTORY"
   ]
  },
  {
   "cell_type": "markdown",
   "id": "58016015",
   "metadata": {},
   "source": [
    "### Version Control"
   ]
  },
  {
   "cell_type": "code",
   "execution_count": null,
   "id": "5345a1c9",
   "metadata": {
    "scrolled": true
   },
   "outputs": [
    {
     "name": "stderr",
     "output_type": "stream",
     "text": [
      "Calculating fitnesses:   0%|                                                                                                                                   | 0/176 [00:00<?, ?it/s]/Users/jinhyunpark/miniforge3/envs/tilda/lib/python3.11/site-packages/gym/utils/passive_env_checker.py:241: DeprecationWarning: `np.bool8` is a deprecated alias for `np.bool_`.  (Deprecated NumPy 1.24)\n",
      "  if not isinstance(terminated, (bool, np.bool8)):\n",
      "Calculating fitnesses: 100%|████████████████████████████████████████████████████████████████████████████████████████████████████████████████████████| 176/176 [00:00<00:00, 599.01it/s]\n"
     ]
    },
    {
     "name": "stdout",
     "output_type": "stream",
     "text": [
      "[Generation: 1] \n",
      " Average Fitness: 21.102272727272727 \n",
      " Best Fitness: 69.0 \n",
      " Worst Fitness: 9.0 \n",
      " Standard Error: 0.8813758262554278\n"
     ]
    },
    {
     "name": "stderr",
     "output_type": "stream",
     "text": [
      "Generating Offspring: 100%|██████████████████████████████████████████████████████████████████████████████████████████████████████████████████████████| 105/105 [00:02<00:00, 42.84it/s]\n",
      "Calculating fitnesses: 100%|████████████████████████████████████████████████████████████████████████████████████████████████████████████████████████| 176/176 [00:00<00:00, 673.07it/s]\n"
     ]
    },
    {
     "name": "stdout",
     "output_type": "stream",
     "text": [
      "[Generation: 2] \n",
      " Average Fitness: 19.397727272727273 \n",
      " Best Fitness: 68.0 \n",
      " Worst Fitness: 8.0 \n",
      " Standard Error: 0.9497805469513357\n"
     ]
    },
    {
     "name": "stderr",
     "output_type": "stream",
     "text": [
      "Generating Offspring: 100%|██████████████████████████████████████████████████████████████████████████████████████████████████████████████████████████| 105/105 [00:02<00:00, 46.95it/s]\n",
      "Calculating fitnesses: 100%|████████████████████████████████████████████████████████████████████████████████████████████████████████████████████████| 176/176 [00:00<00:00, 434.83it/s]\n"
     ]
    },
    {
     "name": "stdout",
     "output_type": "stream",
     "text": [
      "[Generation: 3] \n",
      " Average Fitness: 29.84090909090909 \n",
      " Best Fitness: 145.0 \n",
      " Worst Fitness: 8.0 \n",
      " Standard Error: 1.9354816295006763\n"
     ]
    },
    {
     "name": "stderr",
     "output_type": "stream",
     "text": [
      "Generating Offspring: 100%|██████████████████████████████████████████████████████████████████████████████████████████████████████████████████████████| 105/105 [00:03<00:00, 31.02it/s]\n",
      "Calculating fitnesses: 100%|████████████████████████████████████████████████████████████████████████████████████████████████████████████████████████| 176/176 [00:00<00:00, 252.69it/s]\n"
     ]
    },
    {
     "name": "stdout",
     "output_type": "stream",
     "text": [
      "[Generation: 4] \n",
      " Average Fitness: 51.47727272727273 \n",
      " Best Fitness: 260.0 \n",
      " Worst Fitness: 9.0 \n",
      " Standard Error: 2.5449460299109266\n"
     ]
    },
    {
     "name": "stderr",
     "output_type": "stream",
     "text": [
      "Generating Offspring: 100%|██████████████████████████████████████████████████████████████████████████████████████████████████████████████████████████| 105/105 [00:05<00:00, 17.69it/s]\n",
      "Calculating fitnesses: 100%|████████████████████████████████████████████████████████████████████████████████████████████████████████████████████████| 176/176 [00:01<00:00, 153.30it/s]\n"
     ]
    },
    {
     "name": "stdout",
     "output_type": "stream",
     "text": [
      "[Generation: 5] \n",
      " Average Fitness: 82.53977272727273 \n",
      " Best Fitness: 288.0 \n",
      " Worst Fitness: 18.0 \n",
      " Standard Error: 3.7442237833714724\n"
     ]
    },
    {
     "name": "stderr",
     "output_type": "stream",
     "text": [
      "Generating Offspring: 100%|██████████████████████████████████████████████████████████████████████████████████████████████████████████████████████████| 105/105 [00:09<00:00, 10.66it/s]\n",
      "Calculating fitnesses: 100%|█████████████████████████████████████████████████████████████████████████████████████████████████████████████████████████| 176/176 [00:01<00:00, 89.25it/s]\n"
     ]
    },
    {
     "name": "stdout",
     "output_type": "stream",
     "text": [
      "[Generation: 6] \n",
      " Average Fitness: 140.0340909090909 \n",
      " Best Fitness: 373.0 \n",
      " Worst Fitness: 11.0 \n",
      " Standard Error: 5.5381082247969085\n"
     ]
    },
    {
     "name": "stderr",
     "output_type": "stream",
     "text": [
      "Generating Offspring: 100%|████████████████████████████████████████████████████████████████████████████████████████████████████████████████████████████████████| 105/105 [00:17<00:00,  6.17it/s]\n",
      "Calculating fitnesses: 100%|███████████████████████████████████████████████████████████████████████████████████████████████████████████████████████████████████| 176/176 [00:03<00:00, 57.62it/s]\n"
     ]
    },
    {
     "name": "stdout",
     "output_type": "stream",
     "text": [
      "[Generation: 7] \n",
      " Average Fitness: 220.85795454545453 \n",
      " Best Fitness: 389.0 \n",
      " Worst Fitness: 47.0 \n",
      " Standard Error: 4.546346645411889\n"
     ]
    },
    {
     "name": "stderr",
     "output_type": "stream",
     "text": [
      "Generating Offspring: 100%|████████████████████████████████████████████████████████████████████████████████████████████████████████████████████████████████████| 105/105 [00:25<00:00,  4.08it/s]\n",
      "Calculating fitnesses: 100%|███████████████████████████████████████████████████████████████████████████████████████████████████████████████████████████████████| 176/176 [00:03<00:00, 51.57it/s]\n"
     ]
    },
    {
     "name": "stdout",
     "output_type": "stream",
     "text": [
      "[Generation: 8] \n",
      " Average Fitness: 245.13636363636363 \n",
      " Best Fitness: 429.0 \n",
      " Worst Fitness: 142.0 \n",
      " Standard Error: 3.367630131659351\n"
     ]
    },
    {
     "name": "stderr",
     "output_type": "stream",
     "text": [
      "Generating Offspring: 100%|████████████████████████████████████████████████████████████████████████████████████████████████████████████████████████████████████| 105/105 [00:27<00:00,  3.80it/s]\n",
      "Calculating fitnesses: 100%|███████████████████████████████████████████████████████████████████████████████████████████████████████████████████████████████████| 176/176 [00:03<00:00, 50.59it/s]\n"
     ]
    },
    {
     "name": "stdout",
     "output_type": "stream",
     "text": [
      "[Generation: 9] \n",
      " Average Fitness: 251.7784090909091 \n",
      " Best Fitness: 500.0 \n",
      " Worst Fitness: 144.0 \n",
      " Standard Error: 4.13780620538582\n"
     ]
    },
    {
     "name": "stderr",
     "output_type": "stream",
     "text": [
      "Generating Offspring: 100%|████████████████████████████████████████████████████████████████████████████████████████████████████████████████████████████████████| 105/105 [00:27<00:00,  3.88it/s]\n",
      "Calculating fitnesses: 100%|███████████████████████████████████████████████████████████████████████████████████████████████████████████████████████████████████| 176/176 [00:03<00:00, 51.91it/s]\n"
     ]
    },
    {
     "name": "stdout",
     "output_type": "stream",
     "text": [
      "[Generation: 10] \n",
      " Average Fitness: 250.9034090909091 \n",
      " Best Fitness: 500.0 \n",
      " Worst Fitness: 135.0 \n",
      " Standard Error: 3.941147230443275\n"
     ]
    },
    {
     "name": "stderr",
     "output_type": "stream",
     "text": [
      "Generating Offspring: 100%|████████████████████████████████████████████████████████████████████████████████████████████████████████████████████████████████████| 105/105 [00:26<00:00,  3.90it/s]\n",
      "Calculating fitnesses: 100%|███████████████████████████████████████████████████████████████████████████████████████████████████████████████████████████████████| 176/176 [00:03<00:00, 52.01it/s]\n"
     ]
    },
    {
     "name": "stdout",
     "output_type": "stream",
     "text": [
      "[Generation: 11] \n",
      " Average Fitness: 242.27272727272728 \n",
      " Best Fitness: 500.0 \n",
      " Worst Fitness: 146.0 \n",
      " Standard Error: 3.4790323194208717\n"
     ]
    },
    {
     "name": "stderr",
     "output_type": "stream",
     "text": [
      "Generating Offspring:  69%|███████████████████████████████████████████████████████████████████████████████████████████▏                                         | 72/105 [00:18<00:08,  3.80it/s]"
     ]
    }
   ],
   "source": [
    "# Version 1:\n",
    "# Run the genetic algorithm\n",
    "population, history, history_std = main(POPULATION_SIZE=176, \n",
    "                            GENERATIONS=95, \n",
    "                            ELITISM=71, \n",
    "                            TOURNAMENT_SIZE=12, \n",
    "                            MUTATION_STRENGTH=1, \n",
    "                            MUTATION_RATE=0.5)"
   ]
  },
  {
   "cell_type": "code",
   "execution_count": null,
   "id": "937137b8",
   "metadata": {},
   "outputs": [],
   "source": [
    "plt.figure(figsize=(20, 15))\n",
    "plt.plot(np.arange(100), np.array(history)[:,0], marker='o', linestyle='-', label='Average Fitness')\n",
    "plt.plot(np.arange(100), np.array(history)[:,1], marker='^', linestyle='-', label='Max Fitness')\n",
    "plt.plot(np.arange(100), np.array(history)[:,2], marker='s', linestyle='-', label='Min Fitness')\n",
    "plt.axhline(y=500, color='r', linewidth=1, label='Max Fitness in Cartpole problem')\n",
    "plt.fill_between(np.arange(100), 0, np.array(history)[:,0] + np.array(history)[:,1],\n",
    "                 alpha=0.2, color='blue', label='Standard Error')\n",
    "\n",
    "plt.xlabel('Generations')\n",
    "plt.ylabel('Fitness')\n",
    "plt.title('Fitness History')\n",
    "plt.grid()\n",
    "plt.legend()\n",
    "plt.show()"
   ]
  },
  {
   "cell_type": "code",
   "execution_count": null,
   "id": "9bf27870",
   "metadata": {},
   "outputs": [],
   "source": []
  }
 ],
 "metadata": {
  "kernelspec": {
   "display_name": "Python 3 (ipykernel)",
   "language": "python",
   "name": "python3"
  },
  "language_info": {
   "codemirror_mode": {
    "name": "ipython",
    "version": 3
   },
   "file_extension": ".py",
   "mimetype": "text/x-python",
   "name": "python",
   "nbconvert_exporter": "python",
   "pygments_lexer": "ipython3",
   "version": "3.11.3"
  }
 },
 "nbformat": 4,
 "nbformat_minor": 5
}
