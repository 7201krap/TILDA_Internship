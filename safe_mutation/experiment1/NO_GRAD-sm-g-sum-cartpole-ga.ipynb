{
 "cells": [
  {
   "cell_type": "code",
   "execution_count": 1,
   "id": "cff20e7d",
   "metadata": {},
   "outputs": [],
   "source": [
    "import torch\n",
    "import gym\n",
    "import numpy as np\n",
    "import random\n",
    "import matplotlib.pyplot as plt\n",
    "import statistics\n",
    "\n",
    "from torch import nn\n",
    "from copy import deepcopy\n",
    "from tqdm import tqdm\n",
    "\n",
    "from bayes_opt import BayesianOptimization"
   ]
  },
  {
   "cell_type": "code",
   "execution_count": 2,
   "id": "c7205bff",
   "metadata": {},
   "outputs": [
    {
     "name": "stderr",
     "output_type": "stream",
     "text": [
      "/Users/jinhyunpark/miniforge3/envs/tilda/lib/python3.11/site-packages/gym/core.py:329: DeprecationWarning: \u001b[33mWARN: Initializing wrapper in old step API which returns one bool instead of two. It is recommended to set `new_step_api=True` to use new step API. This will be the default behaviour in future.\u001b[0m\n",
      "  deprecation(\n",
      "/Users/jinhyunpark/miniforge3/envs/tilda/lib/python3.11/site-packages/gym/wrappers/step_api_compatibility.py:39: DeprecationWarning: \u001b[33mWARN: Initializing environment in old step API which returns one bool instead of two. It is recommended to set `new_step_api=True` to use new step API. This will be the default behaviour in future.\u001b[0m\n",
      "  deprecation(\n"
     ]
    }
   ],
   "source": [
    "# Use the following gym version.\n",
    "# pip install gym==0.25.0\n",
    "# pip install pygame\n",
    "\n",
    "seed = 0\n",
    "torch.manual_seed(seed)\n",
    "np.random.seed(seed)\n",
    "random.seed(seed)\n",
    "\n",
    "# define global variable \n",
    "MAX_EP = 1\n",
    "env = gym.make('CartPole-v1')"
   ]
  },
  {
   "cell_type": "code",
   "execution_count": 3,
   "id": "24c2802b",
   "metadata": {},
   "outputs": [],
   "source": [
    "# Define network architecture\n",
    "class Network(nn.Module):\n",
    "    def __init__(self, env):\n",
    "        super().__init__()\n",
    "\n",
    "        in_features = int(np.prod(env.observation_space.shape))\n",
    "        self.net = nn.Sequential(\n",
    "            nn.Linear(in_features, 64),\n",
    "            nn.Tanh(),\n",
    "            nn.Linear(64, env.action_space.n)\n",
    "        )\n",
    "\n",
    "    def forward(self, x):\n",
    "        return self.net(x)\n",
    "\n",
    "    def act(self, state):\n",
    "        state_t = torch.as_tensor(state, dtype=torch.float32)\n",
    "        q_values = self.forward(state_t.unsqueeze(0))                           # 'q_values' outputs two values (left or right)\n",
    "        max_q_index = torch.argmax(q_values, dim=1)[0]                          # find an index that corresponds to the maximum value  \n",
    "        action = max_q_index.detach().item()                                    # 0 or 1\n",
    "        return action                                                           # 0 or 1"
   ]
  },
  {
   "cell_type": "code",
   "execution_count": 4,
   "id": "562f1c95",
   "metadata": {},
   "outputs": [],
   "source": [
    "def calculate_fitness(network, env, num_episodes=MAX_EP):\n",
    "    total_rewards = 0\n",
    "    for _ in range(num_episodes):\n",
    "        reward, _ = run_episode(network, env)\n",
    "        total_rewards += reward\n",
    "    avg_reward = total_rewards / num_episodes\n",
    "    return avg_reward"
   ]
  },
  {
   "cell_type": "code",
   "execution_count": 5,
   "id": "3406fb93",
   "metadata": {},
   "outputs": [],
   "source": [
    "def run_episode(network, env):\n",
    "    state = env.reset()\n",
    "    total_reward = 0.0\n",
    "    log_probs = []  # Store log probabilities of actions\n",
    "    done = False\n",
    "    while not done:\n",
    "        state_t = torch.as_tensor(state, dtype=torch.float32)\n",
    "        q_values = network(state_t.unsqueeze(0))\n",
    "        action_probs = nn.functional.softmax(q_values, dim=1)\n",
    "        action_dist = torch.distributions.Categorical(action_probs)\n",
    "        action = action_dist.sample()\n",
    "        log_prob = action_dist.log_prob(action)\n",
    "        log_probs.append(log_prob)\n",
    "        state, reward, done, _ = env.step(action.item())\n",
    "        total_reward += reward\n",
    "    return total_reward, log_probs"
   ]
  },
  {
   "cell_type": "code",
   "execution_count": 6,
   "id": "b62df800",
   "metadata": {},
   "outputs": [],
   "source": [
    "def mutate_and_tournament(population, tournament_size, mutation_rate, mutation_strength):\n",
    "    \n",
    "    # Select individuals for the tournament\n",
    "    individuals = random.sample(population, tournament_size)\n",
    "    # Calculate fitness for each individual\n",
    "    fitnesses = [calculate_fitness(individual, env) for individual in individuals]\n",
    "    # Select the best individual\n",
    "    parent = individuals[np.argmax(fitnesses)]\n",
    "    # Create offspring by deep copying the parent\n",
    "    offspring = deepcopy(parent)\n",
    "    \n",
    "    # Apply mutation\n",
    "    with torch.no_grad():\n",
    "        for param in offspring.parameters():\n",
    "            if random.random() < mutation_rate:\n",
    "                delta = torch.randn_like(param)\n",
    "                param.add_(mutation_strength * delta)\n",
    "    \n",
    "    # Return the mutated offspring\n",
    "    return offspring"
   ]
  },
  {
   "cell_type": "code",
   "execution_count": 7,
   "id": "0e6f4b95",
   "metadata": {},
   "outputs": [],
   "source": [
    "# Define genetic algorithm\n",
    "def main(POPULATION_SIZE, GENERATIONS, ELITISM, TOURNAMENT_SIZE, MUTATION_STRENGTH, MUTATION_RATE):\n",
    "    \n",
    "    FITNESS_HISTORY = list()\n",
    "    FITNESS_STDERROR_HISTORY = list()\n",
    "    \n",
    "    # Create initial population\n",
    "    population = [Network(env) for _ in range(POPULATION_SIZE)]\n",
    "\n",
    "    for generation in range(1, GENERATIONS + 1):\n",
    "\n",
    "        # Calculate fitness for each network\n",
    "        fitnesses = [calculate_fitness(network, env) for network in tqdm(population, desc=\"Calculating fitnesses\")]\n",
    "        \n",
    "        # average fitness \n",
    "        avg_fitness = np.average(fitnesses)\n",
    "        max_fitness = np.max(fitnesses)\n",
    "        min_fitness = np.min(fitnesses)\n",
    "        FITNESS_HISTORY.append([avg_fitness, max_fitness, min_fitness])\n",
    "        \n",
    "        # std error\n",
    "        standard_deviation = statistics.stdev(fitnesses)\n",
    "        standard_error = standard_deviation / (POPULATION_SIZE ** 0.5)\n",
    "        FITNESS_STDERROR_HISTORY.append(standard_error)\n",
    "\n",
    "        print(f\"[Generation: {generation}] \\n Average Fitness: {avg_fitness} \\n Best Fitness: {max_fitness} \\n Worst Fitness: {min_fitness} \\n Standard Error: {standard_error}\")\n",
    "        \n",
    "        # Sort population by fitness\n",
    "        population = [x for _, x in sorted(zip(fitnesses, population), key=lambda pair: pair[0], reverse=True)]\n",
    "        \n",
    "        # Select the best networks to pass their genes to the next generation\n",
    "        survivors = population[:ELITISM]\n",
    "        \n",
    "        # Create the next generation\n",
    "        next_population = survivors  # Start with the survivors\n",
    "        \n",
    "        num_individuals_to_add = POPULATION_SIZE - len(next_population)\n",
    "        # Add offspring by tournament selection and mutation\n",
    "        for _ in tqdm(range(num_individuals_to_add), desc=\"Generating Offspring\"):\n",
    "            offspring = mutate_and_tournament(population, TOURNAMENT_SIZE, MUTATION_RATE, MUTATION_STRENGTH)\n",
    "            next_population.append(offspring)\n",
    "\n",
    "        # The next generation becomes the current population\n",
    "        population = next_population\n",
    "\n",
    "    return population, FITNESS_HISTORY, FITNESS_STDERROR_HISTORY"
   ]
  },
  {
   "cell_type": "markdown",
   "id": "58016015",
   "metadata": {},
   "source": [
    "### Version Control"
   ]
  },
  {
   "cell_type": "code",
   "execution_count": 8,
   "id": "5345a1c9",
   "metadata": {
    "scrolled": true
   },
   "outputs": [
    {
     "name": "stderr",
     "output_type": "stream",
     "text": [
      "Calculating fitnesses:   0%|                                       | 0/200 [00:00<?, ?it/s]/Users/jinhyunpark/miniforge3/envs/tilda/lib/python3.11/site-packages/gym/utils/passive_env_checker.py:241: DeprecationWarning: `np.bool8` is a deprecated alias for `np.bool_`.  (Deprecated NumPy 1.24)\n",
      "  if not isinstance(terminated, (bool, np.bool8)):\n",
      "Calculating fitnesses: 100%|████████████████████████████| 200/200 [00:00<00:00, 603.38it/s]\n"
     ]
    },
    {
     "name": "stdout",
     "output_type": "stream",
     "text": [
      "[Generation: 1] \n",
      " Average Fitness: 21.29 \n",
      " Best Fitness: 64.0 \n",
      " Worst Fitness: 8.0 \n",
      " Standard Error: 0.8187989119994343\n"
     ]
    },
    {
     "name": "stderr",
     "output_type": "stream",
     "text": [
      "Generating Offspring: 100%|█████████████████████████████| 100/100 [00:00<00:00, 186.75it/s]\n",
      "Calculating fitnesses: 100%|████████████████████████████| 200/200 [00:00<00:00, 595.21it/s]\n"
     ]
    },
    {
     "name": "stdout",
     "output_type": "stream",
     "text": [
      "[Generation: 2] \n",
      " Average Fitness: 20.77 \n",
      " Best Fitness: 84.0 \n",
      " Worst Fitness: 9.0 \n",
      " Standard Error: 0.8207641371576984\n"
     ]
    },
    {
     "name": "stderr",
     "output_type": "stream",
     "text": [
      "Generating Offspring: 100%|█████████████████████████████| 100/100 [00:00<00:00, 182.61it/s]\n",
      "Calculating fitnesses: 100%|████████████████████████████| 200/200 [00:00<00:00, 569.89it/s]\n"
     ]
    },
    {
     "name": "stdout",
     "output_type": "stream",
     "text": [
      "[Generation: 3] \n",
      " Average Fitness: 22.655 \n",
      " Best Fitness: 122.0 \n",
      " Worst Fitness: 9.0 \n",
      " Standard Error: 0.9740501751545415\n"
     ]
    },
    {
     "name": "stderr",
     "output_type": "stream",
     "text": [
      "Generating Offspring: 100%|█████████████████████████████| 100/100 [00:00<00:00, 170.07it/s]\n",
      "Calculating fitnesses: 100%|████████████████████████████| 200/200 [00:00<00:00, 489.56it/s]\n"
     ]
    },
    {
     "name": "stdout",
     "output_type": "stream",
     "text": [
      "[Generation: 4] \n",
      " Average Fitness: 23.12 \n",
      " Best Fitness: 76.0 \n",
      " Worst Fitness: 9.0 \n",
      " Standard Error: 0.84572706670461\n"
     ]
    },
    {
     "name": "stderr",
     "output_type": "stream",
     "text": [
      "Generating Offspring: 100%|█████████████████████████████| 100/100 [00:00<00:00, 191.56it/s]\n",
      "Calculating fitnesses: 100%|████████████████████████████| 200/200 [00:00<00:00, 500.85it/s]\n"
     ]
    },
    {
     "name": "stdout",
     "output_type": "stream",
     "text": [
      "[Generation: 5] \n",
      " Average Fitness: 23.94 \n",
      " Best Fitness: 78.0 \n",
      " Worst Fitness: 9.0 \n",
      " Standard Error: 0.9447192558436655\n"
     ]
    },
    {
     "name": "stderr",
     "output_type": "stream",
     "text": [
      "Generating Offspring: 100%|█████████████████████████████| 100/100 [00:00<00:00, 172.49it/s]\n",
      "Calculating fitnesses: 100%|████████████████████████████| 200/200 [00:00<00:00, 539.22it/s]\n"
     ]
    },
    {
     "name": "stdout",
     "output_type": "stream",
     "text": [
      "[Generation: 6] \n",
      " Average Fitness: 24.795 \n",
      " Best Fitness: 75.0 \n",
      " Worst Fitness: 9.0 \n",
      " Standard Error: 0.9191786124622571\n"
     ]
    },
    {
     "name": "stderr",
     "output_type": "stream",
     "text": [
      "Generating Offspring: 100%|█████████████████████████████| 100/100 [00:00<00:00, 176.82it/s]\n",
      "Calculating fitnesses: 100%|████████████████████████████| 200/200 [00:00<00:00, 509.16it/s]\n"
     ]
    },
    {
     "name": "stdout",
     "output_type": "stream",
     "text": [
      "[Generation: 7] \n",
      " Average Fitness: 25.45 \n",
      " Best Fitness: 105.0 \n",
      " Worst Fitness: 9.0 \n",
      " Standard Error: 1.0268199922490855\n"
     ]
    },
    {
     "name": "stderr",
     "output_type": "stream",
     "text": [
      "Generating Offspring: 100%|█████████████████████████████| 100/100 [00:00<00:00, 156.78it/s]\n",
      "Calculating fitnesses: 100%|████████████████████████████| 200/200 [00:00<00:00, 495.10it/s]\n"
     ]
    },
    {
     "name": "stdout",
     "output_type": "stream",
     "text": [
      "[Generation: 8] \n",
      " Average Fitness: 26.055 \n",
      " Best Fitness: 103.0 \n",
      " Worst Fitness: 8.0 \n",
      " Standard Error: 1.0968249632461873\n"
     ]
    },
    {
     "name": "stderr",
     "output_type": "stream",
     "text": [
      "Generating Offspring: 100%|█████████████████████████████| 100/100 [00:00<00:00, 162.87it/s]\n",
      "Calculating fitnesses: 100%|████████████████████████████| 200/200 [00:00<00:00, 471.42it/s]\n"
     ]
    },
    {
     "name": "stdout",
     "output_type": "stream",
     "text": [
      "[Generation: 9] \n",
      " Average Fitness: 27.365 \n",
      " Best Fitness: 91.0 \n",
      " Worst Fitness: 8.0 \n",
      " Standard Error: 1.0281998099816159\n"
     ]
    },
    {
     "name": "stderr",
     "output_type": "stream",
     "text": [
      "Generating Offspring: 100%|█████████████████████████████| 100/100 [00:00<00:00, 159.15it/s]\n",
      "Calculating fitnesses: 100%|████████████████████████████| 200/200 [00:00<00:00, 462.47it/s]\n"
     ]
    },
    {
     "name": "stdout",
     "output_type": "stream",
     "text": [
      "[Generation: 10] \n",
      " Average Fitness: 28.49 \n",
      " Best Fitness: 86.0 \n",
      " Worst Fitness: 8.0 \n",
      " Standard Error: 1.122116404893295\n"
     ]
    },
    {
     "name": "stderr",
     "output_type": "stream",
     "text": [
      "Generating Offspring: 100%|█████████████████████████████| 100/100 [00:00<00:00, 129.83it/s]\n",
      "Calculating fitnesses: 100%|████████████████████████████| 200/200 [00:00<00:00, 388.09it/s]\n"
     ]
    },
    {
     "name": "stdout",
     "output_type": "stream",
     "text": [
      "[Generation: 11] \n",
      " Average Fitness: 32.965 \n",
      " Best Fitness: 102.0 \n",
      " Worst Fitness: 9.0 \n",
      " Standard Error: 1.3770257348255548\n"
     ]
    },
    {
     "name": "stderr",
     "output_type": "stream",
     "text": [
      "Generating Offspring: 100%|█████████████████████████████| 100/100 [00:00<00:00, 128.17it/s]\n",
      "Calculating fitnesses: 100%|████████████████████████████| 200/200 [00:00<00:00, 388.29it/s]\n"
     ]
    },
    {
     "name": "stdout",
     "output_type": "stream",
     "text": [
      "[Generation: 12] \n",
      " Average Fitness: 33.77 \n",
      " Best Fitness: 120.0 \n",
      " Worst Fitness: 9.0 \n",
      " Standard Error: 1.2100024917952663\n"
     ]
    },
    {
     "name": "stderr",
     "output_type": "stream",
     "text": [
      "Generating Offspring: 100%|█████████████████████████████| 100/100 [00:00<00:00, 118.25it/s]\n",
      "Calculating fitnesses: 100%|████████████████████████████| 200/200 [00:00<00:00, 327.01it/s]\n"
     ]
    },
    {
     "name": "stdout",
     "output_type": "stream",
     "text": [
      "[Generation: 13] \n",
      " Average Fitness: 39.965 \n",
      " Best Fitness: 131.0 \n",
      " Worst Fitness: 8.0 \n",
      " Standard Error: 1.377427094989078\n"
     ]
    },
    {
     "name": "stderr",
     "output_type": "stream",
     "text": [
      "Generating Offspring: 100%|█████████████████████████████| 100/100 [00:00<00:00, 111.23it/s]\n",
      "Calculating fitnesses: 100%|████████████████████████████| 200/200 [00:00<00:00, 269.76it/s]\n"
     ]
    },
    {
     "name": "stdout",
     "output_type": "stream",
     "text": [
      "[Generation: 14] \n",
      " Average Fitness: 37.665 \n",
      " Best Fitness: 237.0 \n",
      " Worst Fitness: 10.0 \n",
      " Standard Error: 1.609570583202724\n"
     ]
    },
    {
     "name": "stderr",
     "output_type": "stream",
     "text": [
      "Generating Offspring: 100%|██████████████████████████████| 100/100 [00:01<00:00, 92.79it/s]\n",
      "Calculating fitnesses: 100%|████████████████████████████| 200/200 [00:00<00:00, 260.48it/s]\n"
     ]
    },
    {
     "name": "stdout",
     "output_type": "stream",
     "text": [
      "[Generation: 15] \n",
      " Average Fitness: 47.195 \n",
      " Best Fitness: 292.0 \n",
      " Worst Fitness: 10.0 \n",
      " Standard Error: 2.5302560847217332\n"
     ]
    },
    {
     "name": "stderr",
     "output_type": "stream",
     "text": [
      "Generating Offspring: 100%|██████████████████████████████| 100/100 [00:01<00:00, 89.03it/s]\n",
      "Calculating fitnesses: 100%|████████████████████████████| 200/200 [00:00<00:00, 251.00it/s]\n"
     ]
    },
    {
     "name": "stdout",
     "output_type": "stream",
     "text": [
      "[Generation: 16] \n",
      " Average Fitness: 50.675 \n",
      " Best Fitness: 250.0 \n",
      " Worst Fitness: 9.0 \n",
      " Standard Error: 2.4938914063634905\n"
     ]
    },
    {
     "name": "stderr",
     "output_type": "stream",
     "text": [
      "Generating Offspring: 100%|██████████████████████████████| 100/100 [00:01<00:00, 86.25it/s]\n",
      "Calculating fitnesses: 100%|████████████████████████████| 200/200 [00:00<00:00, 208.83it/s]\n"
     ]
    },
    {
     "name": "stdout",
     "output_type": "stream",
     "text": [
      "[Generation: 17] \n",
      " Average Fitness: 60.855 \n",
      " Best Fitness: 500.0 \n",
      " Worst Fitness: 12.0 \n",
      " Standard Error: 3.781868921272714\n"
     ]
    },
    {
     "name": "stderr",
     "output_type": "stream",
     "text": [
      "Generating Offspring: 100%|██████████████████████████████| 100/100 [00:01<00:00, 66.19it/s]\n",
      "Calculating fitnesses: 100%|████████████████████████████| 200/200 [00:01<00:00, 144.78it/s]\n"
     ]
    },
    {
     "name": "stdout",
     "output_type": "stream",
     "text": [
      "[Generation: 18] \n",
      " Average Fitness: 83.2 \n",
      " Best Fitness: 392.0 \n",
      " Worst Fitness: 10.0 \n",
      " Standard Error: 4.508194660335486\n"
     ]
    },
    {
     "name": "stderr",
     "output_type": "stream",
     "text": [
      "Generating Offspring: 100%|██████████████████████████████| 100/100 [00:01<00:00, 52.24it/s]\n",
      "Calculating fitnesses: 100%|████████████████████████████| 200/200 [00:01<00:00, 110.44it/s]\n"
     ]
    },
    {
     "name": "stdout",
     "output_type": "stream",
     "text": [
      "[Generation: 19] \n",
      " Average Fitness: 113.415 \n",
      " Best Fitness: 500.0 \n",
      " Worst Fitness: 12.0 \n",
      " Standard Error: 6.360712001089502\n"
     ]
    },
    {
     "name": "stderr",
     "output_type": "stream",
     "text": [
      "Generating Offspring: 100%|██████████████████████████████| 100/100 [00:02<00:00, 35.84it/s]\n",
      "Calculating fitnesses: 100%|█████████████████████████████| 200/200 [00:02<00:00, 77.65it/s]\n"
     ]
    },
    {
     "name": "stdout",
     "output_type": "stream",
     "text": [
      "[Generation: 20] \n",
      " Average Fitness: 162.17 \n",
      " Best Fitness: 500.0 \n",
      " Worst Fitness: 13.0 \n",
      " Standard Error: 6.742183674709373\n"
     ]
    },
    {
     "name": "stderr",
     "output_type": "stream",
     "text": [
      "Generating Offspring: 100%|██████████████████████████████| 100/100 [00:03<00:00, 25.87it/s]\n",
      "Calculating fitnesses: 100%|█████████████████████████████| 200/200 [00:03<00:00, 61.51it/s]\n"
     ]
    },
    {
     "name": "stdout",
     "output_type": "stream",
     "text": [
      "[Generation: 21] \n",
      " Average Fitness: 205.195 \n",
      " Best Fitness: 500.0 \n",
      " Worst Fitness: 9.0 \n",
      " Standard Error: 8.394948521485523\n"
     ]
    },
    {
     "name": "stderr",
     "output_type": "stream",
     "text": [
      "Generating Offspring: 100%|██████████████████████████████| 100/100 [00:05<00:00, 19.31it/s]\n",
      "Calculating fitnesses: 100%|█████████████████████████████| 200/200 [00:04<00:00, 44.94it/s]\n"
     ]
    },
    {
     "name": "stdout",
     "output_type": "stream",
     "text": [
      "[Generation: 22] \n",
      " Average Fitness: 274.6 \n",
      " Best Fitness: 500.0 \n",
      " Worst Fitness: 71.0 \n",
      " Standard Error: 9.13982670299629\n"
     ]
    },
    {
     "name": "stderr",
     "output_type": "stream",
     "text": [
      "Generating Offspring: 100%|██████████████████████████████| 100/100 [00:06<00:00, 15.17it/s]\n",
      "Calculating fitnesses: 100%|█████████████████████████████| 200/200 [00:05<00:00, 36.55it/s]\n"
     ]
    },
    {
     "name": "stdout",
     "output_type": "stream",
     "text": [
      "[Generation: 23] \n",
      " Average Fitness: 339.285 \n",
      " Best Fitness: 500.0 \n",
      " Worst Fitness: 79.0 \n",
      " Standard Error: 8.650861570070498\n"
     ]
    },
    {
     "name": "stderr",
     "output_type": "stream",
     "text": [
      "Generating Offspring: 100%|██████████████████████████████| 100/100 [00:08<00:00, 12.49it/s]\n",
      "Calculating fitnesses: 100%|█████████████████████████████| 200/200 [00:05<00:00, 35.36it/s]\n"
     ]
    },
    {
     "name": "stdout",
     "output_type": "stream",
     "text": [
      "[Generation: 24] \n",
      " Average Fitness: 353.795 \n",
      " Best Fitness: 500.0 \n",
      " Worst Fitness: 91.0 \n",
      " Standard Error: 7.532430045273216\n"
     ]
    },
    {
     "name": "stderr",
     "output_type": "stream",
     "text": [
      "Generating Offspring: 100%|██████████████████████████████| 100/100 [00:08<00:00, 11.97it/s]\n",
      "Calculating fitnesses: 100%|█████████████████████████████| 200/200 [00:05<00:00, 36.02it/s]\n"
     ]
    },
    {
     "name": "stdout",
     "output_type": "stream",
     "text": [
      "[Generation: 25] \n",
      " Average Fitness: 349.19 \n",
      " Best Fitness: 500.0 \n",
      " Worst Fitness: 8.0 \n",
      " Standard Error: 8.281857601204766\n"
     ]
    },
    {
     "name": "stderr",
     "output_type": "stream",
     "text": [
      "Generating Offspring: 100%|██████████████████████████████| 100/100 [00:07<00:00, 12.54it/s]\n",
      "Calculating fitnesses: 100%|█████████████████████████████| 200/200 [00:05<00:00, 36.34it/s]\n"
     ]
    },
    {
     "name": "stdout",
     "output_type": "stream",
     "text": [
      "[Generation: 26] \n",
      " Average Fitness: 345.03 \n",
      " Best Fitness: 500.0 \n",
      " Worst Fitness: 11.0 \n",
      " Standard Error: 8.01449349804158\n"
     ]
    },
    {
     "name": "stderr",
     "output_type": "stream",
     "text": [
      "Generating Offspring: 100%|██████████████████████████████| 100/100 [00:08<00:00, 11.70it/s]\n",
      "Calculating fitnesses: 100%|█████████████████████████████| 200/200 [00:05<00:00, 36.43it/s]\n"
     ]
    },
    {
     "name": "stdout",
     "output_type": "stream",
     "text": [
      "[Generation: 27] \n",
      " Average Fitness: 341.825 \n",
      " Best Fitness: 500.0 \n",
      " Worst Fitness: 118.0 \n",
      " Standard Error: 7.579814629931302\n"
     ]
    },
    {
     "name": "stderr",
     "output_type": "stream",
     "text": [
      "Generating Offspring: 100%|██████████████████████████████| 100/100 [00:08<00:00, 11.47it/s]\n",
      "Calculating fitnesses: 100%|█████████████████████████████| 200/200 [00:05<00:00, 33.85it/s]\n"
     ]
    },
    {
     "name": "stdout",
     "output_type": "stream",
     "text": [
      "[Generation: 28] \n",
      " Average Fitness: 363.965 \n",
      " Best Fitness: 500.0 \n",
      " Worst Fitness: 64.0 \n",
      " Standard Error: 7.843665233580689\n"
     ]
    },
    {
     "name": "stderr",
     "output_type": "stream",
     "text": [
      "Generating Offspring: 100%|██████████████████████████████| 100/100 [00:08<00:00, 11.50it/s]\n",
      "Calculating fitnesses: 100%|█████████████████████████████| 200/200 [00:05<00:00, 35.02it/s]\n"
     ]
    },
    {
     "name": "stdout",
     "output_type": "stream",
     "text": [
      "[Generation: 29] \n",
      " Average Fitness: 355.62 \n",
      " Best Fitness: 500.0 \n",
      " Worst Fitness: 15.0 \n",
      " Standard Error: 8.71789461006273\n"
     ]
    },
    {
     "name": "stderr",
     "output_type": "stream",
     "text": [
      "Generating Offspring: 100%|██████████████████████████████| 100/100 [00:08<00:00, 11.28it/s]\n",
      "Calculating fitnesses: 100%|█████████████████████████████| 200/200 [00:05<00:00, 33.86it/s]\n"
     ]
    },
    {
     "name": "stdout",
     "output_type": "stream",
     "text": [
      "[Generation: 30] \n",
      " Average Fitness: 365.63 \n",
      " Best Fitness: 500.0 \n",
      " Worst Fitness: 38.0 \n",
      " Standard Error: 7.9262121911094745\n"
     ]
    },
    {
     "name": "stderr",
     "output_type": "stream",
     "text": [
      "Generating Offspring: 100%|██████████████████████████████| 100/100 [00:09<00:00, 11.11it/s]\n",
      "Calculating fitnesses: 100%|█████████████████████████████| 200/200 [00:06<00:00, 33.13it/s]\n"
     ]
    },
    {
     "name": "stdout",
     "output_type": "stream",
     "text": [
      "[Generation: 31] \n",
      " Average Fitness: 373.125 \n",
      " Best Fitness: 500.0 \n",
      " Worst Fitness: 98.0 \n",
      " Standard Error: 7.425150583045742\n"
     ]
    },
    {
     "name": "stderr",
     "output_type": "stream",
     "text": [
      "Generating Offspring: 100%|██████████████████████████████| 100/100 [00:09<00:00, 10.84it/s]\n",
      "Calculating fitnesses: 100%|█████████████████████████████| 200/200 [00:06<00:00, 31.52it/s]\n"
     ]
    },
    {
     "name": "stdout",
     "output_type": "stream",
     "text": [
      "[Generation: 32] \n",
      " Average Fitness: 397.255 \n",
      " Best Fitness: 500.0 \n",
      " Worst Fitness: 31.0 \n",
      " Standard Error: 7.058250090973942\n"
     ]
    },
    {
     "name": "stderr",
     "output_type": "stream",
     "text": [
      "Generating Offspring: 100%|██████████████████████████████| 100/100 [00:09<00:00, 10.43it/s]\n",
      "Calculating fitnesses: 100%|█████████████████████████████| 200/200 [00:06<00:00, 29.31it/s]\n"
     ]
    },
    {
     "name": "stdout",
     "output_type": "stream",
     "text": [
      "[Generation: 33] \n",
      " Average Fitness: 417.02 \n",
      " Best Fitness: 500.0 \n",
      " Worst Fitness: 76.0 \n",
      " Standard Error: 6.083852753116896\n"
     ]
    },
    {
     "name": "stderr",
     "output_type": "stream",
     "text": [
      "Generating Offspring: 100%|██████████████████████████████| 100/100 [00:10<00:00, 10.00it/s]\n",
      "Calculating fitnesses: 100%|█████████████████████████████| 200/200 [00:07<00:00, 28.47it/s]\n"
     ]
    },
    {
     "name": "stdout",
     "output_type": "stream",
     "text": [
      "[Generation: 34] \n",
      " Average Fitness: 434.705 \n",
      " Best Fitness: 500.0 \n",
      " Worst Fitness: 55.0 \n",
      " Standard Error: 6.09831428021724\n"
     ]
    },
    {
     "name": "stderr",
     "output_type": "stream",
     "text": [
      "Generating Offspring: 100%|██████████████████████████████| 100/100 [00:10<00:00,  9.33it/s]\n",
      "Calculating fitnesses: 100%|█████████████████████████████| 200/200 [00:07<00:00, 27.71it/s]\n"
     ]
    },
    {
     "name": "stdout",
     "output_type": "stream",
     "text": [
      "[Generation: 35] \n",
      " Average Fitness: 448.15 \n",
      " Best Fitness: 500.0 \n",
      " Worst Fitness: 77.0 \n",
      " Standard Error: 5.948234609938849\n"
     ]
    },
    {
     "name": "stderr",
     "output_type": "stream",
     "text": [
      "Generating Offspring: 100%|██████████████████████████████| 100/100 [00:11<00:00,  8.95it/s]\n",
      "Calculating fitnesses: 100%|█████████████████████████████| 200/200 [00:07<00:00, 25.36it/s]\n"
     ]
    },
    {
     "name": "stdout",
     "output_type": "stream",
     "text": [
      "[Generation: 36] \n",
      " Average Fitness: 485.37 \n",
      " Best Fitness: 500.0 \n",
      " Worst Fitness: 210.0 \n",
      " Standard Error: 3.029754538376677\n"
     ]
    },
    {
     "name": "stderr",
     "output_type": "stream",
     "text": [
      "Generating Offspring: 100%|██████████████████████████████| 100/100 [00:11<00:00,  8.49it/s]\n",
      "Calculating fitnesses: 100%|█████████████████████████████| 200/200 [00:07<00:00, 25.09it/s]\n"
     ]
    },
    {
     "name": "stdout",
     "output_type": "stream",
     "text": [
      "[Generation: 37] \n",
      " Average Fitness: 487.07 \n",
      " Best Fitness: 500.0 \n",
      " Worst Fitness: 28.0 \n",
      " Standard Error: 3.476912437853808\n"
     ]
    },
    {
     "name": "stderr",
     "output_type": "stream",
     "text": [
      "Generating Offspring: 100%|██████████████████████████████| 100/100 [00:11<00:00,  8.53it/s]\n",
      "Calculating fitnesses: 100%|█████████████████████████████| 200/200 [00:07<00:00, 25.35it/s]\n"
     ]
    },
    {
     "name": "stdout",
     "output_type": "stream",
     "text": [
      "[Generation: 38] \n",
      " Average Fitness: 486.655 \n",
      " Best Fitness: 500.0 \n",
      " Worst Fitness: 67.0 \n",
      " Standard Error: 3.726157689987538\n"
     ]
    },
    {
     "name": "stderr",
     "output_type": "stream",
     "text": [
      "Generating Offspring: 100%|██████████████████████████████| 100/100 [00:11<00:00,  8.41it/s]\n",
      "Calculating fitnesses: 100%|█████████████████████████████| 200/200 [00:07<00:00, 25.08it/s]\n"
     ]
    },
    {
     "name": "stdout",
     "output_type": "stream",
     "text": [
      "[Generation: 39] \n",
      " Average Fitness: 497.12 \n",
      " Best Fitness: 500.0 \n",
      " Worst Fitness: 292.0 \n",
      " Standard Error: 1.3365101183614032\n"
     ]
    },
    {
     "name": "stderr",
     "output_type": "stream",
     "text": [
      "Generating Offspring: 100%|██████████████████████████████| 100/100 [00:12<00:00,  8.26it/s]\n",
      "Calculating fitnesses: 100%|█████████████████████████████| 200/200 [00:07<00:00, 25.15it/s]\n"
     ]
    },
    {
     "name": "stdout",
     "output_type": "stream",
     "text": [
      "[Generation: 40] \n",
      " Average Fitness: 489.42 \n",
      " Best Fitness: 500.0 \n",
      " Worst Fitness: 11.0 \n",
      " Standard Error: 4.405703019437124\n"
     ]
    },
    {
     "name": "stderr",
     "output_type": "stream",
     "text": [
      "Generating Offspring: 100%|██████████████████████████████| 100/100 [00:11<00:00,  8.36it/s]\n",
      "Calculating fitnesses: 100%|█████████████████████████████| 200/200 [00:08<00:00, 24.85it/s]\n"
     ]
    },
    {
     "name": "stdout",
     "output_type": "stream",
     "text": [
      "[Generation: 41] \n",
      " Average Fitness: 497.945 \n",
      " Best Fitness: 500.0 \n",
      " Worst Fitness: 316.0 \n",
      " Standard Error: 1.2629270758816498\n"
     ]
    },
    {
     "name": "stderr",
     "output_type": "stream",
     "text": [
      "Generating Offspring: 100%|██████████████████████████████| 100/100 [00:12<00:00,  8.23it/s]\n",
      "Calculating fitnesses: 100%|█████████████████████████████| 200/200 [00:08<00:00, 24.89it/s]\n"
     ]
    },
    {
     "name": "stdout",
     "output_type": "stream",
     "text": [
      "[Generation: 42] \n",
      " Average Fitness: 495.73 \n",
      " Best Fitness: 500.0 \n",
      " Worst Fitness: 74.0 \n",
      " Standard Error: 2.5005598368140354\n"
     ]
    },
    {
     "name": "stderr",
     "output_type": "stream",
     "text": [
      "Generating Offspring: 100%|██████████████████████████████| 100/100 [00:12<00:00,  8.33it/s]\n",
      "Calculating fitnesses: 100%|█████████████████████████████| 200/200 [00:07<00:00, 25.09it/s]\n"
     ]
    },
    {
     "name": "stdout",
     "output_type": "stream",
     "text": [
      "[Generation: 43] \n",
      " Average Fitness: 494.905 \n",
      " Best Fitness: 500.0 \n",
      " Worst Fitness: 12.0 \n",
      " Standard Error: 3.1012122568943195\n"
     ]
    },
    {
     "name": "stderr",
     "output_type": "stream",
     "text": [
      "Generating Offspring: 100%|██████████████████████████████| 100/100 [00:12<00:00,  8.29it/s]\n",
      "Calculating fitnesses: 100%|█████████████████████████████| 200/200 [00:08<00:00, 24.78it/s]\n"
     ]
    },
    {
     "name": "stdout",
     "output_type": "stream",
     "text": [
      "[Generation: 44] \n",
      " Average Fitness: 495.15 \n",
      " Best Fitness: 500.0 \n",
      " Worst Fitness: 21.0 \n",
      " Standard Error: 3.3512073126354487\n"
     ]
    },
    {
     "name": "stderr",
     "output_type": "stream",
     "text": [
      "Generating Offspring: 100%|██████████████████████████████| 100/100 [00:12<00:00,  8.29it/s]\n",
      "Calculating fitnesses: 100%|█████████████████████████████| 200/200 [00:08<00:00, 24.96it/s]\n"
     ]
    },
    {
     "name": "stdout",
     "output_type": "stream",
     "text": [
      "[Generation: 45] \n",
      " Average Fitness: 493.34 \n",
      " Best Fitness: 500.0 \n",
      " Worst Fitness: 13.0 \n",
      " Standard Error: 3.6129821755725593\n"
     ]
    },
    {
     "name": "stderr",
     "output_type": "stream",
     "text": [
      "Generating Offspring: 100%|██████████████████████████████| 100/100 [00:11<00:00,  8.40it/s]\n",
      "Calculating fitnesses: 100%|█████████████████████████████| 200/200 [00:08<00:00, 24.80it/s]\n"
     ]
    },
    {
     "name": "stdout",
     "output_type": "stream",
     "text": [
      "[Generation: 46] \n",
      " Average Fitness: 498.945 \n",
      " Best Fitness: 500.0 \n",
      " Worst Fitness: 395.0 \n",
      " Standard Error: 0.6644678038186334\n"
     ]
    },
    {
     "name": "stderr",
     "output_type": "stream",
     "text": [
      "Generating Offspring: 100%|██████████████████████████████| 100/100 [00:12<00:00,  8.23it/s]\n",
      "Calculating fitnesses: 100%|█████████████████████████████| 200/200 [00:08<00:00, 24.80it/s]\n"
     ]
    },
    {
     "name": "stdout",
     "output_type": "stream",
     "text": [
      "[Generation: 47] \n",
      " Average Fitness: 497.555 \n",
      " Best Fitness: 500.0 \n",
      " Worst Fitness: 11.0 \n",
      " Standard Error: 2.445\n"
     ]
    },
    {
     "name": "stderr",
     "output_type": "stream",
     "text": [
      "Generating Offspring: 100%|██████████████████████████████| 100/100 [00:12<00:00,  8.31it/s]\n",
      "Calculating fitnesses: 100%|█████████████████████████████| 200/200 [00:08<00:00, 24.93it/s]\n"
     ]
    },
    {
     "name": "stdout",
     "output_type": "stream",
     "text": [
      "[Generation: 48] \n",
      " Average Fitness: 495.115 \n",
      " Best Fitness: 500.0 \n",
      " Worst Fitness: 11.0 \n",
      " Standard Error: 3.4455285822432637\n"
     ]
    },
    {
     "name": "stderr",
     "output_type": "stream",
     "text": [
      "Generating Offspring: 100%|██████████████████████████████| 100/100 [00:12<00:00,  8.21it/s]\n",
      "Calculating fitnesses: 100%|█████████████████████████████| 200/200 [00:08<00:00, 24.83it/s]\n"
     ]
    },
    {
     "name": "stdout",
     "output_type": "stream",
     "text": [
      "[Generation: 49] \n",
      " Average Fitness: 497.485 \n",
      " Best Fitness: 500.0 \n",
      " Worst Fitness: 14.0 \n",
      " Standard Error: 2.4310592589657323\n"
     ]
    },
    {
     "name": "stderr",
     "output_type": "stream",
     "text": [
      "Generating Offspring: 100%|██████████████████████████████| 100/100 [00:12<00:00,  8.26it/s]\n",
      "Calculating fitnesses: 100%|█████████████████████████████| 200/200 [00:08<00:00, 24.77it/s]\n"
     ]
    },
    {
     "name": "stdout",
     "output_type": "stream",
     "text": [
      "[Generation: 50] \n",
      " Average Fitness: 498.585 \n",
      " Best Fitness: 500.0 \n",
      " Worst Fitness: 217.0 \n",
      " Standard Error: 1.4149999999999998\n"
     ]
    },
    {
     "name": "stderr",
     "output_type": "stream",
     "text": [
      "Generating Offspring: 100%|██████████████████████████████| 100/100 [00:12<00:00,  8.19it/s]\n",
      "Calculating fitnesses: 100%|█████████████████████████████| 200/200 [00:08<00:00, 24.76it/s]\n"
     ]
    },
    {
     "name": "stdout",
     "output_type": "stream",
     "text": [
      "[Generation: 51] \n",
      " Average Fitness: 497.965 \n",
      " Best Fitness: 500.0 \n",
      " Worst Fitness: 93.0 \n",
      " Standard Error: 2.035\n"
     ]
    },
    {
     "name": "stderr",
     "output_type": "stream",
     "text": [
      "Generating Offspring: 100%|██████████████████████████████| 100/100 [00:12<00:00,  8.29it/s]\n",
      "Calculating fitnesses: 100%|█████████████████████████████| 200/200 [00:08<00:00, 24.80it/s]\n"
     ]
    },
    {
     "name": "stdout",
     "output_type": "stream",
     "text": [
      "[Generation: 52] \n",
      " Average Fitness: 497.73 \n",
      " Best Fitness: 500.0 \n",
      " Worst Fitness: 104.0 \n",
      " Standard Error: 1.9996822611926732\n"
     ]
    },
    {
     "name": "stderr",
     "output_type": "stream",
     "text": [
      "Generating Offspring: 100%|██████████████████████████████| 100/100 [00:11<00:00,  8.35it/s]\n",
      "Calculating fitnesses: 100%|█████████████████████████████| 200/200 [00:07<00:00, 25.00it/s]\n"
     ]
    },
    {
     "name": "stdout",
     "output_type": "stream",
     "text": [
      "[Generation: 53] \n",
      " Average Fitness: 494.085 \n",
      " Best Fitness: 500.0 \n",
      " Worst Fitness: 144.0 \n",
      " Standard Error: 2.909564693995085\n"
     ]
    },
    {
     "name": "stderr",
     "output_type": "stream",
     "text": [
      "Generating Offspring: 100%|██████████████████████████████| 100/100 [00:12<00:00,  8.29it/s]\n",
      "Calculating fitnesses: 100%|█████████████████████████████| 200/200 [00:07<00:00, 25.01it/s]\n"
     ]
    },
    {
     "name": "stdout",
     "output_type": "stream",
     "text": [
      "[Generation: 54] \n",
      " Average Fitness: 495.11 \n",
      " Best Fitness: 500.0 \n",
      " Worst Fitness: 106.0 \n",
      " Standard Error: 2.8467983427036243\n"
     ]
    },
    {
     "name": "stderr",
     "output_type": "stream",
     "text": [
      "Generating Offspring: 100%|██████████████████████████████| 100/100 [00:12<00:00,  8.24it/s]\n",
      "Calculating fitnesses: 100%|█████████████████████████████| 200/200 [00:08<00:00, 24.98it/s]\n"
     ]
    },
    {
     "name": "stdout",
     "output_type": "stream",
     "text": [
      "[Generation: 55] \n",
      " Average Fitness: 492.735 \n",
      " Best Fitness: 500.0 \n",
      " Worst Fitness: 27.0 \n",
      " Standard Error: 3.484253721383515\n"
     ]
    },
    {
     "name": "stderr",
     "output_type": "stream",
     "text": [
      "Generating Offspring: 100%|██████████████████████████████| 100/100 [00:11<00:00,  8.44it/s]\n",
      "Calculating fitnesses: 100%|█████████████████████████████| 200/200 [00:08<00:00, 24.92it/s]\n"
     ]
    },
    {
     "name": "stdout",
     "output_type": "stream",
     "text": [
      "[Generation: 56] \n",
      " Average Fitness: 496.145 \n",
      " Best Fitness: 500.0 \n",
      " Worst Fitness: 15.0 \n",
      " Standard Error: 2.649655306111727\n"
     ]
    },
    {
     "name": "stderr",
     "output_type": "stream",
     "text": [
      "Generating Offspring: 100%|██████████████████████████████| 100/100 [00:11<00:00,  8.37it/s]\n",
      "Calculating fitnesses: 100%|█████████████████████████████| 200/200 [00:07<00:00, 25.17it/s]\n"
     ]
    },
    {
     "name": "stdout",
     "output_type": "stream",
     "text": [
      "[Generation: 57] \n",
      " Average Fitness: 490.89 \n",
      " Best Fitness: 500.0 \n",
      " Worst Fitness: 12.0 \n",
      " Standard Error: 4.316817585948213\n"
     ]
    },
    {
     "name": "stderr",
     "output_type": "stream",
     "text": [
      "Generating Offspring: 100%|██████████████████████████████| 100/100 [00:12<00:00,  8.30it/s]\n",
      "Calculating fitnesses: 100%|█████████████████████████████| 200/200 [00:08<00:00, 24.82it/s]\n"
     ]
    },
    {
     "name": "stdout",
     "output_type": "stream",
     "text": [
      "[Generation: 58] \n",
      " Average Fitness: 497.34 \n",
      " Best Fitness: 500.0 \n",
      " Worst Fitness: 33.0 \n",
      " Standard Error: 2.355891151046221\n"
     ]
    },
    {
     "name": "stderr",
     "output_type": "stream",
     "text": [
      "Generating Offspring: 100%|██████████████████████████████| 100/100 [00:12<00:00,  8.27it/s]\n",
      "Calculating fitnesses: 100%|█████████████████████████████| 200/200 [00:08<00:00, 24.89it/s]\n"
     ]
    },
    {
     "name": "stdout",
     "output_type": "stream",
     "text": [
      "[Generation: 59] \n",
      " Average Fitness: 495.12 \n",
      " Best Fitness: 500.0 \n",
      " Worst Fitness: 10.0 \n",
      " Standard Error: 3.442029318461092\n"
     ]
    },
    {
     "name": "stderr",
     "output_type": "stream",
     "text": [
      "Generating Offspring: 100%|██████████████████████████████| 100/100 [00:11<00:00,  8.34it/s]\n",
      "Calculating fitnesses: 100%|█████████████████████████████| 200/200 [00:08<00:00, 24.85it/s]\n"
     ]
    },
    {
     "name": "stdout",
     "output_type": "stream",
     "text": [
      "[Generation: 60] \n",
      " Average Fitness: 496.325 \n",
      " Best Fitness: 500.0 \n",
      " Worst Fitness: 22.0 \n",
      " Standard Error: 2.61466618736633\n"
     ]
    },
    {
     "name": "stderr",
     "output_type": "stream",
     "text": [
      "Generating Offspring: 100%|██████████████████████████████| 100/100 [00:12<00:00,  8.27it/s]\n",
      "Calculating fitnesses: 100%|█████████████████████████████| 200/200 [00:08<00:00, 24.62it/s]\n"
     ]
    },
    {
     "name": "stdout",
     "output_type": "stream",
     "text": [
      "[Generation: 61] \n",
      " Average Fitness: 497.95 \n",
      " Best Fitness: 500.0 \n",
      " Worst Fitness: 90.0 \n",
      " Standard Error: 2.05\n"
     ]
    },
    {
     "name": "stderr",
     "output_type": "stream",
     "text": [
      "Generating Offspring: 100%|██████████████████████████████| 100/100 [00:12<00:00,  8.23it/s]\n",
      "Calculating fitnesses: 100%|█████████████████████████████| 200/200 [00:08<00:00, 24.71it/s]\n"
     ]
    },
    {
     "name": "stdout",
     "output_type": "stream",
     "text": [
      "[Generation: 62] \n",
      " Average Fitness: 500.0 \n",
      " Best Fitness: 500.0 \n",
      " Worst Fitness: 500.0 \n",
      " Standard Error: 0.0\n"
     ]
    },
    {
     "name": "stderr",
     "output_type": "stream",
     "text": [
      "Generating Offspring: 100%|██████████████████████████████| 100/100 [00:12<00:00,  8.21it/s]\n",
      "Calculating fitnesses: 100%|█████████████████████████████| 200/200 [00:08<00:00, 24.79it/s]\n"
     ]
    },
    {
     "name": "stdout",
     "output_type": "stream",
     "text": [
      "[Generation: 63] \n",
      " Average Fitness: 497.69 \n",
      " Best Fitness: 500.0 \n",
      " Worst Fitness: 156.0 \n",
      " Standard Error: 1.8155718121366407\n"
     ]
    },
    {
     "name": "stderr",
     "output_type": "stream",
     "text": [
      "Generating Offspring: 100%|██████████████████████████████| 100/100 [00:12<00:00,  8.19it/s]\n",
      "Calculating fitnesses: 100%|█████████████████████████████| 200/200 [00:07<00:00, 25.03it/s]\n"
     ]
    },
    {
     "name": "stdout",
     "output_type": "stream",
     "text": [
      "[Generation: 64] \n",
      " Average Fitness: 493.255 \n",
      " Best Fitness: 500.0 \n",
      " Worst Fitness: 11.0 \n",
      " Standard Error: 3.7212414682907413\n"
     ]
    },
    {
     "name": "stderr",
     "output_type": "stream",
     "text": [
      "Generating Offspring: 100%|██████████████████████████████| 100/100 [00:12<00:00,  8.28it/s]\n",
      "Calculating fitnesses: 100%|█████████████████████████████| 200/200 [00:08<00:00, 24.97it/s]\n"
     ]
    },
    {
     "name": "stdout",
     "output_type": "stream",
     "text": [
      "[Generation: 65] \n",
      " Average Fitness: 493.0 \n",
      " Best Fitness: 500.0 \n",
      " Worst Fitness: 10.0 \n",
      " Standard Error: 4.025665149946961\n"
     ]
    },
    {
     "name": "stderr",
     "output_type": "stream",
     "text": [
      "Generating Offspring: 100%|██████████████████████████████| 100/100 [00:12<00:00,  8.31it/s]\n",
      "Calculating fitnesses: 100%|█████████████████████████████| 200/200 [00:07<00:00, 25.06it/s]\n"
     ]
    },
    {
     "name": "stdout",
     "output_type": "stream",
     "text": [
      "[Generation: 66] \n",
      " Average Fitness: 492.735 \n",
      " Best Fitness: 500.0 \n",
      " Worst Fitness: 44.0 \n",
      " Standard Error: 3.7227973319634753\n"
     ]
    },
    {
     "name": "stderr",
     "output_type": "stream",
     "text": [
      "Generating Offspring: 100%|██████████████████████████████| 100/100 [00:12<00:00,  8.28it/s]\n",
      "Calculating fitnesses: 100%|█████████████████████████████| 200/200 [00:07<00:00, 25.07it/s]\n"
     ]
    },
    {
     "name": "stdout",
     "output_type": "stream",
     "text": [
      "[Generation: 67] \n",
      " Average Fitness: 492.34 \n",
      " Best Fitness: 500.0 \n",
      " Worst Fitness: 44.0 \n",
      " Standard Error: 3.8549546530256906\n"
     ]
    },
    {
     "name": "stderr",
     "output_type": "stream",
     "text": [
      "Generating Offspring: 100%|██████████████████████████████| 100/100 [00:11<00:00,  8.44it/s]\n",
      "Calculating fitnesses: 100%|█████████████████████████████| 200/200 [00:07<00:00, 25.01it/s]\n"
     ]
    },
    {
     "name": "stdout",
     "output_type": "stream",
     "text": [
      "[Generation: 68] \n",
      " Average Fitness: 494.515 \n",
      " Best Fitness: 500.0 \n",
      " Worst Fitness: 8.0 \n",
      " Standard Error: 3.2898654911331473\n"
     ]
    },
    {
     "name": "stderr",
     "output_type": "stream",
     "text": [
      "Generating Offspring: 100%|██████████████████████████████| 100/100 [00:12<00:00,  8.28it/s]\n",
      "Calculating fitnesses: 100%|█████████████████████████████| 200/200 [00:07<00:00, 25.13it/s]\n"
     ]
    },
    {
     "name": "stdout",
     "output_type": "stream",
     "text": [
      "[Generation: 69] \n",
      " Average Fitness: 494.35 \n",
      " Best Fitness: 500.0 \n",
      " Worst Fitness: 12.0 \n",
      " Standard Error: 3.3167895569095305\n"
     ]
    },
    {
     "name": "stderr",
     "output_type": "stream",
     "text": [
      "Generating Offspring: 100%|██████████████████████████████| 100/100 [00:12<00:00,  8.19it/s]\n",
      "Calculating fitnesses: 100%|█████████████████████████████| 200/200 [00:08<00:00, 24.98it/s]\n"
     ]
    },
    {
     "name": "stdout",
     "output_type": "stream",
     "text": [
      "[Generation: 70] \n",
      " Average Fitness: 498.57 \n",
      " Best Fitness: 500.0 \n",
      " Worst Fitness: 326.0 \n",
      " Standard Error: 1.0322807358407593\n"
     ]
    },
    {
     "name": "stderr",
     "output_type": "stream",
     "text": [
      "Generating Offspring: 100%|██████████████████████████████| 100/100 [00:12<00:00,  8.19it/s]\n",
      "Calculating fitnesses: 100%|█████████████████████████████| 200/200 [00:07<00:00, 25.16it/s]\n"
     ]
    },
    {
     "name": "stdout",
     "output_type": "stream",
     "text": [
      "[Generation: 71] \n",
      " Average Fitness: 493.49 \n",
      " Best Fitness: 500.0 \n",
      " Worst Fitness: 11.0 \n",
      " Standard Error: 3.799014617016037\n"
     ]
    },
    {
     "name": "stderr",
     "output_type": "stream",
     "text": [
      "Generating Offspring: 100%|██████████████████████████████| 100/100 [00:12<00:00,  8.27it/s]\n",
      "Calculating fitnesses: 100%|█████████████████████████████| 200/200 [00:08<00:00, 24.89it/s]\n"
     ]
    },
    {
     "name": "stdout",
     "output_type": "stream",
     "text": [
      "[Generation: 72] \n",
      " Average Fitness: 495.365 \n",
      " Best Fitness: 500.0 \n",
      " Worst Fitness: 163.0 \n",
      " Standard Error: 2.5957946034144492\n"
     ]
    },
    {
     "name": "stderr",
     "output_type": "stream",
     "text": [
      "Generating Offspring: 100%|██████████████████████████████| 100/100 [00:12<00:00,  8.30it/s]\n",
      "Calculating fitnesses: 100%|█████████████████████████████| 200/200 [00:08<00:00, 24.81it/s]\n"
     ]
    },
    {
     "name": "stdout",
     "output_type": "stream",
     "text": [
      "[Generation: 73] \n",
      " Average Fitness: 495.97 \n",
      " Best Fitness: 500.0 \n",
      " Worst Fitness: 52.0 \n",
      " Standard Error: 2.8603151072150794\n"
     ]
    },
    {
     "name": "stderr",
     "output_type": "stream",
     "text": [
      "Generating Offspring: 100%|██████████████████████████████| 100/100 [00:12<00:00,  8.22it/s]\n",
      "Calculating fitnesses: 100%|█████████████████████████████| 200/200 [00:08<00:00, 24.94it/s]\n"
     ]
    },
    {
     "name": "stdout",
     "output_type": "stream",
     "text": [
      "[Generation: 74] \n",
      " Average Fitness: 494.245 \n",
      " Best Fitness: 500.0 \n",
      " Worst Fitness: 11.0 \n",
      " Standard Error: 3.406397303301495\n"
     ]
    },
    {
     "name": "stderr",
     "output_type": "stream",
     "text": [
      "Generating Offspring: 100%|██████████████████████████████| 100/100 [00:11<00:00,  8.34it/s]\n",
      "Calculating fitnesses: 100%|█████████████████████████████| 200/200 [00:08<00:00, 24.86it/s]\n"
     ]
    },
    {
     "name": "stdout",
     "output_type": "stream",
     "text": [
      "[Generation: 75] \n",
      " Average Fitness: 495.37 \n",
      " Best Fitness: 500.0 \n",
      " Worst Fitness: 52.0 \n",
      " Standard Error: 2.8104105639013746\n"
     ]
    },
    {
     "name": "stderr",
     "output_type": "stream",
     "text": [
      "Generating Offspring: 100%|██████████████████████████████| 100/100 [00:12<00:00,  8.25it/s]\n",
      "Calculating fitnesses: 100%|█████████████████████████████| 200/200 [00:07<00:00, 25.11it/s]\n"
     ]
    },
    {
     "name": "stdout",
     "output_type": "stream",
     "text": [
      "[Generation: 76] \n",
      " Average Fitness: 492.245 \n",
      " Best Fitness: 500.0 \n",
      " Worst Fitness: 9.0 \n",
      " Standard Error: 4.00563357995766\n"
     ]
    },
    {
     "name": "stderr",
     "output_type": "stream",
     "text": [
      "Generating Offspring: 100%|██████████████████████████████| 100/100 [00:12<00:00,  8.28it/s]\n",
      "Calculating fitnesses: 100%|█████████████████████████████| 200/200 [00:07<00:00, 25.16it/s]\n"
     ]
    },
    {
     "name": "stdout",
     "output_type": "stream",
     "text": [
      "[Generation: 77] \n",
      " Average Fitness: 492.665 \n",
      " Best Fitness: 500.0 \n",
      " Worst Fitness: 9.0 \n",
      " Standard Error: 3.7466184250755474\n"
     ]
    },
    {
     "name": "stderr",
     "output_type": "stream",
     "text": [
      "Generating Offspring: 100%|██████████████████████████████| 100/100 [00:12<00:00,  8.27it/s]\n",
      "Calculating fitnesses: 100%|█████████████████████████████| 200/200 [00:07<00:00, 25.28it/s]\n"
     ]
    },
    {
     "name": "stdout",
     "output_type": "stream",
     "text": [
      "[Generation: 78] \n",
      " Average Fitness: 490.3 \n",
      " Best Fitness: 500.0 \n",
      " Worst Fitness: 12.0 \n",
      " Standard Error: 4.409263888700812\n"
     ]
    },
    {
     "name": "stderr",
     "output_type": "stream",
     "text": [
      "Generating Offspring: 100%|██████████████████████████████| 100/100 [00:11<00:00,  8.44it/s]\n",
      "Calculating fitnesses: 100%|█████████████████████████████| 200/200 [00:08<00:00, 24.59it/s]\n"
     ]
    },
    {
     "name": "stdout",
     "output_type": "stream",
     "text": [
      "[Generation: 79] \n",
      " Average Fitness: 500.0 \n",
      " Best Fitness: 500.0 \n",
      " Worst Fitness: 500.0 \n",
      " Standard Error: 0.0\n"
     ]
    },
    {
     "name": "stderr",
     "output_type": "stream",
     "text": [
      "Generating Offspring: 100%|██████████████████████████████| 100/100 [00:12<00:00,  8.23it/s]\n",
      "Calculating fitnesses: 100%|█████████████████████████████| 200/200 [00:08<00:00, 24.65it/s]\n"
     ]
    },
    {
     "name": "stdout",
     "output_type": "stream",
     "text": [
      "[Generation: 80] \n",
      " Average Fitness: 497.945 \n",
      " Best Fitness: 500.0 \n",
      " Worst Fitness: 251.0 \n",
      " Standard Error: 1.481887250812491\n"
     ]
    },
    {
     "name": "stderr",
     "output_type": "stream",
     "text": [
      "Generating Offspring: 100%|██████████████████████████████| 100/100 [00:12<00:00,  8.25it/s]\n",
      "Calculating fitnesses: 100%|█████████████████████████████| 200/200 [00:08<00:00, 24.83it/s]\n"
     ]
    },
    {
     "name": "stdout",
     "output_type": "stream",
     "text": [
      "[Generation: 81] \n",
      " Average Fitness: 497.56 \n",
      " Best Fitness: 500.0 \n",
      " Worst Fitness: 12.0 \n",
      " Standard Error: 2.44\n"
     ]
    },
    {
     "name": "stderr",
     "output_type": "stream",
     "text": [
      "Generating Offspring: 100%|██████████████████████████████| 100/100 [00:12<00:00,  8.20it/s]\n",
      "Calculating fitnesses: 100%|█████████████████████████████| 200/200 [00:08<00:00, 24.84it/s]\n"
     ]
    },
    {
     "name": "stdout",
     "output_type": "stream",
     "text": [
      "[Generation: 82] \n",
      " Average Fitness: 496.305 \n",
      " Best Fitness: 500.0 \n",
      " Worst Fitness: 223.0 \n",
      " Standard Error: 2.1310011035937046\n"
     ]
    },
    {
     "name": "stderr",
     "output_type": "stream",
     "text": [
      "Generating Offspring: 100%|██████████████████████████████| 100/100 [00:12<00:00,  8.24it/s]\n",
      "Calculating fitnesses: 100%|█████████████████████████████| 200/200 [00:08<00:00, 24.66it/s]\n"
     ]
    },
    {
     "name": "stdout",
     "output_type": "stream",
     "text": [
      "[Generation: 83] \n",
      " Average Fitness: 500.0 \n",
      " Best Fitness: 500.0 \n",
      " Worst Fitness: 500.0 \n",
      " Standard Error: 0.0\n"
     ]
    },
    {
     "name": "stderr",
     "output_type": "stream",
     "text": [
      "Generating Offspring: 100%|██████████████████████████████| 100/100 [00:12<00:00,  8.20it/s]\n",
      "Calculating fitnesses: 100%|█████████████████████████████| 200/200 [00:08<00:00, 24.80it/s]\n"
     ]
    },
    {
     "name": "stdout",
     "output_type": "stream",
     "text": [
      "[Generation: 84] \n",
      " Average Fitness: 495.925 \n",
      " Best Fitness: 500.0 \n",
      " Worst Fitness: 19.0 \n",
      " Standard Error: 2.9210545481669516\n"
     ]
    },
    {
     "name": "stderr",
     "output_type": "stream",
     "text": [
      "Generating Offspring: 100%|██████████████████████████████| 100/100 [00:12<00:00,  8.27it/s]\n",
      "Calculating fitnesses: 100%|█████████████████████████████| 200/200 [00:08<00:00, 24.91it/s]\n"
     ]
    },
    {
     "name": "stdout",
     "output_type": "stream",
     "text": [
      "[Generation: 85] \n",
      " Average Fitness: 495.88 \n",
      " Best Fitness: 500.0 \n",
      " Worst Fitness: 31.0 \n",
      " Standard Error: 2.6984227665685894\n"
     ]
    },
    {
     "name": "stderr",
     "output_type": "stream",
     "text": [
      "Generating Offspring: 100%|██████████████████████████████| 100/100 [00:11<00:00,  8.36it/s]\n",
      "Calculating fitnesses: 100%|█████████████████████████████| 200/200 [00:08<00:00, 24.86it/s]\n"
     ]
    },
    {
     "name": "stdout",
     "output_type": "stream",
     "text": [
      "[Generation: 86] \n",
      " Average Fitness: 493.755 \n",
      " Best Fitness: 500.0 \n",
      " Worst Fitness: 10.0 \n",
      " Standard Error: 3.688066437203393\n"
     ]
    },
    {
     "name": "stderr",
     "output_type": "stream",
     "text": [
      "Generating Offspring: 100%|██████████████████████████████| 100/100 [00:12<00:00,  8.32it/s]\n",
      "Calculating fitnesses: 100%|█████████████████████████████| 200/200 [00:08<00:00, 24.96it/s]\n"
     ]
    },
    {
     "name": "stdout",
     "output_type": "stream",
     "text": [
      "[Generation: 87] \n",
      " Average Fitness: 495.165 \n",
      " Best Fitness: 500.0 \n",
      " Worst Fitness: 45.0 \n",
      " Standard Error: 3.119131897494854\n"
     ]
    },
    {
     "name": "stderr",
     "output_type": "stream",
     "text": [
      "Generating Offspring: 100%|██████████████████████████████| 100/100 [00:12<00:00,  8.22it/s]\n",
      "Calculating fitnesses: 100%|█████████████████████████████| 200/200 [00:07<00:00, 25.03it/s]\n"
     ]
    },
    {
     "name": "stdout",
     "output_type": "stream",
     "text": [
      "[Generation: 88] \n",
      " Average Fitness: 492.85 \n",
      " Best Fitness: 500.0 \n",
      " Worst Fitness: 10.0 \n",
      " Standard Error: 4.1081714745518605\n"
     ]
    },
    {
     "name": "stderr",
     "output_type": "stream",
     "text": [
      "Generating Offspring: 100%|██████████████████████████████| 100/100 [00:12<00:00,  8.30it/s]\n",
      "Calculating fitnesses: 100%|█████████████████████████████| 200/200 [00:08<00:00, 24.64it/s]\n"
     ]
    },
    {
     "name": "stdout",
     "output_type": "stream",
     "text": [
      "[Generation: 89] \n",
      " Average Fitness: 500.0 \n",
      " Best Fitness: 500.0 \n",
      " Worst Fitness: 500.0 \n",
      " Standard Error: 0.0\n"
     ]
    },
    {
     "name": "stderr",
     "output_type": "stream",
     "text": [
      "Generating Offspring: 100%|██████████████████████████████| 100/100 [00:12<00:00,  8.20it/s]\n",
      "Calculating fitnesses: 100%|█████████████████████████████| 200/200 [00:07<00:00, 25.01it/s]\n"
     ]
    },
    {
     "name": "stdout",
     "output_type": "stream",
     "text": [
      "[Generation: 90] \n",
      " Average Fitness: 492.885 \n",
      " Best Fitness: 500.0 \n",
      " Worst Fitness: 9.0 \n",
      " Standard Error: 4.088654344247464\n"
     ]
    },
    {
     "name": "stderr",
     "output_type": "stream",
     "text": [
      "Generating Offspring: 100%|██████████████████████████████| 100/100 [00:12<00:00,  8.26it/s]\n"
     ]
    }
   ],
   "source": [
    "# Version 1:\n",
    "# Run the genetic algorithm\n",
    "population, history, history_std = main(POPULATION_SIZE=200, \n",
    "                            GENERATIONS=90, \n",
    "                            ELITISM=100, \n",
    "                            TOURNAMENT_SIZE=3, \n",
    "                            MUTATION_STRENGTH=1, \n",
    "                            MUTATION_RATE=0.01)"
   ]
  },
  {
   "cell_type": "code",
   "execution_count": 12,
   "id": "2d7cf11e",
   "metadata": {},
   "outputs": [
    {
     "data": {
      "image/png": "[encoded data removed]",
      "text/plain": [
       "<Figure size 2000x1500 with 1 Axes>"
      ]
     },
     "metadata": {},
     "output_type": "display_data"
    }
   ],
   "source": [
    "plt.figure(figsize=(20, 15))\n",
    "plt.plot(np.arange(90), np.array(history)[:,0], marker='o', linestyle='-', label='Average Fitness')\n",
    "plt.plot(np.arange(90), np.array(history)[:,1], marker='^', linestyle='-', label='Max Fitness')\n",
    "plt.plot(np.arange(90), np.array(history)[:,2], marker='s', linestyle='-', label='Min Fitness')\n",
    "plt.axhline(y=500, color='r', linewidth=1, label='Max Fitness in Cartpole problem')\n",
    "plt.fill_between(np.arange(90), 0, np.array(history)[:,0] + np.array(history)[:,1],\n",
    "                 alpha=0.2, color='blue', label='Standard Error')\n",
    "\n",
    "plt.xlabel('Generations')\n",
    "plt.ylabel('Fitness')\n",
    "plt.title('Fitness History')\n",
    "plt.grid()\n",
    "plt.legend()\n",
    "plt.show()"
   ]
  },
  {
   "cell_type": "code",
   "execution_count": null,
   "id": "b5ecc93b",
   "metadata": {},
   "outputs": [],
   "source": []
  }
 ],
 "metadata": {
  "kernelspec": {
   "display_name": "Python 3 (ipykernel)",
   "language": "python",
   "name": "python3"
  },
  "language_info": {
   "codemirror_mode": {
    "name": "ipython",
    "version": 3
   },
   "file_extension": ".py",
   "mimetype": "text/x-python",
   "name": "python",
   "nbconvert_exporter": "python",
   "pygments_lexer": "ipython3",
   "version": "3.11.3"
  }
 },
 "nbformat": 4,
 "nbformat_minor": 5
}
