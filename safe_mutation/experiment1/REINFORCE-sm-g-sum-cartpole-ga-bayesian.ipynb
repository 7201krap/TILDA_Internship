{
 "cells": [
  {
   "cell_type": "code",
   "execution_count": 1,
   "id": "cff20e7d",
   "metadata": {},
   "outputs": [],
   "source": [
    "import torch\n",
    "import gym\n",
    "import numpy as np\n",
    "import random\n",
    "import matplotlib.pyplot as plt\n",
    "import statistics\n",
    "\n",
    "from torch import nn\n",
    "from copy import deepcopy\n",
    "from tqdm import tqdm\n",
    "\n",
    "from bayes_opt import BayesianOptimization"
   ]
  },
  {
   "cell_type": "code",
   "execution_count": 2,
   "id": "c7205bff",
   "metadata": {},
   "outputs": [
    {
     "name": "stderr",
     "output_type": "stream",
     "text": [
      "/Users/jinhyunpark/miniforge3/envs/tilda/lib/python3.11/site-packages/gym/core.py:329: DeprecationWarning: \u001b[33mWARN: Initializing wrapper in old step API which returns one bool instead of two. It is recommended to set `new_step_api=True` to use new step API. This will be the default behaviour in future.\u001b[0m\n",
      "  deprecation(\n",
      "/Users/jinhyunpark/miniforge3/envs/tilda/lib/python3.11/site-packages/gym/wrappers/step_api_compatibility.py:39: DeprecationWarning: \u001b[33mWARN: Initializing environment in old step API which returns one bool instead of two. It is recommended to set `new_step_api=True` to use new step API. This will be the default behaviour in future.\u001b[0m\n",
      "  deprecation(\n"
     ]
    }
   ],
   "source": [
    "# Use the following gym version.\n",
    "# pip install gym==0.25.0\n",
    "# pip install pygame\n",
    "\n",
    "seed = 0\n",
    "torch.manual_seed(seed)\n",
    "np.random.seed(seed)\n",
    "random.seed(seed)\n",
    "\n",
    "# define global variable \n",
    "MAX_EP = 1\n",
    "env = gym.make('CartPole-v1')"
   ]
  },
  {
   "cell_type": "code",
   "execution_count": 3,
   "id": "24c2802b",
   "metadata": {},
   "outputs": [],
   "source": [
    "# Define network architecture\n",
    "class Network(nn.Module):\n",
    "    def __init__(self, env):\n",
    "        super().__init__()\n",
    "\n",
    "        in_features = int(np.prod(env.observation_space.shape))\n",
    "        self.net = nn.Sequential(\n",
    "            nn.Linear(in_features, 64),\n",
    "            nn.Tanh(),\n",
    "            nn.Linear(64, env.action_space.n)\n",
    "        )\n",
    "\n",
    "    def forward(self, x):\n",
    "        return self.net(x)\n",
    "\n",
    "    def act(self, state):\n",
    "        state_t = torch.as_tensor(state, dtype=torch.float32)\n",
    "        q_values = self.forward(state_t.unsqueeze(0))                           # 'q_values' outputs two values (left or right)\n",
    "        max_q_index = torch.argmax(q_values, dim=1)[0]                          # find an index that corresponds to the maximum value  \n",
    "        action = max_q_index.detach().item()                                    # 0 or 1\n",
    "        return action                                                           # 0 or 1"
   ]
  },
  {
   "cell_type": "code",
   "execution_count": 4,
   "id": "bde1ccbc",
   "metadata": {},
   "outputs": [],
   "source": [
    "def calculate_fitness(network, env, num_episodes=MAX_EP):\n",
    "    total_rewards = 0\n",
    "    for _ in range(num_episodes):\n",
    "        reward, _ = run_episode(network, env)\n",
    "        total_rewards += reward\n",
    "    avg_reward = total_rewards / num_episodes\n",
    "    return avg_reward"
   ]
  },
  {
   "cell_type": "code",
   "execution_count": 5,
   "id": "5fa85a15",
   "metadata": {},
   "outputs": [],
   "source": [
    "def run_episode(network, env):\n",
    "    state = env.reset()\n",
    "    total_reward = 0.0\n",
    "    log_probs = []  # Store log probabilities of actions\n",
    "    done = False\n",
    "    while not done:\n",
    "        state_t = torch.as_tensor(state, dtype=torch.float32)\n",
    "        q_values = network(state_t.unsqueeze(0))\n",
    "        action_probs = nn.functional.softmax(q_values, dim=1)\n",
    "        action_dist = torch.distributions.Categorical(action_probs)\n",
    "        action = action_dist.sample()\n",
    "        log_prob = action_dist.log_prob(action)\n",
    "        log_probs.append(log_prob)\n",
    "        state, reward, done, _ = env.step(action.item())\n",
    "        total_reward += reward\n",
    "    return total_reward, log_probs"
   ]
  },
  {
   "cell_type": "code",
   "execution_count": 6,
   "id": "eb5f3545",
   "metadata": {},
   "outputs": [],
   "source": [
    "def prepare_mutation(network, env, num_episodes=MAX_EP):\n",
    "    total_rewards = 0\n",
    "    all_grads = []  # List of list of gradients\n",
    "    for _ in range(num_episodes):\n",
    "        reward, log_probs = run_episode(network, env)\n",
    "        total_rewards += reward\n",
    "        loss = -reward * torch.stack(log_probs).sum()\n",
    "        loss.backward()  # Calculate gradients\n",
    "\n",
    "        grads = []  # List of gradients for this episode\n",
    "        # Store gradients and zero them\n",
    "        for param in network.parameters():\n",
    "            grads.append(param.grad.clone())\n",
    "            param.grad = None\n",
    "        \n",
    "        all_grads.append(grads)  # Append the list of gradients for this episode to the overall list\n",
    "    \n",
    "    avg_reward = total_rewards / num_episodes\n",
    "    \n",
    "    return avg_reward, all_grads  # Return list of list of gradients"
   ]
  },
  {
   "cell_type": "code",
   "execution_count": 7,
   "id": "bb0169fe",
   "metadata": {},
   "outputs": [],
   "source": [
    "def mutate_and_tournament(population, tournament_size, mutation_rate, mutation_strength):\n",
    "    \n",
    "    # Select individuals for the tournament\n",
    "    individuals = random.sample(population, tournament_size)\n",
    "    # Calculate fitness for each individual\n",
    "    fitnesses = [calculate_fitness(individual, env) for individual in individuals]\n",
    "    # Select the best individual\n",
    "    parent = individuals[np.argmax(fitnesses)]\n",
    "    \n",
    "    # Create offspring by deep copying the parent\n",
    "    offspring = deepcopy(parent)\n",
    "    \n",
    "    # Calculate fitness and gradients for the offspring\n",
    "    _, all_grads = prepare_mutation(offspring, env)\n",
    "    \n",
    "    grads = []\n",
    "    # Average gradients over episodes \n",
    "    for grad in zip(*all_grads):\n",
    "        grads.append(sum(grad)/len(grad))\n",
    "    \n",
    "    # Apply mutation\n",
    "    with torch.no_grad():\n",
    "        for param, grad in zip(offspring.parameters(), grads):\n",
    "            if (grad is not None) and (random.random() < mutation_rate):\n",
    "                # print(\"mutation activated\")\n",
    "                delta = torch.randn_like(param)\n",
    "                grad_sum = torch.sum(grad)\n",
    "                if grad_sum != 0:\n",
    "                    param.add_(mutation_strength * delta * grad / grad_sum)\n",
    "    \n",
    "    # Return the mutated offspring\n",
    "    return offspring"
   ]
  },
  {
   "cell_type": "code",
   "execution_count": 8,
   "id": "cc908067",
   "metadata": {},
   "outputs": [],
   "source": [
    "# Define genetic algorithm\n",
    "def main(POPULATION_SIZE, GENERATIONS, ELITISM, TOURNAMENT_SIZE, MUTATION_STRENGTH, MUTATION_RATE):\n",
    "    \n",
    "    FITNESS_HISTORY = list()\n",
    "    FITNESS_STDERROR_HISTORY = list()\n",
    "    \n",
    "    # Create initial population\n",
    "    population = [Network(env) for _ in range(POPULATION_SIZE)]\n",
    "\n",
    "    for generation in range(1, GENERATIONS + 1):\n",
    "\n",
    "        # Calculate fitness for each network\n",
    "        fitnesses = [calculate_fitness(network, env) for network in tqdm(population, desc=\"Calculating fitnesses\")]\n",
    "        \n",
    "        # average fitness \n",
    "        avg_fitness = np.average(fitnesses)\n",
    "        max_fitness = np.max(fitnesses)\n",
    "        min_fitness = np.min(fitnesses)\n",
    "        FITNESS_HISTORY.append([avg_fitness, max_fitness, min_fitness])\n",
    "        \n",
    "        # std error\n",
    "        standard_deviation = statistics.stdev(fitnesses)\n",
    "        standard_error = standard_deviation / (POPULATION_SIZE ** 0.5)\n",
    "        FITNESS_STDERROR_HISTORY.append(standard_error)\n",
    "\n",
    "        print(f\"[Generation: {generation}] \\n Average Fitness: {avg_fitness} \\n Best Fitness: {max_fitness} \\n Worst Fitness: {min_fitness} \\n Standard Error: {standard_error}\")\n",
    "        \n",
    "        # Sort population by fitness\n",
    "        population = [x for _, x in sorted(zip(fitnesses, population), key=lambda pair: pair[0], reverse=True)]\n",
    "        \n",
    "        # Select the best networks to pass their genes to the next generation\n",
    "        survivors = population[:ELITISM]\n",
    "        \n",
    "        # Create the next generation\n",
    "        next_population = survivors  # Start with the survivors\n",
    "        \n",
    "        num_individuals_to_add = POPULATION_SIZE - len(next_population)\n",
    "        # Add offspring by tournament selection and mutation\n",
    "        for _ in tqdm(range(num_individuals_to_add), desc=\"Generating Offspring\"):\n",
    "            offspring = mutate_and_tournament(population, TOURNAMENT_SIZE, MUTATION_RATE, MUTATION_STRENGTH)\n",
    "            next_population.append(offspring)\n",
    "\n",
    "        # The next generation becomes the current population\n",
    "        population = next_population\n",
    "\n",
    "    return population, FITNESS_HISTORY, FITNESS_STDERROR_HISTORY"
   ]
  },
  {
   "cell_type": "markdown",
   "id": "58016015",
   "metadata": {},
   "source": [
    "### Version Control"
   ]
  },
  {
   "cell_type": "code",
   "execution_count": 9,
   "id": "d0eb390b",
   "metadata": {},
   "outputs": [
    {
     "name": "stdout",
     "output_type": "stream",
     "text": [
      "|   iter    |  target   |  elitism  | genera... | mutati... | mutati... | popula... | tourna... |\n",
      "-------------------------------------------------------------------------------------------------\n"
     ]
    },
    {
     "name": "stderr",
     "output_type": "stream",
     "text": [
      "Calculating fitnesses:   0%|                                        | 0/86 [00:00<?, ?it/s]/Users/jinhyunpark/miniforge3/envs/tilda/lib/python3.11/site-packages/gym/utils/passive_env_checker.py:241: DeprecationWarning: `np.bool8` is a deprecated alias for `np.bool_`.  (Deprecated NumPy 1.24)\n",
      "  if not isinstance(terminated, (bool, np.bool8)):\n",
      "Calculating fitnesses: 100%|██████████████████████████████| 86/86 [00:00<00:00, 557.67it/s]\n"
     ]
    },
    {
     "name": "stdout",
     "output_type": "stream",
     "text": [
      "[Generation: 1] \n",
      " Average Fitness: 22.3953488372093 \n",
      " Best Fitness: 66.0 \n",
      " Worst Fitness: 9.0 \n",
      " Standard Error: 1.2005788697005262\n"
     ]
    },
    {
     "name": "stderr",
     "output_type": "stream",
     "text": [
      "Generating Offspring: 100%|██████████████████████████████████| 9/9 [00:00<00:00, 78.34it/s]\n",
      "Calculating fitnesses: 100%|██████████████████████████████| 86/86 [00:00<00:00, 512.53it/s]\n"
     ]
    },
    {
     "name": "stdout",
     "output_type": "stream",
     "text": [
      "[Generation: 2] \n",
      " Average Fitness: 22.523255813953487 \n",
      " Best Fitness: 68.0 \n",
      " Worst Fitness: 8.0 \n",
      " Standard Error: 1.5839246088977748\n"
     ]
    },
    {
     "name": "stderr",
     "output_type": "stream",
     "text": [
      "Generating Offspring: 100%|██████████████████████████████████| 9/9 [00:00<00:00, 82.50it/s]\n",
      "Calculating fitnesses: 100%|██████████████████████████████| 86/86 [00:00<00:00, 543.65it/s]\n"
     ]
    },
    {
     "name": "stdout",
     "output_type": "stream",
     "text": [
      "[Generation: 3] \n",
      " Average Fitness: 21.0 \n",
      " Best Fitness: 66.0 \n",
      " Worst Fitness: 9.0 \n",
      " Standard Error: 1.3051513217402106\n"
     ]
    },
    {
     "name": "stderr",
     "output_type": "stream",
     "text": [
      "Generating Offspring: 100%|██████████████████████████████████| 9/9 [00:00<00:00, 96.88it/s]\n",
      "Calculating fitnesses: 100%|██████████████████████████████| 86/86 [00:00<00:00, 586.81it/s]\n"
     ]
    },
    {
     "name": "stdout",
     "output_type": "stream",
     "text": [
      "[Generation: 4] \n",
      " Average Fitness: 20.5 \n",
      " Best Fitness: 49.0 \n",
      " Worst Fitness: 10.0 \n",
      " Standard Error: 1.0894030042223837\n"
     ]
    },
    {
     "name": "stderr",
     "output_type": "stream",
     "text": [
      "Generating Offspring: 100%|██████████████████████████████████| 9/9 [00:00<00:00, 96.35it/s]\n",
      "Calculating fitnesses: 100%|██████████████████████████████| 86/86 [00:00<00:00, 522.99it/s]\n"
     ]
    },
    {
     "name": "stdout",
     "output_type": "stream",
     "text": [
      "[Generation: 5] \n",
      " Average Fitness: 23.476744186046513 \n",
      " Best Fitness: 104.0 \n",
      " Worst Fitness: 8.0 \n",
      " Standard Error: 1.5555141530102066\n"
     ]
    },
    {
     "name": "stderr",
     "output_type": "stream",
     "text": [
      "Generating Offspring: 100%|██████████████████████████████████| 9/9 [00:00<00:00, 94.01it/s]\n",
      "Calculating fitnesses: 100%|██████████████████████████████| 86/86 [00:00<00:00, 552.00it/s]\n"
     ]
    },
    {
     "name": "stdout",
     "output_type": "stream",
     "text": [
      "[Generation: 6] \n",
      " Average Fitness: 22.453488372093023 \n",
      " Best Fitness: 63.0 \n",
      " Worst Fitness: 10.0 \n",
      " Standard Error: 1.1208333054914186\n"
     ]
    },
    {
     "name": "stderr",
     "output_type": "stream",
     "text": [
      "Generating Offspring: 100%|██████████████████████████████████| 9/9 [00:00<00:00, 93.69it/s]\n",
      "Calculating fitnesses: 100%|██████████████████████████████| 86/86 [00:00<00:00, 531.92it/s]\n"
     ]
    },
    {
     "name": "stdout",
     "output_type": "stream",
     "text": [
      "[Generation: 7] \n",
      " Average Fitness: 23.46511627906977 \n",
      " Best Fitness: 71.0 \n",
      " Worst Fitness: 9.0 \n",
      " Standard Error: 1.2624967851586277\n"
     ]
    },
    {
     "name": "stderr",
     "output_type": "stream",
     "text": [
      "Generating Offspring: 100%|██████████████████████████████████| 9/9 [00:00<00:00, 82.41it/s]\n",
      "Calculating fitnesses: 100%|██████████████████████████████| 86/86 [00:00<00:00, 592.13it/s]\n"
     ]
    },
    {
     "name": "stdout",
     "output_type": "stream",
     "text": [
      "[Generation: 8] \n",
      " Average Fitness: 21.488372093023255 \n",
      " Best Fitness: 62.0 \n",
      " Worst Fitness: 8.0 \n",
      " Standard Error: 1.1356364259487233\n"
     ]
    },
    {
     "name": "stderr",
     "output_type": "stream",
     "text": [
      "Generating Offspring: 100%|██████████████████████████████████| 9/9 [00:00<00:00, 87.94it/s]\n",
      "Calculating fitnesses: 100%|██████████████████████████████| 86/86 [00:00<00:00, 477.31it/s]\n"
     ]
    },
    {
     "name": "stdout",
     "output_type": "stream",
     "text": [
      "[Generation: 9] \n",
      " Average Fitness: 26.662790697674417 \n",
      " Best Fitness: 103.0 \n",
      " Worst Fitness: 10.0 \n",
      " Standard Error: 1.9000043534485567\n"
     ]
    },
    {
     "name": "stderr",
     "output_type": "stream",
     "text": [
      "Generating Offspring: 100%|██████████████████████████████████| 9/9 [00:00<00:00, 99.59it/s]\n",
      "Calculating fitnesses: 100%|██████████████████████████████| 86/86 [00:00<00:00, 516.29it/s]\n"
     ]
    },
    {
     "name": "stdout",
     "output_type": "stream",
     "text": [
      "[Generation: 10] \n",
      " Average Fitness: 24.3953488372093 \n",
      " Best Fitness: 78.0 \n",
      " Worst Fitness: 9.0 \n",
      " Standard Error: 1.6514537035877486\n"
     ]
    },
    {
     "name": "stderr",
     "output_type": "stream",
     "text": [
      "Generating Offspring: 100%|██████████████████████████████████| 9/9 [00:00<00:00, 84.52it/s]\n",
      "Calculating fitnesses: 100%|██████████████████████████████| 86/86 [00:00<00:00, 549.22it/s]\n"
     ]
    },
    {
     "name": "stdout",
     "output_type": "stream",
     "text": [
      "[Generation: 11] \n",
      " Average Fitness: 22.848837209302324 \n",
      " Best Fitness: 58.0 \n",
      " Worst Fitness: 9.0 \n",
      " Standard Error: 1.269393194097232\n"
     ]
    },
    {
     "name": "stderr",
     "output_type": "stream",
     "text": [
      "Generating Offspring: 100%|██████████████████████████████████| 9/9 [00:00<00:00, 76.91it/s]\n",
      "Calculating fitnesses: 100%|██████████████████████████████| 86/86 [00:00<00:00, 559.32it/s]\n"
     ]
    },
    {
     "name": "stdout",
     "output_type": "stream",
     "text": [
      "[Generation: 12] \n",
      " Average Fitness: 22.61627906976744 \n",
      " Best Fitness: 46.0 \n",
      " Worst Fitness: 10.0 \n",
      " Standard Error: 1.0037097542449172\n"
     ]
    },
    {
     "name": "stderr",
     "output_type": "stream",
     "text": [
      "Generating Offspring: 100%|██████████████████████████████████| 9/9 [00:00<00:00, 99.45it/s]\n",
      "Calculating fitnesses: 100%|██████████████████████████████| 86/86 [00:00<00:00, 512.44it/s]\n"
     ]
    },
    {
     "name": "stdout",
     "output_type": "stream",
     "text": [
      "[Generation: 13] \n",
      " Average Fitness: 25.011627906976745 \n",
      " Best Fitness: 77.0 \n",
      " Worst Fitness: 9.0 \n",
      " Standard Error: 1.5903689430806063\n"
     ]
    },
    {
     "name": "stderr",
     "output_type": "stream",
     "text": [
      "Generating Offspring: 100%|██████████████████████████████████| 9/9 [00:00<00:00, 74.03it/s]\n",
      "Calculating fitnesses: 100%|██████████████████████████████| 86/86 [00:00<00:00, 507.18it/s]\n"
     ]
    },
    {
     "name": "stdout",
     "output_type": "stream",
     "text": [
      "[Generation: 14] \n",
      " Average Fitness: 24.11627906976744 \n",
      " Best Fitness: 68.0 \n",
      " Worst Fitness: 9.0 \n",
      " Standard Error: 1.5973146587067955\n"
     ]
    },
    {
     "name": "stderr",
     "output_type": "stream",
     "text": [
      "Generating Offspring: 100%|█████████████████████████████████| 9/9 [00:00<00:00, 104.04it/s]\n",
      "Calculating fitnesses: 100%|██████████████████████████████| 86/86 [00:00<00:00, 556.50it/s]\n"
     ]
    },
    {
     "name": "stdout",
     "output_type": "stream",
     "text": [
      "[Generation: 15] \n",
      " Average Fitness: 22.430232558139537 \n",
      " Best Fitness: 72.0 \n",
      " Worst Fitness: 10.0 \n",
      " Standard Error: 1.2732694000736842\n"
     ]
    },
    {
     "name": "stderr",
     "output_type": "stream",
     "text": [
      "Generating Offspring: 100%|██████████████████████████████████| 9/9 [00:00<00:00, 88.84it/s]\n",
      "Calculating fitnesses: 100%|██████████████████████████████| 86/86 [00:00<00:00, 504.23it/s]\n"
     ]
    },
    {
     "name": "stdout",
     "output_type": "stream",
     "text": [
      "[Generation: 16] \n",
      " Average Fitness: 25.302325581395348 \n",
      " Best Fitness: 83.0 \n",
      " Worst Fitness: 8.0 \n",
      " Standard Error: 1.486562682641811\n"
     ]
    },
    {
     "name": "stderr",
     "output_type": "stream",
     "text": [
      "Generating Offspring: 100%|██████████████████████████████████| 9/9 [00:00<00:00, 88.80it/s]\n",
      "Calculating fitnesses: 100%|██████████████████████████████| 86/86 [00:00<00:00, 561.99it/s]\n"
     ]
    },
    {
     "name": "stdout",
     "output_type": "stream",
     "text": [
      "[Generation: 17] \n",
      " Average Fitness: 22.5 \n",
      " Best Fitness: 78.0 \n",
      " Worst Fitness: 9.0 \n",
      " Standard Error: 1.31004223989711\n"
     ]
    },
    {
     "name": "stderr",
     "output_type": "stream",
     "text": [
      "Generating Offspring: 100%|██████████████████████████████████| 9/9 [00:00<00:00, 91.08it/s]\n",
      "Calculating fitnesses: 100%|██████████████████████████████| 86/86 [00:00<00:00, 523.24it/s]\n"
     ]
    },
    {
     "name": "stdout",
     "output_type": "stream",
     "text": [
      "[Generation: 18] \n",
      " Average Fitness: 24.058139534883722 \n",
      " Best Fitness: 98.0 \n",
      " Worst Fitness: 10.0 \n",
      " Standard Error: 1.4921916832196807\n"
     ]
    },
    {
     "name": "stderr",
     "output_type": "stream",
     "text": [
      "Generating Offspring: 100%|██████████████████████████████████| 9/9 [00:00<00:00, 84.02it/s]\n",
      "Calculating fitnesses: 100%|██████████████████████████████| 86/86 [00:00<00:00, 503.36it/s]\n"
     ]
    },
    {
     "name": "stdout",
     "output_type": "stream",
     "text": [
      "[Generation: 19] \n",
      " Average Fitness: 24.91860465116279 \n",
      " Best Fitness: 76.0 \n",
      " Worst Fitness: 9.0 \n",
      " Standard Error: 1.4976694267108013\n"
     ]
    },
    {
     "name": "stderr",
     "output_type": "stream",
     "text": [
      "Generating Offspring: 100%|██████████████████████████████████| 9/9 [00:00<00:00, 93.38it/s]\n",
      "Calculating fitnesses: 100%|██████████████████████████████| 86/86 [00:00<00:00, 467.80it/s]\n"
     ]
    },
    {
     "name": "stdout",
     "output_type": "stream",
     "text": [
      "[Generation: 20] \n",
      " Average Fitness: 27.802325581395348 \n",
      " Best Fitness: 79.0 \n",
      " Worst Fitness: 10.0 \n",
      " Standard Error: 1.5026488028626965\n"
     ]
    },
    {
     "name": "stderr",
     "output_type": "stream",
     "text": [
      "Generating Offspring: 100%|██████████████████████████████████| 9/9 [00:00<00:00, 94.72it/s]\n",
      "Calculating fitnesses: 100%|██████████████████████████████| 86/86 [00:00<00:00, 504.05it/s]\n"
     ]
    },
    {
     "name": "stdout",
     "output_type": "stream",
     "text": [
      "[Generation: 21] \n",
      " Average Fitness: 25.372093023255815 \n",
      " Best Fitness: 84.0 \n",
      " Worst Fitness: 9.0 \n",
      " Standard Error: 1.6321870644336356\n"
     ]
    },
    {
     "name": "stderr",
     "output_type": "stream",
     "text": [
      "Generating Offspring: 100%|██████████████████████████████████| 9/9 [00:00<00:00, 93.77it/s]\n",
      "Calculating fitnesses: 100%|██████████████████████████████| 86/86 [00:00<00:00, 502.44it/s]\n"
     ]
    },
    {
     "name": "stdout",
     "output_type": "stream",
     "text": [
      "[Generation: 22] \n",
      " Average Fitness: 25.302325581395348 \n",
      " Best Fitness: 89.0 \n",
      " Worst Fitness: 9.0 \n",
      " Standard Error: 1.4748293756901487\n"
     ]
    },
    {
     "name": "stderr",
     "output_type": "stream",
     "text": [
      "Generating Offspring: 100%|██████████████████████████████████| 9/9 [00:00<00:00, 93.18it/s]\n",
      "Calculating fitnesses: 100%|██████████████████████████████| 86/86 [00:00<00:00, 510.07it/s]\n"
     ]
    },
    {
     "name": "stdout",
     "output_type": "stream",
     "text": [
      "[Generation: 23] \n",
      " Average Fitness: 24.27906976744186 \n",
      " Best Fitness: 72.0 \n",
      " Worst Fitness: 9.0 \n",
      " Standard Error: 1.430625661946988\n"
     ]
    },
    {
     "name": "stderr",
     "output_type": "stream",
     "text": [
      "Generating Offspring: 100%|██████████████████████████████████| 9/9 [00:00<00:00, 88.56it/s]\n",
      "Calculating fitnesses: 100%|██████████████████████████████| 86/86 [00:00<00:00, 510.27it/s]\n"
     ]
    },
    {
     "name": "stdout",
     "output_type": "stream",
     "text": [
      "[Generation: 24] \n",
      " Average Fitness: 25.11627906976744 \n",
      " Best Fitness: 72.0 \n",
      " Worst Fitness: 9.0 \n",
      " Standard Error: 1.3826577437287464\n"
     ]
    },
    {
     "name": "stderr",
     "output_type": "stream",
     "text": [
      "Generating Offspring: 100%|██████████████████████████████████| 9/9 [00:00<00:00, 85.11it/s]\n",
      "Calculating fitnesses: 100%|██████████████████████████████| 86/86 [00:00<00:00, 554.26it/s]\n"
     ]
    },
    {
     "name": "stdout",
     "output_type": "stream",
     "text": [
      "[Generation: 25] \n",
      " Average Fitness: 23.023255813953487 \n",
      " Best Fitness: 55.0 \n",
      " Worst Fitness: 9.0 \n",
      " Standard Error: 1.0642784295947638\n"
     ]
    },
    {
     "name": "stderr",
     "output_type": "stream",
     "text": [
      "Generating Offspring: 100%|██████████████████████████████████| 9/9 [00:00<00:00, 72.90it/s]\n",
      "Calculating fitnesses: 100%|██████████████████████████████| 86/86 [00:00<00:00, 487.45it/s]\n"
     ]
    },
    {
     "name": "stdout",
     "output_type": "stream",
     "text": [
      "[Generation: 26] \n",
      " Average Fitness: 26.430232558139537 \n",
      " Best Fitness: 80.0 \n",
      " Worst Fitness: 9.0 \n",
      " Standard Error: 1.4101974420729586\n"
     ]
    },
    {
     "name": "stderr",
     "output_type": "stream",
     "text": [
      "Generating Offspring: 100%|██████████████████████████████████| 9/9 [00:00<00:00, 93.00it/s]\n",
      "Calculating fitnesses: 100%|██████████████████████████████| 86/86 [00:00<00:00, 473.16it/s]\n"
     ]
    },
    {
     "name": "stdout",
     "output_type": "stream",
     "text": [
      "[Generation: 27] \n",
      " Average Fitness: 26.558139534883722 \n",
      " Best Fitness: 83.0 \n",
      " Worst Fitness: 10.0 \n",
      " Standard Error: 1.631898565418426\n"
     ]
    },
    {
     "name": "stderr",
     "output_type": "stream",
     "text": [
      "Generating Offspring: 100%|██████████████████████████████████| 9/9 [00:00<00:00, 87.24it/s]\n",
      "Calculating fitnesses: 100%|██████████████████████████████| 86/86 [00:00<00:00, 442.91it/s]\n"
     ]
    },
    {
     "name": "stdout",
     "output_type": "stream",
     "text": [
      "[Generation: 28] \n",
      " Average Fitness: 26.0 \n",
      " Best Fitness: 93.0 \n",
      " Worst Fitness: 9.0 \n",
      " Standard Error: 1.665206839011138\n"
     ]
    },
    {
     "name": "stderr",
     "output_type": "stream",
     "text": [
      "Generating Offspring: 100%|██████████████████████████████████| 9/9 [00:00<00:00, 84.82it/s]\n",
      "Calculating fitnesses: 100%|██████████████████████████████| 86/86 [00:00<00:00, 455.89it/s]\n"
     ]
    },
    {
     "name": "stdout",
     "output_type": "stream",
     "text": [
      "[Generation: 29] \n",
      " Average Fitness: 27.63953488372093 \n",
      " Best Fitness: 73.0 \n",
      " Worst Fitness: 10.0 \n",
      " Standard Error: 1.542903333047577\n"
     ]
    },
    {
     "name": "stderr",
     "output_type": "stream",
     "text": [
      "Generating Offspring: 100%|██████████████████████████████████| 9/9 [00:00<00:00, 89.52it/s]\n",
      "Calculating fitnesses: 100%|██████████████████████████████| 86/86 [00:00<00:00, 523.38it/s]\n"
     ]
    },
    {
     "name": "stdout",
     "output_type": "stream",
     "text": [
      "[Generation: 30] \n",
      " Average Fitness: 24.337209302325583 \n",
      " Best Fitness: 83.0 \n",
      " Worst Fitness: 9.0 \n",
      " Standard Error: 1.3306458801304528\n"
     ]
    },
    {
     "name": "stderr",
     "output_type": "stream",
     "text": [
      "Generating Offspring: 100%|██████████████████████████████████| 9/9 [00:00<00:00, 82.11it/s]\n",
      "Calculating fitnesses: 100%|██████████████████████████████| 86/86 [00:00<00:00, 468.80it/s]\n"
     ]
    },
    {
     "name": "stdout",
     "output_type": "stream",
     "text": [
      "[Generation: 31] \n",
      " Average Fitness: 27.325581395348838 \n",
      " Best Fitness: 84.0 \n",
      " Worst Fitness: 9.0 \n",
      " Standard Error: 1.6237331680260918\n"
     ]
    },
    {
     "name": "stderr",
     "output_type": "stream",
     "text": [
      "Generating Offspring: 100%|██████████████████████████████████| 9/9 [00:00<00:00, 93.98it/s]\n",
      "Calculating fitnesses: 100%|██████████████████████████████| 86/86 [00:00<00:00, 442.52it/s]\n"
     ]
    },
    {
     "name": "stdout",
     "output_type": "stream",
     "text": [
      "[Generation: 32] \n",
      " Average Fitness: 28.325581395348838 \n",
      " Best Fitness: 74.0 \n",
      " Worst Fitness: 11.0 \n",
      " Standard Error: 1.508883123106963\n"
     ]
    },
    {
     "name": "stderr",
     "output_type": "stream",
     "text": [
      "Generating Offspring: 100%|██████████████████████████████████| 9/9 [00:00<00:00, 89.11it/s]\n",
      "Calculating fitnesses: 100%|██████████████████████████████| 86/86 [00:00<00:00, 477.67it/s]\n"
     ]
    },
    {
     "name": "stdout",
     "output_type": "stream",
     "text": [
      "[Generation: 33] \n",
      " Average Fitness: 25.162790697674417 \n",
      " Best Fitness: 79.0 \n",
      " Worst Fitness: 8.0 \n",
      " Standard Error: 1.5124526845990351\n"
     ]
    },
    {
     "name": "stderr",
     "output_type": "stream",
     "text": [
      "Generating Offspring: 100%|██████████████████████████████████| 9/9 [00:00<00:00, 73.40it/s]\n",
      "Calculating fitnesses: 100%|██████████████████████████████| 86/86 [00:00<00:00, 384.78it/s]\n"
     ]
    },
    {
     "name": "stdout",
     "output_type": "stream",
     "text": [
      "[Generation: 34] \n",
      " Average Fitness: 25.8953488372093 \n",
      " Best Fitness: 86.0 \n",
      " Worst Fitness: 11.0 \n",
      " Standard Error: 1.6357019744809191\n"
     ]
    },
    {
     "name": "stderr",
     "output_type": "stream",
     "text": [
      "Generating Offspring: 100%|██████████████████████████████████| 9/9 [00:00<00:00, 90.02it/s]\n",
      "Calculating fitnesses: 100%|██████████████████████████████| 86/86 [00:00<00:00, 481.10it/s]\n"
     ]
    },
    {
     "name": "stdout",
     "output_type": "stream",
     "text": [
      "[Generation: 35] \n",
      " Average Fitness: 26.674418604651162 \n",
      " Best Fitness: 89.0 \n",
      " Worst Fitness: 10.0 \n",
      " Standard Error: 1.6691816568858004\n"
     ]
    },
    {
     "name": "stderr",
     "output_type": "stream",
     "text": [
      "Generating Offspring: 100%|██████████████████████████████████| 9/9 [00:00<00:00, 81.15it/s]\n",
      "Calculating fitnesses: 100%|██████████████████████████████| 86/86 [00:00<00:00, 477.38it/s]\n"
     ]
    },
    {
     "name": "stdout",
     "output_type": "stream",
     "text": [
      "[Generation: 36] \n",
      " Average Fitness: 26.453488372093023 \n",
      " Best Fitness: 124.0 \n",
      " Worst Fitness: 8.0 \n",
      " Standard Error: 1.9104906566222242\n"
     ]
    },
    {
     "name": "stderr",
     "output_type": "stream",
     "text": [
      "Generating Offspring: 100%|██████████████████████████████████| 9/9 [00:00<00:00, 77.12it/s]\n",
      "Calculating fitnesses: 100%|██████████████████████████████| 86/86 [00:00<00:00, 485.71it/s]\n"
     ]
    },
    {
     "name": "stdout",
     "output_type": "stream",
     "text": [
      "[Generation: 37] \n",
      " Average Fitness: 26.24418604651163 \n",
      " Best Fitness: 129.0 \n",
      " Worst Fitness: 9.0 \n",
      " Standard Error: 1.879832926658889\n"
     ]
    },
    {
     "name": "stderr",
     "output_type": "stream",
     "text": [
      "Generating Offspring: 100%|██████████████████████████████████| 9/9 [00:00<00:00, 77.59it/s]\n",
      "Calculating fitnesses: 100%|██████████████████████████████| 86/86 [00:00<00:00, 455.84it/s]\n"
     ]
    },
    {
     "name": "stdout",
     "output_type": "stream",
     "text": [
      "[Generation: 38] \n",
      " Average Fitness: 27.313953488372093 \n",
      " Best Fitness: 81.0 \n",
      " Worst Fitness: 10.0 \n",
      " Standard Error: 1.6116251433601199\n"
     ]
    },
    {
     "name": "stderr",
     "output_type": "stream",
     "text": [
      "Generating Offspring: 100%|██████████████████████████████████| 9/9 [00:00<00:00, 71.85it/s]\n",
      "Calculating fitnesses: 100%|██████████████████████████████| 86/86 [00:00<00:00, 420.68it/s]\n"
     ]
    },
    {
     "name": "stdout",
     "output_type": "stream",
     "text": [
      "[Generation: 39] \n",
      " Average Fitness: 30.453488372093023 \n",
      " Best Fitness: 96.0 \n",
      " Worst Fitness: 10.0 \n",
      " Standard Error: 1.9265342085114285\n"
     ]
    },
    {
     "name": "stderr",
     "output_type": "stream",
     "text": [
      "Generating Offspring: 100%|██████████████████████████████████| 9/9 [00:00<00:00, 68.55it/s]\n",
      "Calculating fitnesses: 100%|██████████████████████████████| 86/86 [00:00<00:00, 464.59it/s]\n"
     ]
    },
    {
     "name": "stdout",
     "output_type": "stream",
     "text": [
      "[Generation: 40] \n",
      " Average Fitness: 27.523255813953487 \n",
      " Best Fitness: 102.0 \n",
      " Worst Fitness: 9.0 \n",
      " Standard Error: 1.7915080689742964\n"
     ]
    },
    {
     "name": "stderr",
     "output_type": "stream",
     "text": [
      "Generating Offspring: 100%|██████████████████████████████████| 9/9 [00:00<00:00, 81.02it/s]\n",
      "Calculating fitnesses: 100%|██████████████████████████████| 86/86 [00:00<00:00, 455.35it/s]\n"
     ]
    },
    {
     "name": "stdout",
     "output_type": "stream",
     "text": [
      "[Generation: 41] \n",
      " Average Fitness: 28.25581395348837 \n",
      " Best Fitness: 82.0 \n",
      " Worst Fitness: 10.0 \n",
      " Standard Error: 1.7744335753725677\n"
     ]
    },
    {
     "name": "stderr",
     "output_type": "stream",
     "text": [
      "Generating Offspring: 100%|██████████████████████████████████| 9/9 [00:00<00:00, 79.27it/s]\n",
      "Calculating fitnesses: 100%|██████████████████████████████| 86/86 [00:00<00:00, 456.14it/s]\n"
     ]
    },
    {
     "name": "stdout",
     "output_type": "stream",
     "text": [
      "[Generation: 42] \n",
      " Average Fitness: 28.3953488372093 \n",
      " Best Fitness: 80.0 \n",
      " Worst Fitness: 10.0 \n",
      " Standard Error: 1.6172191658231512\n"
     ]
    },
    {
     "name": "stderr",
     "output_type": "stream",
     "text": [
      "Generating Offspring: 100%|██████████████████████████████████| 9/9 [00:00<00:00, 85.79it/s]\n",
      "Calculating fitnesses: 100%|██████████████████████████████| 86/86 [00:00<00:00, 421.06it/s]\n"
     ]
    },
    {
     "name": "stdout",
     "output_type": "stream",
     "text": [
      "[Generation: 43] \n",
      " Average Fitness: 30.232558139534884 \n",
      " Best Fitness: 121.0 \n",
      " Worst Fitness: 12.0 \n",
      " Standard Error: 1.919564076325739\n"
     ]
    },
    {
     "name": "stderr",
     "output_type": "stream",
     "text": [
      "Generating Offspring: 100%|██████████████████████████████████| 9/9 [00:00<00:00, 69.91it/s]\n",
      "Calculating fitnesses: 100%|██████████████████████████████| 86/86 [00:00<00:00, 449.54it/s]\n"
     ]
    },
    {
     "name": "stdout",
     "output_type": "stream",
     "text": [
      "[Generation: 44] \n",
      " Average Fitness: 27.686046511627907 \n",
      " Best Fitness: 107.0 \n",
      " Worst Fitness: 10.0 \n",
      " Standard Error: 1.8188300405078037\n"
     ]
    },
    {
     "name": "stderr",
     "output_type": "stream",
     "text": [
      "Generating Offspring: 100%|██████████████████████████████████| 9/9 [00:00<00:00, 84.63it/s]\n",
      "Calculating fitnesses: 100%|██████████████████████████████| 86/86 [00:00<00:00, 393.38it/s]\n"
     ]
    },
    {
     "name": "stdout",
     "output_type": "stream",
     "text": [
      "[Generation: 45] \n",
      " Average Fitness: 28.558139534883722 \n",
      " Best Fitness: 104.0 \n",
      " Worst Fitness: 10.0 \n",
      " Standard Error: 1.8051912261129668\n"
     ]
    },
    {
     "name": "stderr",
     "output_type": "stream",
     "text": [
      "Generating Offspring: 100%|██████████████████████████████████| 9/9 [00:00<00:00, 84.00it/s]\n",
      "Calculating fitnesses: 100%|██████████████████████████████| 86/86 [00:00<00:00, 408.06it/s]\n"
     ]
    },
    {
     "name": "stdout",
     "output_type": "stream",
     "text": [
      "[Generation: 46] \n",
      " Average Fitness: 30.337209302325583 \n",
      " Best Fitness: 90.0 \n",
      " Worst Fitness: 9.0 \n",
      " Standard Error: 1.8334638612576932\n"
     ]
    },
    {
     "name": "stderr",
     "output_type": "stream",
     "text": [
      "Generating Offspring: 100%|██████████████████████████████████| 9/9 [00:00<00:00, 76.38it/s]\n",
      "Calculating fitnesses: 100%|██████████████████████████████| 86/86 [00:00<00:00, 464.15it/s]\n"
     ]
    },
    {
     "name": "stdout",
     "output_type": "stream",
     "text": [
      "[Generation: 47] \n",
      " Average Fitness: 27.732558139534884 \n",
      " Best Fitness: 116.0 \n",
      " Worst Fitness: 8.0 \n",
      " Standard Error: 1.8436436013385025\n"
     ]
    },
    {
     "name": "stderr",
     "output_type": "stream",
     "text": [
      "Generating Offspring: 100%|██████████████████████████████████| 9/9 [00:00<00:00, 75.00it/s]\n",
      "Calculating fitnesses: 100%|██████████████████████████████| 86/86 [00:00<00:00, 483.27it/s]\n"
     ]
    },
    {
     "name": "stdout",
     "output_type": "stream",
     "text": [
      "[Generation: 48] \n",
      " Average Fitness: 25.941860465116278 \n",
      " Best Fitness: 90.0 \n",
      " Worst Fitness: 11.0 \n",
      " Standard Error: 1.4898061875218296\n"
     ]
    },
    {
     "name": "stderr",
     "output_type": "stream",
     "text": [
      "Generating Offspring: 100%|██████████████████████████████████| 9/9 [00:00<00:00, 80.50it/s]\n",
      "Calculating fitnesses: 100%|██████████████████████████████| 86/86 [00:00<00:00, 412.85it/s]\n"
     ]
    },
    {
     "name": "stdout",
     "output_type": "stream",
     "text": [
      "[Generation: 49] \n",
      " Average Fitness: 30.790697674418606 \n",
      " Best Fitness: 111.0 \n",
      " Worst Fitness: 10.0 \n",
      " Standard Error: 2.0160855381521663\n"
     ]
    },
    {
     "name": "stderr",
     "output_type": "stream",
     "text": [
      "Generating Offspring: 100%|██████████████████████████████████| 9/9 [00:00<00:00, 66.53it/s]\n",
      "Calculating fitnesses: 100%|██████████████████████████████| 86/86 [00:00<00:00, 494.54it/s]\n"
     ]
    },
    {
     "name": "stdout",
     "output_type": "stream",
     "text": [
      "[Generation: 50] \n",
      " Average Fitness: 25.627906976744185 \n",
      " Best Fitness: 82.0 \n",
      " Worst Fitness: 10.0 \n",
      " Standard Error: 1.4630932986127\n"
     ]
    },
    {
     "name": "stderr",
     "output_type": "stream",
     "text": [
      "Generating Offspring: 100%|██████████████████████████████████| 9/9 [00:00<00:00, 76.57it/s]\n",
      "Calculating fitnesses: 100%|██████████████████████████████| 86/86 [00:00<00:00, 447.89it/s]\n"
     ]
    },
    {
     "name": "stdout",
     "output_type": "stream",
     "text": [
      "[Generation: 51] \n",
      " Average Fitness: 28.511627906976745 \n",
      " Best Fitness: 82.0 \n",
      " Worst Fitness: 11.0 \n",
      " Standard Error: 1.6618964811633163\n"
     ]
    },
    {
     "name": "stderr",
     "output_type": "stream",
     "text": [
      "Generating Offspring: 100%|██████████████████████████████████| 9/9 [00:00<00:00, 85.48it/s]\n",
      "Calculating fitnesses: 100%|██████████████████████████████| 86/86 [00:00<00:00, 458.14it/s]\n"
     ]
    },
    {
     "name": "stdout",
     "output_type": "stream",
     "text": [
      "[Generation: 52] \n",
      " Average Fitness: 27.930232558139537 \n",
      " Best Fitness: 132.0 \n",
      " Worst Fitness: 10.0 \n",
      " Standard Error: 1.9077056429536396\n"
     ]
    },
    {
     "name": "stderr",
     "output_type": "stream",
     "text": [
      "Generating Offspring: 100%|██████████████████████████████████| 9/9 [00:00<00:00, 84.26it/s]\n",
      "Calculating fitnesses: 100%|██████████████████████████████| 86/86 [00:00<00:00, 453.21it/s]\n"
     ]
    },
    {
     "name": "stdout",
     "output_type": "stream",
     "text": [
      "[Generation: 53] \n",
      " Average Fitness: 28.61627906976744 \n",
      " Best Fitness: 86.0 \n",
      " Worst Fitness: 10.0 \n",
      " Standard Error: 1.8208526591125676\n"
     ]
    },
    {
     "name": "stderr",
     "output_type": "stream",
     "text": [
      "Generating Offspring: 100%|██████████████████████████████████| 9/9 [00:00<00:00, 85.20it/s]\n",
      "Calculating fitnesses: 100%|██████████████████████████████| 86/86 [00:00<00:00, 463.21it/s]\n"
     ]
    },
    {
     "name": "stdout",
     "output_type": "stream",
     "text": [
      "[Generation: 54] \n",
      " Average Fitness: 27.651162790697676 \n",
      " Best Fitness: 73.0 \n",
      " Worst Fitness: 9.0 \n",
      " Standard Error: 1.4921378489570394\n"
     ]
    },
    {
     "name": "stderr",
     "output_type": "stream",
     "text": [
      "Generating Offspring: 100%|██████████████████████████████████| 9/9 [00:00<00:00, 70.75it/s]\n",
      "Calculating fitnesses: 100%|██████████████████████████████| 86/86 [00:00<00:00, 510.83it/s]\n"
     ]
    },
    {
     "name": "stdout",
     "output_type": "stream",
     "text": [
      "[Generation: 55] \n",
      " Average Fitness: 25.162790697674417 \n",
      " Best Fitness: 59.0 \n",
      " Worst Fitness: 10.0 \n",
      " Standard Error: 1.077040641351787\n"
     ]
    },
    {
     "name": "stderr",
     "output_type": "stream",
     "text": [
      "Generating Offspring: 100%|██████████████████████████████████| 9/9 [00:00<00:00, 73.24it/s]\n",
      "Calculating fitnesses: 100%|██████████████████████████████| 86/86 [00:00<00:00, 497.19it/s]\n"
     ]
    },
    {
     "name": "stdout",
     "output_type": "stream",
     "text": [
      "[Generation: 56] \n",
      " Average Fitness: 25.674418604651162 \n",
      " Best Fitness: 78.0 \n",
      " Worst Fitness: 9.0 \n",
      " Standard Error: 1.3372943528534644\n"
     ]
    },
    {
     "name": "stderr",
     "output_type": "stream",
     "text": [
      "Generating Offspring: 100%|██████████████████████████████████| 9/9 [00:00<00:00, 83.42it/s]\n",
      "Calculating fitnesses: 100%|██████████████████████████████| 86/86 [00:00<00:00, 465.46it/s]\n"
     ]
    },
    {
     "name": "stdout",
     "output_type": "stream",
     "text": [
      "[Generation: 57] \n",
      " Average Fitness: 27.802325581395348 \n",
      " Best Fitness: 119.0 \n",
      " Worst Fitness: 10.0 \n",
      " Standard Error: 1.980950301006901\n"
     ]
    },
    {
     "name": "stderr",
     "output_type": "stream",
     "text": [
      "Generating Offspring: 100%|██████████████████████████████████| 9/9 [00:00<00:00, 79.00it/s]\n",
      "Calculating fitnesses: 100%|██████████████████████████████| 86/86 [00:00<00:00, 432.56it/s]\n"
     ]
    },
    {
     "name": "stdout",
     "output_type": "stream",
     "text": [
      "[Generation: 58] \n",
      " Average Fitness: 29.372093023255815 \n",
      " Best Fitness: 83.0 \n",
      " Worst Fitness: 10.0 \n",
      " Standard Error: 1.7808101963156413\n"
     ]
    },
    {
     "name": "stderr",
     "output_type": "stream",
     "text": [
      "Generating Offspring: 100%|██████████████████████████████████| 9/9 [00:00<00:00, 77.39it/s]\n",
      "Calculating fitnesses: 100%|██████████████████████████████| 86/86 [00:00<00:00, 459.29it/s]\n"
     ]
    },
    {
     "name": "stdout",
     "output_type": "stream",
     "text": [
      "[Generation: 59] \n",
      " Average Fitness: 28.011627906976745 \n",
      " Best Fitness: 98.0 \n",
      " Worst Fitness: 10.0 \n",
      " Standard Error: 1.9775410802186975\n"
     ]
    },
    {
     "name": "stderr",
     "output_type": "stream",
     "text": [
      "Generating Offspring: 100%|██████████████████████████████████| 9/9 [00:00<00:00, 74.61it/s]\n",
      "Calculating fitnesses: 100%|██████████████████████████████| 86/86 [00:00<00:00, 482.49it/s]\n"
     ]
    },
    {
     "name": "stdout",
     "output_type": "stream",
     "text": [
      "[Generation: 60] \n",
      " Average Fitness: 26.8953488372093 \n",
      " Best Fitness: 69.0 \n",
      " Worst Fitness: 10.0 \n",
      " Standard Error: 1.6854595893394044\n"
     ]
    },
    {
     "name": "stderr",
     "output_type": "stream",
     "text": [
      "Generating Offspring: 100%|██████████████████████████████████| 9/9 [00:00<00:00, 78.27it/s]\n",
      "Calculating fitnesses: 100%|██████████████████████████████| 86/86 [00:00<00:00, 452.20it/s]\n"
     ]
    },
    {
     "name": "stdout",
     "output_type": "stream",
     "text": [
      "[Generation: 61] \n",
      " Average Fitness: 25.72093023255814 \n",
      " Best Fitness: 81.0 \n",
      " Worst Fitness: 10.0 \n",
      " Standard Error: 1.5163180947199106\n"
     ]
    },
    {
     "name": "stderr",
     "output_type": "stream",
     "text": [
      "Generating Offspring: 100%|██████████████████████████████████| 9/9 [00:00<00:00, 88.00it/s]\n",
      "Calculating fitnesses: 100%|██████████████████████████████| 86/86 [00:00<00:00, 416.84it/s]\n"
     ]
    },
    {
     "name": "stdout",
     "output_type": "stream",
     "text": [
      "[Generation: 62] \n",
      " Average Fitness: 30.174418604651162 \n",
      " Best Fitness: 114.0 \n",
      " Worst Fitness: 9.0 \n",
      " Standard Error: 1.861496379709905\n"
     ]
    },
    {
     "name": "stderr",
     "output_type": "stream",
     "text": [
      "Generating Offspring: 100%|██████████████████████████████████| 9/9 [00:00<00:00, 79.56it/s]\n",
      "Calculating fitnesses: 100%|██████████████████████████████| 86/86 [00:00<00:00, 435.67it/s]\n"
     ]
    },
    {
     "name": "stdout",
     "output_type": "stream",
     "text": [
      "[Generation: 63] \n",
      " Average Fitness: 29.162790697674417 \n",
      " Best Fitness: 81.0 \n",
      " Worst Fitness: 9.0 \n",
      " Standard Error: 1.5489160823387345\n"
     ]
    },
    {
     "name": "stderr",
     "output_type": "stream",
     "text": [
      "Generating Offspring: 100%|██████████████████████████████████| 9/9 [00:00<00:00, 72.09it/s]\n",
      "Calculating fitnesses: 100%|██████████████████████████████| 86/86 [00:00<00:00, 464.87it/s]\n"
     ]
    },
    {
     "name": "stdout",
     "output_type": "stream",
     "text": [
      "[Generation: 64] \n",
      " Average Fitness: 27.546511627906977 \n",
      " Best Fitness: 64.0 \n",
      " Worst Fitness: 9.0 \n",
      " Standard Error: 1.364555917774859\n"
     ]
    },
    {
     "name": "stderr",
     "output_type": "stream",
     "text": [
      "Generating Offspring: 100%|██████████████████████████████████| 9/9 [00:00<00:00, 69.23it/s]\n",
      "Calculating fitnesses: 100%|██████████████████████████████| 86/86 [00:00<00:00, 473.92it/s]\n"
     ]
    },
    {
     "name": "stdout",
     "output_type": "stream",
     "text": [
      "[Generation: 65] \n",
      " Average Fitness: 27.3953488372093 \n",
      " Best Fitness: 82.0 \n",
      " Worst Fitness: 10.0 \n",
      " Standard Error: 1.6779147267682375\n"
     ]
    },
    {
     "name": "stderr",
     "output_type": "stream",
     "text": [
      "Generating Offspring: 100%|██████████████████████████████████| 9/9 [00:00<00:00, 72.66it/s]\n",
      "Calculating fitnesses: 100%|██████████████████████████████| 86/86 [00:00<00:00, 440.17it/s]\n"
     ]
    },
    {
     "name": "stdout",
     "output_type": "stream",
     "text": [
      "[Generation: 66] \n",
      " Average Fitness: 29.011627906976745 \n",
      " Best Fitness: 104.0 \n",
      " Worst Fitness: 10.0 \n",
      " Standard Error: 1.7268693502058297\n"
     ]
    },
    {
     "name": "stderr",
     "output_type": "stream",
     "text": [
      "Generating Offspring: 100%|██████████████████████████████████| 9/9 [00:00<00:00, 74.20it/s]\n",
      "Calculating fitnesses: 100%|██████████████████████████████| 86/86 [00:00<00:00, 432.77it/s]\n"
     ]
    },
    {
     "name": "stdout",
     "output_type": "stream",
     "text": [
      "[Generation: 67] \n",
      " Average Fitness: 30.011627906976745 \n",
      " Best Fitness: 121.0 \n",
      " Worst Fitness: 10.0 \n",
      " Standard Error: 1.67882883629399\n"
     ]
    },
    {
     "name": "stderr",
     "output_type": "stream",
     "text": [
      "Generating Offspring: 100%|██████████████████████████████████| 9/9 [00:00<00:00, 74.37it/s]\n",
      "Calculating fitnesses: 100%|██████████████████████████████| 86/86 [00:00<00:00, 472.15it/s]\n"
     ]
    },
    {
     "name": "stdout",
     "output_type": "stream",
     "text": [
      "[Generation: 68] \n",
      " Average Fitness: 27.1046511627907 \n",
      " Best Fitness: 66.0 \n",
      " Worst Fitness: 10.0 \n",
      " Standard Error: 1.2776120284141077\n"
     ]
    },
    {
     "name": "stderr",
     "output_type": "stream",
     "text": [
      "Generating Offspring: 100%|██████████████████████████████████| 9/9 [00:00<00:00, 77.16it/s]\n",
      "Calculating fitnesses: 100%|██████████████████████████████| 86/86 [00:00<00:00, 463.31it/s]\n"
     ]
    },
    {
     "name": "stdout",
     "output_type": "stream",
     "text": [
      "[Generation: 69] \n",
      " Average Fitness: 27.511627906976745 \n",
      " Best Fitness: 99.0 \n",
      " Worst Fitness: 11.0 \n",
      " Standard Error: 1.5218197928199222\n"
     ]
    },
    {
     "name": "stderr",
     "output_type": "stream",
     "text": [
      "Generating Offspring: 100%|██████████████████████████████████| 9/9 [00:00<00:00, 72.35it/s]\n",
      "Calculating fitnesses: 100%|██████████████████████████████| 86/86 [00:00<00:00, 467.81it/s]\n"
     ]
    },
    {
     "name": "stdout",
     "output_type": "stream",
     "text": [
      "[Generation: 70] \n",
      " Average Fitness: 27.75581395348837 \n",
      " Best Fitness: 114.0 \n",
      " Worst Fitness: 9.0 \n",
      " Standard Error: 1.6458658606733814\n"
     ]
    },
    {
     "name": "stderr",
     "output_type": "stream",
     "text": [
      "Generating Offspring: 100%|██████████████████████████████████| 9/9 [00:00<00:00, 71.72it/s]\n",
      "Calculating fitnesses: 100%|██████████████████████████████| 86/86 [00:00<00:00, 489.37it/s]\n"
     ]
    },
    {
     "name": "stdout",
     "output_type": "stream",
     "text": [
      "[Generation: 71] \n",
      " Average Fitness: 26.63953488372093 \n",
      " Best Fitness: 75.0 \n",
      " Worst Fitness: 10.0 \n",
      " Standard Error: 1.38685570719699\n"
     ]
    },
    {
     "name": "stderr",
     "output_type": "stream",
     "text": [
      "Generating Offspring: 100%|██████████████████████████████████| 9/9 [00:00<00:00, 81.42it/s]\n",
      "Calculating fitnesses: 100%|██████████████████████████████| 86/86 [00:00<00:00, 419.59it/s]\n"
     ]
    },
    {
     "name": "stdout",
     "output_type": "stream",
     "text": [
      "[Generation: 72] \n",
      " Average Fitness: 30.593023255813954 \n",
      " Best Fitness: 74.0 \n",
      " Worst Fitness: 9.0 \n",
      " Standard Error: 1.6182422703923143\n"
     ]
    },
    {
     "name": "stderr",
     "output_type": "stream",
     "text": [
      "Generating Offspring: 100%|██████████████████████████████████| 9/9 [00:00<00:00, 76.56it/s]\n",
      "Calculating fitnesses: 100%|██████████████████████████████| 86/86 [00:00<00:00, 447.15it/s]\n"
     ]
    },
    {
     "name": "stdout",
     "output_type": "stream",
     "text": [
      "[Generation: 73] \n",
      " Average Fitness: 28.8953488372093 \n",
      " Best Fitness: 81.0 \n",
      " Worst Fitness: 8.0 \n",
      " Standard Error: 1.5727700927479054\n"
     ]
    },
    {
     "name": "stderr",
     "output_type": "stream",
     "text": [
      "Generating Offspring: 100%|██████████████████████████████████| 9/9 [00:00<00:00, 71.05it/s]\n",
      "Calculating fitnesses: 100%|██████████████████████████████| 86/86 [00:00<00:00, 476.98it/s]\n"
     ]
    },
    {
     "name": "stdout",
     "output_type": "stream",
     "text": [
      "[Generation: 74] \n",
      " Average Fitness: 26.58139534883721 \n",
      " Best Fitness: 68.0 \n",
      " Worst Fitness: 8.0 \n",
      " Standard Error: 1.2217214555648246\n"
     ]
    },
    {
     "name": "stderr",
     "output_type": "stream",
     "text": [
      "Generating Offspring: 100%|██████████████████████████████████| 9/9 [00:00<00:00, 71.87it/s]\n",
      "Calculating fitnesses: 100%|██████████████████████████████| 86/86 [00:00<00:00, 431.48it/s]\n"
     ]
    },
    {
     "name": "stdout",
     "output_type": "stream",
     "text": [
      "[Generation: 75] \n",
      " Average Fitness: 29.627906976744185 \n",
      " Best Fitness: 151.0 \n",
      " Worst Fitness: 12.0 \n",
      " Standard Error: 1.9947294789058099\n"
     ]
    },
    {
     "name": "stderr",
     "output_type": "stream",
     "text": [
      "Generating Offspring: 100%|██████████████████████████████████| 9/9 [00:00<00:00, 69.17it/s]\n",
      "Calculating fitnesses: 100%|██████████████████████████████| 86/86 [00:00<00:00, 398.59it/s]\n"
     ]
    },
    {
     "name": "stdout",
     "output_type": "stream",
     "text": [
      "[Generation: 76] \n",
      " Average Fitness: 32.116279069767444 \n",
      " Best Fitness: 99.0 \n",
      " Worst Fitness: 11.0 \n",
      " Standard Error: 1.7879684996055478\n"
     ]
    },
    {
     "name": "stderr",
     "output_type": "stream",
     "text": [
      "Generating Offspring: 100%|██████████████████████████████████| 9/9 [00:00<00:00, 68.04it/s]\n",
      "Calculating fitnesses: 100%|██████████████████████████████| 86/86 [00:00<00:00, 415.40it/s]\n"
     ]
    },
    {
     "name": "stdout",
     "output_type": "stream",
     "text": [
      "[Generation: 77] \n",
      " Average Fitness: 30.872093023255815 \n",
      " Best Fitness: 81.0 \n",
      " Worst Fitness: 10.0 \n",
      " Standard Error: 1.3739611433470773\n"
     ]
    },
    {
     "name": "stderr",
     "output_type": "stream",
     "text": [
      "Generating Offspring: 100%|██████████████████████████████████| 9/9 [00:00<00:00, 61.31it/s]\n",
      "Calculating fitnesses: 100%|██████████████████████████████| 86/86 [00:00<00:00, 384.28it/s]\n"
     ]
    },
    {
     "name": "stdout",
     "output_type": "stream",
     "text": [
      "[Generation: 78] \n",
      " Average Fitness: 33.104651162790695 \n",
      " Best Fitness: 115.0 \n",
      " Worst Fitness: 12.0 \n",
      " Standard Error: 1.6382090476057392\n"
     ]
    },
    {
     "name": "stderr",
     "output_type": "stream",
     "text": [
      "Generating Offspring: 100%|██████████████████████████████████| 9/9 [00:00<00:00, 72.39it/s]\n",
      "Calculating fitnesses: 100%|██████████████████████████████| 86/86 [00:00<00:00, 367.04it/s]\n"
     ]
    },
    {
     "name": "stdout",
     "output_type": "stream",
     "text": [
      "[Generation: 79] \n",
      " Average Fitness: 35.02325581395349 \n",
      " Best Fitness: 86.0 \n",
      " Worst Fitness: 11.0 \n",
      " Standard Error: 1.634442616303177\n"
     ]
    },
    {
     "name": "stderr",
     "output_type": "stream",
     "text": [
      "Generating Offspring: 100%|██████████████████████████████████| 9/9 [00:00<00:00, 67.05it/s]\n",
      "Calculating fitnesses: 100%|██████████████████████████████| 86/86 [00:00<00:00, 394.40it/s]\n"
     ]
    },
    {
     "name": "stdout",
     "output_type": "stream",
     "text": [
      "[Generation: 80] \n",
      " Average Fitness: 32.73255813953488 \n",
      " Best Fitness: 71.0 \n",
      " Worst Fitness: 12.0 \n",
      " Standard Error: 1.2271912943557124\n"
     ]
    },
    {
     "name": "stderr",
     "output_type": "stream",
     "text": [
      "Generating Offspring: 100%|██████████████████████████████████| 9/9 [00:00<00:00, 79.71it/s]\n"
     ]
    },
    {
     "name": "stdout",
     "output_type": "stream",
     "text": [
      "| \u001b[0m1        \u001b[0m | \u001b[0m86.03    \u001b[0m | \u001b[0m77.13    \u001b[0m | \u001b[0m80.42    \u001b[0m | \u001b[0m0.01011  \u001b[0m | \u001b[0m1.0      \u001b[0m | \u001b[0m86.69    \u001b[0m | \u001b[0m4.585    \u001b[0m |\n"
     ]
    },
    {
     "name": "stderr",
     "output_type": "stream",
     "text": [
      "Calculating fitnesses: 100%|████████████████████████████| 154/154 [00:00<00:00, 502.20it/s]\n"
     ]
    },
    {
     "name": "stdout",
     "output_type": "stream",
     "text": [
      "[Generation: 1] \n",
      " Average Fitness: 22.084415584415584 \n",
      " Best Fitness: 76.0 \n",
      " Worst Fitness: 9.0 \n",
      " Standard Error: 1.0086187998600158\n"
     ]
    },
    {
     "name": "stderr",
     "output_type": "stream",
     "text": [
      "Generating Offspring: 100%|██████████████████████████████| 106/106 [00:04<00:00, 26.30it/s]\n",
      "Calculating fitnesses: 100%|████████████████████████████| 154/154 [00:00<00:00, 575.37it/s]\n"
     ]
    },
    {
     "name": "stdout",
     "output_type": "stream",
     "text": [
      "[Generation: 2] \n",
      " Average Fitness: 21.824675324675326 \n",
      " Best Fitness: 202.0 \n",
      " Worst Fitness: 8.0 \n",
      " Standard Error: 1.951455095513137\n"
     ]
    },
    {
     "name": "stderr",
     "output_type": "stream",
     "text": [
      "Generating Offspring: 100%|██████████████████████████████| 106/106 [00:05<00:00, 20.13it/s]\n",
      "Calculating fitnesses: 100%|████████████████████████████| 154/154 [00:00<00:00, 161.26it/s]\n"
     ]
    },
    {
     "name": "stdout",
     "output_type": "stream",
     "text": [
      "[Generation: 3] \n",
      " Average Fitness: 74.53896103896103 \n",
      " Best Fitness: 410.0 \n",
      " Worst Fitness: 8.0 \n",
      " Standard Error: 7.219973269723618\n"
     ]
    },
    {
     "name": "stderr",
     "output_type": "stream",
     "text": [
      "Generating Offspring: 100%|██████████████████████████████| 106/106 [00:16<00:00,  6.46it/s]\n",
      "Calculating fitnesses: 100%|█████████████████████████████| 154/154 [00:02<00:00, 55.34it/s]\n"
     ]
    },
    {
     "name": "stdout",
     "output_type": "stream",
     "text": [
      "[Generation: 4] \n",
      " Average Fitness: 226.6103896103896 \n",
      " Best Fitness: 395.0 \n",
      " Worst Fitness: 42.0 \n",
      " Standard Error: 6.816039291341508\n"
     ]
    },
    {
     "name": "stderr",
     "output_type": "stream",
     "text": [
      "Generating Offspring: 100%|██████████████████████████████| 106/106 [00:43<00:00,  2.42it/s]\n",
      "Calculating fitnesses: 100%|█████████████████████████████| 154/154 [00:03<00:00, 45.37it/s]\n"
     ]
    },
    {
     "name": "stdout",
     "output_type": "stream",
     "text": [
      "[Generation: 5] \n",
      " Average Fitness: 271.2922077922078 \n",
      " Best Fitness: 437.0 \n",
      " Worst Fitness: 57.0 \n",
      " Standard Error: 5.358135015243812\n"
     ]
    },
    {
     "name": "stderr",
     "output_type": "stream",
     "text": [
      "Generating Offspring: 100%|██████████████████████████████| 106/106 [00:51<00:00,  2.06it/s]\n",
      "Calculating fitnesses: 100%|█████████████████████████████| 154/154 [00:03<00:00, 47.12it/s]\n"
     ]
    },
    {
     "name": "stdout",
     "output_type": "stream",
     "text": [
      "[Generation: 6] \n",
      " Average Fitness: 263.3246753246753 \n",
      " Best Fitness: 446.0 \n",
      " Worst Fitness: 48.0 \n",
      " Standard Error: 5.219117625467263\n"
     ]
    },
    {
     "name": "stderr",
     "output_type": "stream",
     "text": [
      "Generating Offspring: 100%|██████████████████████████████| 106/106 [00:52<00:00,  2.04it/s]\n",
      "Calculating fitnesses: 100%|█████████████████████████████| 154/154 [00:03<00:00, 44.92it/s]\n"
     ]
    },
    {
     "name": "stdout",
     "output_type": "stream",
     "text": [
      "[Generation: 7] \n",
      " Average Fitness: 274.9155844155844 \n",
      " Best Fitness: 493.0 \n",
      " Worst Fitness: 64.0 \n",
      " Standard Error: 5.736126306538089\n"
     ]
    },
    {
     "name": "stderr",
     "output_type": "stream",
     "text": [
      "Generating Offspring: 100%|██████████████████████████████| 106/106 [00:52<00:00,  2.02it/s]\n",
      "Calculating fitnesses: 100%|█████████████████████████████| 154/154 [00:03<00:00, 44.98it/s]\n"
     ]
    },
    {
     "name": "stdout",
     "output_type": "stream",
     "text": [
      "[Generation: 8] \n",
      " Average Fitness: 273.5 \n",
      " Best Fitness: 500.0 \n",
      " Worst Fitness: 165.0 \n",
      " Standard Error: 5.8307790253191465\n"
     ]
    },
    {
     "name": "stderr",
     "output_type": "stream",
     "text": [
      "Generating Offspring: 100%|██████████████████████████████| 106/106 [00:52<00:00,  2.03it/s]\n",
      "Calculating fitnesses: 100%|█████████████████████████████| 154/154 [00:03<00:00, 44.49it/s]\n"
     ]
    },
    {
     "name": "stdout",
     "output_type": "stream",
     "text": [
      "[Generation: 9] \n",
      " Average Fitness: 278.6233766233766 \n",
      " Best Fitness: 475.0 \n",
      " Worst Fitness: 160.0 \n",
      " Standard Error: 5.615937628489334\n"
     ]
    },
    {
     "name": "stderr",
     "output_type": "stream",
     "text": [
      "Generating Offspring: 100%|██████████████████████████████| 106/106 [00:52<00:00,  2.02it/s]\n",
      "Calculating fitnesses: 100%|█████████████████████████████| 154/154 [00:03<00:00, 43.92it/s]\n"
     ]
    },
    {
     "name": "stdout",
     "output_type": "stream",
     "text": [
      "[Generation: 10] \n",
      " Average Fitness: 281.06493506493507 \n",
      " Best Fitness: 500.0 \n",
      " Worst Fitness: 170.0 \n",
      " Standard Error: 5.665608098707932\n"
     ]
    },
    {
     "name": "stderr",
     "output_type": "stream",
     "text": [
      "Generating Offspring: 100%|██████████████████████████████| 106/106 [00:52<00:00,  2.02it/s]\n",
      "Calculating fitnesses: 100%|█████████████████████████████| 154/154 [00:03<00:00, 45.25it/s]\n"
     ]
    },
    {
     "name": "stdout",
     "output_type": "stream",
     "text": [
      "[Generation: 11] \n",
      " Average Fitness: 273.83116883116884 \n",
      " Best Fitness: 484.0 \n",
      " Worst Fitness: 167.0 \n",
      " Standard Error: 5.269486736605501\n"
     ]
    },
    {
     "name": "stderr",
     "output_type": "stream",
     "text": [
      "Generating Offspring: 100%|██████████████████████████████| 106/106 [00:52<00:00,  2.01it/s]\n",
      "Calculating fitnesses: 100%|█████████████████████████████| 154/154 [00:03<00:00, 45.77it/s]\n"
     ]
    },
    {
     "name": "stdout",
     "output_type": "stream",
     "text": [
      "[Generation: 12] \n",
      " Average Fitness: 273.02597402597405 \n",
      " Best Fitness: 500.0 \n",
      " Worst Fitness: 152.0 \n",
      " Standard Error: 5.688008971654337\n"
     ]
    },
    {
     "name": "stderr",
     "output_type": "stream",
     "text": [
      "Generating Offspring: 100%|██████████████████████████████| 106/106 [00:52<00:00,  2.02it/s]\n",
      "Calculating fitnesses: 100%|█████████████████████████████| 154/154 [00:03<00:00, 45.86it/s]\n"
     ]
    },
    {
     "name": "stdout",
     "output_type": "stream",
     "text": [
      "[Generation: 13] \n",
      " Average Fitness: 266.87012987012986 \n",
      " Best Fitness: 452.0 \n",
      " Worst Fitness: 157.0 \n",
      " Standard Error: 5.52470281262912\n"
     ]
    },
    {
     "name": "stderr",
     "output_type": "stream",
     "text": [
      "Generating Offspring: 100%|██████████████████████████████| 106/106 [00:52<00:00,  2.03it/s]\n",
      "Calculating fitnesses: 100%|█████████████████████████████| 154/154 [00:03<00:00, 44.97it/s]\n"
     ]
    },
    {
     "name": "stdout",
     "output_type": "stream",
     "text": [
      "[Generation: 14] \n",
      " Average Fitness: 273.23376623376623 \n",
      " Best Fitness: 437.0 \n",
      " Worst Fitness: 172.0 \n",
      " Standard Error: 5.43519664322551\n"
     ]
    },
    {
     "name": "stderr",
     "output_type": "stream",
     "text": [
      "Generating Offspring: 100%|██████████████████████████████| 106/106 [00:52<00:00,  2.01it/s]\n",
      "Calculating fitnesses: 100%|█████████████████████████████| 154/154 [00:03<00:00, 45.14it/s]\n"
     ]
    },
    {
     "name": "stdout",
     "output_type": "stream",
     "text": [
      "[Generation: 15] \n",
      " Average Fitness: 275.3246753246753 \n",
      " Best Fitness: 498.0 \n",
      " Worst Fitness: 167.0 \n",
      " Standard Error: 5.5135616391436315\n"
     ]
    },
    {
     "name": "stderr",
     "output_type": "stream",
     "text": [
      "Generating Offspring: 100%|██████████████████████████████| 106/106 [00:52<00:00,  2.01it/s]\n",
      "Calculating fitnesses: 100%|█████████████████████████████| 154/154 [00:03<00:00, 45.52it/s]\n"
     ]
    },
    {
     "name": "stdout",
     "output_type": "stream",
     "text": [
      "[Generation: 16] \n",
      " Average Fitness: 273.8376623376623 \n",
      " Best Fitness: 439.0 \n",
      " Worst Fitness: 9.0 \n",
      " Standard Error: 5.678282188787494\n"
     ]
    },
    {
     "name": "stderr",
     "output_type": "stream",
     "text": [
      "Generating Offspring: 100%|██████████████████████████████| 106/106 [00:52<00:00,  2.03it/s]\n",
      "Calculating fitnesses: 100%|█████████████████████████████| 154/154 [00:03<00:00, 45.09it/s]\n"
     ]
    },
    {
     "name": "stdout",
     "output_type": "stream",
     "text": [
      "[Generation: 17] \n",
      " Average Fitness: 275.0 \n",
      " Best Fitness: 450.0 \n",
      " Worst Fitness: 155.0 \n",
      " Standard Error: 5.080741845074461\n"
     ]
    },
    {
     "name": "stderr",
     "output_type": "stream",
     "text": [
      "Generating Offspring: 100%|██████████████████████████████| 106/106 [00:52<00:00,  2.02it/s]\n",
      "Calculating fitnesses: 100%|█████████████████████████████| 154/154 [00:03<00:00, 44.42it/s]\n"
     ]
    },
    {
     "name": "stdout",
     "output_type": "stream",
     "text": [
      "[Generation: 18] \n",
      " Average Fitness: 276.9805194805195 \n",
      " Best Fitness: 436.0 \n",
      " Worst Fitness: 164.0 \n",
      " Standard Error: 5.527773021384478\n"
     ]
    },
    {
     "name": "stderr",
     "output_type": "stream",
     "text": [
      "Generating Offspring: 100%|██████████████████████████████| 106/106 [00:52<00:00,  2.01it/s]\n",
      "Calculating fitnesses: 100%|█████████████████████████████| 154/154 [00:03<00:00, 44.94it/s]\n"
     ]
    },
    {
     "name": "stdout",
     "output_type": "stream",
     "text": [
      "[Generation: 19] \n",
      " Average Fitness: 274.1233766233766 \n",
      " Best Fitness: 449.0 \n",
      " Worst Fitness: 156.0 \n",
      " Standard Error: 5.631418164873578\n"
     ]
    },
    {
     "name": "stderr",
     "output_type": "stream",
     "text": [
      "Generating Offspring: 100%|██████████████████████████████| 106/106 [00:52<00:00,  2.01it/s]\n",
      "Calculating fitnesses: 100%|█████████████████████████████| 154/154 [00:03<00:00, 47.83it/s]\n"
     ]
    },
    {
     "name": "stdout",
     "output_type": "stream",
     "text": [
      "[Generation: 20] \n",
      " Average Fitness: 260.4220779220779 \n",
      " Best Fitness: 423.0 \n",
      " Worst Fitness: 165.0 \n",
      " Standard Error: 5.1009982900914475\n"
     ]
    },
    {
     "name": "stderr",
     "output_type": "stream",
     "text": [
      "Generating Offspring: 100%|██████████████████████████████| 106/106 [00:53<00:00,  2.00it/s]\n",
      "Calculating fitnesses: 100%|█████████████████████████████| 154/154 [00:03<00:00, 45.16it/s]\n"
     ]
    },
    {
     "name": "stdout",
     "output_type": "stream",
     "text": [
      "[Generation: 21] \n",
      " Average Fitness: 276.02597402597405 \n",
      " Best Fitness: 488.0 \n",
      " Worst Fitness: 166.0 \n",
      " Standard Error: 5.440122847622875\n"
     ]
    },
    {
     "name": "stderr",
     "output_type": "stream",
     "text": [
      "Generating Offspring: 100%|██████████████████████████████| 106/106 [00:52<00:00,  2.03it/s]\n",
      "Calculating fitnesses: 100%|█████████████████████████████| 154/154 [00:03<00:00, 45.81it/s]\n"
     ]
    },
    {
     "name": "stdout",
     "output_type": "stream",
     "text": [
      "[Generation: 22] \n",
      " Average Fitness: 272.40909090909093 \n",
      " Best Fitness: 466.0 \n",
      " Worst Fitness: 158.0 \n",
      " Standard Error: 5.509994419757649\n"
     ]
    },
    {
     "name": "stderr",
     "output_type": "stream",
     "text": [
      "Generating Offspring: 100%|██████████████████████████████| 106/106 [00:52<00:00,  2.03it/s]\n",
      "Calculating fitnesses: 100%|█████████████████████████████| 154/154 [00:03<00:00, 45.58it/s]\n"
     ]
    },
    {
     "name": "stdout",
     "output_type": "stream",
     "text": [
      "[Generation: 23] \n",
      " Average Fitness: 274.07142857142856 \n",
      " Best Fitness: 458.0 \n",
      " Worst Fitness: 166.0 \n",
      " Standard Error: 5.291768155824204\n"
     ]
    },
    {
     "name": "stderr",
     "output_type": "stream",
     "text": [
      "Generating Offspring: 100%|██████████████████████████████| 106/106 [00:52<00:00,  2.00it/s]\n",
      "Calculating fitnesses: 100%|█████████████████████████████| 154/154 [00:03<00:00, 44.65it/s]\n"
     ]
    },
    {
     "name": "stdout",
     "output_type": "stream",
     "text": [
      "[Generation: 24] \n",
      " Average Fitness: 277.8181818181818 \n",
      " Best Fitness: 485.0 \n",
      " Worst Fitness: 166.0 \n",
      " Standard Error: 5.714283785139074\n"
     ]
    },
    {
     "name": "stderr",
     "output_type": "stream",
     "text": [
      "Generating Offspring: 100%|██████████████████████████████| 106/106 [00:52<00:00,  2.02it/s]\n",
      "Calculating fitnesses: 100%|█████████████████████████████| 154/154 [00:03<00:00, 45.09it/s]\n"
     ]
    },
    {
     "name": "stdout",
     "output_type": "stream",
     "text": [
      "[Generation: 25] \n",
      " Average Fitness: 276.62987012987014 \n",
      " Best Fitness: 500.0 \n",
      " Worst Fitness: 160.0 \n",
      " Standard Error: 5.337222856753804\n"
     ]
    },
    {
     "name": "stderr",
     "output_type": "stream",
     "text": [
      "Generating Offspring: 100%|██████████████████████████████| 106/106 [00:52<00:00,  2.02it/s]\n",
      "Calculating fitnesses: 100%|█████████████████████████████| 154/154 [00:03<00:00, 44.88it/s]\n"
     ]
    },
    {
     "name": "stdout",
     "output_type": "stream",
     "text": [
      "[Generation: 26] \n",
      " Average Fitness: 271.7987012987013 \n",
      " Best Fitness: 465.0 \n",
      " Worst Fitness: 172.0 \n",
      " Standard Error: 5.368568196228825\n"
     ]
    },
    {
     "name": "stderr",
     "output_type": "stream",
     "text": [
      "Generating Offspring: 100%|██████████████████████████████| 106/106 [00:52<00:00,  2.02it/s]\n",
      "Calculating fitnesses: 100%|█████████████████████████████| 154/154 [00:03<00:00, 46.79it/s]\n"
     ]
    },
    {
     "name": "stdout",
     "output_type": "stream",
     "text": [
      "[Generation: 27] \n",
      " Average Fitness: 266.9220779220779 \n",
      " Best Fitness: 500.0 \n",
      " Worst Fitness: 164.0 \n",
      " Standard Error: 5.660953189012775\n"
     ]
    },
    {
     "name": "stderr",
     "output_type": "stream",
     "text": [
      "Generating Offspring: 100%|██████████████████████████████| 106/106 [00:52<00:00,  2.04it/s]\n",
      "Calculating fitnesses: 100%|█████████████████████████████| 154/154 [00:03<00:00, 47.29it/s]\n"
     ]
    },
    {
     "name": "stdout",
     "output_type": "stream",
     "text": [
      "[Generation: 28] \n",
      " Average Fitness: 272.7857142857143 \n",
      " Best Fitness: 500.0 \n",
      " Worst Fitness: 153.0 \n",
      " Standard Error: 5.195425144443721\n"
     ]
    },
    {
     "name": "stderr",
     "output_type": "stream",
     "text": [
      "Generating Offspring: 100%|██████████████████████████████| 106/106 [00:51<00:00,  2.07it/s]\n",
      "Calculating fitnesses: 100%|█████████████████████████████| 154/154 [00:03<00:00, 46.37it/s]\n"
     ]
    },
    {
     "name": "stdout",
     "output_type": "stream",
     "text": [
      "[Generation: 29] \n",
      " Average Fitness: 275.9025974025974 \n",
      " Best Fitness: 484.0 \n",
      " Worst Fitness: 160.0 \n",
      " Standard Error: 5.759214959910962\n"
     ]
    },
    {
     "name": "stderr",
     "output_type": "stream",
     "text": [
      "Generating Offspring: 100%|██████████████████████████████| 106/106 [00:50<00:00,  2.09it/s]\n",
      "Calculating fitnesses: 100%|█████████████████████████████| 154/154 [00:03<00:00, 48.48it/s]\n"
     ]
    },
    {
     "name": "stdout",
     "output_type": "stream",
     "text": [
      "[Generation: 30] \n",
      " Average Fitness: 271.3051948051948 \n",
      " Best Fitness: 424.0 \n",
      " Worst Fitness: 162.0 \n",
      " Standard Error: 5.102849572172812\n"
     ]
    },
    {
     "name": "stderr",
     "output_type": "stream",
     "text": [
      "Generating Offspring: 100%|██████████████████████████████| 106/106 [00:50<00:00,  2.11it/s]\n",
      "Calculating fitnesses: 100%|█████████████████████████████| 154/154 [00:03<00:00, 47.80it/s]\n"
     ]
    },
    {
     "name": "stdout",
     "output_type": "stream",
     "text": [
      "[Generation: 31] \n",
      " Average Fitness: 273.31168831168833 \n",
      " Best Fitness: 450.0 \n",
      " Worst Fitness: 161.0 \n",
      " Standard Error: 5.271755216491226\n"
     ]
    },
    {
     "name": "stderr",
     "output_type": "stream",
     "text": [
      "Generating Offspring: 100%|██████████████████████████████| 106/106 [00:50<00:00,  2.11it/s]\n",
      "Calculating fitnesses: 100%|█████████████████████████████| 154/154 [00:03<00:00, 47.61it/s]\n"
     ]
    },
    {
     "name": "stdout",
     "output_type": "stream",
     "text": [
      "[Generation: 32] \n",
      " Average Fitness: 271.43506493506493 \n",
      " Best Fitness: 405.0 \n",
      " Worst Fitness: 164.0 \n",
      " Standard Error: 4.986969910094986\n"
     ]
    },
    {
     "name": "stderr",
     "output_type": "stream",
     "text": [
      "Generating Offspring: 100%|██████████████████████████████| 106/106 [00:50<00:00,  2.11it/s]\n",
      "Calculating fitnesses: 100%|█████████████████████████████| 154/154 [00:03<00:00, 46.43it/s]\n"
     ]
    },
    {
     "name": "stdout",
     "output_type": "stream",
     "text": [
      "[Generation: 33] \n",
      " Average Fitness: 276.9025974025974 \n",
      " Best Fitness: 474.0 \n",
      " Worst Fitness: 172.0 \n",
      " Standard Error: 5.187109065434388\n"
     ]
    },
    {
     "name": "stderr",
     "output_type": "stream",
     "text": [
      "Generating Offspring: 100%|██████████████████████████████| 106/106 [00:50<00:00,  2.08it/s]\n",
      "Calculating fitnesses: 100%|█████████████████████████████| 154/154 [00:03<00:00, 48.11it/s]\n"
     ]
    },
    {
     "name": "stdout",
     "output_type": "stream",
     "text": [
      "[Generation: 34] \n",
      " Average Fitness: 269.42857142857144 \n",
      " Best Fitness: 500.0 \n",
      " Worst Fitness: 160.0 \n",
      " Standard Error: 5.695919470249368\n"
     ]
    },
    {
     "name": "stderr",
     "output_type": "stream",
     "text": [
      "Generating Offspring: 100%|██████████████████████████████| 106/106 [00:51<00:00,  2.06it/s]\n",
      "Calculating fitnesses: 100%|█████████████████████████████| 154/154 [00:03<00:00, 47.09it/s]\n"
     ]
    },
    {
     "name": "stdout",
     "output_type": "stream",
     "text": [
      "[Generation: 35] \n",
      " Average Fitness: 268.2012987012987 \n",
      " Best Fitness: 456.0 \n",
      " Worst Fitness: 161.0 \n",
      " Standard Error: 5.081797430807242\n"
     ]
    },
    {
     "name": "stderr",
     "output_type": "stream",
     "text": [
      "Generating Offspring: 100%|██████████████████████████████| 106/106 [00:51<00:00,  2.07it/s]\n",
      "Calculating fitnesses: 100%|█████████████████████████████| 154/154 [00:03<00:00, 47.80it/s]\n"
     ]
    },
    {
     "name": "stdout",
     "output_type": "stream",
     "text": [
      "[Generation: 36] \n",
      " Average Fitness: 267.24675324675326 \n",
      " Best Fitness: 453.0 \n",
      " Worst Fitness: 167.0 \n",
      " Standard Error: 5.3833779491577385\n"
     ]
    },
    {
     "name": "stderr",
     "output_type": "stream",
     "text": [
      "Generating Offspring: 100%|██████████████████████████████| 106/106 [00:50<00:00,  2.08it/s]\n",
      "Calculating fitnesses: 100%|█████████████████████████████| 154/154 [00:03<00:00, 46.39it/s]\n"
     ]
    },
    {
     "name": "stdout",
     "output_type": "stream",
     "text": [
      "[Generation: 37] \n",
      " Average Fitness: 277.75324675324674 \n",
      " Best Fitness: 468.0 \n",
      " Worst Fitness: 167.0 \n",
      " Standard Error: 5.255046052464504\n"
     ]
    },
    {
     "name": "stderr",
     "output_type": "stream",
     "text": [
      "Generating Offspring: 100%|██████████████████████████████| 106/106 [00:50<00:00,  2.08it/s]\n",
      "Calculating fitnesses: 100%|█████████████████████████████| 154/154 [00:03<00:00, 47.54it/s]\n"
     ]
    },
    {
     "name": "stdout",
     "output_type": "stream",
     "text": [
      "[Generation: 38] \n",
      " Average Fitness: 269.59090909090907 \n",
      " Best Fitness: 423.0 \n",
      " Worst Fitness: 162.0 \n",
      " Standard Error: 5.432242799383542\n"
     ]
    },
    {
     "name": "stderr",
     "output_type": "stream",
     "text": [
      "Generating Offspring: 100%|██████████████████████████████| 106/106 [00:51<00:00,  2.08it/s]\n",
      "Calculating fitnesses: 100%|█████████████████████████████| 154/154 [00:03<00:00, 47.54it/s]\n"
     ]
    },
    {
     "name": "stdout",
     "output_type": "stream",
     "text": [
      "[Generation: 39] \n",
      " Average Fitness: 271.5844155844156 \n",
      " Best Fitness: 500.0 \n",
      " Worst Fitness: 168.0 \n",
      " Standard Error: 5.533514814879744\n"
     ]
    },
    {
     "name": "stderr",
     "output_type": "stream",
     "text": [
      "Generating Offspring: 100%|██████████████████████████████| 106/106 [00:50<00:00,  2.09it/s]\n",
      "Calculating fitnesses: 100%|█████████████████████████████| 154/154 [00:03<00:00, 44.65it/s]\n"
     ]
    },
    {
     "name": "stdout",
     "output_type": "stream",
     "text": [
      "[Generation: 40] \n",
      " Average Fitness: 282.85714285714283 \n",
      " Best Fitness: 500.0 \n",
      " Worst Fitness: 171.0 \n",
      " Standard Error: 5.077586878920039\n"
     ]
    },
    {
     "name": "stderr",
     "output_type": "stream",
     "text": [
      "Generating Offspring: 100%|██████████████████████████████| 106/106 [00:51<00:00,  2.07it/s]\n",
      "Calculating fitnesses: 100%|█████████████████████████████| 154/154 [00:03<00:00, 46.56it/s]\n"
     ]
    },
    {
     "name": "stdout",
     "output_type": "stream",
     "text": [
      "[Generation: 41] \n",
      " Average Fitness: 273.04545454545456 \n",
      " Best Fitness: 485.0 \n",
      " Worst Fitness: 168.0 \n",
      " Standard Error: 5.5083745373804875\n"
     ]
    },
    {
     "name": "stderr",
     "output_type": "stream",
     "text": [
      "Generating Offspring: 100%|██████████████████████████████| 106/106 [00:51<00:00,  2.08it/s]\n",
      "Calculating fitnesses: 100%|█████████████████████████████| 154/154 [00:03<00:00, 46.64it/s]\n"
     ]
    },
    {
     "name": "stdout",
     "output_type": "stream",
     "text": [
      "[Generation: 42] \n",
      " Average Fitness: 273.68831168831167 \n",
      " Best Fitness: 429.0 \n",
      " Worst Fitness: 164.0 \n",
      " Standard Error: 5.1026681846402315\n"
     ]
    },
    {
     "name": "stderr",
     "output_type": "stream",
     "text": [
      "Generating Offspring: 100%|██████████████████████████████| 106/106 [00:50<00:00,  2.08it/s]\n",
      "Calculating fitnesses: 100%|█████████████████████████████| 154/154 [00:03<00:00, 44.90it/s]\n"
     ]
    },
    {
     "name": "stdout",
     "output_type": "stream",
     "text": [
      "[Generation: 43] \n",
      " Average Fitness: 285.02597402597405 \n",
      " Best Fitness: 458.0 \n",
      " Worst Fitness: 168.0 \n",
      " Standard Error: 5.469796908029372\n"
     ]
    },
    {
     "name": "stderr",
     "output_type": "stream",
     "text": [
      "Generating Offspring: 100%|██████████████████████████████| 106/106 [00:50<00:00,  2.09it/s]\n",
      "Calculating fitnesses: 100%|█████████████████████████████| 154/154 [00:03<00:00, 46.20it/s]\n"
     ]
    },
    {
     "name": "stdout",
     "output_type": "stream",
     "text": [
      "[Generation: 44] \n",
      " Average Fitness: 276.3766233766234 \n",
      " Best Fitness: 451.0 \n",
      " Worst Fitness: 169.0 \n",
      " Standard Error: 5.427259552096817\n"
     ]
    },
    {
     "name": "stderr",
     "output_type": "stream",
     "text": [
      "Generating Offspring: 100%|██████████████████████████████| 106/106 [00:51<00:00,  2.07it/s]\n",
      "Calculating fitnesses: 100%|█████████████████████████████| 154/154 [00:03<00:00, 48.19it/s]\n"
     ]
    },
    {
     "name": "stdout",
     "output_type": "stream",
     "text": [
      "[Generation: 45] \n",
      " Average Fitness: 267.9220779220779 \n",
      " Best Fitness: 482.0 \n",
      " Worst Fitness: 152.0 \n",
      " Standard Error: 5.515336800939881\n"
     ]
    },
    {
     "name": "stderr",
     "output_type": "stream",
     "text": [
      "Generating Offspring: 100%|██████████████████████████████| 106/106 [00:51<00:00,  2.08it/s]\n",
      "Calculating fitnesses: 100%|█████████████████████████████| 154/154 [00:03<00:00, 48.03it/s]\n"
     ]
    },
    {
     "name": "stdout",
     "output_type": "stream",
     "text": [
      "[Generation: 46] \n",
      " Average Fitness: 266.9155844155844 \n",
      " Best Fitness: 500.0 \n",
      " Worst Fitness: 164.0 \n",
      " Standard Error: 5.697678374484629\n"
     ]
    },
    {
     "name": "stderr",
     "output_type": "stream",
     "text": [
      "Generating Offspring: 100%|██████████████████████████████| 106/106 [00:50<00:00,  2.08it/s]\n",
      "Calculating fitnesses: 100%|█████████████████████████████| 154/154 [00:03<00:00, 45.43it/s]\n"
     ]
    },
    {
     "name": "stdout",
     "output_type": "stream",
     "text": [
      "[Generation: 47] \n",
      " Average Fitness: 279.18831168831167 \n",
      " Best Fitness: 500.0 \n",
      " Worst Fitness: 165.0 \n",
      " Standard Error: 5.939590420117979\n"
     ]
    },
    {
     "name": "stderr",
     "output_type": "stream",
     "text": [
      "Generating Offspring: 100%|██████████████████████████████| 106/106 [00:51<00:00,  2.07it/s]\n",
      "Calculating fitnesses: 100%|█████████████████████████████| 154/154 [00:03<00:00, 46.97it/s]\n"
     ]
    },
    {
     "name": "stdout",
     "output_type": "stream",
     "text": [
      "[Generation: 48] \n",
      " Average Fitness: 275.11038961038963 \n",
      " Best Fitness: 500.0 \n",
      " Worst Fitness: 160.0 \n",
      " Standard Error: 5.406257253708734\n"
     ]
    },
    {
     "name": "stderr",
     "output_type": "stream",
     "text": [
      "Generating Offspring: 100%|██████████████████████████████| 106/106 [00:50<00:00,  2.08it/s]\n",
      "Calculating fitnesses: 100%|█████████████████████████████| 154/154 [00:03<00:00, 49.60it/s]\n"
     ]
    },
    {
     "name": "stdout",
     "output_type": "stream",
     "text": [
      "[Generation: 49] \n",
      " Average Fitness: 257.8181818181818 \n",
      " Best Fitness: 442.0 \n",
      " Worst Fitness: 162.0 \n",
      " Standard Error: 4.848747446415605\n"
     ]
    },
    {
     "name": "stderr",
     "output_type": "stream",
     "text": [
      "Generating Offspring: 100%|██████████████████████████████| 106/106 [00:50<00:00,  2.10it/s]\n",
      "Calculating fitnesses: 100%|█████████████████████████████| 154/154 [00:03<00:00, 45.69it/s]\n"
     ]
    },
    {
     "name": "stdout",
     "output_type": "stream",
     "text": [
      "[Generation: 50] \n",
      " Average Fitness: 278.512987012987 \n",
      " Best Fitness: 462.0 \n",
      " Worst Fitness: 166.0 \n",
      " Standard Error: 5.604985207932133\n"
     ]
    },
    {
     "name": "stderr",
     "output_type": "stream",
     "text": [
      "Generating Offspring: 100%|██████████████████████████████| 106/106 [00:50<00:00,  2.09it/s]\n",
      "Calculating fitnesses: 100%|█████████████████████████████| 154/154 [00:03<00:00, 45.68it/s]\n"
     ]
    },
    {
     "name": "stdout",
     "output_type": "stream",
     "text": [
      "[Generation: 51] \n",
      " Average Fitness: 279.1363636363636 \n",
      " Best Fitness: 460.0 \n",
      " Worst Fitness: 159.0 \n",
      " Standard Error: 5.495644718492723\n"
     ]
    },
    {
     "name": "stderr",
     "output_type": "stream",
     "text": [
      "Generating Offspring: 100%|██████████████████████████████| 106/106 [00:50<00:00,  2.08it/s]\n",
      "Calculating fitnesses: 100%|█████████████████████████████| 154/154 [00:03<00:00, 46.90it/s]\n"
     ]
    },
    {
     "name": "stdout",
     "output_type": "stream",
     "text": [
      "[Generation: 52] \n",
      " Average Fitness: 268.2857142857143 \n",
      " Best Fitness: 428.0 \n",
      " Worst Fitness: 164.0 \n",
      " Standard Error: 5.155215089427348\n"
     ]
    },
    {
     "name": "stderr",
     "output_type": "stream",
     "text": [
      "Generating Offspring: 100%|██████████████████████████████| 106/106 [00:51<00:00,  2.07it/s]\n",
      "Calculating fitnesses: 100%|█████████████████████████████| 154/154 [00:03<00:00, 46.69it/s]\n"
     ]
    },
    {
     "name": "stdout",
     "output_type": "stream",
     "text": [
      "[Generation: 53] \n",
      " Average Fitness: 272.25324675324674 \n",
      " Best Fitness: 452.0 \n",
      " Worst Fitness: 162.0 \n",
      " Standard Error: 5.665367529507948\n"
     ]
    },
    {
     "name": "stderr",
     "output_type": "stream",
     "text": [
      "Generating Offspring: 100%|██████████████████████████████| 106/106 [00:50<00:00,  2.09it/s]\n",
      "Calculating fitnesses: 100%|█████████████████████████████| 154/154 [00:03<00:00, 45.55it/s]\n"
     ]
    },
    {
     "name": "stdout",
     "output_type": "stream",
     "text": [
      "[Generation: 54] \n",
      " Average Fitness: 280.73376623376623 \n",
      " Best Fitness: 500.0 \n",
      " Worst Fitness: 170.0 \n",
      " Standard Error: 5.745360814255728\n"
     ]
    },
    {
     "name": "stderr",
     "output_type": "stream",
     "text": [
      "Generating Offspring: 100%|██████████████████████████████| 106/106 [00:50<00:00,  2.10it/s]\n"
     ]
    },
    {
     "name": "stdout",
     "output_type": "stream",
     "text": [
      "| \u001b[95m2        \u001b[0m | \u001b[95m452.8    \u001b[0m | \u001b[95m48.28    \u001b[0m | \u001b[95m54.19    \u001b[0m | \u001b[95m0.4028   \u001b[0m | \u001b[95m1.0      \u001b[0m | \u001b[95m154.8    \u001b[0m | \u001b[95m21.19    \u001b[0m |\n"
     ]
    },
    {
     "name": "stderr",
     "output_type": "stream",
     "text": [
      "Calculating fitnesses: 100%|████████████████████████████| 155/155 [00:00<00:00, 423.86it/s]\n"
     ]
    },
    {
     "name": "stdout",
     "output_type": "stream",
     "text": [
      "[Generation: 1] \n",
      " Average Fitness: 20.593548387096774 \n",
      " Best Fitness: 59.0 \n",
      " Worst Fitness: 9.0 \n",
      " Standard Error: 0.8130531644325883\n"
     ]
    },
    {
     "name": "stderr",
     "output_type": "stream",
     "text": [
      "Generating Offspring: 100%|██████████████████████████████| 103/103 [00:03<00:00, 30.95it/s]\n",
      "Calculating fitnesses: 100%|████████████████████████████| 155/155 [00:00<00:00, 621.70it/s]\n"
     ]
    },
    {
     "name": "stdout",
     "output_type": "stream",
     "text": [
      "[Generation: 2] \n",
      " Average Fitness: 21.038709677419355 \n",
      " Best Fitness: 110.0 \n",
      " Worst Fitness: 8.0 \n",
      " Standard Error: 1.3048163774581187\n"
     ]
    },
    {
     "name": "stderr",
     "output_type": "stream",
     "text": [
      "Generating Offspring: 100%|██████████████████████████████| 103/103 [00:03<00:00, 31.72it/s]\n",
      "Calculating fitnesses: 100%|████████████████████████████| 155/155 [00:00<00:00, 369.25it/s]\n"
     ]
    },
    {
     "name": "stdout",
     "output_type": "stream",
     "text": [
      "[Generation: 3] \n",
      " Average Fitness: 35.4 \n",
      " Best Fitness: 365.0 \n",
      " Worst Fitness: 8.0 \n",
      " Standard Error: 3.5501978089416593\n"
     ]
    },
    {
     "name": "stderr",
     "output_type": "stream",
     "text": [
      "Generating Offspring: 100%|██████████████████████████████| 103/103 [00:06<00:00, 15.70it/s]\n",
      "Calculating fitnesses: 100%|████████████████████████████| 155/155 [00:01<00:00, 116.03it/s]\n"
     ]
    },
    {
     "name": "stdout",
     "output_type": "stream",
     "text": [
      "[Generation: 4] \n",
      " Average Fitness: 113.03870967741935 \n",
      " Best Fitness: 500.0 \n",
      " Worst Fitness: 8.0 \n",
      " Standard Error: 7.3534153658421255\n"
     ]
    },
    {
     "name": "stderr",
     "output_type": "stream",
     "text": [
      "Generating Offspring: 100%|██████████████████████████████| 103/103 [00:18<00:00,  5.61it/s]\n",
      "Calculating fitnesses: 100%|█████████████████████████████| 155/155 [00:02<00:00, 52.03it/s]\n"
     ]
    },
    {
     "name": "stdout",
     "output_type": "stream",
     "text": [
      "[Generation: 5] \n",
      " Average Fitness: 243.61290322580646 \n",
      " Best Fitness: 500.0 \n",
      " Worst Fitness: 48.0 \n",
      " Standard Error: 11.489491335642473\n"
     ]
    },
    {
     "name": "stderr",
     "output_type": "stream",
     "text": [
      "Generating Offspring: 100%|██████████████████████████████| 103/103 [00:38<00:00,  2.69it/s]\n",
      "Calculating fitnesses: 100%|█████████████████████████████| 155/155 [00:04<00:00, 31.77it/s]\n"
     ]
    },
    {
     "name": "stdout",
     "output_type": "stream",
     "text": [
      "[Generation: 6] \n",
      " Average Fitness: 402.48387096774195 \n",
      " Best Fitness: 500.0 \n",
      " Worst Fitness: 241.0 \n",
      " Standard Error: 6.259868487803936\n"
     ]
    },
    {
     "name": "stderr",
     "output_type": "stream",
     "text": [
      "Generating Offspring: 100%|██████████████████████████████| 103/103 [01:00<00:00,  1.72it/s]\n",
      "Calculating fitnesses: 100%|█████████████████████████████| 155/155 [00:04<00:00, 31.23it/s]\n"
     ]
    },
    {
     "name": "stdout",
     "output_type": "stream",
     "text": [
      "[Generation: 7] \n",
      " Average Fitness: 404.51612903225805 \n",
      " Best Fitness: 500.0 \n",
      " Worst Fitness: 254.0 \n",
      " Standard Error: 5.608684352184477\n"
     ]
    },
    {
     "name": "stderr",
     "output_type": "stream",
     "text": [
      "Generating Offspring: 100%|██████████████████████████████| 103/103 [01:00<00:00,  1.70it/s]\n",
      "Calculating fitnesses: 100%|█████████████████████████████| 155/155 [00:05<00:00, 30.69it/s]\n"
     ]
    },
    {
     "name": "stdout",
     "output_type": "stream",
     "text": [
      "[Generation: 8] \n",
      " Average Fitness: 415.9483870967742 \n",
      " Best Fitness: 500.0 \n",
      " Worst Fitness: 239.0 \n",
      " Standard Error: 5.928514195431122\n"
     ]
    },
    {
     "name": "stderr",
     "output_type": "stream",
     "text": [
      "Generating Offspring: 100%|██████████████████████████████| 103/103 [01:01<00:00,  1.67it/s]\n",
      "Calculating fitnesses: 100%|█████████████████████████████| 155/155 [00:05<00:00, 28.91it/s]\n"
     ]
    },
    {
     "name": "stdout",
     "output_type": "stream",
     "text": [
      "[Generation: 9] \n",
      " Average Fitness: 432.8709677419355 \n",
      " Best Fitness: 500.0 \n",
      " Worst Fitness: 220.0 \n",
      " Standard Error: 6.440671912619116\n"
     ]
    },
    {
     "name": "stderr",
     "output_type": "stream",
     "text": [
      "Generating Offspring: 100%|██████████████████████████████| 103/103 [01:05<00:00,  1.56it/s]\n",
      "Calculating fitnesses: 100%|█████████████████████████████| 155/155 [00:05<00:00, 26.59it/s]\n"
     ]
    },
    {
     "name": "stdout",
     "output_type": "stream",
     "text": [
      "[Generation: 10] \n",
      " Average Fitness: 475.03225806451616 \n",
      " Best Fitness: 500.0 \n",
      " Worst Fitness: 259.0 \n",
      " Standard Error: 4.266454328732114\n"
     ]
    },
    {
     "name": "stderr",
     "output_type": "stream",
     "text": [
      "Generating Offspring: 100%|██████████████████████████████| 103/103 [01:11<00:00,  1.45it/s]\n",
      "Calculating fitnesses: 100%|█████████████████████████████| 155/155 [00:05<00:00, 26.11it/s]\n"
     ]
    },
    {
     "name": "stdout",
     "output_type": "stream",
     "text": [
      "[Generation: 11] \n",
      " Average Fitness: 488.2903225806452 \n",
      " Best Fitness: 500.0 \n",
      " Worst Fitness: 294.0 \n",
      " Standard Error: 2.9681872491532015\n"
     ]
    },
    {
     "name": "stderr",
     "output_type": "stream",
     "text": [
      "Generating Offspring: 100%|██████████████████████████████| 103/103 [01:13<00:00,  1.41it/s]\n",
      "Calculating fitnesses: 100%|█████████████████████████████| 155/155 [00:05<00:00, 25.87it/s]\n"
     ]
    },
    {
     "name": "stdout",
     "output_type": "stream",
     "text": [
      "[Generation: 12] \n",
      " Average Fitness: 494.4451612903226 \n",
      " Best Fitness: 500.0 \n",
      " Worst Fitness: 278.0 \n",
      " Standard Error: 2.192441254401013\n"
     ]
    },
    {
     "name": "stderr",
     "output_type": "stream",
     "text": [
      "Generating Offspring: 100%|██████████████████████████████| 103/103 [01:14<00:00,  1.39it/s]\n",
      "Calculating fitnesses: 100%|█████████████████████████████| 155/155 [00:06<00:00, 25.73it/s]\n"
     ]
    },
    {
     "name": "stdout",
     "output_type": "stream",
     "text": [
      "[Generation: 13] \n",
      " Average Fitness: 498.85806451612905 \n",
      " Best Fitness: 500.0 \n",
      " Worst Fitness: 387.0 \n",
      " Standard Error: 0.7668475672691929\n"
     ]
    },
    {
     "name": "stderr",
     "output_type": "stream",
     "text": [
      "Generating Offspring: 100%|██████████████████████████████| 103/103 [01:14<00:00,  1.39it/s]\n",
      "Calculating fitnesses: 100%|█████████████████████████████| 155/155 [00:06<00:00, 25.72it/s]\n"
     ]
    },
    {
     "name": "stdout",
     "output_type": "stream",
     "text": [
      "[Generation: 14] \n",
      " Average Fitness: 498.16129032258067 \n",
      " Best Fitness: 500.0 \n",
      " Worst Fitness: 428.0 \n",
      " Standard Error: 0.7142973362839522\n"
     ]
    },
    {
     "name": "stderr",
     "output_type": "stream",
     "text": [
      "Generating Offspring: 100%|██████████████████████████████| 103/103 [01:13<00:00,  1.40it/s]\n",
      "Calculating fitnesses: 100%|█████████████████████████████| 155/155 [00:05<00:00, 25.91it/s]\n"
     ]
    },
    {
     "name": "stdout",
     "output_type": "stream",
     "text": [
      "[Generation: 15] \n",
      " Average Fitness: 493.8516129032258 \n",
      " Best Fitness: 500.0 \n",
      " Worst Fitness: 300.0 \n",
      " Standard Error: 2.1745335187490538\n"
     ]
    },
    {
     "name": "stderr",
     "output_type": "stream",
     "text": [
      "Generating Offspring: 100%|██████████████████████████████| 103/103 [01:13<00:00,  1.40it/s]\n",
      "Calculating fitnesses: 100%|█████████████████████████████| 155/155 [00:05<00:00, 25.85it/s]\n"
     ]
    },
    {
     "name": "stdout",
     "output_type": "stream",
     "text": [
      "[Generation: 16] \n",
      " Average Fitness: 496.2903225806452 \n",
      " Best Fitness: 500.0 \n",
      " Worst Fitness: 350.0 \n",
      " Standard Error: 1.4774656382986386\n"
     ]
    },
    {
     "name": "stderr",
     "output_type": "stream",
     "text": [
      "Generating Offspring: 100%|██████████████████████████████| 103/103 [01:13<00:00,  1.40it/s]\n",
      "Calculating fitnesses: 100%|█████████████████████████████| 155/155 [00:06<00:00, 25.70it/s]\n"
     ]
    },
    {
     "name": "stdout",
     "output_type": "stream",
     "text": [
      "[Generation: 17] \n",
      " Average Fitness: 495.76129032258063 \n",
      " Best Fitness: 500.0 \n",
      " Worst Fitness: 357.0 \n",
      " Standard Error: 1.5244435927124986\n"
     ]
    },
    {
     "name": "stderr",
     "output_type": "stream",
     "text": [
      "Generating Offspring: 100%|██████████████████████████████| 103/103 [01:14<00:00,  1.38it/s]\n",
      "Calculating fitnesses: 100%|█████████████████████████████| 155/155 [00:06<00:00, 25.33it/s]\n"
     ]
    },
    {
     "name": "stdout",
     "output_type": "stream",
     "text": [
      "[Generation: 18] \n",
      " Average Fitness: 496.0451612903226 \n",
      " Best Fitness: 500.0 \n",
      " Worst Fitness: 366.0 \n",
      " Standard Error: 1.3296068488371138\n"
     ]
    },
    {
     "name": "stderr",
     "output_type": "stream",
     "text": [
      "Generating Offspring: 100%|██████████████████████████████| 103/103 [01:14<00:00,  1.38it/s]\n",
      "Calculating fitnesses: 100%|█████████████████████████████| 155/155 [00:06<00:00, 25.34it/s]\n"
     ]
    },
    {
     "name": "stdout",
     "output_type": "stream",
     "text": [
      "[Generation: 19] \n",
      " Average Fitness: 493.1548387096774 \n",
      " Best Fitness: 500.0 \n",
      " Worst Fitness: 305.0 \n",
      " Standard Error: 2.0678305244779174\n"
     ]
    },
    {
     "name": "stderr",
     "output_type": "stream",
     "text": [
      "Generating Offspring: 100%|██████████████████████████████| 103/103 [01:14<00:00,  1.37it/s]\n",
      "Calculating fitnesses: 100%|█████████████████████████████| 155/155 [00:06<00:00, 25.32it/s]\n"
     ]
    },
    {
     "name": "stdout",
     "output_type": "stream",
     "text": [
      "[Generation: 20] \n",
      " Average Fitness: 496.53548387096777 \n",
      " Best Fitness: 500.0 \n",
      " Worst Fitness: 396.0 \n",
      " Standard Error: 1.2924088705500933\n"
     ]
    },
    {
     "name": "stderr",
     "output_type": "stream",
     "text": [
      "Generating Offspring: 100%|██████████████████████████████| 103/103 [01:14<00:00,  1.37it/s]\n",
      "Calculating fitnesses: 100%|█████████████████████████████| 155/155 [00:06<00:00, 25.23it/s]\n"
     ]
    },
    {
     "name": "stdout",
     "output_type": "stream",
     "text": [
      "[Generation: 21] \n",
      " Average Fitness: 498.0774193548387 \n",
      " Best Fitness: 500.0 \n",
      " Worst Fitness: 397.0 \n",
      " Standard Error: 0.8460725443007848\n"
     ]
    },
    {
     "name": "stderr",
     "output_type": "stream",
     "text": [
      "Generating Offspring: 100%|██████████████████████████████| 103/103 [01:14<00:00,  1.37it/s]\n",
      "Calculating fitnesses: 100%|█████████████████████████████| 155/155 [00:06<00:00, 25.26it/s]\n"
     ]
    },
    {
     "name": "stdout",
     "output_type": "stream",
     "text": [
      "[Generation: 22] \n",
      " Average Fitness: 498.4709677419355 \n",
      " Best Fitness: 500.0 \n",
      " Worst Fitness: 386.0 \n",
      " Standard Error: 0.8669952386339491\n"
     ]
    },
    {
     "name": "stderr",
     "output_type": "stream",
     "text": [
      "Generating Offspring: 100%|██████████████████████████████| 103/103 [01:14<00:00,  1.37it/s]\n",
      "Calculating fitnesses: 100%|█████████████████████████████| 155/155 [00:06<00:00, 25.22it/s]\n"
     ]
    },
    {
     "name": "stdout",
     "output_type": "stream",
     "text": [
      "[Generation: 23] \n",
      " Average Fitness: 497.63870967741934 \n",
      " Best Fitness: 500.0 \n",
      " Worst Fitness: 373.0 \n",
      " Standard Error: 1.216865280931694\n"
     ]
    },
    {
     "name": "stderr",
     "output_type": "stream",
     "text": [
      "Generating Offspring: 100%|██████████████████████████████| 103/103 [01:14<00:00,  1.38it/s]\n",
      "Calculating fitnesses: 100%|█████████████████████████████| 155/155 [00:06<00:00, 25.39it/s]\n"
     ]
    },
    {
     "name": "stdout",
     "output_type": "stream",
     "text": [
      "[Generation: 24] \n",
      " Average Fitness: 494.60645161290324 \n",
      " Best Fitness: 500.0 \n",
      " Worst Fitness: 343.0 \n",
      " Standard Error: 1.7320386358648272\n"
     ]
    },
    {
     "name": "stderr",
     "output_type": "stream",
     "text": [
      "Generating Offspring: 100%|██████████████████████████████| 103/103 [01:14<00:00,  1.38it/s]\n",
      "Calculating fitnesses: 100%|█████████████████████████████| 155/155 [00:06<00:00, 25.19it/s]\n"
     ]
    },
    {
     "name": "stdout",
     "output_type": "stream",
     "text": [
      "[Generation: 25] \n",
      " Average Fitness: 498.3032258064516 \n",
      " Best Fitness: 500.0 \n",
      " Worst Fitness: 398.0 \n",
      " Standard Error: 0.9131251756405785\n"
     ]
    },
    {
     "name": "stderr",
     "output_type": "stream",
     "text": [
      "Generating Offspring: 100%|██████████████████████████████| 103/103 [01:14<00:00,  1.37it/s]\n",
      "Calculating fitnesses: 100%|█████████████████████████████| 155/155 [00:06<00:00, 25.30it/s]\n"
     ]
    },
    {
     "name": "stdout",
     "output_type": "stream",
     "text": [
      "[Generation: 26] \n",
      " Average Fitness: 497.0838709677419 \n",
      " Best Fitness: 500.0 \n",
      " Worst Fitness: 384.0 \n",
      " Standard Error: 1.1567167771098492\n"
     ]
    },
    {
     "name": "stderr",
     "output_type": "stream",
     "text": [
      "Generating Offspring: 100%|██████████████████████████████| 103/103 [01:14<00:00,  1.38it/s]\n",
      "Calculating fitnesses: 100%|█████████████████████████████| 155/155 [00:06<00:00, 25.11it/s]\n"
     ]
    },
    {
     "name": "stdout",
     "output_type": "stream",
     "text": [
      "[Generation: 27] \n",
      " Average Fitness: 498.56129032258065 \n",
      " Best Fitness: 500.0 \n",
      " Worst Fitness: 385.0 \n",
      " Standard Error: 0.9023120639927134\n"
     ]
    },
    {
     "name": "stderr",
     "output_type": "stream",
     "text": [
      "Generating Offspring: 100%|██████████████████████████████| 103/103 [01:14<00:00,  1.38it/s]\n",
      "Calculating fitnesses: 100%|█████████████████████████████| 155/155 [00:06<00:00, 25.18it/s]\n"
     ]
    },
    {
     "name": "stdout",
     "output_type": "stream",
     "text": [
      "[Generation: 28] \n",
      " Average Fitness: 497.5290322580645 \n",
      " Best Fitness: 500.0 \n",
      " Worst Fitness: 413.0 \n",
      " Standard Error: 0.9755841998487367\n"
     ]
    },
    {
     "name": "stderr",
     "output_type": "stream",
     "text": [
      "Generating Offspring: 100%|██████████████████████████████| 103/103 [01:14<00:00,  1.38it/s]\n",
      "Calculating fitnesses: 100%|█████████████████████████████| 155/155 [00:06<00:00, 25.24it/s]\n"
     ]
    },
    {
     "name": "stdout",
     "output_type": "stream",
     "text": [
      "[Generation: 29] \n",
      " Average Fitness: 495.06451612903226 \n",
      " Best Fitness: 500.0 \n",
      " Worst Fitness: 303.0 \n",
      " Standard Error: 1.7364636552257493\n"
     ]
    },
    {
     "name": "stderr",
     "output_type": "stream",
     "text": [
      "Generating Offspring: 100%|██████████████████████████████| 103/103 [01:14<00:00,  1.38it/s]\n",
      "Calculating fitnesses: 100%|█████████████████████████████| 155/155 [00:06<00:00, 25.28it/s]\n"
     ]
    },
    {
     "name": "stdout",
     "output_type": "stream",
     "text": [
      "[Generation: 30] \n",
      " Average Fitness: 496.1225806451613 \n",
      " Best Fitness: 500.0 \n",
      " Worst Fitness: 365.0 \n",
      " Standard Error: 1.5638976660364265\n"
     ]
    },
    {
     "name": "stderr",
     "output_type": "stream",
     "text": [
      "Generating Offspring: 100%|██████████████████████████████| 103/103 [01:14<00:00,  1.38it/s]\n",
      "Calculating fitnesses: 100%|█████████████████████████████| 155/155 [00:06<00:00, 25.26it/s]\n"
     ]
    },
    {
     "name": "stdout",
     "output_type": "stream",
     "text": [
      "[Generation: 31] \n",
      " Average Fitness: 496.60645161290324 \n",
      " Best Fitness: 500.0 \n",
      " Worst Fitness: 397.0 \n",
      " Standard Error: 1.1973471855373294\n"
     ]
    },
    {
     "name": "stderr",
     "output_type": "stream",
     "text": [
      "Generating Offspring: 100%|██████████████████████████████| 103/103 [01:14<00:00,  1.37it/s]\n",
      "Calculating fitnesses: 100%|█████████████████████████████| 155/155 [00:06<00:00, 25.45it/s]\n"
     ]
    },
    {
     "name": "stdout",
     "output_type": "stream",
     "text": [
      "[Generation: 32] \n",
      " Average Fitness: 494.3225806451613 \n",
      " Best Fitness: 500.0 \n",
      " Worst Fitness: 357.0 \n",
      " Standard Error: 1.822724301147887\n"
     ]
    },
    {
     "name": "stderr",
     "output_type": "stream",
     "text": [
      "Generating Offspring: 100%|██████████████████████████████| 103/103 [01:14<00:00,  1.38it/s]\n",
      "Calculating fitnesses: 100%|█████████████████████████████| 155/155 [00:06<00:00, 25.33it/s]\n"
     ]
    },
    {
     "name": "stdout",
     "output_type": "stream",
     "text": [
      "[Generation: 33] \n",
      " Average Fitness: 494.40645161290325 \n",
      " Best Fitness: 500.0 \n",
      " Worst Fitness: 292.0 \n",
      " Standard Error: 2.160615918140502\n"
     ]
    },
    {
     "name": "stderr",
     "output_type": "stream",
     "text": [
      "Generating Offspring: 100%|██████████████████████████████| 103/103 [01:14<00:00,  1.37it/s]\n",
      "Calculating fitnesses: 100%|█████████████████████████████| 155/155 [00:06<00:00, 25.45it/s]\n"
     ]
    },
    {
     "name": "stdout",
     "output_type": "stream",
     "text": [
      "[Generation: 34] \n",
      " Average Fitness: 492.7935483870968 \n",
      " Best Fitness: 500.0 \n",
      " Worst Fitness: 370.0 \n",
      " Standard Error: 2.0312946825830154\n"
     ]
    },
    {
     "name": "stderr",
     "output_type": "stream",
     "text": [
      "Generating Offspring: 100%|██████████████████████████████| 103/103 [01:15<00:00,  1.37it/s]\n",
      "Calculating fitnesses: 100%|█████████████████████████████| 155/155 [00:06<00:00, 25.31it/s]\n"
     ]
    },
    {
     "name": "stdout",
     "output_type": "stream",
     "text": [
      "[Generation: 35] \n",
      " Average Fitness: 495.50967741935483 \n",
      " Best Fitness: 500.0 \n",
      " Worst Fitness: 393.0 \n",
      " Standard Error: 1.4522238624915011\n"
     ]
    },
    {
     "name": "stderr",
     "output_type": "stream",
     "text": [
      "Generating Offspring: 100%|██████████████████████████████| 103/103 [01:15<00:00,  1.37it/s]\n",
      "Calculating fitnesses: 100%|█████████████████████████████| 155/155 [00:06<00:00, 25.23it/s]\n"
     ]
    },
    {
     "name": "stdout",
     "output_type": "stream",
     "text": [
      "[Generation: 36] \n",
      " Average Fitness: 497.3483870967742 \n",
      " Best Fitness: 500.0 \n",
      " Worst Fitness: 388.0 \n",
      " Standard Error: 1.1319555189539978\n"
     ]
    },
    {
     "name": "stderr",
     "output_type": "stream",
     "text": [
      "Generating Offspring: 100%|██████████████████████████████| 103/103 [01:15<00:00,  1.37it/s]\n",
      "Calculating fitnesses: 100%|█████████████████████████████| 155/155 [00:06<00:00, 25.21it/s]\n"
     ]
    },
    {
     "name": "stdout",
     "output_type": "stream",
     "text": [
      "[Generation: 37] \n",
      " Average Fitness: 497.01935483870966 \n",
      " Best Fitness: 500.0 \n",
      " Worst Fitness: 377.0 \n",
      " Standard Error: 1.2692248794174383\n"
     ]
    },
    {
     "name": "stderr",
     "output_type": "stream",
     "text": [
      "Generating Offspring: 100%|██████████████████████████████| 103/103 [01:14<00:00,  1.38it/s]\n",
      "Calculating fitnesses: 100%|█████████████████████████████| 155/155 [00:06<00:00, 25.00it/s]\n"
     ]
    },
    {
     "name": "stdout",
     "output_type": "stream",
     "text": [
      "[Generation: 38] \n",
      " Average Fitness: 495.4516129032258 \n",
      " Best Fitness: 500.0 \n",
      " Worst Fitness: 296.0 \n",
      " Standard Error: 1.8196938183824118\n"
     ]
    },
    {
     "name": "stderr",
     "output_type": "stream",
     "text": [
      "Generating Offspring: 100%|██████████████████████████████| 103/103 [01:14<00:00,  1.38it/s]\n",
      "Calculating fitnesses: 100%|█████████████████████████████| 155/155 [00:06<00:00, 25.04it/s]\n"
     ]
    },
    {
     "name": "stdout",
     "output_type": "stream",
     "text": [
      "[Generation: 39] \n",
      " Average Fitness: 498.0258064516129 \n",
      " Best Fitness: 500.0 \n",
      " Worst Fitness: 420.0 \n",
      " Standard Error: 0.7966703008477013\n"
     ]
    },
    {
     "name": "stderr",
     "output_type": "stream",
     "text": [
      "Generating Offspring: 100%|██████████████████████████████| 103/103 [01:14<00:00,  1.38it/s]\n",
      "Calculating fitnesses: 100%|█████████████████████████████| 155/155 [00:06<00:00, 25.23it/s]\n"
     ]
    },
    {
     "name": "stdout",
     "output_type": "stream",
     "text": [
      "[Generation: 40] \n",
      " Average Fitness: 496.3032258064516 \n",
      " Best Fitness: 500.0 \n",
      " Worst Fitness: 357.0 \n",
      " Standard Error: 1.4358908401045452\n"
     ]
    },
    {
     "name": "stderr",
     "output_type": "stream",
     "text": [
      "Generating Offspring: 100%|██████████████████████████████| 103/103 [01:14<00:00,  1.38it/s]\n",
      "Calculating fitnesses: 100%|█████████████████████████████| 155/155 [00:06<00:00, 25.28it/s]\n"
     ]
    },
    {
     "name": "stdout",
     "output_type": "stream",
     "text": [
      "[Generation: 41] \n",
      " Average Fitness: 495.93548387096774 \n",
      " Best Fitness: 500.0 \n",
      " Worst Fitness: 355.0 \n",
      " Standard Error: 1.4928029385247423\n"
     ]
    },
    {
     "name": "stderr",
     "output_type": "stream",
     "text": [
      "Generating Offspring: 100%|██████████████████████████████| 103/103 [01:15<00:00,  1.37it/s]\n",
      "Calculating fitnesses: 100%|█████████████████████████████| 155/155 [00:06<00:00, 25.13it/s]\n"
     ]
    },
    {
     "name": "stdout",
     "output_type": "stream",
     "text": [
      "[Generation: 42] \n",
      " Average Fitness: 496.5548387096774 \n",
      " Best Fitness: 500.0 \n",
      " Worst Fitness: 347.0 \n",
      " Standard Error: 1.4579468015107804\n"
     ]
    },
    {
     "name": "stderr",
     "output_type": "stream",
     "text": [
      "Generating Offspring: 100%|██████████████████████████████| 103/103 [01:15<00:00,  1.37it/s]\n",
      "Calculating fitnesses: 100%|█████████████████████████████| 155/155 [00:06<00:00, 25.32it/s]\n"
     ]
    },
    {
     "name": "stdout",
     "output_type": "stream",
     "text": [
      "[Generation: 43] \n",
      " Average Fitness: 495.7032258064516 \n",
      " Best Fitness: 500.0 \n",
      " Worst Fitness: 298.0 \n",
      " Standard Error: 1.8254628326242912\n"
     ]
    },
    {
     "name": "stderr",
     "output_type": "stream",
     "text": [
      "Generating Offspring: 100%|██████████████████████████████| 103/103 [01:15<00:00,  1.37it/s]\n",
      "Calculating fitnesses: 100%|█████████████████████████████| 155/155 [00:06<00:00, 25.23it/s]\n"
     ]
    },
    {
     "name": "stdout",
     "output_type": "stream",
     "text": [
      "[Generation: 44] \n",
      " Average Fitness: 496.9290322580645 \n",
      " Best Fitness: 500.0 \n",
      " Worst Fitness: 339.0 \n",
      " Standard Error: 1.421691719833722\n"
     ]
    },
    {
     "name": "stderr",
     "output_type": "stream",
     "text": [
      "Generating Offspring: 100%|██████████████████████████████| 103/103 [01:15<00:00,  1.37it/s]\n",
      "Calculating fitnesses: 100%|█████████████████████████████| 155/155 [00:06<00:00, 25.31it/s]\n"
     ]
    },
    {
     "name": "stdout",
     "output_type": "stream",
     "text": [
      "[Generation: 45] \n",
      " Average Fitness: 495.48387096774195 \n",
      " Best Fitness: 500.0 \n",
      " Worst Fitness: 365.0 \n",
      " Standard Error: 1.519772071821915\n"
     ]
    },
    {
     "name": "stderr",
     "output_type": "stream",
     "text": [
      "Generating Offspring: 100%|██████████████████████████████| 103/103 [01:14<00:00,  1.37it/s]\n",
      "Calculating fitnesses: 100%|█████████████████████████████| 155/155 [00:06<00:00, 25.11it/s]\n"
     ]
    },
    {
     "name": "stdout",
     "output_type": "stream",
     "text": [
      "[Generation: 46] \n",
      " Average Fitness: 496.10967741935485 \n",
      " Best Fitness: 500.0 \n",
      " Worst Fitness: 378.0 \n",
      " Standard Error: 1.43665486052301\n"
     ]
    },
    {
     "name": "stderr",
     "output_type": "stream",
     "text": [
      "Generating Offspring: 100%|██████████████████████████████| 103/103 [01:15<00:00,  1.37it/s]\n",
      "Calculating fitnesses: 100%|█████████████████████████████| 155/155 [00:06<00:00, 25.26it/s]\n"
     ]
    },
    {
     "name": "stdout",
     "output_type": "stream",
     "text": [
      "[Generation: 47] \n",
      " Average Fitness: 495.30967741935484 \n",
      " Best Fitness: 500.0 \n",
      " Worst Fitness: 393.0 \n",
      " Standard Error: 1.3551425038938514\n"
     ]
    },
    {
     "name": "stderr",
     "output_type": "stream",
     "text": [
      "Generating Offspring: 100%|██████████████████████████████| 103/103 [01:14<00:00,  1.37it/s]\n",
      "Calculating fitnesses: 100%|█████████████████████████████| 155/155 [00:06<00:00, 25.29it/s]\n"
     ]
    },
    {
     "name": "stdout",
     "output_type": "stream",
     "text": [
      "[Generation: 48] \n",
      " Average Fitness: 496.4258064516129 \n",
      " Best Fitness: 500.0 \n",
      " Worst Fitness: 341.0 \n",
      " Standard Error: 1.5102484248434376\n"
     ]
    },
    {
     "name": "stderr",
     "output_type": "stream",
     "text": [
      "Generating Offspring: 100%|██████████████████████████████| 103/103 [01:14<00:00,  1.38it/s]\n",
      "Calculating fitnesses: 100%|█████████████████████████████| 155/155 [00:06<00:00, 25.70it/s]\n"
     ]
    },
    {
     "name": "stdout",
     "output_type": "stream",
     "text": [
      "[Generation: 49] \n",
      " Average Fitness: 496.0 \n",
      " Best Fitness: 500.0 \n",
      " Worst Fitness: 370.0 \n",
      " Standard Error: 1.4560737676797184\n"
     ]
    },
    {
     "name": "stderr",
     "output_type": "stream",
     "text": [
      "Generating Offspring: 100%|██████████████████████████████| 103/103 [01:14<00:00,  1.38it/s]\n",
      "Calculating fitnesses: 100%|█████████████████████████████| 155/155 [00:06<00:00, 25.59it/s]\n"
     ]
    },
    {
     "name": "stdout",
     "output_type": "stream",
     "text": [
      "[Generation: 50] \n",
      " Average Fitness: 498.39354838709676 \n",
      " Best Fitness: 500.0 \n",
      " Worst Fitness: 449.0 \n",
      " Standard Error: 0.5756908219081556\n"
     ]
    },
    {
     "name": "stderr",
     "output_type": "stream",
     "text": [
      "Generating Offspring: 100%|██████████████████████████████| 103/103 [01:14<00:00,  1.39it/s]\n",
      "Calculating fitnesses: 100%|█████████████████████████████| 155/155 [00:06<00:00, 25.81it/s]\n"
     ]
    },
    {
     "name": "stdout",
     "output_type": "stream",
     "text": [
      "[Generation: 51] \n",
      " Average Fitness: 494.1225806451613 \n",
      " Best Fitness: 500.0 \n",
      " Worst Fitness: 286.0 \n",
      " Standard Error: 2.04315271557866\n"
     ]
    },
    {
     "name": "stderr",
     "output_type": "stream",
     "text": [
      "Generating Offspring: 100%|██████████████████████████████| 103/103 [01:13<00:00,  1.40it/s]\n"
     ]
    },
    {
     "name": "stdout",
     "output_type": "stream",
     "text": [
      "| \u001b[95m3        \u001b[0m | \u001b[95m481.1    \u001b[0m | \u001b[95m52.9     \u001b[0m | \u001b[95m51.95    \u001b[0m | \u001b[95m0.4      \u001b[0m | \u001b[95m1.0      \u001b[0m | \u001b[95m155.9    \u001b[0m | \u001b[95m17.74    \u001b[0m |\n"
     ]
    },
    {
     "name": "stderr",
     "output_type": "stream",
     "text": [
      "Calculating fitnesses: 100%|████████████████████████████| 197/197 [00:00<00:00, 521.64it/s]\n"
     ]
    },
    {
     "name": "stdout",
     "output_type": "stream",
     "text": [
      "[Generation: 1] \n",
      " Average Fitness: 20.553299492385786 \n",
      " Best Fitness: 60.0 \n",
      " Worst Fitness: 9.0 \n",
      " Standard Error: 0.6778733930287627\n"
     ]
    },
    {
     "name": "stderr",
     "output_type": "stream",
     "text": [
      "Generating Offspring: 100%|█████████████████████████████| 130/130 [00:01<00:00, 105.86it/s]\n",
      "Calculating fitnesses: 100%|████████████████████████████| 197/197 [00:00<00:00, 702.98it/s]\n"
     ]
    },
    {
     "name": "stdout",
     "output_type": "stream",
     "text": [
      "[Generation: 2] \n",
      " Average Fitness: 19.01522842639594 \n",
      " Best Fitness: 236.0 \n",
      " Worst Fitness: 8.0 \n",
      " Standard Error: 1.4590561234705401\n"
     ]
    },
    {
     "name": "stderr",
     "output_type": "stream",
     "text": [
      "Generating Offspring: 100%|█████████████████████████████| 130/130 [00:01<00:00, 107.62it/s]\n",
      "Calculating fitnesses: 100%|████████████████████████████| 197/197 [00:00<00:00, 528.41it/s]\n"
     ]
    },
    {
     "name": "stdout",
     "output_type": "stream",
     "text": [
      "[Generation: 3] \n",
      " Average Fitness: 25.34010152284264 \n",
      " Best Fitness: 184.0 \n",
      " Worst Fitness: 8.0 \n",
      " Standard Error: 1.90305694692504\n"
     ]
    },
    {
     "name": "stderr",
     "output_type": "stream",
     "text": [
      "Generating Offspring: 100%|██████████████████████████████| 130/130 [00:01<00:00, 72.95it/s]\n",
      "Calculating fitnesses: 100%|████████████████████████████| 197/197 [00:00<00:00, 324.08it/s]\n"
     ]
    },
    {
     "name": "stdout",
     "output_type": "stream",
     "text": [
      "[Generation: 4] \n",
      " Average Fitness: 39.746192893401016 \n",
      " Best Fitness: 232.0 \n",
      " Worst Fitness: 8.0 \n",
      " Standard Error: 2.849397176830912\n"
     ]
    },
    {
     "name": "stderr",
     "output_type": "stream",
     "text": [
      "Generating Offspring: 100%|██████████████████████████████| 130/130 [00:02<00:00, 44.92it/s]\n",
      "Calculating fitnesses: 100%|████████████████████████████| 197/197 [00:01<00:00, 164.47it/s]\n"
     ]
    },
    {
     "name": "stdout",
     "output_type": "stream",
     "text": [
      "[Generation: 5] \n",
      " Average Fitness: 78.41116751269035 \n",
      " Best Fitness: 500.0 \n",
      " Worst Fitness: 8.0 \n",
      " Standard Error: 4.550838827827905\n"
     ]
    },
    {
     "name": "stderr",
     "output_type": "stream",
     "text": [
      "Generating Offspring: 100%|██████████████████████████████| 130/130 [00:04<00:00, 26.01it/s]\n",
      "Calculating fitnesses: 100%|████████████████████████████| 197/197 [00:01<00:00, 110.02it/s]\n"
     ]
    },
    {
     "name": "stdout",
     "output_type": "stream",
     "text": [
      "[Generation: 6] \n",
      " Average Fitness: 119.8730964467005 \n",
      " Best Fitness: 245.0 \n",
      " Worst Fitness: 21.0 \n",
      " Standard Error: 3.3324692613885025\n"
     ]
    },
    {
     "name": "stderr",
     "output_type": "stream",
     "text": [
      "Generating Offspring: 100%|██████████████████████████████| 130/130 [00:07<00:00, 17.79it/s]\n",
      "Calculating fitnesses: 100%|█████████████████████████████| 197/197 [00:02<00:00, 84.16it/s]\n"
     ]
    },
    {
     "name": "stdout",
     "output_type": "stream",
     "text": [
      "[Generation: 7] \n",
      " Average Fitness: 156.7715736040609 \n",
      " Best Fitness: 435.0 \n",
      " Worst Fitness: 30.0 \n",
      " Standard Error: 2.8674881632931823\n"
     ]
    },
    {
     "name": "stderr",
     "output_type": "stream",
     "text": [
      "Generating Offspring: 100%|██████████████████████████████| 130/130 [00:08<00:00, 15.21it/s]\n",
      "Calculating fitnesses: 100%|█████████████████████████████| 197/197 [00:02<00:00, 80.84it/s]\n"
     ]
    },
    {
     "name": "stdout",
     "output_type": "stream",
     "text": [
      "[Generation: 8] \n",
      " Average Fitness: 160.80710659898477 \n",
      " Best Fitness: 285.0 \n",
      " Worst Fitness: 24.0 \n",
      " Standard Error: 2.5478669862661185\n"
     ]
    },
    {
     "name": "stderr",
     "output_type": "stream",
     "text": [
      "Generating Offspring: 100%|██████████████████████████████| 130/130 [00:08<00:00, 14.73it/s]\n",
      "Calculating fitnesses: 100%|█████████████████████████████| 197/197 [00:02<00:00, 79.35it/s]\n"
     ]
    },
    {
     "name": "stdout",
     "output_type": "stream",
     "text": [
      "[Generation: 9] \n",
      " Average Fitness: 165.25888324873097 \n",
      " Best Fitness: 284.0 \n",
      " Worst Fitness: 9.0 \n",
      " Standard Error: 2.544332895027459\n"
     ]
    },
    {
     "name": "stderr",
     "output_type": "stream",
     "text": [
      "Generating Offspring: 100%|██████████████████████████████| 130/130 [00:09<00:00, 14.43it/s]\n",
      "Calculating fitnesses: 100%|█████████████████████████████| 197/197 [00:02<00:00, 80.10it/s]\n"
     ]
    },
    {
     "name": "stdout",
     "output_type": "stream",
     "text": [
      "[Generation: 10] \n",
      " Average Fitness: 162.98984771573603 \n",
      " Best Fitness: 278.0 \n",
      " Worst Fitness: 67.0 \n",
      " Standard Error: 2.3481324018977747\n"
     ]
    },
    {
     "name": "stderr",
     "output_type": "stream",
     "text": [
      "Generating Offspring: 100%|██████████████████████████████| 130/130 [00:09<00:00, 14.11it/s]\n",
      "Calculating fitnesses: 100%|█████████████████████████████| 197/197 [00:02<00:00, 78.54it/s]\n"
     ]
    },
    {
     "name": "stdout",
     "output_type": "stream",
     "text": [
      "[Generation: 11] \n",
      " Average Fitness: 166.37055837563452 \n",
      " Best Fitness: 268.0 \n",
      " Worst Fitness: 76.0 \n",
      " Standard Error: 2.343307392966331\n"
     ]
    },
    {
     "name": "stderr",
     "output_type": "stream",
     "text": [
      "Generating Offspring: 100%|██████████████████████████████| 130/130 [00:09<00:00, 14.22it/s]\n",
      "Calculating fitnesses: 100%|█████████████████████████████| 197/197 [00:02<00:00, 79.11it/s]\n"
     ]
    },
    {
     "name": "stdout",
     "output_type": "stream",
     "text": [
      "[Generation: 12] \n",
      " Average Fitness: 164.7258883248731 \n",
      " Best Fitness: 286.0 \n",
      " Worst Fitness: 111.0 \n",
      " Standard Error: 2.4105417738051527\n"
     ]
    },
    {
     "name": "stderr",
     "output_type": "stream",
     "text": [
      "Generating Offspring: 100%|██████████████████████████████| 130/130 [00:09<00:00, 14.16it/s]\n",
      "Calculating fitnesses: 100%|█████████████████████████████| 197/197 [00:02<00:00, 80.42it/s]\n"
     ]
    },
    {
     "name": "stdout",
     "output_type": "stream",
     "text": [
      "[Generation: 13] \n",
      " Average Fitness: 161.2233502538071 \n",
      " Best Fitness: 277.0 \n",
      " Worst Fitness: 105.0 \n",
      " Standard Error: 2.390263130174777\n"
     ]
    },
    {
     "name": "stderr",
     "output_type": "stream",
     "text": [
      "Generating Offspring: 100%|██████████████████████████████| 130/130 [00:09<00:00, 13.98it/s]\n",
      "Calculating fitnesses: 100%|█████████████████████████████| 197/197 [00:02<00:00, 76.61it/s]\n"
     ]
    },
    {
     "name": "stdout",
     "output_type": "stream",
     "text": [
      "[Generation: 14] \n",
      " Average Fitness: 167.87309644670052 \n",
      " Best Fitness: 309.0 \n",
      " Worst Fitness: 94.0 \n",
      " Standard Error: 2.531976314269783\n"
     ]
    },
    {
     "name": "stderr",
     "output_type": "stream",
     "text": [
      "Generating Offspring: 100%|██████████████████████████████| 130/130 [00:09<00:00, 14.04it/s]\n",
      "Calculating fitnesses: 100%|█████████████████████████████| 197/197 [00:02<00:00, 76.94it/s]\n"
     ]
    },
    {
     "name": "stdout",
     "output_type": "stream",
     "text": [
      "[Generation: 15] \n",
      " Average Fitness: 167.61928934010152 \n",
      " Best Fitness: 313.0 \n",
      " Worst Fitness: 110.0 \n",
      " Standard Error: 2.5303730768243295\n"
     ]
    },
    {
     "name": "stderr",
     "output_type": "stream",
     "text": [
      "Generating Offspring: 100%|██████████████████████████████| 130/130 [00:09<00:00, 14.09it/s]\n",
      "Calculating fitnesses: 100%|█████████████████████████████| 197/197 [00:02<00:00, 77.47it/s]\n"
     ]
    },
    {
     "name": "stdout",
     "output_type": "stream",
     "text": [
      "[Generation: 16] \n",
      " Average Fitness: 167.89847715736042 \n",
      " Best Fitness: 242.0 \n",
      " Worst Fitness: 109.0 \n",
      " Standard Error: 2.34146106164942\n"
     ]
    },
    {
     "name": "stderr",
     "output_type": "stream",
     "text": [
      "Generating Offspring: 100%|██████████████████████████████| 130/130 [00:09<00:00, 14.05it/s]\n",
      "Calculating fitnesses: 100%|█████████████████████████████| 197/197 [00:02<00:00, 77.53it/s]\n"
     ]
    },
    {
     "name": "stdout",
     "output_type": "stream",
     "text": [
      "[Generation: 17] \n",
      " Average Fitness: 170.18274111675126 \n",
      " Best Fitness: 273.0 \n",
      " Worst Fitness: 113.0 \n",
      " Standard Error: 2.3371735329821957\n"
     ]
    },
    {
     "name": "stderr",
     "output_type": "stream",
     "text": [
      "Generating Offspring: 100%|██████████████████████████████| 130/130 [00:09<00:00, 14.16it/s]\n",
      "Calculating fitnesses: 100%|█████████████████████████████| 197/197 [00:02<00:00, 80.12it/s]\n"
     ]
    },
    {
     "name": "stdout",
     "output_type": "stream",
     "text": [
      "[Generation: 18] \n",
      " Average Fitness: 164.0507614213198 \n",
      " Best Fitness: 300.0 \n",
      " Worst Fitness: 109.0 \n",
      " Standard Error: 2.320380989635253\n"
     ]
    },
    {
     "name": "stderr",
     "output_type": "stream",
     "text": [
      "Generating Offspring: 100%|██████████████████████████████| 130/130 [00:09<00:00, 14.27it/s]\n",
      "Calculating fitnesses: 100%|█████████████████████████████| 197/197 [00:02<00:00, 79.38it/s]\n"
     ]
    },
    {
     "name": "stdout",
     "output_type": "stream",
     "text": [
      "[Generation: 19] \n",
      " Average Fitness: 165.45685279187816 \n",
      " Best Fitness: 263.0 \n",
      " Worst Fitness: 110.0 \n",
      " Standard Error: 2.590588533475643\n"
     ]
    },
    {
     "name": "stderr",
     "output_type": "stream",
     "text": [
      "Generating Offspring: 100%|██████████████████████████████| 130/130 [00:09<00:00, 13.76it/s]\n",
      "Calculating fitnesses: 100%|█████████████████████████████| 197/197 [00:02<00:00, 79.87it/s]\n"
     ]
    },
    {
     "name": "stdout",
     "output_type": "stream",
     "text": [
      "[Generation: 20] \n",
      " Average Fitness: 164.10152284263958 \n",
      " Best Fitness: 272.0 \n",
      " Worst Fitness: 111.0 \n",
      " Standard Error: 2.35774142279873\n"
     ]
    },
    {
     "name": "stderr",
     "output_type": "stream",
     "text": [
      "Generating Offspring: 100%|██████████████████████████████| 130/130 [00:09<00:00, 14.06it/s]\n",
      "Calculating fitnesses: 100%|█████████████████████████████| 197/197 [00:02<00:00, 75.51it/s]\n"
     ]
    },
    {
     "name": "stdout",
     "output_type": "stream",
     "text": [
      "[Generation: 21] \n",
      " Average Fitness: 170.03553299492387 \n",
      " Best Fitness: 284.0 \n",
      " Worst Fitness: 111.0 \n",
      " Standard Error: 2.7334290733134967\n"
     ]
    },
    {
     "name": "stderr",
     "output_type": "stream",
     "text": [
      "Generating Offspring: 100%|██████████████████████████████| 130/130 [00:09<00:00, 14.01it/s]\n",
      "Calculating fitnesses: 100%|█████████████████████████████| 197/197 [00:02<00:00, 76.26it/s]\n"
     ]
    },
    {
     "name": "stdout",
     "output_type": "stream",
     "text": [
      "[Generation: 22] \n",
      " Average Fitness: 170.73604060913706 \n",
      " Best Fitness: 261.0 \n",
      " Worst Fitness: 112.0 \n",
      " Standard Error: 2.3656277840767546\n"
     ]
    },
    {
     "name": "stderr",
     "output_type": "stream",
     "text": [
      "Generating Offspring: 100%|██████████████████████████████| 130/130 [00:09<00:00, 14.00it/s]\n",
      "Calculating fitnesses: 100%|█████████████████████████████| 197/197 [00:02<00:00, 79.54it/s]\n"
     ]
    },
    {
     "name": "stdout",
     "output_type": "stream",
     "text": [
      "[Generation: 23] \n",
      " Average Fitness: 163.17258883248732 \n",
      " Best Fitness: 264.0 \n",
      " Worst Fitness: 112.0 \n",
      " Standard Error: 2.2992603721811395\n"
     ]
    },
    {
     "name": "stderr",
     "output_type": "stream",
     "text": [
      "Generating Offspring: 100%|██████████████████████████████| 130/130 [00:09<00:00, 13.88it/s]\n",
      "Calculating fitnesses: 100%|█████████████████████████████| 197/197 [00:02<00:00, 75.66it/s]\n"
     ]
    },
    {
     "name": "stdout",
     "output_type": "stream",
     "text": [
      "[Generation: 24] \n",
      " Average Fitness: 170.82741116751268 \n",
      " Best Fitness: 285.0 \n",
      " Worst Fitness: 104.0 \n",
      " Standard Error: 2.3379641018642947\n"
     ]
    },
    {
     "name": "stderr",
     "output_type": "stream",
     "text": [
      "Generating Offspring: 100%|██████████████████████████████| 130/130 [00:09<00:00, 14.04it/s]\n",
      "Calculating fitnesses: 100%|█████████████████████████████| 197/197 [00:02<00:00, 77.35it/s]\n"
     ]
    },
    {
     "name": "stdout",
     "output_type": "stream",
     "text": [
      "[Generation: 25] \n",
      " Average Fitness: 170.63451776649745 \n",
      " Best Fitness: 262.0 \n",
      " Worst Fitness: 101.0 \n",
      " Standard Error: 2.3527916267290383\n"
     ]
    },
    {
     "name": "stderr",
     "output_type": "stream",
     "text": [
      "Generating Offspring: 100%|██████████████████████████████| 130/130 [00:09<00:00, 14.12it/s]\n",
      "Calculating fitnesses: 100%|█████████████████████████████| 197/197 [00:02<00:00, 77.93it/s]\n"
     ]
    },
    {
     "name": "stdout",
     "output_type": "stream",
     "text": [
      "[Generation: 26] \n",
      " Average Fitness: 165.0710659898477 \n",
      " Best Fitness: 276.0 \n",
      " Worst Fitness: 108.0 \n",
      " Standard Error: 2.2699956090628834\n"
     ]
    },
    {
     "name": "stderr",
     "output_type": "stream",
     "text": [
      "Generating Offspring: 100%|██████████████████████████████| 130/130 [00:09<00:00, 14.01it/s]\n",
      "Calculating fitnesses: 100%|█████████████████████████████| 197/197 [00:02<00:00, 79.56it/s]\n"
     ]
    },
    {
     "name": "stdout",
     "output_type": "stream",
     "text": [
      "[Generation: 27] \n",
      " Average Fitness: 163.66497461928935 \n",
      " Best Fitness: 267.0 \n",
      " Worst Fitness: 107.0 \n",
      " Standard Error: 2.2602935592802824\n"
     ]
    },
    {
     "name": "stderr",
     "output_type": "stream",
     "text": [
      "Generating Offspring: 100%|██████████████████████████████| 130/130 [00:09<00:00, 13.92it/s]\n",
      "Calculating fitnesses: 100%|█████████████████████████████| 197/197 [00:02<00:00, 79.72it/s]\n"
     ]
    },
    {
     "name": "stdout",
     "output_type": "stream",
     "text": [
      "[Generation: 28] \n",
      " Average Fitness: 165.3197969543147 \n",
      " Best Fitness: 273.0 \n",
      " Worst Fitness: 106.0 \n",
      " Standard Error: 2.4697425829801767\n"
     ]
    },
    {
     "name": "stderr",
     "output_type": "stream",
     "text": [
      "Generating Offspring: 100%|██████████████████████████████| 130/130 [00:09<00:00, 14.03it/s]\n",
      "Calculating fitnesses: 100%|█████████████████████████████| 197/197 [00:02<00:00, 78.87it/s]\n"
     ]
    },
    {
     "name": "stdout",
     "output_type": "stream",
     "text": [
      "[Generation: 29] \n",
      " Average Fitness: 167.38578680203045 \n",
      " Best Fitness: 271.0 \n",
      " Worst Fitness: 112.0 \n",
      " Standard Error: 2.4902101917311104\n"
     ]
    },
    {
     "name": "stderr",
     "output_type": "stream",
     "text": [
      "Generating Offspring: 100%|██████████████████████████████| 130/130 [00:09<00:00, 13.95it/s]\n",
      "Calculating fitnesses: 100%|█████████████████████████████| 197/197 [00:02<00:00, 79.39it/s]\n"
     ]
    },
    {
     "name": "stdout",
     "output_type": "stream",
     "text": [
      "[Generation: 30] \n",
      " Average Fitness: 165.0253807106599 \n",
      " Best Fitness: 274.0 \n",
      " Worst Fitness: 111.0 \n",
      " Standard Error: 2.384256746124924\n"
     ]
    },
    {
     "name": "stderr",
     "output_type": "stream",
     "text": [
      "Generating Offspring: 100%|██████████████████████████████| 130/130 [00:09<00:00, 13.99it/s]\n"
     ]
    },
    {
     "name": "stdout",
     "output_type": "stream",
     "text": [
      "| \u001b[0m4        \u001b[0m | \u001b[0m275.3    \u001b[0m | \u001b[0m67.71    \u001b[0m | \u001b[0m30.0     \u001b[0m | \u001b[0m0.5793   \u001b[0m | \u001b[0m1.0      \u001b[0m | \u001b[0m197.2    \u001b[0m | \u001b[0m4.197    \u001b[0m |\n"
     ]
    },
    {
     "name": "stderr",
     "output_type": "stream",
     "text": [
      "Calculating fitnesses: 100%|████████████████████████████| 144/144 [00:00<00:00, 473.37it/s]\n"
     ]
    },
    {
     "name": "stdout",
     "output_type": "stream",
     "text": [
      "[Generation: 1] \n",
      " Average Fitness: 21.256944444444443 \n",
      " Best Fitness: 72.0 \n",
      " Worst Fitness: 8.0 \n",
      " Standard Error: 1.0043005103702436\n"
     ]
    },
    {
     "name": "stderr",
     "output_type": "stream",
     "text": [
      "Generating Offspring: 100%|████████████████████████████████| 71/71 [00:03<00:00, 19.70it/s]\n",
      "Calculating fitnesses: 100%|████████████████████████████| 144/144 [00:00<00:00, 477.49it/s]\n"
     ]
    },
    {
     "name": "stdout",
     "output_type": "stream",
     "text": [
      "[Generation: 2] \n",
      " Average Fitness: 26.22222222222222 \n",
      " Best Fitness: 500.0 \n",
      " Worst Fitness: 8.0 \n",
      " Standard Error: 4.507628047030642\n"
     ]
    },
    {
     "name": "stderr",
     "output_type": "stream",
     "text": [
      "Generating Offspring: 100%|████████████████████████████████| 71/71 [00:05<00:00, 12.28it/s]\n",
      "Calculating fitnesses: 100%|████████████████████████████| 144/144 [00:01<00:00, 109.21it/s]\n"
     ]
    },
    {
     "name": "stdout",
     "output_type": "stream",
     "text": [
      "[Generation: 3] \n",
      " Average Fitness: 114.99305555555556 \n",
      " Best Fitness: 500.0 \n",
      " Worst Fitness: 8.0 \n",
      " Standard Error: 12.913910513254502\n"
     ]
    },
    {
     "name": "stderr",
     "output_type": "stream",
     "text": [
      "Generating Offspring: 100%|████████████████████████████████| 71/71 [00:23<00:00,  2.98it/s]\n",
      "Calculating fitnesses: 100%|█████████████████████████████| 144/144 [00:04<00:00, 35.85it/s]\n"
     ]
    },
    {
     "name": "stdout",
     "output_type": "stream",
     "text": [
      "[Generation: 4] \n",
      " Average Fitness: 354.40277777777777 \n",
      " Best Fitness: 500.0 \n",
      " Worst Fitness: 12.0 \n",
      " Standard Error: 15.916794259378399\n"
     ]
    },
    {
     "name": "stderr",
     "output_type": "stream",
     "text": [
      "Generating Offspring: 100%|████████████████████████████████| 71/71 [01:03<00:00,  1.12it/s]\n",
      "Calculating fitnesses: 100%|█████████████████████████████| 144/144 [00:05<00:00, 25.74it/s]\n"
     ]
    },
    {
     "name": "stdout",
     "output_type": "stream",
     "text": [
      "[Generation: 5] \n",
      " Average Fitness: 490.47222222222223 \n",
      " Best Fitness: 500.0 \n",
      " Worst Fitness: 10.0 \n",
      " Standard Error: 5.474484719966767\n"
     ]
    },
    {
     "name": "stderr",
     "output_type": "stream",
     "text": [
      "Generating Offspring: 100%|████████████████████████████████| 71/71 [01:26<00:00,  1.23s/it]\n",
      "Calculating fitnesses: 100%|█████████████████████████████| 144/144 [00:05<00:00, 25.11it/s]\n"
     ]
    },
    {
     "name": "stdout",
     "output_type": "stream",
     "text": [
      "[Generation: 6] \n",
      " Average Fitness: 500.0 \n",
      " Best Fitness: 500.0 \n",
      " Worst Fitness: 500.0 \n",
      " Standard Error: 0.0\n"
     ]
    },
    {
     "name": "stderr",
     "output_type": "stream",
     "text": [
      "Generating Offspring: 100%|████████████████████████████████| 71/71 [01:28<00:00,  1.24s/it]\n",
      "Calculating fitnesses: 100%|█████████████████████████████| 144/144 [00:05<00:00, 25.12it/s]\n"
     ]
    },
    {
     "name": "stdout",
     "output_type": "stream",
     "text": [
      "[Generation: 7] \n",
      " Average Fitness: 500.0 \n",
      " Best Fitness: 500.0 \n",
      " Worst Fitness: 500.0 \n",
      " Standard Error: 0.0\n"
     ]
    },
    {
     "name": "stderr",
     "output_type": "stream",
     "text": [
      "Generating Offspring: 100%|████████████████████████████████| 71/71 [01:28<00:00,  1.24s/it]\n",
      "Calculating fitnesses: 100%|█████████████████████████████| 144/144 [00:05<00:00, 25.17it/s]\n"
     ]
    },
    {
     "name": "stdout",
     "output_type": "stream",
     "text": [
      "[Generation: 8] \n",
      " Average Fitness: 500.0 \n",
      " Best Fitness: 500.0 \n",
      " Worst Fitness: 500.0 \n",
      " Standard Error: 0.0\n"
     ]
    },
    {
     "name": "stderr",
     "output_type": "stream",
     "text": [
      "Generating Offspring: 100%|████████████████████████████████| 71/71 [01:28<00:00,  1.24s/it]\n",
      "Calculating fitnesses: 100%|█████████████████████████████| 144/144 [00:05<00:00, 25.20it/s]\n"
     ]
    },
    {
     "name": "stdout",
     "output_type": "stream",
     "text": [
      "[Generation: 9] \n",
      " Average Fitness: 496.59722222222223 \n",
      " Best Fitness: 500.0 \n",
      " Worst Fitness: 10.0 \n",
      " Standard Error: 3.402777777777778\n"
     ]
    },
    {
     "name": "stderr",
     "output_type": "stream",
     "text": [
      "Generating Offspring: 100%|████████████████████████████████| 71/71 [01:27<00:00,  1.23s/it]\n",
      "Calculating fitnesses: 100%|█████████████████████████████| 144/144 [00:05<00:00, 26.23it/s]\n"
     ]
    },
    {
     "name": "stdout",
     "output_type": "stream",
     "text": [
      "[Generation: 10] \n",
      " Average Fitness: 493.5486111111111 \n",
      " Best Fitness: 500.0 \n",
      " Worst Fitness: 9.0 \n",
      " Standard Error: 4.553338276270485\n"
     ]
    },
    {
     "name": "stderr",
     "output_type": "stream",
     "text": [
      "Generating Offspring: 100%|████████████████████████████████| 71/71 [01:25<00:00,  1.20s/it]\n",
      "Calculating fitnesses: 100%|█████████████████████████████| 144/144 [00:05<00:00, 25.84it/s]\n"
     ]
    },
    {
     "name": "stdout",
     "output_type": "stream",
     "text": [
      "[Generation: 11] \n",
      " Average Fitness: 500.0 \n",
      " Best Fitness: 500.0 \n",
      " Worst Fitness: 500.0 \n",
      " Standard Error: 0.0\n"
     ]
    },
    {
     "name": "stderr",
     "output_type": "stream",
     "text": [
      "Generating Offspring: 100%|████████████████████████████████| 71/71 [01:26<00:00,  1.21s/it]\n",
      "Calculating fitnesses: 100%|█████████████████████████████| 144/144 [00:05<00:00, 25.83it/s]\n"
     ]
    },
    {
     "name": "stdout",
     "output_type": "stream",
     "text": [
      "[Generation: 12] \n",
      " Average Fitness: 500.0 \n",
      " Best Fitness: 500.0 \n",
      " Worst Fitness: 500.0 \n",
      " Standard Error: 0.0\n"
     ]
    },
    {
     "name": "stderr",
     "output_type": "stream",
     "text": [
      "Generating Offspring: 100%|████████████████████████████████| 71/71 [01:26<00:00,  1.22s/it]\n",
      "Calculating fitnesses: 100%|█████████████████████████████| 144/144 [00:05<00:00, 25.81it/s]\n"
     ]
    },
    {
     "name": "stdout",
     "output_type": "stream",
     "text": [
      "[Generation: 13] \n",
      " Average Fitness: 500.0 \n",
      " Best Fitness: 500.0 \n",
      " Worst Fitness: 500.0 \n",
      " Standard Error: 0.0\n"
     ]
    },
    {
     "name": "stderr",
     "output_type": "stream",
     "text": [
      "Generating Offspring: 100%|████████████████████████████████| 71/71 [01:26<00:00,  1.21s/it]\n",
      "Calculating fitnesses: 100%|█████████████████████████████| 144/144 [00:05<00:00, 26.02it/s]\n"
     ]
    },
    {
     "name": "stdout",
     "output_type": "stream",
     "text": [
      "[Generation: 14] \n",
      " Average Fitness: 496.59722222222223 \n",
      " Best Fitness: 500.0 \n",
      " Worst Fitness: 10.0 \n",
      " Standard Error: 3.402777777777778\n"
     ]
    },
    {
     "name": "stderr",
     "output_type": "stream",
     "text": [
      "Generating Offspring: 100%|████████████████████████████████| 71/71 [01:25<00:00,  1.21s/it]\n",
      "Calculating fitnesses: 100%|█████████████████████████████| 144/144 [00:05<00:00, 26.21it/s]\n"
     ]
    },
    {
     "name": "stdout",
     "output_type": "stream",
     "text": [
      "[Generation: 15] \n",
      " Average Fitness: 496.65277777777777 \n",
      " Best Fitness: 500.0 \n",
      " Worst Fitness: 18.0 \n",
      " Standard Error: 3.347222222222222\n"
     ]
    },
    {
     "name": "stderr",
     "output_type": "stream",
     "text": [
      "Generating Offspring: 100%|████████████████████████████████| 71/71 [01:25<00:00,  1.21s/it]\n",
      "Calculating fitnesses: 100%|█████████████████████████████| 144/144 [00:05<00:00, 25.87it/s]\n"
     ]
    },
    {
     "name": "stdout",
     "output_type": "stream",
     "text": [
      "[Generation: 16] \n",
      " Average Fitness: 500.0 \n",
      " Best Fitness: 500.0 \n",
      " Worst Fitness: 500.0 \n",
      " Standard Error: 0.0\n"
     ]
    },
    {
     "name": "stderr",
     "output_type": "stream",
     "text": [
      "Generating Offspring: 100%|████████████████████████████████| 71/71 [01:26<00:00,  1.22s/it]\n",
      "Calculating fitnesses: 100%|█████████████████████████████| 144/144 [00:05<00:00, 26.00it/s]\n"
     ]
    },
    {
     "name": "stdout",
     "output_type": "stream",
     "text": [
      "[Generation: 17] \n",
      " Average Fitness: 500.0 \n",
      " Best Fitness: 500.0 \n",
      " Worst Fitness: 500.0 \n",
      " Standard Error: 0.0\n"
     ]
    },
    {
     "name": "stderr",
     "output_type": "stream",
     "text": [
      "Generating Offspring: 100%|████████████████████████████████| 71/71 [01:26<00:00,  1.21s/it]\n",
      "Calculating fitnesses: 100%|█████████████████████████████| 144/144 [00:05<00:00, 26.09it/s]\n"
     ]
    },
    {
     "name": "stdout",
     "output_type": "stream",
     "text": [
      "[Generation: 18] \n",
      " Average Fitness: 496.59722222222223 \n",
      " Best Fitness: 500.0 \n",
      " Worst Fitness: 10.0 \n",
      " Standard Error: 3.402777777777778\n"
     ]
    },
    {
     "name": "stderr",
     "output_type": "stream",
     "text": [
      "Generating Offspring: 100%|████████████████████████████████| 71/71 [01:25<00:00,  1.21s/it]\n",
      "Calculating fitnesses: 100%|█████████████████████████████| 144/144 [00:05<00:00, 25.91it/s]\n"
     ]
    },
    {
     "name": "stdout",
     "output_type": "stream",
     "text": [
      "[Generation: 19] \n",
      " Average Fitness: 500.0 \n",
      " Best Fitness: 500.0 \n",
      " Worst Fitness: 500.0 \n",
      " Standard Error: 0.0\n"
     ]
    },
    {
     "name": "stderr",
     "output_type": "stream",
     "text": [
      "Generating Offspring: 100%|████████████████████████████████| 71/71 [01:26<00:00,  1.21s/it]\n",
      "Calculating fitnesses: 100%|█████████████████████████████| 144/144 [00:05<00:00, 26.19it/s]\n"
     ]
    },
    {
     "name": "stdout",
     "output_type": "stream",
     "text": [
      "[Generation: 20] \n",
      " Average Fitness: 496.5833333333333 \n",
      " Best Fitness: 500.0 \n",
      " Worst Fitness: 8.0 \n",
      " Standard Error: 3.4166666666666665\n"
     ]
    },
    {
     "name": "stderr",
     "output_type": "stream",
     "text": [
      "Generating Offspring: 100%|████████████████████████████████| 71/71 [01:25<00:00,  1.21s/it]\n",
      "Calculating fitnesses: 100%|█████████████████████████████| 144/144 [00:05<00:00, 25.97it/s]\n"
     ]
    },
    {
     "name": "stdout",
     "output_type": "stream",
     "text": [
      "[Generation: 21] \n",
      " Average Fitness: 500.0 \n",
      " Best Fitness: 500.0 \n",
      " Worst Fitness: 500.0 \n",
      " Standard Error: 0.0\n"
     ]
    },
    {
     "name": "stderr",
     "output_type": "stream",
     "text": [
      "Generating Offspring: 100%|████████████████████████████████| 71/71 [01:26<00:00,  1.21s/it]\n",
      "Calculating fitnesses: 100%|█████████████████████████████| 144/144 [00:05<00:00, 26.13it/s]\n"
     ]
    },
    {
     "name": "stdout",
     "output_type": "stream",
     "text": [
      "[Generation: 22] \n",
      " Average Fitness: 496.59027777777777 \n",
      " Best Fitness: 500.0 \n",
      " Worst Fitness: 9.0 \n",
      " Standard Error: 3.409722222222222\n"
     ]
    },
    {
     "name": "stderr",
     "output_type": "stream",
     "text": [
      "Generating Offspring: 100%|████████████████████████████████| 71/71 [01:25<00:00,  1.21s/it]\n",
      "Calculating fitnesses: 100%|█████████████████████████████| 144/144 [00:05<00:00, 26.16it/s]\n"
     ]
    },
    {
     "name": "stdout",
     "output_type": "stream",
     "text": [
      "[Generation: 23] \n",
      " Average Fitness: 496.59027777777777 \n",
      " Best Fitness: 500.0 \n",
      " Worst Fitness: 9.0 \n",
      " Standard Error: 3.409722222222222\n"
     ]
    },
    {
     "name": "stderr",
     "output_type": "stream",
     "text": [
      "Generating Offspring: 100%|████████████████████████████████| 71/71 [01:25<00:00,  1.20s/it]\n",
      "Calculating fitnesses: 100%|█████████████████████████████| 144/144 [00:05<00:00, 26.01it/s]\n"
     ]
    },
    {
     "name": "stdout",
     "output_type": "stream",
     "text": [
      "[Generation: 24] \n",
      " Average Fitness: 500.0 \n",
      " Best Fitness: 500.0 \n",
      " Worst Fitness: 500.0 \n",
      " Standard Error: 0.0\n"
     ]
    },
    {
     "name": "stderr",
     "output_type": "stream",
     "text": [
      "Generating Offspring: 100%|████████████████████████████████| 71/71 [01:26<00:00,  1.21s/it]\n",
      "Calculating fitnesses: 100%|█████████████████████████████| 144/144 [00:05<00:00, 26.02it/s]\n"
     ]
    },
    {
     "name": "stdout",
     "output_type": "stream",
     "text": [
      "[Generation: 25] \n",
      " Average Fitness: 500.0 \n",
      " Best Fitness: 500.0 \n",
      " Worst Fitness: 500.0 \n",
      " Standard Error: 0.0\n"
     ]
    },
    {
     "name": "stderr",
     "output_type": "stream",
     "text": [
      "Generating Offspring: 100%|████████████████████████████████| 71/71 [01:26<00:00,  1.21s/it]\n",
      "Calculating fitnesses: 100%|█████████████████████████████| 144/144 [00:05<00:00, 26.01it/s]\n"
     ]
    },
    {
     "name": "stdout",
     "output_type": "stream",
     "text": [
      "[Generation: 26] \n",
      " Average Fitness: 500.0 \n",
      " Best Fitness: 500.0 \n",
      " Worst Fitness: 500.0 \n",
      " Standard Error: 0.0\n"
     ]
    },
    {
     "name": "stderr",
     "output_type": "stream",
     "text": [
      "Generating Offspring: 100%|████████████████████████████████| 71/71 [01:26<00:00,  1.21s/it]\n",
      "Calculating fitnesses: 100%|█████████████████████████████| 144/144 [00:05<00:00, 26.37it/s]\n"
     ]
    },
    {
     "name": "stdout",
     "output_type": "stream",
     "text": [
      "[Generation: 27] \n",
      " Average Fitness: 496.59722222222223 \n",
      " Best Fitness: 500.0 \n",
      " Worst Fitness: 10.0 \n",
      " Standard Error: 3.402777777777778\n"
     ]
    },
    {
     "name": "stderr",
     "output_type": "stream",
     "text": [
      "Generating Offspring: 100%|████████████████████████████████| 71/71 [01:25<00:00,  1.20s/it]\n",
      "Calculating fitnesses: 100%|█████████████████████████████| 144/144 [00:05<00:00, 25.99it/s]\n"
     ]
    },
    {
     "name": "stdout",
     "output_type": "stream",
     "text": [
      "[Generation: 28] \n",
      " Average Fitness: 500.0 \n",
      " Best Fitness: 500.0 \n",
      " Worst Fitness: 500.0 \n",
      " Standard Error: 0.0\n"
     ]
    },
    {
     "name": "stderr",
     "output_type": "stream",
     "text": [
      "Generating Offspring: 100%|████████████████████████████████| 71/71 [01:26<00:00,  1.21s/it]\n",
      "Calculating fitnesses: 100%|█████████████████████████████| 144/144 [00:05<00:00, 26.10it/s]\n"
     ]
    },
    {
     "name": "stdout",
     "output_type": "stream",
     "text": [
      "[Generation: 29] \n",
      " Average Fitness: 496.59722222222223 \n",
      " Best Fitness: 500.0 \n",
      " Worst Fitness: 10.0 \n",
      " Standard Error: 3.402777777777778\n"
     ]
    },
    {
     "name": "stderr",
     "output_type": "stream",
     "text": [
      "Generating Offspring: 100%|████████████████████████████████| 71/71 [01:25<00:00,  1.20s/it]\n",
      "Calculating fitnesses: 100%|█████████████████████████████| 144/144 [00:05<00:00, 26.23it/s]\n"
     ]
    },
    {
     "name": "stdout",
     "output_type": "stream",
     "text": [
      "[Generation: 30] \n",
      " Average Fitness: 496.59027777777777 \n",
      " Best Fitness: 500.0 \n",
      " Worst Fitness: 9.0 \n",
      " Standard Error: 3.409722222222222\n"
     ]
    },
    {
     "name": "stderr",
     "output_type": "stream",
     "text": [
      "Generating Offspring: 100%|████████████████████████████████| 71/71 [01:25<00:00,  1.20s/it]\n"
     ]
    },
    {
     "name": "stdout",
     "output_type": "stream",
     "text": [
      "| \u001b[95m5        \u001b[0m | \u001b[95m485.7    \u001b[0m | \u001b[95m73.97    \u001b[0m | \u001b[95m30.0     \u001b[0m | \u001b[95m1.0      \u001b[0m | \u001b[95m1.0      \u001b[0m | \u001b[95m144.0    \u001b[0m | \u001b[95m30.0     \u001b[0m |\n"
     ]
    },
    {
     "name": "stderr",
     "output_type": "stream",
     "text": [
      "Calculating fitnesses: 100%|████████████████████████████| 161/161 [00:00<00:00, 474.93it/s]\n"
     ]
    },
    {
     "name": "stdout",
     "output_type": "stream",
     "text": [
      "[Generation: 1] \n",
      " Average Fitness: 21.58385093167702 \n",
      " Best Fitness: 110.0 \n",
      " Worst Fitness: 8.0 \n",
      " Standard Error: 1.0209588952056912\n"
     ]
    },
    {
     "name": "stderr",
     "output_type": "stream",
     "text": [
      "Generating Offspring: 100%|████████████████████████████████| 68/68 [00:03<00:00, 19.89it/s]\n",
      "Calculating fitnesses: 100%|████████████████████████████| 161/161 [00:00<00:00, 561.94it/s]\n"
     ]
    },
    {
     "name": "stdout",
     "output_type": "stream",
     "text": [
      "[Generation: 2] \n",
      " Average Fitness: 23.596273291925467 \n",
      " Best Fitness: 361.0 \n",
      " Worst Fitness: 8.0 \n",
      " Standard Error: 2.935584037275354\n"
     ]
    },
    {
     "name": "stderr",
     "output_type": "stream",
     "text": [
      "Generating Offspring: 100%|████████████████████████████████| 68/68 [00:04<00:00, 15.33it/s]\n",
      "Calculating fitnesses: 100%|████████████████████████████| 161/161 [00:00<00:00, 212.36it/s]\n"
     ]
    },
    {
     "name": "stdout",
     "output_type": "stream",
     "text": [
      "[Generation: 3] \n",
      " Average Fitness: 63.254658385093165 \n",
      " Best Fitness: 442.0 \n",
      " Worst Fitness: 8.0 \n",
      " Standard Error: 7.17309976299427\n"
     ]
    },
    {
     "name": "stderr",
     "output_type": "stream",
     "text": [
      "Generating Offspring: 100%|████████████████████████████████| 68/68 [00:11<00:00,  5.77it/s]\n",
      "Calculating fitnesses: 100%|█████████████████████████████| 161/161 [00:02<00:00, 77.21it/s]\n"
     ]
    },
    {
     "name": "stdout",
     "output_type": "stream",
     "text": [
      "[Generation: 4] \n",
      " Average Fitness: 170.7391304347826 \n",
      " Best Fitness: 423.0 \n",
      " Worst Fitness: 8.0 \n",
      " Standard Error: 10.375087074913845\n"
     ]
    },
    {
     "name": "stderr",
     "output_type": "stream",
     "text": [
      "Generating Offspring: 100%|████████████████████████████████| 68/68 [00:28<00:00,  2.35it/s]\n",
      "Calculating fitnesses: 100%|█████████████████████████████| 161/161 [00:03<00:00, 52.28it/s]\n"
     ]
    },
    {
     "name": "stdout",
     "output_type": "stream",
     "text": [
      "[Generation: 5] \n",
      " Average Fitness: 253.9689440993789 \n",
      " Best Fitness: 500.0 \n",
      " Worst Fitness: 12.0 \n",
      " Standard Error: 7.5545296269928315\n"
     ]
    },
    {
     "name": "stderr",
     "output_type": "stream",
     "text": [
      "Generating Offspring: 100%|████████████████████████████████| 68/68 [00:41<00:00,  1.64it/s]\n",
      "Calculating fitnesses: 100%|█████████████████████████████| 161/161 [00:03<00:00, 53.26it/s]\n"
     ]
    },
    {
     "name": "stdout",
     "output_type": "stream",
     "text": [
      "[Generation: 6] \n",
      " Average Fitness: 247.57142857142858 \n",
      " Best Fitness: 434.0 \n",
      " Worst Fitness: 10.0 \n",
      " Standard Error: 7.333036548537228\n"
     ]
    },
    {
     "name": "stderr",
     "output_type": "stream",
     "text": [
      "Generating Offspring: 100%|████████████████████████████████| 68/68 [00:41<00:00,  1.64it/s]\n",
      "Calculating fitnesses: 100%|█████████████████████████████| 161/161 [00:02<00:00, 55.00it/s]\n"
     ]
    },
    {
     "name": "stdout",
     "output_type": "stream",
     "text": [
      "[Generation: 7] \n",
      " Average Fitness: 239.91925465838509 \n",
      " Best Fitness: 476.0 \n",
      " Worst Fitness: 74.0 \n",
      " Standard Error: 7.972862430654553\n"
     ]
    },
    {
     "name": "stderr",
     "output_type": "stream",
     "text": [
      "Generating Offspring: 100%|████████████████████████████████| 68/68 [00:42<00:00,  1.61it/s]\n",
      "Calculating fitnesses: 100%|█████████████████████████████| 161/161 [00:03<00:00, 52.32it/s]\n"
     ]
    },
    {
     "name": "stdout",
     "output_type": "stream",
     "text": [
      "[Generation: 8] \n",
      " Average Fitness: 252.09316770186336 \n",
      " Best Fitness: 475.0 \n",
      " Worst Fitness: 76.0 \n",
      " Standard Error: 7.545219792116975\n"
     ]
    },
    {
     "name": "stderr",
     "output_type": "stream",
     "text": [
      "Generating Offspring: 100%|████████████████████████████████| 68/68 [00:42<00:00,  1.61it/s]\n",
      "Calculating fitnesses: 100%|█████████████████████████████| 161/161 [00:03<00:00, 50.13it/s]\n"
     ]
    },
    {
     "name": "stdout",
     "output_type": "stream",
     "text": [
      "[Generation: 9] \n",
      " Average Fitness: 262.9192546583851 \n",
      " Best Fitness: 488.0 \n",
      " Worst Fitness: 79.0 \n",
      " Standard Error: 6.886017288382799\n"
     ]
    },
    {
     "name": "stderr",
     "output_type": "stream",
     "text": [
      "Generating Offspring: 100%|████████████████████████████████| 68/68 [00:41<00:00,  1.62it/s]\n",
      "Calculating fitnesses: 100%|█████████████████████████████| 161/161 [00:03<00:00, 50.83it/s]\n"
     ]
    },
    {
     "name": "stdout",
     "output_type": "stream",
     "text": [
      "[Generation: 10] \n",
      " Average Fitness: 260.17391304347825 \n",
      " Best Fitness: 500.0 \n",
      " Worst Fitness: 73.0 \n",
      " Standard Error: 7.052985828762819\n"
     ]
    },
    {
     "name": "stderr",
     "output_type": "stream",
     "text": [
      "Generating Offspring: 100%|████████████████████████████████| 68/68 [00:42<00:00,  1.60it/s]\n",
      "Calculating fitnesses: 100%|█████████████████████████████| 161/161 [00:03<00:00, 50.39it/s]\n"
     ]
    },
    {
     "name": "stdout",
     "output_type": "stream",
     "text": [
      "[Generation: 11] \n",
      " Average Fitness: 264.9254658385093 \n",
      " Best Fitness: 472.0 \n",
      " Worst Fitness: 72.0 \n",
      " Standard Error: 7.076553188570698\n"
     ]
    },
    {
     "name": "stderr",
     "output_type": "stream",
     "text": [
      "Generating Offspring: 100%|████████████████████████████████| 68/68 [00:42<00:00,  1.60it/s]\n",
      "Calculating fitnesses: 100%|█████████████████████████████| 161/161 [00:03<00:00, 53.60it/s]\n"
     ]
    },
    {
     "name": "stdout",
     "output_type": "stream",
     "text": [
      "[Generation: 12] \n",
      " Average Fitness: 244.3913043478261 \n",
      " Best Fitness: 480.0 \n",
      " Worst Fitness: 10.0 \n",
      " Standard Error: 7.776962584643066\n"
     ]
    },
    {
     "name": "stderr",
     "output_type": "stream",
     "text": [
      "Generating Offspring: 100%|████████████████████████████████| 68/68 [00:41<00:00,  1.65it/s]\n",
      "Calculating fitnesses: 100%|█████████████████████████████| 161/161 [00:03<00:00, 50.86it/s]\n"
     ]
    },
    {
     "name": "stdout",
     "output_type": "stream",
     "text": [
      "[Generation: 13] \n",
      " Average Fitness: 261.2608695652174 \n",
      " Best Fitness: 444.0 \n",
      " Worst Fitness: 76.0 \n",
      " Standard Error: 6.95541213006108\n"
     ]
    },
    {
     "name": "stderr",
     "output_type": "stream",
     "text": [
      "Generating Offspring: 100%|████████████████████████████████| 68/68 [00:42<00:00,  1.61it/s]\n",
      "Calculating fitnesses: 100%|█████████████████████████████| 161/161 [00:03<00:00, 52.26it/s]\n"
     ]
    },
    {
     "name": "stdout",
     "output_type": "stream",
     "text": [
      "[Generation: 14] \n",
      " Average Fitness: 254.96273291925465 \n",
      " Best Fitness: 462.0 \n",
      " Worst Fitness: 14.0 \n",
      " Standard Error: 7.255774570072089\n"
     ]
    },
    {
     "name": "stderr",
     "output_type": "stream",
     "text": [
      "Generating Offspring: 100%|████████████████████████████████| 68/68 [00:42<00:00,  1.61it/s]\n",
      "Calculating fitnesses: 100%|█████████████████████████████| 161/161 [00:03<00:00, 48.73it/s]\n"
     ]
    },
    {
     "name": "stdout",
     "output_type": "stream",
     "text": [
      "[Generation: 15] \n",
      " Average Fitness: 269.51552795031057 \n",
      " Best Fitness: 453.0 \n",
      " Worst Fitness: 70.0 \n",
      " Standard Error: 7.534079434043889\n"
     ]
    },
    {
     "name": "stderr",
     "output_type": "stream",
     "text": [
      "Generating Offspring: 100%|████████████████████████████████| 68/68 [00:42<00:00,  1.62it/s]\n",
      "Calculating fitnesses: 100%|█████████████████████████████| 161/161 [00:03<00:00, 51.28it/s]\n"
     ]
    },
    {
     "name": "stdout",
     "output_type": "stream",
     "text": [
      "[Generation: 16] \n",
      " Average Fitness: 259.88198757763973 \n",
      " Best Fitness: 456.0 \n",
      " Worst Fitness: 70.0 \n",
      " Standard Error: 7.180505326611486\n"
     ]
    },
    {
     "name": "stderr",
     "output_type": "stream",
     "text": [
      "Generating Offspring: 100%|████████████████████████████████| 68/68 [00:42<00:00,  1.59it/s]\n",
      "Calculating fitnesses: 100%|█████████████████████████████| 161/161 [00:03<00:00, 50.83it/s]\n"
     ]
    },
    {
     "name": "stdout",
     "output_type": "stream",
     "text": [
      "[Generation: 17] \n",
      " Average Fitness: 258.70186335403724 \n",
      " Best Fitness: 492.0 \n",
      " Worst Fitness: 72.0 \n",
      " Standard Error: 7.943510988607338\n"
     ]
    },
    {
     "name": "stderr",
     "output_type": "stream",
     "text": [
      "Generating Offspring: 100%|████████████████████████████████| 68/68 [00:42<00:00,  1.62it/s]\n",
      "Calculating fitnesses: 100%|█████████████████████████████| 161/161 [00:03<00:00, 50.85it/s]\n"
     ]
    },
    {
     "name": "stdout",
     "output_type": "stream",
     "text": [
      "[Generation: 18] \n",
      " Average Fitness: 258.69565217391306 \n",
      " Best Fitness: 500.0 \n",
      " Worst Fitness: 72.0 \n",
      " Standard Error: 7.240961615336171\n"
     ]
    },
    {
     "name": "stderr",
     "output_type": "stream",
     "text": [
      "Generating Offspring: 100%|████████████████████████████████| 68/68 [00:42<00:00,  1.59it/s]\n",
      "Calculating fitnesses: 100%|█████████████████████████████| 161/161 [00:03<00:00, 50.53it/s]\n"
     ]
    },
    {
     "name": "stdout",
     "output_type": "stream",
     "text": [
      "[Generation: 19] \n",
      " Average Fitness: 264.0745341614907 \n",
      " Best Fitness: 500.0 \n",
      " Worst Fitness: 11.0 \n",
      " Standard Error: 6.796958540651908\n"
     ]
    },
    {
     "name": "stderr",
     "output_type": "stream",
     "text": [
      "Generating Offspring: 100%|████████████████████████████████| 68/68 [00:42<00:00,  1.62it/s]\n",
      "Calculating fitnesses: 100%|█████████████████████████████| 161/161 [00:03<00:00, 48.75it/s]\n"
     ]
    },
    {
     "name": "stdout",
     "output_type": "stream",
     "text": [
      "[Generation: 20] \n",
      " Average Fitness: 273.49068322981367 \n",
      " Best Fitness: 486.0 \n",
      " Worst Fitness: 70.0 \n",
      " Standard Error: 6.729962887475902\n"
     ]
    },
    {
     "name": "stderr",
     "output_type": "stream",
     "text": [
      "Generating Offspring: 100%|████████████████████████████████| 68/68 [00:42<00:00,  1.61it/s]\n",
      "Calculating fitnesses: 100%|█████████████████████████████| 161/161 [00:03<00:00, 53.03it/s]\n"
     ]
    },
    {
     "name": "stdout",
     "output_type": "stream",
     "text": [
      "[Generation: 21] \n",
      " Average Fitness: 247.30434782608697 \n",
      " Best Fitness: 493.0 \n",
      " Worst Fitness: 74.0 \n",
      " Standard Error: 7.526975522645103\n"
     ]
    },
    {
     "name": "stderr",
     "output_type": "stream",
     "text": [
      "Generating Offspring: 100%|████████████████████████████████| 68/68 [00:42<00:00,  1.61it/s]\n",
      "Calculating fitnesses: 100%|█████████████████████████████| 161/161 [00:03<00:00, 50.29it/s]\n"
     ]
    },
    {
     "name": "stdout",
     "output_type": "stream",
     "text": [
      "[Generation: 22] \n",
      " Average Fitness: 265.16149068322983 \n",
      " Best Fitness: 500.0 \n",
      " Worst Fitness: 73.0 \n",
      " Standard Error: 7.889010265393125\n"
     ]
    },
    {
     "name": "stderr",
     "output_type": "stream",
     "text": [
      "Generating Offspring: 100%|████████████████████████████████| 68/68 [00:41<00:00,  1.62it/s]\n",
      "Calculating fitnesses: 100%|█████████████████████████████| 161/161 [00:03<00:00, 48.66it/s]\n"
     ]
    },
    {
     "name": "stdout",
     "output_type": "stream",
     "text": [
      "[Generation: 23] \n",
      " Average Fitness: 270.90683229813664 \n",
      " Best Fitness: 479.0 \n",
      " Worst Fitness: 72.0 \n",
      " Standard Error: 7.964921157208418\n"
     ]
    },
    {
     "name": "stderr",
     "output_type": "stream",
     "text": [
      "Generating Offspring: 100%|████████████████████████████████| 68/68 [00:42<00:00,  1.58it/s]\n",
      "Calculating fitnesses: 100%|█████████████████████████████| 161/161 [00:03<00:00, 48.51it/s]\n"
     ]
    },
    {
     "name": "stdout",
     "output_type": "stream",
     "text": [
      "[Generation: 24] \n",
      " Average Fitness: 272.41614906832297 \n",
      " Best Fitness: 499.0 \n",
      " Worst Fitness: 75.0 \n",
      " Standard Error: 7.30964732543379\n"
     ]
    },
    {
     "name": "stderr",
     "output_type": "stream",
     "text": [
      "Generating Offspring: 100%|████████████████████████████████| 68/68 [00:42<00:00,  1.62it/s]\n",
      "Calculating fitnesses: 100%|█████████████████████████████| 161/161 [00:03<00:00, 51.67it/s]\n"
     ]
    },
    {
     "name": "stdout",
     "output_type": "stream",
     "text": [
      "[Generation: 25] \n",
      " Average Fitness: 255.67701863354037 \n",
      " Best Fitness: 494.0 \n",
      " Worst Fitness: 69.0 \n",
      " Standard Error: 7.8432805561407015\n"
     ]
    },
    {
     "name": "stderr",
     "output_type": "stream",
     "text": [
      "Generating Offspring: 100%|████████████████████████████████| 68/68 [00:42<00:00,  1.62it/s]\n",
      "Calculating fitnesses: 100%|█████████████████████████████| 161/161 [00:03<00:00, 50.57it/s]\n"
     ]
    },
    {
     "name": "stdout",
     "output_type": "stream",
     "text": [
      "[Generation: 26] \n",
      " Average Fitness: 261.8074534161491 \n",
      " Best Fitness: 488.0 \n",
      " Worst Fitness: 74.0 \n",
      " Standard Error: 7.331505418567228\n"
     ]
    },
    {
     "name": "stderr",
     "output_type": "stream",
     "text": [
      "Generating Offspring: 100%|████████████████████████████████| 68/68 [00:42<00:00,  1.61it/s]\n",
      "Calculating fitnesses: 100%|█████████████████████████████| 161/161 [00:03<00:00, 52.80it/s]\n"
     ]
    },
    {
     "name": "stdout",
     "output_type": "stream",
     "text": [
      "[Generation: 27] \n",
      " Average Fitness: 252.68944099378882 \n",
      " Best Fitness: 483.0 \n",
      " Worst Fitness: 70.0 \n",
      " Standard Error: 8.17245333300777\n"
     ]
    },
    {
     "name": "stderr",
     "output_type": "stream",
     "text": [
      "Generating Offspring: 100%|████████████████████████████████| 68/68 [00:42<00:00,  1.61it/s]\n",
      "Calculating fitnesses: 100%|█████████████████████████████| 161/161 [00:03<00:00, 47.29it/s]\n"
     ]
    },
    {
     "name": "stdout",
     "output_type": "stream",
     "text": [
      "[Generation: 28] \n",
      " Average Fitness: 279.27329192546586 \n",
      " Best Fitness: 442.0 \n",
      " Worst Fitness: 72.0 \n",
      " Standard Error: 6.46825734435467\n"
     ]
    },
    {
     "name": "stderr",
     "output_type": "stream",
     "text": [
      "Generating Offspring: 100%|████████████████████████████████| 68/68 [00:41<00:00,  1.63it/s]\n",
      "Calculating fitnesses: 100%|█████████████████████████████| 161/161 [00:03<00:00, 48.75it/s]\n"
     ]
    },
    {
     "name": "stdout",
     "output_type": "stream",
     "text": [
      "[Generation: 29] \n",
      " Average Fitness: 267.4472049689441 \n",
      " Best Fitness: 500.0 \n",
      " Worst Fitness: 74.0 \n",
      " Standard Error: 7.203135643016984\n"
     ]
    },
    {
     "name": "stderr",
     "output_type": "stream",
     "text": [
      "Generating Offspring: 100%|████████████████████████████████| 68/68 [00:41<00:00,  1.62it/s]\n",
      "Calculating fitnesses: 100%|█████████████████████████████| 161/161 [00:03<00:00, 51.54it/s]\n"
     ]
    },
    {
     "name": "stdout",
     "output_type": "stream",
     "text": [
      "[Generation: 30] \n",
      " Average Fitness: 256.35403726708074 \n",
      " Best Fitness: 462.0 \n",
      " Worst Fitness: 75.0 \n",
      " Standard Error: 7.2863162502243375\n"
     ]
    },
    {
     "name": "stderr",
     "output_type": "stream",
     "text": [
      "Generating Offspring: 100%|████████████████████████████████| 68/68 [00:42<00:00,  1.61it/s]\n",
      "Calculating fitnesses: 100%|█████████████████████████████| 161/161 [00:03<00:00, 50.30it/s]\n"
     ]
    },
    {
     "name": "stdout",
     "output_type": "stream",
     "text": [
      "[Generation: 31] \n",
      " Average Fitness: 259.7701863354037 \n",
      " Best Fitness: 490.0 \n",
      " Worst Fitness: 76.0 \n",
      " Standard Error: 7.485370039683688\n"
     ]
    },
    {
     "name": "stderr",
     "output_type": "stream",
     "text": [
      "Generating Offspring: 100%|████████████████████████████████| 68/68 [00:42<00:00,  1.61it/s]\n",
      "Calculating fitnesses: 100%|█████████████████████████████| 161/161 [00:03<00:00, 50.90it/s]\n"
     ]
    },
    {
     "name": "stdout",
     "output_type": "stream",
     "text": [
      "[Generation: 32] \n",
      " Average Fitness: 262.8074534161491 \n",
      " Best Fitness: 460.0 \n",
      " Worst Fitness: 71.0 \n",
      " Standard Error: 7.9658213770958595\n"
     ]
    },
    {
     "name": "stderr",
     "output_type": "stream",
     "text": [
      "Generating Offspring: 100%|████████████████████████████████| 68/68 [00:41<00:00,  1.64it/s]\n",
      "Calculating fitnesses: 100%|█████████████████████████████| 161/161 [00:03<00:00, 49.10it/s]\n"
     ]
    },
    {
     "name": "stdout",
     "output_type": "stream",
     "text": [
      "[Generation: 33] \n",
      " Average Fitness: 269.04347826086956 \n",
      " Best Fitness: 500.0 \n",
      " Worst Fitness: 69.0 \n",
      " Standard Error: 7.1206023141086865\n"
     ]
    },
    {
     "name": "stderr",
     "output_type": "stream",
     "text": [
      "Generating Offspring: 100%|████████████████████████████████| 68/68 [00:42<00:00,  1.61it/s]\n",
      "Calculating fitnesses: 100%|█████████████████████████████| 161/161 [00:03<00:00, 51.17it/s]\n"
     ]
    },
    {
     "name": "stdout",
     "output_type": "stream",
     "text": [
      "[Generation: 34] \n",
      " Average Fitness: 257.2111801242236 \n",
      " Best Fitness: 500.0 \n",
      " Worst Fitness: 74.0 \n",
      " Standard Error: 7.473028157306659\n"
     ]
    },
    {
     "name": "stderr",
     "output_type": "stream",
     "text": [
      "Generating Offspring: 100%|████████████████████████████████| 68/68 [00:41<00:00,  1.64it/s]\n",
      "Calculating fitnesses: 100%|█████████████████████████████| 161/161 [00:03<00:00, 49.44it/s]\n"
     ]
    },
    {
     "name": "stdout",
     "output_type": "stream",
     "text": [
      "[Generation: 35] \n",
      " Average Fitness: 266.03105590062114 \n",
      " Best Fitness: 500.0 \n",
      " Worst Fitness: 74.0 \n",
      " Standard Error: 7.664320124986962\n"
     ]
    },
    {
     "name": "stderr",
     "output_type": "stream",
     "text": [
      "Generating Offspring: 100%|████████████████████████████████| 68/68 [00:42<00:00,  1.61it/s]\n",
      "Calculating fitnesses: 100%|█████████████████████████████| 161/161 [00:03<00:00, 49.65it/s]\n"
     ]
    },
    {
     "name": "stdout",
     "output_type": "stream",
     "text": [
      "[Generation: 36] \n",
      " Average Fitness: 265.3975155279503 \n",
      " Best Fitness: 500.0 \n",
      " Worst Fitness: 72.0 \n",
      " Standard Error: 7.741250718994992\n"
     ]
    },
    {
     "name": "stderr",
     "output_type": "stream",
     "text": [
      "Generating Offspring: 100%|████████████████████████████████| 68/68 [00:42<00:00,  1.59it/s]\n",
      "Calculating fitnesses: 100%|█████████████████████████████| 161/161 [00:03<00:00, 48.64it/s]\n"
     ]
    },
    {
     "name": "stdout",
     "output_type": "stream",
     "text": [
      "[Generation: 37] \n",
      " Average Fitness: 270.3416149068323 \n",
      " Best Fitness: 500.0 \n",
      " Worst Fitness: 73.0 \n",
      " Standard Error: 7.075448022544249\n"
     ]
    },
    {
     "name": "stderr",
     "output_type": "stream",
     "text": [
      "Generating Offspring: 100%|████████████████████████████████| 68/68 [00:42<00:00,  1.60it/s]\n",
      "Calculating fitnesses: 100%|█████████████████████████████| 161/161 [00:03<00:00, 51.98it/s]\n"
     ]
    },
    {
     "name": "stdout",
     "output_type": "stream",
     "text": [
      "[Generation: 38] \n",
      " Average Fitness: 253.1055900621118 \n",
      " Best Fitness: 473.0 \n",
      " Worst Fitness: 71.0 \n",
      " Standard Error: 7.166030126264719\n"
     ]
    },
    {
     "name": "stderr",
     "output_type": "stream",
     "text": [
      "Generating Offspring: 100%|████████████████████████████████| 68/68 [00:42<00:00,  1.62it/s]\n",
      "Calculating fitnesses: 100%|█████████████████████████████| 161/161 [00:03<00:00, 51.79it/s]\n"
     ]
    },
    {
     "name": "stdout",
     "output_type": "stream",
     "text": [
      "[Generation: 39] \n",
      " Average Fitness: 251.64596273291926 \n",
      " Best Fitness: 477.0 \n",
      " Worst Fitness: 70.0 \n",
      " Standard Error: 7.3575942615884316\n"
     ]
    },
    {
     "name": "stderr",
     "output_type": "stream",
     "text": [
      "Generating Offspring: 100%|████████████████████████████████| 68/68 [00:42<00:00,  1.60it/s]\n",
      "Calculating fitnesses: 100%|█████████████████████████████| 161/161 [00:03<00:00, 50.29it/s]\n"
     ]
    },
    {
     "name": "stdout",
     "output_type": "stream",
     "text": [
      "[Generation: 40] \n",
      " Average Fitness: 261.3416149068323 \n",
      " Best Fitness: 500.0 \n",
      " Worst Fitness: 74.0 \n",
      " Standard Error: 7.9825999904745375\n"
     ]
    },
    {
     "name": "stderr",
     "output_type": "stream",
     "text": [
      "Generating Offspring: 100%|████████████████████████████████| 68/68 [00:41<00:00,  1.62it/s]\n",
      "Calculating fitnesses: 100%|█████████████████████████████| 161/161 [00:03<00:00, 50.73it/s]\n"
     ]
    },
    {
     "name": "stdout",
     "output_type": "stream",
     "text": [
      "[Generation: 41] \n",
      " Average Fitness: 260.58385093167703 \n",
      " Best Fitness: 449.0 \n",
      " Worst Fitness: 75.0 \n",
      " Standard Error: 7.733726447681155\n"
     ]
    },
    {
     "name": "stderr",
     "output_type": "stream",
     "text": [
      "Generating Offspring: 100%|████████████████████████████████| 68/68 [00:42<00:00,  1.61it/s]\n",
      "Calculating fitnesses: 100%|█████████████████████████████| 161/161 [00:03<00:00, 51.45it/s]\n"
     ]
    },
    {
     "name": "stdout",
     "output_type": "stream",
     "text": [
      "[Generation: 42] \n",
      " Average Fitness: 259.6024844720497 \n",
      " Best Fitness: 500.0 \n",
      " Worst Fitness: 72.0 \n",
      " Standard Error: 7.647713494931128\n"
     ]
    },
    {
     "name": "stderr",
     "output_type": "stream",
     "text": [
      "Generating Offspring: 100%|████████████████████████████████| 68/68 [00:42<00:00,  1.61it/s]\n",
      "Calculating fitnesses: 100%|█████████████████████████████| 161/161 [00:03<00:00, 50.78it/s]\n"
     ]
    },
    {
     "name": "stdout",
     "output_type": "stream",
     "text": [
      "[Generation: 43] \n",
      " Average Fitness: 262.6770186335404 \n",
      " Best Fitness: 493.0 \n",
      " Worst Fitness: 72.0 \n",
      " Standard Error: 8.118907665663961\n"
     ]
    },
    {
     "name": "stderr",
     "output_type": "stream",
     "text": [
      "Generating Offspring: 100%|████████████████████████████████| 68/68 [00:42<00:00,  1.60it/s]\n",
      "Calculating fitnesses: 100%|█████████████████████████████| 161/161 [00:03<00:00, 50.77it/s]\n"
     ]
    },
    {
     "name": "stdout",
     "output_type": "stream",
     "text": [
      "[Generation: 44] \n",
      " Average Fitness: 259.6645962732919 \n",
      " Best Fitness: 454.0 \n",
      " Worst Fitness: 69.0 \n",
      " Standard Error: 7.47352960308666\n"
     ]
    },
    {
     "name": "stderr",
     "output_type": "stream",
     "text": [
      "Generating Offspring: 100%|████████████████████████████████| 68/68 [00:42<00:00,  1.62it/s]\n",
      "Calculating fitnesses: 100%|█████████████████████████████| 161/161 [00:03<00:00, 50.72it/s]\n"
     ]
    },
    {
     "name": "stdout",
     "output_type": "stream",
     "text": [
      "[Generation: 45] \n",
      " Average Fitness: 263.5776397515528 \n",
      " Best Fitness: 500.0 \n",
      " Worst Fitness: 72.0 \n",
      " Standard Error: 7.171061148333138\n"
     ]
    },
    {
     "name": "stderr",
     "output_type": "stream",
     "text": [
      "Generating Offspring: 100%|████████████████████████████████| 68/68 [00:42<00:00,  1.61it/s]\n",
      "Calculating fitnesses: 100%|█████████████████████████████| 161/161 [00:03<00:00, 50.15it/s]\n"
     ]
    },
    {
     "name": "stdout",
     "output_type": "stream",
     "text": [
      "[Generation: 46] \n",
      " Average Fitness: 265.87577639751555 \n",
      " Best Fitness: 499.0 \n",
      " Worst Fitness: 73.0 \n",
      " Standard Error: 7.036019560445167\n"
     ]
    },
    {
     "name": "stderr",
     "output_type": "stream",
     "text": [
      "Generating Offspring: 100%|████████████████████████████████| 68/68 [00:42<00:00,  1.60it/s]\n",
      "Calculating fitnesses: 100%|█████████████████████████████| 161/161 [00:03<00:00, 48.83it/s]\n"
     ]
    },
    {
     "name": "stdout",
     "output_type": "stream",
     "text": [
      "[Generation: 47] \n",
      " Average Fitness: 273.6149068322981 \n",
      " Best Fitness: 500.0 \n",
      " Worst Fitness: 79.0 \n",
      " Standard Error: 7.071715938372245\n"
     ]
    },
    {
     "name": "stderr",
     "output_type": "stream",
     "text": [
      "Generating Offspring: 100%|████████████████████████████████| 68/68 [00:42<00:00,  1.59it/s]\n",
      "Calculating fitnesses: 100%|█████████████████████████████| 161/161 [00:03<00:00, 51.08it/s]\n"
     ]
    },
    {
     "name": "stdout",
     "output_type": "stream",
     "text": [
      "[Generation: 48] \n",
      " Average Fitness: 257.7391304347826 \n",
      " Best Fitness: 468.0 \n",
      " Worst Fitness: 72.0 \n",
      " Standard Error: 7.542732927182432\n"
     ]
    },
    {
     "name": "stderr",
     "output_type": "stream",
     "text": [
      "Generating Offspring: 100%|████████████████████████████████| 68/68 [00:41<00:00,  1.62it/s]\n",
      "Calculating fitnesses: 100%|█████████████████████████████| 161/161 [00:03<00:00, 53.11it/s]\n"
     ]
    },
    {
     "name": "stdout",
     "output_type": "stream",
     "text": [
      "[Generation: 49] \n",
      " Average Fitness: 247.16770186335404 \n",
      " Best Fitness: 472.0 \n",
      " Worst Fitness: 70.0 \n",
      " Standard Error: 7.39260182907014\n"
     ]
    },
    {
     "name": "stderr",
     "output_type": "stream",
     "text": [
      "Generating Offspring: 100%|████████████████████████████████| 68/68 [00:42<00:00,  1.62it/s]\n",
      "Calculating fitnesses: 100%|█████████████████████████████| 161/161 [00:03<00:00, 52.29it/s]\n"
     ]
    },
    {
     "name": "stdout",
     "output_type": "stream",
     "text": [
      "[Generation: 50] \n",
      " Average Fitness: 253.93167701863354 \n",
      " Best Fitness: 422.0 \n",
      " Worst Fitness: 72.0 \n",
      " Standard Error: 6.7898474414547785\n"
     ]
    },
    {
     "name": "stderr",
     "output_type": "stream",
     "text": [
      "Generating Offspring: 100%|████████████████████████████████| 68/68 [00:42<00:00,  1.60it/s]\n",
      "Calculating fitnesses: 100%|█████████████████████████████| 161/161 [00:03<00:00, 52.03it/s]\n"
     ]
    },
    {
     "name": "stdout",
     "output_type": "stream",
     "text": [
      "[Generation: 51] \n",
      " Average Fitness: 255.04347826086956 \n",
      " Best Fitness: 500.0 \n",
      " Worst Fitness: 70.0 \n",
      " Standard Error: 7.589069185645224\n"
     ]
    },
    {
     "name": "stderr",
     "output_type": "stream",
     "text": [
      "Generating Offspring: 100%|████████████████████████████████| 68/68 [00:42<00:00,  1.59it/s]\n",
      "Calculating fitnesses: 100%|█████████████████████████████| 161/161 [00:03<00:00, 49.79it/s]\n"
     ]
    },
    {
     "name": "stdout",
     "output_type": "stream",
     "text": [
      "[Generation: 52] \n",
      " Average Fitness: 263.80124223602485 \n",
      " Best Fitness: 500.0 \n",
      " Worst Fitness: 68.0 \n",
      " Standard Error: 7.595217622668684\n"
     ]
    },
    {
     "name": "stderr",
     "output_type": "stream",
     "text": [
      "Generating Offspring: 100%|████████████████████████████████| 68/68 [00:41<00:00,  1.64it/s]\n",
      "Calculating fitnesses: 100%|█████████████████████████████| 161/161 [00:03<00:00, 52.75it/s]\n"
     ]
    },
    {
     "name": "stdout",
     "output_type": "stream",
     "text": [
      "[Generation: 53] \n",
      " Average Fitness: 252.11801242236024 \n",
      " Best Fitness: 407.0 \n",
      " Worst Fitness: 73.0 \n",
      " Standard Error: 7.439045151788007\n"
     ]
    },
    {
     "name": "stderr",
     "output_type": "stream",
     "text": [
      "Generating Offspring: 100%|████████████████████████████████| 68/68 [00:42<00:00,  1.61it/s]\n",
      "Calculating fitnesses: 100%|█████████████████████████████| 161/161 [00:03<00:00, 51.44it/s]\n"
     ]
    },
    {
     "name": "stdout",
     "output_type": "stream",
     "text": [
      "[Generation: 54] \n",
      " Average Fitness: 252.56521739130434 \n",
      " Best Fitness: 500.0 \n",
      " Worst Fitness: 16.0 \n",
      " Standard Error: 7.66109485818711\n"
     ]
    },
    {
     "name": "stderr",
     "output_type": "stream",
     "text": [
      "Generating Offspring: 100%|████████████████████████████████| 68/68 [00:42<00:00,  1.61it/s]\n",
      "Calculating fitnesses: 100%|█████████████████████████████| 161/161 [00:03<00:00, 50.18it/s]\n"
     ]
    },
    {
     "name": "stdout",
     "output_type": "stream",
     "text": [
      "[Generation: 55] \n",
      " Average Fitness: 262.472049689441 \n",
      " Best Fitness: 420.0 \n",
      " Worst Fitness: 73.0 \n",
      " Standard Error: 7.219791757461055\n"
     ]
    },
    {
     "name": "stderr",
     "output_type": "stream",
     "text": [
      "Generating Offspring: 100%|████████████████████████████████| 68/68 [00:42<00:00,  1.60it/s]\n",
      "Calculating fitnesses: 100%|█████████████████████████████| 161/161 [00:03<00:00, 50.30it/s]\n"
     ]
    },
    {
     "name": "stdout",
     "output_type": "stream",
     "text": [
      "[Generation: 56] \n",
      " Average Fitness: 258.6645962732919 \n",
      " Best Fitness: 475.0 \n",
      " Worst Fitness: 73.0 \n",
      " Standard Error: 6.94466227898855\n"
     ]
    },
    {
     "name": "stderr",
     "output_type": "stream",
     "text": [
      "Generating Offspring: 100%|████████████████████████████████| 68/68 [00:42<00:00,  1.60it/s]\n",
      "Calculating fitnesses: 100%|█████████████████████████████| 161/161 [00:03<00:00, 50.16it/s]\n"
     ]
    },
    {
     "name": "stdout",
     "output_type": "stream",
     "text": [
      "[Generation: 57] \n",
      " Average Fitness: 264.944099378882 \n",
      " Best Fitness: 465.0 \n",
      " Worst Fitness: 74.0 \n",
      " Standard Error: 7.197390229915105\n"
     ]
    },
    {
     "name": "stderr",
     "output_type": "stream",
     "text": [
      "Generating Offspring: 100%|████████████████████████████████| 68/68 [00:42<00:00,  1.62it/s]\n",
      "Calculating fitnesses: 100%|█████████████████████████████| 161/161 [00:03<00:00, 50.39it/s]\n"
     ]
    },
    {
     "name": "stdout",
     "output_type": "stream",
     "text": [
      "[Generation: 58] \n",
      " Average Fitness: 257.832298136646 \n",
      " Best Fitness: 449.0 \n",
      " Worst Fitness: 66.0 \n",
      " Standard Error: 6.938350059972758\n"
     ]
    },
    {
     "name": "stderr",
     "output_type": "stream",
     "text": [
      "Generating Offspring: 100%|████████████████████████████████| 68/68 [00:42<00:00,  1.59it/s]\n",
      "Calculating fitnesses: 100%|█████████████████████████████| 161/161 [00:03<00:00, 51.07it/s]\n"
     ]
    },
    {
     "name": "stdout",
     "output_type": "stream",
     "text": [
      "[Generation: 59] \n",
      " Average Fitness: 260.53416149068323 \n",
      " Best Fitness: 433.0 \n",
      " Worst Fitness: 17.0 \n",
      " Standard Error: 7.041933135648819\n"
     ]
    },
    {
     "name": "stderr",
     "output_type": "stream",
     "text": [
      "Generating Offspring: 100%|████████████████████████████████| 68/68 [00:42<00:00,  1.61it/s]\n",
      "Calculating fitnesses: 100%|█████████████████████████████| 161/161 [00:03<00:00, 50.49it/s]\n"
     ]
    },
    {
     "name": "stdout",
     "output_type": "stream",
     "text": [
      "[Generation: 60] \n",
      " Average Fitness: 260.7950310559006 \n",
      " Best Fitness: 477.0 \n",
      " Worst Fitness: 74.0 \n",
      " Standard Error: 7.306728786534414\n"
     ]
    },
    {
     "name": "stderr",
     "output_type": "stream",
     "text": [
      "Generating Offspring: 100%|████████████████████████████████| 68/68 [00:42<00:00,  1.61it/s]\n",
      "Calculating fitnesses: 100%|█████████████████████████████| 161/161 [00:02<00:00, 53.96it/s]\n"
     ]
    },
    {
     "name": "stdout",
     "output_type": "stream",
     "text": [
      "[Generation: 61] \n",
      " Average Fitness: 246.67080745341616 \n",
      " Best Fitness: 479.0 \n",
      " Worst Fitness: 75.0 \n",
      " Standard Error: 7.244669149572231\n"
     ]
    },
    {
     "name": "stderr",
     "output_type": "stream",
     "text": [
      "Generating Offspring: 100%|████████████████████████████████| 68/68 [00:41<00:00,  1.63it/s]\n",
      "Calculating fitnesses: 100%|█████████████████████████████| 161/161 [00:03<00:00, 48.80it/s]\n"
     ]
    },
    {
     "name": "stdout",
     "output_type": "stream",
     "text": [
      "[Generation: 62] \n",
      " Average Fitness: 266.69565217391306 \n",
      " Best Fitness: 500.0 \n",
      " Worst Fitness: 77.0 \n",
      " Standard Error: 7.688713008265262\n"
     ]
    },
    {
     "name": "stderr",
     "output_type": "stream",
     "text": [
      "Generating Offspring: 100%|████████████████████████████████| 68/68 [00:42<00:00,  1.60it/s]\n",
      "Calculating fitnesses: 100%|█████████████████████████████| 161/161 [00:03<00:00, 49.78it/s]\n"
     ]
    },
    {
     "name": "stdout",
     "output_type": "stream",
     "text": [
      "[Generation: 63] \n",
      " Average Fitness: 267.54658385093165 \n",
      " Best Fitness: 469.0 \n",
      " Worst Fitness: 70.0 \n",
      " Standard Error: 6.487427821918994\n"
     ]
    },
    {
     "name": "stderr",
     "output_type": "stream",
     "text": [
      "Generating Offspring: 100%|████████████████████████████████| 68/68 [00:41<00:00,  1.62it/s]\n",
      "Calculating fitnesses: 100%|█████████████████████████████| 161/161 [00:03<00:00, 48.94it/s]\n"
     ]
    },
    {
     "name": "stdout",
     "output_type": "stream",
     "text": [
      "[Generation: 64] \n",
      " Average Fitness: 265.27329192546586 \n",
      " Best Fitness: 451.0 \n",
      " Worst Fitness: 69.0 \n",
      " Standard Error: 6.757667531338196\n"
     ]
    },
    {
     "name": "stderr",
     "output_type": "stream",
     "text": [
      "Generating Offspring: 100%|████████████████████████████████| 68/68 [00:43<00:00,  1.58it/s]\n",
      "Calculating fitnesses: 100%|█████████████████████████████| 161/161 [00:03<00:00, 50.04it/s]\n"
     ]
    },
    {
     "name": "stdout",
     "output_type": "stream",
     "text": [
      "[Generation: 65] \n",
      " Average Fitness: 262.2670807453416 \n",
      " Best Fitness: 412.0 \n",
      " Worst Fitness: 75.0 \n",
      " Standard Error: 6.990625698210607\n"
     ]
    },
    {
     "name": "stderr",
     "output_type": "stream",
     "text": [
      "Generating Offspring: 100%|████████████████████████████████| 68/68 [00:42<00:00,  1.60it/s]\n"
     ]
    },
    {
     "name": "stdout",
     "output_type": "stream",
     "text": [
      "| \u001b[0m6        \u001b[0m | \u001b[0m467.5    \u001b[0m | \u001b[0m93.22    \u001b[0m | \u001b[0m65.4     \u001b[0m | \u001b[0m1.0      \u001b[0m | \u001b[0m1.0      \u001b[0m | \u001b[0m162.0    \u001b[0m | \u001b[0m30.0     \u001b[0m |\n"
     ]
    },
    {
     "name": "stderr",
     "output_type": "stream",
     "text": [
      "Calculating fitnesses: 100%|████████████████████████████| 149/149 [00:00<00:00, 533.84it/s]\n"
     ]
    },
    {
     "name": "stdout",
     "output_type": "stream",
     "text": [
      "[Generation: 1] \n",
      " Average Fitness: 23.496644295302012 \n",
      " Best Fitness: 80.0 \n",
      " Worst Fitness: 9.0 \n",
      " Standard Error: 1.0978609943983748\n"
     ]
    },
    {
     "name": "stderr",
     "output_type": "stream",
     "text": [
      "Generating Offspring: 100%|████████████████████████████████| 17/17 [00:00<00:00, 18.71it/s]\n",
      "Calculating fitnesses: 100%|████████████████████████████| 149/149 [00:00<00:00, 571.01it/s]\n"
     ]
    },
    {
     "name": "stdout",
     "output_type": "stream",
     "text": [
      "[Generation: 2] \n",
      " Average Fitness: 23.530201342281877 \n",
      " Best Fitness: 77.0 \n",
      " Worst Fitness: 9.0 \n",
      " Standard Error: 1.096163396826891\n"
     ]
    },
    {
     "name": "stderr",
     "output_type": "stream",
     "text": [
      "Generating Offspring: 100%|████████████████████████████████| 17/17 [00:00<00:00, 20.09it/s]\n",
      "Calculating fitnesses: 100%|████████████████████████████| 149/149 [00:00<00:00, 599.01it/s]\n"
     ]
    },
    {
     "name": "stdout",
     "output_type": "stream",
     "text": [
      "[Generation: 3] \n",
      " Average Fitness: 22.496644295302012 \n",
      " Best Fitness: 87.0 \n",
      " Worst Fitness: 9.0 \n",
      " Standard Error: 1.0456488304433078\n"
     ]
    },
    {
     "name": "stderr",
     "output_type": "stream",
     "text": [
      "Generating Offspring: 100%|████████████████████████████████| 17/17 [00:00<00:00, 18.97it/s]\n",
      "Calculating fitnesses: 100%|████████████████████████████| 149/149 [00:00<00:00, 617.55it/s]\n"
     ]
    },
    {
     "name": "stdout",
     "output_type": "stream",
     "text": [
      "[Generation: 4] \n",
      " Average Fitness: 21.838926174496645 \n",
      " Best Fitness: 91.0 \n",
      " Worst Fitness: 9.0 \n",
      " Standard Error: 0.9698458868642719\n"
     ]
    },
    {
     "name": "stderr",
     "output_type": "stream",
     "text": [
      "Generating Offspring: 100%|████████████████████████████████| 17/17 [00:00<00:00, 18.87it/s]\n",
      "Calculating fitnesses: 100%|████████████████████████████| 149/149 [00:00<00:00, 554.17it/s]\n"
     ]
    },
    {
     "name": "stdout",
     "output_type": "stream",
     "text": [
      "[Generation: 5] \n",
      " Average Fitness: 24.335570469798657 \n",
      " Best Fitness: 65.0 \n",
      " Worst Fitness: 9.0 \n",
      " Standard Error: 1.1000062141479339\n"
     ]
    },
    {
     "name": "stderr",
     "output_type": "stream",
     "text": [
      "Generating Offspring: 100%|████████████████████████████████| 17/17 [00:00<00:00, 19.06it/s]\n",
      "Calculating fitnesses: 100%|████████████████████████████| 149/149 [00:00<00:00, 542.84it/s]\n"
     ]
    },
    {
     "name": "stdout",
     "output_type": "stream",
     "text": [
      "[Generation: 6] \n",
      " Average Fitness: 24.91275167785235 \n",
      " Best Fitness: 175.0 \n",
      " Worst Fitness: 9.0 \n",
      " Standard Error: 1.542373644683323\n"
     ]
    },
    {
     "name": "stderr",
     "output_type": "stream",
     "text": [
      "Generating Offspring: 100%|████████████████████████████████| 17/17 [00:00<00:00, 17.56it/s]\n",
      "Calculating fitnesses: 100%|████████████████████████████| 149/149 [00:00<00:00, 569.23it/s]\n"
     ]
    },
    {
     "name": "stdout",
     "output_type": "stream",
     "text": [
      "[Generation: 7] \n",
      " Average Fitness: 23.79194630872483 \n",
      " Best Fitness: 72.0 \n",
      " Worst Fitness: 9.0 \n",
      " Standard Error: 1.0660346230318893\n"
     ]
    },
    {
     "name": "stderr",
     "output_type": "stream",
     "text": [
      "Generating Offspring: 100%|████████████████████████████████| 17/17 [00:00<00:00, 19.19it/s]\n",
      "Calculating fitnesses: 100%|████████████████████████████| 149/149 [00:00<00:00, 568.32it/s]\n"
     ]
    },
    {
     "name": "stdout",
     "output_type": "stream",
     "text": [
      "[Generation: 8] \n",
      " Average Fitness: 23.664429530201343 \n",
      " Best Fitness: 112.0 \n",
      " Worst Fitness: 9.0 \n",
      " Standard Error: 1.1601573422572087\n"
     ]
    },
    {
     "name": "stderr",
     "output_type": "stream",
     "text": [
      "Generating Offspring: 100%|████████████████████████████████| 17/17 [00:00<00:00, 18.34it/s]\n",
      "Calculating fitnesses: 100%|████████████████████████████| 149/149 [00:00<00:00, 565.08it/s]\n"
     ]
    },
    {
     "name": "stdout",
     "output_type": "stream",
     "text": [
      "[Generation: 9] \n",
      " Average Fitness: 23.946308724832214 \n",
      " Best Fitness: 97.0 \n",
      " Worst Fitness: 9.0 \n",
      " Standard Error: 1.1634038622112086\n"
     ]
    },
    {
     "name": "stderr",
     "output_type": "stream",
     "text": [
      "Generating Offspring: 100%|████████████████████████████████| 17/17 [00:01<00:00, 16.94it/s]\n",
      "Calculating fitnesses: 100%|████████████████████████████| 149/149 [00:00<00:00, 590.86it/s]\n"
     ]
    },
    {
     "name": "stdout",
     "output_type": "stream",
     "text": [
      "[Generation: 10] \n",
      " Average Fitness: 22.859060402684563 \n",
      " Best Fitness: 74.0 \n",
      " Worst Fitness: 8.0 \n",
      " Standard Error: 0.9340690807133751\n"
     ]
    },
    {
     "name": "stderr",
     "output_type": "stream",
     "text": [
      "Generating Offspring: 100%|████████████████████████████████| 17/17 [00:00<00:00, 17.84it/s]\n",
      "Calculating fitnesses: 100%|████████████████████████████| 149/149 [00:00<00:00, 499.56it/s]\n"
     ]
    },
    {
     "name": "stdout",
     "output_type": "stream",
     "text": [
      "[Generation: 11] \n",
      " Average Fitness: 27.154362416107382 \n",
      " Best Fitness: 105.0 \n",
      " Worst Fitness: 9.0 \n",
      " Standard Error: 1.5065527357763489\n"
     ]
    },
    {
     "name": "stderr",
     "output_type": "stream",
     "text": [
      "Generating Offspring: 100%|████████████████████████████████| 17/17 [00:00<00:00, 17.40it/s]\n",
      "Calculating fitnesses: 100%|████████████████████████████| 149/149 [00:00<00:00, 533.65it/s]\n"
     ]
    },
    {
     "name": "stdout",
     "output_type": "stream",
     "text": [
      "[Generation: 12] \n",
      " Average Fitness: 25.322147651006713 \n",
      " Best Fitness: 112.0 \n",
      " Worst Fitness: 10.0 \n",
      " Standard Error: 1.2171408832403021\n"
     ]
    },
    {
     "name": "stderr",
     "output_type": "stream",
     "text": [
      "Generating Offspring: 100%|████████████████████████████████| 17/17 [00:01<00:00, 16.87it/s]\n",
      "Calculating fitnesses: 100%|████████████████████████████| 149/149 [00:00<00:00, 573.45it/s]\n"
     ]
    },
    {
     "name": "stdout",
     "output_type": "stream",
     "text": [
      "[Generation: 13] \n",
      " Average Fitness: 23.751677852348994 \n",
      " Best Fitness: 78.0 \n",
      " Worst Fitness: 9.0 \n",
      " Standard Error: 1.0051069504711443\n"
     ]
    },
    {
     "name": "stderr",
     "output_type": "stream",
     "text": [
      "Generating Offspring: 100%|████████████████████████████████| 17/17 [00:00<00:00, 17.37it/s]\n",
      "Calculating fitnesses: 100%|████████████████████████████| 149/149 [00:00<00:00, 520.02it/s]\n"
     ]
    },
    {
     "name": "stdout",
     "output_type": "stream",
     "text": [
      "[Generation: 14] \n",
      " Average Fitness: 25.946308724832214 \n",
      " Best Fitness: 146.0 \n",
      " Worst Fitness: 9.0 \n",
      " Standard Error: 1.4030034778408802\n"
     ]
    },
    {
     "name": "stderr",
     "output_type": "stream",
     "text": [
      "Generating Offspring: 100%|████████████████████████████████| 17/17 [00:00<00:00, 17.09it/s]\n",
      "Calculating fitnesses: 100%|████████████████████████████| 149/149 [00:00<00:00, 528.46it/s]\n"
     ]
    },
    {
     "name": "stdout",
     "output_type": "stream",
     "text": [
      "[Generation: 15] \n",
      " Average Fitness: 25.630872483221477 \n",
      " Best Fitness: 87.0 \n",
      " Worst Fitness: 9.0 \n",
      " Standard Error: 1.2113552542854404\n"
     ]
    },
    {
     "name": "stderr",
     "output_type": "stream",
     "text": [
      "Generating Offspring: 100%|████████████████████████████████| 17/17 [00:01<00:00, 16.61it/s]\n",
      "Calculating fitnesses: 100%|████████████████████████████| 149/149 [00:00<00:00, 506.17it/s]\n"
     ]
    },
    {
     "name": "stdout",
     "output_type": "stream",
     "text": [
      "[Generation: 16] \n",
      " Average Fitness: 26.85234899328859 \n",
      " Best Fitness: 118.0 \n",
      " Worst Fitness: 9.0 \n",
      " Standard Error: 1.377614291229778\n"
     ]
    },
    {
     "name": "stderr",
     "output_type": "stream",
     "text": [
      "Generating Offspring: 100%|████████████████████████████████| 17/17 [00:01<00:00, 16.27it/s]\n",
      "Calculating fitnesses: 100%|████████████████████████████| 149/149 [00:00<00:00, 512.70it/s]\n"
     ]
    },
    {
     "name": "stdout",
     "output_type": "stream",
     "text": [
      "[Generation: 17] \n",
      " Average Fitness: 26.61744966442953 \n",
      " Best Fitness: 72.0 \n",
      " Worst Fitness: 10.0 \n",
      " Standard Error: 1.1777302536168632\n"
     ]
    },
    {
     "name": "stderr",
     "output_type": "stream",
     "text": [
      "Generating Offspring: 100%|████████████████████████████████| 17/17 [00:01<00:00, 16.70it/s]\n",
      "Calculating fitnesses: 100%|████████████████████████████| 149/149 [00:00<00:00, 506.57it/s]\n"
     ]
    },
    {
     "name": "stdout",
     "output_type": "stream",
     "text": [
      "[Generation: 18] \n",
      " Average Fitness: 26.644295302013422 \n",
      " Best Fitness: 90.0 \n",
      " Worst Fitness: 9.0 \n",
      " Standard Error: 1.3025485986868865\n"
     ]
    },
    {
     "name": "stderr",
     "output_type": "stream",
     "text": [
      "Generating Offspring: 100%|████████████████████████████████| 17/17 [00:01<00:00, 16.25it/s]\n",
      "Calculating fitnesses: 100%|████████████████████████████| 149/149 [00:00<00:00, 540.49it/s]\n"
     ]
    },
    {
     "name": "stdout",
     "output_type": "stream",
     "text": [
      "[Generation: 19] \n",
      " Average Fitness: 25.16778523489933 \n",
      " Best Fitness: 77.0 \n",
      " Worst Fitness: 9.0 \n",
      " Standard Error: 1.0854730071466296\n"
     ]
    },
    {
     "name": "stderr",
     "output_type": "stream",
     "text": [
      "Generating Offspring: 100%|████████████████████████████████| 17/17 [00:01<00:00, 15.32it/s]\n",
      "Calculating fitnesses: 100%|████████████████████████████| 149/149 [00:00<00:00, 554.73it/s]\n"
     ]
    },
    {
     "name": "stdout",
     "output_type": "stream",
     "text": [
      "[Generation: 20] \n",
      " Average Fitness: 24.496644295302012 \n",
      " Best Fitness: 80.0 \n",
      " Worst Fitness: 9.0 \n",
      " Standard Error: 1.1707025863629223\n"
     ]
    },
    {
     "name": "stderr",
     "output_type": "stream",
     "text": [
      "Generating Offspring: 100%|████████████████████████████████| 17/17 [00:01<00:00, 16.07it/s]\n",
      "Calculating fitnesses: 100%|████████████████████████████| 149/149 [00:00<00:00, 559.12it/s]\n"
     ]
    },
    {
     "name": "stdout",
     "output_type": "stream",
     "text": [
      "[Generation: 21] \n",
      " Average Fitness: 24.241610738255034 \n",
      " Best Fitness: 68.0 \n",
      " Worst Fitness: 8.0 \n",
      " Standard Error: 0.9992129592255197\n"
     ]
    },
    {
     "name": "stderr",
     "output_type": "stream",
     "text": [
      "Generating Offspring: 100%|████████████████████████████████| 17/17 [00:01<00:00, 16.12it/s]\n",
      "Calculating fitnesses: 100%|████████████████████████████| 149/149 [00:00<00:00, 506.18it/s]\n"
     ]
    },
    {
     "name": "stdout",
     "output_type": "stream",
     "text": [
      "[Generation: 22] \n",
      " Average Fitness: 26.751677852348994 \n",
      " Best Fitness: 82.0 \n",
      " Worst Fitness: 9.0 \n",
      " Standard Error: 1.1807031987581866\n"
     ]
    },
    {
     "name": "stderr",
     "output_type": "stream",
     "text": [
      "Generating Offspring: 100%|████████████████████████████████| 17/17 [00:01<00:00, 16.21it/s]\n",
      "Calculating fitnesses: 100%|████████████████████████████| 149/149 [00:00<00:00, 497.84it/s]\n"
     ]
    },
    {
     "name": "stdout",
     "output_type": "stream",
     "text": [
      "[Generation: 23] \n",
      " Average Fitness: 27.22818791946309 \n",
      " Best Fitness: 81.0 \n",
      " Worst Fitness: 9.0 \n",
      " Standard Error: 1.2312118147108473\n"
     ]
    },
    {
     "name": "stderr",
     "output_type": "stream",
     "text": [
      "Generating Offspring: 100%|████████████████████████████████| 17/17 [00:01<00:00, 15.71it/s]\n",
      "Calculating fitnesses: 100%|████████████████████████████| 149/149 [00:00<00:00, 498.87it/s]\n"
     ]
    },
    {
     "name": "stdout",
     "output_type": "stream",
     "text": [
      "[Generation: 24] \n",
      " Average Fitness: 27.19463087248322 \n",
      " Best Fitness: 86.0 \n",
      " Worst Fitness: 8.0 \n",
      " Standard Error: 1.0711017742183182\n"
     ]
    },
    {
     "name": "stderr",
     "output_type": "stream",
     "text": [
      "Generating Offspring: 100%|████████████████████████████████| 17/17 [00:01<00:00, 15.29it/s]\n",
      "Calculating fitnesses: 100%|████████████████████████████| 149/149 [00:00<00:00, 512.37it/s]\n"
     ]
    },
    {
     "name": "stdout",
     "output_type": "stream",
     "text": [
      "[Generation: 25] \n",
      " Average Fitness: 26.21476510067114 \n",
      " Best Fitness: 86.0 \n",
      " Worst Fitness: 9.0 \n",
      " Standard Error: 1.2149890609128835\n"
     ]
    },
    {
     "name": "stderr",
     "output_type": "stream",
     "text": [
      "Generating Offspring: 100%|████████████████████████████████| 17/17 [00:01<00:00, 14.88it/s]\n",
      "Calculating fitnesses: 100%|████████████████████████████| 149/149 [00:00<00:00, 454.61it/s]\n"
     ]
    },
    {
     "name": "stdout",
     "output_type": "stream",
     "text": [
      "[Generation: 26] \n",
      " Average Fitness: 29.78523489932886 \n",
      " Best Fitness: 116.0 \n",
      " Worst Fitness: 9.0 \n",
      " Standard Error: 1.499729819019165\n"
     ]
    },
    {
     "name": "stderr",
     "output_type": "stream",
     "text": [
      "Generating Offspring: 100%|████████████████████████████████| 17/17 [00:01<00:00, 15.14it/s]\n",
      "Calculating fitnesses: 100%|████████████████████████████| 149/149 [00:00<00:00, 501.27it/s]\n"
     ]
    },
    {
     "name": "stdout",
     "output_type": "stream",
     "text": [
      "[Generation: 27] \n",
      " Average Fitness: 26.892617449664428 \n",
      " Best Fitness: 82.0 \n",
      " Worst Fitness: 9.0 \n",
      " Standard Error: 1.1049638565198625\n"
     ]
    },
    {
     "name": "stderr",
     "output_type": "stream",
     "text": [
      "Generating Offspring: 100%|████████████████████████████████| 17/17 [00:01<00:00, 15.33it/s]\n",
      "Calculating fitnesses: 100%|████████████████████████████| 149/149 [00:00<00:00, 458.95it/s]\n"
     ]
    },
    {
     "name": "stdout",
     "output_type": "stream",
     "text": [
      "[Generation: 28] \n",
      " Average Fitness: 29.395973154362416 \n",
      " Best Fitness: 128.0 \n",
      " Worst Fitness: 10.0 \n",
      " Standard Error: 1.519682188937321\n"
     ]
    },
    {
     "name": "stderr",
     "output_type": "stream",
     "text": [
      "Generating Offspring: 100%|████████████████████████████████| 17/17 [00:01<00:00, 15.27it/s]\n",
      "Calculating fitnesses: 100%|████████████████████████████| 149/149 [00:00<00:00, 452.56it/s]\n"
     ]
    },
    {
     "name": "stdout",
     "output_type": "stream",
     "text": [
      "[Generation: 29] \n",
      " Average Fitness: 29.83221476510067 \n",
      " Best Fitness: 125.0 \n",
      " Worst Fitness: 8.0 \n",
      " Standard Error: 1.418420787315842\n"
     ]
    },
    {
     "name": "stderr",
     "output_type": "stream",
     "text": [
      "Generating Offspring: 100%|████████████████████████████████| 17/17 [00:01<00:00, 15.00it/s]\n",
      "Calculating fitnesses: 100%|████████████████████████████| 149/149 [00:00<00:00, 502.53it/s]\n"
     ]
    },
    {
     "name": "stdout",
     "output_type": "stream",
     "text": [
      "[Generation: 30] \n",
      " Average Fitness: 27.013422818791945 \n",
      " Best Fitness: 89.0 \n",
      " Worst Fitness: 9.0 \n",
      " Standard Error: 1.1767437238027956\n"
     ]
    },
    {
     "name": "stderr",
     "output_type": "stream",
     "text": [
      "Generating Offspring: 100%|████████████████████████████████| 17/17 [00:01<00:00, 15.40it/s]\n"
     ]
    },
    {
     "name": "stdout",
     "output_type": "stream",
     "text": [
      "| \u001b[0m7        \u001b[0m | \u001b[0m94.6     \u001b[0m | \u001b[0m132.4    \u001b[0m | \u001b[0m30.0     \u001b[0m | \u001b[0m0.01     \u001b[0m | \u001b[0m1.0      \u001b[0m | \u001b[0m149.3    \u001b[0m | \u001b[0m30.0     \u001b[0m |\n"
     ]
    },
    {
     "name": "stderr",
     "output_type": "stream",
     "text": [
      "Calculating fitnesses: 100%|████████████████████████████| 176/176 [00:00<00:00, 526.07it/s]\n"
     ]
    },
    {
     "name": "stdout",
     "output_type": "stream",
     "text": [
      "[Generation: 1] \n",
      " Average Fitness: 21.755681818181817 \n",
      " Best Fitness: 69.0 \n",
      " Worst Fitness: 8.0 \n",
      " Standard Error: 0.794553176691352\n"
     ]
    },
    {
     "name": "stderr",
     "output_type": "stream",
     "text": [
      "Generating Offspring: 100%|██████████████████████████████| 105/105 [00:02<00:00, 43.35it/s]\n",
      "Calculating fitnesses: 100%|████████████████████████████| 176/176 [00:00<00:00, 658.03it/s]\n"
     ]
    },
    {
     "name": "stdout",
     "output_type": "stream",
     "text": [
      "[Generation: 2] \n",
      " Average Fitness: 20.488636363636363 \n",
      " Best Fitness: 170.0 \n",
      " Worst Fitness: 8.0 \n",
      " Standard Error: 1.6366339513382226\n"
     ]
    },
    {
     "name": "stderr",
     "output_type": "stream",
     "text": [
      "Generating Offspring: 100%|██████████████████████████████| 105/105 [00:02<00:00, 43.77it/s]\n",
      "Calculating fitnesses: 100%|████████████████████████████| 176/176 [00:00<00:00, 303.55it/s]\n"
     ]
    },
    {
     "name": "stdout",
     "output_type": "stream",
     "text": [
      "[Generation: 3] \n",
      " Average Fitness: 44.47159090909091 \n",
      " Best Fitness: 377.0 \n",
      " Worst Fitness: 8.0 \n",
      " Standard Error: 4.125230642723757\n"
     ]
    },
    {
     "name": "stderr",
     "output_type": "stream",
     "text": [
      "Generating Offspring: 100%|██████████████████████████████| 105/105 [00:05<00:00, 19.06it/s]\n",
      "Calculating fitnesses: 100%|████████████████████████████| 176/176 [00:01<00:00, 121.22it/s]\n"
     ]
    },
    {
     "name": "stdout",
     "output_type": "stream",
     "text": [
      "[Generation: 4] \n",
      " Average Fitness: 108.5909090909091 \n",
      " Best Fitness: 455.0 \n",
      " Worst Fitness: 17.0 \n",
      " Standard Error: 7.344373554250108\n"
     ]
    },
    {
     "name": "stderr",
     "output_type": "stream",
     "text": [
      "Generating Offspring: 100%|██████████████████████████████| 105/105 [00:13<00:00,  7.84it/s]\n",
      "Calculating fitnesses: 100%|█████████████████████████████| 176/176 [00:03<00:00, 56.20it/s]\n"
     ]
    },
    {
     "name": "stdout",
     "output_type": "stream",
     "text": [
      "[Generation: 5] \n",
      " Average Fitness: 233.22727272727272 \n",
      " Best Fitness: 500.0 \n",
      " Worst Fitness: 10.0 \n",
      " Standard Error: 10.048352111928068\n"
     ]
    },
    {
     "name": "stderr",
     "output_type": "stream",
     "text": [
      "Generating Offspring: 100%|██████████████████████████████| 105/105 [00:26<00:00,  3.93it/s]\n",
      "Calculating fitnesses: 100%|█████████████████████████████| 176/176 [00:04<00:00, 37.57it/s]\n"
     ]
    },
    {
     "name": "stdout",
     "output_type": "stream",
     "text": [
      "[Generation: 6] \n",
      " Average Fitness: 349.6875 \n",
      " Best Fitness: 500.0 \n",
      " Worst Fitness: 125.0 \n",
      " Standard Error: 5.657467804971207\n"
     ]
    },
    {
     "name": "stderr",
     "output_type": "stream",
     "text": [
      "Generating Offspring: 100%|██████████████████████████████| 105/105 [00:38<00:00,  2.76it/s]\n",
      "Calculating fitnesses: 100%|█████████████████████████████| 176/176 [00:04<00:00, 37.03it/s]\n"
     ]
    },
    {
     "name": "stdout",
     "output_type": "stream",
     "text": [
      "[Generation: 7] \n",
      " Average Fitness: 355.39204545454544 \n",
      " Best Fitness: 500.0 \n",
      " Worst Fitness: 198.0 \n",
      " Standard Error: 4.6199101472106445\n"
     ]
    },
    {
     "name": "stderr",
     "output_type": "stream",
     "text": [
      "Generating Offspring: 100%|██████████████████████████████| 105/105 [00:38<00:00,  2.71it/s]\n",
      "Calculating fitnesses: 100%|█████████████████████████████| 176/176 [00:04<00:00, 36.32it/s]\n"
     ]
    },
    {
     "name": "stdout",
     "output_type": "stream",
     "text": [
      "[Generation: 8] \n",
      " Average Fitness: 357.375 \n",
      " Best Fitness: 500.0 \n",
      " Worst Fitness: 210.0 \n",
      " Standard Error: 4.838493010265656\n"
     ]
    },
    {
     "name": "stderr",
     "output_type": "stream",
     "text": [
      "Generating Offspring: 100%|██████████████████████████████| 105/105 [00:39<00:00,  2.67it/s]\n",
      "Calculating fitnesses: 100%|█████████████████████████████| 176/176 [00:04<00:00, 37.11it/s]\n"
     ]
    },
    {
     "name": "stdout",
     "output_type": "stream",
     "text": [
      "[Generation: 9] \n",
      " Average Fitness: 355.9886363636364 \n",
      " Best Fitness: 500.0 \n",
      " Worst Fitness: 209.0 \n",
      " Standard Error: 5.113402231292259\n"
     ]
    },
    {
     "name": "stderr",
     "output_type": "stream",
     "text": [
      "Generating Offspring: 100%|██████████████████████████████| 105/105 [00:39<00:00,  2.67it/s]\n",
      "Calculating fitnesses: 100%|█████████████████████████████| 176/176 [00:04<00:00, 36.96it/s]\n"
     ]
    },
    {
     "name": "stdout",
     "output_type": "stream",
     "text": [
      "[Generation: 10] \n",
      " Average Fitness: 355.3068181818182 \n",
      " Best Fitness: 500.0 \n",
      " Worst Fitness: 228.0 \n",
      " Standard Error: 4.5234218451192465\n"
     ]
    },
    {
     "name": "stderr",
     "output_type": "stream",
     "text": [
      "Generating Offspring: 100%|██████████████████████████████| 105/105 [00:39<00:00,  2.69it/s]\n",
      "Calculating fitnesses: 100%|█████████████████████████████| 176/176 [00:04<00:00, 36.00it/s]\n"
     ]
    },
    {
     "name": "stdout",
     "output_type": "stream",
     "text": [
      "[Generation: 11] \n",
      " Average Fitness: 360.77272727272725 \n",
      " Best Fitness: 500.0 \n",
      " Worst Fitness: 235.0 \n",
      " Standard Error: 4.815488097777287\n"
     ]
    },
    {
     "name": "stderr",
     "output_type": "stream",
     "text": [
      "Generating Offspring: 100%|██████████████████████████████| 105/105 [00:39<00:00,  2.68it/s]\n",
      "Calculating fitnesses: 100%|█████████████████████████████| 176/176 [00:04<00:00, 36.27it/s]\n"
     ]
    },
    {
     "name": "stdout",
     "output_type": "stream",
     "text": [
      "[Generation: 12] \n",
      " Average Fitness: 361.33522727272725 \n",
      " Best Fitness: 500.0 \n",
      " Worst Fitness: 237.0 \n",
      " Standard Error: 4.886906776669746\n"
     ]
    },
    {
     "name": "stderr",
     "output_type": "stream",
     "text": [
      "Generating Offspring: 100%|██████████████████████████████| 105/105 [00:38<00:00,  2.70it/s]\n",
      "Calculating fitnesses: 100%|█████████████████████████████| 176/176 [00:04<00:00, 36.48it/s]\n"
     ]
    },
    {
     "name": "stdout",
     "output_type": "stream",
     "text": [
      "[Generation: 13] \n",
      " Average Fitness: 355.9886363636364 \n",
      " Best Fitness: 500.0 \n",
      " Worst Fitness: 199.0 \n",
      " Standard Error: 5.111852719234045\n"
     ]
    },
    {
     "name": "stderr",
     "output_type": "stream",
     "text": [
      "Generating Offspring: 100%|██████████████████████████████| 105/105 [00:39<00:00,  2.67it/s]\n",
      "Calculating fitnesses: 100%|█████████████████████████████| 176/176 [00:04<00:00, 36.93it/s]\n"
     ]
    },
    {
     "name": "stdout",
     "output_type": "stream",
     "text": [
      "[Generation: 14] \n",
      " Average Fitness: 355.77272727272725 \n",
      " Best Fitness: 500.0 \n",
      " Worst Fitness: 230.0 \n",
      " Standard Error: 4.774264440153062\n"
     ]
    },
    {
     "name": "stderr",
     "output_type": "stream",
     "text": [
      "Generating Offspring: 100%|██████████████████████████████| 105/105 [00:39<00:00,  2.68it/s]\n",
      "Calculating fitnesses: 100%|█████████████████████████████| 176/176 [00:04<00:00, 36.82it/s]\n"
     ]
    },
    {
     "name": "stdout",
     "output_type": "stream",
     "text": [
      "[Generation: 15] \n",
      " Average Fitness: 359.3125 \n",
      " Best Fitness: 500.0 \n",
      " Worst Fitness: 218.0 \n",
      " Standard Error: 4.64647545695422\n"
     ]
    },
    {
     "name": "stderr",
     "output_type": "stream",
     "text": [
      "Generating Offspring: 100%|██████████████████████████████| 105/105 [00:39<00:00,  2.68it/s]\n",
      "Calculating fitnesses: 100%|█████████████████████████████| 176/176 [00:04<00:00, 36.74it/s]\n"
     ]
    },
    {
     "name": "stdout",
     "output_type": "stream",
     "text": [
      "[Generation: 16] \n",
      " Average Fitness: 356.5511363636364 \n",
      " Best Fitness: 500.0 \n",
      " Worst Fitness: 215.0 \n",
      " Standard Error: 4.660686434911607\n"
     ]
    },
    {
     "name": "stderr",
     "output_type": "stream",
     "text": [
      "Generating Offspring: 100%|██████████████████████████████| 105/105 [00:39<00:00,  2.67it/s]\n",
      "Calculating fitnesses: 100%|█████████████████████████████| 176/176 [00:04<00:00, 36.36it/s]\n"
     ]
    },
    {
     "name": "stdout",
     "output_type": "stream",
     "text": [
      "[Generation: 17] \n",
      " Average Fitness: 360.4431818181818 \n",
      " Best Fitness: 500.0 \n",
      " Worst Fitness: 187.0 \n",
      " Standard Error: 5.033709199564981\n"
     ]
    },
    {
     "name": "stderr",
     "output_type": "stream",
     "text": [
      "Generating Offspring: 100%|██████████████████████████████| 105/105 [00:39<00:00,  2.67it/s]\n",
      "Calculating fitnesses: 100%|█████████████████████████████| 176/176 [00:05<00:00, 34.88it/s]\n"
     ]
    },
    {
     "name": "stdout",
     "output_type": "stream",
     "text": [
      "[Generation: 18] \n",
      " Average Fitness: 376.45454545454544 \n",
      " Best Fitness: 500.0 \n",
      " Worst Fitness: 221.0 \n",
      " Standard Error: 5.207105648302672\n"
     ]
    },
    {
     "name": "stderr",
     "output_type": "stream",
     "text": [
      "Generating Offspring: 100%|██████████████████████████████| 105/105 [00:39<00:00,  2.67it/s]\n",
      "Calculating fitnesses: 100%|█████████████████████████████| 176/176 [00:04<00:00, 36.32it/s]\n"
     ]
    },
    {
     "name": "stdout",
     "output_type": "stream",
     "text": [
      "[Generation: 19] \n",
      " Average Fitness: 359.6761363636364 \n",
      " Best Fitness: 500.0 \n",
      " Worst Fitness: 217.0 \n",
      " Standard Error: 4.79941331565007\n"
     ]
    },
    {
     "name": "stderr",
     "output_type": "stream",
     "text": [
      "Generating Offspring: 100%|██████████████████████████████| 105/105 [00:39<00:00,  2.65it/s]\n",
      "Calculating fitnesses: 100%|█████████████████████████████| 176/176 [00:04<00:00, 37.70it/s]\n"
     ]
    },
    {
     "name": "stdout",
     "output_type": "stream",
     "text": [
      "[Generation: 20] \n",
      " Average Fitness: 351.1761363636364 \n",
      " Best Fitness: 500.0 \n",
      " Worst Fitness: 73.0 \n",
      " Standard Error: 5.288954244990972\n"
     ]
    },
    {
     "name": "stderr",
     "output_type": "stream",
     "text": [
      "Generating Offspring: 100%|██████████████████████████████| 105/105 [00:39<00:00,  2.66it/s]\n",
      "Calculating fitnesses: 100%|█████████████████████████████| 176/176 [00:04<00:00, 36.16it/s]\n"
     ]
    },
    {
     "name": "stdout",
     "output_type": "stream",
     "text": [
      "[Generation: 21] \n",
      " Average Fitness: 363.5113636363636 \n",
      " Best Fitness: 500.0 \n",
      " Worst Fitness: 222.0 \n",
      " Standard Error: 4.538228590829358\n"
     ]
    },
    {
     "name": "stderr",
     "output_type": "stream",
     "text": [
      "Generating Offspring: 100%|██████████████████████████████| 105/105 [00:39<00:00,  2.67it/s]\n",
      "Calculating fitnesses: 100%|█████████████████████████████| 176/176 [00:04<00:00, 36.15it/s]\n"
     ]
    },
    {
     "name": "stdout",
     "output_type": "stream",
     "text": [
      "[Generation: 22] \n",
      " Average Fitness: 363.64204545454544 \n",
      " Best Fitness: 500.0 \n",
      " Worst Fitness: 213.0 \n",
      " Standard Error: 5.036839766484035\n"
     ]
    },
    {
     "name": "stderr",
     "output_type": "stream",
     "text": [
      "Generating Offspring: 100%|██████████████████████████████| 105/105 [00:39<00:00,  2.67it/s]\n",
      "Calculating fitnesses: 100%|█████████████████████████████| 176/176 [00:04<00:00, 36.75it/s]\n"
     ]
    },
    {
     "name": "stdout",
     "output_type": "stream",
     "text": [
      "[Generation: 23] \n",
      " Average Fitness: 356.5681818181818 \n",
      " Best Fitness: 500.0 \n",
      " Worst Fitness: 221.0 \n",
      " Standard Error: 4.966312429755198\n"
     ]
    },
    {
     "name": "stderr",
     "output_type": "stream",
     "text": [
      "Generating Offspring: 100%|██████████████████████████████| 105/105 [00:38<00:00,  2.70it/s]\n",
      "Calculating fitnesses: 100%|█████████████████████████████| 176/176 [00:04<00:00, 36.09it/s]\n"
     ]
    },
    {
     "name": "stdout",
     "output_type": "stream",
     "text": [
      "[Generation: 24] \n",
      " Average Fitness: 360.59090909090907 \n",
      " Best Fitness: 500.0 \n",
      " Worst Fitness: 37.0 \n",
      " Standard Error: 5.225644015037843\n"
     ]
    },
    {
     "name": "stderr",
     "output_type": "stream",
     "text": [
      "Generating Offspring: 100%|██████████████████████████████| 105/105 [00:39<00:00,  2.66it/s]\n",
      "Calculating fitnesses: 100%|█████████████████████████████| 176/176 [00:04<00:00, 36.48it/s]\n"
     ]
    },
    {
     "name": "stdout",
     "output_type": "stream",
     "text": [
      "[Generation: 25] \n",
      " Average Fitness: 358.95454545454544 \n",
      " Best Fitness: 500.0 \n",
      " Worst Fitness: 199.0 \n",
      " Standard Error: 5.0422038200032855\n"
     ]
    },
    {
     "name": "stderr",
     "output_type": "stream",
     "text": [
      "Generating Offspring: 100%|██████████████████████████████| 105/105 [00:39<00:00,  2.67it/s]\n",
      "Calculating fitnesses: 100%|█████████████████████████████| 176/176 [00:04<00:00, 37.66it/s]\n"
     ]
    },
    {
     "name": "stdout",
     "output_type": "stream",
     "text": [
      "[Generation: 26] \n",
      " Average Fitness: 348.0568181818182 \n",
      " Best Fitness: 500.0 \n",
      " Worst Fitness: 211.0 \n",
      " Standard Error: 5.13281849556192\n"
     ]
    },
    {
     "name": "stderr",
     "output_type": "stream",
     "text": [
      "Generating Offspring: 100%|██████████████████████████████| 105/105 [00:39<00:00,  2.68it/s]\n",
      "Calculating fitnesses: 100%|█████████████████████████████| 176/176 [00:04<00:00, 36.03it/s]\n"
     ]
    },
    {
     "name": "stdout",
     "output_type": "stream",
     "text": [
      "[Generation: 27] \n",
      " Average Fitness: 362.0511363636364 \n",
      " Best Fitness: 500.0 \n",
      " Worst Fitness: 216.0 \n",
      " Standard Error: 5.092898480009782\n"
     ]
    },
    {
     "name": "stderr",
     "output_type": "stream",
     "text": [
      "Generating Offspring: 100%|██████████████████████████████| 105/105 [00:38<00:00,  2.69it/s]\n",
      "Calculating fitnesses: 100%|█████████████████████████████| 176/176 [00:04<00:00, 36.74it/s]\n"
     ]
    },
    {
     "name": "stdout",
     "output_type": "stream",
     "text": [
      "[Generation: 28] \n",
      " Average Fitness: 356.1306818181818 \n",
      " Best Fitness: 500.0 \n",
      " Worst Fitness: 232.0 \n",
      " Standard Error: 4.886769822290064\n"
     ]
    },
    {
     "name": "stderr",
     "output_type": "stream",
     "text": [
      "Generating Offspring: 100%|██████████████████████████████| 105/105 [00:39<00:00,  2.66it/s]\n",
      "Calculating fitnesses: 100%|█████████████████████████████| 176/176 [00:04<00:00, 37.13it/s]\n"
     ]
    },
    {
     "name": "stdout",
     "output_type": "stream",
     "text": [
      "[Generation: 29] \n",
      " Average Fitness: 355.4943181818182 \n",
      " Best Fitness: 500.0 \n",
      " Worst Fitness: 9.0 \n",
      " Standard Error: 5.06762064842117\n"
     ]
    },
    {
     "name": "stderr",
     "output_type": "stream",
     "text": [
      "Generating Offspring: 100%|██████████████████████████████| 105/105 [00:38<00:00,  2.71it/s]\n",
      "Calculating fitnesses: 100%|█████████████████████████████| 176/176 [00:04<00:00, 36.37it/s]\n"
     ]
    },
    {
     "name": "stdout",
     "output_type": "stream",
     "text": [
      "[Generation: 30] \n",
      " Average Fitness: 358.875 \n",
      " Best Fitness: 500.0 \n",
      " Worst Fitness: 211.0 \n",
      " Standard Error: 4.500502316841544\n"
     ]
    },
    {
     "name": "stderr",
     "output_type": "stream",
     "text": [
      "Generating Offspring: 100%|██████████████████████████████| 105/105 [00:39<00:00,  2.66it/s]\n",
      "Calculating fitnesses: 100%|█████████████████████████████| 176/176 [00:04<00:00, 35.37it/s]\n"
     ]
    },
    {
     "name": "stdout",
     "output_type": "stream",
     "text": [
      "[Generation: 31] \n",
      " Average Fitness: 368.6193181818182 \n",
      " Best Fitness: 500.0 \n",
      " Worst Fitness: 222.0 \n",
      " Standard Error: 4.8246441707100995\n"
     ]
    },
    {
     "name": "stderr",
     "output_type": "stream",
     "text": [
      "Generating Offspring: 100%|██████████████████████████████| 105/105 [00:39<00:00,  2.65it/s]\n",
      "Calculating fitnesses: 100%|█████████████████████████████| 176/176 [00:04<00:00, 36.60it/s]\n"
     ]
    },
    {
     "name": "stdout",
     "output_type": "stream",
     "text": [
      "[Generation: 32] \n",
      " Average Fitness: 358.52840909090907 \n",
      " Best Fitness: 500.0 \n",
      " Worst Fitness: 212.0 \n",
      " Standard Error: 5.463681320314425\n"
     ]
    },
    {
     "name": "stderr",
     "output_type": "stream",
     "text": [
      "Generating Offspring: 100%|██████████████████████████████| 105/105 [00:39<00:00,  2.67it/s]\n",
      "Calculating fitnesses: 100%|█████████████████████████████| 176/176 [00:04<00:00, 35.89it/s]\n"
     ]
    },
    {
     "name": "stdout",
     "output_type": "stream",
     "text": [
      "[Generation: 33] \n",
      " Average Fitness: 365.64204545454544 \n",
      " Best Fitness: 500.0 \n",
      " Worst Fitness: 191.0 \n",
      " Standard Error: 5.162402946679414\n"
     ]
    },
    {
     "name": "stderr",
     "output_type": "stream",
     "text": [
      "Generating Offspring: 100%|██████████████████████████████| 105/105 [00:39<00:00,  2.67it/s]\n",
      "Calculating fitnesses: 100%|█████████████████████████████| 176/176 [00:04<00:00, 36.55it/s]\n"
     ]
    },
    {
     "name": "stdout",
     "output_type": "stream",
     "text": [
      "[Generation: 34] \n",
      " Average Fitness: 362.4943181818182 \n",
      " Best Fitness: 500.0 \n",
      " Worst Fitness: 196.0 \n",
      " Standard Error: 5.340424111028566\n"
     ]
    },
    {
     "name": "stderr",
     "output_type": "stream",
     "text": [
      "Generating Offspring: 100%|██████████████████████████████| 105/105 [00:38<00:00,  2.69it/s]\n",
      "Calculating fitnesses: 100%|█████████████████████████████| 176/176 [00:04<00:00, 37.08it/s]\n"
     ]
    },
    {
     "name": "stdout",
     "output_type": "stream",
     "text": [
      "[Generation: 35] \n",
      " Average Fitness: 354.78977272727275 \n",
      " Best Fitness: 500.0 \n",
      " Worst Fitness: 201.0 \n",
      " Standard Error: 4.436504494483802\n"
     ]
    },
    {
     "name": "stderr",
     "output_type": "stream",
     "text": [
      "Generating Offspring: 100%|██████████████████████████████| 105/105 [00:39<00:00,  2.64it/s]\n",
      "Calculating fitnesses: 100%|█████████████████████████████| 176/176 [00:04<00:00, 35.31it/s]\n"
     ]
    },
    {
     "name": "stdout",
     "output_type": "stream",
     "text": [
      "[Generation: 36] \n",
      " Average Fitness: 368.8238636363636 \n",
      " Best Fitness: 500.0 \n",
      " Worst Fitness: 200.0 \n",
      " Standard Error: 4.884608545418114\n"
     ]
    },
    {
     "name": "stderr",
     "output_type": "stream",
     "text": [
      "Generating Offspring: 100%|██████████████████████████████| 105/105 [00:39<00:00,  2.68it/s]\n",
      "Calculating fitnesses: 100%|█████████████████████████████| 176/176 [00:04<00:00, 35.63it/s]\n"
     ]
    },
    {
     "name": "stdout",
     "output_type": "stream",
     "text": [
      "[Generation: 37] \n",
      " Average Fitness: 368.78977272727275 \n",
      " Best Fitness: 500.0 \n",
      " Worst Fitness: 199.0 \n",
      " Standard Error: 5.150643704541542\n"
     ]
    },
    {
     "name": "stderr",
     "output_type": "stream",
     "text": [
      "Generating Offspring: 100%|██████████████████████████████| 105/105 [00:39<00:00,  2.65it/s]\n",
      "Calculating fitnesses: 100%|█████████████████████████████| 176/176 [00:04<00:00, 36.30it/s]\n"
     ]
    },
    {
     "name": "stdout",
     "output_type": "stream",
     "text": [
      "[Generation: 38] \n",
      " Average Fitness: 358.67045454545456 \n",
      " Best Fitness: 500.0 \n",
      " Worst Fitness: 220.0 \n",
      " Standard Error: 5.153862775172896\n"
     ]
    },
    {
     "name": "stderr",
     "output_type": "stream",
     "text": [
      "Generating Offspring: 100%|██████████████████████████████| 105/105 [00:39<00:00,  2.65it/s]\n",
      "Calculating fitnesses: 100%|█████████████████████████████| 176/176 [00:04<00:00, 35.92it/s]\n"
     ]
    },
    {
     "name": "stdout",
     "output_type": "stream",
     "text": [
      "[Generation: 39] \n",
      " Average Fitness: 362.54545454545456 \n",
      " Best Fitness: 500.0 \n",
      " Worst Fitness: 214.0 \n",
      " Standard Error: 4.834520203310972\n"
     ]
    },
    {
     "name": "stderr",
     "output_type": "stream",
     "text": [
      "Generating Offspring: 100%|██████████████████████████████| 105/105 [00:39<00:00,  2.65it/s]\n",
      "Calculating fitnesses: 100%|█████████████████████████████| 176/176 [00:04<00:00, 36.81it/s]\n"
     ]
    },
    {
     "name": "stdout",
     "output_type": "stream",
     "text": [
      "[Generation: 40] \n",
      " Average Fitness: 356.33522727272725 \n",
      " Best Fitness: 500.0 \n",
      " Worst Fitness: 191.0 \n",
      " Standard Error: 5.110351163344046\n"
     ]
    },
    {
     "name": "stderr",
     "output_type": "stream",
     "text": [
      "Generating Offspring: 100%|██████████████████████████████| 105/105 [00:38<00:00,  2.72it/s]\n",
      "Calculating fitnesses: 100%|█████████████████████████████| 176/176 [00:04<00:00, 37.79it/s]\n"
     ]
    },
    {
     "name": "stdout",
     "output_type": "stream",
     "text": [
      "[Generation: 41] \n",
      " Average Fitness: 347.1136363636364 \n",
      " Best Fitness: 500.0 \n",
      " Worst Fitness: 213.0 \n",
      " Standard Error: 4.758252323195192\n"
     ]
    },
    {
     "name": "stderr",
     "output_type": "stream",
     "text": [
      "Generating Offspring: 100%|██████████████████████████████| 105/105 [00:38<00:00,  2.69it/s]\n",
      "Calculating fitnesses: 100%|█████████████████████████████| 176/176 [00:05<00:00, 34.86it/s]\n"
     ]
    },
    {
     "name": "stdout",
     "output_type": "stream",
     "text": [
      "[Generation: 42] \n",
      " Average Fitness: 371.6136363636364 \n",
      " Best Fitness: 500.0 \n",
      " Worst Fitness: 10.0 \n",
      " Standard Error: 5.582020439247733\n"
     ]
    },
    {
     "name": "stderr",
     "output_type": "stream",
     "text": [
      "Generating Offspring: 100%|██████████████████████████████| 105/105 [00:39<00:00,  2.67it/s]\n",
      "Calculating fitnesses: 100%|█████████████████████████████| 176/176 [00:04<00:00, 35.96it/s]\n"
     ]
    },
    {
     "name": "stdout",
     "output_type": "stream",
     "text": [
      "[Generation: 43] \n",
      " Average Fitness: 368.14204545454544 \n",
      " Best Fitness: 500.0 \n",
      " Worst Fitness: 224.0 \n",
      " Standard Error: 5.200791176273949\n"
     ]
    },
    {
     "name": "stderr",
     "output_type": "stream",
     "text": [
      "Generating Offspring: 100%|██████████████████████████████| 105/105 [00:39<00:00,  2.67it/s]\n",
      "Calculating fitnesses: 100%|█████████████████████████████| 176/176 [00:04<00:00, 35.97it/s]\n"
     ]
    },
    {
     "name": "stdout",
     "output_type": "stream",
     "text": [
      "[Generation: 44] \n",
      " Average Fitness: 362.3693181818182 \n",
      " Best Fitness: 500.0 \n",
      " Worst Fitness: 226.0 \n",
      " Standard Error: 4.678387009464969\n"
     ]
    },
    {
     "name": "stderr",
     "output_type": "stream",
     "text": [
      "Generating Offspring: 100%|██████████████████████████████| 105/105 [00:39<00:00,  2.67it/s]\n",
      "Calculating fitnesses: 100%|█████████████████████████████| 176/176 [00:04<00:00, 36.05it/s]\n"
     ]
    },
    {
     "name": "stdout",
     "output_type": "stream",
     "text": [
      "[Generation: 45] \n",
      " Average Fitness: 364.0 \n",
      " Best Fitness: 500.0 \n",
      " Worst Fitness: 197.0 \n",
      " Standard Error: 4.7521287096129115\n"
     ]
    },
    {
     "name": "stderr",
     "output_type": "stream",
     "text": [
      "Generating Offspring: 100%|██████████████████████████████| 105/105 [00:39<00:00,  2.66it/s]\n",
      "Calculating fitnesses: 100%|█████████████████████████████| 176/176 [00:04<00:00, 37.46it/s]\n"
     ]
    },
    {
     "name": "stdout",
     "output_type": "stream",
     "text": [
      "[Generation: 46] \n",
      " Average Fitness: 353.39204545454544 \n",
      " Best Fitness: 500.0 \n",
      " Worst Fitness: 191.0 \n",
      " Standard Error: 5.010618428999274\n"
     ]
    },
    {
     "name": "stderr",
     "output_type": "stream",
     "text": [
      "Generating Offspring: 100%|██████████████████████████████| 105/105 [00:39<00:00,  2.67it/s]\n",
      "Calculating fitnesses: 100%|█████████████████████████████| 176/176 [00:04<00:00, 35.73it/s]\n"
     ]
    },
    {
     "name": "stdout",
     "output_type": "stream",
     "text": [
      "[Generation: 47] \n",
      " Average Fitness: 365.7556818181818 \n",
      " Best Fitness: 500.0 \n",
      " Worst Fitness: 206.0 \n",
      " Standard Error: 4.963393575926792\n"
     ]
    },
    {
     "name": "stderr",
     "output_type": "stream",
     "text": [
      "Generating Offspring: 100%|██████████████████████████████| 105/105 [00:38<00:00,  2.69it/s]\n",
      "Calculating fitnesses: 100%|█████████████████████████████| 176/176 [00:04<00:00, 36.85it/s]\n"
     ]
    },
    {
     "name": "stdout",
     "output_type": "stream",
     "text": [
      "[Generation: 48] \n",
      " Average Fitness: 357.0113636363636 \n",
      " Best Fitness: 500.0 \n",
      " Worst Fitness: 218.0 \n",
      " Standard Error: 5.110429802726483\n"
     ]
    },
    {
     "name": "stderr",
     "output_type": "stream",
     "text": [
      "Generating Offspring: 100%|██████████████████████████████| 105/105 [00:39<00:00,  2.66it/s]\n",
      "Calculating fitnesses: 100%|█████████████████████████████| 176/176 [00:04<00:00, 37.30it/s]\n"
     ]
    },
    {
     "name": "stdout",
     "output_type": "stream",
     "text": [
      "[Generation: 49] \n",
      " Average Fitness: 355.73295454545456 \n",
      " Best Fitness: 500.0 \n",
      " Worst Fitness: 31.0 \n",
      " Standard Error: 5.102171834683495\n"
     ]
    },
    {
     "name": "stderr",
     "output_type": "stream",
     "text": [
      "Generating Offspring: 100%|██████████████████████████████| 105/105 [00:39<00:00,  2.68it/s]\n",
      "Calculating fitnesses: 100%|█████████████████████████████| 176/176 [00:04<00:00, 36.84it/s]\n"
     ]
    },
    {
     "name": "stdout",
     "output_type": "stream",
     "text": [
      "[Generation: 50] \n",
      " Average Fitness: 357.40909090909093 \n",
      " Best Fitness: 500.0 \n",
      " Worst Fitness: 223.0 \n",
      " Standard Error: 4.466355270002024\n"
     ]
    },
    {
     "name": "stderr",
     "output_type": "stream",
     "text": [
      "Generating Offspring: 100%|██████████████████████████████| 105/105 [00:39<00:00,  2.67it/s]\n",
      "Calculating fitnesses: 100%|█████████████████████████████| 176/176 [00:04<00:00, 36.79it/s]\n"
     ]
    },
    {
     "name": "stdout",
     "output_type": "stream",
     "text": [
      "[Generation: 51] \n",
      " Average Fitness: 358.3636363636364 \n",
      " Best Fitness: 500.0 \n",
      " Worst Fitness: 215.0 \n",
      " Standard Error: 4.978612462755996\n"
     ]
    },
    {
     "name": "stderr",
     "output_type": "stream",
     "text": [
      "Generating Offspring: 100%|██████████████████████████████| 105/105 [00:39<00:00,  2.68it/s]\n",
      "Calculating fitnesses: 100%|█████████████████████████████| 176/176 [00:04<00:00, 35.98it/s]\n"
     ]
    },
    {
     "name": "stdout",
     "output_type": "stream",
     "text": [
      "[Generation: 52] \n",
      " Average Fitness: 364.34090909090907 \n",
      " Best Fitness: 500.0 \n",
      " Worst Fitness: 216.0 \n",
      " Standard Error: 5.201016213935033\n"
     ]
    },
    {
     "name": "stderr",
     "output_type": "stream",
     "text": [
      "Generating Offspring: 100%|██████████████████████████████| 105/105 [00:38<00:00,  2.69it/s]\n",
      "Calculating fitnesses: 100%|█████████████████████████████| 176/176 [00:04<00:00, 35.88it/s]\n"
     ]
    },
    {
     "name": "stdout",
     "output_type": "stream",
     "text": [
      "[Generation: 53] \n",
      " Average Fitness: 364.57954545454544 \n",
      " Best Fitness: 500.0 \n",
      " Worst Fitness: 211.0 \n",
      " Standard Error: 4.824810360190996\n"
     ]
    },
    {
     "name": "stderr",
     "output_type": "stream",
     "text": [
      "Generating Offspring: 100%|██████████████████████████████| 105/105 [00:39<00:00,  2.69it/s]\n",
      "Calculating fitnesses: 100%|█████████████████████████████| 176/176 [00:04<00:00, 36.45it/s]\n"
     ]
    },
    {
     "name": "stdout",
     "output_type": "stream",
     "text": [
      "[Generation: 54] \n",
      " Average Fitness: 362.0625 \n",
      " Best Fitness: 500.0 \n",
      " Worst Fitness: 203.0 \n",
      " Standard Error: 5.245239995809187\n"
     ]
    },
    {
     "name": "stderr",
     "output_type": "stream",
     "text": [
      "Generating Offspring: 100%|██████████████████████████████| 105/105 [00:39<00:00,  2.66it/s]\n",
      "Calculating fitnesses: 100%|█████████████████████████████| 176/176 [00:04<00:00, 35.98it/s]\n"
     ]
    },
    {
     "name": "stdout",
     "output_type": "stream",
     "text": [
      "[Generation: 55] \n",
      " Average Fitness: 367.53409090909093 \n",
      " Best Fitness: 500.0 \n",
      " Worst Fitness: 209.0 \n",
      " Standard Error: 5.269896729607896\n"
     ]
    },
    {
     "name": "stderr",
     "output_type": "stream",
     "text": [
      "Generating Offspring: 100%|██████████████████████████████| 105/105 [00:39<00:00,  2.66it/s]\n",
      "Calculating fitnesses: 100%|█████████████████████████████| 176/176 [00:04<00:00, 35.33it/s]\n"
     ]
    },
    {
     "name": "stdout",
     "output_type": "stream",
     "text": [
      "[Generation: 56] \n",
      " Average Fitness: 369.9488636363636 \n",
      " Best Fitness: 500.0 \n",
      " Worst Fitness: 225.0 \n",
      " Standard Error: 5.319434289607513\n"
     ]
    },
    {
     "name": "stderr",
     "output_type": "stream",
     "text": [
      "Generating Offspring: 100%|██████████████████████████████| 105/105 [00:39<00:00,  2.69it/s]\n",
      "Calculating fitnesses: 100%|█████████████████████████████| 176/176 [00:04<00:00, 36.78it/s]\n"
     ]
    },
    {
     "name": "stdout",
     "output_type": "stream",
     "text": [
      "[Generation: 57] \n",
      " Average Fitness: 361.4318181818182 \n",
      " Best Fitness: 500.0 \n",
      " Worst Fitness: 185.0 \n",
      " Standard Error: 4.943299222370523\n"
     ]
    },
    {
     "name": "stderr",
     "output_type": "stream",
     "text": [
      "Generating Offspring: 100%|██████████████████████████████| 105/105 [00:39<00:00,  2.66it/s]\n",
      "Calculating fitnesses: 100%|█████████████████████████████| 176/176 [00:04<00:00, 35.27it/s]\n"
     ]
    },
    {
     "name": "stdout",
     "output_type": "stream",
     "text": [
      "[Generation: 58] \n",
      " Average Fitness: 371.07954545454544 \n",
      " Best Fitness: 500.0 \n",
      " Worst Fitness: 220.0 \n",
      " Standard Error: 5.030442669722499\n"
     ]
    },
    {
     "name": "stderr",
     "output_type": "stream",
     "text": [
      "Generating Offspring: 100%|██████████████████████████████| 105/105 [00:39<00:00,  2.67it/s]\n",
      "Calculating fitnesses: 100%|█████████████████████████████| 176/176 [00:04<00:00, 37.11it/s]\n"
     ]
    },
    {
     "name": "stdout",
     "output_type": "stream",
     "text": [
      "[Generation: 59] \n",
      " Average Fitness: 357.10227272727275 \n",
      " Best Fitness: 500.0 \n",
      " Worst Fitness: 195.0 \n",
      " Standard Error: 5.013903264374975\n"
     ]
    },
    {
     "name": "stderr",
     "output_type": "stream",
     "text": [
      "Generating Offspring: 100%|██████████████████████████████| 105/105 [00:39<00:00,  2.69it/s]\n",
      "Calculating fitnesses: 100%|█████████████████████████████| 176/176 [00:04<00:00, 36.59it/s]\n"
     ]
    },
    {
     "name": "stdout",
     "output_type": "stream",
     "text": [
      "[Generation: 60] \n",
      " Average Fitness: 360.9488636363636 \n",
      " Best Fitness: 500.0 \n",
      " Worst Fitness: 219.0 \n",
      " Standard Error: 4.737959927894631\n"
     ]
    },
    {
     "name": "stderr",
     "output_type": "stream",
     "text": [
      "Generating Offspring: 100%|██████████████████████████████| 105/105 [00:39<00:00,  2.66it/s]\n",
      "Calculating fitnesses: 100%|█████████████████████████████| 176/176 [00:04<00:00, 36.33it/s]\n"
     ]
    },
    {
     "name": "stdout",
     "output_type": "stream",
     "text": [
      "[Generation: 61] \n",
      " Average Fitness: 359.40340909090907 \n",
      " Best Fitness: 500.0 \n",
      " Worst Fitness: 219.0 \n",
      " Standard Error: 4.736691396759408\n"
     ]
    },
    {
     "name": "stderr",
     "output_type": "stream",
     "text": [
      "Generating Offspring: 100%|██████████████████████████████| 105/105 [00:38<00:00,  2.71it/s]\n",
      "Calculating fitnesses: 100%|█████████████████████████████| 176/176 [00:04<00:00, 36.70it/s]\n"
     ]
    },
    {
     "name": "stdout",
     "output_type": "stream",
     "text": [
      "[Generation: 62] \n",
      " Average Fitness: 358.0681818181818 \n",
      " Best Fitness: 500.0 \n",
      " Worst Fitness: 222.0 \n",
      " Standard Error: 5.280739266607378\n"
     ]
    },
    {
     "name": "stderr",
     "output_type": "stream",
     "text": [
      "Generating Offspring: 100%|██████████████████████████████| 105/105 [00:39<00:00,  2.67it/s]\n",
      "Calculating fitnesses: 100%|█████████████████████████████| 176/176 [00:04<00:00, 36.78it/s]\n"
     ]
    },
    {
     "name": "stdout",
     "output_type": "stream",
     "text": [
      "[Generation: 63] \n",
      " Average Fitness: 360.375 \n",
      " Best Fitness: 500.0 \n",
      " Worst Fitness: 226.0 \n",
      " Standard Error: 4.730535134880372\n"
     ]
    },
    {
     "name": "stderr",
     "output_type": "stream",
     "text": [
      "Generating Offspring: 100%|██████████████████████████████| 105/105 [00:39<00:00,  2.67it/s]\n",
      "Calculating fitnesses: 100%|█████████████████████████████| 176/176 [00:04<00:00, 35.64it/s]\n"
     ]
    },
    {
     "name": "stdout",
     "output_type": "stream",
     "text": [
      "[Generation: 64] \n",
      " Average Fitness: 365.42045454545456 \n",
      " Best Fitness: 500.0 \n",
      " Worst Fitness: 225.0 \n",
      " Standard Error: 4.8368810599837735\n"
     ]
    },
    {
     "name": "stderr",
     "output_type": "stream",
     "text": [
      "Generating Offspring: 100%|██████████████████████████████| 105/105 [00:39<00:00,  2.68it/s]\n",
      "Calculating fitnesses: 100%|█████████████████████████████| 176/176 [00:04<00:00, 37.01it/s]\n"
     ]
    },
    {
     "name": "stdout",
     "output_type": "stream",
     "text": [
      "[Generation: 65] \n",
      " Average Fitness: 357.4261363636364 \n",
      " Best Fitness: 500.0 \n",
      " Worst Fitness: 228.0 \n",
      " Standard Error: 4.631256876093278\n"
     ]
    },
    {
     "name": "stderr",
     "output_type": "stream",
     "text": [
      "Generating Offspring: 100%|██████████████████████████████| 105/105 [00:39<00:00,  2.67it/s]\n",
      "Calculating fitnesses: 100%|█████████████████████████████| 176/176 [00:04<00:00, 36.07it/s]\n"
     ]
    },
    {
     "name": "stdout",
     "output_type": "stream",
     "text": [
      "[Generation: 66] \n",
      " Average Fitness: 364.22159090909093 \n",
      " Best Fitness: 500.0 \n",
      " Worst Fitness: 214.0 \n",
      " Standard Error: 5.227935569916632\n"
     ]
    },
    {
     "name": "stderr",
     "output_type": "stream",
     "text": [
      "Generating Offspring: 100%|██████████████████████████████| 105/105 [00:39<00:00,  2.67it/s]\n",
      "Calculating fitnesses: 100%|█████████████████████████████| 176/176 [00:04<00:00, 35.91it/s]\n"
     ]
    },
    {
     "name": "stdout",
     "output_type": "stream",
     "text": [
      "[Generation: 67] \n",
      " Average Fitness: 362.73295454545456 \n",
      " Best Fitness: 500.0 \n",
      " Worst Fitness: 240.0 \n",
      " Standard Error: 4.544393037578088\n"
     ]
    },
    {
     "name": "stderr",
     "output_type": "stream",
     "text": [
      "Generating Offspring: 100%|██████████████████████████████| 105/105 [00:39<00:00,  2.67it/s]\n",
      "Calculating fitnesses: 100%|█████████████████████████████| 176/176 [00:04<00:00, 35.64it/s]\n"
     ]
    },
    {
     "name": "stdout",
     "output_type": "stream",
     "text": [
      "[Generation: 68] \n",
      " Average Fitness: 368.6193181818182 \n",
      " Best Fitness: 500.0 \n",
      " Worst Fitness: 231.0 \n",
      " Standard Error: 4.992193562831087\n"
     ]
    },
    {
     "name": "stderr",
     "output_type": "stream",
     "text": [
      "Generating Offspring: 100%|██████████████████████████████| 105/105 [00:39<00:00,  2.67it/s]\n",
      "Calculating fitnesses: 100%|█████████████████████████████| 176/176 [00:04<00:00, 36.38it/s]\n"
     ]
    },
    {
     "name": "stdout",
     "output_type": "stream",
     "text": [
      "[Generation: 69] \n",
      " Average Fitness: 357.0681818181818 \n",
      " Best Fitness: 500.0 \n",
      " Worst Fitness: 213.0 \n",
      " Standard Error: 5.117461772607277\n"
     ]
    },
    {
     "name": "stderr",
     "output_type": "stream",
     "text": [
      "Generating Offspring: 100%|██████████████████████████████| 105/105 [00:39<00:00,  2.67it/s]\n",
      "Calculating fitnesses: 100%|█████████████████████████████| 176/176 [00:04<00:00, 35.34it/s]\n"
     ]
    },
    {
     "name": "stdout",
     "output_type": "stream",
     "text": [
      "[Generation: 70] \n",
      " Average Fitness: 367.4488636363636 \n",
      " Best Fitness: 500.0 \n",
      " Worst Fitness: 237.0 \n",
      " Standard Error: 4.747978174535743\n"
     ]
    },
    {
     "name": "stderr",
     "output_type": "stream",
     "text": [
      "Generating Offspring: 100%|██████████████████████████████| 105/105 [00:39<00:00,  2.67it/s]\n",
      "Calculating fitnesses: 100%|█████████████████████████████| 176/176 [00:04<00:00, 35.27it/s]\n"
     ]
    },
    {
     "name": "stdout",
     "output_type": "stream",
     "text": [
      "[Generation: 71] \n",
      " Average Fitness: 371.21022727272725 \n",
      " Best Fitness: 500.0 \n",
      " Worst Fitness: 237.0 \n",
      " Standard Error: 5.168690775947733\n"
     ]
    },
    {
     "name": "stderr",
     "output_type": "stream",
     "text": [
      "Generating Offspring: 100%|██████████████████████████████| 105/105 [00:39<00:00,  2.66it/s]\n",
      "Calculating fitnesses: 100%|█████████████████████████████| 176/176 [00:04<00:00, 36.84it/s]\n"
     ]
    },
    {
     "name": "stdout",
     "output_type": "stream",
     "text": [
      "[Generation: 72] \n",
      " Average Fitness: 355.47159090909093 \n",
      " Best Fitness: 500.0 \n",
      " Worst Fitness: 222.0 \n",
      " Standard Error: 4.869017667915394\n"
     ]
    },
    {
     "name": "stderr",
     "output_type": "stream",
     "text": [
      "Generating Offspring: 100%|██████████████████████████████| 105/105 [00:38<00:00,  2.69it/s]\n",
      "Calculating fitnesses: 100%|█████████████████████████████| 176/176 [00:04<00:00, 36.20it/s]\n"
     ]
    },
    {
     "name": "stdout",
     "output_type": "stream",
     "text": [
      "[Generation: 73] \n",
      " Average Fitness: 361.125 \n",
      " Best Fitness: 500.0 \n",
      " Worst Fitness: 212.0 \n",
      " Standard Error: 5.174058826517122\n"
     ]
    },
    {
     "name": "stderr",
     "output_type": "stream",
     "text": [
      "Generating Offspring: 100%|██████████████████████████████| 105/105 [00:39<00:00,  2.65it/s]\n",
      "Calculating fitnesses: 100%|█████████████████████████████| 176/176 [00:04<00:00, 36.28it/s]\n"
     ]
    },
    {
     "name": "stdout",
     "output_type": "stream",
     "text": [
      "[Generation: 74] \n",
      " Average Fitness: 361.3863636363636 \n",
      " Best Fitness: 500.0 \n",
      " Worst Fitness: 215.0 \n",
      " Standard Error: 4.474631695185212\n"
     ]
    },
    {
     "name": "stderr",
     "output_type": "stream",
     "text": [
      "Generating Offspring: 100%|██████████████████████████████| 105/105 [00:39<00:00,  2.66it/s]\n",
      "Calculating fitnesses: 100%|█████████████████████████████| 176/176 [00:04<00:00, 35.88it/s]\n"
     ]
    },
    {
     "name": "stdout",
     "output_type": "stream",
     "text": [
      "[Generation: 75] \n",
      " Average Fitness: 361.58522727272725 \n",
      " Best Fitness: 500.0 \n",
      " Worst Fitness: 191.0 \n",
      " Standard Error: 5.238062251973434\n"
     ]
    },
    {
     "name": "stderr",
     "output_type": "stream",
     "text": [
      "Generating Offspring: 100%|██████████████████████████████| 105/105 [00:39<00:00,  2.66it/s]\n",
      "Calculating fitnesses: 100%|█████████████████████████████| 176/176 [00:04<00:00, 37.36it/s]\n"
     ]
    },
    {
     "name": "stdout",
     "output_type": "stream",
     "text": [
      "[Generation: 76] \n",
      " Average Fitness: 350.42045454545456 \n",
      " Best Fitness: 500.0 \n",
      " Worst Fitness: 223.0 \n",
      " Standard Error: 4.9007251198285\n"
     ]
    },
    {
     "name": "stderr",
     "output_type": "stream",
     "text": [
      "Generating Offspring: 100%|██████████████████████████████| 105/105 [00:39<00:00,  2.65it/s]\n",
      "Calculating fitnesses: 100%|█████████████████████████████| 176/176 [00:05<00:00, 35.02it/s]\n"
     ]
    },
    {
     "name": "stdout",
     "output_type": "stream",
     "text": [
      "[Generation: 77] \n",
      " Average Fitness: 368.08522727272725 \n",
      " Best Fitness: 500.0 \n",
      " Worst Fitness: 233.0 \n",
      " Standard Error: 4.990307884181659\n"
     ]
    },
    {
     "name": "stderr",
     "output_type": "stream",
     "text": [
      "Generating Offspring: 100%|██████████████████████████████| 105/105 [00:39<00:00,  2.69it/s]\n",
      "Calculating fitnesses: 100%|█████████████████████████████| 176/176 [00:04<00:00, 35.69it/s]\n"
     ]
    },
    {
     "name": "stdout",
     "output_type": "stream",
     "text": [
      "[Generation: 78] \n",
      " Average Fitness: 366.52840909090907 \n",
      " Best Fitness: 500.0 \n",
      " Worst Fitness: 198.0 \n",
      " Standard Error: 5.3869667692078975\n"
     ]
    },
    {
     "name": "stderr",
     "output_type": "stream",
     "text": [
      "Generating Offspring: 100%|██████████████████████████████| 105/105 [00:39<00:00,  2.65it/s]\n",
      "Calculating fitnesses: 100%|█████████████████████████████| 176/176 [00:04<00:00, 36.41it/s]\n"
     ]
    },
    {
     "name": "stdout",
     "output_type": "stream",
     "text": [
      "[Generation: 79] \n",
      " Average Fitness: 362.1306818181818 \n",
      " Best Fitness: 500.0 \n",
      " Worst Fitness: 212.0 \n",
      " Standard Error: 5.240129850918431\n"
     ]
    },
    {
     "name": "stderr",
     "output_type": "stream",
     "text": [
      "Generating Offspring: 100%|██████████████████████████████| 105/105 [00:39<00:00,  2.65it/s]\n",
      "Calculating fitnesses: 100%|█████████████████████████████| 176/176 [00:04<00:00, 35.21it/s]\n"
     ]
    },
    {
     "name": "stdout",
     "output_type": "stream",
     "text": [
      "[Generation: 80] \n",
      " Average Fitness: 368.77840909090907 \n",
      " Best Fitness: 500.0 \n",
      " Worst Fitness: 246.0 \n",
      " Standard Error: 5.011397263338014\n"
     ]
    },
    {
     "name": "stderr",
     "output_type": "stream",
     "text": [
      "Generating Offspring: 100%|██████████████████████████████| 105/105 [00:39<00:00,  2.69it/s]\n",
      "Calculating fitnesses: 100%|█████████████████████████████| 176/176 [00:04<00:00, 35.52it/s]\n"
     ]
    },
    {
     "name": "stdout",
     "output_type": "stream",
     "text": [
      "[Generation: 81] \n",
      " Average Fitness: 369.1136363636364 \n",
      " Best Fitness: 500.0 \n",
      " Worst Fitness: 209.0 \n",
      " Standard Error: 4.7478146964652765\n"
     ]
    },
    {
     "name": "stderr",
     "output_type": "stream",
     "text": [
      "Generating Offspring: 100%|██████████████████████████████| 105/105 [00:39<00:00,  2.63it/s]\n",
      "Calculating fitnesses: 100%|█████████████████████████████| 176/176 [00:04<00:00, 35.78it/s]\n"
     ]
    },
    {
     "name": "stdout",
     "output_type": "stream",
     "text": [
      "[Generation: 82] \n",
      " Average Fitness: 366.14204545454544 \n",
      " Best Fitness: 500.0 \n",
      " Worst Fitness: 10.0 \n",
      " Standard Error: 5.34357682407518\n"
     ]
    },
    {
     "name": "stderr",
     "output_type": "stream",
     "text": [
      "Generating Offspring: 100%|██████████████████████████████| 105/105 [00:39<00:00,  2.68it/s]\n",
      "Calculating fitnesses: 100%|█████████████████████████████| 176/176 [00:04<00:00, 36.42it/s]\n"
     ]
    },
    {
     "name": "stdout",
     "output_type": "stream",
     "text": [
      "[Generation: 83] \n",
      " Average Fitness: 355.8693181818182 \n",
      " Best Fitness: 500.0 \n",
      " Worst Fitness: 221.0 \n",
      " Standard Error: 4.6811170630932235\n"
     ]
    },
    {
     "name": "stderr",
     "output_type": "stream",
     "text": [
      "Generating Offspring: 100%|██████████████████████████████| 105/105 [00:39<00:00,  2.67it/s]\n",
      "Calculating fitnesses: 100%|█████████████████████████████| 176/176 [00:04<00:00, 36.57it/s]\n"
     ]
    },
    {
     "name": "stdout",
     "output_type": "stream",
     "text": [
      "[Generation: 84] \n",
      " Average Fitness: 358.32954545454544 \n",
      " Best Fitness: 500.0 \n",
      " Worst Fitness: 205.0 \n",
      " Standard Error: 5.3035790609702635\n"
     ]
    },
    {
     "name": "stderr",
     "output_type": "stream",
     "text": [
      "Generating Offspring: 100%|██████████████████████████████| 105/105 [00:39<00:00,  2.67it/s]\n",
      "Calculating fitnesses: 100%|█████████████████████████████| 176/176 [00:04<00:00, 36.26it/s]\n"
     ]
    },
    {
     "name": "stdout",
     "output_type": "stream",
     "text": [
      "[Generation: 85] \n",
      " Average Fitness: 358.9375 \n",
      " Best Fitness: 500.0 \n",
      " Worst Fitness: 215.0 \n",
      " Standard Error: 4.968825910144637\n"
     ]
    },
    {
     "name": "stderr",
     "output_type": "stream",
     "text": [
      "Generating Offspring: 100%|██████████████████████████████| 105/105 [00:39<00:00,  2.66it/s]\n",
      "Calculating fitnesses: 100%|█████████████████████████████| 176/176 [00:04<00:00, 35.50it/s]\n"
     ]
    },
    {
     "name": "stdout",
     "output_type": "stream",
     "text": [
      "[Generation: 86] \n",
      " Average Fitness: 367.5 \n",
      " Best Fitness: 500.0 \n",
      " Worst Fitness: 10.0 \n",
      " Standard Error: 5.903944312199975\n"
     ]
    },
    {
     "name": "stderr",
     "output_type": "stream",
     "text": [
      "Generating Offspring: 100%|██████████████████████████████| 105/105 [00:39<00:00,  2.68it/s]\n",
      "Calculating fitnesses: 100%|█████████████████████████████| 176/176 [00:04<00:00, 35.75it/s]\n"
     ]
    },
    {
     "name": "stdout",
     "output_type": "stream",
     "text": [
      "[Generation: 87] \n",
      " Average Fitness: 366.4886363636364 \n",
      " Best Fitness: 500.0 \n",
      " Worst Fitness: 212.0 \n",
      " Standard Error: 5.202234713596484\n"
     ]
    },
    {
     "name": "stderr",
     "output_type": "stream",
     "text": [
      "Generating Offspring: 100%|██████████████████████████████| 105/105 [00:39<00:00,  2.64it/s]\n",
      "Calculating fitnesses: 100%|█████████████████████████████| 176/176 [00:04<00:00, 35.63it/s]\n"
     ]
    },
    {
     "name": "stdout",
     "output_type": "stream",
     "text": [
      "[Generation: 88] \n",
      " Average Fitness: 363.7386363636364 \n",
      " Best Fitness: 500.0 \n",
      " Worst Fitness: 229.0 \n",
      " Standard Error: 4.9488158667382995\n"
     ]
    },
    {
     "name": "stderr",
     "output_type": "stream",
     "text": [
      "Generating Offspring: 100%|██████████████████████████████| 105/105 [00:39<00:00,  2.67it/s]\n",
      "Calculating fitnesses: 100%|█████████████████████████████| 176/176 [00:04<00:00, 35.80it/s]\n"
     ]
    },
    {
     "name": "stdout",
     "output_type": "stream",
     "text": [
      "[Generation: 89] \n",
      " Average Fitness: 365.78409090909093 \n",
      " Best Fitness: 500.0 \n",
      " Worst Fitness: 221.0 \n",
      " Standard Error: 4.857748514655847\n"
     ]
    },
    {
     "name": "stderr",
     "output_type": "stream",
     "text": [
      "Generating Offspring: 100%|██████████████████████████████| 105/105 [00:39<00:00,  2.68it/s]\n",
      "Calculating fitnesses: 100%|█████████████████████████████| 176/176 [00:04<00:00, 36.52it/s]\n"
     ]
    },
    {
     "name": "stdout",
     "output_type": "stream",
     "text": [
      "[Generation: 90] \n",
      " Average Fitness: 362.1193181818182 \n",
      " Best Fitness: 500.0 \n",
      " Worst Fitness: 223.0 \n",
      " Standard Error: 5.280872413899906\n"
     ]
    },
    {
     "name": "stderr",
     "output_type": "stream",
     "text": [
      "Generating Offspring: 100%|██████████████████████████████| 105/105 [00:39<00:00,  2.66it/s]\n",
      "Calculating fitnesses: 100%|█████████████████████████████| 176/176 [00:04<00:00, 35.29it/s]\n"
     ]
    },
    {
     "name": "stdout",
     "output_type": "stream",
     "text": [
      "[Generation: 91] \n",
      " Average Fitness: 368.9318181818182 \n",
      " Best Fitness: 500.0 \n",
      " Worst Fitness: 31.0 \n",
      " Standard Error: 5.154455838795868\n"
     ]
    },
    {
     "name": "stderr",
     "output_type": "stream",
     "text": [
      "Generating Offspring: 100%|██████████████████████████████| 105/105 [00:39<00:00,  2.67it/s]\n",
      "Calculating fitnesses: 100%|█████████████████████████████| 176/176 [00:04<00:00, 36.64it/s]\n"
     ]
    },
    {
     "name": "stdout",
     "output_type": "stream",
     "text": [
      "[Generation: 92] \n",
      " Average Fitness: 358.27840909090907 \n",
      " Best Fitness: 500.0 \n",
      " Worst Fitness: 218.0 \n",
      " Standard Error: 5.4254910543048895\n"
     ]
    },
    {
     "name": "stderr",
     "output_type": "stream",
     "text": [
      "Generating Offspring: 100%|██████████████████████████████| 105/105 [00:39<00:00,  2.68it/s]\n",
      "Calculating fitnesses: 100%|█████████████████████████████| 176/176 [00:04<00:00, 36.25it/s]\n"
     ]
    },
    {
     "name": "stdout",
     "output_type": "stream",
     "text": [
      "[Generation: 93] \n",
      " Average Fitness: 361.6818181818182 \n",
      " Best Fitness: 500.0 \n",
      " Worst Fitness: 229.0 \n",
      " Standard Error: 4.694443322799833\n"
     ]
    },
    {
     "name": "stderr",
     "output_type": "stream",
     "text": [
      "Generating Offspring: 100%|██████████████████████████████| 105/105 [00:39<00:00,  2.66it/s]\n",
      "Calculating fitnesses: 100%|█████████████████████████████| 176/176 [00:04<00:00, 36.21it/s]\n"
     ]
    },
    {
     "name": "stdout",
     "output_type": "stream",
     "text": [
      "[Generation: 94] \n",
      " Average Fitness: 358.53409090909093 \n",
      " Best Fitness: 500.0 \n",
      " Worst Fitness: 226.0 \n",
      " Standard Error: 4.838407606238712\n"
     ]
    },
    {
     "name": "stderr",
     "output_type": "stream",
     "text": [
      "Generating Offspring: 100%|██████████████████████████████| 105/105 [00:39<00:00,  2.67it/s]\n",
      "Calculating fitnesses: 100%|█████████████████████████████| 176/176 [00:04<00:00, 36.95it/s]\n"
     ]
    },
    {
     "name": "stdout",
     "output_type": "stream",
     "text": [
      "[Generation: 95] \n",
      " Average Fitness: 354.27840909090907 \n",
      " Best Fitness: 500.0 \n",
      " Worst Fitness: 210.0 \n",
      " Standard Error: 5.434483923796695\n"
     ]
    },
    {
     "name": "stderr",
     "output_type": "stream",
     "text": [
      "Generating Offspring: 100%|██████████████████████████████| 105/105 [00:38<00:00,  2.70it/s]\n"
     ]
    },
    {
     "name": "stdout",
     "output_type": "stream",
     "text": [
      "| \u001b[95m8        \u001b[0m | \u001b[95m490.2    \u001b[0m | \u001b[95m71.02    \u001b[0m | \u001b[95m95.04    \u001b[0m | \u001b[95m1.0      \u001b[0m | \u001b[95m1.0      \u001b[0m | \u001b[95m176.7    \u001b[0m | \u001b[95m12.33    \u001b[0m |\n"
     ]
    },
    {
     "name": "stderr",
     "output_type": "stream",
     "text": [
      "Calculating fitnesses: 100%|████████████████████████████| 206/206 [00:00<00:00, 531.81it/s]\n"
     ]
    },
    {
     "name": "stdout",
     "output_type": "stream",
     "text": [
      "[Generation: 1] \n",
      " Average Fitness: 21.660194174757283 \n",
      " Best Fitness: 60.0 \n",
      " Worst Fitness: 9.0 \n",
      " Standard Error: 0.7266812769321478\n"
     ]
    },
    {
     "name": "stderr",
     "output_type": "stream",
     "text": [
      "Generating Offspring: 100%|██████████████████████████████| 105/105 [00:05<00:00, 19.50it/s]\n",
      "Calculating fitnesses: 100%|████████████████████████████| 206/206 [00:00<00:00, 606.04it/s]\n"
     ]
    },
    {
     "name": "stdout",
     "output_type": "stream",
     "text": [
      "[Generation: 2] \n",
      " Average Fitness: 22.131067961165048 \n",
      " Best Fitness: 278.0 \n",
      " Worst Fitness: 8.0 \n",
      " Standard Error: 1.9337442510426883\n"
     ]
    },
    {
     "name": "stderr",
     "output_type": "stream",
     "text": [
      "Generating Offspring: 100%|██████████████████████████████| 105/105 [00:06<00:00, 16.78it/s]\n",
      "Calculating fitnesses: 100%|████████████████████████████| 206/206 [00:01<00:00, 192.74it/s]\n"
     ]
    },
    {
     "name": "stdout",
     "output_type": "stream",
     "text": [
      "[Generation: 3] \n",
      " Average Fitness: 69.60194174757281 \n",
      " Best Fitness: 394.0 \n",
      " Worst Fitness: 8.0 \n",
      " Standard Error: 6.196779772260644\n"
     ]
    },
    {
     "name": "stderr",
     "output_type": "stream",
     "text": [
      "Generating Offspring: 100%|██████████████████████████████| 105/105 [00:20<00:00,  5.11it/s]\n",
      "Calculating fitnesses: 100%|█████████████████████████████| 206/206 [00:03<00:00, 59.45it/s]\n"
     ]
    },
    {
     "name": "stdout",
     "output_type": "stream",
     "text": [
      "[Generation: 4] \n",
      " Average Fitness: 220.44660194174756 \n",
      " Best Fitness: 451.0 \n",
      " Worst Fitness: 9.0 \n",
      " Standard Error: 9.872237246948481\n"
     ]
    },
    {
     "name": "stderr",
     "output_type": "stream",
     "text": [
      "Generating Offspring: 100%|██████████████████████████████| 105/105 [00:57<00:00,  1.83it/s]\n",
      "Calculating fitnesses: 100%|█████████████████████████████| 206/206 [00:05<00:00, 37.02it/s]\n"
     ]
    },
    {
     "name": "stdout",
     "output_type": "stream",
     "text": [
      "[Generation: 5] \n",
      " Average Fitness: 351.90291262135923 \n",
      " Best Fitness: 459.0 \n",
      " Worst Fitness: 89.0 \n",
      " Standard Error: 3.8200031188344568\n"
     ]
    },
    {
     "name": "stderr",
     "output_type": "stream",
     "text": [
      "Generating Offspring: 100%|██████████████████████████████| 105/105 [01:28<00:00,  1.19it/s]\n",
      "Calculating fitnesses: 100%|█████████████████████████████| 206/206 [00:05<00:00, 36.84it/s]\n"
     ]
    },
    {
     "name": "stdout",
     "output_type": "stream",
     "text": [
      "[Generation: 6] \n",
      " Average Fitness: 357.1116504854369 \n",
      " Best Fitness: 443.0 \n",
      " Worst Fitness: 245.0 \n",
      " Standard Error: 3.407185620659806\n"
     ]
    },
    {
     "name": "stderr",
     "output_type": "stream",
     "text": [
      "Generating Offspring: 100%|██████████████████████████████| 105/105 [01:29<00:00,  1.17it/s]\n",
      "Calculating fitnesses: 100%|█████████████████████████████| 206/206 [00:05<00:00, 38.35it/s]\n"
     ]
    },
    {
     "name": "stdout",
     "output_type": "stream",
     "text": [
      "[Generation: 7] \n",
      " Average Fitness: 340.1116504854369 \n",
      " Best Fitness: 427.0 \n",
      " Worst Fitness: 180.0 \n",
      " Standard Error: 3.7306559472563685\n"
     ]
    },
    {
     "name": "stderr",
     "output_type": "stream",
     "text": [
      "Generating Offspring: 100%|██████████████████████████████| 105/105 [01:29<00:00,  1.17it/s]\n",
      "Calculating fitnesses: 100%|█████████████████████████████| 206/206 [00:05<00:00, 37.10it/s]\n"
     ]
    },
    {
     "name": "stdout",
     "output_type": "stream",
     "text": [
      "[Generation: 8] \n",
      " Average Fitness: 351.99514563106794 \n",
      " Best Fitness: 451.0 \n",
      " Worst Fitness: 251.0 \n",
      " Standard Error: 3.562356785413134\n"
     ]
    },
    {
     "name": "stderr",
     "output_type": "stream",
     "text": [
      "Generating Offspring: 100%|██████████████████████████████| 105/105 [01:28<00:00,  1.18it/s]\n",
      "Calculating fitnesses: 100%|█████████████████████████████| 206/206 [00:05<00:00, 37.49it/s]\n"
     ]
    },
    {
     "name": "stdout",
     "output_type": "stream",
     "text": [
      "[Generation: 9] \n",
      " Average Fitness: 350.8398058252427 \n",
      " Best Fitness: 432.0 \n",
      " Worst Fitness: 247.0 \n",
      " Standard Error: 3.6264666122548963\n"
     ]
    },
    {
     "name": "stderr",
     "output_type": "stream",
     "text": [
      "Generating Offspring: 100%|██████████████████████████████| 105/105 [01:29<00:00,  1.18it/s]\n",
      "Calculating fitnesses: 100%|█████████████████████████████| 206/206 [00:05<00:00, 37.32it/s]\n"
     ]
    },
    {
     "name": "stdout",
     "output_type": "stream",
     "text": [
      "[Generation: 10] \n",
      " Average Fitness: 350.252427184466 \n",
      " Best Fitness: 423.0 \n",
      " Worst Fitness: 244.0 \n",
      " Standard Error: 3.4311566890933873\n"
     ]
    },
    {
     "name": "stderr",
     "output_type": "stream",
     "text": [
      "Generating Offspring: 100%|██████████████████████████████| 105/105 [01:28<00:00,  1.18it/s]\n",
      "Calculating fitnesses: 100%|█████████████████████████████| 206/206 [00:05<00:00, 36.86it/s]\n"
     ]
    },
    {
     "name": "stdout",
     "output_type": "stream",
     "text": [
      "[Generation: 11] \n",
      " Average Fitness: 353.68446601941747 \n",
      " Best Fitness: 458.0 \n",
      " Worst Fitness: 248.0 \n",
      " Standard Error: 3.593869890289859\n"
     ]
    },
    {
     "name": "stderr",
     "output_type": "stream",
     "text": [
      "Generating Offspring: 100%|██████████████████████████████| 105/105 [01:29<00:00,  1.18it/s]\n",
      "Calculating fitnesses: 100%|█████████████████████████████| 206/206 [00:05<00:00, 36.52it/s]\n"
     ]
    },
    {
     "name": "stdout",
     "output_type": "stream",
     "text": [
      "[Generation: 12] \n",
      " Average Fitness: 359.86407766990294 \n",
      " Best Fitness: 452.0 \n",
      " Worst Fitness: 245.0 \n",
      " Standard Error: 3.339167578574262\n"
     ]
    },
    {
     "name": "stderr",
     "output_type": "stream",
     "text": [
      "Generating Offspring: 100%|██████████████████████████████| 105/105 [01:29<00:00,  1.18it/s]\n",
      "Calculating fitnesses: 100%|█████████████████████████████| 206/206 [00:05<00:00, 37.03it/s]\n"
     ]
    },
    {
     "name": "stdout",
     "output_type": "stream",
     "text": [
      "[Generation: 13] \n",
      " Average Fitness: 352.8349514563107 \n",
      " Best Fitness: 450.0 \n",
      " Worst Fitness: 241.0 \n",
      " Standard Error: 3.72184159558751\n"
     ]
    },
    {
     "name": "stderr",
     "output_type": "stream",
     "text": [
      "Generating Offspring: 100%|██████████████████████████████| 105/105 [01:29<00:00,  1.18it/s]\n",
      "Calculating fitnesses: 100%|█████████████████████████████| 206/206 [00:05<00:00, 36.63it/s]\n"
     ]
    },
    {
     "name": "stdout",
     "output_type": "stream",
     "text": [
      "[Generation: 14] \n",
      " Average Fitness: 356.2135922330097 \n",
      " Best Fitness: 427.0 \n",
      " Worst Fitness: 246.0 \n",
      " Standard Error: 3.4401709654336146\n"
     ]
    },
    {
     "name": "stderr",
     "output_type": "stream",
     "text": [
      "Generating Offspring: 100%|██████████████████████████████| 105/105 [01:29<00:00,  1.18it/s]\n",
      "Calculating fitnesses: 100%|█████████████████████████████| 206/206 [00:05<00:00, 36.70it/s]\n"
     ]
    },
    {
     "name": "stdout",
     "output_type": "stream",
     "text": [
      "[Generation: 15] \n",
      " Average Fitness: 355.8980582524272 \n",
      " Best Fitness: 445.0 \n",
      " Worst Fitness: 244.0 \n",
      " Standard Error: 3.315642427660986\n"
     ]
    },
    {
     "name": "stderr",
     "output_type": "stream",
     "text": [
      "Generating Offspring: 100%|██████████████████████████████| 105/105 [01:29<00:00,  1.18it/s]\n",
      "Calculating fitnesses: 100%|█████████████████████████████| 206/206 [00:05<00:00, 37.45it/s]\n"
     ]
    },
    {
     "name": "stdout",
     "output_type": "stream",
     "text": [
      "[Generation: 16] \n",
      " Average Fitness: 347.93689320388347 \n",
      " Best Fitness: 453.0 \n",
      " Worst Fitness: 240.0 \n",
      " Standard Error: 3.7521425866203897\n"
     ]
    },
    {
     "name": "stderr",
     "output_type": "stream",
     "text": [
      "Generating Offspring: 100%|██████████████████████████████| 105/105 [01:28<00:00,  1.19it/s]\n",
      "Calculating fitnesses: 100%|█████████████████████████████| 206/206 [00:05<00:00, 36.92it/s]\n"
     ]
    },
    {
     "name": "stdout",
     "output_type": "stream",
     "text": [
      "[Generation: 17] \n",
      " Average Fitness: 353.43689320388347 \n",
      " Best Fitness: 439.0 \n",
      " Worst Fitness: 246.0 \n",
      " Standard Error: 3.4599863519338236\n"
     ]
    },
    {
     "name": "stderr",
     "output_type": "stream",
     "text": [
      "Generating Offspring: 100%|██████████████████████████████| 105/105 [01:28<00:00,  1.18it/s]\n",
      "Calculating fitnesses: 100%|█████████████████████████████| 206/206 [00:05<00:00, 37.15it/s]\n"
     ]
    },
    {
     "name": "stdout",
     "output_type": "stream",
     "text": [
      "[Generation: 18] \n",
      " Average Fitness: 351.2281553398058 \n",
      " Best Fitness: 460.0 \n",
      " Worst Fitness: 241.0 \n",
      " Standard Error: 3.626905916035769\n"
     ]
    },
    {
     "name": "stderr",
     "output_type": "stream",
     "text": [
      "Generating Offspring: 100%|██████████████████████████████| 105/105 [01:29<00:00,  1.17it/s]\n",
      "Calculating fitnesses: 100%|█████████████████████████████| 206/206 [00:05<00:00, 37.33it/s]\n"
     ]
    },
    {
     "name": "stdout",
     "output_type": "stream",
     "text": [
      "[Generation: 19] \n",
      " Average Fitness: 351.31067961165047 \n",
      " Best Fitness: 449.0 \n",
      " Worst Fitness: 249.0 \n",
      " Standard Error: 3.5059102917545277\n"
     ]
    },
    {
     "name": "stderr",
     "output_type": "stream",
     "text": [
      "Generating Offspring: 100%|██████████████████████████████| 105/105 [01:29<00:00,  1.18it/s]\n",
      "Calculating fitnesses: 100%|█████████████████████████████| 206/206 [00:05<00:00, 37.36it/s]\n"
     ]
    },
    {
     "name": "stdout",
     "output_type": "stream",
     "text": [
      "[Generation: 20] \n",
      " Average Fitness: 352.00970873786406 \n",
      " Best Fitness: 444.0 \n",
      " Worst Fitness: 249.0 \n",
      " Standard Error: 3.533634540544134\n"
     ]
    },
    {
     "name": "stderr",
     "output_type": "stream",
     "text": [
      "Generating Offspring: 100%|██████████████████████████████| 105/105 [01:29<00:00,  1.18it/s]\n",
      "Calculating fitnesses: 100%|█████████████████████████████| 206/206 [00:05<00:00, 37.06it/s]\n"
     ]
    },
    {
     "name": "stdout",
     "output_type": "stream",
     "text": [
      "[Generation: 21] \n",
      " Average Fitness: 351.2864077669903 \n",
      " Best Fitness: 431.0 \n",
      " Worst Fitness: 249.0 \n",
      " Standard Error: 3.396882936689605\n"
     ]
    },
    {
     "name": "stderr",
     "output_type": "stream",
     "text": [
      "Generating Offspring: 100%|██████████████████████████████| 105/105 [01:29<00:00,  1.18it/s]\n",
      "Calculating fitnesses: 100%|█████████████████████████████| 206/206 [00:05<00:00, 37.74it/s]\n"
     ]
    },
    {
     "name": "stdout",
     "output_type": "stream",
     "text": [
      "[Generation: 22] \n",
      " Average Fitness: 347.1990291262136 \n",
      " Best Fitness: 441.0 \n",
      " Worst Fitness: 249.0 \n",
      " Standard Error: 3.5732411185181108\n"
     ]
    },
    {
     "name": "stderr",
     "output_type": "stream",
     "text": [
      "Generating Offspring: 100%|██████████████████████████████| 105/105 [01:28<00:00,  1.18it/s]\n",
      "Calculating fitnesses: 100%|█████████████████████████████| 206/206 [00:05<00:00, 37.01it/s]\n"
     ]
    },
    {
     "name": "stdout",
     "output_type": "stream",
     "text": [
      "[Generation: 23] \n",
      " Average Fitness: 355.79611650485435 \n",
      " Best Fitness: 442.0 \n",
      " Worst Fitness: 251.0 \n",
      " Standard Error: 3.474965223304822\n"
     ]
    },
    {
     "name": "stderr",
     "output_type": "stream",
     "text": [
      "Generating Offspring: 100%|██████████████████████████████| 105/105 [01:29<00:00,  1.18it/s]\n",
      "Calculating fitnesses: 100%|█████████████████████████████| 206/206 [00:05<00:00, 36.76it/s]\n"
     ]
    },
    {
     "name": "stdout",
     "output_type": "stream",
     "text": [
      "[Generation: 24] \n",
      " Average Fitness: 352.3203883495146 \n",
      " Best Fitness: 452.0 \n",
      " Worst Fitness: 244.0 \n",
      " Standard Error: 3.611171573308511\n"
     ]
    },
    {
     "name": "stderr",
     "output_type": "stream",
     "text": [
      "Generating Offspring: 100%|██████████████████████████████| 105/105 [01:28<00:00,  1.18it/s]\n",
      "Calculating fitnesses: 100%|█████████████████████████████| 206/206 [00:05<00:00, 36.66it/s]\n"
     ]
    },
    {
     "name": "stdout",
     "output_type": "stream",
     "text": [
      "[Generation: 25] \n",
      " Average Fitness: 355.11650485436894 \n",
      " Best Fitness: 441.0 \n",
      " Worst Fitness: 246.0 \n",
      " Standard Error: 3.421786710589322\n"
     ]
    },
    {
     "name": "stderr",
     "output_type": "stream",
     "text": [
      "Generating Offspring: 100%|██████████████████████████████| 105/105 [01:29<00:00,  1.18it/s]\n",
      "Calculating fitnesses: 100%|█████████████████████████████| 206/206 [00:05<00:00, 37.11it/s]\n"
     ]
    },
    {
     "name": "stdout",
     "output_type": "stream",
     "text": [
      "[Generation: 26] \n",
      " Average Fitness: 353.95631067961165 \n",
      " Best Fitness: 448.0 \n",
      " Worst Fitness: 249.0 \n",
      " Standard Error: 3.5267745781156643\n"
     ]
    },
    {
     "name": "stderr",
     "output_type": "stream",
     "text": [
      "Generating Offspring: 100%|██████████████████████████████| 105/105 [01:29<00:00,  1.18it/s]\n",
      "Calculating fitnesses: 100%|█████████████████████████████| 206/206 [00:05<00:00, 37.00it/s]\n"
     ]
    },
    {
     "name": "stdout",
     "output_type": "stream",
     "text": [
      "[Generation: 27] \n",
      " Average Fitness: 351.5388349514563 \n",
      " Best Fitness: 487.0 \n",
      " Worst Fitness: 254.0 \n",
      " Standard Error: 3.553538921444094\n"
     ]
    },
    {
     "name": "stderr",
     "output_type": "stream",
     "text": [
      "Generating Offspring: 100%|██████████████████████████████| 105/105 [01:29<00:00,  1.17it/s]\n",
      "Calculating fitnesses: 100%|█████████████████████████████| 206/206 [00:05<00:00, 37.72it/s]\n"
     ]
    },
    {
     "name": "stdout",
     "output_type": "stream",
     "text": [
      "[Generation: 28] \n",
      " Average Fitness: 348.9466019417476 \n",
      " Best Fitness: 455.0 \n",
      " Worst Fitness: 244.0 \n",
      " Standard Error: 3.6700863485560435\n"
     ]
    },
    {
     "name": "stderr",
     "output_type": "stream",
     "text": [
      "Generating Offspring: 100%|██████████████████████████████| 105/105 [01:29<00:00,  1.18it/s]\n",
      "Calculating fitnesses: 100%|█████████████████████████████| 206/206 [00:05<00:00, 37.47it/s]\n"
     ]
    },
    {
     "name": "stdout",
     "output_type": "stream",
     "text": [
      "[Generation: 29] \n",
      " Average Fitness: 352.70873786407765 \n",
      " Best Fitness: 425.0 \n",
      " Worst Fitness: 251.0 \n",
      " Standard Error: 3.458158012305615\n"
     ]
    },
    {
     "name": "stderr",
     "output_type": "stream",
     "text": [
      "Generating Offspring: 100%|██████████████████████████████| 105/105 [01:28<00:00,  1.18it/s]\n",
      "Calculating fitnesses: 100%|█████████████████████████████| 206/206 [00:05<00:00, 36.76it/s]\n"
     ]
    },
    {
     "name": "stdout",
     "output_type": "stream",
     "text": [
      "[Generation: 30] \n",
      " Average Fitness: 354.68446601941747 \n",
      " Best Fitness: 471.0 \n",
      " Worst Fitness: 248.0 \n",
      " Standard Error: 3.5291972198512487\n"
     ]
    },
    {
     "name": "stderr",
     "output_type": "stream",
     "text": [
      "Generating Offspring: 100%|██████████████████████████████| 105/105 [01:29<00:00,  1.18it/s]\n",
      "Calculating fitnesses: 100%|█████████████████████████████| 206/206 [00:05<00:00, 37.00it/s]\n"
     ]
    },
    {
     "name": "stdout",
     "output_type": "stream",
     "text": [
      "[Generation: 31] \n",
      " Average Fitness: 354.4126213592233 \n",
      " Best Fitness: 462.0 \n",
      " Worst Fitness: 253.0 \n",
      " Standard Error: 3.500657653393504\n"
     ]
    },
    {
     "name": "stderr",
     "output_type": "stream",
     "text": [
      "Generating Offspring: 100%|██████████████████████████████| 105/105 [01:29<00:00,  1.18it/s]\n",
      "Calculating fitnesses: 100%|█████████████████████████████| 206/206 [00:05<00:00, 37.39it/s]\n"
     ]
    },
    {
     "name": "stdout",
     "output_type": "stream",
     "text": [
      "[Generation: 32] \n",
      " Average Fitness: 351.72330097087377 \n",
      " Best Fitness: 426.0 \n",
      " Worst Fitness: 250.0 \n",
      " Standard Error: 3.5846293149344692\n"
     ]
    },
    {
     "name": "stderr",
     "output_type": "stream",
     "text": [
      "Generating Offspring: 100%|██████████████████████████████| 105/105 [01:29<00:00,  1.17it/s]\n",
      "Calculating fitnesses: 100%|█████████████████████████████| 206/206 [00:05<00:00, 37.50it/s]\n"
     ]
    },
    {
     "name": "stdout",
     "output_type": "stream",
     "text": [
      "[Generation: 33] \n",
      " Average Fitness: 350.2669902912621 \n",
      " Best Fitness: 451.0 \n",
      " Worst Fitness: 248.0 \n",
      " Standard Error: 3.6839191272040424\n"
     ]
    },
    {
     "name": "stderr",
     "output_type": "stream",
     "text": [
      "Generating Offspring: 100%|██████████████████████████████| 105/105 [01:29<00:00,  1.18it/s]\n",
      "Calculating fitnesses: 100%|█████████████████████████████| 206/206 [00:05<00:00, 37.26it/s]\n"
     ]
    },
    {
     "name": "stdout",
     "output_type": "stream",
     "text": [
      "[Generation: 34] \n",
      " Average Fitness: 352.378640776699 \n",
      " Best Fitness: 430.0 \n",
      " Worst Fitness: 256.0 \n",
      " Standard Error: 3.3594173195596815\n"
     ]
    },
    {
     "name": "stderr",
     "output_type": "stream",
     "text": [
      "Generating Offspring: 100%|██████████████████████████████| 105/105 [01:29<00:00,  1.18it/s]\n",
      "Calculating fitnesses: 100%|█████████████████████████████| 206/206 [00:05<00:00, 37.52it/s]\n"
     ]
    },
    {
     "name": "stdout",
     "output_type": "stream",
     "text": [
      "[Generation: 35] \n",
      " Average Fitness: 347.4805825242718 \n",
      " Best Fitness: 449.0 \n",
      " Worst Fitness: 243.0 \n",
      " Standard Error: 3.7714527185291358\n"
     ]
    },
    {
     "name": "stderr",
     "output_type": "stream",
     "text": [
      "Generating Offspring: 100%|██████████████████████████████| 105/105 [01:29<00:00,  1.18it/s]\n",
      "Calculating fitnesses: 100%|█████████████████████████████| 206/206 [00:05<00:00, 37.35it/s]\n"
     ]
    },
    {
     "name": "stdout",
     "output_type": "stream",
     "text": [
      "[Generation: 36] \n",
      " Average Fitness: 351.07766990291265 \n",
      " Best Fitness: 447.0 \n",
      " Worst Fitness: 251.0 \n",
      " Standard Error: 3.515941696987121\n"
     ]
    },
    {
     "name": "stderr",
     "output_type": "stream",
     "text": [
      "Generating Offspring: 100%|██████████████████████████████| 105/105 [01:28<00:00,  1.18it/s]\n",
      "Calculating fitnesses: 100%|█████████████████████████████| 206/206 [00:05<00:00, 37.00it/s]\n"
     ]
    },
    {
     "name": "stdout",
     "output_type": "stream",
     "text": [
      "[Generation: 37] \n",
      " Average Fitness: 354.6650485436893 \n",
      " Best Fitness: 447.0 \n",
      " Worst Fitness: 245.0 \n",
      " Standard Error: 3.201689290188059\n"
     ]
    },
    {
     "name": "stderr",
     "output_type": "stream",
     "text": [
      "Generating Offspring: 100%|██████████████████████████████| 105/105 [01:28<00:00,  1.18it/s]\n",
      "Calculating fitnesses: 100%|█████████████████████████████| 206/206 [00:05<00:00, 37.24it/s]\n"
     ]
    },
    {
     "name": "stdout",
     "output_type": "stream",
     "text": [
      "[Generation: 38] \n",
      " Average Fitness: 352.8543689320388 \n",
      " Best Fitness: 454.0 \n",
      " Worst Fitness: 253.0 \n",
      " Standard Error: 3.519956404146728\n"
     ]
    },
    {
     "name": "stderr",
     "output_type": "stream",
     "text": [
      "Generating Offspring: 100%|██████████████████████████████| 105/105 [01:29<00:00,  1.17it/s]\n",
      "Calculating fitnesses: 100%|█████████████████████████████| 206/206 [00:05<00:00, 37.31it/s]\n"
     ]
    },
    {
     "name": "stdout",
     "output_type": "stream",
     "text": [
      "[Generation: 39] \n",
      " Average Fitness: 348.50970873786406 \n",
      " Best Fitness: 422.0 \n",
      " Worst Fitness: 248.0 \n",
      " Standard Error: 3.595170941494708\n"
     ]
    },
    {
     "name": "stderr",
     "output_type": "stream",
     "text": [
      "Generating Offspring: 100%|██████████████████████████████| 105/105 [01:29<00:00,  1.18it/s]\n",
      "Calculating fitnesses: 100%|█████████████████████████████| 206/206 [00:05<00:00, 36.90it/s]\n"
     ]
    },
    {
     "name": "stdout",
     "output_type": "stream",
     "text": [
      "[Generation: 40] \n",
      " Average Fitness: 356.4660194174757 \n",
      " Best Fitness: 445.0 \n",
      " Worst Fitness: 249.0 \n",
      " Standard Error: 3.23327501170994\n"
     ]
    },
    {
     "name": "stderr",
     "output_type": "stream",
     "text": [
      "Generating Offspring: 100%|██████████████████████████████| 105/105 [01:29<00:00,  1.18it/s]\n",
      "Calculating fitnesses: 100%|█████████████████████████████| 206/206 [00:05<00:00, 37.46it/s]\n"
     ]
    },
    {
     "name": "stdout",
     "output_type": "stream",
     "text": [
      "[Generation: 41] \n",
      " Average Fitness: 347.5 \n",
      " Best Fitness: 443.0 \n",
      " Worst Fitness: 246.0 \n",
      " Standard Error: 3.6392416844567714\n"
     ]
    },
    {
     "name": "stderr",
     "output_type": "stream",
     "text": [
      "Generating Offspring: 100%|██████████████████████████████| 105/105 [01:29<00:00,  1.17it/s]\n",
      "Calculating fitnesses: 100%|█████████████████████████████| 206/206 [00:05<00:00, 37.41it/s]\n"
     ]
    },
    {
     "name": "stdout",
     "output_type": "stream",
     "text": [
      "[Generation: 42] \n",
      " Average Fitness: 348.5145631067961 \n",
      " Best Fitness: 430.0 \n",
      " Worst Fitness: 248.0 \n",
      " Standard Error: 3.7025231437359123\n"
     ]
    },
    {
     "name": "stderr",
     "output_type": "stream",
     "text": [
      "Generating Offspring: 100%|██████████████████████████████| 105/105 [01:29<00:00,  1.18it/s]\n",
      "Calculating fitnesses: 100%|█████████████████████████████| 206/206 [00:05<00:00, 37.45it/s]\n"
     ]
    },
    {
     "name": "stdout",
     "output_type": "stream",
     "text": [
      "[Generation: 43] \n",
      " Average Fitness: 350.29611650485435 \n",
      " Best Fitness: 429.0 \n",
      " Worst Fitness: 248.0 \n",
      " Standard Error: 3.585625711459008\n"
     ]
    },
    {
     "name": "stderr",
     "output_type": "stream",
     "text": [
      "Generating Offspring: 100%|██████████████████████████████| 105/105 [01:29<00:00,  1.17it/s]\n",
      "Calculating fitnesses: 100%|█████████████████████████████| 206/206 [00:05<00:00, 36.54it/s]\n"
     ]
    },
    {
     "name": "stdout",
     "output_type": "stream",
     "text": [
      "[Generation: 44] \n",
      " Average Fitness: 356.752427184466 \n",
      " Best Fitness: 439.0 \n",
      " Worst Fitness: 249.0 \n",
      " Standard Error: 3.2707791218740723\n"
     ]
    },
    {
     "name": "stderr",
     "output_type": "stream",
     "text": [
      "Generating Offspring: 100%|██████████████████████████████| 105/105 [01:29<00:00,  1.17it/s]\n",
      "Calculating fitnesses: 100%|█████████████████████████████| 206/206 [00:05<00:00, 37.04it/s]\n"
     ]
    },
    {
     "name": "stdout",
     "output_type": "stream",
     "text": [
      "[Generation: 45] \n",
      " Average Fitness: 353.99514563106794 \n",
      " Best Fitness: 437.0 \n",
      " Worst Fitness: 248.0 \n",
      " Standard Error: 3.494927128303035\n"
     ]
    },
    {
     "name": "stderr",
     "output_type": "stream",
     "text": [
      "Generating Offspring: 100%|██████████████████████████████| 105/105 [01:28<00:00,  1.18it/s]\n",
      "Calculating fitnesses: 100%|█████████████████████████████| 206/206 [00:05<00:00, 36.89it/s]\n"
     ]
    },
    {
     "name": "stdout",
     "output_type": "stream",
     "text": [
      "[Generation: 46] \n",
      " Average Fitness: 356.44174757281553 \n",
      " Best Fitness: 455.0 \n",
      " Worst Fitness: 249.0 \n",
      " Standard Error: 3.4336607390398135\n"
     ]
    },
    {
     "name": "stderr",
     "output_type": "stream",
     "text": [
      "Generating Offspring: 100%|██████████████████████████████| 105/105 [01:29<00:00,  1.17it/s]\n",
      "Calculating fitnesses: 100%|█████████████████████████████| 206/206 [00:05<00:00, 36.78it/s]\n"
     ]
    },
    {
     "name": "stdout",
     "output_type": "stream",
     "text": [
      "[Generation: 47] \n",
      " Average Fitness: 354.5242718446602 \n",
      " Best Fitness: 437.0 \n",
      " Worst Fitness: 247.0 \n",
      " Standard Error: 3.5371623333545785\n"
     ]
    },
    {
     "name": "stderr",
     "output_type": "stream",
     "text": [
      "Generating Offspring: 100%|██████████████████████████████| 105/105 [01:29<00:00,  1.17it/s]\n",
      "Calculating fitnesses: 100%|█████████████████████████████| 206/206 [00:05<00:00, 36.59it/s]\n"
     ]
    },
    {
     "name": "stdout",
     "output_type": "stream",
     "text": [
      "[Generation: 48] \n",
      " Average Fitness: 358.9271844660194 \n",
      " Best Fitness: 452.0 \n",
      " Worst Fitness: 251.0 \n",
      " Standard Error: 3.244171471758496\n"
     ]
    },
    {
     "name": "stderr",
     "output_type": "stream",
     "text": [
      "Generating Offspring: 100%|██████████████████████████████| 105/105 [01:28<00:00,  1.19it/s]\n",
      "Calculating fitnesses: 100%|█████████████████████████████| 206/206 [00:05<00:00, 36.91it/s]\n"
     ]
    },
    {
     "name": "stdout",
     "output_type": "stream",
     "text": [
      "[Generation: 49] \n",
      " Average Fitness: 353.3543689320388 \n",
      " Best Fitness: 447.0 \n",
      " Worst Fitness: 250.0 \n",
      " Standard Error: 3.6203150168089056\n"
     ]
    },
    {
     "name": "stderr",
     "output_type": "stream",
     "text": [
      "Generating Offspring: 100%|██████████████████████████████| 105/105 [01:29<00:00,  1.18it/s]\n",
      "Calculating fitnesses: 100%|█████████████████████████████| 206/206 [00:05<00:00, 36.76it/s]\n"
     ]
    },
    {
     "name": "stdout",
     "output_type": "stream",
     "text": [
      "[Generation: 50] \n",
      " Average Fitness: 354.93203883495147 \n",
      " Best Fitness: 439.0 \n",
      " Worst Fitness: 250.0 \n",
      " Standard Error: 3.421024853415108\n"
     ]
    },
    {
     "name": "stderr",
     "output_type": "stream",
     "text": [
      "Generating Offspring: 100%|██████████████████████████████| 105/105 [01:29<00:00,  1.18it/s]\n",
      "Calculating fitnesses: 100%|█████████████████████████████| 206/206 [00:05<00:00, 36.94it/s]\n"
     ]
    },
    {
     "name": "stdout",
     "output_type": "stream",
     "text": [
      "[Generation: 51] \n",
      " Average Fitness: 355.6601941747573 \n",
      " Best Fitness: 440.0 \n",
      " Worst Fitness: 248.0 \n",
      " Standard Error: 3.366310130214263\n"
     ]
    },
    {
     "name": "stderr",
     "output_type": "stream",
     "text": [
      "Generating Offspring: 100%|██████████████████████████████| 105/105 [01:29<00:00,  1.18it/s]\n",
      "Calculating fitnesses: 100%|█████████████████████████████| 206/206 [00:05<00:00, 36.77it/s]\n"
     ]
    },
    {
     "name": "stdout",
     "output_type": "stream",
     "text": [
      "[Generation: 52] \n",
      " Average Fitness: 354.8398058252427 \n",
      " Best Fitness: 470.0 \n",
      " Worst Fitness: 252.0 \n",
      " Standard Error: 3.582291653098301\n"
     ]
    },
    {
     "name": "stderr",
     "output_type": "stream",
     "text": [
      "Generating Offspring: 100%|██████████████████████████████| 105/105 [01:29<00:00,  1.18it/s]\n",
      "Calculating fitnesses: 100%|█████████████████████████████| 206/206 [00:05<00:00, 37.31it/s]\n"
     ]
    },
    {
     "name": "stdout",
     "output_type": "stream",
     "text": [
      "[Generation: 53] \n",
      " Average Fitness: 348.8495145631068 \n",
      " Best Fitness: 445.0 \n",
      " Worst Fitness: 250.0 \n",
      " Standard Error: 3.6575346116298206\n"
     ]
    },
    {
     "name": "stderr",
     "output_type": "stream",
     "text": [
      "Generating Offspring: 100%|██████████████████████████████| 105/105 [01:28<00:00,  1.18it/s]\n",
      "Calculating fitnesses: 100%|█████████████████████████████| 206/206 [00:05<00:00, 37.13it/s]\n"
     ]
    },
    {
     "name": "stdout",
     "output_type": "stream",
     "text": [
      "[Generation: 54] \n",
      " Average Fitness: 353.8252427184466 \n",
      " Best Fitness: 456.0 \n",
      " Worst Fitness: 247.0 \n",
      " Standard Error: 3.5265432691610457\n"
     ]
    },
    {
     "name": "stderr",
     "output_type": "stream",
     "text": [
      "Generating Offspring: 100%|██████████████████████████████| 105/105 [01:29<00:00,  1.17it/s]\n",
      "Calculating fitnesses: 100%|█████████████████████████████| 206/206 [00:05<00:00, 36.67it/s]\n"
     ]
    },
    {
     "name": "stdout",
     "output_type": "stream",
     "text": [
      "[Generation: 55] \n",
      " Average Fitness: 357.6747572815534 \n",
      " Best Fitness: 450.0 \n",
      " Worst Fitness: 255.0 \n",
      " Standard Error: 3.39263179246283\n"
     ]
    },
    {
     "name": "stderr",
     "output_type": "stream",
     "text": [
      "Generating Offspring: 100%|██████████████████████████████| 105/105 [01:29<00:00,  1.18it/s]\n",
      "Calculating fitnesses: 100%|█████████████████████████████| 206/206 [00:05<00:00, 36.99it/s]\n"
     ]
    },
    {
     "name": "stdout",
     "output_type": "stream",
     "text": [
      "[Generation: 56] \n",
      " Average Fitness: 352.80582524271847 \n",
      " Best Fitness: 461.0 \n",
      " Worst Fitness: 244.0 \n",
      " Standard Error: 3.6293989713771873\n"
     ]
    },
    {
     "name": "stderr",
     "output_type": "stream",
     "text": [
      "Generating Offspring: 100%|██████████████████████████████| 105/105 [01:29<00:00,  1.17it/s]\n",
      "Calculating fitnesses: 100%|█████████████████████████████| 206/206 [00:05<00:00, 37.13it/s]\n"
     ]
    },
    {
     "name": "stdout",
     "output_type": "stream",
     "text": [
      "[Generation: 57] \n",
      " Average Fitness: 354.121359223301 \n",
      " Best Fitness: 460.0 \n",
      " Worst Fitness: 248.0 \n",
      " Standard Error: 3.434568062986963\n"
     ]
    },
    {
     "name": "stderr",
     "output_type": "stream",
     "text": [
      "Generating Offspring: 100%|██████████████████████████████| 105/105 [01:29<00:00,  1.18it/s]\n",
      "Calculating fitnesses: 100%|█████████████████████████████| 206/206 [00:05<00:00, 36.89it/s]\n"
     ]
    },
    {
     "name": "stdout",
     "output_type": "stream",
     "text": [
      "[Generation: 58] \n",
      " Average Fitness: 353.63592233009706 \n",
      " Best Fitness: 445.0 \n",
      " Worst Fitness: 247.0 \n",
      " Standard Error: 3.4189568272730817\n"
     ]
    },
    {
     "name": "stderr",
     "output_type": "stream",
     "text": [
      "Generating Offspring: 100%|██████████████████████████████| 105/105 [01:29<00:00,  1.18it/s]\n",
      "Calculating fitnesses: 100%|█████████████████████████████| 206/206 [00:05<00:00, 38.30it/s]\n"
     ]
    },
    {
     "name": "stdout",
     "output_type": "stream",
     "text": [
      "[Generation: 59] \n",
      " Average Fitness: 341.7864077669903 \n",
      " Best Fitness: 459.0 \n",
      " Worst Fitness: 247.0 \n",
      " Standard Error: 3.728542213923227\n"
     ]
    },
    {
     "name": "stderr",
     "output_type": "stream",
     "text": [
      "Generating Offspring: 100%|██████████████████████████████| 105/105 [01:29<00:00,  1.17it/s]\n",
      "Calculating fitnesses: 100%|█████████████████████████████| 206/206 [00:05<00:00, 36.54it/s]\n"
     ]
    },
    {
     "name": "stdout",
     "output_type": "stream",
     "text": [
      "[Generation: 60] \n",
      " Average Fitness: 355.8592233009709 \n",
      " Best Fitness: 447.0 \n",
      " Worst Fitness: 248.0 \n",
      " Standard Error: 3.379329140330435\n"
     ]
    },
    {
     "name": "stderr",
     "output_type": "stream",
     "text": [
      "Generating Offspring: 100%|██████████████████████████████| 105/105 [01:29<00:00,  1.18it/s]\n",
      "Calculating fitnesses: 100%|█████████████████████████████| 206/206 [00:05<00:00, 37.77it/s]\n"
     ]
    },
    {
     "name": "stdout",
     "output_type": "stream",
     "text": [
      "[Generation: 61] \n",
      " Average Fitness: 345.5533980582524 \n",
      " Best Fitness: 445.0 \n",
      " Worst Fitness: 246.0 \n",
      " Standard Error: 3.501905413555315\n"
     ]
    },
    {
     "name": "stderr",
     "output_type": "stream",
     "text": [
      "Generating Offspring: 100%|██████████████████████████████| 105/105 [01:29<00:00,  1.18it/s]\n",
      "Calculating fitnesses: 100%|█████████████████████████████| 206/206 [00:05<00:00, 36.61it/s]\n"
     ]
    },
    {
     "name": "stdout",
     "output_type": "stream",
     "text": [
      "[Generation: 62] \n",
      " Average Fitness: 358.7135922330097 \n",
      " Best Fitness: 453.0 \n",
      " Worst Fitness: 249.0 \n",
      " Standard Error: 3.238758959972035\n"
     ]
    },
    {
     "name": "stderr",
     "output_type": "stream",
     "text": [
      "Generating Offspring: 100%|██████████████████████████████| 105/105 [01:29<00:00,  1.17it/s]\n",
      "Calculating fitnesses: 100%|█████████████████████████████| 206/206 [00:05<00:00, 36.91it/s]\n"
     ]
    },
    {
     "name": "stdout",
     "output_type": "stream",
     "text": [
      "[Generation: 63] \n",
      " Average Fitness: 352.5145631067961 \n",
      " Best Fitness: 436.0 \n",
      " Worst Fitness: 247.0 \n",
      " Standard Error: 3.5423938932151695\n"
     ]
    },
    {
     "name": "stderr",
     "output_type": "stream",
     "text": [
      "Generating Offspring: 100%|██████████████████████████████| 105/105 [01:29<00:00,  1.18it/s]\n",
      "Calculating fitnesses: 100%|█████████████████████████████| 206/206 [00:05<00:00, 37.10it/s]\n"
     ]
    },
    {
     "name": "stdout",
     "output_type": "stream",
     "text": [
      "[Generation: 64] \n",
      " Average Fitness: 351.7669902912621 \n",
      " Best Fitness: 439.0 \n",
      " Worst Fitness: 249.0 \n",
      " Standard Error: 3.521150920000495\n"
     ]
    },
    {
     "name": "stderr",
     "output_type": "stream",
     "text": [
      "Generating Offspring: 100%|██████████████████████████████| 105/105 [01:29<00:00,  1.17it/s]\n",
      "Calculating fitnesses: 100%|█████████████████████████████| 206/206 [00:05<00:00, 37.38it/s]\n"
     ]
    },
    {
     "name": "stdout",
     "output_type": "stream",
     "text": [
      "[Generation: 65] \n",
      " Average Fitness: 350.63592233009706 \n",
      " Best Fitness: 464.0 \n",
      " Worst Fitness: 247.0 \n",
      " Standard Error: 3.6888889692543687\n"
     ]
    },
    {
     "name": "stderr",
     "output_type": "stream",
     "text": [
      "Generating Offspring: 100%|██████████████████████████████| 105/105 [01:29<00:00,  1.18it/s]\n",
      "Calculating fitnesses: 100%|█████████████████████████████| 206/206 [00:05<00:00, 36.61it/s]\n"
     ]
    },
    {
     "name": "stdout",
     "output_type": "stream",
     "text": [
      "[Generation: 66] \n",
      " Average Fitness: 353.3980582524272 \n",
      " Best Fitness: 439.0 \n",
      " Worst Fitness: 250.0 \n",
      " Standard Error: 3.6619248441726593\n"
     ]
    },
    {
     "name": "stderr",
     "output_type": "stream",
     "text": [
      "Generating Offspring: 100%|██████████████████████████████| 105/105 [01:29<00:00,  1.18it/s]\n",
      "Calculating fitnesses: 100%|█████████████████████████████| 206/206 [00:05<00:00, 37.51it/s]\n"
     ]
    },
    {
     "name": "stdout",
     "output_type": "stream",
     "text": [
      "[Generation: 67] \n",
      " Average Fitness: 349.79126213592235 \n",
      " Best Fitness: 442.0 \n",
      " Worst Fitness: 252.0 \n",
      " Standard Error: 3.858324613103054\n"
     ]
    },
    {
     "name": "stderr",
     "output_type": "stream",
     "text": [
      "Generating Offspring: 100%|██████████████████████████████| 105/105 [01:29<00:00,  1.18it/s]\n",
      "Calculating fitnesses: 100%|█████████████████████████████| 206/206 [00:05<00:00, 37.19it/s]\n"
     ]
    },
    {
     "name": "stdout",
     "output_type": "stream",
     "text": [
      "[Generation: 68] \n",
      " Average Fitness: 353.29126213592235 \n",
      " Best Fitness: 437.0 \n",
      " Worst Fitness: 251.0 \n",
      " Standard Error: 3.49877866540076\n"
     ]
    },
    {
     "name": "stderr",
     "output_type": "stream",
     "text": [
      "Generating Offspring: 100%|██████████████████████████████| 105/105 [01:29<00:00,  1.18it/s]\n",
      "Calculating fitnesses: 100%|█████████████████████████████| 206/206 [00:05<00:00, 37.27it/s]\n"
     ]
    },
    {
     "name": "stdout",
     "output_type": "stream",
     "text": [
      "[Generation: 69] \n",
      " Average Fitness: 349.2378640776699 \n",
      " Best Fitness: 471.0 \n",
      " Worst Fitness: 248.0 \n",
      " Standard Error: 3.7416869564592394\n"
     ]
    },
    {
     "name": "stderr",
     "output_type": "stream",
     "text": [
      "Generating Offspring: 100%|██████████████████████████████| 105/105 [01:29<00:00,  1.18it/s]\n",
      "Calculating fitnesses: 100%|█████████████████████████████| 206/206 [00:05<00:00, 36.57it/s]\n"
     ]
    },
    {
     "name": "stdout",
     "output_type": "stream",
     "text": [
      "[Generation: 70] \n",
      " Average Fitness: 358.20873786407765 \n",
      " Best Fitness: 441.0 \n",
      " Worst Fitness: 248.0 \n",
      " Standard Error: 3.4140646826614574\n"
     ]
    },
    {
     "name": "stderr",
     "output_type": "stream",
     "text": [
      "Generating Offspring: 100%|██████████████████████████████| 105/105 [01:29<00:00,  1.18it/s]\n",
      "Calculating fitnesses: 100%|█████████████████████████████| 206/206 [00:05<00:00, 37.43it/s]\n"
     ]
    },
    {
     "name": "stdout",
     "output_type": "stream",
     "text": [
      "[Generation: 71] \n",
      " Average Fitness: 351.1747572815534 \n",
      " Best Fitness: 460.0 \n",
      " Worst Fitness: 242.0 \n",
      " Standard Error: 3.6027974394845637\n"
     ]
    },
    {
     "name": "stderr",
     "output_type": "stream",
     "text": [
      "Generating Offspring: 100%|██████████████████████████████| 105/105 [01:29<00:00,  1.18it/s]\n",
      "Calculating fitnesses: 100%|█████████████████████████████| 206/206 [00:05<00:00, 37.06it/s]\n"
     ]
    },
    {
     "name": "stdout",
     "output_type": "stream",
     "text": [
      "[Generation: 72] \n",
      " Average Fitness: 350.747572815534 \n",
      " Best Fitness: 451.0 \n",
      " Worst Fitness: 248.0 \n",
      " Standard Error: 3.8010332785963126\n"
     ]
    },
    {
     "name": "stderr",
     "output_type": "stream",
     "text": [
      "Generating Offspring: 100%|██████████████████████████████| 105/105 [01:29<00:00,  1.18it/s]\n",
      "Calculating fitnesses: 100%|█████████████████████████████| 206/206 [00:05<00:00, 36.89it/s]\n"
     ]
    },
    {
     "name": "stdout",
     "output_type": "stream",
     "text": [
      "[Generation: 73] \n",
      " Average Fitness: 355.41747572815535 \n",
      " Best Fitness: 444.0 \n",
      " Worst Fitness: 251.0 \n",
      " Standard Error: 3.4553616259482514\n"
     ]
    },
    {
     "name": "stderr",
     "output_type": "stream",
     "text": [
      "Generating Offspring: 100%|██████████████████████████████| 105/105 [01:29<00:00,  1.17it/s]\n",
      "Calculating fitnesses: 100%|█████████████████████████████| 206/206 [00:05<00:00, 37.12it/s]\n"
     ]
    },
    {
     "name": "stdout",
     "output_type": "stream",
     "text": [
      "[Generation: 74] \n",
      " Average Fitness: 350.7378640776699 \n",
      " Best Fitness: 436.0 \n",
      " Worst Fitness: 247.0 \n",
      " Standard Error: 3.459388022528589\n"
     ]
    },
    {
     "name": "stderr",
     "output_type": "stream",
     "text": [
      "Generating Offspring: 100%|██████████████████████████████| 105/105 [01:29<00:00,  1.18it/s]\n",
      "Calculating fitnesses: 100%|█████████████████████████████| 206/206 [00:05<00:00, 36.18it/s]\n"
     ]
    },
    {
     "name": "stdout",
     "output_type": "stream",
     "text": [
      "[Generation: 75] \n",
      " Average Fitness: 360.20388349514565 \n",
      " Best Fitness: 448.0 \n",
      " Worst Fitness: 248.0 \n",
      " Standard Error: 3.288465468269083\n"
     ]
    },
    {
     "name": "stderr",
     "output_type": "stream",
     "text": [
      "Generating Offspring: 100%|██████████████████████████████| 105/105 [01:29<00:00,  1.18it/s]\n",
      "Calculating fitnesses: 100%|█████████████████████████████| 206/206 [00:05<00:00, 38.00it/s]\n"
     ]
    },
    {
     "name": "stdout",
     "output_type": "stream",
     "text": [
      "[Generation: 76] \n",
      " Average Fitness: 345.22330097087377 \n",
      " Best Fitness: 451.0 \n",
      " Worst Fitness: 244.0 \n",
      " Standard Error: 3.742390584586249\n"
     ]
    },
    {
     "name": "stderr",
     "output_type": "stream",
     "text": [
      "Generating Offspring: 100%|██████████████████████████████| 105/105 [01:29<00:00,  1.18it/s]\n",
      "Calculating fitnesses: 100%|█████████████████████████████| 206/206 [00:05<00:00, 36.47it/s]\n"
     ]
    },
    {
     "name": "stdout",
     "output_type": "stream",
     "text": [
      "[Generation: 77] \n",
      " Average Fitness: 357.6796116504854 \n",
      " Best Fitness: 461.0 \n",
      " Worst Fitness: 254.0 \n",
      " Standard Error: 3.327256157767487\n"
     ]
    },
    {
     "name": "stderr",
     "output_type": "stream",
     "text": [
      "Generating Offspring: 100%|██████████████████████████████| 105/105 [01:29<00:00,  1.18it/s]\n",
      "Calculating fitnesses: 100%|█████████████████████████████| 206/206 [00:05<00:00, 37.12it/s]\n"
     ]
    },
    {
     "name": "stdout",
     "output_type": "stream",
     "text": [
      "[Generation: 78] \n",
      " Average Fitness: 351.2621359223301 \n",
      " Best Fitness: 438.0 \n",
      " Worst Fitness: 248.0 \n",
      " Standard Error: 3.606286262573939\n"
     ]
    },
    {
     "name": "stderr",
     "output_type": "stream",
     "text": [
      "Generating Offspring: 100%|██████████████████████████████| 105/105 [01:29<00:00,  1.18it/s]\n",
      "Calculating fitnesses: 100%|█████████████████████████████| 206/206 [00:05<00:00, 37.02it/s]\n"
     ]
    },
    {
     "name": "stdout",
     "output_type": "stream",
     "text": [
      "[Generation: 79] \n",
      " Average Fitness: 355.21844660194176 \n",
      " Best Fitness: 431.0 \n",
      " Worst Fitness: 248.0 \n",
      " Standard Error: 3.3894403930651196\n"
     ]
    },
    {
     "name": "stderr",
     "output_type": "stream",
     "text": [
      "Generating Offspring: 100%|██████████████████████████████| 105/105 [01:28<00:00,  1.18it/s]\n",
      "Calculating fitnesses: 100%|█████████████████████████████| 206/206 [00:05<00:00, 37.09it/s]\n"
     ]
    },
    {
     "name": "stdout",
     "output_type": "stream",
     "text": [
      "[Generation: 80] \n",
      " Average Fitness: 350.9611650485437 \n",
      " Best Fitness: 439.0 \n",
      " Worst Fitness: 250.0 \n",
      " Standard Error: 3.684572701986001\n"
     ]
    },
    {
     "name": "stderr",
     "output_type": "stream",
     "text": [
      "Generating Offspring: 100%|██████████████████████████████| 105/105 [01:29<00:00,  1.17it/s]\n",
      "Calculating fitnesses: 100%|█████████████████████████████| 206/206 [00:05<00:00, 37.51it/s]\n"
     ]
    },
    {
     "name": "stdout",
     "output_type": "stream",
     "text": [
      "[Generation: 81] \n",
      " Average Fitness: 348.8349514563107 \n",
      " Best Fitness: 422.0 \n",
      " Worst Fitness: 250.0 \n",
      " Standard Error: 3.5590229403016007\n"
     ]
    },
    {
     "name": "stderr",
     "output_type": "stream",
     "text": [
      "Generating Offspring: 100%|██████████████████████████████| 105/105 [01:29<00:00,  1.18it/s]\n",
      "Calculating fitnesses: 100%|█████████████████████████████| 206/206 [00:05<00:00, 37.12it/s]\n"
     ]
    },
    {
     "name": "stdout",
     "output_type": "stream",
     "text": [
      "[Generation: 82] \n",
      " Average Fitness: 353.81553398058253 \n",
      " Best Fitness: 452.0 \n",
      " Worst Fitness: 248.0 \n",
      " Standard Error: 3.473702805909785\n"
     ]
    },
    {
     "name": "stderr",
     "output_type": "stream",
     "text": [
      "Generating Offspring: 100%|██████████████████████████████| 105/105 [01:29<00:00,  1.17it/s]\n",
      "Calculating fitnesses: 100%|█████████████████████████████| 206/206 [00:05<00:00, 37.03it/s]\n"
     ]
    },
    {
     "name": "stdout",
     "output_type": "stream",
     "text": [
      "[Generation: 83] \n",
      " Average Fitness: 351.81553398058253 \n",
      " Best Fitness: 442.0 \n",
      " Worst Fitness: 245.0 \n",
      " Standard Error: 3.315878568610848\n"
     ]
    },
    {
     "name": "stderr",
     "output_type": "stream",
     "text": [
      "Generating Offspring: 100%|██████████████████████████████| 105/105 [01:29<00:00,  1.18it/s]\n",
      "Calculating fitnesses: 100%|█████████████████████████████| 206/206 [00:05<00:00, 36.53it/s]\n"
     ]
    },
    {
     "name": "stdout",
     "output_type": "stream",
     "text": [
      "[Generation: 84] \n",
      " Average Fitness: 356.15533980582524 \n",
      " Best Fitness: 447.0 \n",
      " Worst Fitness: 251.0 \n",
      " Standard Error: 3.4878736146869893\n"
     ]
    },
    {
     "name": "stderr",
     "output_type": "stream",
     "text": [
      "Generating Offspring: 100%|██████████████████████████████| 105/105 [01:29<00:00,  1.17it/s]\n",
      "Calculating fitnesses: 100%|█████████████████████████████| 206/206 [00:05<00:00, 37.28it/s]\n"
     ]
    },
    {
     "name": "stdout",
     "output_type": "stream",
     "text": [
      "[Generation: 85] \n",
      " Average Fitness: 350.0242718446602 \n",
      " Best Fitness: 471.0 \n",
      " Worst Fitness: 249.0 \n",
      " Standard Error: 3.670900729103928\n"
     ]
    },
    {
     "name": "stderr",
     "output_type": "stream",
     "text": [
      "Generating Offspring: 100%|██████████████████████████████| 105/105 [01:29<00:00,  1.18it/s]\n",
      "Calculating fitnesses: 100%|█████████████████████████████| 206/206 [00:05<00:00, 37.06it/s]\n"
     ]
    },
    {
     "name": "stdout",
     "output_type": "stream",
     "text": [
      "[Generation: 86] \n",
      " Average Fitness: 352.30582524271847 \n",
      " Best Fitness: 461.0 \n",
      " Worst Fitness: 251.0 \n",
      " Standard Error: 3.402801888397483\n"
     ]
    },
    {
     "name": "stderr",
     "output_type": "stream",
     "text": [
      "Generating Offspring: 100%|██████████████████████████████| 105/105 [01:29<00:00,  1.18it/s]\n",
      "Calculating fitnesses: 100%|█████████████████████████████| 206/206 [00:05<00:00, 37.19it/s]\n"
     ]
    },
    {
     "name": "stdout",
     "output_type": "stream",
     "text": [
      "[Generation: 87] \n",
      " Average Fitness: 352.752427184466 \n",
      " Best Fitness: 462.0 \n",
      " Worst Fitness: 247.0 \n",
      " Standard Error: 3.7059972572847166\n"
     ]
    },
    {
     "name": "stderr",
     "output_type": "stream",
     "text": [
      "Generating Offspring: 100%|██████████████████████████████| 105/105 [01:29<00:00,  1.18it/s]\n",
      "Calculating fitnesses: 100%|█████████████████████████████| 206/206 [00:05<00:00, 36.60it/s]\n"
     ]
    },
    {
     "name": "stdout",
     "output_type": "stream",
     "text": [
      "[Generation: 88] \n",
      " Average Fitness: 353.63106796116506 \n",
      " Best Fitness: 437.0 \n",
      " Worst Fitness: 248.0 \n",
      " Standard Error: 3.492666655805846\n"
     ]
    },
    {
     "name": "stderr",
     "output_type": "stream",
     "text": [
      "Generating Offspring: 100%|██████████████████████████████| 105/105 [01:29<00:00,  1.18it/s]\n",
      "Calculating fitnesses: 100%|█████████████████████████████| 206/206 [00:05<00:00, 37.20it/s]\n"
     ]
    },
    {
     "name": "stdout",
     "output_type": "stream",
     "text": [
      "[Generation: 89] \n",
      " Average Fitness: 350.29126213592235 \n",
      " Best Fitness: 442.0 \n",
      " Worst Fitness: 249.0 \n",
      " Standard Error: 3.5568736730611046\n"
     ]
    },
    {
     "name": "stderr",
     "output_type": "stream",
     "text": [
      "Generating Offspring: 100%|██████████████████████████████| 105/105 [01:29<00:00,  1.18it/s]\n",
      "Calculating fitnesses: 100%|█████████████████████████████| 206/206 [00:05<00:00, 37.43it/s]\n"
     ]
    },
    {
     "name": "stdout",
     "output_type": "stream",
     "text": [
      "[Generation: 90] \n",
      " Average Fitness: 350.88349514563106 \n",
      " Best Fitness: 435.0 \n",
      " Worst Fitness: 250.0 \n",
      " Standard Error: 3.7041720335673207\n"
     ]
    },
    {
     "name": "stderr",
     "output_type": "stream",
     "text": [
      "Generating Offspring: 100%|██████████████████████████████| 105/105 [01:29<00:00,  1.18it/s]\n",
      "Calculating fitnesses: 100%|█████████████████████████████| 206/206 [00:05<00:00, 37.19it/s]\n"
     ]
    },
    {
     "name": "stdout",
     "output_type": "stream",
     "text": [
      "[Generation: 91] \n",
      " Average Fitness: 350.5194174757282 \n",
      " Best Fitness: 479.0 \n",
      " Worst Fitness: 244.0 \n",
      " Standard Error: 3.5110644175673134\n"
     ]
    },
    {
     "name": "stderr",
     "output_type": "stream",
     "text": [
      "Generating Offspring: 100%|██████████████████████████████| 105/105 [01:29<00:00,  1.17it/s]\n",
      "Calculating fitnesses: 100%|█████████████████████████████| 206/206 [00:05<00:00, 37.09it/s]\n"
     ]
    },
    {
     "name": "stdout",
     "output_type": "stream",
     "text": [
      "[Generation: 92] \n",
      " Average Fitness: 355.70873786407765 \n",
      " Best Fitness: 458.0 \n",
      " Worst Fitness: 248.0 \n",
      " Standard Error: 3.4828578697449113\n"
     ]
    },
    {
     "name": "stderr",
     "output_type": "stream",
     "text": [
      "Generating Offspring: 100%|██████████████████████████████| 105/105 [01:29<00:00,  1.18it/s]\n",
      "Calculating fitnesses: 100%|█████████████████████████████| 206/206 [00:05<00:00, 37.09it/s]\n"
     ]
    },
    {
     "name": "stdout",
     "output_type": "stream",
     "text": [
      "[Generation: 93] \n",
      " Average Fitness: 353.7281553398058 \n",
      " Best Fitness: 467.0 \n",
      " Worst Fitness: 248.0 \n",
      " Standard Error: 3.5907397168825868\n"
     ]
    },
    {
     "name": "stderr",
     "output_type": "stream",
     "text": [
      "Generating Offspring: 100%|██████████████████████████████| 105/105 [01:29<00:00,  1.18it/s]\n",
      "Calculating fitnesses: 100%|█████████████████████████████| 206/206 [00:05<00:00, 37.03it/s]\n"
     ]
    },
    {
     "name": "stdout",
     "output_type": "stream",
     "text": [
      "[Generation: 94] \n",
      " Average Fitness: 352.18932038834953 \n",
      " Best Fitness: 458.0 \n",
      " Worst Fitness: 241.0 \n",
      " Standard Error: 3.5594860852672716\n"
     ]
    },
    {
     "name": "stderr",
     "output_type": "stream",
     "text": [
      "Generating Offspring: 100%|██████████████████████████████| 105/105 [01:29<00:00,  1.18it/s]\n",
      "Calculating fitnesses: 100%|█████████████████████████████| 206/206 [00:05<00:00, 37.02it/s]\n"
     ]
    },
    {
     "name": "stdout",
     "output_type": "stream",
     "text": [
      "[Generation: 95] \n",
      " Average Fitness: 354.07766990291265 \n",
      " Best Fitness: 426.0 \n",
      " Worst Fitness: 249.0 \n",
      " Standard Error: 3.4521620212444275\n"
     ]
    },
    {
     "name": "stderr",
     "output_type": "stream",
     "text": [
      "Generating Offspring: 100%|██████████████████████████████| 105/105 [01:29<00:00,  1.18it/s]\n",
      "Calculating fitnesses: 100%|█████████████████████████████| 206/206 [00:05<00:00, 36.91it/s]\n"
     ]
    },
    {
     "name": "stdout",
     "output_type": "stream",
     "text": [
      "[Generation: 96] \n",
      " Average Fitness: 353.6601941747573 \n",
      " Best Fitness: 465.0 \n",
      " Worst Fitness: 250.0 \n",
      " Standard Error: 3.663634364354178\n"
     ]
    },
    {
     "name": "stderr",
     "output_type": "stream",
     "text": [
      "Generating Offspring: 100%|██████████████████████████████| 105/105 [01:28<00:00,  1.18it/s]\n",
      "Calculating fitnesses: 100%|█████████████████████████████| 206/206 [00:05<00:00, 37.47it/s]\n"
     ]
    },
    {
     "name": "stdout",
     "output_type": "stream",
     "text": [
      "[Generation: 97] \n",
      " Average Fitness: 347.78155339805824 \n",
      " Best Fitness: 445.0 \n",
      " Worst Fitness: 243.0 \n",
      " Standard Error: 3.717215741662919\n"
     ]
    },
    {
     "name": "stderr",
     "output_type": "stream",
     "text": [
      "Generating Offspring: 100%|██████████████████████████████| 105/105 [01:29<00:00,  1.18it/s]\n",
      "Calculating fitnesses: 100%|█████████████████████████████| 206/206 [00:05<00:00, 37.31it/s]\n"
     ]
    },
    {
     "name": "stdout",
     "output_type": "stream",
     "text": [
      "[Generation: 98] \n",
      " Average Fitness: 354.373786407767 \n",
      " Best Fitness: 466.0 \n",
      " Worst Fitness: 246.0 \n",
      " Standard Error: 3.465462415387753\n"
     ]
    },
    {
     "name": "stderr",
     "output_type": "stream",
     "text": [
      "Generating Offspring: 100%|██████████████████████████████| 105/105 [01:28<00:00,  1.18it/s]\n",
      "Calculating fitnesses: 100%|█████████████████████████████| 206/206 [00:05<00:00, 37.35it/s]\n"
     ]
    },
    {
     "name": "stdout",
     "output_type": "stream",
     "text": [
      "[Generation: 99] \n",
      " Average Fitness: 348.3543689320388 \n",
      " Best Fitness: 466.0 \n",
      " Worst Fitness: 243.0 \n",
      " Standard Error: 3.6460597394555854\n"
     ]
    },
    {
     "name": "stderr",
     "output_type": "stream",
     "text": [
      "Generating Offspring: 100%|██████████████████████████████| 105/105 [01:28<00:00,  1.18it/s]\n",
      "Calculating fitnesses: 100%|█████████████████████████████| 206/206 [00:05<00:00, 37.38it/s]\n"
     ]
    },
    {
     "name": "stdout",
     "output_type": "stream",
     "text": [
      "[Generation: 100] \n",
      " Average Fitness: 348.8009708737864 \n",
      " Best Fitness: 453.0 \n",
      " Worst Fitness: 249.0 \n",
      " Standard Error: 3.722790908431495\n"
     ]
    },
    {
     "name": "stderr",
     "output_type": "stream",
     "text": [
      "Generating Offspring: 100%|██████████████████████████████| 105/105 [01:28<00:00,  1.18it/s]\n"
     ]
    },
    {
     "name": "stdout",
     "output_type": "stream",
     "text": [
      "| \u001b[0m9        \u001b[0m | \u001b[0m441.4    \u001b[0m | \u001b[0m101.5    \u001b[0m | \u001b[0m100.0    \u001b[0m | \u001b[0m1.0      \u001b[0m | \u001b[0m1.0      \u001b[0m | \u001b[0m206.8    \u001b[0m | \u001b[0m30.0     \u001b[0m |\n"
     ]
    },
    {
     "name": "stderr",
     "output_type": "stream",
     "text": [
      "Calculating fitnesses: 100%|████████████████████████████| 215/215 [00:00<00:00, 517.64it/s]\n"
     ]
    },
    {
     "name": "stdout",
     "output_type": "stream",
     "text": [
      "[Generation: 1] \n",
      " Average Fitness: 22.772093023255813 \n",
      " Best Fitness: 96.0 \n",
      " Worst Fitness: 8.0 \n",
      " Standard Error: 0.9138247596399459\n"
     ]
    },
    {
     "name": "stderr",
     "output_type": "stream",
     "text": [
      "Generating Offspring: 100%|██████████████████████████████| 172/172 [00:08<00:00, 19.83it/s]\n",
      "Calculating fitnesses: 100%|████████████████████████████| 215/215 [00:00<00:00, 617.03it/s]\n"
     ]
    },
    {
     "name": "stdout",
     "output_type": "stream",
     "text": [
      "[Generation: 2] \n",
      " Average Fitness: 21.72093023255814 \n",
      " Best Fitness: 275.0 \n",
      " Worst Fitness: 8.0 \n",
      " Standard Error: 2.107537398064752\n"
     ]
    },
    {
     "name": "stderr",
     "output_type": "stream",
     "text": [
      "Generating Offspring: 100%|██████████████████████████████| 172/172 [00:10<00:00, 16.60it/s]\n",
      "Calculating fitnesses: 100%|████████████████████████████| 215/215 [00:01<00:00, 132.69it/s]\n"
     ]
    },
    {
     "name": "stdout",
     "output_type": "stream",
     "text": [
      "[Generation: 3] \n",
      " Average Fitness: 98.94883720930233 \n",
      " Best Fitness: 365.0 \n",
      " Worst Fitness: 8.0 \n",
      " Standard Error: 5.881271940979938\n"
     ]
    },
    {
     "name": "stderr",
     "output_type": "stream",
     "text": [
      "Generating Offspring: 100%|██████████████████████████████| 172/172 [00:42<00:00,  4.03it/s]\n",
      "Calculating fitnesses: 100%|█████████████████████████████| 215/215 [00:04<00:00, 50.65it/s]\n"
     ]
    },
    {
     "name": "stdout",
     "output_type": "stream",
     "text": [
      "[Generation: 4] \n",
      " Average Fitness: 260.5302325581395 \n",
      " Best Fitness: 421.0 \n",
      " Worst Fitness: 49.0 \n",
      " Standard Error: 5.595076454936706\n"
     ]
    },
    {
     "name": "stderr",
     "output_type": "stream",
     "text": [
      "Generating Offspring: 100%|██████████████████████████████| 172/172 [01:47<00:00,  1.60it/s]\n",
      "Calculating fitnesses: 100%|█████████████████████████████| 215/215 [00:04<00:00, 48.73it/s]\n"
     ]
    },
    {
     "name": "stdout",
     "output_type": "stream",
     "text": [
      "[Generation: 5] \n",
      " Average Fitness: 270.9488372093023 \n",
      " Best Fitness: 377.0 \n",
      " Worst Fitness: 77.0 \n",
      " Standard Error: 4.969825133811782\n"
     ]
    },
    {
     "name": "stderr",
     "output_type": "stream",
     "text": [
      "Generating Offspring: 100%|██████████████████████████████| 172/172 [01:51<00:00,  1.55it/s]\n",
      "Calculating fitnesses: 100%|█████████████████████████████| 215/215 [00:04<00:00, 48.13it/s]\n"
     ]
    },
    {
     "name": "stdout",
     "output_type": "stream",
     "text": [
      "[Generation: 6] \n",
      " Average Fitness: 271.74883720930234 \n",
      " Best Fitness: 371.0 \n",
      " Worst Fitness: 85.0 \n",
      " Standard Error: 4.292916678196779\n"
     ]
    },
    {
     "name": "stderr",
     "output_type": "stream",
     "text": [
      "Generating Offspring: 100%|██████████████████████████████| 172/172 [01:52<00:00,  1.52it/s]\n",
      "Calculating fitnesses: 100%|█████████████████████████████| 215/215 [00:04<00:00, 48.03it/s]\n"
     ]
    },
    {
     "name": "stdout",
     "output_type": "stream",
     "text": [
      "[Generation: 7] \n",
      " Average Fitness: 275.12558139534883 \n",
      " Best Fitness: 369.0 \n",
      " Worst Fitness: 71.0 \n",
      " Standard Error: 4.616314419520439\n"
     ]
    },
    {
     "name": "stderr",
     "output_type": "stream",
     "text": [
      "Generating Offspring: 100%|██████████████████████████████| 172/172 [01:53<00:00,  1.52it/s]\n",
      "Calculating fitnesses: 100%|█████████████████████████████| 215/215 [00:04<00:00, 47.98it/s]\n"
     ]
    },
    {
     "name": "stdout",
     "output_type": "stream",
     "text": [
      "[Generation: 8] \n",
      " Average Fitness: 274.90697674418607 \n",
      " Best Fitness: 462.0 \n",
      " Worst Fitness: 10.0 \n",
      " Standard Error: 4.8208914239590035\n"
     ]
    },
    {
     "name": "stderr",
     "output_type": "stream",
     "text": [
      "Generating Offspring: 100%|██████████████████████████████| 172/172 [01:52<00:00,  1.54it/s]\n",
      "Calculating fitnesses: 100%|█████████████████████████████| 215/215 [00:04<00:00, 49.30it/s]\n"
     ]
    },
    {
     "name": "stdout",
     "output_type": "stream",
     "text": [
      "[Generation: 9] \n",
      " Average Fitness: 266.4697674418605 \n",
      " Best Fitness: 500.0 \n",
      " Worst Fitness: 78.0 \n",
      " Standard Error: 4.710399398886518\n"
     ]
    },
    {
     "name": "stderr",
     "output_type": "stream",
     "text": [
      "Generating Offspring: 100%|██████████████████████████████| 172/172 [01:52<00:00,  1.53it/s]\n",
      "Calculating fitnesses: 100%|█████████████████████████████| 215/215 [00:04<00:00, 49.96it/s]\n"
     ]
    },
    {
     "name": "stdout",
     "output_type": "stream",
     "text": [
      "[Generation: 10] \n",
      " Average Fitness: 266.51162790697674 \n",
      " Best Fitness: 367.0 \n",
      " Worst Fitness: 73.0 \n",
      " Standard Error: 4.6205736137528834\n"
     ]
    },
    {
     "name": "stderr",
     "output_type": "stream",
     "text": [
      "Generating Offspring: 100%|██████████████████████████████| 172/172 [01:51<00:00,  1.54it/s]\n",
      "Calculating fitnesses: 100%|█████████████████████████████| 215/215 [00:04<00:00, 47.76it/s]\n"
     ]
    },
    {
     "name": "stdout",
     "output_type": "stream",
     "text": [
      "[Generation: 11] \n",
      " Average Fitness: 274.4697674418605 \n",
      " Best Fitness: 500.0 \n",
      " Worst Fitness: 8.0 \n",
      " Standard Error: 4.863222773221192\n"
     ]
    },
    {
     "name": "stderr",
     "output_type": "stream",
     "text": [
      "Generating Offspring: 100%|██████████████████████████████| 172/172 [01:50<00:00,  1.55it/s]\n",
      "Calculating fitnesses: 100%|█████████████████████████████| 215/215 [00:04<00:00, 49.25it/s]\n"
     ]
    },
    {
     "name": "stdout",
     "output_type": "stream",
     "text": [
      "[Generation: 12] \n",
      " Average Fitness: 267.1720930232558 \n",
      " Best Fitness: 391.0 \n",
      " Worst Fitness: 73.0 \n",
      " Standard Error: 4.820428150032181\n"
     ]
    },
    {
     "name": "stderr",
     "output_type": "stream",
     "text": [
      "Generating Offspring: 100%|██████████████████████████████| 172/172 [01:51<00:00,  1.55it/s]\n",
      "Calculating fitnesses: 100%|█████████████████████████████| 215/215 [00:04<00:00, 48.93it/s]\n"
     ]
    },
    {
     "name": "stdout",
     "output_type": "stream",
     "text": [
      "[Generation: 13] \n",
      " Average Fitness: 270.21860465116276 \n",
      " Best Fitness: 500.0 \n",
      " Worst Fitness: 77.0 \n",
      " Standard Error: 5.093993133265925\n"
     ]
    },
    {
     "name": "stderr",
     "output_type": "stream",
     "text": [
      "Generating Offspring: 100%|██████████████████████████████| 172/172 [01:49<00:00,  1.56it/s]\n",
      "Calculating fitnesses: 100%|█████████████████████████████| 215/215 [00:04<00:00, 50.75it/s]\n"
     ]
    },
    {
     "name": "stdout",
     "output_type": "stream",
     "text": [
      "[Generation: 14] \n",
      " Average Fitness: 258.2 \n",
      " Best Fitness: 464.0 \n",
      " Worst Fitness: 73.0 \n",
      " Standard Error: 5.325363439408705\n"
     ]
    },
    {
     "name": "stderr",
     "output_type": "stream",
     "text": [
      "Generating Offspring: 100%|██████████████████████████████| 172/172 [01:49<00:00,  1.58it/s]\n",
      "Calculating fitnesses: 100%|█████████████████████████████| 215/215 [00:04<00:00, 49.60it/s]\n"
     ]
    },
    {
     "name": "stdout",
     "output_type": "stream",
     "text": [
      "[Generation: 15] \n",
      " Average Fitness: 265.6186046511628 \n",
      " Best Fitness: 384.0 \n",
      " Worst Fitness: 77.0 \n",
      " Standard Error: 5.1307925382814386\n"
     ]
    },
    {
     "name": "stderr",
     "output_type": "stream",
     "text": [
      "Generating Offspring: 100%|██████████████████████████████| 172/172 [01:50<00:00,  1.56it/s]\n",
      "Calculating fitnesses: 100%|█████████████████████████████| 215/215 [00:04<00:00, 47.11it/s]\n"
     ]
    },
    {
     "name": "stdout",
     "output_type": "stream",
     "text": [
      "[Generation: 16] \n",
      " Average Fitness: 280.1767441860465 \n",
      " Best Fitness: 446.0 \n",
      " Worst Fitness: 81.0 \n",
      " Standard Error: 4.300011078772772\n"
     ]
    },
    {
     "name": "stderr",
     "output_type": "stream",
     "text": [
      "Generating Offspring: 100%|██████████████████████████████| 172/172 [01:53<00:00,  1.51it/s]\n",
      "Calculating fitnesses: 100%|█████████████████████████████| 215/215 [00:04<00:00, 46.94it/s]\n"
     ]
    },
    {
     "name": "stdout",
     "output_type": "stream",
     "text": [
      "[Generation: 17] \n",
      " Average Fitness: 278.706976744186 \n",
      " Best Fitness: 500.0 \n",
      " Worst Fitness: 68.0 \n",
      " Standard Error: 4.391364299075124\n"
     ]
    },
    {
     "name": "stderr",
     "output_type": "stream",
     "text": [
      "Generating Offspring: 100%|██████████████████████████████| 172/172 [01:54<00:00,  1.50it/s]\n",
      "Calculating fitnesses: 100%|█████████████████████████████| 215/215 [00:04<00:00, 47.60it/s]\n"
     ]
    },
    {
     "name": "stdout",
     "output_type": "stream",
     "text": [
      "[Generation: 18] \n",
      " Average Fitness: 275.3720930232558 \n",
      " Best Fitness: 374.0 \n",
      " Worst Fitness: 74.0 \n",
      " Standard Error: 4.231181363455476\n"
     ]
    },
    {
     "name": "stderr",
     "output_type": "stream",
     "text": [
      "Generating Offspring: 100%|██████████████████████████████| 172/172 [01:53<00:00,  1.51it/s]\n",
      "Calculating fitnesses: 100%|█████████████████████████████| 215/215 [00:04<00:00, 47.35it/s]\n"
     ]
    },
    {
     "name": "stdout",
     "output_type": "stream",
     "text": [
      "[Generation: 19] \n",
      " Average Fitness: 276.7627906976744 \n",
      " Best Fitness: 407.0 \n",
      " Worst Fitness: 80.0 \n",
      " Standard Error: 4.27086311307383\n"
     ]
    },
    {
     "name": "stderr",
     "output_type": "stream",
     "text": [
      "Generating Offspring: 100%|██████████████████████████████| 172/172 [01:54<00:00,  1.50it/s]\n",
      "Calculating fitnesses: 100%|█████████████████████████████| 215/215 [00:04<00:00, 47.66it/s]\n"
     ]
    },
    {
     "name": "stdout",
     "output_type": "stream",
     "text": [
      "[Generation: 20] \n",
      " Average Fitness: 277.2418604651163 \n",
      " Best Fitness: 435.0 \n",
      " Worst Fitness: 71.0 \n",
      " Standard Error: 4.544391929179817\n"
     ]
    },
    {
     "name": "stderr",
     "output_type": "stream",
     "text": [
      "Generating Offspring: 100%|██████████████████████████████| 172/172 [01:52<00:00,  1.53it/s]\n",
      "Calculating fitnesses: 100%|█████████████████████████████| 215/215 [00:04<00:00, 47.97it/s]\n"
     ]
    },
    {
     "name": "stdout",
     "output_type": "stream",
     "text": [
      "[Generation: 21] \n",
      " Average Fitness: 274.11162790697676 \n",
      " Best Fitness: 452.0 \n",
      " Worst Fitness: 81.0 \n",
      " Standard Error: 4.468108443760992\n"
     ]
    },
    {
     "name": "stderr",
     "output_type": "stream",
     "text": [
      "Generating Offspring: 100%|██████████████████████████████| 172/172 [01:53<00:00,  1.51it/s]\n",
      "Calculating fitnesses: 100%|█████████████████████████████| 215/215 [00:04<00:00, 49.23it/s]\n"
     ]
    },
    {
     "name": "stdout",
     "output_type": "stream",
     "text": [
      "[Generation: 22] \n",
      " Average Fitness: 269.09302325581393 \n",
      " Best Fitness: 373.0 \n",
      " Worst Fitness: 80.0 \n",
      " Standard Error: 4.624839005838554\n"
     ]
    },
    {
     "name": "stderr",
     "output_type": "stream",
     "text": [
      "Generating Offspring: 100%|██████████████████████████████| 172/172 [01:52<00:00,  1.53it/s]\n",
      "Calculating fitnesses: 100%|█████████████████████████████| 215/215 [00:04<00:00, 47.87it/s]\n"
     ]
    },
    {
     "name": "stdout",
     "output_type": "stream",
     "text": [
      "[Generation: 23] \n",
      " Average Fitness: 273.28837209302327 \n",
      " Best Fitness: 364.0 \n",
      " Worst Fitness: 68.0 \n",
      " Standard Error: 4.652861741436272\n"
     ]
    },
    {
     "name": "stderr",
     "output_type": "stream",
     "text": [
      "Generating Offspring: 100%|██████████████████████████████| 172/172 [01:53<00:00,  1.52it/s]\n",
      "Calculating fitnesses: 100%|█████████████████████████████| 215/215 [00:04<00:00, 47.24it/s]\n"
     ]
    },
    {
     "name": "stdout",
     "output_type": "stream",
     "text": [
      "[Generation: 24] \n",
      " Average Fitness: 277.9767441860465 \n",
      " Best Fitness: 500.0 \n",
      " Worst Fitness: 73.0 \n",
      " Standard Error: 4.642093309240556\n"
     ]
    },
    {
     "name": "stderr",
     "output_type": "stream",
     "text": [
      "Generating Offspring: 100%|██████████████████████████████| 172/172 [01:54<00:00,  1.50it/s]\n",
      "Calculating fitnesses: 100%|█████████████████████████████| 215/215 [00:04<00:00, 47.43it/s]\n"
     ]
    },
    {
     "name": "stdout",
     "output_type": "stream",
     "text": [
      "[Generation: 25] \n",
      " Average Fitness: 278.0837209302326 \n",
      " Best Fitness: 385.0 \n",
      " Worst Fitness: 83.0 \n",
      " Standard Error: 4.105272221083422\n"
     ]
    },
    {
     "name": "stderr",
     "output_type": "stream",
     "text": [
      "Generating Offspring: 100%|██████████████████████████████| 172/172 [01:54<00:00,  1.50it/s]\n",
      "Calculating fitnesses: 100%|█████████████████████████████| 215/215 [00:04<00:00, 46.16it/s]\n"
     ]
    },
    {
     "name": "stdout",
     "output_type": "stream",
     "text": [
      "[Generation: 26] \n",
      " Average Fitness: 285.86046511627904 \n",
      " Best Fitness: 383.0 \n",
      " Worst Fitness: 82.0 \n",
      " Standard Error: 3.7432248844270934\n"
     ]
    },
    {
     "name": "stderr",
     "output_type": "stream",
     "text": [
      "Generating Offspring: 100%|██████████████████████████████| 172/172 [01:55<00:00,  1.48it/s]\n",
      "Calculating fitnesses: 100%|█████████████████████████████| 215/215 [00:04<00:00, 48.28it/s]\n"
     ]
    },
    {
     "name": "stdout",
     "output_type": "stream",
     "text": [
      "[Generation: 27] \n",
      " Average Fitness: 273.72093023255815 \n",
      " Best Fitness: 373.0 \n",
      " Worst Fitness: 82.0 \n",
      " Standard Error: 4.4469176062506826\n"
     ]
    },
    {
     "name": "stderr",
     "output_type": "stream",
     "text": [
      "Generating Offspring: 100%|██████████████████████████████| 172/172 [01:53<00:00,  1.52it/s]\n",
      "Calculating fitnesses: 100%|█████████████████████████████| 215/215 [00:04<00:00, 48.09it/s]\n"
     ]
    },
    {
     "name": "stdout",
     "output_type": "stream",
     "text": [
      "[Generation: 28] \n",
      " Average Fitness: 272.65581395348835 \n",
      " Best Fitness: 404.0 \n",
      " Worst Fitness: 67.0 \n",
      " Standard Error: 4.487686382085401\n"
     ]
    },
    {
     "name": "stderr",
     "output_type": "stream",
     "text": [
      "Generating Offspring: 100%|██████████████████████████████| 172/172 [01:53<00:00,  1.51it/s]\n",
      "Calculating fitnesses: 100%|█████████████████████████████| 215/215 [00:04<00:00, 46.30it/s]\n"
     ]
    },
    {
     "name": "stdout",
     "output_type": "stream",
     "text": [
      "[Generation: 29] \n",
      " Average Fitness: 285.52558139534887 \n",
      " Best Fitness: 489.0 \n",
      " Worst Fitness: 86.0 \n",
      " Standard Error: 4.132950300357806\n"
     ]
    },
    {
     "name": "stderr",
     "output_type": "stream",
     "text": [
      "Generating Offspring: 100%|██████████████████████████████| 172/172 [01:55<00:00,  1.49it/s]\n",
      "Calculating fitnesses: 100%|█████████████████████████████| 215/215 [00:04<00:00, 46.65it/s]\n"
     ]
    },
    {
     "name": "stdout",
     "output_type": "stream",
     "text": [
      "[Generation: 30] \n",
      " Average Fitness: 281.30232558139534 \n",
      " Best Fitness: 481.0 \n",
      " Worst Fitness: 73.0 \n",
      " Standard Error: 3.974695412998029\n"
     ]
    },
    {
     "name": "stderr",
     "output_type": "stream",
     "text": [
      "Generating Offspring: 100%|██████████████████████████████| 172/172 [01:54<00:00,  1.50it/s]\n",
      "Calculating fitnesses: 100%|█████████████████████████████| 215/215 [00:04<00:00, 48.52it/s]\n"
     ]
    },
    {
     "name": "stdout",
     "output_type": "stream",
     "text": [
      "[Generation: 31] \n",
      " Average Fitness: 270.5674418604651 \n",
      " Best Fitness: 381.0 \n",
      " Worst Fitness: 75.0 \n",
      " Standard Error: 4.682459215101316\n"
     ]
    },
    {
     "name": "stderr",
     "output_type": "stream",
     "text": [
      "Generating Offspring: 100%|██████████████████████████████| 172/172 [01:52<00:00,  1.53it/s]\n",
      "Calculating fitnesses: 100%|█████████████████████████████| 215/215 [00:04<00:00, 47.78it/s]\n"
     ]
    },
    {
     "name": "stdout",
     "output_type": "stream",
     "text": [
      "[Generation: 32] \n",
      " Average Fitness: 276.7953488372093 \n",
      " Best Fitness: 362.0 \n",
      " Worst Fitness: 79.0 \n",
      " Standard Error: 3.9686529674138304\n"
     ]
    },
    {
     "name": "stderr",
     "output_type": "stream",
     "text": [
      "Generating Offspring: 100%|██████████████████████████████| 172/172 [01:54<00:00,  1.51it/s]\n",
      "Calculating fitnesses: 100%|█████████████████████████████| 215/215 [00:04<00:00, 48.21it/s]\n"
     ]
    },
    {
     "name": "stdout",
     "output_type": "stream",
     "text": [
      "[Generation: 33] \n",
      " Average Fitness: 273.2279069767442 \n",
      " Best Fitness: 373.0 \n",
      " Worst Fitness: 76.0 \n",
      " Standard Error: 4.293669446646369\n"
     ]
    },
    {
     "name": "stderr",
     "output_type": "stream",
     "text": [
      "Generating Offspring: 100%|██████████████████████████████| 172/172 [01:53<00:00,  1.51it/s]\n",
      "Calculating fitnesses: 100%|█████████████████████████████| 215/215 [00:04<00:00, 47.56it/s]\n"
     ]
    },
    {
     "name": "stdout",
     "output_type": "stream",
     "text": [
      "[Generation: 34] \n",
      " Average Fitness: 275.2139534883721 \n",
      " Best Fitness: 373.0 \n",
      " Worst Fitness: 69.0 \n",
      " Standard Error: 4.305180934214162\n"
     ]
    },
    {
     "name": "stderr",
     "output_type": "stream",
     "text": [
      "Generating Offspring: 100%|██████████████████████████████| 172/172 [01:55<00:00,  1.49it/s]\n",
      "Calculating fitnesses: 100%|█████████████████████████████| 215/215 [00:04<00:00, 45.80it/s]\n"
     ]
    },
    {
     "name": "stdout",
     "output_type": "stream",
     "text": [
      "[Generation: 35] \n",
      " Average Fitness: 286.33953488372094 \n",
      " Best Fitness: 389.0 \n",
      " Worst Fitness: 83.0 \n",
      " Standard Error: 3.6120743863607694\n"
     ]
    },
    {
     "name": "stderr",
     "output_type": "stream",
     "text": [
      "Generating Offspring: 100%|██████████████████████████████| 172/172 [01:56<00:00,  1.47it/s]\n",
      "Calculating fitnesses: 100%|█████████████████████████████| 215/215 [00:04<00:00, 45.72it/s]\n"
     ]
    },
    {
     "name": "stdout",
     "output_type": "stream",
     "text": [
      "[Generation: 36] \n",
      " Average Fitness: 284.51627906976745 \n",
      " Best Fitness: 380.0 \n",
      " Worst Fitness: 73.0 \n",
      " Standard Error: 3.379681842916651\n"
     ]
    },
    {
     "name": "stderr",
     "output_type": "stream",
     "text": [
      "Generating Offspring: 100%|██████████████████████████████| 172/172 [01:57<00:00,  1.46it/s]\n",
      "Calculating fitnesses: 100%|█████████████████████████████| 215/215 [00:04<00:00, 45.31it/s]\n"
     ]
    },
    {
     "name": "stdout",
     "output_type": "stream",
     "text": [
      "[Generation: 37] \n",
      " Average Fitness: 289.10697674418606 \n",
      " Best Fitness: 365.0 \n",
      " Worst Fitness: 87.0 \n",
      " Standard Error: 3.128906736980453\n"
     ]
    },
    {
     "name": "stderr",
     "output_type": "stream",
     "text": [
      "Generating Offspring: 100%|██████████████████████████████| 172/172 [01:58<00:00,  1.45it/s]\n",
      "Calculating fitnesses: 100%|█████████████████████████████| 215/215 [00:04<00:00, 45.85it/s]\n"
     ]
    },
    {
     "name": "stdout",
     "output_type": "stream",
     "text": [
      "[Generation: 38] \n",
      " Average Fitness: 286.13488372093025 \n",
      " Best Fitness: 400.0 \n",
      " Worst Fitness: 77.0 \n",
      " Standard Error: 3.504513463179698\n"
     ]
    },
    {
     "name": "stderr",
     "output_type": "stream",
     "text": [
      "Generating Offspring: 100%|██████████████████████████████| 172/172 [01:58<00:00,  1.46it/s]\n",
      "Calculating fitnesses: 100%|█████████████████████████████| 215/215 [00:04<00:00, 46.71it/s]\n"
     ]
    },
    {
     "name": "stdout",
     "output_type": "stream",
     "text": [
      "[Generation: 39] \n",
      " Average Fitness: 283.16279069767444 \n",
      " Best Fitness: 363.0 \n",
      " Worst Fitness: 77.0 \n",
      " Standard Error: 3.4985304528947925\n"
     ]
    },
    {
     "name": "stderr",
     "output_type": "stream",
     "text": [
      "Generating Offspring: 100%|██████████████████████████████| 172/172 [01:58<00:00,  1.45it/s]\n",
      "Calculating fitnesses: 100%|█████████████████████████████| 215/215 [00:04<00:00, 45.91it/s]\n"
     ]
    },
    {
     "name": "stdout",
     "output_type": "stream",
     "text": [
      "[Generation: 40] \n",
      " Average Fitness: 287.4046511627907 \n",
      " Best Fitness: 468.0 \n",
      " Worst Fitness: 83.0 \n",
      " Standard Error: 3.5235223336774\n"
     ]
    },
    {
     "name": "stderr",
     "output_type": "stream",
     "text": [
      "Generating Offspring: 100%|██████████████████████████████| 172/172 [01:58<00:00,  1.45it/s]\n",
      "Calculating fitnesses: 100%|█████████████████████████████| 215/215 [00:04<00:00, 45.63it/s]\n"
     ]
    },
    {
     "name": "stdout",
     "output_type": "stream",
     "text": [
      "[Generation: 41] \n",
      " Average Fitness: 289.7720930232558 \n",
      " Best Fitness: 400.0 \n",
      " Worst Fitness: 78.0 \n",
      " Standard Error: 3.4161290487707974\n"
     ]
    },
    {
     "name": "stderr",
     "output_type": "stream",
     "text": [
      "Generating Offspring: 100%|██████████████████████████████| 172/172 [01:58<00:00,  1.45it/s]\n",
      "Calculating fitnesses: 100%|█████████████████████████████| 215/215 [00:04<00:00, 46.01it/s]\n"
     ]
    },
    {
     "name": "stdout",
     "output_type": "stream",
     "text": [
      "[Generation: 42] \n",
      " Average Fitness: 287.29767441860463 \n",
      " Best Fitness: 368.0 \n",
      " Worst Fitness: 73.0 \n",
      " Standard Error: 3.508201180594006\n"
     ]
    },
    {
     "name": "stderr",
     "output_type": "stream",
     "text": [
      "Generating Offspring: 100%|██████████████████████████████| 172/172 [01:58<00:00,  1.45it/s]\n",
      "Calculating fitnesses: 100%|█████████████████████████████| 215/215 [00:04<00:00, 45.40it/s]\n"
     ]
    },
    {
     "name": "stdout",
     "output_type": "stream",
     "text": [
      "[Generation: 43] \n",
      " Average Fitness: 288.86511627906975 \n",
      " Best Fitness: 380.0 \n",
      " Worst Fitness: 81.0 \n",
      " Standard Error: 3.1731290307067352\n"
     ]
    },
    {
     "name": "stderr",
     "output_type": "stream",
     "text": [
      "Generating Offspring: 100%|██████████████████████████████| 172/172 [01:57<00:00,  1.46it/s]\n",
      "Calculating fitnesses: 100%|█████████████████████████████| 215/215 [00:04<00:00, 45.85it/s]\n"
     ]
    },
    {
     "name": "stdout",
     "output_type": "stream",
     "text": [
      "[Generation: 44] \n",
      " Average Fitness: 287.26976744186044 \n",
      " Best Fitness: 404.0 \n",
      " Worst Fitness: 90.0 \n",
      " Standard Error: 3.554238215315014\n"
     ]
    },
    {
     "name": "stderr",
     "output_type": "stream",
     "text": [
      "Generating Offspring: 100%|██████████████████████████████| 172/172 [01:57<00:00,  1.46it/s]\n",
      "Calculating fitnesses: 100%|█████████████████████████████| 215/215 [00:04<00:00, 46.06it/s]\n"
     ]
    },
    {
     "name": "stdout",
     "output_type": "stream",
     "text": [
      "[Generation: 45] \n",
      " Average Fitness: 285.1488372093023 \n",
      " Best Fitness: 391.0 \n",
      " Worst Fitness: 73.0 \n",
      " Standard Error: 3.9708381593935704\n"
     ]
    },
    {
     "name": "stderr",
     "output_type": "stream",
     "text": [
      "Generating Offspring: 100%|██████████████████████████████| 172/172 [01:55<00:00,  1.48it/s]\n",
      "Calculating fitnesses: 100%|█████████████████████████████| 215/215 [00:04<00:00, 44.98it/s]\n"
     ]
    },
    {
     "name": "stdout",
     "output_type": "stream",
     "text": [
      "[Generation: 46] \n",
      " Average Fitness: 289.09302325581393 \n",
      " Best Fitness: 500.0 \n",
      " Worst Fitness: 82.0 \n",
      " Standard Error: 3.9289277627928154\n"
     ]
    },
    {
     "name": "stderr",
     "output_type": "stream",
     "text": [
      "Generating Offspring: 100%|██████████████████████████████| 172/172 [01:56<00:00,  1.47it/s]\n",
      "Calculating fitnesses: 100%|█████████████████████████████| 215/215 [00:04<00:00, 45.41it/s]\n"
     ]
    },
    {
     "name": "stdout",
     "output_type": "stream",
     "text": [
      "[Generation: 47] \n",
      " Average Fitness: 288.6232558139535 \n",
      " Best Fitness: 376.0 \n",
      " Worst Fitness: 101.0 \n",
      " Standard Error: 3.4865484474656774\n"
     ]
    },
    {
     "name": "stderr",
     "output_type": "stream",
     "text": [
      "Generating Offspring: 100%|██████████████████████████████| 172/172 [01:56<00:00,  1.47it/s]\n",
      "Calculating fitnesses: 100%|█████████████████████████████| 215/215 [00:04<00:00, 45.87it/s]\n"
     ]
    },
    {
     "name": "stdout",
     "output_type": "stream",
     "text": [
      "[Generation: 48] \n",
      " Average Fitness: 285.42325581395346 \n",
      " Best Fitness: 458.0 \n",
      " Worst Fitness: 85.0 \n",
      " Standard Error: 3.5099401918583037\n"
     ]
    },
    {
     "name": "stderr",
     "output_type": "stream",
     "text": [
      "Generating Offspring: 100%|██████████████████████████████| 172/172 [01:57<00:00,  1.46it/s]\n",
      "Calculating fitnesses: 100%|█████████████████████████████| 215/215 [00:04<00:00, 45.55it/s]\n"
     ]
    },
    {
     "name": "stdout",
     "output_type": "stream",
     "text": [
      "[Generation: 49] \n",
      " Average Fitness: 286.1162790697674 \n",
      " Best Fitness: 400.0 \n",
      " Worst Fitness: 75.0 \n",
      " Standard Error: 3.870148611124064\n"
     ]
    },
    {
     "name": "stderr",
     "output_type": "stream",
     "text": [
      "Generating Offspring: 100%|██████████████████████████████| 172/172 [01:56<00:00,  1.47it/s]\n",
      "Calculating fitnesses: 100%|█████████████████████████████| 215/215 [00:04<00:00, 46.53it/s]\n"
     ]
    },
    {
     "name": "stdout",
     "output_type": "stream",
     "text": [
      "[Generation: 50] \n",
      " Average Fitness: 281.6511627906977 \n",
      " Best Fitness: 373.0 \n",
      " Worst Fitness: 75.0 \n",
      " Standard Error: 4.12483647752205\n"
     ]
    },
    {
     "name": "stderr",
     "output_type": "stream",
     "text": [
      "Generating Offspring: 100%|██████████████████████████████| 172/172 [01:55<00:00,  1.49it/s]\n",
      "Calculating fitnesses: 100%|█████████████████████████████| 215/215 [00:04<00:00, 46.17it/s]\n"
     ]
    },
    {
     "name": "stdout",
     "output_type": "stream",
     "text": [
      "[Generation: 51] \n",
      " Average Fitness: 283.7627906976744 \n",
      " Best Fitness: 394.0 \n",
      " Worst Fitness: 29.0 \n",
      " Standard Error: 3.9651790788944536\n"
     ]
    },
    {
     "name": "stderr",
     "output_type": "stream",
     "text": [
      "Generating Offspring: 100%|██████████████████████████████| 172/172 [01:56<00:00,  1.48it/s]\n",
      "Calculating fitnesses: 100%|█████████████████████████████| 215/215 [00:04<00:00, 46.13it/s]\n"
     ]
    },
    {
     "name": "stdout",
     "output_type": "stream",
     "text": [
      "[Generation: 52] \n",
      " Average Fitness: 283.5302325581395 \n",
      " Best Fitness: 500.0 \n",
      " Worst Fitness: 85.0 \n",
      " Standard Error: 3.989585315648253\n"
     ]
    },
    {
     "name": "stderr",
     "output_type": "stream",
     "text": [
      "Generating Offspring: 100%|██████████████████████████████| 172/172 [01:55<00:00,  1.49it/s]\n",
      "Calculating fitnesses: 100%|█████████████████████████████| 215/215 [00:04<00:00, 45.60it/s]\n"
     ]
    },
    {
     "name": "stdout",
     "output_type": "stream",
     "text": [
      "[Generation: 53] \n",
      " Average Fitness: 287.8 \n",
      " Best Fitness: 374.0 \n",
      " Worst Fitness: 80.0 \n",
      " Standard Error: 3.8850199098672844\n"
     ]
    },
    {
     "name": "stderr",
     "output_type": "stream",
     "text": [
      "Generating Offspring: 100%|██████████████████████████████| 172/172 [01:56<00:00,  1.47it/s]\n",
      "Calculating fitnesses: 100%|█████████████████████████████| 215/215 [00:04<00:00, 45.80it/s]\n"
     ]
    },
    {
     "name": "stdout",
     "output_type": "stream",
     "text": [
      "[Generation: 54] \n",
      " Average Fitness: 285.89302325581394 \n",
      " Best Fitness: 405.0 \n",
      " Worst Fitness: 74.0 \n",
      " Standard Error: 3.5475732267985087\n"
     ]
    },
    {
     "name": "stderr",
     "output_type": "stream",
     "text": [
      "Generating Offspring: 100%|██████████████████████████████| 172/172 [01:56<00:00,  1.47it/s]\n",
      "Calculating fitnesses: 100%|█████████████████████████████| 215/215 [00:04<00:00, 46.74it/s]\n"
     ]
    },
    {
     "name": "stdout",
     "output_type": "stream",
     "text": [
      "[Generation: 55] \n",
      " Average Fitness: 281.8279069767442 \n",
      " Best Fitness: 474.0 \n",
      " Worst Fitness: 73.0 \n",
      " Standard Error: 4.02241230496087\n"
     ]
    },
    {
     "name": "stderr",
     "output_type": "stream",
     "text": [
      "Generating Offspring: 100%|██████████████████████████████| 172/172 [01:54<00:00,  1.50it/s]\n",
      "Calculating fitnesses: 100%|█████████████████████████████| 215/215 [00:04<00:00, 48.33it/s]\n"
     ]
    },
    {
     "name": "stdout",
     "output_type": "stream",
     "text": [
      "[Generation: 56] \n",
      " Average Fitness: 273.07906976744187 \n",
      " Best Fitness: 394.0 \n",
      " Worst Fitness: 10.0 \n",
      " Standard Error: 4.511165254108904\n"
     ]
    },
    {
     "name": "stderr",
     "output_type": "stream",
     "text": [
      "Generating Offspring: 100%|██████████████████████████████| 172/172 [01:54<00:00,  1.51it/s]\n",
      "Calculating fitnesses: 100%|█████████████████████████████| 215/215 [00:04<00:00, 47.58it/s]\n"
     ]
    },
    {
     "name": "stdout",
     "output_type": "stream",
     "text": [
      "[Generation: 57] \n",
      " Average Fitness: 277.10697674418606 \n",
      " Best Fitness: 392.0 \n",
      " Worst Fitness: 79.0 \n",
      " Standard Error: 4.1971376889678\n"
     ]
    },
    {
     "name": "stderr",
     "output_type": "stream",
     "text": [
      "Generating Offspring: 100%|██████████████████████████████| 172/172 [01:54<00:00,  1.50it/s]\n",
      "Calculating fitnesses: 100%|█████████████████████████████| 215/215 [00:04<00:00, 47.16it/s]\n"
     ]
    },
    {
     "name": "stdout",
     "output_type": "stream",
     "text": [
      "[Generation: 58] \n",
      " Average Fitness: 277.6744186046512 \n",
      " Best Fitness: 424.0 \n",
      " Worst Fitness: 78.0 \n",
      " Standard Error: 4.3728510027495675\n"
     ]
    },
    {
     "name": "stderr",
     "output_type": "stream",
     "text": [
      "Generating Offspring: 100%|██████████████████████████████| 172/172 [01:52<00:00,  1.52it/s]\n",
      "Calculating fitnesses: 100%|█████████████████████████████| 215/215 [00:04<00:00, 48.95it/s]\n"
     ]
    },
    {
     "name": "stdout",
     "output_type": "stream",
     "text": [
      "[Generation: 59] \n",
      " Average Fitness: 269.9953488372093 \n",
      " Best Fitness: 482.0 \n",
      " Worst Fitness: 80.0 \n",
      " Standard Error: 4.73235175430451\n"
     ]
    },
    {
     "name": "stderr",
     "output_type": "stream",
     "text": [
      "Generating Offspring: 100%|██████████████████████████████| 172/172 [01:51<00:00,  1.55it/s]\n",
      "Calculating fitnesses: 100%|█████████████████████████████| 215/215 [00:04<00:00, 47.94it/s]\n"
     ]
    },
    {
     "name": "stdout",
     "output_type": "stream",
     "text": [
      "[Generation: 60] \n",
      " Average Fitness: 272.9627906976744 \n",
      " Best Fitness: 396.0 \n",
      " Worst Fitness: 69.0 \n",
      " Standard Error: 4.059698240091185\n"
     ]
    },
    {
     "name": "stderr",
     "output_type": "stream",
     "text": [
      "Generating Offspring: 100%|██████████████████████████████| 172/172 [01:54<00:00,  1.50it/s]\n",
      "Calculating fitnesses: 100%|█████████████████████████████| 215/215 [00:04<00:00, 48.94it/s]\n"
     ]
    },
    {
     "name": "stdout",
     "output_type": "stream",
     "text": [
      "[Generation: 61] \n",
      " Average Fitness: 271.86976744186046 \n",
      " Best Fitness: 372.0 \n",
      " Worst Fitness: 80.0 \n",
      " Standard Error: 4.130001011697965\n"
     ]
    },
    {
     "name": "stderr",
     "output_type": "stream",
     "text": [
      "Generating Offspring: 100%|██████████████████████████████| 172/172 [01:53<00:00,  1.51it/s]\n",
      "Calculating fitnesses: 100%|█████████████████████████████| 215/215 [00:04<00:00, 46.81it/s]\n"
     ]
    },
    {
     "name": "stdout",
     "output_type": "stream",
     "text": [
      "[Generation: 62] \n",
      " Average Fitness: 282.24651162790695 \n",
      " Best Fitness: 413.0 \n",
      " Worst Fitness: 79.0 \n",
      " Standard Error: 4.042353298356727\n"
     ]
    },
    {
     "name": "stderr",
     "output_type": "stream",
     "text": [
      "Generating Offspring: 100%|██████████████████████████████| 172/172 [01:54<00:00,  1.51it/s]\n",
      "Calculating fitnesses: 100%|█████████████████████████████| 215/215 [00:04<00:00, 46.51it/s]\n"
     ]
    },
    {
     "name": "stdout",
     "output_type": "stream",
     "text": [
      "[Generation: 63] \n",
      " Average Fitness: 281.7348837209302 \n",
      " Best Fitness: 380.0 \n",
      " Worst Fitness: 77.0 \n",
      " Standard Error: 3.830220740780575\n"
     ]
    },
    {
     "name": "stderr",
     "output_type": "stream",
     "text": [
      "Generating Offspring: 100%|██████████████████████████████| 172/172 [01:56<00:00,  1.48it/s]\n",
      "Calculating fitnesses: 100%|█████████████████████████████| 215/215 [00:04<00:00, 46.11it/s]\n"
     ]
    },
    {
     "name": "stdout",
     "output_type": "stream",
     "text": [
      "[Generation: 64] \n",
      " Average Fitness: 284.0186046511628 \n",
      " Best Fitness: 399.0 \n",
      " Worst Fitness: 81.0 \n",
      " Standard Error: 3.9017545905170192\n"
     ]
    },
    {
     "name": "stderr",
     "output_type": "stream",
     "text": [
      "Generating Offspring: 100%|██████████████████████████████| 172/172 [01:56<00:00,  1.47it/s]\n",
      "Calculating fitnesses: 100%|█████████████████████████████| 215/215 [00:04<00:00, 46.18it/s]\n"
     ]
    },
    {
     "name": "stdout",
     "output_type": "stream",
     "text": [
      "[Generation: 65] \n",
      " Average Fitness: 283.31162790697675 \n",
      " Best Fitness: 394.0 \n",
      " Worst Fitness: 79.0 \n",
      " Standard Error: 3.8605504294247406\n"
     ]
    },
    {
     "name": "stderr",
     "output_type": "stream",
     "text": [
      "Generating Offspring: 100%|██████████████████████████████| 172/172 [01:57<00:00,  1.47it/s]\n",
      "Calculating fitnesses: 100%|█████████████████████████████| 215/215 [00:04<00:00, 46.82it/s]\n"
     ]
    },
    {
     "name": "stdout",
     "output_type": "stream",
     "text": [
      "[Generation: 66] \n",
      " Average Fitness: 279.71627906976744 \n",
      " Best Fitness: 500.0 \n",
      " Worst Fitness: 73.0 \n",
      " Standard Error: 3.9501889143010263\n"
     ]
    },
    {
     "name": "stderr",
     "output_type": "stream",
     "text": [
      "Generating Offspring: 100%|██████████████████████████████| 172/172 [01:55<00:00,  1.49it/s]\n",
      "Calculating fitnesses: 100%|█████████████████████████████| 215/215 [00:04<00:00, 45.72it/s]\n"
     ]
    },
    {
     "name": "stdout",
     "output_type": "stream",
     "text": [
      "[Generation: 67] \n",
      " Average Fitness: 286.0046511627907 \n",
      " Best Fitness: 383.0 \n",
      " Worst Fitness: 8.0 \n",
      " Standard Error: 3.9551358036283872\n"
     ]
    },
    {
     "name": "stderr",
     "output_type": "stream",
     "text": [
      "Generating Offspring: 100%|██████████████████████████████| 172/172 [01:56<00:00,  1.48it/s]\n",
      "Calculating fitnesses: 100%|█████████████████████████████| 215/215 [00:04<00:00, 46.69it/s]\n"
     ]
    },
    {
     "name": "stdout",
     "output_type": "stream",
     "text": [
      "[Generation: 68] \n",
      " Average Fitness: 281.01395348837207 \n",
      " Best Fitness: 364.0 \n",
      " Worst Fitness: 96.0 \n",
      " Standard Error: 3.522002003426379\n"
     ]
    },
    {
     "name": "stderr",
     "output_type": "stream",
     "text": [
      "Generating Offspring: 100%|██████████████████████████████| 172/172 [01:57<00:00,  1.47it/s]\n",
      "Calculating fitnesses: 100%|█████████████████████████████| 215/215 [00:04<00:00, 46.17it/s]\n"
     ]
    },
    {
     "name": "stdout",
     "output_type": "stream",
     "text": [
      "[Generation: 69] \n",
      " Average Fitness: 283.8186046511628 \n",
      " Best Fitness: 399.0 \n",
      " Worst Fitness: 73.0 \n",
      " Standard Error: 3.5047703250156816\n"
     ]
    },
    {
     "name": "stderr",
     "output_type": "stream",
     "text": [
      "Generating Offspring: 100%|██████████████████████████████| 172/172 [01:57<00:00,  1.46it/s]\n",
      "Calculating fitnesses: 100%|█████████████████████████████| 215/215 [00:04<00:00, 46.31it/s]\n"
     ]
    },
    {
     "name": "stdout",
     "output_type": "stream",
     "text": [
      "[Generation: 70] \n",
      " Average Fitness: 282.8790697674419 \n",
      " Best Fitness: 385.0 \n",
      " Worst Fitness: 79.0 \n",
      " Standard Error: 3.5177596300641114\n"
     ]
    },
    {
     "name": "stderr",
     "output_type": "stream",
     "text": [
      "Generating Offspring: 100%|██████████████████████████████| 172/172 [01:57<00:00,  1.46it/s]\n",
      "Calculating fitnesses: 100%|█████████████████████████████| 215/215 [00:04<00:00, 45.88it/s]\n"
     ]
    },
    {
     "name": "stdout",
     "output_type": "stream",
     "text": [
      "[Generation: 71] \n",
      " Average Fitness: 285.6697674418605 \n",
      " Best Fitness: 372.0 \n",
      " Worst Fitness: 75.0 \n",
      " Standard Error: 3.2411501680470787\n"
     ]
    },
    {
     "name": "stderr",
     "output_type": "stream",
     "text": [
      "Generating Offspring: 100%|██████████████████████████████| 172/172 [01:58<00:00,  1.45it/s]\n",
      "Calculating fitnesses: 100%|█████████████████████████████| 215/215 [00:04<00:00, 46.90it/s]\n"
     ]
    },
    {
     "name": "stdout",
     "output_type": "stream",
     "text": [
      "[Generation: 72] \n",
      " Average Fitness: 281.48372093023255 \n",
      " Best Fitness: 405.0 \n",
      " Worst Fitness: 9.0 \n",
      " Standard Error: 3.5585996778978046\n"
     ]
    },
    {
     "name": "stderr",
     "output_type": "stream",
     "text": [
      "Generating Offspring: 100%|██████████████████████████████| 172/172 [01:57<00:00,  1.46it/s]\n",
      "Calculating fitnesses: 100%|█████████████████████████████| 215/215 [00:04<00:00, 47.11it/s]\n"
     ]
    },
    {
     "name": "stdout",
     "output_type": "stream",
     "text": [
      "[Generation: 73] \n",
      " Average Fitness: 279.68837209302325 \n",
      " Best Fitness: 391.0 \n",
      " Worst Fitness: 85.0 \n",
      " Standard Error: 3.790320783756719\n"
     ]
    },
    {
     "name": "stderr",
     "output_type": "stream",
     "text": [
      "Generating Offspring: 100%|██████████████████████████████| 172/172 [01:57<00:00,  1.46it/s]\n",
      "Calculating fitnesses: 100%|█████████████████████████████| 215/215 [00:04<00:00, 46.47it/s]\n"
     ]
    },
    {
     "name": "stdout",
     "output_type": "stream",
     "text": [
      "[Generation: 74] \n",
      " Average Fitness: 284.8325581395349 \n",
      " Best Fitness: 370.0 \n",
      " Worst Fitness: 81.0 \n",
      " Standard Error: 3.434486276163697\n"
     ]
    },
    {
     "name": "stderr",
     "output_type": "stream",
     "text": [
      "Generating Offspring: 100%|██████████████████████████████| 172/172 [01:58<00:00,  1.45it/s]\n",
      "Calculating fitnesses: 100%|█████████████████████████████| 215/215 [00:04<00:00, 45.07it/s]\n"
     ]
    },
    {
     "name": "stdout",
     "output_type": "stream",
     "text": [
      "[Generation: 75] \n",
      " Average Fitness: 291.3813953488372 \n",
      " Best Fitness: 404.0 \n",
      " Worst Fitness: 77.0 \n",
      " Standard Error: 3.4798726564792264\n"
     ]
    },
    {
     "name": "stderr",
     "output_type": "stream",
     "text": [
      "Generating Offspring: 100%|██████████████████████████████| 172/172 [01:58<00:00,  1.46it/s]\n",
      "Calculating fitnesses: 100%|█████████████████████████████| 215/215 [00:04<00:00, 46.55it/s]\n"
     ]
    },
    {
     "name": "stdout",
     "output_type": "stream",
     "text": [
      "[Generation: 76] \n",
      " Average Fitness: 283.7674418604651 \n",
      " Best Fitness: 379.0 \n",
      " Worst Fitness: 80.0 \n",
      " Standard Error: 3.3468361405295175\n"
     ]
    },
    {
     "name": "stderr",
     "output_type": "stream",
     "text": [
      "Generating Offspring: 100%|██████████████████████████████| 172/172 [01:58<00:00,  1.45it/s]\n",
      "Calculating fitnesses: 100%|█████████████████████████████| 215/215 [00:04<00:00, 45.80it/s]\n"
     ]
    },
    {
     "name": "stdout",
     "output_type": "stream",
     "text": [
      "[Generation: 77] \n",
      " Average Fitness: 286.06511627906974 \n",
      " Best Fitness: 395.0 \n",
      " Worst Fitness: 71.0 \n",
      " Standard Error: 3.57827699522485\n"
     ]
    },
    {
     "name": "stderr",
     "output_type": "stream",
     "text": [
      "Generating Offspring: 100%|██████████████████████████████| 172/172 [01:58<00:00,  1.46it/s]\n",
      "Calculating fitnesses: 100%|█████████████████████████████| 215/215 [00:04<00:00, 45.74it/s]\n"
     ]
    },
    {
     "name": "stdout",
     "output_type": "stream",
     "text": [
      "[Generation: 78] \n",
      " Average Fitness: 284.3953488372093 \n",
      " Best Fitness: 365.0 \n",
      " Worst Fitness: 87.0 \n",
      " Standard Error: 3.3959312990917843\n"
     ]
    },
    {
     "name": "stderr",
     "output_type": "stream",
     "text": [
      "Generating Offspring: 100%|██████████████████████████████| 172/172 [01:58<00:00,  1.45it/s]\n",
      "Calculating fitnesses: 100%|█████████████████████████████| 215/215 [00:04<00:00, 44.82it/s]\n"
     ]
    },
    {
     "name": "stdout",
     "output_type": "stream",
     "text": [
      "[Generation: 79] \n",
      " Average Fitness: 290.7860465116279 \n",
      " Best Fitness: 382.0 \n",
      " Worst Fitness: 79.0 \n",
      " Standard Error: 3.0357364308987695\n"
     ]
    },
    {
     "name": "stderr",
     "output_type": "stream",
     "text": [
      "Generating Offspring: 100%|██████████████████████████████| 172/172 [01:58<00:00,  1.45it/s]\n",
      "Calculating fitnesses: 100%|█████████████████████████████| 215/215 [00:04<00:00, 44.81it/s]\n"
     ]
    },
    {
     "name": "stdout",
     "output_type": "stream",
     "text": [
      "[Generation: 80] \n",
      " Average Fitness: 292.6279069767442 \n",
      " Best Fitness: 414.0 \n",
      " Worst Fitness: 78.0 \n",
      " Standard Error: 3.028396478787916\n"
     ]
    },
    {
     "name": "stderr",
     "output_type": "stream",
     "text": [
      "Generating Offspring: 100%|██████████████████████████████| 172/172 [01:58<00:00,  1.45it/s]\n",
      "Calculating fitnesses: 100%|█████████████████████████████| 215/215 [00:04<00:00, 46.07it/s]\n"
     ]
    },
    {
     "name": "stdout",
     "output_type": "stream",
     "text": [
      "[Generation: 81] \n",
      " Average Fitness: 286.45581395348836 \n",
      " Best Fitness: 381.0 \n",
      " Worst Fitness: 83.0 \n",
      " Standard Error: 3.2246582091443705\n"
     ]
    },
    {
     "name": "stderr",
     "output_type": "stream",
     "text": [
      "Generating Offspring: 100%|██████████████████████████████| 172/172 [01:58<00:00,  1.45it/s]\n",
      "Calculating fitnesses: 100%|█████████████████████████████| 215/215 [00:04<00:00, 45.41it/s]\n"
     ]
    },
    {
     "name": "stdout",
     "output_type": "stream",
     "text": [
      "[Generation: 82] \n",
      " Average Fitness: 291.28372093023256 \n",
      " Best Fitness: 367.0 \n",
      " Worst Fitness: 125.0 \n",
      " Standard Error: 2.6951931944937897\n"
     ]
    },
    {
     "name": "stderr",
     "output_type": "stream",
     "text": [
      "Generating Offspring: 100%|██████████████████████████████| 172/172 [01:59<00:00,  1.44it/s]\n",
      "Calculating fitnesses: 100%|█████████████████████████████| 215/215 [00:04<00:00, 45.64it/s]\n"
     ]
    },
    {
     "name": "stdout",
     "output_type": "stream",
     "text": [
      "[Generation: 83] \n",
      " Average Fitness: 286.7395348837209 \n",
      " Best Fitness: 378.0 \n",
      " Worst Fitness: 121.0 \n",
      " Standard Error: 2.88947085397749\n"
     ]
    },
    {
     "name": "stderr",
     "output_type": "stream",
     "text": [
      "Generating Offspring: 100%|██████████████████████████████| 172/172 [01:59<00:00,  1.44it/s]\n",
      "Calculating fitnesses: 100%|█████████████████████████████| 215/215 [00:04<00:00, 45.66it/s]\n"
     ]
    },
    {
     "name": "stdout",
     "output_type": "stream",
     "text": [
      "[Generation: 84] \n",
      " Average Fitness: 287.90697674418607 \n",
      " Best Fitness: 376.0 \n",
      " Worst Fitness: 166.0 \n",
      " Standard Error: 2.861469140290774\n"
     ]
    },
    {
     "name": "stderr",
     "output_type": "stream",
     "text": [
      "Generating Offspring: 100%|██████████████████████████████| 172/172 [01:59<00:00,  1.43it/s]\n",
      "Calculating fitnesses: 100%|█████████████████████████████| 215/215 [00:04<00:00, 45.02it/s]\n"
     ]
    },
    {
     "name": "stdout",
     "output_type": "stream",
     "text": [
      "[Generation: 85] \n",
      " Average Fitness: 293.90232558139536 \n",
      " Best Fitness: 389.0 \n",
      " Worst Fitness: 10.0 \n",
      " Standard Error: 3.2173356393648285\n"
     ]
    },
    {
     "name": "stderr",
     "output_type": "stream",
     "text": [
      "Generating Offspring: 100%|██████████████████████████████| 172/172 [01:59<00:00,  1.44it/s]\n",
      "Calculating fitnesses: 100%|█████████████████████████████| 215/215 [00:04<00:00, 45.45it/s]\n"
     ]
    },
    {
     "name": "stdout",
     "output_type": "stream",
     "text": [
      "[Generation: 86] \n",
      " Average Fitness: 291.2418604651163 \n",
      " Best Fitness: 374.0 \n",
      " Worst Fitness: 188.0 \n",
      " Standard Error: 2.887062867102993\n"
     ]
    },
    {
     "name": "stderr",
     "output_type": "stream",
     "text": [
      "Generating Offspring: 100%|██████████████████████████████| 172/172 [01:59<00:00,  1.44it/s]\n",
      "Calculating fitnesses: 100%|█████████████████████████████| 215/215 [00:04<00:00, 45.49it/s]\n"
     ]
    },
    {
     "name": "stdout",
     "output_type": "stream",
     "text": [
      "[Generation: 87] \n",
      " Average Fitness: 288.3627906976744 \n",
      " Best Fitness: 403.0 \n",
      " Worst Fitness: 9.0 \n",
      " Standard Error: 3.193824534309454\n"
     ]
    },
    {
     "name": "stderr",
     "output_type": "stream",
     "text": [
      "Generating Offspring: 100%|██████████████████████████████| 172/172 [01:59<00:00,  1.44it/s]\n",
      "Calculating fitnesses: 100%|█████████████████████████████| 215/215 [00:04<00:00, 45.74it/s]\n"
     ]
    },
    {
     "name": "stdout",
     "output_type": "stream",
     "text": [
      "[Generation: 88] \n",
      " Average Fitness: 289.2093023255814 \n",
      " Best Fitness: 377.0 \n",
      " Worst Fitness: 170.0 \n",
      " Standard Error: 2.847624836837654\n"
     ]
    },
    {
     "name": "stderr",
     "output_type": "stream",
     "text": [
      "Generating Offspring: 100%|██████████████████████████████| 172/172 [02:00<00:00,  1.43it/s]\n",
      "Calculating fitnesses: 100%|█████████████████████████████| 215/215 [00:04<00:00, 46.08it/s]\n"
     ]
    },
    {
     "name": "stdout",
     "output_type": "stream",
     "text": [
      "[Generation: 89] \n",
      " Average Fitness: 286.5953488372093 \n",
      " Best Fitness: 367.0 \n",
      " Worst Fitness: 191.0 \n",
      " Standard Error: 2.6280953861289778\n"
     ]
    },
    {
     "name": "stderr",
     "output_type": "stream",
     "text": [
      "Generating Offspring: 100%|██████████████████████████████| 172/172 [01:59<00:00,  1.44it/s]\n",
      "Calculating fitnesses: 100%|█████████████████████████████| 215/215 [00:04<00:00, 45.62it/s]\n"
     ]
    },
    {
     "name": "stdout",
     "output_type": "stream",
     "text": [
      "[Generation: 90] \n",
      " Average Fitness: 286.9116279069767 \n",
      " Best Fitness: 389.0 \n",
      " Worst Fitness: 124.0 \n",
      " Standard Error: 3.129076158125934\n"
     ]
    },
    {
     "name": "stderr",
     "output_type": "stream",
     "text": [
      "Generating Offspring: 100%|██████████████████████████████| 172/172 [01:59<00:00,  1.44it/s]\n",
      "Calculating fitnesses: 100%|█████████████████████████████| 215/215 [00:04<00:00, 44.38it/s]\n"
     ]
    },
    {
     "name": "stdout",
     "output_type": "stream",
     "text": [
      "[Generation: 91] \n",
      " Average Fitness: 293.2651162790698 \n",
      " Best Fitness: 380.0 \n",
      " Worst Fitness: 225.0 \n",
      " Standard Error: 2.757376892670825\n"
     ]
    },
    {
     "name": "stderr",
     "output_type": "stream",
     "text": [
      "Generating Offspring: 100%|██████████████████████████████| 172/172 [01:59<00:00,  1.43it/s]\n",
      "Calculating fitnesses: 100%|█████████████████████████████| 215/215 [00:04<00:00, 45.25it/s]\n"
     ]
    },
    {
     "name": "stdout",
     "output_type": "stream",
     "text": [
      "[Generation: 92] \n",
      " Average Fitness: 292.19069767441863 \n",
      " Best Fitness: 392.0 \n",
      " Worst Fitness: 166.0 \n",
      " Standard Error: 2.9346100475488592\n"
     ]
    },
    {
     "name": "stderr",
     "output_type": "stream",
     "text": [
      "Generating Offspring: 100%|██████████████████████████████| 172/172 [01:59<00:00,  1.43it/s]\n",
      "Calculating fitnesses: 100%|█████████████████████████████| 215/215 [00:04<00:00, 44.73it/s]\n"
     ]
    },
    {
     "name": "stdout",
     "output_type": "stream",
     "text": [
      "[Generation: 93] \n",
      " Average Fitness: 293.153488372093 \n",
      " Best Fitness: 389.0 \n",
      " Worst Fitness: 169.0 \n",
      " Standard Error: 2.7818532601569554\n"
     ]
    },
    {
     "name": "stderr",
     "output_type": "stream",
     "text": [
      "Generating Offspring: 100%|██████████████████████████████| 172/172 [02:00<00:00,  1.43it/s]\n",
      "Calculating fitnesses: 100%|█████████████████████████████| 215/215 [00:04<00:00, 45.49it/s]\n"
     ]
    },
    {
     "name": "stdout",
     "output_type": "stream",
     "text": [
      "[Generation: 94] \n",
      " Average Fitness: 289.0046511627907 \n",
      " Best Fitness: 389.0 \n",
      " Worst Fitness: 10.0 \n",
      " Standard Error: 3.173382134209562\n"
     ]
    },
    {
     "name": "stderr",
     "output_type": "stream",
     "text": [
      "Generating Offspring: 100%|██████████████████████████████| 172/172 [01:59<00:00,  1.44it/s]\n",
      "Calculating fitnesses: 100%|█████████████████████████████| 215/215 [00:04<00:00, 44.95it/s]\n"
     ]
    },
    {
     "name": "stdout",
     "output_type": "stream",
     "text": [
      "[Generation: 95] \n",
      " Average Fitness: 293.7674418604651 \n",
      " Best Fitness: 375.0 \n",
      " Worst Fitness: 172.0 \n",
      " Standard Error: 2.801877735689305\n"
     ]
    },
    {
     "name": "stderr",
     "output_type": "stream",
     "text": [
      "Generating Offspring: 100%|██████████████████████████████| 172/172 [01:59<00:00,  1.44it/s]\n",
      "Calculating fitnesses: 100%|█████████████████████████████| 215/215 [00:04<00:00, 45.17it/s]\n"
     ]
    },
    {
     "name": "stdout",
     "output_type": "stream",
     "text": [
      "[Generation: 96] \n",
      " Average Fitness: 292.10232558139535 \n",
      " Best Fitness: 368.0 \n",
      " Worst Fitness: 9.0 \n",
      " Standard Error: 3.0123117246521907\n"
     ]
    },
    {
     "name": "stderr",
     "output_type": "stream",
     "text": [
      "Generating Offspring: 100%|██████████████████████████████| 172/172 [01:59<00:00,  1.44it/s]\n",
      "Calculating fitnesses: 100%|█████████████████████████████| 215/215 [00:04<00:00, 45.10it/s]\n"
     ]
    },
    {
     "name": "stdout",
     "output_type": "stream",
     "text": [
      "[Generation: 97] \n",
      " Average Fitness: 291.11162790697676 \n",
      " Best Fitness: 371.0 \n",
      " Worst Fitness: 191.0 \n",
      " Standard Error: 2.780733388360067\n"
     ]
    },
    {
     "name": "stderr",
     "output_type": "stream",
     "text": [
      "Generating Offspring: 100%|██████████████████████████████| 172/172 [02:00<00:00,  1.43it/s]\n",
      "Calculating fitnesses: 100%|█████████████████████████████| 215/215 [00:04<00:00, 44.67it/s]\n"
     ]
    },
    {
     "name": "stdout",
     "output_type": "stream",
     "text": [
      "[Generation: 98] \n",
      " Average Fitness: 293.2325581395349 \n",
      " Best Fitness: 366.0 \n",
      " Worst Fitness: 173.0 \n",
      " Standard Error: 2.741148732260998\n"
     ]
    },
    {
     "name": "stderr",
     "output_type": "stream",
     "text": [
      "Generating Offspring: 100%|██████████████████████████████| 172/172 [01:59<00:00,  1.44it/s]\n",
      "Calculating fitnesses: 100%|█████████████████████████████| 215/215 [00:04<00:00, 44.92it/s]\n"
     ]
    },
    {
     "name": "stdout",
     "output_type": "stream",
     "text": [
      "[Generation: 99] \n",
      " Average Fitness: 294.1441860465116 \n",
      " Best Fitness: 372.0 \n",
      " Worst Fitness: 169.0 \n",
      " Standard Error: 2.748094240888426\n"
     ]
    },
    {
     "name": "stderr",
     "output_type": "stream",
     "text": [
      "Generating Offspring: 100%|██████████████████████████████| 172/172 [02:00<00:00,  1.43it/s]\n",
      "Calculating fitnesses: 100%|█████████████████████████████| 215/215 [00:04<00:00, 45.31it/s]\n"
     ]
    },
    {
     "name": "stdout",
     "output_type": "stream",
     "text": [
      "[Generation: 100] \n",
      " Average Fitness: 289.78139534883724 \n",
      " Best Fitness: 380.0 \n",
      " Worst Fitness: 171.0 \n",
      " Standard Error: 2.8468429517681626\n"
     ]
    },
    {
     "name": "stderr",
     "output_type": "stream",
     "text": [
      "Generating Offspring: 100%|██████████████████████████████| 172/172 [01:59<00:00,  1.43it/s]\n"
     ]
    },
    {
     "name": "stdout",
     "output_type": "stream",
     "text": [
      "| \u001b[0m10       \u001b[0m | \u001b[0m398.0    \u001b[0m | \u001b[0m43.15    \u001b[0m | \u001b[0m100.0    \u001b[0m | \u001b[0m1.0      \u001b[0m | \u001b[0m1.0      \u001b[0m | \u001b[0m215.6    \u001b[0m | \u001b[0m30.0     \u001b[0m |\n"
     ]
    },
    {
     "name": "stderr",
     "output_type": "stream",
     "text": [
      "Calculating fitnesses: 100%|████████████████████████████| 170/170 [00:00<00:00, 554.30it/s]\n"
     ]
    },
    {
     "name": "stdout",
     "output_type": "stream",
     "text": [
      "[Generation: 1] \n",
      " Average Fitness: 21.28235294117647 \n",
      " Best Fitness: 92.0 \n",
      " Worst Fitness: 8.0 \n",
      " Standard Error: 0.8639519978596968\n"
     ]
    },
    {
     "name": "stderr",
     "output_type": "stream",
     "text": [
      "Generating Offspring: 100%|███████████████████████████████| 58/58 [00:00<00:00, 175.79it/s]\n",
      "Calculating fitnesses: 100%|████████████████████████████| 170/170 [00:00<00:00, 643.17it/s]\n"
     ]
    },
    {
     "name": "stdout",
     "output_type": "stream",
     "text": [
      "[Generation: 2] \n",
      " Average Fitness: 18.9 \n",
      " Best Fitness: 59.0 \n",
      " Worst Fitness: 8.0 \n",
      " Standard Error: 0.8398634964419877\n"
     ]
    },
    {
     "name": "stderr",
     "output_type": "stream",
     "text": [
      "Generating Offspring: 100%|███████████████████████████████| 58/58 [00:00<00:00, 160.01it/s]\n",
      "Calculating fitnesses: 100%|████████████████████████████| 170/170 [00:00<00:00, 543.30it/s]\n"
     ]
    },
    {
     "name": "stdout",
     "output_type": "stream",
     "text": [
      "[Generation: 3] \n",
      " Average Fitness: 24.764705882352942 \n",
      " Best Fitness: 117.0 \n",
      " Worst Fitness: 8.0 \n",
      " Standard Error: 1.4900130260492768\n"
     ]
    },
    {
     "name": "stderr",
     "output_type": "stream",
     "text": [
      "Generating Offspring: 100%|███████████████████████████████| 58/58 [00:00<00:00, 146.91it/s]\n",
      "Calculating fitnesses: 100%|████████████████████████████| 170/170 [00:00<00:00, 470.72it/s]\n"
     ]
    },
    {
     "name": "stdout",
     "output_type": "stream",
     "text": [
      "[Generation: 4] \n",
      " Average Fitness: 28.53529411764706 \n",
      " Best Fitness: 191.0 \n",
      " Worst Fitness: 8.0 \n",
      " Standard Error: 2.0668457401184224\n"
     ]
    },
    {
     "name": "stderr",
     "output_type": "stream",
     "text": [
      "Generating Offspring: 100%|███████████████████████████████| 58/58 [00:00<00:00, 112.33it/s]\n",
      "Calculating fitnesses: 100%|████████████████████████████| 170/170 [00:00<00:00, 397.61it/s]\n"
     ]
    },
    {
     "name": "stdout",
     "output_type": "stream",
     "text": [
      "[Generation: 5] \n",
      " Average Fitness: 34.029411764705884 \n",
      " Best Fitness: 170.0 \n",
      " Worst Fitness: 8.0 \n",
      " Standard Error: 2.3165955924416695\n"
     ]
    },
    {
     "name": "stderr",
     "output_type": "stream",
     "text": [
      "Generating Offspring: 100%|████████████████████████████████| 58/58 [00:00<00:00, 90.16it/s]\n",
      "Calculating fitnesses: 100%|████████████████████████████| 170/170 [00:00<00:00, 289.30it/s]\n"
     ]
    },
    {
     "name": "stdout",
     "output_type": "stream",
     "text": [
      "[Generation: 6] \n",
      " Average Fitness: 46.741176470588236 \n",
      " Best Fitness: 232.0 \n",
      " Worst Fitness: 8.0 \n",
      " Standard Error: 2.9469412352624214\n"
     ]
    },
    {
     "name": "stderr",
     "output_type": "stream",
     "text": [
      "Generating Offspring: 100%|████████████████████████████████| 58/58 [00:00<00:00, 72.02it/s]\n",
      "Calculating fitnesses: 100%|████████████████████████████| 170/170 [00:00<00:00, 226.95it/s]\n"
     ]
    },
    {
     "name": "stdout",
     "output_type": "stream",
     "text": [
      "[Generation: 7] \n",
      " Average Fitness: 59.37647058823529 \n",
      " Best Fitness: 276.0 \n",
      " Worst Fitness: 8.0 \n",
      " Standard Error: 3.170214152897218\n"
     ]
    },
    {
     "name": "stderr",
     "output_type": "stream",
     "text": [
      "Generating Offspring: 100%|████████████████████████████████| 58/58 [00:00<00:00, 63.74it/s]\n",
      "Calculating fitnesses: 100%|████████████████████████████| 170/170 [00:00<00:00, 195.82it/s]\n"
     ]
    },
    {
     "name": "stdout",
     "output_type": "stream",
     "text": [
      "[Generation: 8] \n",
      " Average Fitness: 68.78235294117647 \n",
      " Best Fitness: 245.0 \n",
      " Worst Fitness: 9.0 \n",
      " Standard Error: 3.29645015251774\n"
     ]
    },
    {
     "name": "stderr",
     "output_type": "stream",
     "text": [
      "Generating Offspring: 100%|████████████████████████████████| 58/58 [00:01<00:00, 50.75it/s]\n",
      "Calculating fitnesses: 100%|████████████████████████████| 170/170 [00:01<00:00, 164.07it/s]\n"
     ]
    },
    {
     "name": "stdout",
     "output_type": "stream",
     "text": [
      "[Generation: 9] \n",
      " Average Fitness: 82.50588235294117 \n",
      " Best Fitness: 172.0 \n",
      " Worst Fitness: 14.0 \n",
      " Standard Error: 3.07932312571334\n"
     ]
    },
    {
     "name": "stderr",
     "output_type": "stream",
     "text": [
      "Generating Offspring: 100%|████████████████████████████████| 58/58 [00:01<00:00, 38.76it/s]\n",
      "Calculating fitnesses: 100%|████████████████████████████| 170/170 [00:01<00:00, 129.56it/s]\n"
     ]
    },
    {
     "name": "stdout",
     "output_type": "stream",
     "text": [
      "[Generation: 10] \n",
      " Average Fitness: 104.54705882352941 \n",
      " Best Fitness: 221.0 \n",
      " Worst Fitness: 28.0 \n",
      " Standard Error: 3.025533085839984\n"
     ]
    },
    {
     "name": "stderr",
     "output_type": "stream",
     "text": [
      "Generating Offspring: 100%|████████████████████████████████| 58/58 [00:01<00:00, 34.69it/s]\n",
      "Calculating fitnesses: 100%|████████████████████████████| 170/170 [00:01<00:00, 113.11it/s]\n"
     ]
    },
    {
     "name": "stdout",
     "output_type": "stream",
     "text": [
      "[Generation: 11] \n",
      " Average Fitness: 116.32352941176471 \n",
      " Best Fitness: 279.0 \n",
      " Worst Fitness: 50.0 \n",
      " Standard Error: 2.8053402773610103\n"
     ]
    },
    {
     "name": "stderr",
     "output_type": "stream",
     "text": [
      "Generating Offspring: 100%|████████████████████████████████| 58/58 [00:01<00:00, 30.80it/s]\n",
      "Calculating fitnesses: 100%|████████████████████████████| 170/170 [00:01<00:00, 112.40it/s]\n"
     ]
    },
    {
     "name": "stdout",
     "output_type": "stream",
     "text": [
      "[Generation: 12] \n",
      " Average Fitness: 120.72941176470589 \n",
      " Best Fitness: 187.0 \n",
      " Worst Fitness: 48.0 \n",
      " Standard Error: 2.0418826661143115\n"
     ]
    },
    {
     "name": "stderr",
     "output_type": "stream",
     "text": [
      "Generating Offspring: 100%|████████████████████████████████| 58/58 [00:01<00:00, 29.66it/s]\n",
      "Calculating fitnesses: 100%|████████████████████████████| 170/170 [00:01<00:00, 108.33it/s]\n"
     ]
    },
    {
     "name": "stdout",
     "output_type": "stream",
     "text": [
      "[Generation: 13] \n",
      " Average Fitness: 124.40588235294118 \n",
      " Best Fitness: 272.0 \n",
      " Worst Fitness: 47.0 \n",
      " Standard Error: 2.352039898739906\n"
     ]
    },
    {
     "name": "stderr",
     "output_type": "stream",
     "text": [
      "Generating Offspring: 100%|████████████████████████████████| 58/58 [00:01<00:00, 29.70it/s]\n",
      "Calculating fitnesses: 100%|████████████████████████████| 170/170 [00:01<00:00, 100.70it/s]\n"
     ]
    },
    {
     "name": "stdout",
     "output_type": "stream",
     "text": [
      "[Generation: 14] \n",
      " Average Fitness: 131.50588235294117 \n",
      " Best Fitness: 317.0 \n",
      " Worst Fitness: 50.0 \n",
      " Standard Error: 2.382574620239844\n"
     ]
    },
    {
     "name": "stderr",
     "output_type": "stream",
     "text": [
      "Generating Offspring: 100%|████████████████████████████████| 58/58 [00:01<00:00, 29.97it/s]\n",
      "Calculating fitnesses: 100%|████████████████████████████| 170/170 [00:01<00:00, 105.82it/s]\n"
     ]
    },
    {
     "name": "stdout",
     "output_type": "stream",
     "text": [
      "[Generation: 15] \n",
      " Average Fitness: 125.09411764705882 \n",
      " Best Fitness: 278.0 \n",
      " Worst Fitness: 51.0 \n",
      " Standard Error: 2.028928396760269\n"
     ]
    },
    {
     "name": "stderr",
     "output_type": "stream",
     "text": [
      "Generating Offspring: 100%|████████████████████████████████| 58/58 [00:02<00:00, 28.78it/s]\n",
      "Calculating fitnesses: 100%|████████████████████████████| 170/170 [00:01<00:00, 102.55it/s]\n"
     ]
    },
    {
     "name": "stdout",
     "output_type": "stream",
     "text": [
      "[Generation: 16] \n",
      " Average Fitness: 131.7235294117647 \n",
      " Best Fitness: 219.0 \n",
      " Worst Fitness: 61.0 \n",
      " Standard Error: 1.8923151039323725\n"
     ]
    },
    {
     "name": "stderr",
     "output_type": "stream",
     "text": [
      "Generating Offspring: 100%|████████████████████████████████| 58/58 [00:02<00:00, 28.72it/s]\n",
      "Calculating fitnesses: 100%|████████████████████████████| 170/170 [00:01<00:00, 102.65it/s]\n"
     ]
    },
    {
     "name": "stdout",
     "output_type": "stream",
     "text": [
      "[Generation: 17] \n",
      " Average Fitness: 131.6529411764706 \n",
      " Best Fitness: 235.0 \n",
      " Worst Fitness: 63.0 \n",
      " Standard Error: 1.7788106126268377\n"
     ]
    },
    {
     "name": "stderr",
     "output_type": "stream",
     "text": [
      "Generating Offspring: 100%|████████████████████████████████| 58/58 [00:02<00:00, 27.89it/s]\n",
      "Calculating fitnesses: 100%|████████████████████████████| 170/170 [00:01<00:00, 102.93it/s]\n"
     ]
    },
    {
     "name": "stdout",
     "output_type": "stream",
     "text": [
      "[Generation: 18] \n",
      " Average Fitness: 129.75882352941176 \n",
      " Best Fitness: 209.0 \n",
      " Worst Fitness: 43.0 \n",
      " Standard Error: 2.010822716546451\n"
     ]
    },
    {
     "name": "stderr",
     "output_type": "stream",
     "text": [
      "Generating Offspring: 100%|████████████████████████████████| 58/58 [00:02<00:00, 28.59it/s]\n",
      "Calculating fitnesses: 100%|████████████████████████████| 170/170 [00:01<00:00, 101.91it/s]\n"
     ]
    },
    {
     "name": "stdout",
     "output_type": "stream",
     "text": [
      "[Generation: 19] \n",
      " Average Fitness: 129.89411764705883 \n",
      " Best Fitness: 271.0 \n",
      " Worst Fitness: 63.0 \n",
      " Standard Error: 1.862840258681531\n"
     ]
    },
    {
     "name": "stderr",
     "output_type": "stream",
     "text": [
      "Generating Offspring: 100%|████████████████████████████████| 58/58 [00:01<00:00, 29.31it/s]\n",
      "Calculating fitnesses: 100%|████████████████████████████| 170/170 [00:01<00:00, 100.16it/s]\n"
     ]
    },
    {
     "name": "stdout",
     "output_type": "stream",
     "text": [
      "[Generation: 20] \n",
      " Average Fitness: 132.3294117647059 \n",
      " Best Fitness: 220.0 \n",
      " Worst Fitness: 67.0 \n",
      " Standard Error: 1.6063261742166264\n"
     ]
    },
    {
     "name": "stderr",
     "output_type": "stream",
     "text": [
      "Generating Offspring: 100%|████████████████████████████████| 58/58 [00:01<00:00, 29.33it/s]\n",
      "Calculating fitnesses: 100%|████████████████████████████| 170/170 [00:01<00:00, 100.42it/s]\n"
     ]
    },
    {
     "name": "stdout",
     "output_type": "stream",
     "text": [
      "[Generation: 21] \n",
      " Average Fitness: 131.5235294117647 \n",
      " Best Fitness: 201.0 \n",
      " Worst Fitness: 71.0 \n",
      " Standard Error: 1.4944660172538284\n"
     ]
    },
    {
     "name": "stderr",
     "output_type": "stream",
     "text": [
      "Generating Offspring: 100%|████████████████████████████████| 58/58 [00:02<00:00, 28.88it/s]\n",
      "Calculating fitnesses: 100%|████████████████████████████| 170/170 [00:01<00:00, 103.06it/s]\n"
     ]
    },
    {
     "name": "stdout",
     "output_type": "stream",
     "text": [
      "[Generation: 22] \n",
      " Average Fitness: 131.78823529411764 \n",
      " Best Fitness: 226.0 \n",
      " Worst Fitness: 69.0 \n",
      " Standard Error: 1.7051995224715235\n"
     ]
    },
    {
     "name": "stderr",
     "output_type": "stream",
     "text": [
      "Generating Offspring: 100%|████████████████████████████████| 58/58 [00:01<00:00, 29.15it/s]\n",
      "Calculating fitnesses: 100%|████████████████████████████| 170/170 [00:01<00:00, 102.79it/s]\n"
     ]
    },
    {
     "name": "stdout",
     "output_type": "stream",
     "text": [
      "[Generation: 23] \n",
      " Average Fitness: 131.33529411764707 \n",
      " Best Fitness: 336.0 \n",
      " Worst Fitness: 59.0 \n",
      " Standard Error: 1.9671500623349285\n"
     ]
    },
    {
     "name": "stderr",
     "output_type": "stream",
     "text": [
      "Generating Offspring: 100%|████████████████████████████████| 58/58 [00:02<00:00, 27.75it/s]\n",
      "Calculating fitnesses: 100%|████████████████████████████| 170/170 [00:01<00:00, 100.93it/s]\n"
     ]
    },
    {
     "name": "stdout",
     "output_type": "stream",
     "text": [
      "[Generation: 24] \n",
      " Average Fitness: 134.04705882352943 \n",
      " Best Fitness: 269.0 \n",
      " Worst Fitness: 72.0 \n",
      " Standard Error: 1.891962072780149\n"
     ]
    },
    {
     "name": "stderr",
     "output_type": "stream",
     "text": [
      "Generating Offspring: 100%|████████████████████████████████| 58/58 [00:02<00:00, 28.74it/s]\n",
      "Calculating fitnesses: 100%|████████████████████████████| 170/170 [00:01<00:00, 101.17it/s]\n"
     ]
    },
    {
     "name": "stdout",
     "output_type": "stream",
     "text": [
      "[Generation: 25] \n",
      " Average Fitness: 130.63529411764705 \n",
      " Best Fitness: 186.0 \n",
      " Worst Fitness: 105.0 \n",
      " Standard Error: 1.401547901623866\n"
     ]
    },
    {
     "name": "stderr",
     "output_type": "stream",
     "text": [
      "Generating Offspring: 100%|████████████████████████████████| 58/58 [00:01<00:00, 29.35it/s]\n",
      "Calculating fitnesses: 100%|████████████████████████████| 170/170 [00:01<00:00, 101.66it/s]\n"
     ]
    },
    {
     "name": "stdout",
     "output_type": "stream",
     "text": [
      "[Generation: 26] \n",
      " Average Fitness: 130.50588235294117 \n",
      " Best Fitness: 196.0 \n",
      " Worst Fitness: 104.0 \n",
      " Standard Error: 1.417170009553536\n"
     ]
    },
    {
     "name": "stderr",
     "output_type": "stream",
     "text": [
      "Generating Offspring: 100%|████████████████████████████████| 58/58 [00:02<00:00, 28.55it/s]\n",
      "Calculating fitnesses: 100%|████████████████████████████| 170/170 [00:01<00:00, 100.31it/s]\n"
     ]
    },
    {
     "name": "stdout",
     "output_type": "stream",
     "text": [
      "[Generation: 27] \n",
      " Average Fitness: 131.5 \n",
      " Best Fitness: 203.0 \n",
      " Worst Fitness: 106.0 \n",
      " Standard Error: 1.458540626375804\n"
     ]
    },
    {
     "name": "stderr",
     "output_type": "stream",
     "text": [
      "Generating Offspring: 100%|████████████████████████████████| 58/58 [00:02<00:00, 28.93it/s]\n",
      "Calculating fitnesses: 100%|████████████████████████████| 170/170 [00:01<00:00, 102.66it/s]\n"
     ]
    },
    {
     "name": "stdout",
     "output_type": "stream",
     "text": [
      "[Generation: 28] \n",
      " Average Fitness: 131.94117647058823 \n",
      " Best Fitness: 240.0 \n",
      " Worst Fitness: 106.0 \n",
      " Standard Error: 1.7139038691946644\n"
     ]
    },
    {
     "name": "stderr",
     "output_type": "stream",
     "text": [
      "Generating Offspring: 100%|████████████████████████████████| 58/58 [00:02<00:00, 28.44it/s]\n",
      "Calculating fitnesses: 100%|████████████████████████████| 170/170 [00:01<00:00, 101.62it/s]\n"
     ]
    },
    {
     "name": "stdout",
     "output_type": "stream",
     "text": [
      "[Generation: 29] \n",
      " Average Fitness: 130.62941176470588 \n",
      " Best Fitness: 202.0 \n",
      " Worst Fitness: 104.0 \n",
      " Standard Error: 1.5476158970771974\n"
     ]
    },
    {
     "name": "stderr",
     "output_type": "stream",
     "text": [
      "Generating Offspring: 100%|████████████████████████████████| 58/58 [00:02<00:00, 27.91it/s]\n",
      "Calculating fitnesses: 100%|████████████████████████████| 170/170 [00:01<00:00, 103.60it/s]\n"
     ]
    },
    {
     "name": "stdout",
     "output_type": "stream",
     "text": [
      "[Generation: 30] \n",
      " Average Fitness: 130.90588235294118 \n",
      " Best Fitness: 258.0 \n",
      " Worst Fitness: 106.0 \n",
      " Standard Error: 1.558003645972899\n"
     ]
    },
    {
     "name": "stderr",
     "output_type": "stream",
     "text": [
      "Generating Offspring: 100%|████████████████████████████████| 58/58 [00:01<00:00, 29.29it/s]\n",
      "Calculating fitnesses: 100%|████████████████████████████| 170/170 [00:01<00:00, 103.76it/s]\n"
     ]
    },
    {
     "name": "stdout",
     "output_type": "stream",
     "text": [
      "[Generation: 31] \n",
      " Average Fitness: 127.38823529411765 \n",
      " Best Fitness: 178.0 \n",
      " Worst Fitness: 105.0 \n",
      " Standard Error: 1.1586983417691272\n"
     ]
    },
    {
     "name": "stderr",
     "output_type": "stream",
     "text": [
      "Generating Offspring: 100%|████████████████████████████████| 58/58 [00:01<00:00, 29.28it/s]\n",
      "Calculating fitnesses: 100%|█████████████████████████████| 170/170 [00:01<00:00, 97.56it/s]\n"
     ]
    },
    {
     "name": "stdout",
     "output_type": "stream",
     "text": [
      "[Generation: 32] \n",
      " Average Fitness: 133.02941176470588 \n",
      " Best Fitness: 196.0 \n",
      " Worst Fitness: 106.0 \n",
      " Standard Error: 1.461262809694664\n"
     ]
    },
    {
     "name": "stderr",
     "output_type": "stream",
     "text": [
      "Generating Offspring: 100%|████████████████████████████████| 58/58 [00:01<00:00, 29.17it/s]\n",
      "Calculating fitnesses: 100%|████████████████████████████| 170/170 [00:01<00:00, 101.48it/s]\n"
     ]
    },
    {
     "name": "stdout",
     "output_type": "stream",
     "text": [
      "[Generation: 33] \n",
      " Average Fitness: 133.16470588235293 \n",
      " Best Fitness: 184.0 \n",
      " Worst Fitness: 106.0 \n",
      " Standard Error: 1.4845226360179817\n"
     ]
    },
    {
     "name": "stderr",
     "output_type": "stream",
     "text": [
      "Generating Offspring: 100%|████████████████████████████████| 58/58 [00:02<00:00, 28.11it/s]\n",
      "Calculating fitnesses: 100%|████████████████████████████| 170/170 [00:01<00:00, 103.26it/s]\n"
     ]
    },
    {
     "name": "stdout",
     "output_type": "stream",
     "text": [
      "[Generation: 34] \n",
      " Average Fitness: 131.54705882352943 \n",
      " Best Fitness: 184.0 \n",
      " Worst Fitness: 106.0 \n",
      " Standard Error: 1.5492171937176975\n"
     ]
    },
    {
     "name": "stderr",
     "output_type": "stream",
     "text": [
      "Generating Offspring: 100%|████████████████████████████████| 58/58 [00:02<00:00, 28.51it/s]\n",
      "Calculating fitnesses: 100%|████████████████████████████| 170/170 [00:01<00:00, 104.87it/s]\n"
     ]
    },
    {
     "name": "stdout",
     "output_type": "stream",
     "text": [
      "[Generation: 35] \n",
      " Average Fitness: 128.9 \n",
      " Best Fitness: 232.0 \n",
      " Worst Fitness: 106.0 \n",
      " Standard Error: 1.3784591649139226\n"
     ]
    },
    {
     "name": "stderr",
     "output_type": "stream",
     "text": [
      "Generating Offspring: 100%|████████████████████████████████| 58/58 [00:02<00:00, 28.42it/s]\n",
      "Calculating fitnesses: 100%|████████████████████████████| 170/170 [00:01<00:00, 103.51it/s]\n"
     ]
    },
    {
     "name": "stdout",
     "output_type": "stream",
     "text": [
      "[Generation: 36] \n",
      " Average Fitness: 130.88823529411764 \n",
      " Best Fitness: 197.0 \n",
      " Worst Fitness: 105.0 \n",
      " Standard Error: 1.3769632248575494\n"
     ]
    },
    {
     "name": "stderr",
     "output_type": "stream",
     "text": [
      "Generating Offspring: 100%|████████████████████████████████| 58/58 [00:02<00:00, 28.74it/s]\n",
      "Calculating fitnesses: 100%|████████████████████████████| 170/170 [00:01<00:00, 101.33it/s]\n"
     ]
    },
    {
     "name": "stdout",
     "output_type": "stream",
     "text": [
      "[Generation: 37] \n",
      " Average Fitness: 130.53529411764706 \n",
      " Best Fitness: 212.0 \n",
      " Worst Fitness: 105.0 \n",
      " Standard Error: 1.4986742979780208\n"
     ]
    },
    {
     "name": "stderr",
     "output_type": "stream",
     "text": [
      "Generating Offspring: 100%|████████████████████████████████| 58/58 [00:02<00:00, 28.15it/s]\n",
      "Calculating fitnesses: 100%|████████████████████████████| 170/170 [00:01<00:00, 100.73it/s]\n"
     ]
    },
    {
     "name": "stdout",
     "output_type": "stream",
     "text": [
      "[Generation: 38] \n",
      " Average Fitness: 131.6235294117647 \n",
      " Best Fitness: 259.0 \n",
      " Worst Fitness: 104.0 \n",
      " Standard Error: 1.701700648934825\n"
     ]
    },
    {
     "name": "stderr",
     "output_type": "stream",
     "text": [
      "Generating Offspring: 100%|████████████████████████████████| 58/58 [00:01<00:00, 29.02it/s]\n",
      "Calculating fitnesses: 100%|████████████████████████████| 170/170 [00:01<00:00, 102.71it/s]\n"
     ]
    },
    {
     "name": "stdout",
     "output_type": "stream",
     "text": [
      "[Generation: 39] \n",
      " Average Fitness: 131.5235294117647 \n",
      " Best Fitness: 223.0 \n",
      " Worst Fitness: 105.0 \n",
      " Standard Error: 1.4543812116322175\n"
     ]
    },
    {
     "name": "stderr",
     "output_type": "stream",
     "text": [
      "Generating Offspring: 100%|████████████████████████████████| 58/58 [00:02<00:00, 28.65it/s]\n",
      "Calculating fitnesses: 100%|████████████████████████████| 170/170 [00:01<00:00, 100.99it/s]\n"
     ]
    },
    {
     "name": "stdout",
     "output_type": "stream",
     "text": [
      "[Generation: 40] \n",
      " Average Fitness: 131.35882352941175 \n",
      " Best Fitness: 239.0 \n",
      " Worst Fitness: 106.0 \n",
      " Standard Error: 1.4140549499529556\n"
     ]
    },
    {
     "name": "stderr",
     "output_type": "stream",
     "text": [
      "Generating Offspring: 100%|████████████████████████████████| 58/58 [00:02<00:00, 28.26it/s]\n",
      "Calculating fitnesses: 100%|████████████████████████████| 170/170 [00:01<00:00, 101.25it/s]\n"
     ]
    },
    {
     "name": "stdout",
     "output_type": "stream",
     "text": [
      "[Generation: 41] \n",
      " Average Fitness: 133.4764705882353 \n",
      " Best Fitness: 202.0 \n",
      " Worst Fitness: 104.0 \n",
      " Standard Error: 1.5964894253608441\n"
     ]
    },
    {
     "name": "stderr",
     "output_type": "stream",
     "text": [
      "Generating Offspring: 100%|████████████████████████████████| 58/58 [00:02<00:00, 28.68it/s]\n",
      "Calculating fitnesses: 100%|████████████████████████████| 170/170 [00:01<00:00, 101.59it/s]\n"
     ]
    },
    {
     "name": "stdout",
     "output_type": "stream",
     "text": [
      "[Generation: 42] \n",
      " Average Fitness: 133.81764705882352 \n",
      " Best Fitness: 265.0 \n",
      " Worst Fitness: 106.0 \n",
      " Standard Error: 1.666372086194818\n"
     ]
    },
    {
     "name": "stderr",
     "output_type": "stream",
     "text": [
      "Generating Offspring: 100%|████████████████████████████████| 58/58 [00:01<00:00, 29.09it/s]\n",
      "Calculating fitnesses: 100%|█████████████████████████████| 170/170 [00:01<00:00, 98.42it/s]\n"
     ]
    },
    {
     "name": "stdout",
     "output_type": "stream",
     "text": [
      "[Generation: 43] \n",
      " Average Fitness: 132.14117647058825 \n",
      " Best Fitness: 208.0 \n",
      " Worst Fitness: 105.0 \n",
      " Standard Error: 1.4551014686912611\n"
     ]
    },
    {
     "name": "stderr",
     "output_type": "stream",
     "text": [
      "Generating Offspring: 100%|████████████████████████████████| 58/58 [00:01<00:00, 29.13it/s]\n",
      "Calculating fitnesses: 100%|████████████████████████████| 170/170 [00:01<00:00, 102.83it/s]\n"
     ]
    },
    {
     "name": "stdout",
     "output_type": "stream",
     "text": [
      "[Generation: 44] \n",
      " Average Fitness: 128.6 \n",
      " Best Fitness: 236.0 \n",
      " Worst Fitness: 107.0 \n",
      " Standard Error: 1.4894313839670894\n"
     ]
    },
    {
     "name": "stderr",
     "output_type": "stream",
     "text": [
      "Generating Offspring: 100%|████████████████████████████████| 58/58 [00:02<00:00, 28.99it/s]\n",
      "Calculating fitnesses: 100%|████████████████████████████| 170/170 [00:01<00:00, 101.14it/s]\n"
     ]
    },
    {
     "name": "stdout",
     "output_type": "stream",
     "text": [
      "[Generation: 45] \n",
      " Average Fitness: 131.04117647058823 \n",
      " Best Fitness: 193.0 \n",
      " Worst Fitness: 106.0 \n",
      " Standard Error: 1.3856546095605413\n"
     ]
    },
    {
     "name": "stderr",
     "output_type": "stream",
     "text": [
      "Generating Offspring: 100%|████████████████████████████████| 58/58 [00:02<00:00, 28.70it/s]\n",
      "Calculating fitnesses: 100%|████████████████████████████| 170/170 [00:01<00:00, 102.67it/s]\n"
     ]
    },
    {
     "name": "stdout",
     "output_type": "stream",
     "text": [
      "[Generation: 46] \n",
      " Average Fitness: 131.8470588235294 \n",
      " Best Fitness: 239.0 \n",
      " Worst Fitness: 107.0 \n",
      " Standard Error: 1.5372848840755677\n"
     ]
    },
    {
     "name": "stderr",
     "output_type": "stream",
     "text": [
      "Generating Offspring: 100%|████████████████████████████████| 58/58 [00:02<00:00, 28.29it/s]\n",
      "Calculating fitnesses: 100%|████████████████████████████| 170/170 [00:01<00:00, 102.24it/s]\n"
     ]
    },
    {
     "name": "stdout",
     "output_type": "stream",
     "text": [
      "[Generation: 47] \n",
      " Average Fitness: 132.25882352941176 \n",
      " Best Fitness: 201.0 \n",
      " Worst Fitness: 106.0 \n",
      " Standard Error: 1.4190859012588402\n"
     ]
    },
    {
     "name": "stderr",
     "output_type": "stream",
     "text": [
      "Generating Offspring: 100%|████████████████████████████████| 58/58 [00:02<00:00, 28.31it/s]\n",
      "Calculating fitnesses: 100%|████████████████████████████| 170/170 [00:01<00:00, 104.26it/s]\n"
     ]
    },
    {
     "name": "stdout",
     "output_type": "stream",
     "text": [
      "[Generation: 48] \n",
      " Average Fitness: 129.98823529411766 \n",
      " Best Fitness: 265.0 \n",
      " Worst Fitness: 107.0 \n",
      " Standard Error: 1.6609599343769785\n"
     ]
    },
    {
     "name": "stderr",
     "output_type": "stream",
     "text": [
      "Generating Offspring: 100%|████████████████████████████████| 58/58 [00:02<00:00, 28.35it/s]\n",
      "Calculating fitnesses: 100%|████████████████████████████| 170/170 [00:01<00:00, 103.58it/s]\n"
     ]
    },
    {
     "name": "stdout",
     "output_type": "stream",
     "text": [
      "[Generation: 49] \n",
      " Average Fitness: 127.73529411764706 \n",
      " Best Fitness: 193.0 \n",
      " Worst Fitness: 107.0 \n",
      " Standard Error: 1.3276503120313867\n"
     ]
    },
    {
     "name": "stderr",
     "output_type": "stream",
     "text": [
      "Generating Offspring: 100%|████████████████████████████████| 58/58 [00:02<00:00, 28.87it/s]\n",
      "Calculating fitnesses: 100%|████████████████████████████| 170/170 [00:01<00:00, 100.81it/s]\n"
     ]
    },
    {
     "name": "stdout",
     "output_type": "stream",
     "text": [
      "[Generation: 50] \n",
      " Average Fitness: 131.9 \n",
      " Best Fitness: 209.0 \n",
      " Worst Fitness: 105.0 \n",
      " Standard Error: 1.4263848065752873\n"
     ]
    },
    {
     "name": "stderr",
     "output_type": "stream",
     "text": [
      "Generating Offspring: 100%|████████████████████████████████| 58/58 [00:01<00:00, 29.49it/s]\n",
      "Calculating fitnesses: 100%|████████████████████████████| 170/170 [00:01<00:00, 103.55it/s]\n"
     ]
    },
    {
     "name": "stdout",
     "output_type": "stream",
     "text": [
      "[Generation: 51] \n",
      " Average Fitness: 127.53529411764706 \n",
      " Best Fitness: 220.0 \n",
      " Worst Fitness: 107.0 \n",
      " Standard Error: 1.3774865278973165\n"
     ]
    },
    {
     "name": "stderr",
     "output_type": "stream",
     "text": [
      "Generating Offspring: 100%|████████████████████████████████| 58/58 [00:02<00:00, 28.18it/s]\n",
      "Calculating fitnesses: 100%|████████████████████████████| 170/170 [00:01<00:00, 106.09it/s]\n"
     ]
    },
    {
     "name": "stdout",
     "output_type": "stream",
     "text": [
      "[Generation: 52] \n",
      " Average Fitness: 127.6470588235294 \n",
      " Best Fitness: 182.0 \n",
      " Worst Fitness: 104.0 \n",
      " Standard Error: 1.2581350118132344\n"
     ]
    },
    {
     "name": "stderr",
     "output_type": "stream",
     "text": [
      "Generating Offspring: 100%|████████████████████████████████| 58/58 [00:02<00:00, 28.26it/s]\n",
      "Calculating fitnesses: 100%|████████████████████████████| 170/170 [00:01<00:00, 100.27it/s]\n"
     ]
    },
    {
     "name": "stdout",
     "output_type": "stream",
     "text": [
      "[Generation: 53] \n",
      " Average Fitness: 135.33529411764707 \n",
      " Best Fitness: 226.0 \n",
      " Worst Fitness: 105.0 \n",
      " Standard Error: 1.7212446649139534\n"
     ]
    },
    {
     "name": "stderr",
     "output_type": "stream",
     "text": [
      "Generating Offspring: 100%|████████████████████████████████| 58/58 [00:01<00:00, 29.04it/s]\n",
      "Calculating fitnesses: 100%|█████████████████████████████| 170/170 [00:01<00:00, 99.71it/s]\n"
     ]
    },
    {
     "name": "stdout",
     "output_type": "stream",
     "text": [
      "[Generation: 54] \n",
      " Average Fitness: 129.91176470588235 \n",
      " Best Fitness: 202.0 \n",
      " Worst Fitness: 10.0 \n",
      " Standard Error: 1.6134191498062898\n"
     ]
    },
    {
     "name": "stderr",
     "output_type": "stream",
     "text": [
      "Generating Offspring: 100%|████████████████████████████████| 58/58 [00:02<00:00, 28.79it/s]\n",
      "Calculating fitnesses: 100%|████████████████████████████| 170/170 [00:01<00:00, 101.36it/s]\n"
     ]
    },
    {
     "name": "stdout",
     "output_type": "stream",
     "text": [
      "[Generation: 55] \n",
      " Average Fitness: 130.46470588235294 \n",
      " Best Fitness: 215.0 \n",
      " Worst Fitness: 108.0 \n",
      " Standard Error: 1.598057124372122\n"
     ]
    },
    {
     "name": "stderr",
     "output_type": "stream",
     "text": [
      "Generating Offspring: 100%|████████████████████████████████| 58/58 [00:02<00:00, 28.68it/s]\n",
      "Calculating fitnesses: 100%|████████████████████████████| 170/170 [00:01<00:00, 100.75it/s]\n"
     ]
    },
    {
     "name": "stdout",
     "output_type": "stream",
     "text": [
      "[Generation: 56] \n",
      " Average Fitness: 131.1235294117647 \n",
      " Best Fitness: 330.0 \n",
      " Worst Fitness: 106.0 \n",
      " Standard Error: 1.8618526144023329\n"
     ]
    },
    {
     "name": "stderr",
     "output_type": "stream",
     "text": [
      "Generating Offspring: 100%|████████████████████████████████| 58/58 [00:01<00:00, 29.08it/s]\n",
      "Calculating fitnesses: 100%|████████████████████████████| 170/170 [00:01<00:00, 103.57it/s]\n"
     ]
    },
    {
     "name": "stdout",
     "output_type": "stream",
     "text": [
      "[Generation: 57] \n",
      " Average Fitness: 130.81176470588235 \n",
      " Best Fitness: 181.0 \n",
      " Worst Fitness: 107.0 \n",
      " Standard Error: 1.2726195877232997\n"
     ]
    },
    {
     "name": "stderr",
     "output_type": "stream",
     "text": [
      "Generating Offspring: 100%|████████████████████████████████| 58/58 [00:02<00:00, 27.95it/s]\n",
      "Calculating fitnesses: 100%|████████████████████████████| 170/170 [00:01<00:00, 106.16it/s]\n"
     ]
    },
    {
     "name": "stdout",
     "output_type": "stream",
     "text": [
      "[Generation: 58] \n",
      " Average Fitness: 127.8529411764706 \n",
      " Best Fitness: 183.0 \n",
      " Worst Fitness: 105.0 \n",
      " Standard Error: 1.3764885121445243\n"
     ]
    },
    {
     "name": "stderr",
     "output_type": "stream",
     "text": [
      "Generating Offspring: 100%|████████████████████████████████| 58/58 [00:01<00:00, 29.09it/s]\n",
      "Calculating fitnesses: 100%|████████████████████████████| 170/170 [00:01<00:00, 100.20it/s]\n"
     ]
    },
    {
     "name": "stdout",
     "output_type": "stream",
     "text": [
      "[Generation: 59] \n",
      " Average Fitness: 135.35882352941175 \n",
      " Best Fitness: 210.0 \n",
      " Worst Fitness: 107.0 \n",
      " Standard Error: 1.5621826431872352\n"
     ]
    },
    {
     "name": "stderr",
     "output_type": "stream",
     "text": [
      "Generating Offspring: 100%|████████████████████████████████| 58/58 [00:02<00:00, 28.03it/s]\n",
      "Calculating fitnesses: 100%|████████████████████████████| 170/170 [00:01<00:00, 100.88it/s]\n"
     ]
    },
    {
     "name": "stdout",
     "output_type": "stream",
     "text": [
      "[Generation: 60] \n",
      " Average Fitness: 134.01176470588234 \n",
      " Best Fitness: 398.0 \n",
      " Worst Fitness: 104.0 \n",
      " Standard Error: 2.2290364347511793\n"
     ]
    },
    {
     "name": "stderr",
     "output_type": "stream",
     "text": [
      "Generating Offspring: 100%|████████████████████████████████| 58/58 [00:01<00:00, 29.20it/s]\n",
      "Calculating fitnesses: 100%|████████████████████████████| 170/170 [00:01<00:00, 100.53it/s]\n"
     ]
    },
    {
     "name": "stdout",
     "output_type": "stream",
     "text": [
      "[Generation: 61] \n",
      " Average Fitness: 131.78823529411764 \n",
      " Best Fitness: 225.0 \n",
      " Worst Fitness: 106.0 \n",
      " Standard Error: 1.5331398509809184\n"
     ]
    },
    {
     "name": "stderr",
     "output_type": "stream",
     "text": [
      "Generating Offspring: 100%|████████████████████████████████| 58/58 [00:01<00:00, 29.17it/s]\n",
      "Calculating fitnesses: 100%|█████████████████████████████| 170/170 [00:01<00:00, 94.92it/s]\n"
     ]
    },
    {
     "name": "stdout",
     "output_type": "stream",
     "text": [
      "[Generation: 62] \n",
      " Average Fitness: 136.88823529411764 \n",
      " Best Fitness: 303.0 \n",
      " Worst Fitness: 108.0 \n",
      " Standard Error: 1.9782569972890138\n"
     ]
    },
    {
     "name": "stderr",
     "output_type": "stream",
     "text": [
      "Generating Offspring: 100%|████████████████████████████████| 58/58 [00:02<00:00, 28.84it/s]\n",
      "Calculating fitnesses: 100%|████████████████████████████| 170/170 [00:01<00:00, 102.67it/s]\n"
     ]
    },
    {
     "name": "stdout",
     "output_type": "stream",
     "text": [
      "[Generation: 63] \n",
      " Average Fitness: 128.88823529411764 \n",
      " Best Fitness: 199.0 \n",
      " Worst Fitness: 102.0 \n",
      " Standard Error: 1.3606124170173302\n"
     ]
    },
    {
     "name": "stderr",
     "output_type": "stream",
     "text": [
      "Generating Offspring: 100%|████████████████████████████████| 58/58 [00:01<00:00, 29.51it/s]\n",
      "Calculating fitnesses: 100%|████████████████████████████| 170/170 [00:01<00:00, 104.15it/s]\n"
     ]
    },
    {
     "name": "stdout",
     "output_type": "stream",
     "text": [
      "[Generation: 64] \n",
      " Average Fitness: 130.24705882352941 \n",
      " Best Fitness: 213.0 \n",
      " Worst Fitness: 105.0 \n",
      " Standard Error: 1.5132967164261313\n"
     ]
    },
    {
     "name": "stderr",
     "output_type": "stream",
     "text": [
      "Generating Offspring: 100%|████████████████████████████████| 58/58 [00:02<00:00, 28.14it/s]\n",
      "Calculating fitnesses: 100%|████████████████████████████| 170/170 [00:01<00:00, 103.38it/s]\n"
     ]
    },
    {
     "name": "stdout",
     "output_type": "stream",
     "text": [
      "[Generation: 65] \n",
      " Average Fitness: 128.64705882352942 \n",
      " Best Fitness: 207.0 \n",
      " Worst Fitness: 104.0 \n",
      " Standard Error: 1.414691246768344\n"
     ]
    },
    {
     "name": "stderr",
     "output_type": "stream",
     "text": [
      "Generating Offspring: 100%|████████████████████████████████| 58/58 [00:02<00:00, 28.05it/s]\n",
      "Calculating fitnesses: 100%|████████████████████████████| 170/170 [00:01<00:00, 105.16it/s]\n"
     ]
    },
    {
     "name": "stdout",
     "output_type": "stream",
     "text": [
      "[Generation: 66] \n",
      " Average Fitness: 129.05882352941177 \n",
      " Best Fitness: 187.0 \n",
      " Worst Fitness: 105.0 \n",
      " Standard Error: 1.2831258029241273\n"
     ]
    },
    {
     "name": "stderr",
     "output_type": "stream",
     "text": [
      "Generating Offspring: 100%|████████████████████████████████| 58/58 [00:02<00:00, 28.28it/s]\n",
      "Calculating fitnesses: 100%|████████████████████████████| 170/170 [00:01<00:00, 101.62it/s]\n"
     ]
    },
    {
     "name": "stdout",
     "output_type": "stream",
     "text": [
      "[Generation: 67] \n",
      " Average Fitness: 130.36470588235295 \n",
      " Best Fitness: 195.0 \n",
      " Worst Fitness: 107.0 \n",
      " Standard Error: 1.3453894175421712\n"
     ]
    },
    {
     "name": "stderr",
     "output_type": "stream",
     "text": [
      "Generating Offspring: 100%|████████████████████████████████| 58/58 [00:02<00:00, 28.60it/s]\n",
      "Calculating fitnesses: 100%|████████████████████████████| 170/170 [00:01<00:00, 100.61it/s]\n"
     ]
    },
    {
     "name": "stdout",
     "output_type": "stream",
     "text": [
      "[Generation: 68] \n",
      " Average Fitness: 131.1 \n",
      " Best Fitness: 210.0 \n",
      " Worst Fitness: 108.0 \n",
      " Standard Error: 1.52659792291185\n"
     ]
    },
    {
     "name": "stderr",
     "output_type": "stream",
     "text": [
      "Generating Offspring: 100%|████████████████████████████████| 58/58 [00:02<00:00, 28.79it/s]\n",
      "Calculating fitnesses: 100%|████████████████████████████| 170/170 [00:01<00:00, 103.89it/s]\n"
     ]
    },
    {
     "name": "stdout",
     "output_type": "stream",
     "text": [
      "[Generation: 69] \n",
      " Average Fitness: 127.39411764705882 \n",
      " Best Fitness: 182.0 \n",
      " Worst Fitness: 104.0 \n",
      " Standard Error: 1.4109683477325297\n"
     ]
    },
    {
     "name": "stderr",
     "output_type": "stream",
     "text": [
      "Generating Offspring: 100%|████████████████████████████████| 58/58 [00:01<00:00, 29.15it/s]\n",
      "Calculating fitnesses: 100%|████████████████████████████| 170/170 [00:01<00:00, 105.46it/s]\n"
     ]
    },
    {
     "name": "stdout",
     "output_type": "stream",
     "text": [
      "[Generation: 70] \n",
      " Average Fitness: 128.3 \n",
      " Best Fitness: 180.0 \n",
      " Worst Fitness: 105.0 \n",
      " Standard Error: 1.2361829464372593\n"
     ]
    },
    {
     "name": "stderr",
     "output_type": "stream",
     "text": [
      "Generating Offspring: 100%|████████████████████████████████| 58/58 [00:02<00:00, 28.10it/s]\n",
      "Calculating fitnesses: 100%|████████████████████████████| 170/170 [00:01<00:00, 103.52it/s]\n"
     ]
    },
    {
     "name": "stdout",
     "output_type": "stream",
     "text": [
      "[Generation: 71] \n",
      " Average Fitness: 130.52941176470588 \n",
      " Best Fitness: 179.0 \n",
      " Worst Fitness: 104.0 \n",
      " Standard Error: 1.3342571003321884\n"
     ]
    },
    {
     "name": "stderr",
     "output_type": "stream",
     "text": [
      "Generating Offspring: 100%|████████████████████████████████| 58/58 [00:02<00:00, 28.72it/s]\n",
      "Calculating fitnesses: 100%|████████████████████████████| 170/170 [00:01<00:00, 102.02it/s]\n"
     ]
    },
    {
     "name": "stdout",
     "output_type": "stream",
     "text": [
      "[Generation: 72] \n",
      " Average Fitness: 132.6764705882353 \n",
      " Best Fitness: 208.0 \n",
      " Worst Fitness: 107.0 \n",
      " Standard Error: 1.4427369603408247\n"
     ]
    },
    {
     "name": "stderr",
     "output_type": "stream",
     "text": [
      "Generating Offspring: 100%|████████████████████████████████| 58/58 [00:02<00:00, 28.56it/s]\n",
      "Calculating fitnesses: 100%|█████████████████████████████| 170/170 [00:01<00:00, 98.42it/s]\n"
     ]
    },
    {
     "name": "stdout",
     "output_type": "stream",
     "text": [
      "[Generation: 73] \n",
      " Average Fitness: 134.75882352941176 \n",
      " Best Fitness: 242.0 \n",
      " Worst Fitness: 106.0 \n",
      " Standard Error: 1.648941604503057\n"
     ]
    },
    {
     "name": "stderr",
     "output_type": "stream",
     "text": [
      "Generating Offspring: 100%|████████████████████████████████| 58/58 [00:01<00:00, 29.06it/s]\n",
      "Calculating fitnesses: 100%|████████████████████████████| 170/170 [00:01<00:00, 100.75it/s]\n"
     ]
    },
    {
     "name": "stdout",
     "output_type": "stream",
     "text": [
      "[Generation: 74] \n",
      " Average Fitness: 131.37058823529412 \n",
      " Best Fitness: 226.0 \n",
      " Worst Fitness: 105.0 \n",
      " Standard Error: 1.5489198030414508\n"
     ]
    },
    {
     "name": "stderr",
     "output_type": "stream",
     "text": [
      "Generating Offspring: 100%|████████████████████████████████| 58/58 [00:01<00:00, 29.63it/s]\n",
      "Calculating fitnesses: 100%|████████████████████████████| 170/170 [00:01<00:00, 100.67it/s]\n"
     ]
    },
    {
     "name": "stdout",
     "output_type": "stream",
     "text": [
      "[Generation: 75] \n",
      " Average Fitness: 131.16470588235293 \n",
      " Best Fitness: 239.0 \n",
      " Worst Fitness: 106.0 \n",
      " Standard Error: 1.5727113851956611\n"
     ]
    },
    {
     "name": "stderr",
     "output_type": "stream",
     "text": [
      "Generating Offspring: 100%|████████████████████████████████| 58/58 [00:02<00:00, 28.42it/s]\n",
      "Calculating fitnesses: 100%|█████████████████████████████| 170/170 [00:01<00:00, 99.01it/s]\n"
     ]
    },
    {
     "name": "stdout",
     "output_type": "stream",
     "text": [
      "[Generation: 76] \n",
      " Average Fitness: 130.22941176470587 \n",
      " Best Fitness: 193.0 \n",
      " Worst Fitness: 105.0 \n",
      " Standard Error: 1.4154196943958186\n"
     ]
    },
    {
     "name": "stderr",
     "output_type": "stream",
     "text": [
      "Generating Offspring: 100%|████████████████████████████████| 58/58 [00:02<00:00, 29.00it/s]\n",
      "Calculating fitnesses: 100%|████████████████████████████| 170/170 [00:01<00:00, 101.50it/s]\n"
     ]
    },
    {
     "name": "stdout",
     "output_type": "stream",
     "text": [
      "[Generation: 77] \n",
      " Average Fitness: 133.81176470588235 \n",
      " Best Fitness: 215.0 \n",
      " Worst Fitness: 104.0 \n",
      " Standard Error: 1.7042153718890967\n"
     ]
    },
    {
     "name": "stderr",
     "output_type": "stream",
     "text": [
      "Generating Offspring: 100%|████████████████████████████████| 58/58 [00:02<00:00, 28.26it/s]\n",
      "Calculating fitnesses: 100%|████████████████████████████| 170/170 [00:01<00:00, 103.38it/s]\n"
     ]
    },
    {
     "name": "stdout",
     "output_type": "stream",
     "text": [
      "[Generation: 78] \n",
      " Average Fitness: 130.6529411764706 \n",
      " Best Fitness: 191.0 \n",
      " Worst Fitness: 106.0 \n",
      " Standard Error: 1.3280361064684745\n"
     ]
    },
    {
     "name": "stderr",
     "output_type": "stream",
     "text": [
      "Generating Offspring: 100%|████████████████████████████████| 58/58 [00:02<00:00, 27.72it/s]\n",
      "Calculating fitnesses: 100%|████████████████████████████| 170/170 [00:01<00:00, 103.92it/s]\n"
     ]
    },
    {
     "name": "stdout",
     "output_type": "stream",
     "text": [
      "[Generation: 79] \n",
      " Average Fitness: 130.28823529411764 \n",
      " Best Fitness: 198.0 \n",
      " Worst Fitness: 106.0 \n",
      " Standard Error: 1.3584874739455555\n"
     ]
    },
    {
     "name": "stderr",
     "output_type": "stream",
     "text": [
      "Generating Offspring: 100%|████████████████████████████████| 58/58 [00:02<00:00, 28.00it/s]\n",
      "Calculating fitnesses: 100%|████████████████████████████| 170/170 [00:01<00:00, 104.10it/s]\n"
     ]
    },
    {
     "name": "stdout",
     "output_type": "stream",
     "text": [
      "[Generation: 80] \n",
      " Average Fitness: 130.08235294117648 \n",
      " Best Fitness: 203.0 \n",
      " Worst Fitness: 27.0 \n",
      " Standard Error: 1.553241751755077\n"
     ]
    },
    {
     "name": "stderr",
     "output_type": "stream",
     "text": [
      "Generating Offspring: 100%|████████████████████████████████| 58/58 [00:01<00:00, 29.25it/s]\n",
      "Calculating fitnesses: 100%|█████████████████████████████| 170/170 [00:01<00:00, 99.13it/s]\n"
     ]
    },
    {
     "name": "stdout",
     "output_type": "stream",
     "text": [
      "[Generation: 81] \n",
      " Average Fitness: 134.01764705882354 \n",
      " Best Fitness: 187.0 \n",
      " Worst Fitness: 104.0 \n",
      " Standard Error: 1.5018835726790447\n"
     ]
    },
    {
     "name": "stderr",
     "output_type": "stream",
     "text": [
      "Generating Offspring: 100%|████████████████████████████████| 58/58 [00:02<00:00, 27.88it/s]\n",
      "Calculating fitnesses: 100%|████████████████████████████| 170/170 [00:01<00:00, 101.86it/s]\n"
     ]
    },
    {
     "name": "stdout",
     "output_type": "stream",
     "text": [
      "[Generation: 82] \n",
      " Average Fitness: 129.5 \n",
      " Best Fitness: 214.0 \n",
      " Worst Fitness: 107.0 \n",
      " Standard Error: 1.4827526823045403\n"
     ]
    },
    {
     "name": "stderr",
     "output_type": "stream",
     "text": [
      "Generating Offspring: 100%|████████████████████████████████| 58/58 [00:02<00:00, 28.68it/s]\n",
      "Calculating fitnesses: 100%|████████████████████████████| 170/170 [00:01<00:00, 104.53it/s]\n"
     ]
    },
    {
     "name": "stdout",
     "output_type": "stream",
     "text": [
      "[Generation: 83] \n",
      " Average Fitness: 129.56470588235294 \n",
      " Best Fitness: 183.0 \n",
      " Worst Fitness: 105.0 \n",
      " Standard Error: 1.3376367698016185\n"
     ]
    },
    {
     "name": "stderr",
     "output_type": "stream",
     "text": [
      "Generating Offspring: 100%|████████████████████████████████| 58/58 [00:02<00:00, 28.46it/s]\n",
      "Calculating fitnesses: 100%|████████████████████████████| 170/170 [00:01<00:00, 101.92it/s]\n"
     ]
    },
    {
     "name": "stdout",
     "output_type": "stream",
     "text": [
      "[Generation: 84] \n",
      " Average Fitness: 129.38823529411764 \n",
      " Best Fitness: 178.0 \n",
      " Worst Fitness: 106.0 \n",
      " Standard Error: 1.2790906814916918\n"
     ]
    },
    {
     "name": "stderr",
     "output_type": "stream",
     "text": [
      "Generating Offspring: 100%|████████████████████████████████| 58/58 [00:02<00:00, 28.36it/s]\n",
      "Calculating fitnesses: 100%|████████████████████████████| 170/170 [00:01<00:00, 105.21it/s]\n"
     ]
    },
    {
     "name": "stdout",
     "output_type": "stream",
     "text": [
      "[Generation: 85] \n",
      " Average Fitness: 128.88235294117646 \n",
      " Best Fitness: 211.0 \n",
      " Worst Fitness: 106.0 \n",
      " Standard Error: 1.3594962194582667\n"
     ]
    },
    {
     "name": "stderr",
     "output_type": "stream",
     "text": [
      "Generating Offspring: 100%|████████████████████████████████| 58/58 [00:02<00:00, 28.01it/s]\n",
      "Calculating fitnesses: 100%|████████████████████████████| 170/170 [00:01<00:00, 104.65it/s]\n"
     ]
    },
    {
     "name": "stdout",
     "output_type": "stream",
     "text": [
      "[Generation: 86] \n",
      " Average Fitness: 129.27058823529413 \n",
      " Best Fitness: 182.0 \n",
      " Worst Fitness: 94.0 \n",
      " Standard Error: 1.3499114065266702\n"
     ]
    },
    {
     "name": "stderr",
     "output_type": "stream",
     "text": [
      "Generating Offspring: 100%|████████████████████████████████| 58/58 [00:01<00:00, 29.38it/s]\n",
      "Calculating fitnesses: 100%|█████████████████████████████| 170/170 [00:01<00:00, 99.93it/s]\n"
     ]
    },
    {
     "name": "stdout",
     "output_type": "stream",
     "text": [
      "[Generation: 87] \n",
      " Average Fitness: 129.43529411764706 \n",
      " Best Fitness: 219.0 \n",
      " Worst Fitness: 106.0 \n",
      " Standard Error: 1.4079208606500602\n"
     ]
    },
    {
     "name": "stderr",
     "output_type": "stream",
     "text": [
      "Generating Offspring: 100%|████████████████████████████████| 58/58 [00:02<00:00, 28.73it/s]\n",
      "Calculating fitnesses: 100%|█████████████████████████████| 170/170 [00:01<00:00, 98.79it/s]\n"
     ]
    },
    {
     "name": "stdout",
     "output_type": "stream",
     "text": [
      "[Generation: 88] \n",
      " Average Fitness: 133.77058823529413 \n",
      " Best Fitness: 368.0 \n",
      " Worst Fitness: 104.0 \n",
      " Standard Error: 2.0430287173105355\n"
     ]
    },
    {
     "name": "stderr",
     "output_type": "stream",
     "text": [
      "Generating Offspring: 100%|████████████████████████████████| 58/58 [00:01<00:00, 29.56it/s]\n",
      "Calculating fitnesses: 100%|████████████████████████████| 170/170 [00:01<00:00, 103.34it/s]\n"
     ]
    },
    {
     "name": "stdout",
     "output_type": "stream",
     "text": [
      "[Generation: 89] \n",
      " Average Fitness: 131.14705882352942 \n",
      " Best Fitness: 209.0 \n",
      " Worst Fitness: 105.0 \n",
      " Standard Error: 1.5128561896817088\n"
     ]
    },
    {
     "name": "stderr",
     "output_type": "stream",
     "text": [
      "Generating Offspring: 100%|████████████████████████████████| 58/58 [00:02<00:00, 27.96it/s]\n",
      "Calculating fitnesses: 100%|████████████████████████████| 170/170 [00:01<00:00, 102.95it/s]\n"
     ]
    },
    {
     "name": "stdout",
     "output_type": "stream",
     "text": [
      "[Generation: 90] \n",
      " Average Fitness: 131.4294117647059 \n",
      " Best Fitness: 229.0 \n",
      " Worst Fitness: 109.0 \n",
      " Standard Error: 1.4970635248364146\n"
     ]
    },
    {
     "name": "stderr",
     "output_type": "stream",
     "text": [
      "Generating Offspring: 100%|████████████████████████████████| 58/58 [00:02<00:00, 28.43it/s]\n",
      "Calculating fitnesses: 100%|████████████████████████████| 170/170 [00:01<00:00, 102.47it/s]\n"
     ]
    },
    {
     "name": "stdout",
     "output_type": "stream",
     "text": [
      "[Generation: 91] \n",
      " Average Fitness: 132.30588235294118 \n",
      " Best Fitness: 241.0 \n",
      " Worst Fitness: 105.0 \n",
      " Standard Error: 1.6215578458581799\n"
     ]
    },
    {
     "name": "stderr",
     "output_type": "stream",
     "text": [
      "Generating Offspring: 100%|████████████████████████████████| 58/58 [00:02<00:00, 28.66it/s]\n",
      "Calculating fitnesses: 100%|████████████████████████████| 170/170 [00:01<00:00, 103.96it/s]\n"
     ]
    },
    {
     "name": "stdout",
     "output_type": "stream",
     "text": [
      "[Generation: 92] \n",
      " Average Fitness: 129.95882352941177 \n",
      " Best Fitness: 293.0 \n",
      " Worst Fitness: 104.0 \n",
      " Standard Error: 1.7139576858831047\n"
     ]
    },
    {
     "name": "stderr",
     "output_type": "stream",
     "text": [
      "Generating Offspring: 100%|████████████████████████████████| 58/58 [00:02<00:00, 28.64it/s]\n",
      "Calculating fitnesses: 100%|████████████████████████████| 170/170 [00:01<00:00, 101.28it/s]\n"
     ]
    },
    {
     "name": "stdout",
     "output_type": "stream",
     "text": [
      "[Generation: 93] \n",
      " Average Fitness: 130.64705882352942 \n",
      " Best Fitness: 204.0 \n",
      " Worst Fitness: 107.0 \n",
      " Standard Error: 1.404022161276838\n"
     ]
    },
    {
     "name": "stderr",
     "output_type": "stream",
     "text": [
      "Generating Offspring: 100%|████████████████████████████████| 58/58 [00:01<00:00, 29.04it/s]\n",
      "Calculating fitnesses: 100%|█████████████████████████████| 170/170 [00:01<00:00, 99.65it/s]\n"
     ]
    },
    {
     "name": "stdout",
     "output_type": "stream",
     "text": [
      "[Generation: 94] \n",
      " Average Fitness: 132.6705882352941 \n",
      " Best Fitness: 195.0 \n",
      " Worst Fitness: 108.0 \n",
      " Standard Error: 1.4757767155190171\n"
     ]
    },
    {
     "name": "stderr",
     "output_type": "stream",
     "text": [
      "Generating Offspring: 100%|████████████████████████████████| 58/58 [00:01<00:00, 29.38it/s]\n",
      "Calculating fitnesses: 100%|████████████████████████████| 170/170 [00:01<00:00, 102.51it/s]\n"
     ]
    },
    {
     "name": "stdout",
     "output_type": "stream",
     "text": [
      "[Generation: 95] \n",
      " Average Fitness: 129.26470588235293 \n",
      " Best Fitness: 217.0 \n",
      " Worst Fitness: 105.0 \n",
      " Standard Error: 1.439281449433018\n"
     ]
    },
    {
     "name": "stderr",
     "output_type": "stream",
     "text": [
      "Generating Offspring: 100%|████████████████████████████████| 58/58 [00:02<00:00, 28.36it/s]\n",
      "Calculating fitnesses: 100%|████████████████████████████| 170/170 [00:01<00:00, 103.46it/s]\n"
     ]
    },
    {
     "name": "stdout",
     "output_type": "stream",
     "text": [
      "[Generation: 96] \n",
      " Average Fitness: 131.3764705882353 \n",
      " Best Fitness: 188.0 \n",
      " Worst Fitness: 105.0 \n",
      " Standard Error: 1.4005605993402774\n"
     ]
    },
    {
     "name": "stderr",
     "output_type": "stream",
     "text": [
      "Generating Offspring: 100%|████████████████████████████████| 58/58 [00:02<00:00, 28.50it/s]\n",
      "Calculating fitnesses: 100%|████████████████████████████| 170/170 [00:01<00:00, 104.38it/s]\n"
     ]
    },
    {
     "name": "stdout",
     "output_type": "stream",
     "text": [
      "[Generation: 97] \n",
      " Average Fitness: 130.11764705882354 \n",
      " Best Fitness: 193.0 \n",
      " Worst Fitness: 107.0 \n",
      " Standard Error: 1.3733027946953207\n"
     ]
    },
    {
     "name": "stderr",
     "output_type": "stream",
     "text": [
      "Generating Offspring: 100%|████████████████████████████████| 58/58 [00:01<00:00, 29.13it/s]\n",
      "Calculating fitnesses: 100%|█████████████████████████████| 170/170 [00:01<00:00, 99.90it/s]\n"
     ]
    },
    {
     "name": "stdout",
     "output_type": "stream",
     "text": [
      "[Generation: 98] \n",
      " Average Fitness: 129.8294117647059 \n",
      " Best Fitness: 196.0 \n",
      " Worst Fitness: 106.0 \n",
      " Standard Error: 1.2901141281560402\n"
     ]
    },
    {
     "name": "stderr",
     "output_type": "stream",
     "text": [
      "Generating Offspring: 100%|████████████████████████████████| 58/58 [00:02<00:00, 28.60it/s]\n",
      "Calculating fitnesses: 100%|████████████████████████████| 170/170 [00:01<00:00, 103.42it/s]\n"
     ]
    },
    {
     "name": "stdout",
     "output_type": "stream",
     "text": [
      "[Generation: 99] \n",
      " Average Fitness: 130.54705882352943 \n",
      " Best Fitness: 200.0 \n",
      " Worst Fitness: 106.0 \n",
      " Standard Error: 1.4531088595812967\n"
     ]
    },
    {
     "name": "stderr",
     "output_type": "stream",
     "text": [
      "Generating Offspring: 100%|████████████████████████████████| 58/58 [00:02<00:00, 28.64it/s]\n",
      "Calculating fitnesses: 100%|████████████████████████████| 170/170 [00:01<00:00, 103.82it/s]\n"
     ]
    },
    {
     "name": "stdout",
     "output_type": "stream",
     "text": [
      "[Generation: 100] \n",
      " Average Fitness: 130.5 \n",
      " Best Fitness: 185.0 \n",
      " Worst Fitness: 107.0 \n",
      " Standard Error: 1.328271660428831\n"
     ]
    },
    {
     "name": "stderr",
     "output_type": "stream",
     "text": [
      "Generating Offspring: 100%|████████████████████████████████| 58/58 [00:02<00:00, 26.85it/s]\n"
     ]
    },
    {
     "name": "stdout",
     "output_type": "stream",
     "text": [
      "| \u001b[0m11       \u001b[0m | \u001b[0m217.3    \u001b[0m | \u001b[0m112.5    \u001b[0m | \u001b[0m100.0    \u001b[0m | \u001b[0m1.0      \u001b[0m | \u001b[0m1.0      \u001b[0m | \u001b[0m170.2    \u001b[0m | \u001b[0m2.0      \u001b[0m |\n"
     ]
    },
    {
     "name": "stderr",
     "output_type": "stream",
     "text": [
      "Calculating fitnesses: 100%|████████████████████████████| 185/185 [00:00<00:00, 530.68it/s]\n"
     ]
    },
    {
     "name": "stdout",
     "output_type": "stream",
     "text": [
      "[Generation: 1] \n",
      " Average Fitness: 22.037837837837838 \n",
      " Best Fitness: 84.0 \n",
      " Worst Fitness: 8.0 \n",
      " Standard Error: 0.9217749561443008\n"
     ]
    },
    {
     "name": "stderr",
     "output_type": "stream",
     "text": [
      "Generating Offspring: 100%|██████████████████████████████| 110/110 [00:05<00:00, 20.13it/s]\n",
      "Calculating fitnesses: 100%|████████████████████████████| 185/185 [00:00<00:00, 703.65it/s]\n"
     ]
    },
    {
     "name": "stdout",
     "output_type": "stream",
     "text": [
      "[Generation: 2] \n",
      " Average Fitness: 19.205405405405404 \n",
      " Best Fitness: 105.0 \n",
      " Worst Fitness: 8.0 \n",
      " Standard Error: 0.9713612777546314\n"
     ]
    },
    {
     "name": "stderr",
     "output_type": "stream",
     "text": [
      "Generating Offspring: 100%|██████████████████████████████| 110/110 [00:05<00:00, 20.12it/s]\n",
      "Calculating fitnesses: 100%|████████████████████████████| 185/185 [00:00<00:00, 367.12it/s]\n"
     ]
    },
    {
     "name": "stdout",
     "output_type": "stream",
     "text": [
      "[Generation: 3] \n",
      " Average Fitness: 36.67567567567568 \n",
      " Best Fitness: 500.0 \n",
      " Worst Fitness: 8.0 \n",
      " Standard Error: 4.3033358898489364\n"
     ]
    },
    {
     "name": "stderr",
     "output_type": "stream",
     "text": [
      "Generating Offspring: 100%|██████████████████████████████| 110/110 [00:10<00:00, 10.47it/s]\n",
      "Calculating fitnesses: 100%|████████████████████████████| 185/185 [00:01<00:00, 122.15it/s]\n"
     ]
    },
    {
     "name": "stdout",
     "output_type": "stream",
     "text": [
      "[Generation: 4] \n",
      " Average Fitness: 106.87027027027027 \n",
      " Best Fitness: 500.0 \n",
      " Worst Fitness: 9.0 \n",
      " Standard Error: 7.508371525421662\n"
     ]
    },
    {
     "name": "stderr",
     "output_type": "stream",
     "text": [
      "Generating Offspring: 100%|██████████████████████████████| 110/110 [00:25<00:00,  4.25it/s]\n",
      "Calculating fitnesses: 100%|█████████████████████████████| 185/185 [00:01<00:00, 94.28it/s]\n"
     ]
    },
    {
     "name": "stdout",
     "output_type": "stream",
     "text": [
      "[Generation: 5] \n",
      " Average Fitness: 140.2108108108108 \n",
      " Best Fitness: 500.0 \n",
      " Worst Fitness: 10.0 \n",
      " Standard Error: 7.355315708047632\n"
     ]
    },
    {
     "name": "stderr",
     "output_type": "stream",
     "text": [
      "Generating Offspring: 100%|██████████████████████████████| 110/110 [00:33<00:00,  3.30it/s]\n",
      "Calculating fitnesses: 100%|█████████████████████████████| 185/185 [00:02<00:00, 89.11it/s]\n"
     ]
    },
    {
     "name": "stdout",
     "output_type": "stream",
     "text": [
      "[Generation: 6] \n",
      " Average Fitness: 148.8864864864865 \n",
      " Best Fitness: 500.0 \n",
      " Worst Fitness: 10.0 \n",
      " Standard Error: 7.767234005465428\n"
     ]
    },
    {
     "name": "stderr",
     "output_type": "stream",
     "text": [
      "Generating Offspring: 100%|██████████████████████████████| 110/110 [00:34<00:00,  3.20it/s]\n",
      "Calculating fitnesses: 100%|████████████████████████████| 185/185 [00:01<00:00, 101.06it/s]\n"
     ]
    },
    {
     "name": "stdout",
     "output_type": "stream",
     "text": [
      "[Generation: 7] \n",
      " Average Fitness: 132.70810810810812 \n",
      " Best Fitness: 500.0 \n",
      " Worst Fitness: 10.0 \n",
      " Standard Error: 5.868987379646609\n"
     ]
    },
    {
     "name": "stderr",
     "output_type": "stream",
     "text": [
      "Generating Offspring: 100%|██████████████████████████████| 110/110 [00:35<00:00,  3.11it/s]\n",
      "Calculating fitnesses: 100%|█████████████████████████████| 185/185 [00:02<00:00, 81.47it/s]\n"
     ]
    },
    {
     "name": "stdout",
     "output_type": "stream",
     "text": [
      "[Generation: 8] \n",
      " Average Fitness: 159.52972972972972 \n",
      " Best Fitness: 500.0 \n",
      " Worst Fitness: 8.0 \n",
      " Standard Error: 9.293282650561226\n"
     ]
    },
    {
     "name": "stderr",
     "output_type": "stream",
     "text": [
      "Generating Offspring: 100%|██████████████████████████████| 110/110 [00:38<00:00,  2.85it/s]\n",
      "Calculating fitnesses: 100%|█████████████████████████████| 185/185 [00:02<00:00, 63.56it/s]\n"
     ]
    },
    {
     "name": "stdout",
     "output_type": "stream",
     "text": [
      "[Generation: 9] \n",
      " Average Fitness: 202.1081081081081 \n",
      " Best Fitness: 500.0 \n",
      " Worst Fitness: 8.0 \n",
      " Standard Error: 12.406858435829152\n"
     ]
    },
    {
     "name": "stderr",
     "output_type": "stream",
     "text": [
      "Generating Offspring: 100%|██████████████████████████████| 110/110 [00:54<00:00,  2.03it/s]\n",
      "Calculating fitnesses: 100%|█████████████████████████████| 185/185 [00:04<00:00, 37.96it/s]\n"
     ]
    },
    {
     "name": "stdout",
     "output_type": "stream",
     "text": [
      "[Generation: 10] \n",
      " Average Fitness: 344.4108108108108 \n",
      " Best Fitness: 500.0 \n",
      " Worst Fitness: 8.0 \n",
      " Standard Error: 14.553036012432365\n"
     ]
    },
    {
     "name": "stderr",
     "output_type": "stream",
     "text": [
      "Generating Offspring: 100%|██████████████████████████████| 110/110 [01:32<00:00,  1.19it/s]\n",
      "Calculating fitnesses: 100%|█████████████████████████████| 185/185 [00:06<00:00, 28.31it/s]\n"
     ]
    },
    {
     "name": "stdout",
     "output_type": "stream",
     "text": [
      "[Generation: 11] \n",
      " Average Fitness: 461.0810810810811 \n",
      " Best Fitness: 500.0 \n",
      " Worst Fitness: 8.0 \n",
      " Standard Error: 9.14093815781121\n"
     ]
    },
    {
     "name": "stderr",
     "output_type": "stream",
     "text": [
      "Generating Offspring: 100%|██████████████████████████████| 110/110 [02:01<00:00,  1.10s/it]\n",
      "Calculating fitnesses: 100%|█████████████████████████████| 185/185 [00:06<00:00, 27.29it/s]\n"
     ]
    },
    {
     "name": "stdout",
     "output_type": "stream",
     "text": [
      "[Generation: 12] \n",
      " Average Fitness: 474.43243243243245 \n",
      " Best Fitness: 500.0 \n",
      " Worst Fitness: 9.0 \n",
      " Standard Error: 7.908806403319541\n"
     ]
    },
    {
     "name": "stderr",
     "output_type": "stream",
     "text": [
      "Generating Offspring: 100%|██████████████████████████████| 110/110 [02:03<00:00,  1.12s/it]\n",
      "Calculating fitnesses: 100%|█████████████████████████████| 185/185 [00:06<00:00, 27.80it/s]\n"
     ]
    },
    {
     "name": "stdout",
     "output_type": "stream",
     "text": [
      "[Generation: 13] \n",
      " Average Fitness: 464.34594594594597 \n",
      " Best Fitness: 500.0 \n",
      " Worst Fitness: 9.0 \n",
      " Standard Error: 9.21715411970401\n"
     ]
    },
    {
     "name": "stderr",
     "output_type": "stream",
     "text": [
      "Generating Offspring: 100%|██████████████████████████████| 110/110 [01:59<00:00,  1.09s/it]\n",
      "Calculating fitnesses: 100%|█████████████████████████████| 185/185 [00:06<00:00, 27.42it/s]\n"
     ]
    },
    {
     "name": "stdout",
     "output_type": "stream",
     "text": [
      "[Generation: 14] \n",
      " Average Fitness: 473.1621621621622 \n",
      " Best Fitness: 500.0 \n",
      " Worst Fitness: 9.0 \n",
      " Standard Error: 8.023982001857435\n"
     ]
    },
    {
     "name": "stderr",
     "output_type": "stream",
     "text": [
      "Generating Offspring: 100%|██████████████████████████████| 110/110 [02:02<00:00,  1.11s/it]\n",
      "Calculating fitnesses: 100%|█████████████████████████████| 185/185 [00:06<00:00, 28.12it/s]\n"
     ]
    },
    {
     "name": "stdout",
     "output_type": "stream",
     "text": [
      "[Generation: 15] \n",
      " Average Fitness: 458.0864864864865 \n",
      " Best Fitness: 500.0 \n",
      " Worst Fitness: 8.0 \n",
      " Standard Error: 10.052959962202747\n"
     ]
    },
    {
     "name": "stderr",
     "output_type": "stream",
     "text": [
      "Generating Offspring: 100%|██████████████████████████████| 110/110 [01:58<00:00,  1.08s/it]\n",
      "Calculating fitnesses: 100%|█████████████████████████████| 185/185 [00:06<00:00, 28.00it/s]\n"
     ]
    },
    {
     "name": "stdout",
     "output_type": "stream",
     "text": [
      "[Generation: 16] \n",
      " Average Fitness: 463.77837837837836 \n",
      " Best Fitness: 500.0 \n",
      " Worst Fitness: 9.0 \n",
      " Standard Error: 9.126226578401749\n"
     ]
    },
    {
     "name": "stderr",
     "output_type": "stream",
     "text": [
      "Generating Offspring: 100%|██████████████████████████████| 110/110 [02:00<00:00,  1.10s/it]\n",
      "Calculating fitnesses: 100%|█████████████████████████████| 185/185 [00:06<00:00, 27.19it/s]\n"
     ]
    },
    {
     "name": "stdout",
     "output_type": "stream",
     "text": [
      "[Generation: 17] \n",
      " Average Fitness: 474.54594594594596 \n",
      " Best Fitness: 500.0 \n",
      " Worst Fitness: 8.0 \n",
      " Standard Error: 7.833887675115696\n"
     ]
    },
    {
     "name": "stderr",
     "output_type": "stream",
     "text": [
      "Generating Offspring: 100%|██████████████████████████████| 110/110 [02:03<00:00,  1.12s/it]\n",
      "Calculating fitnesses: 100%|█████████████████████████████| 185/185 [00:06<00:00, 27.57it/s]\n"
     ]
    },
    {
     "name": "stdout",
     "output_type": "stream",
     "text": [
      "[Generation: 18] \n",
      " Average Fitness: 467.8216216216216 \n",
      " Best Fitness: 500.0 \n",
      " Worst Fitness: 9.0 \n",
      " Standard Error: 8.446376637667322\n"
     ]
    },
    {
     "name": "stderr",
     "output_type": "stream",
     "text": [
      "Generating Offspring: 100%|██████████████████████████████| 110/110 [02:01<00:00,  1.11s/it]\n",
      "Calculating fitnesses: 100%|█████████████████████████████| 185/185 [00:06<00:00, 28.11it/s]\n"
     ]
    },
    {
     "name": "stdout",
     "output_type": "stream",
     "text": [
      "[Generation: 19] \n",
      " Average Fitness: 464.5405405405405 \n",
      " Best Fitness: 500.0 \n",
      " Worst Fitness: 8.0 \n",
      " Standard Error: 9.256042498625824\n"
     ]
    },
    {
     "name": "stderr",
     "output_type": "stream",
     "text": [
      "Generating Offspring: 100%|██████████████████████████████| 110/110 [02:00<00:00,  1.10s/it]\n",
      "Calculating fitnesses: 100%|█████████████████████████████| 185/185 [00:06<00:00, 28.06it/s]\n"
     ]
    },
    {
     "name": "stdout",
     "output_type": "stream",
     "text": [
      "[Generation: 20] \n",
      " Average Fitness: 461.9189189189189 \n",
      " Best Fitness: 500.0 \n",
      " Worst Fitness: 9.0 \n",
      " Standard Error: 9.513058907122431\n"
     ]
    },
    {
     "name": "stderr",
     "output_type": "stream",
     "text": [
      "Generating Offspring: 100%|██████████████████████████████| 110/110 [02:00<00:00,  1.09s/it]\n",
      "Calculating fitnesses: 100%|█████████████████████████████| 185/185 [00:06<00:00, 27.79it/s]\n"
     ]
    },
    {
     "name": "stdout",
     "output_type": "stream",
     "text": [
      "[Generation: 21] \n",
      " Average Fitness: 464.04324324324324 \n",
      " Best Fitness: 500.0 \n",
      " Worst Fitness: 9.0 \n",
      " Standard Error: 9.299655765545285\n"
     ]
    },
    {
     "name": "stderr",
     "output_type": "stream",
     "text": [
      "Generating Offspring: 100%|██████████████████████████████| 110/110 [02:00<00:00,  1.09s/it]\n",
      "Calculating fitnesses: 100%|█████████████████████████████| 185/185 [00:06<00:00, 27.49it/s]\n"
     ]
    },
    {
     "name": "stdout",
     "output_type": "stream",
     "text": [
      "[Generation: 22] \n",
      " Average Fitness: 471.79459459459457 \n",
      " Best Fitness: 500.0 \n",
      " Worst Fitness: 8.0 \n",
      " Standard Error: 8.144570247597787\n"
     ]
    },
    {
     "name": "stderr",
     "output_type": "stream",
     "text": [
      "Generating Offspring: 100%|██████████████████████████████| 110/110 [02:02<00:00,  1.11s/it]\n",
      "Calculating fitnesses: 100%|█████████████████████████████| 185/185 [00:06<00:00, 28.18it/s]\n"
     ]
    },
    {
     "name": "stdout",
     "output_type": "stream",
     "text": [
      "[Generation: 23] \n",
      " Average Fitness: 460.772972972973 \n",
      " Best Fitness: 500.0 \n",
      " Worst Fitness: 8.0 \n",
      " Standard Error: 9.738499899056665\n"
     ]
    },
    {
     "name": "stderr",
     "output_type": "stream",
     "text": [
      "Generating Offspring: 100%|██████████████████████████████| 110/110 [02:00<00:00,  1.10s/it]\n",
      "Calculating fitnesses: 100%|█████████████████████████████| 185/185 [00:06<00:00, 28.52it/s]\n"
     ]
    },
    {
     "name": "stdout",
     "output_type": "stream",
     "text": [
      "[Generation: 24] \n",
      " Average Fitness: 457.53513513513514 \n",
      " Best Fitness: 500.0 \n",
      " Worst Fitness: 8.0 \n",
      " Standard Error: 9.931321184548935\n"
     ]
    },
    {
     "name": "stderr",
     "output_type": "stream",
     "text": [
      "Generating Offspring: 100%|██████████████████████████████| 110/110 [01:58<00:00,  1.07s/it]\n",
      "Calculating fitnesses: 100%|█████████████████████████████| 185/185 [00:06<00:00, 27.16it/s]\n"
     ]
    },
    {
     "name": "stdout",
     "output_type": "stream",
     "text": [
      "[Generation: 25] \n",
      " Average Fitness: 475.8540540540541 \n",
      " Best Fitness: 500.0 \n",
      " Worst Fitness: 8.0 \n",
      " Standard Error: 7.618401595796668\n"
     ]
    },
    {
     "name": "stderr",
     "output_type": "stream",
     "text": [
      "Generating Offspring: 100%|██████████████████████████████| 110/110 [02:03<00:00,  1.12s/it]\n",
      "Calculating fitnesses: 100%|█████████████████████████████| 185/185 [00:06<00:00, 28.99it/s]\n"
     ]
    },
    {
     "name": "stdout",
     "output_type": "stream",
     "text": [
      "[Generation: 26] \n",
      " Average Fitness: 450.0324324324324 \n",
      " Best Fitness: 500.0 \n",
      " Worst Fitness: 8.0 \n",
      " Standard Error: 10.646123579962321\n"
     ]
    },
    {
     "name": "stderr",
     "output_type": "stream",
     "text": [
      "Generating Offspring: 100%|██████████████████████████████| 110/110 [01:57<00:00,  1.06s/it]\n",
      "Calculating fitnesses: 100%|█████████████████████████████| 185/185 [00:06<00:00, 26.70it/s]\n"
     ]
    },
    {
     "name": "stdout",
     "output_type": "stream",
     "text": [
      "[Generation: 27] \n",
      " Average Fitness: 484.36756756756756 \n",
      " Best Fitness: 500.0 \n",
      " Worst Fitness: 9.0 \n",
      " Standard Error: 6.295721145479634\n"
     ]
    },
    {
     "name": "stderr",
     "output_type": "stream",
     "text": [
      "Generating Offspring: 100%|██████████████████████████████| 110/110 [02:05<00:00,  1.14s/it]\n",
      "Calculating fitnesses: 100%|█████████████████████████████| 185/185 [00:06<00:00, 27.94it/s]\n"
     ]
    },
    {
     "name": "stdout",
     "output_type": "stream",
     "text": [
      "[Generation: 28] \n",
      " Average Fitness: 464.0918918918919 \n",
      " Best Fitness: 500.0 \n",
      " Worst Fitness: 9.0 \n",
      " Standard Error: 9.265333208603264\n"
     ]
    },
    {
     "name": "stderr",
     "output_type": "stream",
     "text": [
      "Generating Offspring: 100%|██████████████████████████████| 110/110 [02:00<00:00,  1.10s/it]\n",
      "Calculating fitnesses: 100%|█████████████████████████████| 185/185 [00:06<00:00, 28.21it/s]\n"
     ]
    },
    {
     "name": "stdout",
     "output_type": "stream",
     "text": [
      "[Generation: 29] \n",
      " Average Fitness: 458.5243243243243 \n",
      " Best Fitness: 500.0 \n",
      " Worst Fitness: 9.0 \n",
      " Standard Error: 9.947987739381421\n"
     ]
    },
    {
     "name": "stderr",
     "output_type": "stream",
     "text": [
      "Generating Offspring: 100%|██████████████████████████████| 110/110 [01:59<00:00,  1.08s/it]\n",
      "Calculating fitnesses: 100%|█████████████████████████████| 185/185 [00:06<00:00, 27.81it/s]\n"
     ]
    },
    {
     "name": "stdout",
     "output_type": "stream",
     "text": [
      "[Generation: 30] \n",
      " Average Fitness: 464.58378378378376 \n",
      " Best Fitness: 500.0 \n",
      " Worst Fitness: 9.0 \n",
      " Standard Error: 9.170446566428105\n"
     ]
    },
    {
     "name": "stderr",
     "output_type": "stream",
     "text": [
      "Generating Offspring: 100%|██████████████████████████████| 110/110 [02:00<00:00,  1.10s/it]\n",
      "Calculating fitnesses: 100%|█████████████████████████████| 185/185 [00:06<00:00, 28.04it/s]\n"
     ]
    },
    {
     "name": "stdout",
     "output_type": "stream",
     "text": [
      "[Generation: 31] \n",
      " Average Fitness: 464.1027027027027 \n",
      " Best Fitness: 500.0 \n",
      " Worst Fitness: 9.0 \n",
      " Standard Error: 9.050233632824884\n"
     ]
    },
    {
     "name": "stderr",
     "output_type": "stream",
     "text": [
      "Generating Offspring: 100%|██████████████████████████████| 110/110 [02:00<00:00,  1.10s/it]\n",
      "Calculating fitnesses: 100%|█████████████████████████████| 185/185 [00:06<00:00, 27.67it/s]\n"
     ]
    },
    {
     "name": "stdout",
     "output_type": "stream",
     "text": [
      "[Generation: 32] \n",
      " Average Fitness: 468.6 \n",
      " Best Fitness: 500.0 \n",
      " Worst Fitness: 9.0 \n",
      " Standard Error: 8.797483883429452\n"
     ]
    },
    {
     "name": "stderr",
     "output_type": "stream",
     "text": [
      "Generating Offspring: 100%|██████████████████████████████| 110/110 [02:01<00:00,  1.11s/it]\n",
      "Calculating fitnesses: 100%|█████████████████████████████| 185/185 [00:06<00:00, 27.38it/s]\n"
     ]
    },
    {
     "name": "stdout",
     "output_type": "stream",
     "text": [
      "[Generation: 33] \n",
      " Average Fitness: 471.4432432432432 \n",
      " Best Fitness: 500.0 \n",
      " Worst Fitness: 9.0 \n",
      " Standard Error: 8.101550775759586\n"
     ]
    },
    {
     "name": "stderr",
     "output_type": "stream",
     "text": [
      "Generating Offspring: 100%|██████████████████████████████| 110/110 [02:02<00:00,  1.11s/it]\n",
      "Calculating fitnesses: 100%|█████████████████████████████| 185/185 [00:06<00:00, 28.63it/s]\n"
     ]
    },
    {
     "name": "stdout",
     "output_type": "stream",
     "text": [
      "[Generation: 34] \n",
      " Average Fitness: 455.6378378378378 \n",
      " Best Fitness: 500.0 \n",
      " Worst Fitness: 9.0 \n",
      " Standard Error: 10.094821791474068\n"
     ]
    },
    {
     "name": "stderr",
     "output_type": "stream",
     "text": [
      "Generating Offspring: 100%|██████████████████████████████| 110/110 [01:58<00:00,  1.07s/it]\n",
      "Calculating fitnesses: 100%|█████████████████████████████| 185/185 [00:06<00:00, 27.75it/s]\n"
     ]
    },
    {
     "name": "stdout",
     "output_type": "stream",
     "text": [
      "[Generation: 35] \n",
      " Average Fitness: 468.27027027027026 \n",
      " Best Fitness: 500.0 \n",
      " Worst Fitness: 8.0 \n",
      " Standard Error: 8.881883366125129\n"
     ]
    },
    {
     "name": "stderr",
     "output_type": "stream",
     "text": [
      "Generating Offspring: 100%|██████████████████████████████| 110/110 [02:00<00:00,  1.10s/it]\n",
      "Calculating fitnesses: 100%|█████████████████████████████| 185/185 [00:06<00:00, 28.53it/s]\n"
     ]
    },
    {
     "name": "stdout",
     "output_type": "stream",
     "text": [
      "[Generation: 36] \n",
      " Average Fitness: 453.43783783783783 \n",
      " Best Fitness: 500.0 \n",
      " Worst Fitness: 8.0 \n",
      " Standard Error: 10.479706671156787\n"
     ]
    },
    {
     "name": "stderr",
     "output_type": "stream",
     "text": [
      "Generating Offspring: 100%|██████████████████████████████| 110/110 [01:58<00:00,  1.08s/it]\n",
      "Calculating fitnesses: 100%|█████████████████████████████| 185/185 [00:06<00:00, 27.76it/s]\n"
     ]
    },
    {
     "name": "stdout",
     "output_type": "stream",
     "text": [
      "[Generation: 37] \n",
      " Average Fitness: 467.5081081081081 \n",
      " Best Fitness: 500.0 \n",
      " Worst Fitness: 9.0 \n",
      " Standard Error: 8.753384837732503\n"
     ]
    },
    {
     "name": "stderr",
     "output_type": "stream",
     "text": [
      "Generating Offspring: 100%|██████████████████████████████| 110/110 [02:01<00:00,  1.10s/it]\n",
      "Calculating fitnesses: 100%|█████████████████████████████| 185/185 [00:06<00:00, 28.37it/s]\n"
     ]
    },
    {
     "name": "stdout",
     "output_type": "stream",
     "text": [
      "[Generation: 38] \n",
      " Average Fitness: 459.5135135135135 \n",
      " Best Fitness: 500.0 \n",
      " Worst Fitness: 9.0 \n",
      " Standard Error: 9.761413844385938\n"
     ]
    },
    {
     "name": "stderr",
     "output_type": "stream",
     "text": [
      "Generating Offspring: 100%|██████████████████████████████| 110/110 [01:59<00:00,  1.08s/it]\n",
      "Calculating fitnesses: 100%|█████████████████████████████| 185/185 [00:06<00:00, 28.19it/s]\n"
     ]
    },
    {
     "name": "stdout",
     "output_type": "stream",
     "text": [
      "[Generation: 39] \n",
      " Average Fitness: 460.3135135135135 \n",
      " Best Fitness: 500.0 \n",
      " Worst Fitness: 9.0 \n",
      " Standard Error: 9.849638991124015\n"
     ]
    },
    {
     "name": "stderr",
     "output_type": "stream",
     "text": [
      "Generating Offspring: 100%|██████████████████████████████| 110/110 [02:00<00:00,  1.10s/it]\n",
      "Calculating fitnesses: 100%|█████████████████████████████| 185/185 [00:06<00:00, 28.77it/s]\n"
     ]
    },
    {
     "name": "stdout",
     "output_type": "stream",
     "text": [
      "[Generation: 40] \n",
      " Average Fitness: 453.0 \n",
      " Best Fitness: 500.0 \n",
      " Worst Fitness: 9.0 \n",
      " Standard Error: 10.560351986442297\n"
     ]
    },
    {
     "name": "stderr",
     "output_type": "stream",
     "text": [
      "Generating Offspring: 100%|██████████████████████████████| 110/110 [01:57<00:00,  1.07s/it]\n",
      "Calculating fitnesses: 100%|█████████████████████████████| 185/185 [00:06<00:00, 27.97it/s]\n"
     ]
    },
    {
     "name": "stdout",
     "output_type": "stream",
     "text": [
      "[Generation: 41] \n",
      " Average Fitness: 466.3945945945946 \n",
      " Best Fitness: 500.0 \n",
      " Worst Fitness: 8.0 \n",
      " Standard Error: 9.024350454952492\n"
     ]
    },
    {
     "name": "stderr",
     "output_type": "stream",
     "text": [
      "Generating Offspring: 100%|██████████████████████████████| 110/110 [02:00<00:00,  1.09s/it]\n",
      "Calculating fitnesses: 100%|█████████████████████████████| 185/185 [00:06<00:00, 27.02it/s]\n"
     ]
    },
    {
     "name": "stdout",
     "output_type": "stream",
     "text": [
      "[Generation: 42] \n",
      " Average Fitness: 471.62702702702705 \n",
      " Best Fitness: 500.0 \n",
      " Worst Fitness: 9.0 \n",
      " Standard Error: 8.334116567928959\n"
     ]
    },
    {
     "name": "stderr",
     "output_type": "stream",
     "text": [
      "Generating Offspring: 100%|██████████████████████████████| 110/110 [02:02<00:00,  1.12s/it]\n",
      "Calculating fitnesses: 100%|█████████████████████████████| 185/185 [00:06<00:00, 27.89it/s]\n"
     ]
    },
    {
     "name": "stdout",
     "output_type": "stream",
     "text": [
      "[Generation: 43] \n",
      " Average Fitness: 465.1027027027027 \n",
      " Best Fitness: 500.0 \n",
      " Worst Fitness: 8.0 \n",
      " Standard Error: 9.056710363274812\n"
     ]
    },
    {
     "name": "stderr",
     "output_type": "stream",
     "text": [
      "Generating Offspring: 100%|██████████████████████████████| 110/110 [02:00<00:00,  1.10s/it]\n",
      "Calculating fitnesses: 100%|█████████████████████████████| 185/185 [00:06<00:00, 27.42it/s]\n"
     ]
    },
    {
     "name": "stdout",
     "output_type": "stream",
     "text": [
      "[Generation: 44] \n",
      " Average Fitness: 475.7081081081081 \n",
      " Best Fitness: 500.0 \n",
      " Worst Fitness: 8.0 \n",
      " Standard Error: 7.612277943864673\n"
     ]
    },
    {
     "name": "stderr",
     "output_type": "stream",
     "text": [
      "Generating Offspring: 100%|██████████████████████████████| 110/110 [02:02<00:00,  1.12s/it]\n",
      "Calculating fitnesses: 100%|█████████████████████████████| 185/185 [00:06<00:00, 26.98it/s]\n"
     ]
    },
    {
     "name": "stdout",
     "output_type": "stream",
     "text": [
      "[Generation: 45] \n",
      " Average Fitness: 481.52972972972975 \n",
      " Best Fitness: 500.0 \n",
      " Worst Fitness: 8.0 \n",
      " Standard Error: 6.866667231958755\n"
     ]
    },
    {
     "name": "stderr",
     "output_type": "stream",
     "text": [
      "Generating Offspring: 100%|██████████████████████████████| 110/110 [02:04<00:00,  1.13s/it]\n",
      "Calculating fitnesses: 100%|█████████████████████████████| 185/185 [00:06<00:00, 27.29it/s]\n"
     ]
    },
    {
     "name": "stdout",
     "output_type": "stream",
     "text": [
      "[Generation: 46] \n",
      " Average Fitness: 472.3945945945946 \n",
      " Best Fitness: 500.0 \n",
      " Worst Fitness: 8.0 \n",
      " Standard Error: 8.15601433047712\n"
     ]
    },
    {
     "name": "stderr",
     "output_type": "stream",
     "text": [
      "Generating Offspring: 100%|██████████████████████████████| 110/110 [02:02<00:00,  1.12s/it]\n",
      "Calculating fitnesses: 100%|█████████████████████████████| 185/185 [00:06<00:00, 28.12it/s]\n"
     ]
    },
    {
     "name": "stdout",
     "output_type": "stream",
     "text": [
      "[Generation: 47] \n",
      " Average Fitness: 458.68108108108106 \n",
      " Best Fitness: 500.0 \n",
      " Worst Fitness: 8.0 \n",
      " Standard Error: 9.930013886537754\n"
     ]
    },
    {
     "name": "stderr",
     "output_type": "stream",
     "text": [
      "Generating Offspring: 100%|██████████████████████████████| 110/110 [01:59<00:00,  1.08s/it]\n",
      "Calculating fitnesses: 100%|█████████████████████████████| 185/185 [00:06<00:00, 27.41it/s]\n"
     ]
    },
    {
     "name": "stdout",
     "output_type": "stream",
     "text": [
      "[Generation: 48] \n",
      " Average Fitness: 474.03783783783786 \n",
      " Best Fitness: 500.0 \n",
      " Worst Fitness: 9.0 \n",
      " Standard Error: 7.815349804809601\n"
     ]
    },
    {
     "name": "stderr",
     "output_type": "stream",
     "text": [
      "Generating Offspring: 100%|██████████████████████████████| 110/110 [02:02<00:00,  1.11s/it]\n",
      "Calculating fitnesses: 100%|█████████████████████████████| 185/185 [00:06<00:00, 27.46it/s]\n"
     ]
    },
    {
     "name": "stdout",
     "output_type": "stream",
     "text": [
      "[Generation: 49] \n",
      " Average Fitness: 470.7081081081081 \n",
      " Best Fitness: 500.0 \n",
      " Worst Fitness: 8.0 \n",
      " Standard Error: 8.1644780996206\n"
     ]
    },
    {
     "name": "stderr",
     "output_type": "stream",
     "text": [
      "Generating Offspring: 100%|██████████████████████████████| 110/110 [02:02<00:00,  1.12s/it]\n",
      "Calculating fitnesses: 100%|█████████████████████████████| 185/185 [00:06<00:00, 27.08it/s]\n"
     ]
    },
    {
     "name": "stdout",
     "output_type": "stream",
     "text": [
      "[Generation: 50] \n",
      " Average Fitness: 478.0108108108108 \n",
      " Best Fitness: 500.0 \n",
      " Worst Fitness: 8.0 \n",
      " Standard Error: 7.350136049921885\n"
     ]
    },
    {
     "name": "stderr",
     "output_type": "stream",
     "text": [
      "Generating Offspring: 100%|██████████████████████████████| 110/110 [02:04<00:00,  1.13s/it]\n",
      "Calculating fitnesses: 100%|█████████████████████████████| 185/185 [00:06<00:00, 27.81it/s]\n"
     ]
    },
    {
     "name": "stdout",
     "output_type": "stream",
     "text": [
      "[Generation: 51] \n",
      " Average Fitness: 463.9945945945946 \n",
      " Best Fitness: 500.0 \n",
      " Worst Fitness: 9.0 \n",
      " Standard Error: 8.993039798843213\n"
     ]
    },
    {
     "name": "stderr",
     "output_type": "stream",
     "text": [
      "Generating Offspring: 100%|██████████████████████████████| 110/110 [02:01<00:00,  1.10s/it]\n",
      "Calculating fitnesses: 100%|█████████████████████████████| 185/185 [00:06<00:00, 28.49it/s]\n"
     ]
    },
    {
     "name": "stdout",
     "output_type": "stream",
     "text": [
      "[Generation: 52] \n",
      " Average Fitness: 455.1837837837838 \n",
      " Best Fitness: 500.0 \n",
      " Worst Fitness: 9.0 \n",
      " Standard Error: 10.388694014080633\n"
     ]
    },
    {
     "name": "stderr",
     "output_type": "stream",
     "text": [
      "Generating Offspring: 100%|██████████████████████████████| 110/110 [01:58<00:00,  1.08s/it]\n",
      "Calculating fitnesses: 100%|█████████████████████████████| 185/185 [00:06<00:00, 28.57it/s]\n"
     ]
    },
    {
     "name": "stdout",
     "output_type": "stream",
     "text": [
      "[Generation: 53] \n",
      " Average Fitness: 453.07567567567565 \n",
      " Best Fitness: 500.0 \n",
      " Worst Fitness: 9.0 \n",
      " Standard Error: 10.25845634454187\n"
     ]
    },
    {
     "name": "stderr",
     "output_type": "stream",
     "text": [
      "Generating Offspring: 100%|██████████████████████████████| 110/110 [01:58<00:00,  1.08s/it]\n",
      "Calculating fitnesses: 100%|█████████████████████████████| 185/185 [00:06<00:00, 27.25it/s]\n"
     ]
    },
    {
     "name": "stdout",
     "output_type": "stream",
     "text": [
      "[Generation: 54] \n",
      " Average Fitness: 476.13513513513516 \n",
      " Best Fitness: 500.0 \n",
      " Worst Fitness: 9.0 \n",
      " Standard Error: 7.64116199847161\n"
     ]
    },
    {
     "name": "stderr",
     "output_type": "stream",
     "text": [
      "Generating Offspring: 100%|██████████████████████████████| 110/110 [02:03<00:00,  1.12s/it]\n",
      "Calculating fitnesses: 100%|█████████████████████████████| 185/185 [00:06<00:00, 27.36it/s]\n"
     ]
    },
    {
     "name": "stdout",
     "output_type": "stream",
     "text": [
      "[Generation: 55] \n",
      " Average Fitness: 473.79459459459457 \n",
      " Best Fitness: 500.0 \n",
      " Worst Fitness: 8.0 \n",
      " Standard Error: 8.084919799282382\n"
     ]
    },
    {
     "name": "stderr",
     "output_type": "stream",
     "text": [
      "Generating Offspring: 100%|██████████████████████████████| 110/110 [02:03<00:00,  1.13s/it]\n",
      "Calculating fitnesses: 100%|█████████████████████████████| 185/185 [00:06<00:00, 28.12it/s]\n"
     ]
    },
    {
     "name": "stdout",
     "output_type": "stream",
     "text": [
      "[Generation: 56] \n",
      " Average Fitness: 461.6 \n",
      " Best Fitness: 500.0 \n",
      " Worst Fitness: 8.0 \n",
      " Standard Error: 9.553831034017557\n"
     ]
    },
    {
     "name": "stderr",
     "output_type": "stream",
     "text": [
      "Generating Offspring: 100%|██████████████████████████████| 110/110 [02:00<00:00,  1.10s/it]\n",
      "Calculating fitnesses: 100%|█████████████████████████████| 185/185 [00:06<00:00, 28.02it/s]\n"
     ]
    },
    {
     "name": "stdout",
     "output_type": "stream",
     "text": [
      "[Generation: 57] \n",
      " Average Fitness: 462.9027027027027 \n",
      " Best Fitness: 500.0 \n",
      " Worst Fitness: 8.0 \n",
      " Standard Error: 9.558027136666851\n"
     ]
    },
    {
     "name": "stderr",
     "output_type": "stream",
     "text": [
      "Generating Offspring: 100%|██████████████████████████████| 110/110 [01:59<00:00,  1.09s/it]\n",
      "Calculating fitnesses: 100%|█████████████████████████████| 185/185 [00:06<00:00, 28.51it/s]\n"
     ]
    },
    {
     "name": "stdout",
     "output_type": "stream",
     "text": [
      "[Generation: 58] \n",
      " Average Fitness: 451.8324324324324 \n",
      " Best Fitness: 500.0 \n",
      " Worst Fitness: 8.0 \n",
      " Standard Error: 10.561595124821453\n"
     ]
    },
    {
     "name": "stderr",
     "output_type": "stream",
     "text": [
      "Generating Offspring: 100%|██████████████████████████████| 110/110 [01:56<00:00,  1.06s/it]\n",
      "Calculating fitnesses: 100%|█████████████████████████████| 185/185 [00:06<00:00, 27.50it/s]\n"
     ]
    },
    {
     "name": "stdout",
     "output_type": "stream",
     "text": [
      "[Generation: 59] \n",
      " Average Fitness: 468.8540540540541 \n",
      " Best Fitness: 500.0 \n",
      " Worst Fitness: 9.0 \n",
      " Standard Error: 8.73130546074012\n"
     ]
    },
    {
     "name": "stderr",
     "output_type": "stream",
     "text": [
      "Generating Offspring: 100%|██████████████████████████████| 110/110 [02:01<00:00,  1.11s/it]\n",
      "Calculating fitnesses: 100%|█████████████████████████████| 185/185 [00:06<00:00, 26.98it/s]\n"
     ]
    },
    {
     "name": "stdout",
     "output_type": "stream",
     "text": [
      "[Generation: 60] \n",
      " Average Fitness: 478.3783783783784 \n",
      " Best Fitness: 500.0 \n",
      " Worst Fitness: 9.0 \n",
      " Standard Error: 7.157259701655532\n"
     ]
    },
    {
     "name": "stderr",
     "output_type": "stream",
     "text": [
      "Generating Offspring: 100%|██████████████████████████████| 110/110 [02:05<00:00,  1.14s/it]\n",
      "Calculating fitnesses: 100%|█████████████████████████████| 185/185 [00:06<00:00, 27.57it/s]\n"
     ]
    },
    {
     "name": "stdout",
     "output_type": "stream",
     "text": [
      "[Generation: 61] \n",
      " Average Fitness: 468.2108108108108 \n",
      " Best Fitness: 500.0 \n",
      " Worst Fitness: 8.0 \n",
      " Standard Error: 8.898293942520466\n"
     ]
    },
    {
     "name": "stderr",
     "output_type": "stream",
     "text": [
      "Generating Offspring: 100%|██████████████████████████████| 110/110 [02:01<00:00,  1.10s/it]\n",
      "Calculating fitnesses: 100%|█████████████████████████████| 185/185 [00:06<00:00, 27.67it/s]\n"
     ]
    },
    {
     "name": "stdout",
     "output_type": "stream",
     "text": [
      "[Generation: 62] \n",
      " Average Fitness: 468.5135135135135 \n",
      " Best Fitness: 500.0 \n",
      " Worst Fitness: 8.0 \n",
      " Standard Error: 8.815900428139956\n"
     ]
    },
    {
     "name": "stderr",
     "output_type": "stream",
     "text": [
      "Generating Offspring: 100%|██████████████████████████████| 110/110 [02:01<00:00,  1.10s/it]\n",
      "Calculating fitnesses: 100%|█████████████████████████████| 185/185 [00:06<00:00, 27.52it/s]\n"
     ]
    },
    {
     "name": "stdout",
     "output_type": "stream",
     "text": [
      "[Generation: 63] \n",
      " Average Fitness: 471.772972972973 \n",
      " Best Fitness: 500.0 \n",
      " Worst Fitness: 8.0 \n",
      " Standard Error: 8.042740675989993\n"
     ]
    },
    {
     "name": "stderr",
     "output_type": "stream",
     "text": [
      "Generating Offspring: 100%|██████████████████████████████| 110/110 [02:01<00:00,  1.11s/it]\n",
      "Calculating fitnesses: 100%|█████████████████████████████| 185/185 [00:06<00:00, 28.82it/s]\n"
     ]
    },
    {
     "name": "stdout",
     "output_type": "stream",
     "text": [
      "[Generation: 64] \n",
      " Average Fitness: 449.86486486486484 \n",
      " Best Fitness: 500.0 \n",
      " Worst Fitness: 8.0 \n",
      " Standard Error: 10.746597337609257\n"
     ]
    },
    {
     "name": "stderr",
     "output_type": "stream",
     "text": [
      "Generating Offspring: 100%|██████████████████████████████| 110/110 [01:56<00:00,  1.06s/it]\n",
      "Calculating fitnesses: 100%|█████████████████████████████| 185/185 [00:06<00:00, 27.66it/s]\n"
     ]
    },
    {
     "name": "stdout",
     "output_type": "stream",
     "text": [
      "[Generation: 65] \n",
      " Average Fitness: 468.96216216216214 \n",
      " Best Fitness: 500.0 \n",
      " Worst Fitness: 8.0 \n",
      " Standard Error: 8.697870964583421\n"
     ]
    },
    {
     "name": "stderr",
     "output_type": "stream",
     "text": [
      "Generating Offspring: 100%|██████████████████████████████| 110/110 [02:01<00:00,  1.10s/it]\n",
      "Calculating fitnesses: 100%|█████████████████████████████| 185/185 [00:06<00:00, 27.28it/s]\n"
     ]
    },
    {
     "name": "stdout",
     "output_type": "stream",
     "text": [
      "[Generation: 66] \n",
      " Average Fitness: 473.5135135135135 \n",
      " Best Fitness: 500.0 \n",
      " Worst Fitness: 8.0 \n",
      " Standard Error: 8.168402724007978\n"
     ]
    },
    {
     "name": "stderr",
     "output_type": "stream",
     "text": [
      "Generating Offspring: 100%|██████████████████████████████| 110/110 [02:02<00:00,  1.11s/it]\n",
      "Calculating fitnesses: 100%|█████████████████████████████| 185/185 [00:06<00:00, 28.14it/s]\n"
     ]
    },
    {
     "name": "stdout",
     "output_type": "stream",
     "text": [
      "[Generation: 67] \n",
      " Average Fitness: 463.5189189189189 \n",
      " Best Fitness: 500.0 \n",
      " Worst Fitness: 8.0 \n",
      " Standard Error: 9.41749407157991\n"
     ]
    },
    {
     "name": "stderr",
     "output_type": "stream",
     "text": [
      "Generating Offspring: 100%|██████████████████████████████| 110/110 [02:01<00:00,  1.10s/it]\n",
      "Calculating fitnesses: 100%|█████████████████████████████| 185/185 [00:06<00:00, 27.95it/s]\n"
     ]
    },
    {
     "name": "stdout",
     "output_type": "stream",
     "text": [
      "[Generation: 68] \n",
      " Average Fitness: 464.1837837837838 \n",
      " Best Fitness: 500.0 \n",
      " Worst Fitness: 8.0 \n",
      " Standard Error: 9.268887331625809\n"
     ]
    },
    {
     "name": "stderr",
     "output_type": "stream",
     "text": [
      "Generating Offspring: 100%|██████████████████████████████| 110/110 [02:00<00:00,  1.10s/it]\n",
      "Calculating fitnesses: 100%|█████████████████████████████| 185/185 [00:06<00:00, 28.16it/s]\n"
     ]
    },
    {
     "name": "stdout",
     "output_type": "stream",
     "text": [
      "[Generation: 69] \n",
      " Average Fitness: 463.23783783783784 \n",
      " Best Fitness: 500.0 \n",
      " Worst Fitness: 8.0 \n",
      " Standard Error: 9.478043051817261\n"
     ]
    },
    {
     "name": "stderr",
     "output_type": "stream",
     "text": [
      "Generating Offspring: 100%|██████████████████████████████| 110/110 [02:00<00:00,  1.09s/it]\n",
      "Calculating fitnesses: 100%|█████████████████████████████| 185/185 [00:06<00:00, 28.55it/s]\n"
     ]
    },
    {
     "name": "stdout",
     "output_type": "stream",
     "text": [
      "[Generation: 70] \n",
      " Average Fitness: 454.2162162162162 \n",
      " Best Fitness: 500.0 \n",
      " Worst Fitness: 8.0 \n",
      " Standard Error: 10.328274187371413\n"
     ]
    },
    {
     "name": "stderr",
     "output_type": "stream",
     "text": [
      "Generating Offspring: 100%|██████████████████████████████| 110/110 [01:58<00:00,  1.08s/it]\n",
      "Calculating fitnesses: 100%|█████████████████████████████| 185/185 [00:06<00:00, 28.29it/s]\n"
     ]
    },
    {
     "name": "stdout",
     "output_type": "stream",
     "text": [
      "[Generation: 71] \n",
      " Average Fitness: 461.0864864864865 \n",
      " Best Fitness: 500.0 \n",
      " Worst Fitness: 8.0 \n",
      " Standard Error: 9.548119544987104\n"
     ]
    },
    {
     "name": "stderr",
     "output_type": "stream",
     "text": [
      "Generating Offspring: 100%|██████████████████████████████| 110/110 [02:00<00:00,  1.09s/it]\n",
      "Calculating fitnesses: 100%|█████████████████████████████| 185/185 [00:06<00:00, 28.98it/s]\n"
     ]
    },
    {
     "name": "stdout",
     "output_type": "stream",
     "text": [
      "[Generation: 72] \n",
      " Average Fitness: 449.8378378378378 \n",
      " Best Fitness: 500.0 \n",
      " Worst Fitness: 8.0 \n",
      " Standard Error: 10.723680834694443\n"
     ]
    },
    {
     "name": "stderr",
     "output_type": "stream",
     "text": [
      "Generating Offspring: 100%|██████████████████████████████| 110/110 [01:56<00:00,  1.06s/it]\n",
      "Calculating fitnesses: 100%|█████████████████████████████| 185/185 [00:06<00:00, 27.67it/s]\n"
     ]
    },
    {
     "name": "stdout",
     "output_type": "stream",
     "text": [
      "[Generation: 73] \n",
      " Average Fitness: 466.81081081081084 \n",
      " Best Fitness: 500.0 \n",
      " Worst Fitness: 8.0 \n",
      " Standard Error: 8.856879356650413\n"
     ]
    },
    {
     "name": "stderr",
     "output_type": "stream",
     "text": [
      "Generating Offspring: 100%|██████████████████████████████| 110/110 [02:01<00:00,  1.10s/it]\n",
      "Calculating fitnesses: 100%|█████████████████████████████| 185/185 [00:06<00:00, 27.95it/s]\n"
     ]
    },
    {
     "name": "stdout",
     "output_type": "stream",
     "text": [
      "[Generation: 74] \n",
      " Average Fitness: 460.4918918918919 \n",
      " Best Fitness: 500.0 \n",
      " Worst Fitness: 8.0 \n",
      " Standard Error: 9.809106655526278\n"
     ]
    },
    {
     "name": "stderr",
     "output_type": "stream",
     "text": [
      "Generating Offspring: 100%|██████████████████████████████| 110/110 [02:00<00:00,  1.09s/it]\n",
      "Calculating fitnesses: 100%|█████████████████████████████| 185/185 [00:06<00:00, 28.47it/s]\n"
     ]
    },
    {
     "name": "stdout",
     "output_type": "stream",
     "text": [
      "[Generation: 75] \n",
      " Average Fitness: 458.1135135135135 \n",
      " Best Fitness: 500.0 \n",
      " Worst Fitness: 8.0 \n",
      " Standard Error: 10.042677170640697\n"
     ]
    },
    {
     "name": "stderr",
     "output_type": "stream",
     "text": [
      "Generating Offspring: 100%|██████████████████████████████| 110/110 [01:59<00:00,  1.08s/it]"
     ]
    },
    {
     "name": "stdout",
     "output_type": "stream",
     "text": [
      "| \u001b[0m12       \u001b[0m | \u001b[0m489.2    \u001b[0m | \u001b[0m75.16    \u001b[0m | \u001b[0m75.62    \u001b[0m | \u001b[0m0.3802   \u001b[0m | \u001b[0m1.0      \u001b[0m | \u001b[0m185.9    \u001b[0m | \u001b[0m29.12    \u001b[0m |\n",
      "=================================================================================================\n",
      "{'target': 490.22105263157897, 'params': {'elitism': 71.02275897355483, 'generations': 95.03561851895248, 'mutation_rate': 1.0, 'mutation_strength': 1.0, 'population_size': 176.7312263187767, 'tournament_size': 12.334951789969598}}\n"
     ]
    },
    {
     "name": "stderr",
     "output_type": "stream",
     "text": [
      "\n"
     ]
    }
   ],
   "source": [
    "# Version 2:\n",
    "# Define function to be optimized\n",
    "def evaluate_network(population_size, generations, elitism, tournament_size, mutation_strength, mutation_rate):\n",
    "    # Ensure hyperparameters are integers where necessary\n",
    "    population_size = int(population_size)\n",
    "    generations = int(generations)\n",
    "    elitism = int(elitism)\n",
    "    tournament_size = int(tournament_size)\n",
    "\n",
    "    # Run your genetic algorithm here with the above parameters\n",
    "    population, history, _ = main(population_size, \n",
    "                               generations, \n",
    "                               elitism, \n",
    "                               tournament_size, \n",
    "                               mutation_strength, \n",
    "                               mutation_rate)\n",
    "    \n",
    "    # You can modify this according to what represents a good model in your case\n",
    "    # For now, I assume you want to maximize the best fitness achieved\n",
    "    best_fitnesses_avg = np.average((np.array(history)[:,1]))\n",
    "    return best_fitnesses_avg\n",
    "\n",
    "# Define the hyperparameters and their ranges\n",
    "pbounds = {\n",
    "    'population_size': (50, 300),\n",
    "    'generations': (30, 100),\n",
    "    'elitism': (25, 150),\n",
    "    'tournament_size': (2, 30),\n",
    "    'mutation_strength': (1, 1),\n",
    "    'mutation_rate': (0.01, 1.0)\n",
    "}\n",
    "\n",
    "# Create the BayesianOptimization object\n",
    "optimizer = BayesianOptimization(\n",
    "    f=evaluate_network,\n",
    "    pbounds=pbounds,\n",
    "    random_state=1,\n",
    ")\n",
    "\n",
    "# Perform optimization\n",
    "optimizer.maximize(\n",
    "    init_points=2,\n",
    "    n_iter=10,\n",
    ")\n",
    "\n",
    "# Print the result\n",
    "print(optimizer.max)"
   ]
  },
  {
   "cell_type": "code",
   "execution_count": 10,
   "id": "3aac6929",
   "metadata": {},
   "outputs": [
    {
     "name": "stdout",
     "output_type": "stream",
     "text": [
      "Iteration 0: \n",
      "\t{'target': 86.025, 'params': {'elitism': 77.12775058782175, 'generations': 80.42271454095106, 'mutation_rate': 0.010113231069171438, 'mutation_strength': 1.0, 'population_size': 86.68897270427826, 'tournament_size': 4.585480653526338}}\n",
      "Iteration 1: \n",
      "\t{'target': 452.77777777777777, 'params': {'elitism': 48.28252642220886, 'generations': 54.189250893013345, 'mutation_rate': 0.40279979948836325, 'mutation_strength': 1.0, 'population_size': 154.7986286008237, 'tournament_size': 21.186146011109265}}\n",
      "Iteration 2: \n",
      "\t{'target': 481.05882352941177, 'params': {'elitism': 52.895393663284835, 'generations': 51.94780699206078, 'mutation_rate': 0.3999862715420549, 'mutation_strength': 1.0, 'population_size': 155.94916117090193, 'tournament_size': 17.739931679348178}}\n",
      "Iteration 3: \n",
      "\t{'target': 275.3, 'params': {'elitism': 67.71213262883347, 'generations': 30.0, 'mutation_rate': 0.5792737877618241, 'mutation_strength': 1.0, 'population_size': 197.23816259244444, 'tournament_size': 4.1973232251868335}}\n",
      "Iteration 4: \n",
      "\t{'target': 485.73333333333335, 'params': {'elitism': 73.97487290157915, 'generations': 30.0, 'mutation_rate': 1.0, 'mutation_strength': 1.0, 'population_size': 144.00057562850853, 'tournament_size': 30.0}}\n",
      "Iteration 5: \n",
      "\t{'target': 467.5076923076923, 'params': {'elitism': 93.21868813980129, 'generations': 65.40262114235401, 'mutation_rate': 1.0, 'mutation_strength': 1.0, 'population_size': 161.95770277975288, 'tournament_size': 30.0}}\n",
      "Iteration 6: \n",
      "\t{'target': 94.6, 'params': {'elitism': 132.41456735117183, 'generations': 30.0, 'mutation_rate': 0.01, 'mutation_strength': 1.0, 'population_size': 149.33842599371943, 'tournament_size': 30.0}}\n",
      "Iteration 7: \n",
      "\t{'target': 490.22105263157897, 'params': {'elitism': 71.02275897355483, 'generations': 95.03561851895248, 'mutation_rate': 1.0, 'mutation_strength': 1.0, 'population_size': 176.7312263187767, 'tournament_size': 12.334951789969598}}\n",
      "Iteration 8: \n",
      "\t{'target': 441.42, 'params': {'elitism': 101.45199844571017, 'generations': 100.0, 'mutation_rate': 1.0, 'mutation_strength': 1.0, 'population_size': 206.76637766399213, 'tournament_size': 30.0}}\n",
      "Iteration 9: \n",
      "\t{'target': 397.96, 'params': {'elitism': 43.15074996941997, 'generations': 100.0, 'mutation_rate': 1.0, 'mutation_strength': 1.0, 'population_size': 215.64042850381216, 'tournament_size': 30.0}}\n",
      "Iteration 10: \n",
      "\t{'target': 217.28, 'params': {'elitism': 112.53358717876267, 'generations': 100.0, 'mutation_rate': 1.0, 'mutation_strength': 1.0, 'population_size': 170.18971938588084, 'tournament_size': 2.0}}\n",
      "Iteration 11: \n",
      "\t{'target': 489.18666666666667, 'params': {'elitism': 75.16476917977451, 'generations': 75.62401235366904, 'mutation_rate': 0.3802433611500059, 'mutation_strength': 1.0, 'population_size': 185.85271409284726, 'tournament_size': 29.11894435548044}}\n"
     ]
    }
   ],
   "source": [
    "for i, res in enumerate(optimizer.res):\n",
    "    print(\"Iteration {}: \\n\\t{}\".format(i, res))"
   ]
  },
  {
   "cell_type": "code",
   "execution_count": null,
   "id": "4eee1306",
   "metadata": {},
   "outputs": [],
   "source": []
  }
 ],
 "metadata": {
  "kernelspec": {
   "display_name": "Python 3 (ipykernel)",
   "language": "python",
   "name": "python3"
  },
  "language_info": {
   "codemirror_mode": {
    "name": "ipython",
    "version": 3
   },
   "file_extension": ".py",
   "mimetype": "text/x-python",
   "name": "python",
   "nbconvert_exporter": "python",
   "pygments_lexer": "ipython3",
   "version": "3.11.3"
  }
 },
 "nbformat": 4,
 "nbformat_minor": 5
}
