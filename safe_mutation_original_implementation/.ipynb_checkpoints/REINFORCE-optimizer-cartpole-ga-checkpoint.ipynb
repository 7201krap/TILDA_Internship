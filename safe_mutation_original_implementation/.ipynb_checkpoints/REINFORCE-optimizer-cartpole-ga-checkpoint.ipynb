{
 "cells": [
  {
   "cell_type": "code",
   "execution_count": 1,
   "id": "cff20e7d",
   "metadata": {},
   "outputs": [],
   "source": [
    "import torch\n",
    "import gym\n",
    "import numpy as np\n",
    "import random\n",
    "import matplotlib.pyplot as plt\n",
    "import statistics\n",
    "\n",
    "from torch import nn\n",
    "from copy import deepcopy\n",
    "from tqdm import tqdm\n",
    "\n",
    "from bayes_opt import BayesianOptimization"
   ]
  },
  {
   "cell_type": "code",
   "execution_count": 2,
   "id": "c7205bff",
   "metadata": {},
   "outputs": [
    {
     "name": "stderr",
     "output_type": "stream",
     "text": [
      "/Users/jinhyunpark/miniforge3/envs/tilda/lib/python3.11/site-packages/gym/core.py:329: DeprecationWarning: \u001b[33mWARN: Initializing wrapper in old step API which returns one bool instead of two. It is recommended to set `new_step_api=True` to use new step API. This will be the default behaviour in future.\u001b[0m\n",
      "  deprecation(\n",
      "/Users/jinhyunpark/miniforge3/envs/tilda/lib/python3.11/site-packages/gym/wrappers/step_api_compatibility.py:39: DeprecationWarning: \u001b[33mWARN: Initializing environment in old step API which returns one bool instead of two. It is recommended to set `new_step_api=True` to use new step API. This will be the default behaviour in future.\u001b[0m\n",
      "  deprecation(\n"
     ]
    }
   ],
   "source": [
    "# Use the following gym version.\n",
    "# pip install gym==0.25.0\n",
    "# pip install pygame\n",
    "\n",
    "seed = 0\n",
    "torch.manual_seed(seed)\n",
    "np.random.seed(seed)\n",
    "random.seed(seed)\n",
    "\n",
    "# define global variable \n",
    "MAX_EP = 1\n",
    "env = gym.make('CartPole-v1')"
   ]
  },
  {
   "cell_type": "code",
   "execution_count": 3,
   "id": "24c2802b",
   "metadata": {},
   "outputs": [],
   "source": [
    "class Network(nn.Module):\n",
    "    def __init__(self, env, learning_rate=0.01):\n",
    "        super().__init__()\n",
    "\n",
    "        in_features = int(np.prod(env.observation_space.shape))\n",
    "        self.net = nn.Sequential(\n",
    "            nn.Linear(in_features, 64),\n",
    "            nn.Tanh(),\n",
    "            nn.Linear(64, env.action_space.n)\n",
    "        )\n",
    "        self.optimizer = torch.optim.Adam(self.net.parameters(), lr=learning_rate)\n",
    "\n",
    "    def forward(self, x):\n",
    "        return self.net(x)\n",
    "\n",
    "    def act(self, state):\n",
    "        state_t = torch.as_tensor(state, dtype=torch.float32)\n",
    "        q_values = self.forward(state_t.unsqueeze(0))                           \n",
    "        max_q_index = torch.argmax(q_values, dim=1)[0]                          \n",
    "        action = max_q_index.detach().item()                                    \n",
    "        return action   "
   ]
  },
  {
   "cell_type": "code",
   "execution_count": 4,
   "id": "0fc86824",
   "metadata": {},
   "outputs": [],
   "source": [
    "def calculate_fitness(network, env, num_episodes=MAX_EP):\n",
    "    total_rewards = 0\n",
    "    for _ in range(num_episodes):\n",
    "        reward, _ = run_episode(network, env)\n",
    "        total_rewards += reward\n",
    "    avg_reward = total_rewards / num_episodes\n",
    "    return avg_reward"
   ]
  },
  {
   "cell_type": "code",
   "execution_count": 5,
   "id": "2a8fe0ec",
   "metadata": {},
   "outputs": [],
   "source": [
    "def run_episode(network, env):\n",
    "    state = env.reset()\n",
    "    total_reward = 0.0\n",
    "    log_probs = []  # Store log probabilities of actions\n",
    "    done = False\n",
    "    while not done:\n",
    "        state_t = torch.as_tensor(state, dtype=torch.float32)\n",
    "        q_values = network(state_t.unsqueeze(0))\n",
    "        action_probs = nn.functional.softmax(q_values, dim=1)\n",
    "        action_dist = torch.distributions.Categorical(action_probs)\n",
    "        action = action_dist.sample()\n",
    "        log_prob = action_dist.log_prob(action)\n",
    "        log_probs.append(log_prob)\n",
    "        state, reward, done, _ = env.step(action.item())\n",
    "        total_reward += reward\n",
    "    \n",
    "    # Calculate loss based on the total reward\n",
    "    loss = -total_reward * torch.stack(log_probs).sum()\n",
    "    # Calculate gradients\n",
    "    network.optimizer.zero_grad()\n",
    "    loss.backward()\n",
    "    # Update network parameters\n",
    "    network.optimizer.step()\n",
    "\n",
    "    return total_reward, log_probs"
   ]
  },
  {
   "cell_type": "code",
   "execution_count": 6,
   "id": "135d1438",
   "metadata": {},
   "outputs": [],
   "source": [
    "def mutate_and_tournament(population, tournament_size, mutation_rate, mutation_strength):\n",
    "    \n",
    "    # Select individuals for the tournament\n",
    "    individuals = random.sample(population, tournament_size)\n",
    "    # Calculate fitness for each individual\n",
    "    fitnesses = [calculate_fitness(individual, env) for individual in individuals]\n",
    "    # Select the best individual\n",
    "    parent = individuals[np.argmax(fitnesses)]\n",
    "    \n",
    "    # Create offspring by deep copying the parent\n",
    "    offspring = deepcopy(parent)\n",
    "    \n",
    "    # Return the mutated offspring\n",
    "    return offspring"
   ]
  },
  {
   "cell_type": "code",
   "execution_count": 7,
   "id": "99bb98fc",
   "metadata": {},
   "outputs": [],
   "source": [
    "# Define genetic algorithm\n",
    "def main(POPULATION_SIZE, GENERATIONS, ELITISM, TOURNAMENT_SIZE, MUTATION_STRENGTH, MUTATION_RATE):\n",
    "    \n",
    "    FITNESS_HISTORY = list()\n",
    "    FITNESS_STDERROR_HISTORY = list()\n",
    "    \n",
    "    # Create initial population\n",
    "    population = [Network(env) for _ in range(POPULATION_SIZE)]\n",
    "\n",
    "    for generation in range(1, GENERATIONS + 1):\n",
    "\n",
    "        # Calculate fitness for each network\n",
    "        fitnesses = [calculate_fitness(network, env) for network in tqdm(population, desc=\"Calculating fitnesses\")]\n",
    "        \n",
    "        # average fitness \n",
    "        avg_fitness = np.average(fitnesses)\n",
    "        max_fitness = np.max(fitnesses)\n",
    "        min_fitness = np.min(fitnesses)\n",
    "        FITNESS_HISTORY.append([avg_fitness, max_fitness, min_fitness])\n",
    "        \n",
    "        # std error\n",
    "        standard_deviation = statistics.stdev(fitnesses)\n",
    "        standard_error = standard_deviation / (POPULATION_SIZE ** 0.5)\n",
    "        FITNESS_STDERROR_HISTORY.append(standard_error)\n",
    "\n",
    "        print(f\"[Generation: {generation}] \\n Average Fitness: {avg_fitness} \\n Best Fitness: {max_fitness} \\n Worst Fitness: {min_fitness} \\n Standard Error: {standard_error}\")\n",
    "        \n",
    "        # Sort population by fitness\n",
    "        population = [x for _, x in sorted(zip(fitnesses, population), key=lambda pair: pair[0], reverse=True)]\n",
    "        \n",
    "        # Select the best networks to pass their genes to the next generation\n",
    "        survivors = population[:ELITISM]\n",
    "        \n",
    "        # Create the next generation\n",
    "        next_population = survivors  # Start with the survivors\n",
    "        \n",
    "        num_individuals_to_add = POPULATION_SIZE - len(next_population)\n",
    "        # Add offspring by tournament selection and mutation\n",
    "        for _ in tqdm(range(num_individuals_to_add), desc=\"Generating Offspring\"):\n",
    "            offspring = mutate_and_tournament(population, TOURNAMENT_SIZE, MUTATION_RATE, MUTATION_STRENGTH)\n",
    "            next_population.append(offspring)\n",
    "\n",
    "        # The next generation becomes the current population\n",
    "        population = next_population\n",
    "\n",
    "    return population, FITNESS_HISTORY, FITNESS_STDERROR_HISTORY"
   ]
  },
  {
   "cell_type": "markdown",
   "id": "58016015",
   "metadata": {},
   "source": [
    "### Version Control"
   ]
  },
  {
   "cell_type": "code",
   "execution_count": 8,
   "id": "5345a1c9",
   "metadata": {
    "scrolled": true
   },
   "outputs": [
    {
     "name": "stderr",
     "output_type": "stream",
     "text": [
      "Calculating fitnesses:   0%|                                       | 0/200 [00:00<?, ?it/s]/Users/jinhyunpark/miniforge3/envs/tilda/lib/python3.11/site-packages/gym/utils/passive_env_checker.py:241: DeprecationWarning: `np.bool8` is a deprecated alias for `np.bool_`.  (Deprecated NumPy 1.24)\n",
      "  if not isinstance(terminated, (bool, np.bool8)):\n",
      "Calculating fitnesses: 100%|████████████████████████████| 200/200 [00:00<00:00, 357.69it/s]\n"
     ]
    },
    {
     "name": "stdout",
     "output_type": "stream",
     "text": [
      "[Generation: 1] \n",
      " Average Fitness: 21.025 \n",
      " Best Fitness: 74.0 \n",
      " Worst Fitness: 9.0 \n",
      " Standard Error: 0.8380834051392791\n"
     ]
    },
    {
     "name": "stderr",
     "output_type": "stream",
     "text": [
      "Generating Offspring: 100%|█████████████████████████████| 100/100 [00:00<00:00, 116.93it/s]\n",
      "Calculating fitnesses: 100%|████████████████████████████| 200/200 [00:00<00:00, 316.68it/s]\n"
     ]
    },
    {
     "name": "stdout",
     "output_type": "stream",
     "text": [
      "[Generation: 2] \n",
      " Average Fitness: 24.245 \n",
      " Best Fitness: 99.0 \n",
      " Worst Fitness: 9.0 \n",
      " Standard Error: 1.0724624719629325\n"
     ]
    },
    {
     "name": "stderr",
     "output_type": "stream",
     "text": [
      "Generating Offspring: 100%|██████████████████████████████| 100/100 [00:01<00:00, 92.41it/s]\n",
      "Calculating fitnesses: 100%|████████████████████████████| 200/200 [00:00<00:00, 271.26it/s]\n"
     ]
    },
    {
     "name": "stdout",
     "output_type": "stream",
     "text": [
      "[Generation: 3] \n",
      " Average Fitness: 28.755 \n",
      " Best Fitness: 97.0 \n",
      " Worst Fitness: 9.0 \n",
      " Standard Error: 1.2637285802826157\n"
     ]
    },
    {
     "name": "stderr",
     "output_type": "stream",
     "text": [
      "Generating Offspring: 100%|██████████████████████████████| 100/100 [00:01<00:00, 85.18it/s]\n",
      "Calculating fitnesses: 100%|████████████████████████████| 200/200 [00:00<00:00, 209.89it/s]\n"
     ]
    },
    {
     "name": "stdout",
     "output_type": "stream",
     "text": [
      "[Generation: 4] \n",
      " Average Fitness: 37.33 \n",
      " Best Fitness: 141.0 \n",
      " Worst Fitness: 10.0 \n",
      " Standard Error: 1.5212252070792365\n"
     ]
    },
    {
     "name": "stderr",
     "output_type": "stream",
     "text": [
      "Generating Offspring: 100%|██████████████████████████████| 100/100 [00:01<00:00, 62.95it/s]\n",
      "Calculating fitnesses: 100%|████████████████████████████| 200/200 [00:01<00:00, 177.45it/s]\n"
     ]
    },
    {
     "name": "stdout",
     "output_type": "stream",
     "text": [
      "[Generation: 5] \n",
      " Average Fitness: 41.94 \n",
      " Best Fitness: 133.0 \n",
      " Worst Fitness: 10.0 \n",
      " Standard Error: 1.605496839144354\n"
     ]
    },
    {
     "name": "stderr",
     "output_type": "stream",
     "text": [
      "Generating Offspring: 100%|██████████████████████████████| 100/100 [00:01<00:00, 55.97it/s]\n",
      "Calculating fitnesses: 100%|████████████████████████████| 200/200 [00:01<00:00, 156.03it/s]\n"
     ]
    },
    {
     "name": "stdout",
     "output_type": "stream",
     "text": [
      "[Generation: 6] \n",
      " Average Fitness: 50.075 \n",
      " Best Fitness: 207.0 \n",
      " Worst Fitness: 14.0 \n",
      " Standard Error: 1.8498395625121589\n"
     ]
    },
    {
     "name": "stderr",
     "output_type": "stream",
     "text": [
      "Generating Offspring: 100%|██████████████████████████████| 100/100 [00:02<00:00, 48.77it/s]\n",
      "Calculating fitnesses: 100%|████████████████████████████| 200/200 [00:01<00:00, 147.25it/s]\n"
     ]
    },
    {
     "name": "stdout",
     "output_type": "stream",
     "text": [
      "[Generation: 7] \n",
      " Average Fitness: 52.8 \n",
      " Best Fitness: 144.0 \n",
      " Worst Fitness: 14.0 \n",
      " Standard Error: 1.7315865441262228\n"
     ]
    },
    {
     "name": "stderr",
     "output_type": "stream",
     "text": [
      "Generating Offspring: 100%|██████████████████████████████| 100/100 [00:02<00:00, 46.14it/s]\n",
      "Calculating fitnesses: 100%|████████████████████████████| 200/200 [00:01<00:00, 132.25it/s]\n"
     ]
    },
    {
     "name": "stdout",
     "output_type": "stream",
     "text": [
      "[Generation: 8] \n",
      " Average Fitness: 58.76 \n",
      " Best Fitness: 161.0 \n",
      " Worst Fitness: 13.0 \n",
      " Standard Error: 1.8992227979310126\n"
     ]
    },
    {
     "name": "stderr",
     "output_type": "stream",
     "text": [
      "Generating Offspring: 100%|██████████████████████████████| 100/100 [00:02<00:00, 42.93it/s]\n",
      "Calculating fitnesses: 100%|████████████████████████████| 200/200 [00:01<00:00, 117.18it/s]\n"
     ]
    },
    {
     "name": "stdout",
     "output_type": "stream",
     "text": [
      "[Generation: 9] \n",
      " Average Fitness: 64.89 \n",
      " Best Fitness: 213.0 \n",
      " Worst Fitness: 19.0 \n",
      " Standard Error: 2.2636497189828764\n"
     ]
    },
    {
     "name": "stderr",
     "output_type": "stream",
     "text": [
      "Generating Offspring: 100%|██████████████████████████████| 100/100 [00:02<00:00, 40.88it/s]\n",
      "Calculating fitnesses: 100%|████████████████████████████| 200/200 [00:01<00:00, 117.71it/s]\n"
     ]
    },
    {
     "name": "stdout",
     "output_type": "stream",
     "text": [
      "[Generation: 10] \n",
      " Average Fitness: 65.72 \n",
      " Best Fitness: 239.0 \n",
      " Worst Fitness: 21.0 \n",
      " Standard Error: 2.401738901034773\n"
     ]
    },
    {
     "name": "stderr",
     "output_type": "stream",
     "text": [
      "Generating Offspring: 100%|██████████████████████████████| 100/100 [00:02<00:00, 37.56it/s]\n",
      "Calculating fitnesses: 100%|████████████████████████████| 200/200 [00:01<00:00, 100.35it/s]\n"
     ]
    },
    {
     "name": "stdout",
     "output_type": "stream",
     "text": [
      "[Generation: 11] \n",
      " Average Fitness: 75.975 \n",
      " Best Fitness: 301.0 \n",
      " Worst Fitness: 24.0 \n",
      " Standard Error: 2.795333849767911\n"
     ]
    },
    {
     "name": "stderr",
     "output_type": "stream",
     "text": [
      "Generating Offspring: 100%|██████████████████████████████| 100/100 [00:02<00:00, 35.93it/s]\n",
      "Calculating fitnesses: 100%|█████████████████████████████| 200/200 [00:02<00:00, 95.89it/s]\n"
     ]
    },
    {
     "name": "stdout",
     "output_type": "stream",
     "text": [
      "[Generation: 12] \n",
      " Average Fitness: 81.4 \n",
      " Best Fitness: 297.0 \n",
      " Worst Fitness: 24.0 \n",
      " Standard Error: 2.7950153045670105\n"
     ]
    },
    {
     "name": "stderr",
     "output_type": "stream",
     "text": [
      "Generating Offspring: 100%|██████████████████████████████| 100/100 [00:03<00:00, 32.05it/s]\n",
      "Calculating fitnesses: 100%|█████████████████████████████| 200/200 [00:02<00:00, 83.89it/s]\n"
     ]
    },
    {
     "name": "stdout",
     "output_type": "stream",
     "text": [
      "[Generation: 13] \n",
      " Average Fitness: 93.02 \n",
      " Best Fitness: 328.0 \n",
      " Worst Fitness: 23.0 \n",
      " Standard Error: 3.6399442262003476\n"
     ]
    },
    {
     "name": "stderr",
     "output_type": "stream",
     "text": [
      "Generating Offspring: 100%|██████████████████████████████| 100/100 [00:03<00:00, 28.36it/s]\n",
      "Calculating fitnesses: 100%|█████████████████████████████| 200/200 [00:02<00:00, 77.36it/s]\n"
     ]
    },
    {
     "name": "stdout",
     "output_type": "stream",
     "text": [
      "[Generation: 14] \n",
      " Average Fitness: 98.715 \n",
      " Best Fitness: 279.0 \n",
      " Worst Fitness: 26.0 \n",
      " Standard Error: 3.3368611126966514\n"
     ]
    },
    {
     "name": "stderr",
     "output_type": "stream",
     "text": [
      "Generating Offspring: 100%|██████████████████████████████| 100/100 [00:03<00:00, 25.36it/s]\n",
      "Calculating fitnesses: 100%|█████████████████████████████| 200/200 [00:02<00:00, 67.30it/s]\n"
     ]
    },
    {
     "name": "stdout",
     "output_type": "stream",
     "text": [
      "[Generation: 15] \n",
      " Average Fitness: 115.34 \n",
      " Best Fitness: 500.0 \n",
      " Worst Fitness: 24.0 \n",
      " Standard Error: 4.91953055733193\n"
     ]
    },
    {
     "name": "stderr",
     "output_type": "stream",
     "text": [
      "Generating Offspring: 100%|██████████████████████████████| 100/100 [00:04<00:00, 22.32it/s]\n",
      "Calculating fitnesses: 100%|█████████████████████████████| 200/200 [00:03<00:00, 58.69it/s]\n"
     ]
    },
    {
     "name": "stdout",
     "output_type": "stream",
     "text": [
      "[Generation: 16] \n",
      " Average Fitness: 133.825 \n",
      " Best Fitness: 474.0 \n",
      " Worst Fitness: 29.0 \n",
      " Standard Error: 5.41135246983264\n"
     ]
    },
    {
     "name": "stderr",
     "output_type": "stream",
     "text": [
      "Generating Offspring: 100%|██████████████████████████████| 100/100 [00:04<00:00, 21.36it/s]\n",
      "Calculating fitnesses: 100%|█████████████████████████████| 200/200 [00:03<00:00, 51.08it/s]\n"
     ]
    },
    {
     "name": "stdout",
     "output_type": "stream",
     "text": [
      "[Generation: 17] \n",
      " Average Fitness: 151.89 \n",
      " Best Fitness: 500.0 \n",
      " Worst Fitness: 27.0 \n",
      " Standard Error: 6.304918674930505\n"
     ]
    },
    {
     "name": "stderr",
     "output_type": "stream",
     "text": [
      "Generating Offspring: 100%|██████████████████████████████| 100/100 [00:05<00:00, 19.02it/s]\n",
      "Calculating fitnesses: 100%|█████████████████████████████| 200/200 [00:04<00:00, 45.79it/s]\n"
     ]
    },
    {
     "name": "stdout",
     "output_type": "stream",
     "text": [
      "[Generation: 18] \n",
      " Average Fitness: 169.04 \n",
      " Best Fitness: 500.0 \n",
      " Worst Fitness: 29.0 \n",
      " Standard Error: 6.7947949336940825\n"
     ]
    },
    {
     "name": "stderr",
     "output_type": "stream",
     "text": [
      "Generating Offspring: 100%|██████████████████████████████| 100/100 [00:06<00:00, 15.92it/s]\n",
      "Calculating fitnesses: 100%|█████████████████████████████| 200/200 [00:05<00:00, 39.08it/s]\n"
     ]
    },
    {
     "name": "stdout",
     "output_type": "stream",
     "text": [
      "[Generation: 19] \n",
      " Average Fitness: 197.665 \n",
      " Best Fitness: 500.0 \n",
      " Worst Fitness: 14.0 \n",
      " Standard Error: 8.06830537555228\n"
     ]
    },
    {
     "name": "stderr",
     "output_type": "stream",
     "text": [
      "Generating Offspring: 100%|██████████████████████████████| 100/100 [00:07<00:00, 13.74it/s]\n",
      "Calculating fitnesses: 100%|█████████████████████████████| 200/200 [00:05<00:00, 34.04it/s]\n"
     ]
    },
    {
     "name": "stdout",
     "output_type": "stream",
     "text": [
      "[Generation: 20] \n",
      " Average Fitness: 225.915 \n",
      " Best Fitness: 500.0 \n",
      " Worst Fitness: 17.0 \n",
      " Standard Error: 8.350743286810525\n"
     ]
    },
    {
     "name": "stderr",
     "output_type": "stream",
     "text": [
      "Generating Offspring: 100%|██████████████████████████████| 100/100 [00:08<00:00, 12.23it/s]\n",
      "Calculating fitnesses: 100%|█████████████████████████████| 200/200 [00:06<00:00, 31.95it/s]\n"
     ]
    },
    {
     "name": "stdout",
     "output_type": "stream",
     "text": [
      "[Generation: 21] \n",
      " Average Fitness: 239.21 \n",
      " Best Fitness: 500.0 \n",
      " Worst Fitness: 16.0 \n",
      " Standard Error: 8.839483118884568\n"
     ]
    },
    {
     "name": "stderr",
     "output_type": "stream",
     "text": [
      "Generating Offspring: 100%|██████████████████████████████| 100/100 [00:08<00:00, 11.15it/s]\n",
      "Calculating fitnesses: 100%|█████████████████████████████| 200/200 [00:07<00:00, 27.09it/s]\n"
     ]
    },
    {
     "name": "stdout",
     "output_type": "stream",
     "text": [
      "[Generation: 22] \n",
      " Average Fitness: 283.575 \n",
      " Best Fitness: 500.0 \n",
      " Worst Fitness: 28.0 \n",
      " Standard Error: 9.446563378994863\n"
     ]
    },
    {
     "name": "stderr",
     "output_type": "stream",
     "text": [
      "Generating Offspring: 100%|██████████████████████████████| 100/100 [00:10<00:00,  9.50it/s]\n",
      "Calculating fitnesses: 100%|█████████████████████████████| 200/200 [00:08<00:00, 24.76it/s]\n"
     ]
    },
    {
     "name": "stdout",
     "output_type": "stream",
     "text": [
      "[Generation: 23] \n",
      " Average Fitness: 311.11 \n",
      " Best Fitness: 500.0 \n",
      " Worst Fitness: 65.0 \n",
      " Standard Error: 9.688261015658986\n"
     ]
    },
    {
     "name": "stderr",
     "output_type": "stream",
     "text": [
      "Generating Offspring: 100%|██████████████████████████████| 100/100 [00:10<00:00,  9.31it/s]\n",
      "Calculating fitnesses: 100%|█████████████████████████████| 200/200 [00:08<00:00, 24.10it/s]\n"
     ]
    },
    {
     "name": "stdout",
     "output_type": "stream",
     "text": [
      "[Generation: 24] \n",
      " Average Fitness: 315.555 \n",
      " Best Fitness: 500.0 \n",
      " Worst Fitness: 31.0 \n",
      " Standard Error: 9.873945964992819\n"
     ]
    },
    {
     "name": "stderr",
     "output_type": "stream",
     "text": [
      "Generating Offspring: 100%|██████████████████████████████| 100/100 [00:10<00:00,  9.22it/s]\n",
      "Calculating fitnesses: 100%|█████████████████████████████| 200/200 [00:08<00:00, 22.93it/s]\n"
     ]
    },
    {
     "name": "stdout",
     "output_type": "stream",
     "text": [
      "[Generation: 25] \n",
      " Average Fitness: 334.96 \n",
      " Best Fitness: 500.0 \n",
      " Worst Fitness: 93.0 \n",
      " Standard Error: 9.601637841859647\n"
     ]
    },
    {
     "name": "stderr",
     "output_type": "stream",
     "text": [
      "Generating Offspring: 100%|██████████████████████████████| 100/100 [00:12<00:00,  8.08it/s]\n",
      "Calculating fitnesses: 100%|█████████████████████████████| 200/200 [00:09<00:00, 20.90it/s]\n"
     ]
    },
    {
     "name": "stdout",
     "output_type": "stream",
     "text": [
      "[Generation: 26] \n",
      " Average Fitness: 364.505 \n",
      " Best Fitness: 500.0 \n",
      " Worst Fitness: 59.0 \n",
      " Standard Error: 9.97823006606163\n"
     ]
    },
    {
     "name": "stderr",
     "output_type": "stream",
     "text": [
      "Generating Offspring: 100%|██████████████████████████████| 100/100 [00:12<00:00,  7.94it/s]\n",
      "Calculating fitnesses: 100%|█████████████████████████████| 200/200 [00:09<00:00, 21.14it/s]\n"
     ]
    },
    {
     "name": "stdout",
     "output_type": "stream",
     "text": [
      "[Generation: 27] \n",
      " Average Fitness: 359.875 \n",
      " Best Fitness: 500.0 \n",
      " Worst Fitness: 50.0 \n",
      " Standard Error: 10.27120172126879\n"
     ]
    },
    {
     "name": "stderr",
     "output_type": "stream",
     "text": [
      "Generating Offspring: 100%|██████████████████████████████| 100/100 [00:12<00:00,  7.86it/s]\n",
      "Calculating fitnesses: 100%|█████████████████████████████| 200/200 [00:09<00:00, 20.08it/s]\n"
     ]
    },
    {
     "name": "stdout",
     "output_type": "stream",
     "text": [
      "[Generation: 28] \n",
      " Average Fitness: 382.825 \n",
      " Best Fitness: 500.0 \n",
      " Worst Fitness: 34.0 \n",
      " Standard Error: 8.991172212999766\n"
     ]
    },
    {
     "name": "stderr",
     "output_type": "stream",
     "text": [
      "Generating Offspring: 100%|██████████████████████████████| 100/100 [00:13<00:00,  7.35it/s]\n",
      "Calculating fitnesses: 100%|█████████████████████████████| 200/200 [00:10<00:00, 18.88it/s]\n"
     ]
    },
    {
     "name": "stdout",
     "output_type": "stream",
     "text": [
      "[Generation: 29] \n",
      " Average Fitness: 403.14 \n",
      " Best Fitness: 500.0 \n",
      " Worst Fitness: 71.0 \n",
      " Standard Error: 8.890110930793217\n"
     ]
    },
    {
     "name": "stderr",
     "output_type": "stream",
     "text": [
      "Generating Offspring: 100%|██████████████████████████████| 100/100 [00:15<00:00,  6.39it/s]\n",
      "Calculating fitnesses: 100%|█████████████████████████████| 200/200 [00:11<00:00, 17.05it/s]\n"
     ]
    },
    {
     "name": "stdout",
     "output_type": "stream",
     "text": [
      "[Generation: 30] \n",
      " Average Fitness: 441.005 \n",
      " Best Fitness: 500.0 \n",
      " Worst Fitness: 87.0 \n",
      " Standard Error: 7.680169260789234\n"
     ]
    },
    {
     "name": "stderr",
     "output_type": "stream",
     "text": [
      "Generating Offspring: 100%|██████████████████████████████| 100/100 [00:16<00:00,  5.95it/s]\n",
      "Calculating fitnesses: 100%|█████████████████████████████| 200/200 [00:11<00:00, 17.09it/s]\n"
     ]
    },
    {
     "name": "stdout",
     "output_type": "stream",
     "text": [
      "[Generation: 31] \n",
      " Average Fitness: 441.795 \n",
      " Best Fitness: 500.0 \n",
      " Worst Fitness: 57.0 \n",
      " Standard Error: 7.185986843123757\n"
     ]
    },
    {
     "name": "stderr",
     "output_type": "stream",
     "text": [
      "Generating Offspring: 100%|██████████████████████████████| 100/100 [00:16<00:00,  5.94it/s]\n",
      "Calculating fitnesses: 100%|█████████████████████████████| 200/200 [00:11<00:00, 16.76it/s]\n"
     ]
    },
    {
     "name": "stdout",
     "output_type": "stream",
     "text": [
      "[Generation: 32] \n",
      " Average Fitness: 452.705 \n",
      " Best Fitness: 500.0 \n",
      " Worst Fitness: 46.0 \n",
      " Standard Error: 7.6089236076686095\n"
     ]
    },
    {
     "name": "stderr",
     "output_type": "stream",
     "text": [
      "Generating Offspring: 100%|██████████████████████████████| 100/100 [00:16<00:00,  5.97it/s]\n",
      "Calculating fitnesses: 100%|█████████████████████████████| 200/200 [00:11<00:00, 17.02it/s]\n"
     ]
    },
    {
     "name": "stdout",
     "output_type": "stream",
     "text": [
      "[Generation: 33] \n",
      " Average Fitness: 443.73 \n",
      " Best Fitness: 500.0 \n",
      " Worst Fitness: 15.0 \n",
      " Standard Error: 8.511339495050118\n"
     ]
    },
    {
     "name": "stderr",
     "output_type": "stream",
     "text": [
      "Generating Offspring: 100%|██████████████████████████████| 100/100 [00:16<00:00,  6.01it/s]\n",
      "Calculating fitnesses: 100%|█████████████████████████████| 200/200 [00:11<00:00, 17.18it/s]\n"
     ]
    },
    {
     "name": "stdout",
     "output_type": "stream",
     "text": [
      "[Generation: 34] \n",
      " Average Fitness: 443.34 \n",
      " Best Fitness: 500.0 \n",
      " Worst Fitness: 59.0 \n",
      " Standard Error: 7.802906429255613\n"
     ]
    },
    {
     "name": "stderr",
     "output_type": "stream",
     "text": [
      "Generating Offspring: 100%|██████████████████████████████| 100/100 [00:17<00:00,  5.88it/s]\n",
      "Calculating fitnesses: 100%|█████████████████████████████| 200/200 [00:12<00:00, 16.34it/s]\n"
     ]
    },
    {
     "name": "stdout",
     "output_type": "stream",
     "text": [
      "[Generation: 35] \n",
      " Average Fitness: 463.29 \n",
      " Best Fitness: 500.0 \n",
      " Worst Fitness: 34.0 \n",
      " Standard Error: 6.198555472829838\n"
     ]
    },
    {
     "name": "stderr",
     "output_type": "stream",
     "text": [
      "Generating Offspring: 100%|██████████████████████████████| 100/100 [00:17<00:00,  5.72it/s]\n",
      "Calculating fitnesses: 100%|█████████████████████████████| 200/200 [00:12<00:00, 16.09it/s]\n"
     ]
    },
    {
     "name": "stdout",
     "output_type": "stream",
     "text": [
      "[Generation: 36] \n",
      " Average Fitness: 469.055 \n",
      " Best Fitness: 500.0 \n",
      " Worst Fitness: 62.0 \n",
      " Standard Error: 5.721045506148075\n"
     ]
    },
    {
     "name": "stderr",
     "output_type": "stream",
     "text": [
      "Generating Offspring: 100%|██████████████████████████████| 100/100 [00:17<00:00,  5.73it/s]\n",
      "Calculating fitnesses: 100%|█████████████████████████████| 200/200 [00:12<00:00, 16.48it/s]\n"
     ]
    },
    {
     "name": "stdout",
     "output_type": "stream",
     "text": [
      "[Generation: 37] \n",
      " Average Fitness: 456.945 \n",
      " Best Fitness: 500.0 \n",
      " Worst Fitness: 91.0 \n",
      " Standard Error: 7.022788453550098\n"
     ]
    },
    {
     "name": "stderr",
     "output_type": "stream",
     "text": [
      "Generating Offspring: 100%|██████████████████████████████| 100/100 [00:17<00:00,  5.85it/s]\n",
      "Calculating fitnesses: 100%|█████████████████████████████| 200/200 [00:12<00:00, 16.59it/s]\n"
     ]
    },
    {
     "name": "stdout",
     "output_type": "stream",
     "text": [
      "[Generation: 38] \n",
      " Average Fitness: 453.44 \n",
      " Best Fitness: 500.0 \n",
      " Worst Fitness: 76.0 \n",
      " Standard Error: 7.570631035214752\n"
     ]
    },
    {
     "name": "stderr",
     "output_type": "stream",
     "text": [
      "Generating Offspring: 100%|██████████████████████████████| 100/100 [00:17<00:00,  5.81it/s]\n",
      "Calculating fitnesses: 100%|█████████████████████████████| 200/200 [00:12<00:00, 16.31it/s]\n"
     ]
    },
    {
     "name": "stdout",
     "output_type": "stream",
     "text": [
      "[Generation: 39] \n",
      " Average Fitness: 464.5 \n",
      " Best Fitness: 500.0 \n",
      " Worst Fitness: 101.0 \n",
      " Standard Error: 6.435235916928972\n"
     ]
    },
    {
     "name": "stderr",
     "output_type": "stream",
     "text": [
      "Generating Offspring: 100%|██████████████████████████████| 100/100 [00:18<00:00,  5.46it/s]\n",
      "Calculating fitnesses: 100%|█████████████████████████████| 200/200 [00:12<00:00, 15.46it/s]\n"
     ]
    },
    {
     "name": "stdout",
     "output_type": "stream",
     "text": [
      "[Generation: 40] \n",
      " Average Fitness: 459.49 \n",
      " Best Fitness: 500.0 \n",
      " Worst Fitness: 54.0 \n",
      " Standard Error: 7.219080628835512\n"
     ]
    },
    {
     "name": "stderr",
     "output_type": "stream",
     "text": [
      "Generating Offspring: 100%|██████████████████████████████| 100/100 [00:18<00:00,  5.52it/s]\n",
      "Calculating fitnesses: 100%|█████████████████████████████| 200/200 [00:12<00:00, 16.09it/s]\n"
     ]
    },
    {
     "name": "stdout",
     "output_type": "stream",
     "text": [
      "[Generation: 41] \n",
      " Average Fitness: 470.535 \n",
      " Best Fitness: 500.0 \n",
      " Worst Fitness: 69.0 \n",
      " Standard Error: 6.045201916067828\n"
     ]
    },
    {
     "name": "stderr",
     "output_type": "stream",
     "text": [
      "Generating Offspring: 100%|██████████████████████████████| 100/100 [00:18<00:00,  5.48it/s]\n",
      "Calculating fitnesses: 100%|█████████████████████████████| 200/200 [00:12<00:00, 16.03it/s]\n"
     ]
    },
    {
     "name": "stdout",
     "output_type": "stream",
     "text": [
      "[Generation: 42] \n",
      " Average Fitness: 473.025 \n",
      " Best Fitness: 500.0 \n",
      " Worst Fitness: 20.0 \n",
      " Standard Error: 5.7442802554598895\n"
     ]
    },
    {
     "name": "stderr",
     "output_type": "stream",
     "text": [
      "Generating Offspring: 100%|██████████████████████████████| 100/100 [00:18<00:00,  5.55it/s]\n",
      "Calculating fitnesses: 100%|█████████████████████████████| 200/200 [00:12<00:00, 16.19it/s]\n"
     ]
    },
    {
     "name": "stdout",
     "output_type": "stream",
     "text": [
      "[Generation: 43] \n",
      " Average Fitness: 468.025 \n",
      " Best Fitness: 500.0 \n",
      " Worst Fitness: 33.0 \n",
      " Standard Error: 5.944261357851979\n"
     ]
    },
    {
     "name": "stderr",
     "output_type": "stream",
     "text": [
      "Generating Offspring: 100%|██████████████████████████████| 100/100 [00:17<00:00,  5.63it/s]\n",
      "Calculating fitnesses: 100%|█████████████████████████████| 200/200 [00:12<00:00, 16.05it/s]\n"
     ]
    },
    {
     "name": "stdout",
     "output_type": "stream",
     "text": [
      "[Generation: 44] \n",
      " Average Fitness: 473.23 \n",
      " Best Fitness: 500.0 \n",
      " Worst Fitness: 21.0 \n",
      " Standard Error: 5.554782945159891\n"
     ]
    },
    {
     "name": "stderr",
     "output_type": "stream",
     "text": [
      "Generating Offspring: 100%|██████████████████████████████| 100/100 [00:17<00:00,  5.65it/s]\n",
      "Calculating fitnesses: 100%|█████████████████████████████| 200/200 [00:12<00:00, 16.23it/s]\n"
     ]
    },
    {
     "name": "stdout",
     "output_type": "stream",
     "text": [
      "[Generation: 45] \n",
      " Average Fitness: 466.78 \n",
      " Best Fitness: 500.0 \n",
      " Worst Fitness: 75.0 \n",
      " Standard Error: 6.595899289496916\n"
     ]
    },
    {
     "name": "stderr",
     "output_type": "stream",
     "text": [
      "Generating Offspring: 100%|██████████████████████████████| 100/100 [00:18<00:00,  5.46it/s]\n",
      "Calculating fitnesses: 100%|█████████████████████████████| 200/200 [00:11<00:00, 16.69it/s]\n"
     ]
    },
    {
     "name": "stdout",
     "output_type": "stream",
     "text": [
      "[Generation: 46] \n",
      " Average Fitness: 450.76 \n",
      " Best Fitness: 500.0 \n",
      " Worst Fitness: 35.0 \n",
      " Standard Error: 8.163084080697853\n"
     ]
    },
    {
     "name": "stderr",
     "output_type": "stream",
     "text": [
      "Generating Offspring: 100%|██████████████████████████████| 100/100 [00:18<00:00,  5.54it/s]\n",
      "Calculating fitnesses: 100%|█████████████████████████████| 200/200 [00:12<00:00, 15.75it/s]\n"
     ]
    },
    {
     "name": "stdout",
     "output_type": "stream",
     "text": [
      "[Generation: 47] \n",
      " Average Fitness: 476.37 \n",
      " Best Fitness: 500.0 \n",
      " Worst Fitness: 41.0 \n",
      " Standard Error: 5.67362898233095\n"
     ]
    },
    {
     "name": "stderr",
     "output_type": "stream",
     "text": [
      "Generating Offspring: 100%|██████████████████████████████| 100/100 [00:18<00:00,  5.35it/s]\n",
      "Calculating fitnesses: 100%|█████████████████████████████| 200/200 [00:12<00:00, 15.91it/s]\n"
     ]
    },
    {
     "name": "stdout",
     "output_type": "stream",
     "text": [
      "[Generation: 48] \n",
      " Average Fitness: 472.98 \n",
      " Best Fitness: 500.0 \n",
      " Worst Fitness: 18.0 \n",
      " Standard Error: 6.44829049060728\n"
     ]
    },
    {
     "name": "stderr",
     "output_type": "stream",
     "text": [
      "Generating Offspring: 100%|██████████████████████████████| 100/100 [00:18<00:00,  5.41it/s]\n",
      "Calculating fitnesses: 100%|█████████████████████████████| 200/200 [00:12<00:00, 15.62it/s]\n"
     ]
    },
    {
     "name": "stdout",
     "output_type": "stream",
     "text": [
      "[Generation: 49] \n",
      " Average Fitness: 473.615 \n",
      " Best Fitness: 500.0 \n",
      " Worst Fitness: 15.0 \n",
      " Standard Error: 5.892187475055935\n"
     ]
    },
    {
     "name": "stderr",
     "output_type": "stream",
     "text": [
      "Generating Offspring: 100%|██████████████████████████████| 100/100 [00:17<00:00,  5.63it/s]\n",
      "Calculating fitnesses: 100%|█████████████████████████████| 200/200 [00:12<00:00, 15.89it/s]\n"
     ]
    },
    {
     "name": "stdout",
     "output_type": "stream",
     "text": [
      "[Generation: 50] \n",
      " Average Fitness: 470.86 \n",
      " Best Fitness: 500.0 \n",
      " Worst Fitness: 36.0 \n",
      " Standard Error: 7.043936199734467\n"
     ]
    },
    {
     "name": "stderr",
     "output_type": "stream",
     "text": [
      "Generating Offspring: 100%|██████████████████████████████| 100/100 [00:17<00:00,  5.59it/s]\n",
      "Calculating fitnesses: 100%|█████████████████████████████| 200/200 [00:12<00:00, 15.86it/s]\n"
     ]
    },
    {
     "name": "stdout",
     "output_type": "stream",
     "text": [
      "[Generation: 51] \n",
      " Average Fitness: 472.615 \n",
      " Best Fitness: 500.0 \n",
      " Worst Fitness: 18.0 \n",
      " Standard Error: 6.456922106580833\n"
     ]
    },
    {
     "name": "stderr",
     "output_type": "stream",
     "text": [
      "Generating Offspring: 100%|██████████████████████████████| 100/100 [00:19<00:00,  5.17it/s]\n",
      "Calculating fitnesses: 100%|█████████████████████████████| 200/200 [00:12<00:00, 15.66it/s]\n"
     ]
    },
    {
     "name": "stdout",
     "output_type": "stream",
     "text": [
      "[Generation: 52] \n",
      " Average Fitness: 476.995 \n",
      " Best Fitness: 500.0 \n",
      " Worst Fitness: 89.0 \n",
      " Standard Error: 5.661642504986636\n"
     ]
    },
    {
     "name": "stderr",
     "output_type": "stream",
     "text": [
      "Generating Offspring: 100%|██████████████████████████████| 100/100 [00:18<00:00,  5.27it/s]\n",
      "Calculating fitnesses: 100%|█████████████████████████████| 200/200 [00:12<00:00, 15.58it/s]\n"
     ]
    },
    {
     "name": "stdout",
     "output_type": "stream",
     "text": [
      "[Generation: 53] \n",
      " Average Fitness: 487.84 \n",
      " Best Fitness: 500.0 \n",
      " Worst Fitness: 84.0 \n",
      " Standard Error: 4.14287812951092\n"
     ]
    },
    {
     "name": "stderr",
     "output_type": "stream",
     "text": [
      "Generating Offspring: 100%|██████████████████████████████| 100/100 [00:18<00:00,  5.39it/s]\n",
      "Calculating fitnesses: 100%|█████████████████████████████| 200/200 [00:12<00:00, 15.87it/s]\n"
     ]
    },
    {
     "name": "stdout",
     "output_type": "stream",
     "text": [
      "[Generation: 54] \n",
      " Average Fitness: 484.185 \n",
      " Best Fitness: 500.0 \n",
      " Worst Fitness: 58.0 \n",
      " Standard Error: 4.666512139999618\n"
     ]
    },
    {
     "name": "stderr",
     "output_type": "stream",
     "text": [
      "Generating Offspring: 100%|██████████████████████████████| 100/100 [00:18<00:00,  5.45it/s]\n",
      "Calculating fitnesses: 100%|█████████████████████████████| 200/200 [00:12<00:00, 16.33it/s]\n"
     ]
    },
    {
     "name": "stdout",
     "output_type": "stream",
     "text": [
      "[Generation: 55] \n",
      " Average Fitness: 469.16 \n",
      " Best Fitness: 500.0 \n",
      " Worst Fitness: 18.0 \n",
      " Standard Error: 6.766557730307777\n"
     ]
    },
    {
     "name": "stderr",
     "output_type": "stream",
     "text": [
      "Generating Offspring: 100%|██████████████████████████████| 100/100 [00:17<00:00,  5.59it/s]\n",
      "Calculating fitnesses: 100%|█████████████████████████████| 200/200 [00:12<00:00, 15.79it/s]\n"
     ]
    },
    {
     "name": "stdout",
     "output_type": "stream",
     "text": [
      "[Generation: 56] \n",
      " Average Fitness: 484.605 \n",
      " Best Fitness: 500.0 \n",
      " Worst Fitness: 16.0 \n",
      " Standard Error: 4.630106294296321\n"
     ]
    },
    {
     "name": "stderr",
     "output_type": "stream",
     "text": [
      "Generating Offspring: 100%|██████████████████████████████| 100/100 [00:18<00:00,  5.38it/s]\n",
      "Calculating fitnesses: 100%|█████████████████████████████| 200/200 [00:12<00:00, 15.96it/s]\n"
     ]
    },
    {
     "name": "stdout",
     "output_type": "stream",
     "text": [
      "[Generation: 57] \n",
      " Average Fitness: 475.68 \n",
      " Best Fitness: 500.0 \n",
      " Worst Fitness: 75.0 \n",
      " Standard Error: 5.632826258486183\n"
     ]
    },
    {
     "name": "stderr",
     "output_type": "stream",
     "text": [
      "Generating Offspring: 100%|██████████████████████████████| 100/100 [00:18<00:00,  5.55it/s]\n",
      "Calculating fitnesses: 100%|█████████████████████████████| 200/200 [00:12<00:00, 16.14it/s]\n"
     ]
    },
    {
     "name": "stdout",
     "output_type": "stream",
     "text": [
      "[Generation: 58] \n",
      " Average Fitness: 474.885 \n",
      " Best Fitness: 500.0 \n",
      " Worst Fitness: 12.0 \n",
      " Standard Error: 6.393004882851319\n"
     ]
    },
    {
     "name": "stderr",
     "output_type": "stream",
     "text": [
      "Generating Offspring: 100%|██████████████████████████████| 100/100 [00:18<00:00,  5.44it/s]\n",
      "Calculating fitnesses: 100%|█████████████████████████████| 200/200 [00:12<00:00, 16.12it/s]\n"
     ]
    },
    {
     "name": "stdout",
     "output_type": "stream",
     "text": [
      "[Generation: 59] \n",
      " Average Fitness: 474.095 \n",
      " Best Fitness: 500.0 \n",
      " Worst Fitness: 13.0 \n",
      " Standard Error: 6.400481284902875\n"
     ]
    },
    {
     "name": "stderr",
     "output_type": "stream",
     "text": [
      "Generating Offspring: 100%|██████████████████████████████| 100/100 [00:18<00:00,  5.55it/s]\n",
      "Calculating fitnesses: 100%|█████████████████████████████| 200/200 [00:12<00:00, 15.86it/s]\n"
     ]
    },
    {
     "name": "stdout",
     "output_type": "stream",
     "text": [
      "[Generation: 60] \n",
      " Average Fitness: 480.33 \n",
      " Best Fitness: 500.0 \n",
      " Worst Fitness: 16.0 \n",
      " Standard Error: 5.2773532939291385\n"
     ]
    },
    {
     "name": "stderr",
     "output_type": "stream",
     "text": [
      "Generating Offspring: 100%|██████████████████████████████| 100/100 [00:17<00:00,  5.58it/s]\n",
      "Calculating fitnesses: 100%|█████████████████████████████| 200/200 [00:11<00:00, 17.03it/s]\n"
     ]
    },
    {
     "name": "stdout",
     "output_type": "stream",
     "text": [
      "[Generation: 61] \n",
      " Average Fitness: 464.845 \n",
      " Best Fitness: 500.0 \n",
      " Worst Fitness: 13.0 \n",
      " Standard Error: 7.320546899620802\n"
     ]
    },
    {
     "name": "stderr",
     "output_type": "stream",
     "text": [
      "Generating Offspring: 100%|██████████████████████████████| 100/100 [00:17<00:00,  5.81it/s]\n",
      "Calculating fitnesses: 100%|█████████████████████████████| 200/200 [00:11<00:00, 17.16it/s]\n"
     ]
    },
    {
     "name": "stdout",
     "output_type": "stream",
     "text": [
      "[Generation: 62] \n",
      " Average Fitness: 464.865 \n",
      " Best Fitness: 500.0 \n",
      " Worst Fitness: 17.0 \n",
      " Standard Error: 7.110473121746216\n"
     ]
    },
    {
     "name": "stderr",
     "output_type": "stream",
     "text": [
      "Generating Offspring: 100%|██████████████████████████████| 100/100 [00:17<00:00,  5.85it/s]\n",
      "Calculating fitnesses: 100%|█████████████████████████████| 200/200 [00:11<00:00, 16.71it/s]\n"
     ]
    },
    {
     "name": "stdout",
     "output_type": "stream",
     "text": [
      "[Generation: 63] \n",
      " Average Fitness: 479.015 \n",
      " Best Fitness: 500.0 \n",
      " Worst Fitness: 44.0 \n",
      " Standard Error: 4.95673987880448\n"
     ]
    },
    {
     "name": "stderr",
     "output_type": "stream",
     "text": [
      "Generating Offspring: 100%|██████████████████████████████| 100/100 [00:18<00:00,  5.52it/s]\n",
      "Calculating fitnesses: 100%|█████████████████████████████| 200/200 [00:11<00:00, 17.01it/s]\n"
     ]
    },
    {
     "name": "stdout",
     "output_type": "stream",
     "text": [
      "[Generation: 64] \n",
      " Average Fitness: 472.44 \n",
      " Best Fitness: 500.0 \n",
      " Worst Fitness: 35.0 \n",
      " Standard Error: 6.400245912360982\n"
     ]
    },
    {
     "name": "stderr",
     "output_type": "stream",
     "text": [
      "Generating Offspring: 100%|██████████████████████████████| 100/100 [00:17<00:00,  5.76it/s]\n",
      "Calculating fitnesses: 100%|█████████████████████████████| 200/200 [00:11<00:00, 17.30it/s]\n"
     ]
    },
    {
     "name": "stdout",
     "output_type": "stream",
     "text": [
      "[Generation: 65] \n",
      " Average Fitness: 460.66 \n",
      " Best Fitness: 500.0 \n",
      " Worst Fitness: 11.0 \n",
      " Standard Error: 7.479276024405452\n"
     ]
    },
    {
     "name": "stderr",
     "output_type": "stream",
     "text": [
      "Generating Offspring: 100%|██████████████████████████████| 100/100 [00:16<00:00,  5.95it/s]\n",
      "Calculating fitnesses: 100%|█████████████████████████████| 200/200 [00:12<00:00, 16.57it/s]\n"
     ]
    },
    {
     "name": "stdout",
     "output_type": "stream",
     "text": [
      "[Generation: 66] \n",
      " Average Fitness: 475.34 \n",
      " Best Fitness: 500.0 \n",
      " Worst Fitness: 12.0 \n",
      " Standard Error: 6.264891565834024\n"
     ]
    },
    {
     "name": "stderr",
     "output_type": "stream",
     "text": [
      "Generating Offspring: 100%|██████████████████████████████| 100/100 [00:18<00:00,  5.52it/s]\n",
      "Calculating fitnesses: 100%|█████████████████████████████| 200/200 [00:12<00:00, 16.54it/s]\n"
     ]
    },
    {
     "name": "stdout",
     "output_type": "stream",
     "text": [
      "[Generation: 67] \n",
      " Average Fitness: 466.27 \n",
      " Best Fitness: 500.0 \n",
      " Worst Fitness: 13.0 \n",
      " Standard Error: 7.1439847487555745\n"
     ]
    },
    {
     "name": "stderr",
     "output_type": "stream",
     "text": [
      "Generating Offspring: 100%|██████████████████████████████| 100/100 [00:17<00:00,  5.76it/s]\n",
      "Calculating fitnesses: 100%|█████████████████████████████| 200/200 [00:12<00:00, 16.43it/s]\n"
     ]
    },
    {
     "name": "stdout",
     "output_type": "stream",
     "text": [
      "[Generation: 68] \n",
      " Average Fitness: 475.64 \n",
      " Best Fitness: 500.0 \n",
      " Worst Fitness: 16.0 \n",
      " Standard Error: 6.5312855129952245\n"
     ]
    },
    {
     "name": "stderr",
     "output_type": "stream",
     "text": [
      "Generating Offspring: 100%|██████████████████████████████| 100/100 [00:18<00:00,  5.52it/s]\n",
      "Calculating fitnesses: 100%|█████████████████████████████| 200/200 [00:12<00:00, 16.15it/s]\n"
     ]
    },
    {
     "name": "stdout",
     "output_type": "stream",
     "text": [
      "[Generation: 69] \n",
      " Average Fitness: 486.065 \n",
      " Best Fitness: 500.0 \n",
      " Worst Fitness: 13.0 \n",
      " Standard Error: 5.0906608623120215\n"
     ]
    },
    {
     "name": "stderr",
     "output_type": "stream",
     "text": [
      "Generating Offspring: 100%|██████████████████████████████| 100/100 [00:18<00:00,  5.35it/s]\n",
      "Calculating fitnesses: 100%|█████████████████████████████| 200/200 [00:12<00:00, 16.51it/s]\n"
     ]
    },
    {
     "name": "stdout",
     "output_type": "stream",
     "text": [
      "[Generation: 70] \n",
      " Average Fitness: 480.43 \n",
      " Best Fitness: 500.0 \n",
      " Worst Fitness: 13.0 \n",
      " Standard Error: 4.872384029471944\n"
     ]
    },
    {
     "name": "stderr",
     "output_type": "stream",
     "text": [
      "Generating Offspring: 100%|██████████████████████████████| 100/100 [00:17<00:00,  5.62it/s]\n",
      "Calculating fitnesses: 100%|█████████████████████████████| 200/200 [00:12<00:00, 16.59it/s]\n"
     ]
    },
    {
     "name": "stdout",
     "output_type": "stream",
     "text": [
      "[Generation: 71] \n",
      " Average Fitness: 478.595 \n",
      " Best Fitness: 500.0 \n",
      " Worst Fitness: 15.0 \n",
      " Standard Error: 5.456732955509065\n"
     ]
    },
    {
     "name": "stderr",
     "output_type": "stream",
     "text": [
      "Generating Offspring: 100%|██████████████████████████████| 100/100 [00:17<00:00,  5.72it/s]\n",
      "Calculating fitnesses: 100%|█████████████████████████████| 200/200 [00:11<00:00, 17.07it/s]\n"
     ]
    },
    {
     "name": "stdout",
     "output_type": "stream",
     "text": [
      "[Generation: 72] \n",
      " Average Fitness: 465.31 \n",
      " Best Fitness: 500.0 \n",
      " Worst Fitness: 12.0 \n",
      " Standard Error: 7.919438555552778\n"
     ]
    },
    {
     "name": "stderr",
     "output_type": "stream",
     "text": [
      "Generating Offspring: 100%|██████████████████████████████| 100/100 [00:17<00:00,  5.77it/s]\n",
      "Calculating fitnesses: 100%|█████████████████████████████| 200/200 [00:11<00:00, 16.68it/s]\n"
     ]
    },
    {
     "name": "stdout",
     "output_type": "stream",
     "text": [
      "[Generation: 73] \n",
      " Average Fitness: 476.72 \n",
      " Best Fitness: 500.0 \n",
      " Worst Fitness: 14.0 \n",
      " Standard Error: 6.347658769916392\n"
     ]
    },
    {
     "name": "stderr",
     "output_type": "stream",
     "text": [
      "Generating Offspring: 100%|██████████████████████████████| 100/100 [00:17<00:00,  5.59it/s]\n",
      "Calculating fitnesses: 100%|█████████████████████████████| 200/200 [00:12<00:00, 16.50it/s]\n"
     ]
    },
    {
     "name": "stdout",
     "output_type": "stream",
     "text": [
      "[Generation: 74] \n",
      " Average Fitness: 484.76 \n",
      " Best Fitness: 500.0 \n",
      " Worst Fitness: 15.0 \n",
      " Standard Error: 5.3111489828085165\n"
     ]
    },
    {
     "name": "stderr",
     "output_type": "stream",
     "text": [
      "Generating Offspring: 100%|██████████████████████████████| 100/100 [00:17<00:00,  5.63it/s]\n",
      "Calculating fitnesses: 100%|█████████████████████████████| 200/200 [00:12<00:00, 16.47it/s]\n"
     ]
    },
    {
     "name": "stdout",
     "output_type": "stream",
     "text": [
      "[Generation: 75] \n",
      " Average Fitness: 479.975 \n",
      " Best Fitness: 500.0 \n",
      " Worst Fitness: 35.0 \n",
      " Standard Error: 5.655194781355933\n"
     ]
    },
    {
     "name": "stderr",
     "output_type": "stream",
     "text": [
      "Generating Offspring: 100%|██████████████████████████████| 100/100 [00:17<00:00,  5.64it/s]\n",
      "Calculating fitnesses: 100%|█████████████████████████████| 200/200 [00:12<00:00, 16.62it/s]\n"
     ]
    },
    {
     "name": "stdout",
     "output_type": "stream",
     "text": [
      "[Generation: 76] \n",
      " Average Fitness: 477.22 \n",
      " Best Fitness: 500.0 \n",
      " Worst Fitness: 78.0 \n",
      " Standard Error: 5.757146138347667\n"
     ]
    },
    {
     "name": "stderr",
     "output_type": "stream",
     "text": [
      "Generating Offspring: 100%|██████████████████████████████| 100/100 [00:18<00:00,  5.50it/s]\n",
      "Calculating fitnesses: 100%|█████████████████████████████| 200/200 [00:12<00:00, 16.30it/s]\n"
     ]
    },
    {
     "name": "stdout",
     "output_type": "stream",
     "text": [
      "[Generation: 77] \n",
      " Average Fitness: 483.095 \n",
      " Best Fitness: 500.0 \n",
      " Worst Fitness: 51.0 \n",
      " Standard Error: 4.953566288024138\n"
     ]
    },
    {
     "name": "stderr",
     "output_type": "stream",
     "text": [
      "Generating Offspring: 100%|██████████████████████████████| 100/100 [00:18<00:00,  5.41it/s]\n",
      "Calculating fitnesses: 100%|█████████████████████████████| 200/200 [00:12<00:00, 16.08it/s]\n"
     ]
    },
    {
     "name": "stdout",
     "output_type": "stream",
     "text": [
      "[Generation: 78] \n",
      " Average Fitness: 492.095 \n",
      " Best Fitness: 500.0 \n",
      " Worst Fitness: 59.0 \n",
      " Standard Error: 3.5761676063551215\n"
     ]
    },
    {
     "name": "stderr",
     "output_type": "stream",
     "text": [
      "Generating Offspring: 100%|██████████████████████████████| 100/100 [00:18<00:00,  5.48it/s]\n",
      "Calculating fitnesses: 100%|█████████████████████████████| 200/200 [00:11<00:00, 16.84it/s]\n"
     ]
    },
    {
     "name": "stdout",
     "output_type": "stream",
     "text": [
      "[Generation: 79] \n",
      " Average Fitness: 475.58 \n",
      " Best Fitness: 500.0 \n",
      " Worst Fitness: 17.0 \n",
      " Standard Error: 6.630833868296259\n"
     ]
    },
    {
     "name": "stderr",
     "output_type": "stream",
     "text": [
      "Generating Offspring: 100%|██████████████████████████████| 100/100 [00:17<00:00,  5.56it/s]\n",
      "Calculating fitnesses: 100%|█████████████████████████████| 200/200 [00:11<00:00, 16.80it/s]\n"
     ]
    },
    {
     "name": "stdout",
     "output_type": "stream",
     "text": [
      "[Generation: 80] \n",
      " Average Fitness: 473.98 \n",
      " Best Fitness: 500.0 \n",
      " Worst Fitness: 13.0 \n",
      " Standard Error: 6.296916211038877\n"
     ]
    },
    {
     "name": "stderr",
     "output_type": "stream",
     "text": [
      "Generating Offspring: 100%|██████████████████████████████| 100/100 [00:18<00:00,  5.54it/s]\n",
      "Calculating fitnesses: 100%|█████████████████████████████| 200/200 [00:12<00:00, 16.33it/s]\n"
     ]
    },
    {
     "name": "stdout",
     "output_type": "stream",
     "text": [
      "[Generation: 81] \n",
      " Average Fitness: 484.37 \n",
      " Best Fitness: 500.0 \n",
      " Worst Fitness: 20.0 \n",
      " Standard Error: 4.805499937388534\n"
     ]
    },
    {
     "name": "stderr",
     "output_type": "stream",
     "text": [
      "Generating Offspring: 100%|██████████████████████████████| 100/100 [00:17<00:00,  5.58it/s]\n",
      "Calculating fitnesses: 100%|█████████████████████████████| 200/200 [00:12<00:00, 16.37it/s]\n"
     ]
    },
    {
     "name": "stdout",
     "output_type": "stream",
     "text": [
      "[Generation: 82] \n",
      " Average Fitness: 486.685 \n",
      " Best Fitness: 500.0 \n",
      " Worst Fitness: 19.0 \n",
      " Standard Error: 4.778309332324236\n"
     ]
    },
    {
     "name": "stderr",
     "output_type": "stream",
     "text": [
      "Generating Offspring: 100%|██████████████████████████████| 100/100 [00:18<00:00,  5.51it/s]\n",
      "Calculating fitnesses: 100%|█████████████████████████████| 200/200 [00:12<00:00, 16.02it/s]\n"
     ]
    },
    {
     "name": "stdout",
     "output_type": "stream",
     "text": [
      "[Generation: 83] \n",
      " Average Fitness: 491.865 \n",
      " Best Fitness: 500.0 \n",
      " Worst Fitness: 138.0 \n",
      " Standard Error: 2.9067213523316098\n"
     ]
    },
    {
     "name": "stderr",
     "output_type": "stream",
     "text": [
      "Generating Offspring: 100%|██████████████████████████████| 100/100 [00:18<00:00,  5.44it/s]\n",
      "Calculating fitnesses: 100%|█████████████████████████████| 200/200 [00:12<00:00, 16.29it/s]\n"
     ]
    },
    {
     "name": "stdout",
     "output_type": "stream",
     "text": [
      "[Generation: 84] \n",
      " Average Fitness: 486.25 \n",
      " Best Fitness: 500.0 \n",
      " Worst Fitness: 18.0 \n",
      " Standard Error: 4.876735614246099\n"
     ]
    },
    {
     "name": "stderr",
     "output_type": "stream",
     "text": [
      "Generating Offspring: 100%|██████████████████████████████| 100/100 [00:17<00:00,  5.57it/s]\n",
      "Calculating fitnesses: 100%|█████████████████████████████| 200/200 [00:12<00:00, 16.39it/s]\n"
     ]
    },
    {
     "name": "stdout",
     "output_type": "stream",
     "text": [
      "[Generation: 85] \n",
      " Average Fitness: 485.775 \n",
      " Best Fitness: 500.0 \n",
      " Worst Fitness: 17.0 \n",
      " Standard Error: 5.299978370582583\n"
     ]
    },
    {
     "name": "stderr",
     "output_type": "stream",
     "text": [
      "Generating Offspring: 100%|██████████████████████████████| 100/100 [00:17<00:00,  5.57it/s]\n",
      "Calculating fitnesses: 100%|█████████████████████████████| 200/200 [00:12<00:00, 16.55it/s]\n"
     ]
    },
    {
     "name": "stdout",
     "output_type": "stream",
     "text": [
      "[Generation: 86] \n",
      " Average Fitness: 480.915 \n",
      " Best Fitness: 500.0 \n",
      " Worst Fitness: 13.0 \n",
      " Standard Error: 5.7345237542835426\n"
     ]
    },
    {
     "name": "stderr",
     "output_type": "stream",
     "text": [
      "Generating Offspring: 100%|██████████████████████████████| 100/100 [00:18<00:00,  5.51it/s]\n",
      "Calculating fitnesses: 100%|█████████████████████████████| 200/200 [00:12<00:00, 16.39it/s]\n"
     ]
    },
    {
     "name": "stdout",
     "output_type": "stream",
     "text": [
      "[Generation: 87] \n",
      " Average Fitness: 488.84 \n",
      " Best Fitness: 500.0 \n",
      " Worst Fitness: 47.0 \n",
      " Standard Error: 3.9087611938249385\n"
     ]
    },
    {
     "name": "stderr",
     "output_type": "stream",
     "text": [
      "Generating Offspring: 100%|██████████████████████████████| 100/100 [00:17<00:00,  5.56it/s]\n",
      "Calculating fitnesses: 100%|█████████████████████████████| 200/200 [00:12<00:00, 16.07it/s]\n"
     ]
    },
    {
     "name": "stdout",
     "output_type": "stream",
     "text": [
      "[Generation: 88] \n",
      " Average Fitness: 497.11 \n",
      " Best Fitness: 500.0 \n",
      " Worst Fitness: 177.0 \n",
      " Standard Error: 1.825004853025832\n"
     ]
    },
    {
     "name": "stderr",
     "output_type": "stream",
     "text": [
      "Generating Offspring: 100%|██████████████████████████████| 100/100 [00:18<00:00,  5.47it/s]\n",
      "Calculating fitnesses: 100%|█████████████████████████████| 200/200 [00:12<00:00, 16.25it/s]\n"
     ]
    },
    {
     "name": "stdout",
     "output_type": "stream",
     "text": [
      "[Generation: 89] \n",
      " Average Fitness: 491.875 \n",
      " Best Fitness: 500.0 \n",
      " Worst Fitness: 100.0 \n",
      " Standard Error: 3.5589503385918175\n"
     ]
    },
    {
     "name": "stderr",
     "output_type": "stream",
     "text": [
      "Generating Offspring: 100%|██████████████████████████████| 100/100 [00:18<00:00,  5.54it/s]\n",
      "Calculating fitnesses: 100%|█████████████████████████████| 200/200 [00:12<00:00, 16.45it/s]\n"
     ]
    },
    {
     "name": "stdout",
     "output_type": "stream",
     "text": [
      "[Generation: 90] \n",
      " Average Fitness: 481.805 \n",
      " Best Fitness: 500.0 \n",
      " Worst Fitness: 18.0 \n",
      " Standard Error: 5.5742710161786215\n"
     ]
    },
    {
     "name": "stderr",
     "output_type": "stream",
     "text": [
      "Generating Offspring: 100%|██████████████████████████████| 100/100 [00:18<00:00,  5.44it/s]\n",
      "Calculating fitnesses: 100%|█████████████████████████████| 200/200 [00:11<00:00, 16.70it/s]\n"
     ]
    },
    {
     "name": "stdout",
     "output_type": "stream",
     "text": [
      "[Generation: 91] \n",
      " Average Fitness: 475.89 \n",
      " Best Fitness: 500.0 \n",
      " Worst Fitness: 11.0 \n",
      " Standard Error: 6.416282639860316\n"
     ]
    },
    {
     "name": "stderr",
     "output_type": "stream",
     "text": [
      "Generating Offspring: 100%|██████████████████████████████| 100/100 [00:18<00:00,  5.52it/s]\n",
      "Calculating fitnesses: 100%|█████████████████████████████| 200/200 [00:12<00:00, 16.26it/s]\n"
     ]
    },
    {
     "name": "stdout",
     "output_type": "stream",
     "text": [
      "[Generation: 92] \n",
      " Average Fitness: 487.51 \n",
      " Best Fitness: 500.0 \n",
      " Worst Fitness: 11.0 \n",
      " Standard Error: 4.9140603829456735\n"
     ]
    },
    {
     "name": "stderr",
     "output_type": "stream",
     "text": [
      "Generating Offspring: 100%|██████████████████████████████| 100/100 [00:18<00:00,  5.45it/s]\n",
      "Calculating fitnesses: 100%|█████████████████████████████| 200/200 [00:12<00:00, 16.41it/s]\n"
     ]
    },
    {
     "name": "stdout",
     "output_type": "stream",
     "text": [
      "[Generation: 93] \n",
      " Average Fitness: 484.7 \n",
      " Best Fitness: 500.0 \n",
      " Worst Fitness: 11.0 \n",
      " Standard Error: 5.7395042946005965\n"
     ]
    },
    {
     "name": "stderr",
     "output_type": "stream",
     "text": [
      "Generating Offspring: 100%|██████████████████████████████| 100/100 [00:18<00:00,  5.29it/s]\n",
      "Calculating fitnesses: 100%|█████████████████████████████| 200/200 [00:12<00:00, 15.70it/s]\n"
     ]
    },
    {
     "name": "stdout",
     "output_type": "stream",
     "text": [
      "[Generation: 94] \n",
      " Average Fitness: 484.47 \n",
      " Best Fitness: 500.0 \n",
      " Worst Fitness: 24.0 \n",
      " Standard Error: 4.56480918709346\n"
     ]
    },
    {
     "name": "stderr",
     "output_type": "stream",
     "text": [
      "Generating Offspring: 100%|██████████████████████████████| 100/100 [00:19<00:00,  5.23it/s]\n",
      "Calculating fitnesses: 100%|█████████████████████████████| 200/200 [00:12<00:00, 15.52it/s]\n"
     ]
    },
    {
     "name": "stdout",
     "output_type": "stream",
     "text": [
      "[Generation: 95] \n",
      " Average Fitness: 490.65 \n",
      " Best Fitness: 500.0 \n",
      " Worst Fitness: 15.0 \n",
      " Standard Error: 3.844592560961303\n"
     ]
    },
    {
     "name": "stderr",
     "output_type": "stream",
     "text": [
      "Generating Offspring: 100%|██████████████████████████████| 100/100 [00:18<00:00,  5.47it/s]\n",
      "Calculating fitnesses: 100%|█████████████████████████████| 200/200 [00:12<00:00, 16.01it/s]\n"
     ]
    },
    {
     "name": "stdout",
     "output_type": "stream",
     "text": [
      "[Generation: 96] \n",
      " Average Fitness: 488.71 \n",
      " Best Fitness: 500.0 \n",
      " Worst Fitness: 19.0 \n",
      " Standard Error: 4.705949351244912\n"
     ]
    },
    {
     "name": "stderr",
     "output_type": "stream",
     "text": [
      "Generating Offspring: 100%|██████████████████████████████| 100/100 [00:18<00:00,  5.45it/s]\n",
      "Calculating fitnesses: 100%|█████████████████████████████| 200/200 [00:12<00:00, 15.80it/s]\n"
     ]
    },
    {
     "name": "stdout",
     "output_type": "stream",
     "text": [
      "[Generation: 97] \n",
      " Average Fitness: 488.115 \n",
      " Best Fitness: 500.0 \n",
      " Worst Fitness: 15.0 \n",
      " Standard Error: 4.621128978961852\n"
     ]
    },
    {
     "name": "stderr",
     "output_type": "stream",
     "text": [
      "Generating Offspring: 100%|██████████████████████████████| 100/100 [00:18<00:00,  5.40it/s]\n",
      "Calculating fitnesses: 100%|█████████████████████████████| 200/200 [00:12<00:00, 16.28it/s]\n"
     ]
    },
    {
     "name": "stdout",
     "output_type": "stream",
     "text": [
      "[Generation: 98] \n",
      " Average Fitness: 485.055 \n",
      " Best Fitness: 500.0 \n",
      " Worst Fitness: 27.0 \n",
      " Standard Error: 5.3099091849827165\n"
     ]
    },
    {
     "name": "stderr",
     "output_type": "stream",
     "text": [
      "Generating Offspring: 100%|██████████████████████████████| 100/100 [00:18<00:00,  5.46it/s]\n",
      "Calculating fitnesses: 100%|█████████████████████████████| 200/200 [00:12<00:00, 16.15it/s]\n"
     ]
    },
    {
     "name": "stdout",
     "output_type": "stream",
     "text": [
      "[Generation: 99] \n",
      " Average Fitness: 482.0 \n",
      " Best Fitness: 500.0 \n",
      " Worst Fitness: 19.0 \n",
      " Standard Error: 5.623916981166709\n"
     ]
    },
    {
     "name": "stderr",
     "output_type": "stream",
     "text": [
      "Generating Offspring: 100%|██████████████████████████████| 100/100 [00:18<00:00,  5.49it/s]\n",
      "Calculating fitnesses: 100%|█████████████████████████████| 200/200 [00:12<00:00, 15.55it/s]\n"
     ]
    },
    {
     "name": "stdout",
     "output_type": "stream",
     "text": [
      "[Generation: 100] \n",
      " Average Fitness: 483.865 \n",
      " Best Fitness: 500.0 \n",
      " Worst Fitness: 16.0 \n",
      " Standard Error: 5.864974295976267\n"
     ]
    },
    {
     "name": "stderr",
     "output_type": "stream",
     "text": [
      "Generating Offspring: 100%|██████████████████████████████| 100/100 [00:19<00:00,  5.26it/s]\n"
     ]
    }
   ],
   "source": [
    "# Version 1:\n",
    "# Run the genetic algorithm\n",
    "population, history, history_std = main(POPULATION_SIZE=200, \n",
    "                            GENERATIONS=100, \n",
    "                            ELITISM=100, \n",
    "                            TOURNAMENT_SIZE=3, \n",
    "                            MUTATION_STRENGTH=1, \n",
    "                            MUTATION_RATE=0.01)"
   ]
  },
  {
   "cell_type": "code",
   "execution_count": 11,
   "id": "037003f9",
   "metadata": {},
   "outputs": [
    {
     "data": {
      "image/png": "[encoded data removed]",
      "text/plain": [
       "<Figure size 2000x1500 with 1 Axes>"
      ]
     },
     "metadata": {},
     "output_type": "display_data"
    }
   ],
   "source": [
    "plt.figure(figsize=(20, 15))\n",
    "plt.plot(np.arange(100), np.array(history)[:,0], marker='o', linestyle='-', label='Average Fitness')\n",
    "plt.plot(np.arange(100), np.array(history)[:,1], marker='^', linestyle='-', label='Max Fitness')\n",
    "plt.plot(np.arange(100), np.array(history)[:,2], marker='s', linestyle='-', label='Min Fitness')\n",
    "plt.fill_between(np.arange(100), 0, np.array(history)[:,0] + np.array(history)[:,1],\n",
    "                 alpha=0.2, color='blue', label='Standard Error')\n",
    "\n",
    "plt.xlabel('Generations')\n",
    "plt.ylabel('Fitness')\n",
    "plt.title('Fitness History')\n",
    "plt.grid()\n",
    "plt.legend()\n",
    "plt.show()"
   ]
  },
  {
   "cell_type": "code",
   "execution_count": null,
   "id": "b3af392e",
   "metadata": {},
   "outputs": [],
   "source": []
  }
 ],
 "metadata": {
  "kernelspec": {
   "display_name": "Python 3 (ipykernel)",
   "language": "python",
   "name": "python3"
  },
  "language_info": {
   "codemirror_mode": {
    "name": "ipython",
    "version": 3
   },
   "file_extension": ".py",
   "mimetype": "text/x-python",
   "name": "python",
   "nbconvert_exporter": "python",
   "pygments_lexer": "ipython3",
   "version": "3.11.3"
  }
 },
 "nbformat": 4,
 "nbformat_minor": 5
}
