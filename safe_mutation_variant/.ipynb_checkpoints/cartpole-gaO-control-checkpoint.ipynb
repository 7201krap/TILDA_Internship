{
 "cells": [
  {
   "cell_type": "code",
   "execution_count": 1,
   "id": "cff20e7d",
   "metadata": {},
   "outputs": [],
   "source": [
    "import torch\n",
    "import gym\n",
    "import numpy as np\n",
    "import random\n",
    "import matplotlib.pyplot as plt\n",
    "import statistics\n",
    "import time\n",
    "\n",
    "from torch import nn\n",
    "from copy import deepcopy\n",
    "from tqdm import tqdm\n",
    "from bayes_opt import BayesianOptimization"
   ]
  },
  {
   "cell_type": "code",
   "execution_count": 2,
   "id": "c7205bff",
   "metadata": {},
   "outputs": [
    {
     "name": "stderr",
     "output_type": "stream",
     "text": [
      "/Users/jinhyunpark/miniforge3/envs/tilda/lib/python3.11/site-packages/gym/core.py:329: DeprecationWarning: \u001b[33mWARN: Initializing wrapper in old step API which returns one bool instead of two. It is recommended to set `new_step_api=True` to use new step API. This will be the default behaviour in future.\u001b[0m\n",
      "  deprecation(\n",
      "/Users/jinhyunpark/miniforge3/envs/tilda/lib/python3.11/site-packages/gym/wrappers/step_api_compatibility.py:39: DeprecationWarning: \u001b[33mWARN: Initializing environment in old step API which returns one bool instead of two. It is recommended to set `new_step_api=True` to use new step API. This will be the default behaviour in future.\u001b[0m\n",
      "  deprecation(\n"
     ]
    }
   ],
   "source": [
    "# Use the following gym version.\n",
    "# pip install gym==0.25.0\n",
    "# pip install pygame\n",
    "\n",
    "seed = 0\n",
    "torch.manual_seed(seed)\n",
    "np.random.seed(seed)\n",
    "random.seed(seed)\n",
    "\n",
    "# define global variable \n",
    "env = gym.make('CartPole-v1')\n",
    "pop_size = 50\n",
    "gens = 150\n",
    "elit = int(pop_size * 0.4)\n",
    "tot_size = 5\n",
    "MAX_EP = 1"
   ]
  },
  {
   "cell_type": "code",
   "execution_count": 3,
   "id": "24c2802b",
   "metadata": {},
   "outputs": [],
   "source": [
    "# Define network architecture\n",
    "class Network(nn.Module):\n",
    "    def __init__(self, env):\n",
    "        super().__init__()\n",
    "\n",
    "        in_features = int(np.prod(env.observation_space.shape))\n",
    "        self.net = nn.Sequential(\n",
    "            nn.Linear(in_features, 64),\n",
    "            nn.Tanh(),\n",
    "            nn.Linear(64, env.action_space.n)\n",
    "        )\n",
    "\n",
    "    def forward(self, x):\n",
    "        return self.net(x)"
   ]
  },
  {
   "cell_type": "code",
   "execution_count": 4,
   "id": "562f1c95",
   "metadata": {},
   "outputs": [],
   "source": [
    "def calculate_fitness(network, env, num_episodes=MAX_EP):\n",
    "    total_rewards = 0\n",
    "    for _ in range(num_episodes):\n",
    "        reward, _ = run_episode(network, env)\n",
    "        total_rewards += reward\n",
    "    avg_reward = total_rewards / num_episodes\n",
    "    return avg_reward"
   ]
  },
  {
   "cell_type": "code",
   "execution_count": 5,
   "id": "3406fb93",
   "metadata": {},
   "outputs": [],
   "source": [
    "def run_episode(network, env):\n",
    "    state = env.reset()\n",
    "    total_reward = 0.0\n",
    "    log_probs = []  # Store log probabilities of actions\n",
    "    done = False\n",
    "    while not done:\n",
    "        state_t = torch.as_tensor(state, dtype=torch.float32)\n",
    "        q_values = network(state_t.unsqueeze(0))\n",
    "        action_probs = nn.functional.softmax(q_values, dim=1)\n",
    "        action_dist = torch.distributions.Categorical(action_probs)\n",
    "        action = action_dist.sample()\n",
    "        log_prob = action_dist.log_prob(action)\n",
    "        log_probs.append(log_prob)\n",
    "        state, reward, done, _ = env.step(action.item())\n",
    "        total_reward += reward\n",
    "    return total_reward, log_probs"
   ]
  },
  {
   "cell_type": "code",
   "execution_count": 6,
   "id": "b62df800",
   "metadata": {},
   "outputs": [],
   "source": [
    "def mutate_and_tournament(population, tournament_size, mutation_rate, mutation_strength):\n",
    "    \n",
    "    # Select individuals for the tournament\n",
    "    individuals = random.sample(population, tournament_size)\n",
    "    # Calculate fitness for each individual\n",
    "    fitnesses = [calculate_fitness(individual, env) for individual in individuals]\n",
    "    # Select the best individual\n",
    "    parent = individuals[np.argmax(fitnesses)]\n",
    "    # Create offspring by deep copying the parent\n",
    "    offspring = deepcopy(parent)\n",
    "    \n",
    "    # Apply mutation\n",
    "    with torch.no_grad():\n",
    "        for param in offspring.parameters():\n",
    "            if random.random() < mutation_rate:\n",
    "                delta = torch.randn_like(param)\n",
    "                param.add_(mutation_strength * delta)\n",
    "    \n",
    "    # Return the mutated offspring\n",
    "    return offspring"
   ]
  },
  {
   "cell_type": "code",
   "execution_count": 7,
   "id": "0e6f4b95",
   "metadata": {},
   "outputs": [],
   "source": [
    "# Define genetic algorithm\n",
    "def main(POPULATION_SIZE, GENERATIONS, ELITISM, TOURNAMENT_SIZE, MUTATION_STRENGTH, MUTATION_RATE):\n",
    "    \n",
    "    start_time = time.time()\n",
    "    \n",
    "    FITNESS_HISTORY = list()\n",
    "    FITNESS_STDERROR_HISTORY = list()\n",
    "    \n",
    "    # Create initial population\n",
    "    population = [Network(env) for _ in range(POPULATION_SIZE)]\n",
    "\n",
    "    for generation in range(1, GENERATIONS + 1):\n",
    "\n",
    "        # Calculate fitness for each network\n",
    "        fitnesses = [calculate_fitness(network, env) for network in tqdm(population, desc=\"Calculating fitnesses\")]\n",
    "        \n",
    "        # average fitness \n",
    "        avg_fitness = np.average(fitnesses)\n",
    "        max_fitness = np.max(fitnesses)\n",
    "        min_fitness = np.min(fitnesses)\n",
    "        FITNESS_HISTORY.append([avg_fitness, max_fitness, min_fitness])\n",
    "        \n",
    "        # std error\n",
    "        standard_deviation = statistics.stdev(fitnesses)\n",
    "        standard_error = standard_deviation / (POPULATION_SIZE ** 0.5)\n",
    "        FITNESS_STDERROR_HISTORY.append(standard_error)\n",
    "\n",
    "        print(f\"[Generation: {generation}] \\n Average Fitness: {avg_fitness} \\n Best Fitness: {max_fitness} \\n Worst Fitness: {min_fitness} \\n Standard Error: {standard_error}\")\n",
    "        \n",
    "        # Sort population by fitness\n",
    "        population = [x for _, x in sorted(zip(fitnesses, population), key=lambda pair: pair[0], reverse=True)]\n",
    "        \n",
    "        # Select the best networks to pass their genes to the next generation\n",
    "        survivors = population[:ELITISM]\n",
    "        \n",
    "        # Create the next generation\n",
    "        next_population = survivors  # Start with the survivors\n",
    "        \n",
    "        num_individuals_to_add = POPULATION_SIZE - len(next_population)\n",
    "        # Add offspring by tournament selection and mutation\n",
    "        for _ in tqdm(range(num_individuals_to_add), desc=\"Generating Offspring\"):\n",
    "            offspring = mutate_and_tournament(population, TOURNAMENT_SIZE, MUTATION_RATE, MUTATION_STRENGTH)\n",
    "            next_population.append(offspring)\n",
    "\n",
    "        # The next generation becomes the current population\n",
    "        population = next_population\n",
    "    \n",
    "    print(\"--- %s seconds ---\" % (time.time() - start_time))\n",
    "    \n",
    "    return population, FITNESS_HISTORY, FITNESS_STDERROR_HISTORY"
   ]
  },
  {
   "cell_type": "markdown",
   "id": "58016015",
   "metadata": {},
   "source": [
    "### Version Control"
   ]
  },
  {
   "cell_type": "code",
   "execution_count": 8,
   "id": "5345a1c9",
   "metadata": {
    "scrolled": true
   },
   "outputs": [
    {
     "name": "stderr",
     "output_type": "stream",
     "text": [
      "Calculating fitnesses:   0%|                                                                                                                                    | 0/50 [00:00<?, ?it/s]/Users/jinhyunpark/miniforge3/envs/tilda/lib/python3.11/site-packages/gym/utils/passive_env_checker.py:241: DeprecationWarning: `np.bool8` is a deprecated alias for `np.bool_`.  (Deprecated NumPy 1.24)\n",
      "  if not isinstance(terminated, (bool, np.bool8)):\n",
      "Calculating fitnesses: 100%|██████████████████████████████████████████████████████████████████████████████████████████████████████████████████████████| 50/50 [00:00<00:00, 481.33it/s]\n"
     ]
    },
    {
     "name": "stdout",
     "output_type": "stream",
     "text": [
      "[Generation: 1] \n",
      " Average Fitness: 19.7 \n",
      " Best Fitness: 45.0 \n",
      " Worst Fitness: 9.0 \n",
      " Standard Error: 1.1066588803922464\n"
     ]
    },
    {
     "name": "stderr",
     "output_type": "stream",
     "text": [
      "Generating Offspring: 100%|████████████████████████████████████████████████████████████████████████████████████████████████████████████████████████████| 30/30 [00:00<00:00, 95.94it/s]\n",
      "Calculating fitnesses: 100%|██████████████████████████████████████████████████████████████████████████████████████████████████████████████████████████| 50/50 [00:00<00:00, 494.83it/s]\n"
     ]
    },
    {
     "name": "stdout",
     "output_type": "stream",
     "text": [
      "[Generation: 2] \n",
      " Average Fitness: 21.1 \n",
      " Best Fitness: 58.0 \n",
      " Worst Fitness: 10.0 \n",
      " Standard Error: 1.4898979556893643\n"
     ]
    },
    {
     "name": "stderr",
     "output_type": "stream",
     "text": [
      "Generating Offspring: 100%|████████████████████████████████████████████████████████████████████████████████████████████████████████████████████████████| 30/30 [00:00<00:00, 92.77it/s]\n",
      "Calculating fitnesses: 100%|██████████████████████████████████████████████████████████████████████████████████████████████████████████████████████████| 50/50 [00:00<00:00, 402.89it/s]\n"
     ]
    },
    {
     "name": "stdout",
     "output_type": "stream",
     "text": [
      "[Generation: 3] \n",
      " Average Fitness: 24.7 \n",
      " Best Fitness: 62.0 \n",
      " Worst Fitness: 9.0 \n",
      " Standard Error: 1.737756000814656\n"
     ]
    },
    {
     "name": "stderr",
     "output_type": "stream",
     "text": [
      "Generating Offspring: 100%|████████████████████████████████████████████████████████████████████████████████████████████████████████████████████████████| 30/30 [00:00<00:00, 82.46it/s]\n",
      "Calculating fitnesses: 100%|██████████████████████████████████████████████████████████████████████████████████████████████████████████████████████████| 50/50 [00:00<00:00, 465.22it/s]\n"
     ]
    },
    {
     "name": "stdout",
     "output_type": "stream",
     "text": [
      "[Generation: 4] \n",
      " Average Fitness: 22.0 \n",
      " Best Fitness: 84.0 \n",
      " Worst Fitness: 10.0 \n",
      " Standard Error: 1.7287485151320965\n"
     ]
    },
    {
     "name": "stderr",
     "output_type": "stream",
     "text": [
      "Generating Offspring: 100%|████████████████████████████████████████████████████████████████████████████████████████████████████████████████████████████| 30/30 [00:00<00:00, 81.90it/s]\n",
      "Calculating fitnesses: 100%|██████████████████████████████████████████████████████████████████████████████████████████████████████████████████████████| 50/50 [00:00<00:00, 309.63it/s]\n"
     ]
    },
    {
     "name": "stdout",
     "output_type": "stream",
     "text": [
      "[Generation: 5] \n",
      " Average Fitness: 33.16 \n",
      " Best Fitness: 273.0 \n",
      " Worst Fitness: 11.0 \n",
      " Standard Error: 5.377910982027523\n"
     ]
    },
    {
     "name": "stderr",
     "output_type": "stream",
     "text": [
      "Generating Offspring: 100%|████████████████████████████████████████████████████████████████████████████████████████████████████████████████████████████| 30/30 [00:00<00:00, 48.49it/s]\n",
      "Calculating fitnesses: 100%|██████████████████████████████████████████████████████████████████████████████████████████████████████████████████████████| 50/50 [00:00<00:00, 134.70it/s]\n"
     ]
    },
    {
     "name": "stdout",
     "output_type": "stream",
     "text": [
      "[Generation: 6] \n",
      " Average Fitness: 75.88 \n",
      " Best Fitness: 500.0 \n",
      " Worst Fitness: 10.0 \n",
      " Standard Error: 16.399518161164593\n"
     ]
    },
    {
     "name": "stderr",
     "output_type": "stream",
     "text": [
      "Generating Offspring: 100%|████████████████████████████████████████████████████████████████████████████████████████████████████████████████████████████| 30/30 [00:01<00:00, 23.69it/s]\n",
      "Calculating fitnesses: 100%|███████████████████████████████████████████████████████████████████████████████████████████████████████████████████████████| 50/50 [00:00<00:00, 54.43it/s]\n"
     ]
    },
    {
     "name": "stdout",
     "output_type": "stream",
     "text": [
      "[Generation: 7] \n",
      " Average Fitness: 187.52 \n",
      " Best Fitness: 500.0 \n",
      " Worst Fitness: 12.0 \n",
      " Standard Error: 23.67198016427775\n"
     ]
    },
    {
     "name": "stderr",
     "output_type": "stream",
     "text": [
      "Generating Offspring: 100%|████████████████████████████████████████████████████████████████████████████████████████████████████████████████████████████| 30/30 [00:02<00:00, 10.33it/s]\n",
      "Calculating fitnesses: 100%|███████████████████████████████████████████████████████████████████████████████████████████████████████████████████████████| 50/50 [00:01<00:00, 28.85it/s]\n"
     ]
    },
    {
     "name": "stdout",
     "output_type": "stream",
     "text": [
      "[Generation: 8] \n",
      " Average Fitness: 332.38 \n",
      " Best Fitness: 500.0 \n",
      " Worst Fitness: 89.0 \n",
      " Standard Error: 10.86420409474366\n"
     ]
    },
    {
     "name": "stderr",
     "output_type": "stream",
     "text": [
      "Generating Offspring: 100%|████████████████████████████████████████████████████████████████████████████████████████████████████████████████████████████| 30/30 [00:05<00:00,  5.59it/s]\n",
      "Calculating fitnesses: 100%|███████████████████████████████████████████████████████████████████████████████████████████████████████████████████████████| 50/50 [00:01<00:00, 29.04it/s]\n"
     ]
    },
    {
     "name": "stdout",
     "output_type": "stream",
     "text": [
      "[Generation: 9] \n",
      " Average Fitness: 346.92 \n",
      " Best Fitness: 500.0 \n",
      " Worst Fitness: 193.0 \n",
      " Standard Error: 11.649852061774196\n"
     ]
    },
    {
     "name": "stderr",
     "output_type": "stream",
     "text": [
      "Generating Offspring: 100%|████████████████████████████████████████████████████████████████████████████████████████████████████████████████████████████| 30/30 [00:05<00:00,  5.30it/s]\n",
      "Calculating fitnesses: 100%|███████████████████████████████████████████████████████████████████████████████████████████████████████████████████████████| 50/50 [00:01<00:00, 28.98it/s]\n"
     ]
    },
    {
     "name": "stdout",
     "output_type": "stream",
     "text": [
      "[Generation: 10] \n",
      " Average Fitness: 343.22 \n",
      " Best Fitness: 500.0 \n",
      " Worst Fitness: 141.0 \n",
      " Standard Error: 12.17797577093792\n"
     ]
    },
    {
     "name": "stderr",
     "output_type": "stream",
     "text": [
      "Generating Offspring: 100%|████████████████████████████████████████████████████████████████████████████████████████████████████████████████████████████| 30/30 [00:05<00:00,  5.72it/s]\n",
      "Calculating fitnesses: 100%|███████████████████████████████████████████████████████████████████████████████████████████████████████████████████████████| 50/50 [00:01<00:00, 25.66it/s]\n"
     ]
    },
    {
     "name": "stdout",
     "output_type": "stream",
     "text": [
      "[Generation: 11] \n",
      " Average Fitness: 381.14 \n",
      " Best Fitness: 500.0 \n",
      " Worst Fitness: 181.0 \n",
      " Standard Error: 12.14208434515664\n"
     ]
    },
    {
     "name": "stderr",
     "output_type": "stream",
     "text": [
      "Generating Offspring: 100%|████████████████████████████████████████████████████████████████████████████████████████████████████████████████████████████| 30/30 [00:05<00:00,  5.42it/s]\n",
      "Calculating fitnesses: 100%|███████████████████████████████████████████████████████████████████████████████████████████████████████████████████████████| 50/50 [00:01<00:00, 26.41it/s]\n"
     ]
    },
    {
     "name": "stdout",
     "output_type": "stream",
     "text": [
      "[Generation: 12] \n",
      " Average Fitness: 366.62 \n",
      " Best Fitness: 500.0 \n",
      " Worst Fitness: 65.0 \n",
      " Standard Error: 12.980012578214716\n"
     ]
    },
    {
     "name": "stderr",
     "output_type": "stream",
     "text": [
      "Generating Offspring: 100%|████████████████████████████████████████████████████████████████████████████████████████████████████████████████████████████| 30/30 [00:05<00:00,  5.38it/s]\n",
      "Calculating fitnesses: 100%|███████████████████████████████████████████████████████████████████████████████████████████████████████████████████████████| 50/50 [00:01<00:00, 29.00it/s]\n"
     ]
    },
    {
     "name": "stdout",
     "output_type": "stream",
     "text": [
      "[Generation: 13] \n",
      " Average Fitness: 344.16 \n",
      " Best Fitness: 500.0 \n",
      " Worst Fitness: 223.0 \n",
      " Standard Error: 9.768895243870428\n"
     ]
    },
    {
     "name": "stderr",
     "output_type": "stream",
     "text": [
      "Generating Offspring: 100%|████████████████████████████████████████████████████████████████████████████████████████████████████████████████████████████| 30/30 [00:05<00:00,  5.65it/s]\n",
      "Calculating fitnesses: 100%|███████████████████████████████████████████████████████████████████████████████████████████████████████████████████████████| 50/50 [00:01<00:00, 27.30it/s]\n"
     ]
    },
    {
     "name": "stdout",
     "output_type": "stream",
     "text": [
      "[Generation: 14] \n",
      " Average Fitness: 368.84 \n",
      " Best Fitness: 500.0 \n",
      " Worst Fitness: 43.0 \n",
      " Standard Error: 13.195433965998253\n"
     ]
    },
    {
     "name": "stderr",
     "output_type": "stream",
     "text": [
      "Generating Offspring: 100%|████████████████████████████████████████████████████████████████████████████████████████████████████████████████████████████| 30/30 [00:04<00:00,  6.02it/s]\n",
      "Calculating fitnesses: 100%|███████████████████████████████████████████████████████████████████████████████████████████████████████████████████████████| 50/50 [00:01<00:00, 29.37it/s]\n"
     ]
    },
    {
     "name": "stdout",
     "output_type": "stream",
     "text": [
      "[Generation: 15] \n",
      " Average Fitness: 329.7 \n",
      " Best Fitness: 500.0 \n",
      " Worst Fitness: 22.0 \n",
      " Standard Error: 14.544463846131578\n"
     ]
    },
    {
     "name": "stderr",
     "output_type": "stream",
     "text": [
      "Generating Offspring: 100%|████████████████████████████████████████████████████████████████████████████████████████████████████████████████████████████| 30/30 [00:05<00:00,  5.72it/s]\n",
      "Calculating fitnesses: 100%|███████████████████████████████████████████████████████████████████████████████████████████████████████████████████████████| 50/50 [00:01<00:00, 27.29it/s]\n"
     ]
    },
    {
     "name": "stdout",
     "output_type": "stream",
     "text": [
      "[Generation: 16] \n",
      " Average Fitness: 360.14 \n",
      " Best Fitness: 500.0 \n",
      " Worst Fitness: 191.0 \n",
      " Standard Error: 13.334534265643951\n"
     ]
    },
    {
     "name": "stderr",
     "output_type": "stream",
     "text": [
      "Generating Offspring: 100%|████████████████████████████████████████████████████████████████████████████████████████████████████████████████████████████| 30/30 [00:05<00:00,  5.55it/s]\n",
      "Calculating fitnesses: 100%|███████████████████████████████████████████████████████████████████████████████████████████████████████████████████████████| 50/50 [00:01<00:00, 28.17it/s]\n"
     ]
    },
    {
     "name": "stdout",
     "output_type": "stream",
     "text": [
      "[Generation: 17] \n",
      " Average Fitness: 347.48 \n",
      " Best Fitness: 500.0 \n",
      " Worst Fitness: 10.0 \n",
      " Standard Error: 12.351360827281919\n"
     ]
    },
    {
     "name": "stderr",
     "output_type": "stream",
     "text": [
      "Generating Offspring: 100%|████████████████████████████████████████████████████████████████████████████████████████████████████████████████████████████| 30/30 [00:04<00:00,  6.00it/s]\n",
      "Calculating fitnesses: 100%|███████████████████████████████████████████████████████████████████████████████████████████████████████████████████████████| 50/50 [00:01<00:00, 26.20it/s]\n"
     ]
    },
    {
     "name": "stdout",
     "output_type": "stream",
     "text": [
      "[Generation: 18] \n",
      " Average Fitness: 380.18 \n",
      " Best Fitness: 500.0 \n",
      " Worst Fitness: 260.0 \n",
      " Standard Error: 11.161365215303535\n"
     ]
    },
    {
     "name": "stderr",
     "output_type": "stream",
     "text": [
      "Generating Offspring: 100%|████████████████████████████████████████████████████████████████████████████████████████████████████████████████████████████| 30/30 [00:05<00:00,  5.41it/s]\n",
      "Calculating fitnesses: 100%|███████████████████████████████████████████████████████████████████████████████████████████████████████████████████████████| 50/50 [00:01<00:00, 27.68it/s]\n"
     ]
    },
    {
     "name": "stdout",
     "output_type": "stream",
     "text": [
      "[Generation: 19] \n",
      " Average Fitness: 354.9 \n",
      " Best Fitness: 500.0 \n",
      " Worst Fitness: 105.0 \n",
      " Standard Error: 11.95256782248151\n"
     ]
    },
    {
     "name": "stderr",
     "output_type": "stream",
     "text": [
      "Generating Offspring: 100%|████████████████████████████████████████████████████████████████████████████████████████████████████████████████████████████| 30/30 [00:05<00:00,  5.61it/s]\n",
      "Calculating fitnesses: 100%|███████████████████████████████████████████████████████████████████████████████████████████████████████████████████████████| 50/50 [00:01<00:00, 26.22it/s]\n"
     ]
    },
    {
     "name": "stdout",
     "output_type": "stream",
     "text": [
      "[Generation: 20] \n",
      " Average Fitness: 364.78 \n",
      " Best Fitness: 500.0 \n",
      " Worst Fitness: 146.0 \n",
      " Standard Error: 12.127596797454665\n"
     ]
    },
    {
     "name": "stderr",
     "output_type": "stream",
     "text": [
      "Generating Offspring: 100%|████████████████████████████████████████████████████████████████████████████████████████████████████████████████████████████| 30/30 [00:05<00:00,  5.43it/s]\n",
      "Calculating fitnesses: 100%|███████████████████████████████████████████████████████████████████████████████████████████████████████████████████████████| 50/50 [00:01<00:00, 28.35it/s]\n"
     ]
    },
    {
     "name": "stdout",
     "output_type": "stream",
     "text": [
      "[Generation: 21] \n",
      " Average Fitness: 349.14 \n",
      " Best Fitness: 500.0 \n",
      " Worst Fitness: 201.0 \n",
      " Standard Error: 10.919146636313029\n"
     ]
    },
    {
     "name": "stderr",
     "output_type": "stream",
     "text": [
      "Generating Offspring: 100%|████████████████████████████████████████████████████████████████████████████████████████████████████████████████████████████| 30/30 [00:05<00:00,  5.41it/s]\n",
      "Calculating fitnesses: 100%|███████████████████████████████████████████████████████████████████████████████████████████████████████████████████████████| 50/50 [00:01<00:00, 28.85it/s]\n"
     ]
    },
    {
     "name": "stdout",
     "output_type": "stream",
     "text": [
      "[Generation: 22] \n",
      " Average Fitness: 343.22 \n",
      " Best Fitness: 500.0 \n",
      " Worst Fitness: 25.0 \n",
      " Standard Error: 13.661783132788594\n"
     ]
    },
    {
     "name": "stderr",
     "output_type": "stream",
     "text": [
      "Generating Offspring: 100%|████████████████████████████████████████████████████████████████████████████████████████████████████████████████████████████| 30/30 [00:05<00:00,  5.83it/s]\n",
      "Calculating fitnesses: 100%|███████████████████████████████████████████████████████████████████████████████████████████████████████████████████████████| 50/50 [00:01<00:00, 28.04it/s]\n"
     ]
    },
    {
     "name": "stdout",
     "output_type": "stream",
     "text": [
      "[Generation: 23] \n",
      " Average Fitness: 347.62 \n",
      " Best Fitness: 500.0 \n",
      " Worst Fitness: 250.0 \n",
      " Standard Error: 9.746119688347349\n"
     ]
    },
    {
     "name": "stderr",
     "output_type": "stream",
     "text": [
      "Generating Offspring: 100%|████████████████████████████████████████████████████████████████████████████████████████████████████████████████████████████| 30/30 [00:05<00:00,  5.66it/s]\n",
      "Calculating fitnesses: 100%|███████████████████████████████████████████████████████████████████████████████████████████████████████████████████████████| 50/50 [00:01<00:00, 28.93it/s]\n"
     ]
    },
    {
     "name": "stdout",
     "output_type": "stream",
     "text": [
      "[Generation: 24] \n",
      " Average Fitness: 338.16 \n",
      " Best Fitness: 500.0 \n",
      " Worst Fitness: 13.0 \n",
      " Standard Error: 13.787908337617079\n"
     ]
    },
    {
     "name": "stderr",
     "output_type": "stream",
     "text": [
      "Generating Offspring: 100%|████████████████████████████████████████████████████████████████████████████████████████████████████████████████████████████| 30/30 [00:05<00:00,  5.71it/s]\n",
      "Calculating fitnesses: 100%|███████████████████████████████████████████████████████████████████████████████████████████████████████████████████████████| 50/50 [00:01<00:00, 27.54it/s]\n"
     ]
    },
    {
     "name": "stdout",
     "output_type": "stream",
     "text": [
      "[Generation: 25] \n",
      " Average Fitness: 350.66 \n",
      " Best Fitness: 500.0 \n",
      " Worst Fitness: 101.0 \n",
      " Standard Error: 12.812226622270158\n"
     ]
    },
    {
     "name": "stderr",
     "output_type": "stream",
     "text": [
      "Generating Offspring: 100%|████████████████████████████████████████████████████████████████████████████████████████████████████████████████████████████| 30/30 [00:05<00:00,  5.75it/s]\n",
      "Calculating fitnesses: 100%|███████████████████████████████████████████████████████████████████████████████████████████████████████████████████████████| 50/50 [00:01<00:00, 27.41it/s]\n"
     ]
    },
    {
     "name": "stdout",
     "output_type": "stream",
     "text": [
      "[Generation: 26] \n",
      " Average Fitness: 359.92 \n",
      " Best Fitness: 500.0 \n",
      " Worst Fitness: 26.0 \n",
      " Standard Error: 12.873666842014503\n"
     ]
    },
    {
     "name": "stderr",
     "output_type": "stream",
     "text": [
      "Generating Offspring: 100%|████████████████████████████████████████████████████████████████████████████████████████████████████████████████████████████| 30/30 [00:05<00:00,  5.64it/s]\n",
      "Calculating fitnesses: 100%|███████████████████████████████████████████████████████████████████████████████████████████████████████████████████████████| 50/50 [00:01<00:00, 27.84it/s]\n"
     ]
    },
    {
     "name": "stdout",
     "output_type": "stream",
     "text": [
      "[Generation: 27] \n",
      " Average Fitness: 350.22 \n",
      " Best Fitness: 500.0 \n",
      " Worst Fitness: 224.0 \n",
      " Standard Error: 11.122372746415401\n"
     ]
    },
    {
     "name": "stderr",
     "output_type": "stream",
     "text": [
      "Generating Offspring: 100%|████████████████████████████████████████████████████████████████████████████████████████████████████████████████████████████| 30/30 [00:05<00:00,  5.64it/s]\n",
      "Calculating fitnesses: 100%|███████████████████████████████████████████████████████████████████████████████████████████████████████████████████████████| 50/50 [00:01<00:00, 28.18it/s]\n"
     ]
    },
    {
     "name": "stdout",
     "output_type": "stream",
     "text": [
      "[Generation: 28] \n",
      " Average Fitness: 349.6 \n",
      " Best Fitness: 500.0 \n",
      " Worst Fitness: 11.0 \n",
      " Standard Error: 12.94941492650442\n"
     ]
    },
    {
     "name": "stderr",
     "output_type": "stream",
     "text": [
      "Generating Offspring: 100%|████████████████████████████████████████████████████████████████████████████████████████████████████████████████████████████| 30/30 [00:05<00:00,  5.53it/s]\n",
      "Calculating fitnesses: 100%|███████████████████████████████████████████████████████████████████████████████████████████████████████████████████████████| 50/50 [00:01<00:00, 26.43it/s]\n"
     ]
    },
    {
     "name": "stdout",
     "output_type": "stream",
     "text": [
      "[Generation: 29] \n",
      " Average Fitness: 373.6 \n",
      " Best Fitness: 500.0 \n",
      " Worst Fitness: 247.0 \n",
      " Standard Error: 11.273555837644562\n"
     ]
    },
    {
     "name": "stderr",
     "output_type": "stream",
     "text": [
      "Generating Offspring: 100%|████████████████████████████████████████████████████████████████████████████████████████████████████████████████████████████| 30/30 [00:05<00:00,  5.59it/s]\n",
      "Calculating fitnesses: 100%|███████████████████████████████████████████████████████████████████████████████████████████████████████████████████████████| 50/50 [00:01<00:00, 27.46it/s]\n"
     ]
    },
    {
     "name": "stdout",
     "output_type": "stream",
     "text": [
      "[Generation: 30] \n",
      " Average Fitness: 369.78 \n",
      " Best Fitness: 500.0 \n",
      " Worst Fitness: 143.0 \n",
      " Standard Error: 13.092022496972135\n"
     ]
    },
    {
     "name": "stderr",
     "output_type": "stream",
     "text": [
      "Generating Offspring: 100%|████████████████████████████████████████████████████████████████████████████████████████████████████████████████████████████| 30/30 [00:05<00:00,  5.55it/s]\n",
      "Calculating fitnesses: 100%|███████████████████████████████████████████████████████████████████████████████████████████████████████████████████████████| 50/50 [00:01<00:00, 26.19it/s]\n"
     ]
    },
    {
     "name": "stdout",
     "output_type": "stream",
     "text": [
      "[Generation: 31] \n",
      " Average Fitness: 367.68 \n",
      " Best Fitness: 500.0 \n",
      " Worst Fitness: 20.0 \n",
      " Standard Error: 15.188756314041875\n"
     ]
    },
    {
     "name": "stderr",
     "output_type": "stream",
     "text": [
      "Generating Offspring: 100%|████████████████████████████████████████████████████████████████████████████████████████████████████████████████████████████| 30/30 [00:05<00:00,  5.52it/s]\n",
      "Calculating fitnesses: 100%|███████████████████████████████████████████████████████████████████████████████████████████████████████████████████████████| 50/50 [00:02<00:00, 23.64it/s]\n"
     ]
    },
    {
     "name": "stdout",
     "output_type": "stream",
     "text": [
      "[Generation: 32] \n",
      " Average Fitness: 403.98 \n",
      " Best Fitness: 500.0 \n",
      " Worst Fitness: 241.0 \n",
      " Standard Error: 10.75472330975501\n"
     ]
    },
    {
     "name": "stderr",
     "output_type": "stream",
     "text": [
      "Generating Offspring: 100%|████████████████████████████████████████████████████████████████████████████████████████████████████████████████████████████| 30/30 [00:06<00:00,  4.95it/s]\n",
      "Calculating fitnesses: 100%|███████████████████████████████████████████████████████████████████████████████████████████████████████████████████████████| 50/50 [00:01<00:00, 26.15it/s]\n"
     ]
    },
    {
     "name": "stdout",
     "output_type": "stream",
     "text": [
      "[Generation: 33] \n",
      " Average Fitness: 383.9 \n",
      " Best Fitness: 500.0 \n",
      " Worst Fitness: 33.0 \n",
      " Standard Error: 13.502932410164444\n"
     ]
    },
    {
     "name": "stderr",
     "output_type": "stream",
     "text": [
      "Generating Offspring: 100%|████████████████████████████████████████████████████████████████████████████████████████████████████████████████████████████| 30/30 [00:05<00:00,  5.04it/s]\n",
      "Calculating fitnesses: 100%|███████████████████████████████████████████████████████████████████████████████████████████████████████████████████████████| 50/50 [00:02<00:00, 24.53it/s]\n"
     ]
    },
    {
     "name": "stdout",
     "output_type": "stream",
     "text": [
      "[Generation: 34] \n",
      " Average Fitness: 406.82 \n",
      " Best Fitness: 500.0 \n",
      " Worst Fitness: 237.0 \n",
      " Standard Error: 10.547335092383307\n"
     ]
    },
    {
     "name": "stderr",
     "output_type": "stream",
     "text": [
      "Generating Offspring: 100%|████████████████████████████████████████████████████████████████████████████████████████████████████████████████████████████| 30/30 [00:06<00:00,  4.83it/s]\n",
      "Calculating fitnesses: 100%|███████████████████████████████████████████████████████████████████████████████████████████████████████████████████████████| 50/50 [00:02<00:00, 22.63it/s]\n"
     ]
    },
    {
     "name": "stdout",
     "output_type": "stream",
     "text": [
      "[Generation: 35] \n",
      " Average Fitness: 433.62 \n",
      " Best Fitness: 500.0 \n",
      " Worst Fitness: 301.0 \n",
      " Standard Error: 8.152169612302917\n"
     ]
    },
    {
     "name": "stderr",
     "output_type": "stream",
     "text": [
      "Generating Offspring: 100%|████████████████████████████████████████████████████████████████████████████████████████████████████████████████████████████| 30/30 [00:06<00:00,  4.54it/s]\n",
      "Calculating fitnesses: 100%|███████████████████████████████████████████████████████████████████████████████████████████████████████████████████████████| 50/50 [00:02<00:00, 22.75it/s]\n"
     ]
    },
    {
     "name": "stdout",
     "output_type": "stream",
     "text": [
      "[Generation: 36] \n",
      " Average Fitness: 430.7 \n",
      " Best Fitness: 500.0 \n",
      " Worst Fitness: 25.0 \n",
      " Standard Error: 11.628299400117609\n"
     ]
    },
    {
     "name": "stderr",
     "output_type": "stream",
     "text": [
      "Generating Offspring: 100%|████████████████████████████████████████████████████████████████████████████████████████████████████████████████████████████| 30/30 [00:06<00:00,  4.58it/s]\n",
      "Calculating fitnesses: 100%|███████████████████████████████████████████████████████████████████████████████████████████████████████████████████████████| 50/50 [00:02<00:00, 22.60it/s]\n"
     ]
    },
    {
     "name": "stdout",
     "output_type": "stream",
     "text": [
      "[Generation: 37] \n",
      " Average Fitness: 440.26 \n",
      " Best Fitness: 500.0 \n",
      " Worst Fitness: 258.0 \n",
      " Standard Error: 8.123023966931708\n"
     ]
    },
    {
     "name": "stderr",
     "output_type": "stream",
     "text": [
      "Generating Offspring: 100%|████████████████████████████████████████████████████████████████████████████████████████████████████████████████████████████| 30/30 [00:06<00:00,  4.58it/s]\n",
      "Calculating fitnesses: 100%|███████████████████████████████████████████████████████████████████████████████████████████████████████████████████████████| 50/50 [00:02<00:00, 22.27it/s]\n"
     ]
    },
    {
     "name": "stdout",
     "output_type": "stream",
     "text": [
      "[Generation: 38] \n",
      " Average Fitness: 430.5 \n",
      " Best Fitness: 500.0 \n",
      " Worst Fitness: 322.0 \n",
      " Standard Error: 6.235137430362718\n"
     ]
    },
    {
     "name": "stderr",
     "output_type": "stream",
     "text": [
      "Generating Offspring: 100%|████████████████████████████████████████████████████████████████████████████████████████████████████████████████████████████| 30/30 [00:06<00:00,  4.54it/s]\n",
      "Calculating fitnesses: 100%|███████████████████████████████████████████████████████████████████████████████████████████████████████████████████████████| 50/50 [00:02<00:00, 22.11it/s]\n"
     ]
    },
    {
     "name": "stdout",
     "output_type": "stream",
     "text": [
      "[Generation: 39] \n",
      " Average Fitness: 438.9 \n",
      " Best Fitness: 500.0 \n",
      " Worst Fitness: 281.0 \n",
      " Standard Error: 7.405803019750588\n"
     ]
    },
    {
     "name": "stderr",
     "output_type": "stream",
     "text": [
      "Generating Offspring: 100%|████████████████████████████████████████████████████████████████████████████████████████████████████████████████████████████| 30/30 [00:06<00:00,  4.40it/s]\n",
      "Calculating fitnesses: 100%|███████████████████████████████████████████████████████████████████████████████████████████████████████████████████████████| 50/50 [00:02<00:00, 22.14it/s]\n"
     ]
    },
    {
     "name": "stdout",
     "output_type": "stream",
     "text": [
      "[Generation: 40] \n",
      " Average Fitness: 437.82 \n",
      " Best Fitness: 500.0 \n",
      " Worst Fitness: 283.0 \n",
      " Standard Error: 6.650682947898614\n"
     ]
    },
    {
     "name": "stderr",
     "output_type": "stream",
     "text": [
      "Generating Offspring: 100%|████████████████████████████████████████████████████████████████████████████████████████████████████████████████████████████| 30/30 [00:06<00:00,  4.48it/s]\n",
      "Calculating fitnesses: 100%|███████████████████████████████████████████████████████████████████████████████████████████████████████████████████████████| 50/50 [00:02<00:00, 23.50it/s]\n"
     ]
    },
    {
     "name": "stdout",
     "output_type": "stream",
     "text": [
      "[Generation: 41] \n",
      " Average Fitness: 447.96 \n",
      " Best Fitness: 500.0 \n",
      " Worst Fitness: 348.0 \n",
      " Standard Error: 5.923730209237818\n"
     ]
    },
    {
     "name": "stderr",
     "output_type": "stream",
     "text": [
      "Generating Offspring: 100%|████████████████████████████████████████████████████████████████████████████████████████████████████████████████████████████| 30/30 [00:06<00:00,  4.60it/s]\n",
      "Calculating fitnesses: 100%|███████████████████████████████████████████████████████████████████████████████████████████████████████████████████████████| 50/50 [00:02<00:00, 23.26it/s]\n"
     ]
    },
    {
     "name": "stdout",
     "output_type": "stream",
     "text": [
      "[Generation: 42] \n",
      " Average Fitness: 441.56 \n",
      " Best Fitness: 500.0 \n",
      " Worst Fitness: 349.0 \n",
      " Standard Error: 5.447722609738225\n"
     ]
    },
    {
     "name": "stderr",
     "output_type": "stream",
     "text": [
      "Generating Offspring: 100%|████████████████████████████████████████████████████████████████████████████████████████████████████████████████████████████| 30/30 [00:06<00:00,  4.66it/s]\n",
      "Calculating fitnesses: 100%|███████████████████████████████████████████████████████████████████████████████████████████████████████████████████████████| 50/50 [00:02<00:00, 22.19it/s]\n"
     ]
    },
    {
     "name": "stdout",
     "output_type": "stream",
     "text": [
      "[Generation: 43] \n",
      " Average Fitness: 447.48 \n",
      " Best Fitness: 500.0 \n",
      " Worst Fitness: 345.0 \n",
      " Standard Error: 5.948434196303688\n"
     ]
    },
    {
     "name": "stderr",
     "output_type": "stream",
     "text": [
      "Generating Offspring: 100%|████████████████████████████████████████████████████████████████████████████████████████████████████████████████████████████| 30/30 [00:06<00:00,  4.83it/s]\n",
      "Calculating fitnesses: 100%|███████████████████████████████████████████████████████████████████████████████████████████████████████████████████████████| 50/50 [00:02<00:00, 24.65it/s]\n"
     ]
    },
    {
     "name": "stdout",
     "output_type": "stream",
     "text": [
      "[Generation: 44] \n",
      " Average Fitness: 448.48 \n",
      " Best Fitness: 500.0 \n",
      " Worst Fitness: 236.0 \n",
      " Standard Error: 6.6656132501068495\n"
     ]
    },
    {
     "name": "stderr",
     "output_type": "stream",
     "text": [
      "Generating Offspring: 100%|████████████████████████████████████████████████████████████████████████████████████████████████████████████████████████████| 30/30 [00:05<00:00,  5.16it/s]\n",
      "Calculating fitnesses: 100%|███████████████████████████████████████████████████████████████████████████████████████████████████████████████████████████| 50/50 [00:02<00:00, 24.03it/s]\n"
     ]
    },
    {
     "name": "stdout",
     "output_type": "stream",
     "text": [
      "[Generation: 45] \n",
      " Average Fitness: 440.78 \n",
      " Best Fitness: 500.0 \n",
      " Worst Fitness: 357.0 \n",
      " Standard Error: 5.604756726137511\n"
     ]
    },
    {
     "name": "stderr",
     "output_type": "stream",
     "text": [
      "Generating Offspring: 100%|████████████████████████████████████████████████████████████████████████████████████████████████████████████████████████████| 30/30 [00:06<00:00,  4.82it/s]\n",
      "Calculating fitnesses: 100%|███████████████████████████████████████████████████████████████████████████████████████████████████████████████████████████| 50/50 [00:02<00:00, 24.41it/s]\n"
     ]
    },
    {
     "name": "stdout",
     "output_type": "stream",
     "text": [
      "[Generation: 46] \n",
      " Average Fitness: 436.74 \n",
      " Best Fitness: 500.0 \n",
      " Worst Fitness: 38.0 \n",
      " Standard Error: 10.321240631012596\n"
     ]
    },
    {
     "name": "stderr",
     "output_type": "stream",
     "text": [
      "Generating Offspring: 100%|████████████████████████████████████████████████████████████████████████████████████████████████████████████████████████████| 30/30 [00:06<00:00,  4.97it/s]\n",
      "Calculating fitnesses: 100%|███████████████████████████████████████████████████████████████████████████████████████████████████████████████████████████| 50/50 [00:01<00:00, 25.01it/s]\n"
     ]
    },
    {
     "name": "stdout",
     "output_type": "stream",
     "text": [
      "[Generation: 47] \n",
      " Average Fitness: 428.06 \n",
      " Best Fitness: 500.0 \n",
      " Worst Fitness: 13.0 \n",
      " Standard Error: 10.308799886603717\n"
     ]
    },
    {
     "name": "stderr",
     "output_type": "stream",
     "text": [
      "Generating Offspring: 100%|████████████████████████████████████████████████████████████████████████████████████████████████████████████████████████████| 30/30 [00:06<00:00,  4.86it/s]\n",
      "Calculating fitnesses: 100%|███████████████████████████████████████████████████████████████████████████████████████████████████████████████████████████| 50/50 [00:02<00:00, 24.45it/s]\n"
     ]
    },
    {
     "name": "stdout",
     "output_type": "stream",
     "text": [
      "[Generation: 48] \n",
      " Average Fitness: 439.34 \n",
      " Best Fitness: 500.0 \n",
      " Worst Fitness: 372.0 \n",
      " Standard Error: 5.735646503780242\n"
     ]
    },
    {
     "name": "stderr",
     "output_type": "stream",
     "text": [
      "Generating Offspring: 100%|████████████████████████████████████████████████████████████████████████████████████████████████████████████████████████████| 30/30 [00:06<00:00,  4.88it/s]\n",
      "Calculating fitnesses: 100%|███████████████████████████████████████████████████████████████████████████████████████████████████████████████████████████| 50/50 [00:02<00:00, 23.85it/s]\n"
     ]
    },
    {
     "name": "stdout",
     "output_type": "stream",
     "text": [
      "[Generation: 49] \n",
      " Average Fitness: 439.24 \n",
      " Best Fitness: 500.0 \n",
      " Worst Fitness: 339.0 \n",
      " Standard Error: 6.00697281906449\n"
     ]
    },
    {
     "name": "stderr",
     "output_type": "stream",
     "text": [
      "Generating Offspring: 100%|████████████████████████████████████████████████████████████████████████████████████████████████████████████████████████████| 30/30 [00:06<00:00,  4.93it/s]\n",
      "Calculating fitnesses: 100%|███████████████████████████████████████████████████████████████████████████████████████████████████████████████████████████| 50/50 [00:02<00:00, 23.95it/s]\n"
     ]
    },
    {
     "name": "stdout",
     "output_type": "stream",
     "text": [
      "[Generation: 50] \n",
      " Average Fitness: 438.64 \n",
      " Best Fitness: 500.0 \n",
      " Worst Fitness: 355.0 \n",
      " Standard Error: 6.58586984631894\n"
     ]
    },
    {
     "name": "stderr",
     "output_type": "stream",
     "text": [
      "Generating Offspring: 100%|████████████████████████████████████████████████████████████████████████████████████████████████████████████████████████████| 30/30 [00:06<00:00,  4.84it/s]\n",
      "Calculating fitnesses: 100%|███████████████████████████████████████████████████████████████████████████████████████████████████████████████████████████| 50/50 [00:02<00:00, 23.75it/s]\n"
     ]
    },
    {
     "name": "stdout",
     "output_type": "stream",
     "text": [
      "[Generation: 51] \n",
      " Average Fitness: 450.4 \n",
      " Best Fitness: 500.0 \n",
      " Worst Fitness: 373.0 \n",
      " Standard Error: 5.744136318091374\n"
     ]
    },
    {
     "name": "stderr",
     "output_type": "stream",
     "text": [
      "Generating Offspring: 100%|████████████████████████████████████████████████████████████████████████████████████████████████████████████████████████████| 30/30 [00:06<00:00,  4.79it/s]\n",
      "Calculating fitnesses: 100%|███████████████████████████████████████████████████████████████████████████████████████████████████████████████████████████| 50/50 [00:02<00:00, 24.41it/s]\n"
     ]
    },
    {
     "name": "stdout",
     "output_type": "stream",
     "text": [
      "[Generation: 52] \n",
      " Average Fitness: 438.88 \n",
      " Best Fitness: 500.0 \n",
      " Worst Fitness: 212.0 \n",
      " Standard Error: 8.494590835901853\n"
     ]
    },
    {
     "name": "stderr",
     "output_type": "stream",
     "text": [
      "Generating Offspring: 100%|████████████████████████████████████████████████████████████████████████████████████████████████████████████████████████████| 30/30 [00:06<00:00,  4.77it/s]\n",
      "Calculating fitnesses: 100%|███████████████████████████████████████████████████████████████████████████████████████████████████████████████████████████| 50/50 [00:01<00:00, 25.60it/s]\n"
     ]
    },
    {
     "name": "stdout",
     "output_type": "stream",
     "text": [
      "[Generation: 53] \n",
      " Average Fitness: 427.6 \n",
      " Best Fitness: 500.0 \n",
      " Worst Fitness: 12.0 \n",
      " Standard Error: 11.28119258422836\n"
     ]
    },
    {
     "name": "stderr",
     "output_type": "stream",
     "text": [
      "Generating Offspring: 100%|████████████████████████████████████████████████████████████████████████████████████████████████████████████████████████████| 30/30 [00:05<00:00,  5.09it/s]\n",
      "Calculating fitnesses: 100%|███████████████████████████████████████████████████████████████████████████████████████████████████████████████████████████| 50/50 [00:02<00:00, 24.52it/s]\n"
     ]
    },
    {
     "name": "stdout",
     "output_type": "stream",
     "text": [
      "[Generation: 54] \n",
      " Average Fitness: 436.7 \n",
      " Best Fitness: 500.0 \n",
      " Worst Fitness: 84.0 \n",
      " Standard Error: 9.04863277528936\n"
     ]
    },
    {
     "name": "stderr",
     "output_type": "stream",
     "text": [
      "Generating Offspring: 100%|████████████████████████████████████████████████████████████████████████████████████████████████████████████████████████████| 30/30 [00:06<00:00,  4.79it/s]\n",
      "Calculating fitnesses: 100%|███████████████████████████████████████████████████████████████████████████████████████████████████████████████████████████| 50/50 [00:02<00:00, 23.92it/s]\n"
     ]
    },
    {
     "name": "stdout",
     "output_type": "stream",
     "text": [
      "[Generation: 55] \n",
      " Average Fitness: 440.5 \n",
      " Best Fitness: 500.0 \n",
      " Worst Fitness: 26.0 \n",
      " Standard Error: 10.411581071487811\n"
     ]
    },
    {
     "name": "stderr",
     "output_type": "stream",
     "text": [
      "Generating Offspring: 100%|████████████████████████████████████████████████████████████████████████████████████████████████████████████████████████████| 30/30 [00:06<00:00,  4.94it/s]\n",
      "Calculating fitnesses: 100%|███████████████████████████████████████████████████████████████████████████████████████████████████████████████████████████| 50/50 [00:02<00:00, 22.35it/s]\n"
     ]
    },
    {
     "name": "stdout",
     "output_type": "stream",
     "text": [
      "[Generation: 56] \n",
      " Average Fitness: 470.06 \n",
      " Best Fitness: 500.0 \n",
      " Worst Fitness: 377.0 \n",
      " Standard Error: 5.10665112517839\n"
     ]
    },
    {
     "name": "stderr",
     "output_type": "stream",
     "text": [
      "Generating Offspring: 100%|████████████████████████████████████████████████████████████████████████████████████████████████████████████████████████████| 30/30 [00:06<00:00,  4.58it/s]\n",
      "Calculating fitnesses: 100%|███████████████████████████████████████████████████████████████████████████████████████████████████████████████████████████| 50/50 [00:02<00:00, 21.84it/s]\n"
     ]
    },
    {
     "name": "stdout",
     "output_type": "stream",
     "text": [
      "[Generation: 57] \n",
      " Average Fitness: 485.96 \n",
      " Best Fitness: 500.0 \n",
      " Worst Fitness: 357.0 \n",
      " Standard Error: 5.027431689019266\n"
     ]
    },
    {
     "name": "stderr",
     "output_type": "stream",
     "text": [
      "Generating Offspring: 100%|████████████████████████████████████████████████████████████████████████████████████████████████████████████████████████████| 30/30 [00:06<00:00,  4.42it/s]\n",
      "Calculating fitnesses: 100%|███████████████████████████████████████████████████████████████████████████████████████████████████████████████████████████| 50/50 [00:02<00:00, 21.50it/s]\n"
     ]
    },
    {
     "name": "stdout",
     "output_type": "stream",
     "text": [
      "[Generation: 58] \n",
      " Average Fitness: 485.14 \n",
      " Best Fitness: 500.0 \n",
      " Worst Fitness: 10.0 \n",
      " Standard Error: 10.075835307450054\n"
     ]
    },
    {
     "name": "stderr",
     "output_type": "stream",
     "text": [
      "Generating Offspring: 100%|████████████████████████████████████████████████████████████████████████████████████████████████████████████████████████████| 30/30 [00:06<00:00,  4.36it/s]\n",
      "Calculating fitnesses: 100%|███████████████████████████████████████████████████████████████████████████████████████████████████████████████████████████| 50/50 [00:02<00:00, 21.11it/s]\n"
     ]
    },
    {
     "name": "stdout",
     "output_type": "stream",
     "text": [
      "[Generation: 59] \n",
      " Average Fitness: 498.24 \n",
      " Best Fitness: 500.0 \n",
      " Worst Fitness: 473.0 \n",
      " Standard Error: 0.8357130647121728\n"
     ]
    },
    {
     "name": "stderr",
     "output_type": "stream",
     "text": [
      "Generating Offspring: 100%|████████████████████████████████████████████████████████████████████████████████████████████████████████████████████████████| 30/30 [00:07<00:00,  4.28it/s]\n",
      "Calculating fitnesses: 100%|███████████████████████████████████████████████████████████████████████████████████████████████████████████████████████████| 50/50 [00:02<00:00, 21.98it/s]\n"
     ]
    },
    {
     "name": "stdout",
     "output_type": "stream",
     "text": [
      "[Generation: 60] \n",
      " Average Fitness: 478.46 \n",
      " Best Fitness: 500.0 \n",
      " Worst Fitness: 13.0 \n",
      " Standard Error: 13.646654968772921\n"
     ]
    },
    {
     "name": "stderr",
     "output_type": "stream",
     "text": [
      "Generating Offspring: 100%|████████████████████████████████████████████████████████████████████████████████████████████████████████████████████████████| 30/30 [00:06<00:00,  4.44it/s]\n",
      "Calculating fitnesses: 100%|███████████████████████████████████████████████████████████████████████████████████████████████████████████████████████████| 50/50 [00:02<00:00, 22.07it/s]\n"
     ]
    },
    {
     "name": "stdout",
     "output_type": "stream",
     "text": [
      "[Generation: 61] \n",
      " Average Fitness: 484.42 \n",
      " Best Fitness: 500.0 \n",
      " Worst Fitness: 10.0 \n",
      " Standard Error: 10.939092601252423\n"
     ]
    },
    {
     "name": "stderr",
     "output_type": "stream",
     "text": [
      "Generating Offspring: 100%|████████████████████████████████████████████████████████████████████████████████████████████████████████████████████████████| 30/30 [00:06<00:00,  4.53it/s]\n",
      "Calculating fitnesses: 100%|███████████████████████████████████████████████████████████████████████████████████████████████████████████████████████████| 50/50 [00:02<00:00, 21.01it/s]\n"
     ]
    },
    {
     "name": "stdout",
     "output_type": "stream",
     "text": [
      "[Generation: 62] \n",
      " Average Fitness: 499.36 \n",
      " Best Fitness: 500.0 \n",
      " Worst Fitness: 469.0 \n",
      " Standard Error: 0.6199144114722777\n"
     ]
    },
    {
     "name": "stderr",
     "output_type": "stream",
     "text": [
      "Generating Offspring: 100%|████████████████████████████████████████████████████████████████████████████████████████████████████████████████████████████| 30/30 [00:07<00:00,  4.28it/s]\n",
      "Calculating fitnesses: 100%|███████████████████████████████████████████████████████████████████████████████████████████████████████████████████████████| 50/50 [00:02<00:00, 21.38it/s]\n"
     ]
    },
    {
     "name": "stdout",
     "output_type": "stream",
     "text": [
      "[Generation: 63] \n",
      " Average Fitness: 498.66 \n",
      " Best Fitness: 500.0 \n",
      " Worst Fitness: 460.0 \n",
      " Standard Error: 0.9078388780898451\n"
     ]
    },
    {
     "name": "stderr",
     "output_type": "stream",
     "text": [
      "Generating Offspring: 100%|████████████████████████████████████████████████████████████████████████████████████████████████████████████████████████████| 30/30 [00:07<00:00,  4.28it/s]\n",
      "Calculating fitnesses: 100%|███████████████████████████████████████████████████████████████████████████████████████████████████████████████████████████| 50/50 [00:02<00:00, 21.67it/s]\n"
     ]
    },
    {
     "name": "stdout",
     "output_type": "stream",
     "text": [
      "[Generation: 64] \n",
      " Average Fitness: 499.14 \n",
      " Best Fitness: 500.0 \n",
      " Worst Fitness: 457.0 \n",
      " Standard Error: 0.86\n"
     ]
    },
    {
     "name": "stderr",
     "output_type": "stream",
     "text": [
      "Generating Offspring: 100%|████████████████████████████████████████████████████████████████████████████████████████████████████████████████████████████| 30/30 [00:06<00:00,  4.30it/s]\n",
      "Calculating fitnesses: 100%|███████████████████████████████████████████████████████████████████████████████████████████████████████████████████████████| 50/50 [00:02<00:00, 21.49it/s]\n"
     ]
    },
    {
     "name": "stdout",
     "output_type": "stream",
     "text": [
      "[Generation: 65] \n",
      " Average Fitness: 486.56 \n",
      " Best Fitness: 500.0 \n",
      " Worst Fitness: 75.0 \n",
      " Standard Error: 9.38357923095838\n"
     ]
    },
    {
     "name": "stderr",
     "output_type": "stream",
     "text": [
      "Generating Offspring: 100%|████████████████████████████████████████████████████████████████████████████████████████████████████████████████████████████| 30/30 [00:06<00:00,  4.40it/s]\n",
      "Calculating fitnesses: 100%|███████████████████████████████████████████████████████████████████████████████████████████████████████████████████████████| 50/50 [00:02<00:00, 21.30it/s]\n"
     ]
    },
    {
     "name": "stdout",
     "output_type": "stream",
     "text": [
      "[Generation: 66] \n",
      " Average Fitness: 497.18 \n",
      " Best Fitness: 500.0 \n",
      " Worst Fitness: 450.0 \n",
      " Standard Error: 1.3148104542527204\n"
     ]
    },
    {
     "name": "stderr",
     "output_type": "stream",
     "text": [
      "Generating Offspring: 100%|████████████████████████████████████████████████████████████████████████████████████████████████████████████████████████████| 30/30 [00:06<00:00,  4.29it/s]\n",
      "Calculating fitnesses: 100%|███████████████████████████████████████████████████████████████████████████████████████████████████████████████████████████| 50/50 [00:02<00:00, 21.96it/s]\n"
     ]
    },
    {
     "name": "stdout",
     "output_type": "stream",
     "text": [
      "[Generation: 67] \n",
      " Average Fitness: 487.26 \n",
      " Best Fitness: 500.0 \n",
      " Worst Fitness: 173.0 \n",
      " Standard Error: 8.239269335546295\n"
     ]
    },
    {
     "name": "stderr",
     "output_type": "stream",
     "text": [
      "Generating Offspring: 100%|████████████████████████████████████████████████████████████████████████████████████████████████████████████████████████████| 30/30 [00:06<00:00,  4.37it/s]\n",
      "Calculating fitnesses: 100%|███████████████████████████████████████████████████████████████████████████████████████████████████████████████████████████| 50/50 [00:02<00:00, 22.53it/s]\n"
     ]
    },
    {
     "name": "stdout",
     "output_type": "stream",
     "text": [
      "[Generation: 68] \n",
      " Average Fitness: 476.8 \n",
      " Best Fitness: 500.0 \n",
      " Worst Fitness: 22.0 \n",
      " Standard Error: 13.436107307990538\n"
     ]
    },
    {
     "name": "stderr",
     "output_type": "stream",
     "text": [
      "Generating Offspring: 100%|████████████████████████████████████████████████████████████████████████████████████████████████████████████████████████████| 30/30 [00:06<00:00,  4.59it/s]\n",
      "Calculating fitnesses: 100%|███████████████████████████████████████████████████████████████████████████████████████████████████████████████████████████| 50/50 [00:02<00:00, 22.36it/s]\n"
     ]
    },
    {
     "name": "stdout",
     "output_type": "stream",
     "text": [
      "[Generation: 69] \n",
      " Average Fitness: 479.58 \n",
      " Best Fitness: 500.0 \n",
      " Worst Fitness: 25.0 \n",
      " Standard Error: 11.122879160375991\n"
     ]
    },
    {
     "name": "stderr",
     "output_type": "stream",
     "text": [
      "Generating Offspring: 100%|████████████████████████████████████████████████████████████████████████████████████████████████████████████████████████████| 30/30 [00:06<00:00,  4.32it/s]\n",
      "Calculating fitnesses: 100%|███████████████████████████████████████████████████████████████████████████████████████████████████████████████████████████| 50/50 [00:02<00:00, 21.91it/s]\n"
     ]
    },
    {
     "name": "stdout",
     "output_type": "stream",
     "text": [
      "[Generation: 70] \n",
      " Average Fitness: 497.6 \n",
      " Best Fitness: 500.0 \n",
      " Worst Fitness: 461.0 \n",
      " Standard Error: 1.2027180102770965\n"
     ]
    },
    {
     "name": "stderr",
     "output_type": "stream",
     "text": [
      "Generating Offspring: 100%|████████████████████████████████████████████████████████████████████████████████████████████████████████████████████████████| 30/30 [00:06<00:00,  4.30it/s]\n",
      "Calculating fitnesses: 100%|███████████████████████████████████████████████████████████████████████████████████████████████████████████████████████████| 50/50 [00:02<00:00, 22.16it/s]\n"
     ]
    },
    {
     "name": "stdout",
     "output_type": "stream",
     "text": [
      "[Generation: 71] \n",
      " Average Fitness: 486.82 \n",
      " Best Fitness: 500.0 \n",
      " Worst Fitness: 11.0 \n",
      " Standard Error: 10.030634301468472\n"
     ]
    },
    {
     "name": "stderr",
     "output_type": "stream",
     "text": [
      "Generating Offspring: 100%|████████████████████████████████████████████████████████████████████████████████████████████████████████████████████████████| 30/30 [00:06<00:00,  4.31it/s]\n",
      "Calculating fitnesses: 100%|███████████████████████████████████████████████████████████████████████████████████████████████████████████████████████████| 50/50 [00:02<00:00, 22.14it/s]\n"
     ]
    },
    {
     "name": "stdout",
     "output_type": "stream",
     "text": [
      "[Generation: 72] \n",
      " Average Fitness: 498.3 \n",
      " Best Fitness: 500.0 \n",
      " Worst Fitness: 455.0 \n",
      " Standard Error: 0.992317427817843\n"
     ]
    },
    {
     "name": "stderr",
     "output_type": "stream",
     "text": [
      "Generating Offspring: 100%|████████████████████████████████████████████████████████████████████████████████████████████████████████████████████████████| 30/30 [00:07<00:00,  4.27it/s]\n",
      "Calculating fitnesses: 100%|███████████████████████████████████████████████████████████████████████████████████████████████████████████████████████████| 50/50 [00:02<00:00, 21.62it/s]\n"
     ]
    },
    {
     "name": "stdout",
     "output_type": "stream",
     "text": [
      "[Generation: 73] \n",
      " Average Fitness: 493.56 \n",
      " Best Fitness: 500.0 \n",
      " Worst Fitness: 195.0 \n",
      " Standard Error: 6.098120151961185\n"
     ]
    },
    {
     "name": "stderr",
     "output_type": "stream",
     "text": [
      "Generating Offspring: 100%|████████████████████████████████████████████████████████████████████████████████████████████████████████████████████████████| 30/30 [00:06<00:00,  4.42it/s]\n",
      "Calculating fitnesses: 100%|███████████████████████████████████████████████████████████████████████████████████████████████████████████████████████████| 50/50 [00:02<00:00, 21.50it/s]\n"
     ]
    },
    {
     "name": "stdout",
     "output_type": "stream",
     "text": [
      "[Generation: 74] \n",
      " Average Fitness: 498.52 \n",
      " Best Fitness: 500.0 \n",
      " Worst Fitness: 475.0 \n",
      " Standard Error: 0.7528124139599751\n"
     ]
    },
    {
     "name": "stderr",
     "output_type": "stream",
     "text": [
      "Generating Offspring: 100%|████████████████████████████████████████████████████████████████████████████████████████████████████████████████████████████| 30/30 [00:07<00:00,  4.26it/s]\n",
      "Calculating fitnesses: 100%|███████████████████████████████████████████████████████████████████████████████████████████████████████████████████████████| 50/50 [00:02<00:00, 21.86it/s]\n"
     ]
    },
    {
     "name": "stdout",
     "output_type": "stream",
     "text": [
      "[Generation: 75] \n",
      " Average Fitness: 482.98 \n",
      " Best Fitness: 500.0 \n",
      " Worst Fitness: 23.0 \n",
      " Standard Error: 11.383894459332645\n"
     ]
    },
    {
     "name": "stderr",
     "output_type": "stream",
     "text": [
      "Generating Offspring: 100%|████████████████████████████████████████████████████████████████████████████████████████████████████████████████████████████| 30/30 [00:06<00:00,  4.39it/s]\n",
      "Calculating fitnesses: 100%|███████████████████████████████████████████████████████████████████████████████████████████████████████████████████████████| 50/50 [00:02<00:00, 21.23it/s]\n"
     ]
    },
    {
     "name": "stdout",
     "output_type": "stream",
     "text": [
      "[Generation: 76] \n",
      " Average Fitness: 495.1 \n",
      " Best Fitness: 500.0 \n",
      " Worst Fitness: 407.0 \n",
      " Standard Error: 2.3642317645981104\n"
     ]
    },
    {
     "name": "stderr",
     "output_type": "stream",
     "text": [
      "Generating Offspring: 100%|████████████████████████████████████████████████████████████████████████████████████████████████████████████████████████████| 30/30 [00:06<00:00,  4.34it/s]\n",
      "Calculating fitnesses: 100%|███████████████████████████████████████████████████████████████████████████████████████████████████████████████████████████| 50/50 [00:02<00:00, 20.87it/s]\n"
     ]
    },
    {
     "name": "stdout",
     "output_type": "stream",
     "text": [
      "[Generation: 77] \n",
      " Average Fitness: 498.16 \n",
      " Best Fitness: 500.0 \n",
      " Worst Fitness: 427.0 \n",
      " Standard Error: 1.4797572884270789\n"
     ]
    },
    {
     "name": "stderr",
     "output_type": "stream",
     "text": [
      "Generating Offspring: 100%|████████████████████████████████████████████████████████████████████████████████████████████████████████████████████████████| 30/30 [00:06<00:00,  4.30it/s]\n",
      "Calculating fitnesses: 100%|███████████████████████████████████████████████████████████████████████████████████████████████████████████████████████████| 50/50 [00:02<00:00, 22.00it/s]\n"
     ]
    },
    {
     "name": "stdout",
     "output_type": "stream",
     "text": [
      "[Generation: 78] \n",
      " Average Fitness: 490.48 \n",
      " Best Fitness: 500.0 \n",
      " Worst Fitness: 234.0 \n",
      " Standard Error: 6.1570759028510755\n"
     ]
    },
    {
     "name": "stderr",
     "output_type": "stream",
     "text": [
      "Generating Offspring: 100%|████████████████████████████████████████████████████████████████████████████████████████████████████████████████████████████| 30/30 [00:06<00:00,  4.33it/s]\n",
      "Calculating fitnesses: 100%|███████████████████████████████████████████████████████████████████████████████████████████████████████████████████████████| 50/50 [00:02<00:00, 21.22it/s]\n"
     ]
    },
    {
     "name": "stdout",
     "output_type": "stream",
     "text": [
      "[Generation: 79] \n",
      " Average Fitness: 496.66 \n",
      " Best Fitness: 500.0 \n",
      " Worst Fitness: 437.0 \n",
      " Standard Error: 1.67176065077193\n"
     ]
    },
    {
     "name": "stderr",
     "output_type": "stream",
     "text": [
      "Generating Offspring: 100%|████████████████████████████████████████████████████████████████████████████████████████████████████████████████████████████| 30/30 [00:06<00:00,  4.31it/s]\n",
      "Calculating fitnesses: 100%|███████████████████████████████████████████████████████████████████████████████████████████████████████████████████████████| 50/50 [00:02<00:00, 20.00it/s]\n"
     ]
    },
    {
     "name": "stdout",
     "output_type": "stream",
     "text": [
      "[Generation: 80] \n",
      " Average Fitness: 495.56 \n",
      " Best Fitness: 500.0 \n",
      " Worst Fitness: 283.0 \n",
      " Standard Error: 4.339111166389461\n"
     ]
    },
    {
     "name": "stderr",
     "output_type": "stream",
     "text": [
      "Generating Offspring: 100%|████████████████████████████████████████████████████████████████████████████████████████████████████████████████████████████| 30/30 [00:07<00:00,  4.11it/s]\n",
      "Calculating fitnesses: 100%|███████████████████████████████████████████████████████████████████████████████████████████████████████████████████████████| 50/50 [00:02<00:00, 20.63it/s]\n"
     ]
    },
    {
     "name": "stdout",
     "output_type": "stream",
     "text": [
      "[Generation: 81] \n",
      " Average Fitness: 496.54 \n",
      " Best Fitness: 500.0 \n",
      " Worst Fitness: 447.0 \n",
      " Standard Error: 1.7269082908185829\n"
     ]
    },
    {
     "name": "stderr",
     "output_type": "stream",
     "text": [
      "Generating Offspring: 100%|████████████████████████████████████████████████████████████████████████████████████████████████████████████████████████████| 30/30 [00:07<00:00,  4.05it/s]\n",
      "Calculating fitnesses: 100%|███████████████████████████████████████████████████████████████████████████████████████████████████████████████████████████| 50/50 [00:02<00:00, 20.42it/s]\n"
     ]
    },
    {
     "name": "stdout",
     "output_type": "stream",
     "text": [
      "[Generation: 82] \n",
      " Average Fitness: 498.02 \n",
      " Best Fitness: 500.0 \n",
      " Worst Fitness: 442.0 \n",
      " Standard Error: 1.2934655237865793\n"
     ]
    },
    {
     "name": "stderr",
     "output_type": "stream",
     "text": [
      "Generating Offspring: 100%|████████████████████████████████████████████████████████████████████████████████████████████████████████████████████████████| 30/30 [00:07<00:00,  4.08it/s]\n",
      "Calculating fitnesses: 100%|███████████████████████████████████████████████████████████████████████████████████████████████████████████████████████████| 50/50 [00:02<00:00, 20.75it/s]\n"
     ]
    },
    {
     "name": "stdout",
     "output_type": "stream",
     "text": [
      "[Generation: 83] \n",
      " Average Fitness: 490.16 \n",
      " Best Fitness: 500.0 \n",
      " Worst Fitness: 57.0 \n",
      " Standard Error: 8.894132897590412\n"
     ]
    },
    {
     "name": "stderr",
     "output_type": "stream",
     "text": [
      "Generating Offspring: 100%|████████████████████████████████████████████████████████████████████████████████████████████████████████████████████████████| 30/30 [00:07<00:00,  4.18it/s]\n",
      "Calculating fitnesses: 100%|███████████████████████████████████████████████████████████████████████████████████████████████████████████████████████████| 50/50 [00:02<00:00, 20.54it/s]\n"
     ]
    },
    {
     "name": "stdout",
     "output_type": "stream",
     "text": [
      "[Generation: 84] \n",
      " Average Fitness: 497.2 \n",
      " Best Fitness: 500.0 \n",
      " Worst Fitness: 456.0 \n",
      " Standard Error: 1.3251107000348834\n"
     ]
    },
    {
     "name": "stderr",
     "output_type": "stream",
     "text": [
      "Generating Offspring: 100%|████████████████████████████████████████████████████████████████████████████████████████████████████████████████████████████| 30/30 [00:07<00:00,  4.17it/s]\n",
      "Calculating fitnesses: 100%|███████████████████████████████████████████████████████████████████████████████████████████████████████████████████████████| 50/50 [00:02<00:00, 20.46it/s]\n"
     ]
    },
    {
     "name": "stdout",
     "output_type": "stream",
     "text": [
      "[Generation: 85] \n",
      " Average Fitness: 493.92 \n",
      " Best Fitness: 500.0 \n",
      " Worst Fitness: 252.0 \n",
      " Standard Error: 4.978963091788064\n"
     ]
    },
    {
     "name": "stderr",
     "output_type": "stream",
     "text": [
      "Generating Offspring: 100%|████████████████████████████████████████████████████████████████████████████████████████████████████████████████████████████| 30/30 [00:07<00:00,  4.06it/s]\n",
      "Calculating fitnesses: 100%|███████████████████████████████████████████████████████████████████████████████████████████████████████████████████████████| 50/50 [00:02<00:00, 20.62it/s]\n"
     ]
    },
    {
     "name": "stdout",
     "output_type": "stream",
     "text": [
      "[Generation: 86] \n",
      " Average Fitness: 486.3 \n",
      " Best Fitness: 500.0 \n",
      " Worst Fitness: 11.0 \n",
      " Standard Error: 9.998377419382015\n"
     ]
    },
    {
     "name": "stderr",
     "output_type": "stream",
     "text": [
      "Generating Offspring: 100%|████████████████████████████████████████████████████████████████████████████████████████████████████████████████████████████| 30/30 [00:06<00:00,  4.31it/s]\n",
      "Calculating fitnesses: 100%|███████████████████████████████████████████████████████████████████████████████████████████████████████████████████████████| 50/50 [00:02<00:00, 22.07it/s]\n"
     ]
    },
    {
     "name": "stdout",
     "output_type": "stream",
     "text": [
      "[Generation: 87] \n",
      " Average Fitness: 483.2 \n",
      " Best Fitness: 500.0 \n",
      " Worst Fitness: 16.0 \n",
      " Standard Error: 10.890400191293734\n"
     ]
    },
    {
     "name": "stderr",
     "output_type": "stream",
     "text": [
      "Generating Offspring: 100%|████████████████████████████████████████████████████████████████████████████████████████████████████████████████████████████| 30/30 [00:06<00:00,  4.38it/s]\n",
      "Calculating fitnesses: 100%|███████████████████████████████████████████████████████████████████████████████████████████████████████████████████████████| 50/50 [00:02<00:00, 22.15it/s]\n"
     ]
    },
    {
     "name": "stdout",
     "output_type": "stream",
     "text": [
      "[Generation: 88] \n",
      " Average Fitness: 486.92 \n",
      " Best Fitness: 500.0 \n",
      " Worst Fitness: 27.0 \n",
      " Standard Error: 9.524997830628067\n"
     ]
    },
    {
     "name": "stderr",
     "output_type": "stream",
     "text": [
      "Generating Offspring: 100%|████████████████████████████████████████████████████████████████████████████████████████████████████████████████████████████| 30/30 [00:06<00:00,  4.37it/s]\n",
      "Calculating fitnesses: 100%|███████████████████████████████████████████████████████████████████████████████████████████████████████████████████████████| 50/50 [00:02<00:00, 22.08it/s]\n"
     ]
    },
    {
     "name": "stdout",
     "output_type": "stream",
     "text": [
      "[Generation: 89] \n",
      " Average Fitness: 491.24 \n",
      " Best Fitness: 500.0 \n",
      " Worst Fitness: 179.0 \n",
      " Standard Error: 6.510936482377248\n"
     ]
    },
    {
     "name": "stderr",
     "output_type": "stream",
     "text": [
      "Generating Offspring: 100%|████████████████████████████████████████████████████████████████████████████████████████████████████████████████████████████| 30/30 [00:06<00:00,  4.37it/s]\n",
      "Calculating fitnesses: 100%|███████████████████████████████████████████████████████████████████████████████████████████████████████████████████████████| 50/50 [00:02<00:00, 21.58it/s]\n"
     ]
    },
    {
     "name": "stdout",
     "output_type": "stream",
     "text": [
      "[Generation: 90] \n",
      " Average Fitness: 487.86 \n",
      " Best Fitness: 500.0 \n",
      " Worst Fitness: 9.0 \n",
      " Standard Error: 9.8717907727638\n"
     ]
    },
    {
     "name": "stderr",
     "output_type": "stream",
     "text": [
      "Generating Offspring: 100%|████████████████████████████████████████████████████████████████████████████████████████████████████████████████████████████| 30/30 [00:06<00:00,  4.47it/s]\n",
      "Calculating fitnesses: 100%|███████████████████████████████████████████████████████████████████████████████████████████████████████████████████████████| 50/50 [00:02<00:00, 21.31it/s]\n"
     ]
    },
    {
     "name": "stdout",
     "output_type": "stream",
     "text": [
      "[Generation: 91] \n",
      " Average Fitness: 492.54 \n",
      " Best Fitness: 500.0 \n",
      " Worst Fitness: 221.0 \n",
      " Standard Error: 5.626700921970717\n"
     ]
    },
    {
     "name": "stderr",
     "output_type": "stream",
     "text": [
      "Generating Offspring: 100%|████████████████████████████████████████████████████████████████████████████████████████████████████████████████████████████| 30/30 [00:06<00:00,  4.49it/s]\n",
      "Calculating fitnesses: 100%|███████████████████████████████████████████████████████████████████████████████████████████████████████████████████████████| 50/50 [00:02<00:00, 21.14it/s]\n"
     ]
    },
    {
     "name": "stdout",
     "output_type": "stream",
     "text": [
      "[Generation: 92] \n",
      " Average Fitness: 498.08 \n",
      " Best Fitness: 500.0 \n",
      " Worst Fitness: 457.0 \n",
      " Standard Error: 1.1112926835768462\n"
     ]
    },
    {
     "name": "stderr",
     "output_type": "stream",
     "text": [
      "Generating Offspring: 100%|████████████████████████████████████████████████████████████████████████████████████████████████████████████████████████████| 30/30 [00:06<00:00,  4.32it/s]\n",
      "Calculating fitnesses: 100%|███████████████████████████████████████████████████████████████████████████████████████████████████████████████████████████| 50/50 [00:02<00:00, 21.12it/s]\n"
     ]
    },
    {
     "name": "stdout",
     "output_type": "stream",
     "text": [
      "[Generation: 93] \n",
      " Average Fitness: 499.3 \n",
      " Best Fitness: 500.0 \n",
      " Worst Fitness: 468.0 \n",
      " Standard Error: 0.6415860449395892\n"
     ]
    },
    {
     "name": "stderr",
     "output_type": "stream",
     "text": [
      "Generating Offspring: 100%|████████████████████████████████████████████████████████████████████████████████████████████████████████████████████████████| 30/30 [00:06<00:00,  4.30it/s]\n",
      "Calculating fitnesses: 100%|███████████████████████████████████████████████████████████████████████████████████████████████████████████████████████████| 50/50 [00:02<00:00, 22.06it/s]\n"
     ]
    },
    {
     "name": "stdout",
     "output_type": "stream",
     "text": [
      "[Generation: 94] \n",
      " Average Fitness: 488.94 \n",
      " Best Fitness: 500.0 \n",
      " Worst Fitness: 167.0 \n",
      " Standard Error: 6.79570152255626\n"
     ]
    },
    {
     "name": "stderr",
     "output_type": "stream",
     "text": [
      "Generating Offspring: 100%|████████████████████████████████████████████████████████████████████████████████████████████████████████████████████████████| 30/30 [00:06<00:00,  4.34it/s]\n",
      "Calculating fitnesses: 100%|███████████████████████████████████████████████████████████████████████████████████████████████████████████████████████████| 50/50 [00:02<00:00, 21.72it/s]\n"
     ]
    },
    {
     "name": "stdout",
     "output_type": "stream",
     "text": [
      "[Generation: 95] \n",
      " Average Fitness: 498.02 \n",
      " Best Fitness: 500.0 \n",
      " Worst Fitness: 465.0 \n",
      " Standard Error: 1.0215993863165977\n"
     ]
    },
    {
     "name": "stderr",
     "output_type": "stream",
     "text": [
      "Generating Offspring: 100%|████████████████████████████████████████████████████████████████████████████████████████████████████████████████████████████| 30/30 [00:06<00:00,  4.39it/s]\n",
      "Calculating fitnesses: 100%|███████████████████████████████████████████████████████████████████████████████████████████████████████████████████████████| 50/50 [00:02<00:00, 21.40it/s]\n"
     ]
    },
    {
     "name": "stdout",
     "output_type": "stream",
     "text": [
      "[Generation: 96] \n",
      " Average Fitness: 498.96 \n",
      " Best Fitness: 500.0 \n",
      " Worst Fitness: 466.0 \n",
      " Standard Error: 0.7205213531937574\n"
     ]
    },
    {
     "name": "stderr",
     "output_type": "stream",
     "text": [
      "Generating Offspring: 100%|████████████████████████████████████████████████████████████████████████████████████████████████████████████████████████████| 30/30 [00:06<00:00,  4.33it/s]\n",
      "Calculating fitnesses: 100%|███████████████████████████████████████████████████████████████████████████████████████████████████████████████████████████| 50/50 [00:02<00:00, 21.21it/s]\n"
     ]
    },
    {
     "name": "stdout",
     "output_type": "stream",
     "text": [
      "[Generation: 97] \n",
      " Average Fitness: 498.66 \n",
      " Best Fitness: 500.0 \n",
      " Worst Fitness: 441.0 \n",
      " Standard Error: 1.182391212582298\n"
     ]
    },
    {
     "name": "stderr",
     "output_type": "stream",
     "text": [
      "Generating Offspring: 100%|████████████████████████████████████████████████████████████████████████████████████████████████████████████████████████████| 30/30 [00:06<00:00,  4.32it/s]\n",
      "Calculating fitnesses: 100%|███████████████████████████████████████████████████████████████████████████████████████████████████████████████████████████| 50/50 [00:02<00:00, 21.72it/s]\n"
     ]
    },
    {
     "name": "stdout",
     "output_type": "stream",
     "text": [
      "[Generation: 98] \n",
      " Average Fitness: 495.5 \n",
      " Best Fitness: 500.0 \n",
      " Worst Fitness: 341.0 \n",
      " Standard Error: 3.243738080470413\n"
     ]
    },
    {
     "name": "stderr",
     "output_type": "stream",
     "text": [
      "Generating Offspring: 100%|████████████████████████████████████████████████████████████████████████████████████████████████████████████████████████████| 30/30 [00:06<00:00,  4.40it/s]\n",
      "Calculating fitnesses: 100%|███████████████████████████████████████████████████████████████████████████████████████████████████████████████████████████| 50/50 [00:02<00:00, 22.45it/s]\n"
     ]
    },
    {
     "name": "stdout",
     "output_type": "stream",
     "text": [
      "[Generation: 99] \n",
      " Average Fitness: 487.9 \n",
      " Best Fitness: 500.0 \n",
      " Worst Fitness: 35.0 \n",
      " Standard Error: 9.323844788103942\n"
     ]
    },
    {
     "name": "stderr",
     "output_type": "stream",
     "text": [
      "Generating Offspring: 100%|████████████████████████████████████████████████████████████████████████████████████████████████████████████████████████████| 30/30 [00:06<00:00,  4.38it/s]\n",
      "Calculating fitnesses: 100%|███████████████████████████████████████████████████████████████████████████████████████████████████████████████████████████| 50/50 [00:02<00:00, 22.23it/s]\n"
     ]
    },
    {
     "name": "stdout",
     "output_type": "stream",
     "text": [
      "[Generation: 100] \n",
      " Average Fitness: 492.44 \n",
      " Best Fitness: 500.0 \n",
      " Worst Fitness: 148.0 \n",
      " Standard Error: 7.048587063506893\n"
     ]
    },
    {
     "name": "stderr",
     "output_type": "stream",
     "text": [
      "Generating Offspring: 100%|████████████████████████████████████████████████████████████████████████████████████████████████████████████████████████████| 30/30 [00:06<00:00,  4.37it/s]\n",
      "Calculating fitnesses: 100%|███████████████████████████████████████████████████████████████████████████████████████████████████████████████████████████| 50/50 [00:02<00:00, 22.00it/s]\n"
     ]
    },
    {
     "name": "stdout",
     "output_type": "stream",
     "text": [
      "[Generation: 101] \n",
      " Average Fitness: 487.52 \n",
      " Best Fitness: 500.0 \n",
      " Worst Fitness: 10.0 \n",
      " Standard Error: 9.822142415616515\n"
     ]
    },
    {
     "name": "stderr",
     "output_type": "stream",
     "text": [
      "Generating Offspring: 100%|████████████████████████████████████████████████████████████████████████████████████████████████████████████████████████████| 30/30 [00:06<00:00,  4.39it/s]\n",
      "Calculating fitnesses: 100%|███████████████████████████████████████████████████████████████████████████████████████████████████████████████████████████| 50/50 [00:02<00:00, 21.27it/s]\n"
     ]
    },
    {
     "name": "stdout",
     "output_type": "stream",
     "text": [
      "[Generation: 102] \n",
      " Average Fitness: 499.42 \n",
      " Best Fitness: 500.0 \n",
      " Worst Fitness: 483.0 \n",
      " Standard Error: 0.4121521415146378\n"
     ]
    },
    {
     "name": "stderr",
     "output_type": "stream",
     "text": [
      "Generating Offspring: 100%|████████████████████████████████████████████████████████████████████████████████████████████████████████████████████████████| 30/30 [00:06<00:00,  4.31it/s]\n",
      "Calculating fitnesses: 100%|███████████████████████████████████████████████████████████████████████████████████████████████████████████████████████████| 50/50 [00:02<00:00, 21.95it/s]\n"
     ]
    },
    {
     "name": "stdout",
     "output_type": "stream",
     "text": [
      "[Generation: 103] \n",
      " Average Fitness: 493.1 \n",
      " Best Fitness: 500.0 \n",
      " Worst Fitness: 351.0 \n",
      " Standard Error: 3.4240744317677607\n"
     ]
    },
    {
     "name": "stderr",
     "output_type": "stream",
     "text": [
      "Generating Offspring: 100%|████████████████████████████████████████████████████████████████████████████████████████████████████████████████████████████| 30/30 [00:06<00:00,  4.41it/s]\n",
      "Calculating fitnesses: 100%|███████████████████████████████████████████████████████████████████████████████████████████████████████████████████████████| 50/50 [00:02<00:00, 22.70it/s]\n"
     ]
    },
    {
     "name": "stdout",
     "output_type": "stream",
     "text": [
      "[Generation: 104] \n",
      " Average Fitness: 476.9 \n",
      " Best Fitness: 500.0 \n",
      " Worst Fitness: 87.0 \n",
      " Standard Error: 11.884795637575717\n"
     ]
    },
    {
     "name": "stderr",
     "output_type": "stream",
     "text": [
      "Generating Offspring: 100%|████████████████████████████████████████████████████████████████████████████████████████████████████████████████████████████| 30/30 [00:06<00:00,  4.51it/s]\n",
      "Calculating fitnesses: 100%|███████████████████████████████████████████████████████████████████████████████████████████████████████████████████████████| 50/50 [00:02<00:00, 21.51it/s]\n"
     ]
    },
    {
     "name": "stdout",
     "output_type": "stream",
     "text": [
      "[Generation: 105] \n",
      " Average Fitness: 498.92 \n",
      " Best Fitness: 500.0 \n",
      " Worst Fitness: 469.0 \n",
      " Standard Error: 0.7147655531140035\n"
     ]
    },
    {
     "name": "stderr",
     "output_type": "stream",
     "text": [
      "Generating Offspring: 100%|████████████████████████████████████████████████████████████████████████████████████████████████████████████████████████████| 30/30 [00:06<00:00,  4.32it/s]\n",
      "Calculating fitnesses: 100%|███████████████████████████████████████████████████████████████████████████████████████████████████████████████████████████| 50/50 [00:02<00:00, 21.71it/s]\n"
     ]
    },
    {
     "name": "stdout",
     "output_type": "stream",
     "text": [
      "[Generation: 106] \n",
      " Average Fitness: 492.86 \n",
      " Best Fitness: 500.0 \n",
      " Worst Fitness: 299.0 \n",
      " Standard Error: 4.192024497513714\n"
     ]
    },
    {
     "name": "stderr",
     "output_type": "stream",
     "text": [
      "Generating Offspring: 100%|████████████████████████████████████████████████████████████████████████████████████████████████████████████████████████████| 30/30 [00:06<00:00,  4.36it/s]\n",
      "Calculating fitnesses: 100%|███████████████████████████████████████████████████████████████████████████████████████████████████████████████████████████| 50/50 [00:02<00:00, 21.31it/s]\n"
     ]
    },
    {
     "name": "stdout",
     "output_type": "stream",
     "text": [
      "[Generation: 107] \n",
      " Average Fitness: 488.72 \n",
      " Best Fitness: 500.0 \n",
      " Worst Fitness: 78.0 \n",
      " Standard Error: 8.641383109249139\n"
     ]
    },
    {
     "name": "stderr",
     "output_type": "stream",
     "text": [
      "Generating Offspring: 100%|████████████████████████████████████████████████████████████████████████████████████████████████████████████████████████████| 30/30 [00:06<00:00,  4.37it/s]\n",
      "Calculating fitnesses: 100%|███████████████████████████████████████████████████████████████████████████████████████████████████████████████████████████| 50/50 [00:02<00:00, 22.77it/s]\n"
     ]
    },
    {
     "name": "stdout",
     "output_type": "stream",
     "text": [
      "[Generation: 108] \n",
      " Average Fitness: 487.8 \n",
      " Best Fitness: 500.0 \n",
      " Worst Fitness: 123.0 \n",
      " Standard Error: 8.213279441469982\n"
     ]
    },
    {
     "name": "stderr",
     "output_type": "stream",
     "text": [
      "Generating Offspring: 100%|████████████████████████████████████████████████████████████████████████████████████████████████████████████████████████████| 30/30 [00:06<00:00,  4.32it/s]\n",
      "Calculating fitnesses: 100%|███████████████████████████████████████████████████████████████████████████████████████████████████████████████████████████| 50/50 [00:02<00:00, 21.60it/s]\n"
     ]
    },
    {
     "name": "stdout",
     "output_type": "stream",
     "text": [
      "[Generation: 109] \n",
      " Average Fitness: 487.48 \n",
      " Best Fitness: 500.0 \n",
      " Worst Fitness: 18.0 \n",
      " Standard Error: 9.70546826720454\n"
     ]
    },
    {
     "name": "stderr",
     "output_type": "stream",
     "text": [
      "Generating Offspring: 100%|████████████████████████████████████████████████████████████████████████████████████████████████████████████████████████████| 30/30 [00:06<00:00,  4.33it/s]\n",
      "Calculating fitnesses: 100%|███████████████████████████████████████████████████████████████████████████████████████████████████████████████████████████| 50/50 [00:02<00:00, 20.63it/s]\n"
     ]
    },
    {
     "name": "stdout",
     "output_type": "stream",
     "text": [
      "[Generation: 110] \n",
      " Average Fitness: 499.9 \n",
      " Best Fitness: 500.0 \n",
      " Worst Fitness: 495.0 \n",
      " Standard Error: 0.1\n"
     ]
    },
    {
     "name": "stderr",
     "output_type": "stream",
     "text": [
      "Generating Offspring: 100%|████████████████████████████████████████████████████████████████████████████████████████████████████████████████████████████| 30/30 [00:07<00:00,  4.20it/s]\n",
      "Calculating fitnesses: 100%|███████████████████████████████████████████████████████████████████████████████████████████████████████████████████████████| 50/50 [00:02<00:00, 20.67it/s]\n"
     ]
    },
    {
     "name": "stdout",
     "output_type": "stream",
     "text": [
      "[Generation: 111] \n",
      " Average Fitness: 487.34 \n",
      " Best Fitness: 500.0 \n",
      " Worst Fitness: 199.0 \n",
      " Standard Error: 8.030381595629724\n"
     ]
    },
    {
     "name": "stderr",
     "output_type": "stream",
     "text": [
      "Generating Offspring: 100%|████████████████████████████████████████████████████████████████████████████████████████████████████████████████████████████| 30/30 [00:06<00:00,  4.37it/s]\n",
      "Calculating fitnesses: 100%|███████████████████████████████████████████████████████████████████████████████████████████████████████████████████████████| 50/50 [00:02<00:00, 20.87it/s]\n"
     ]
    },
    {
     "name": "stdout",
     "output_type": "stream",
     "text": [
      "[Generation: 112] \n",
      " Average Fitness: 496.64 \n",
      " Best Fitness: 500.0 \n",
      " Worst Fitness: 395.0 \n",
      " Standard Error: 2.2542042353553233\n"
     ]
    },
    {
     "name": "stderr",
     "output_type": "stream",
     "text": [
      "Generating Offspring: 100%|████████████████████████████████████████████████████████████████████████████████████████████████████████████████████████████| 30/30 [00:07<00:00,  4.21it/s]\n",
      "Calculating fitnesses: 100%|███████████████████████████████████████████████████████████████████████████████████████████████████████████████████████████| 50/50 [00:02<00:00, 21.24it/s]\n"
     ]
    },
    {
     "name": "stdout",
     "output_type": "stream",
     "text": [
      "[Generation: 113] \n",
      " Average Fitness: 480.0 \n",
      " Best Fitness: 500.0 \n",
      " Worst Fitness: 165.0 \n",
      " Standard Error: 9.573901599490915\n"
     ]
    },
    {
     "name": "stderr",
     "output_type": "stream",
     "text": [
      "Generating Offspring: 100%|████████████████████████████████████████████████████████████████████████████████████████████████████████████████████████████| 30/30 [00:06<00:00,  4.39it/s]\n",
      "Calculating fitnesses: 100%|███████████████████████████████████████████████████████████████████████████████████████████████████████████████████████████| 50/50 [00:02<00:00, 20.41it/s]\n"
     ]
    },
    {
     "name": "stdout",
     "output_type": "stream",
     "text": [
      "[Generation: 114] \n",
      " Average Fitness: 497.5 \n",
      " Best Fitness: 500.0 \n",
      " Worst Fitness: 439.0 \n",
      " Standard Error: 1.4249239149039874\n"
     ]
    },
    {
     "name": "stderr",
     "output_type": "stream",
     "text": [
      "Generating Offspring: 100%|████████████████████████████████████████████████████████████████████████████████████████████████████████████████████████████| 30/30 [00:06<00:00,  4.32it/s]\n",
      "Calculating fitnesses: 100%|███████████████████████████████████████████████████████████████████████████████████████████████████████████████████████████| 50/50 [00:02<00:00, 20.83it/s]\n"
     ]
    },
    {
     "name": "stdout",
     "output_type": "stream",
     "text": [
      "[Generation: 115] \n",
      " Average Fitness: 497.8 \n",
      " Best Fitness: 500.0 \n",
      " Worst Fitness: 435.0 \n",
      " Standard Error: 1.565964526405111\n"
     ]
    },
    {
     "name": "stderr",
     "output_type": "stream",
     "text": [
      "Generating Offspring: 100%|████████████████████████████████████████████████████████████████████████████████████████████████████████████████████████████| 30/30 [00:06<00:00,  4.29it/s]\n",
      "Calculating fitnesses: 100%|███████████████████████████████████████████████████████████████████████████████████████████████████████████████████████████| 50/50 [00:02<00:00, 21.33it/s]\n"
     ]
    },
    {
     "name": "stdout",
     "output_type": "stream",
     "text": [
      "[Generation: 116] \n",
      " Average Fitness: 495.94 \n",
      " Best Fitness: 500.0 \n",
      " Worst Fitness: 297.0 \n",
      " Standard Error: 4.06\n"
     ]
    },
    {
     "name": "stderr",
     "output_type": "stream",
     "text": [
      "Generating Offspring: 100%|████████████████████████████████████████████████████████████████████████████████████████████████████████████████████████████| 30/30 [00:06<00:00,  4.29it/s]\n",
      "Calculating fitnesses: 100%|███████████████████████████████████████████████████████████████████████████████████████████████████████████████████████████| 50/50 [00:02<00:00, 20.81it/s]\n"
     ]
    },
    {
     "name": "stdout",
     "output_type": "stream",
     "text": [
      "[Generation: 117] \n",
      " Average Fitness: 496.78 \n",
      " Best Fitness: 500.0 \n",
      " Worst Fitness: 423.0 \n",
      " Standard Error: 1.7996122031239545\n"
     ]
    },
    {
     "name": "stderr",
     "output_type": "stream",
     "text": [
      "Generating Offspring: 100%|████████████████████████████████████████████████████████████████████████████████████████████████████████████████████████████| 30/30 [00:06<00:00,  4.29it/s]\n",
      "Calculating fitnesses: 100%|███████████████████████████████████████████████████████████████████████████████████████████████████████████████████████████| 50/50 [00:02<00:00, 21.00it/s]\n"
     ]
    },
    {
     "name": "stdout",
     "output_type": "stream",
     "text": [
      "[Generation: 118] \n",
      " Average Fitness: 487.7 \n",
      " Best Fitness: 500.0 \n",
      " Worst Fitness: 45.0 \n",
      " Standard Error: 9.189001855590236\n"
     ]
    },
    {
     "name": "stderr",
     "output_type": "stream",
     "text": [
      "Generating Offspring: 100%|████████████████████████████████████████████████████████████████████████████████████████████████████████████████████████████| 30/30 [00:06<00:00,  4.38it/s]\n",
      "Calculating fitnesses: 100%|███████████████████████████████████████████████████████████████████████████████████████████████████████████████████████████| 50/50 [00:02<00:00, 21.84it/s]\n"
     ]
    },
    {
     "name": "stdout",
     "output_type": "stream",
     "text": [
      "[Generation: 119] \n",
      " Average Fitness: 494.36 \n",
      " Best Fitness: 500.0 \n",
      " Worst Fitness: 276.0 \n",
      " Standard Error: 4.4990484254666425\n"
     ]
    },
    {
     "name": "stderr",
     "output_type": "stream",
     "text": [
      "Generating Offspring: 100%|████████████████████████████████████████████████████████████████████████████████████████████████████████████████████████████| 30/30 [00:06<00:00,  4.35it/s]\n",
      "Calculating fitnesses: 100%|███████████████████████████████████████████████████████████████████████████████████████████████████████████████████████████| 50/50 [00:02<00:00, 21.38it/s]\n"
     ]
    },
    {
     "name": "stdout",
     "output_type": "stream",
     "text": [
      "[Generation: 120] \n",
      " Average Fitness: 499.66 \n",
      " Best Fitness: 500.0 \n",
      " Worst Fitness: 487.0 \n",
      " Standard Error: 0.27046445313231693\n"
     ]
    },
    {
     "name": "stderr",
     "output_type": "stream",
     "text": [
      "Generating Offspring: 100%|████████████████████████████████████████████████████████████████████████████████████████████████████████████████████████████| 30/30 [00:07<00:00,  4.25it/s]\n",
      "Calculating fitnesses: 100%|███████████████████████████████████████████████████████████████████████████████████████████████████████████████████████████| 50/50 [00:02<00:00, 21.09it/s]\n"
     ]
    },
    {
     "name": "stdout",
     "output_type": "stream",
     "text": [
      "[Generation: 121] \n",
      " Average Fitness: 496.4 \n",
      " Best Fitness: 500.0 \n",
      " Worst Fitness: 437.0 \n",
      " Standard Error: 1.8746428231227714\n"
     ]
    },
    {
     "name": "stderr",
     "output_type": "stream",
     "text": [
      "Generating Offspring: 100%|████████████████████████████████████████████████████████████████████████████████████████████████████████████████████████████| 30/30 [00:07<00:00,  4.06it/s]\n",
      "Calculating fitnesses: 100%|███████████████████████████████████████████████████████████████████████████████████████████████████████████████████████████| 50/50 [00:02<00:00, 21.32it/s]\n"
     ]
    },
    {
     "name": "stdout",
     "output_type": "stream",
     "text": [
      "[Generation: 122] \n",
      " Average Fitness: 480.98 \n",
      " Best Fitness: 500.0 \n",
      " Worst Fitness: 30.0 \n",
      " Standard Error: 10.90876786472838\n"
     ]
    },
    {
     "name": "stderr",
     "output_type": "stream",
     "text": [
      "Generating Offspring: 100%|████████████████████████████████████████████████████████████████████████████████████████████████████████████████████████████| 30/30 [00:06<00:00,  4.32it/s]\n",
      "Calculating fitnesses: 100%|███████████████████████████████████████████████████████████████████████████████████████████████████████████████████████████| 50/50 [00:02<00:00, 20.96it/s]\n"
     ]
    },
    {
     "name": "stdout",
     "output_type": "stream",
     "text": [
      "[Generation: 123] \n",
      " Average Fitness: 493.62 \n",
      " Best Fitness: 500.0 \n",
      " Worst Fitness: 227.0 \n",
      " Standard Error: 5.469461787497738\n"
     ]
    },
    {
     "name": "stderr",
     "output_type": "stream",
     "text": [
      "Generating Offspring: 100%|████████████████████████████████████████████████████████████████████████████████████████████████████████████████████████████| 30/30 [00:07<00:00,  4.25it/s]\n",
      "Calculating fitnesses: 100%|███████████████████████████████████████████████████████████████████████████████████████████████████████████████████████████| 50/50 [00:02<00:00, 20.01it/s]\n"
     ]
    },
    {
     "name": "stdout",
     "output_type": "stream",
     "text": [
      "[Generation: 124] \n",
      " Average Fitness: 493.98 \n",
      " Best Fitness: 500.0 \n",
      " Worst Fitness: 424.0 \n",
      " Standard Error: 2.4000833318866244\n"
     ]
    },
    {
     "name": "stderr",
     "output_type": "stream",
     "text": [
      "Generating Offspring: 100%|████████████████████████████████████████████████████████████████████████████████████████████████████████████████████████████| 30/30 [00:07<00:00,  4.19it/s]\n",
      "Calculating fitnesses: 100%|███████████████████████████████████████████████████████████████████████████████████████████████████████████████████████████| 50/50 [00:02<00:00, 20.18it/s]\n"
     ]
    },
    {
     "name": "stdout",
     "output_type": "stream",
     "text": [
      "[Generation: 125] \n",
      " Average Fitness: 495.24 \n",
      " Best Fitness: 500.0 \n",
      " Worst Fitness: 415.0 \n",
      " Standard Error: 2.2145271757747516\n"
     ]
    },
    {
     "name": "stderr",
     "output_type": "stream",
     "text": [
      "Generating Offspring: 100%|████████████████████████████████████████████████████████████████████████████████████████████████████████████████████████████| 30/30 [00:07<00:00,  4.28it/s]\n",
      "Calculating fitnesses: 100%|███████████████████████████████████████████████████████████████████████████████████████████████████████████████████████████| 50/50 [00:02<00:00, 20.32it/s]\n"
     ]
    },
    {
     "name": "stdout",
     "output_type": "stream",
     "text": [
      "[Generation: 126] \n",
      " Average Fitness: 498.06 \n",
      " Best Fitness: 500.0 \n",
      " Worst Fitness: 436.0 \n",
      " Standard Error: 1.3335268567040637\n"
     ]
    },
    {
     "name": "stderr",
     "output_type": "stream",
     "text": [
      "Generating Offspring: 100%|████████████████████████████████████████████████████████████████████████████████████████████████████████████████████████████| 30/30 [00:07<00:00,  4.15it/s]\n",
      "Calculating fitnesses: 100%|███████████████████████████████████████████████████████████████████████████████████████████████████████████████████████████| 50/50 [00:02<00:00, 20.56it/s]\n"
     ]
    },
    {
     "name": "stdout",
     "output_type": "stream",
     "text": [
      "[Generation: 127] \n",
      " Average Fitness: 488.54 \n",
      " Best Fitness: 500.0 \n",
      " Worst Fitness: 21.0 \n",
      " Standard Error: 9.598308099209305\n"
     ]
    },
    {
     "name": "stderr",
     "output_type": "stream",
     "text": [
      "Generating Offspring: 100%|████████████████████████████████████████████████████████████████████████████████████████████████████████████████████████████| 30/30 [00:07<00:00,  4.25it/s]\n",
      "Calculating fitnesses: 100%|███████████████████████████████████████████████████████████████████████████████████████████████████████████████████████████| 50/50 [00:02<00:00, 19.91it/s]\n"
     ]
    },
    {
     "name": "stdout",
     "output_type": "stream",
     "text": [
      "[Generation: 128] \n",
      " Average Fitness: 498.42 \n",
      " Best Fitness: 500.0 \n",
      " Worst Fitness: 467.0 \n",
      " Standard Error: 0.8142055098345244\n"
     ]
    },
    {
     "name": "stderr",
     "output_type": "stream",
     "text": [
      "Generating Offspring: 100%|████████████████████████████████████████████████████████████████████████████████████████████████████████████████████████████| 30/30 [00:07<00:00,  4.15it/s]\n",
      "Calculating fitnesses: 100%|███████████████████████████████████████████████████████████████████████████████████████████████████████████████████████████| 50/50 [00:02<00:00, 21.77it/s]\n"
     ]
    },
    {
     "name": "stdout",
     "output_type": "stream",
     "text": [
      "[Generation: 129] \n",
      " Average Fitness: 491.14 \n",
      " Best Fitness: 500.0 \n",
      " Worst Fitness: 238.0 \n",
      " Standard Error: 5.68377641060187\n"
     ]
    },
    {
     "name": "stderr",
     "output_type": "stream",
     "text": [
      "Generating Offspring: 100%|████████████████████████████████████████████████████████████████████████████████████████████████████████████████████████████| 30/30 [00:07<00:00,  4.25it/s]\n",
      "Calculating fitnesses: 100%|███████████████████████████████████████████████████████████████████████████████████████████████████████████████████████████| 50/50 [00:02<00:00, 21.40it/s]\n"
     ]
    },
    {
     "name": "stdout",
     "output_type": "stream",
     "text": [
      "[Generation: 130] \n",
      " Average Fitness: 493.7 \n",
      " Best Fitness: 500.0 \n",
      " Worst Fitness: 227.0 \n",
      " Standard Error: 5.465606749744912\n"
     ]
    },
    {
     "name": "stderr",
     "output_type": "stream",
     "text": [
      "Generating Offspring: 100%|████████████████████████████████████████████████████████████████████████████████████████████████████████████████████████████| 30/30 [00:07<00:00,  4.10it/s]\n",
      "Calculating fitnesses: 100%|███████████████████████████████████████████████████████████████████████████████████████████████████████████████████████████| 50/50 [00:02<00:00, 20.65it/s]\n"
     ]
    },
    {
     "name": "stdout",
     "output_type": "stream",
     "text": [
      "[Generation: 131] \n",
      " Average Fitness: 493.02 \n",
      " Best Fitness: 500.0 \n",
      " Worst Fitness: 206.0 \n",
      " Standard Error: 5.889283938317327\n"
     ]
    },
    {
     "name": "stderr",
     "output_type": "stream",
     "text": [
      "Generating Offspring: 100%|████████████████████████████████████████████████████████████████████████████████████████████████████████████████████████████| 30/30 [00:07<00:00,  4.17it/s]\n",
      "Calculating fitnesses: 100%|███████████████████████████████████████████████████████████████████████████████████████████████████████████████████████████| 50/50 [00:02<00:00, 20.55it/s]\n"
     ]
    },
    {
     "name": "stdout",
     "output_type": "stream",
     "text": [
      "[Generation: 132] \n",
      " Average Fitness: 498.78 \n",
      " Best Fitness: 500.0 \n",
      " Worst Fitness: 440.0 \n",
      " Standard Error: 1.199758479096216\n"
     ]
    },
    {
     "name": "stderr",
     "output_type": "stream",
     "text": [
      "Generating Offspring: 100%|████████████████████████████████████████████████████████████████████████████████████████████████████████████████████████████| 30/30 [00:07<00:00,  4.10it/s]\n",
      "Calculating fitnesses: 100%|███████████████████████████████████████████████████████████████████████████████████████████████████████████████████████████| 50/50 [00:02<00:00, 20.72it/s]\n"
     ]
    },
    {
     "name": "stdout",
     "output_type": "stream",
     "text": [
      "[Generation: 133] \n",
      " Average Fitness: 498.16 \n",
      " Best Fitness: 500.0 \n",
      " Worst Fitness: 463.0 \n",
      " Standard Error: 1.0665067907396921\n"
     ]
    },
    {
     "name": "stderr",
     "output_type": "stream",
     "text": [
      "Generating Offspring: 100%|████████████████████████████████████████████████████████████████████████████████████████████████████████████████████████████| 30/30 [00:07<00:00,  4.19it/s]\n",
      "Calculating fitnesses: 100%|███████████████████████████████████████████████████████████████████████████████████████████████████████████████████████████| 50/50 [00:02<00:00, 22.65it/s]\n"
     ]
    },
    {
     "name": "stdout",
     "output_type": "stream",
     "text": [
      "[Generation: 134] \n",
      " Average Fitness: 498.12 \n",
      " Best Fitness: 500.0 \n",
      " Worst Fitness: 464.0 \n",
      " Standard Error: 1.036729551650432\n"
     ]
    },
    {
     "name": "stderr",
     "output_type": "stream",
     "text": [
      "Generating Offspring: 100%|████████████████████████████████████████████████████████████████████████████████████████████████████████████████████████████| 30/30 [00:06<00:00,  4.31it/s]\n",
      "Calculating fitnesses: 100%|███████████████████████████████████████████████████████████████████████████████████████████████████████████████████████████| 50/50 [00:02<00:00, 21.44it/s]\n"
     ]
    },
    {
     "name": "stdout",
     "output_type": "stream",
     "text": [
      "[Generation: 135] \n",
      " Average Fitness: 499.94 \n",
      " Best Fitness: 500.0 \n",
      " Worst Fitness: 497.0 \n",
      " Standard Error: 0.06\n"
     ]
    },
    {
     "name": "stderr",
     "output_type": "stream",
     "text": [
      "Generating Offspring: 100%|████████████████████████████████████████████████████████████████████████████████████████████████████████████████████████████| 30/30 [00:07<00:00,  4.25it/s]\n",
      "Calculating fitnesses: 100%|███████████████████████████████████████████████████████████████████████████████████████████████████████████████████████████| 50/50 [00:02<00:00, 21.72it/s]\n"
     ]
    },
    {
     "name": "stdout",
     "output_type": "stream",
     "text": [
      "[Generation: 136] \n",
      " Average Fitness: 496.58 \n",
      " Best Fitness: 500.0 \n",
      " Worst Fitness: 439.0 \n",
      " Standard Error: 1.6258347934246593\n"
     ]
    },
    {
     "name": "stderr",
     "output_type": "stream",
     "text": [
      "Generating Offspring: 100%|████████████████████████████████████████████████████████████████████████████████████████████████████████████████████████████| 30/30 [00:06<00:00,  4.39it/s]\n",
      "Calculating fitnesses: 100%|███████████████████████████████████████████████████████████████████████████████████████████████████████████████████████████| 50/50 [00:02<00:00, 23.14it/s]\n"
     ]
    },
    {
     "name": "stdout",
     "output_type": "stream",
     "text": [
      "[Generation: 137] \n",
      " Average Fitness: 486.34 \n",
      " Best Fitness: 500.0 \n",
      " Worst Fitness: 125.0 \n",
      " Standard Error: 8.7835007664533\n"
     ]
    },
    {
     "name": "stderr",
     "output_type": "stream",
     "text": [
      "Generating Offspring: 100%|████████████████████████████████████████████████████████████████████████████████████████████████████████████████████████████| 30/30 [00:06<00:00,  4.57it/s]\n",
      "Calculating fitnesses: 100%|███████████████████████████████████████████████████████████████████████████████████████████████████████████████████████████| 50/50 [00:02<00:00, 22.27it/s]\n"
     ]
    },
    {
     "name": "stdout",
     "output_type": "stream",
     "text": [
      "[Generation: 138] \n",
      " Average Fitness: 499.24 \n",
      " Best Fitness: 500.0 \n",
      " Worst Fitness: 483.0 \n",
      " Standard Error: 0.4611963148338531\n"
     ]
    },
    {
     "name": "stderr",
     "output_type": "stream",
     "text": [
      "Generating Offspring: 100%|████████████████████████████████████████████████████████████████████████████████████████████████████████████████████████████| 30/30 [00:06<00:00,  4.43it/s]\n",
      "Calculating fitnesses: 100%|███████████████████████████████████████████████████████████████████████████████████████████████████████████████████████████| 50/50 [00:02<00:00, 22.34it/s]\n"
     ]
    },
    {
     "name": "stdout",
     "output_type": "stream",
     "text": [
      "[Generation: 139] \n",
      " Average Fitness: 472.38 \n",
      " Best Fitness: 500.0 \n",
      " Worst Fitness: 9.0 \n",
      " Standard Error: 12.88764287119682\n"
     ]
    },
    {
     "name": "stderr",
     "output_type": "stream",
     "text": [
      "Generating Offspring: 100%|████████████████████████████████████████████████████████████████████████████████████████████████████████████████████████████| 30/30 [00:06<00:00,  4.64it/s]\n",
      "Calculating fitnesses: 100%|███████████████████████████████████████████████████████████████████████████████████████████████████████████████████████████| 50/50 [00:02<00:00, 21.81it/s]\n"
     ]
    },
    {
     "name": "stdout",
     "output_type": "stream",
     "text": [
      "[Generation: 140] \n",
      " Average Fitness: 499.92 \n",
      " Best Fitness: 500.0 \n",
      " Worst Fitness: 496.0 \n",
      " Standard Error: 0.08\n"
     ]
    },
    {
     "name": "stderr",
     "output_type": "stream",
     "text": [
      "Generating Offspring: 100%|████████████████████████████████████████████████████████████████████████████████████████████████████████████████████████████| 30/30 [00:06<00:00,  4.44it/s]\n",
      "Calculating fitnesses: 100%|███████████████████████████████████████████████████████████████████████████████████████████████████████████████████████████| 50/50 [00:02<00:00, 21.98it/s]\n"
     ]
    },
    {
     "name": "stdout",
     "output_type": "stream",
     "text": [
      "[Generation: 141] \n",
      " Average Fitness: 494.96 \n",
      " Best Fitness: 500.0 \n",
      " Worst Fitness: 370.0 \n",
      " Standard Error: 2.921693665932659\n"
     ]
    },
    {
     "name": "stderr",
     "output_type": "stream",
     "text": [
      "Generating Offspring: 100%|████████████████████████████████████████████████████████████████████████████████████████████████████████████████████████████| 30/30 [00:06<00:00,  4.62it/s]\n",
      "Calculating fitnesses: 100%|███████████████████████████████████████████████████████████████████████████████████████████████████████████████████████████| 50/50 [00:02<00:00, 23.11it/s]\n"
     ]
    },
    {
     "name": "stdout",
     "output_type": "stream",
     "text": [
      "[Generation: 142] \n",
      " Average Fitness: 491.08 \n",
      " Best Fitness: 500.0 \n",
      " Worst Fitness: 102.0 \n",
      " Standard Error: 7.967579203707167\n"
     ]
    },
    {
     "name": "stderr",
     "output_type": "stream",
     "text": [
      "Generating Offspring: 100%|████████████████████████████████████████████████████████████████████████████████████████████████████████████████████████████| 30/30 [00:06<00:00,  4.37it/s]\n",
      "Calculating fitnesses: 100%|███████████████████████████████████████████████████████████████████████████████████████████████████████████████████████████| 50/50 [00:02<00:00, 21.23it/s]\n"
     ]
    },
    {
     "name": "stdout",
     "output_type": "stream",
     "text": [
      "[Generation: 143] \n",
      " Average Fitness: 495.8 \n",
      " Best Fitness: 500.0 \n",
      " Worst Fitness: 441.0 \n",
      " Standard Error: 1.5869364659427216\n"
     ]
    },
    {
     "name": "stderr",
     "output_type": "stream",
     "text": [
      "Generating Offspring: 100%|████████████████████████████████████████████████████████████████████████████████████████████████████████████████████████████| 30/30 [00:06<00:00,  4.36it/s]\n",
      "Calculating fitnesses: 100%|███████████████████████████████████████████████████████████████████████████████████████████████████████████████████████████| 50/50 [00:02<00:00, 21.79it/s]\n"
     ]
    },
    {
     "name": "stdout",
     "output_type": "stream",
     "text": [
      "[Generation: 144] \n",
      " Average Fitness: 490.88 \n",
      " Best Fitness: 500.0 \n",
      " Worst Fitness: 137.0 \n",
      " Standard Error: 7.281098818172983\n"
     ]
    },
    {
     "name": "stderr",
     "output_type": "stream",
     "text": [
      "Generating Offspring: 100%|████████████████████████████████████████████████████████████████████████████████████████████████████████████████████████████| 30/30 [00:06<00:00,  4.42it/s]\n",
      "Calculating fitnesses: 100%|███████████████████████████████████████████████████████████████████████████████████████████████████████████████████████████| 50/50 [00:02<00:00, 24.17it/s]\n"
     ]
    },
    {
     "name": "stdout",
     "output_type": "stream",
     "text": [
      "[Generation: 145] \n",
      " Average Fitness: 487.08 \n",
      " Best Fitness: 500.0 \n",
      " Worst Fitness: 12.0 \n",
      " Standard Error: 9.824868073061399\n"
     ]
    },
    {
     "name": "stderr",
     "output_type": "stream",
     "text": [
      "Generating Offspring: 100%|████████████████████████████████████████████████████████████████████████████████████████████████████████████████████████████| 30/30 [00:06<00:00,  4.53it/s]\n",
      "Calculating fitnesses: 100%|███████████████████████████████████████████████████████████████████████████████████████████████████████████████████████████| 50/50 [00:02<00:00, 22.89it/s]\n"
     ]
    },
    {
     "name": "stdout",
     "output_type": "stream",
     "text": [
      "[Generation: 146] \n",
      " Average Fitness: 486.56 \n",
      " Best Fitness: 500.0 \n",
      " Worst Fitness: 167.0 \n",
      " Standard Error: 8.826405652058707\n"
     ]
    },
    {
     "name": "stderr",
     "output_type": "stream",
     "text": [
      "Generating Offspring: 100%|████████████████████████████████████████████████████████████████████████████████████████████████████████████████████████████| 30/30 [00:06<00:00,  4.49it/s]\n",
      "Calculating fitnesses: 100%|███████████████████████████████████████████████████████████████████████████████████████████████████████████████████████████| 50/50 [00:02<00:00, 22.05it/s]\n"
     ]
    },
    {
     "name": "stdout",
     "output_type": "stream",
     "text": [
      "[Generation: 147] \n",
      " Average Fitness: 488.78 \n",
      " Best Fitness: 500.0 \n",
      " Worst Fitness: 106.0 \n",
      " Standard Error: 8.045142532444466\n"
     ]
    },
    {
     "name": "stderr",
     "output_type": "stream",
     "text": [
      "Generating Offspring: 100%|████████████████████████████████████████████████████████████████████████████████████████████████████████████████████████████| 30/30 [00:06<00:00,  4.52it/s]\n",
      "Calculating fitnesses: 100%|███████████████████████████████████████████████████████████████████████████████████████████████████████████████████████████| 50/50 [00:02<00:00, 21.94it/s]\n"
     ]
    },
    {
     "name": "stdout",
     "output_type": "stream",
     "text": [
      "[Generation: 148] \n",
      " Average Fitness: 492.44 \n",
      " Best Fitness: 500.0 \n",
      " Worst Fitness: 168.0 \n",
      " Standard Error: 6.659420824237323\n"
     ]
    },
    {
     "name": "stderr",
     "output_type": "stream",
     "text": [
      "Generating Offspring: 100%|████████████████████████████████████████████████████████████████████████████████████████████████████████████████████████████| 30/30 [00:06<00:00,  4.52it/s]\n",
      "Calculating fitnesses: 100%|███████████████████████████████████████████████████████████████████████████████████████████████████████████████████████████| 50/50 [00:02<00:00, 22.46it/s]\n"
     ]
    },
    {
     "name": "stdout",
     "output_type": "stream",
     "text": [
      "[Generation: 149] \n",
      " Average Fitness: 495.6 \n",
      " Best Fitness: 500.0 \n",
      " Worst Fitness: 397.0 \n",
      " Standard Error: 2.597172717100074\n"
     ]
    },
    {
     "name": "stderr",
     "output_type": "stream",
     "text": [
      "Generating Offspring: 100%|████████████████████████████████████████████████████████████████████████████████████████████████████████████████████████████| 30/30 [00:06<00:00,  4.48it/s]\n",
      "Calculating fitnesses: 100%|███████████████████████████████████████████████████████████████████████████████████████████████████████████████████████████| 50/50 [00:02<00:00, 22.02it/s]\n"
     ]
    },
    {
     "name": "stdout",
     "output_type": "stream",
     "text": [
      "[Generation: 150] \n",
      " Average Fitness: 499.04 \n",
      " Best Fitness: 500.0 \n",
      " Worst Fitness: 480.0 \n",
      " Standard Error: 0.5583941991395085\n"
     ]
    },
    {
     "name": "stderr",
     "output_type": "stream",
     "text": [
      "Generating Offspring: 100%|████████████████████████████████████████████████████████████████████████████████████████████████████████████████████████████| 30/30 [00:06<00:00,  4.39it/s]"
     ]
    },
    {
     "name": "stdout",
     "output_type": "stream",
     "text": [
      "--- 1260.6223239898682 seconds ---\n"
     ]
    },
    {
     "name": "stderr",
     "output_type": "stream",
     "text": [
      "\n"
     ]
    }
   ],
   "source": [
    "# Version 1:\n",
    "# Run the genetic algorithm\n",
    "population, history, history_std = main(POPULATION_SIZE=pop_size, \n",
    "                            GENERATIONS=gens, \n",
    "                            ELITISM=elit, \n",
    "                            TOURNAMENT_SIZE=tot_size, \n",
    "                            MUTATION_STRENGTH=1, \n",
    "                            MUTATION_RATE=0.01)"
   ]
  },
  {
   "cell_type": "code",
   "execution_count": 9,
   "id": "2d7cf11e",
   "metadata": {},
   "outputs": [
    {
     "data": {
      "image/png": "[encoded data removed]",
      "text/plain": [
       "<Figure size 2000x1500 with 1 Axes>"
      ]
     },
     "metadata": {},
     "output_type": "display_data"
    }
   ],
   "source": [
    "plt.figure(figsize=(20, 15))\n",
    "plt.plot(np.arange(gens), np.array(history)[:,0], marker='o', linestyle='-', label='Average Fitness')\n",
    "plt.plot(np.arange(gens), np.array(history)[:,1], marker='^', linestyle='-', label='Max Fitness')\n",
    "plt.plot(np.arange(gens), np.array(history)[:,2], marker='s', linestyle='-', label='Min Fitness')\n",
    "plt.axhline(y=500, color='r', linewidth=1, label='Max Fitness in Cartpole problem')\n",
    "plt.fill_between(np.arange(gens), np.array(history)[:,0] - np.array(history_std), np.array(history)[:,0] + np.array(history_std),\n",
    "                 alpha=0.2, color='blue', label='Standard Error')\n",
    "\n",
    "plt.xlabel('Generations')\n",
    "plt.ylabel('Fitness')\n",
    "plt.title('Fitness History')\n",
    "plt.grid()\n",
    "plt.legend()\n",
    "plt.show()"
   ]
  },
  {
   "cell_type": "code",
   "execution_count": null,
   "id": "b5ecc93b",
   "metadata": {},
   "outputs": [],
   "source": []
  }
 ],
 "metadata": {
  "kernelspec": {
   "display_name": "Python 3 (ipykernel)",
   "language": "python",
   "name": "python3"
  },
  "language_info": {
   "codemirror_mode": {
    "name": "ipython",
    "version": 3
   },
   "file_extension": ".py",
   "mimetype": "text/x-python",
   "name": "python",
   "nbconvert_exporter": "python",
   "pygments_lexer": "ipython3",
   "version": "3.11.4"
  }
 },
 "nbformat": 4,
 "nbformat_minor": 5
}
