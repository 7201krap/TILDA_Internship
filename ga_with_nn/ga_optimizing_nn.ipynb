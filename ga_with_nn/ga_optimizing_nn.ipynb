{
  "nbformat": 4,
  "nbformat_minor": 0,
  "metadata": {
    "colab": {
      "provenance": []
    },
    "kernelspec": {
      "name": "python3",
      "display_name": "Python 3"
    },
    "language_info": {
      "name": "python"
    }
  },
  "cells": [
    {
      "cell_type": "code",
      "execution_count": 1,
      "metadata": {
        "id": "QcJnDJCwm2RM"
      },
      "outputs": [],
      "source": [
        "import numpy as np \n",
        "import matplotlib.pyplot as plt \n",
        "import random \n",
        "import copy\n",
        "\n",
        "from sklearn import datasets \n",
        "from sklearn.neural_network import MLPClassifier \n",
        "from sklearn.metrics import accuracy_score \n",
        "from sklearn.model_selection import train_test_split \n",
        "from random import randint \n",
        "from sklearn.metrics import mean_absolute_error as mae \n",
        "from tqdm import tqdm "
      ]
    },
    {
      "cell_type": "code",
      "source": [
        "mnist = datasets.load_digits()\n",
        "\n",
        "X = mnist.data \n",
        "y = mnist.target \n",
        "X_train, X_test, y_train, y_test = train_test_split(X, y, test_size=0.3, random_state=0)"
      ],
      "metadata": {
        "id": "-8ivvgCr-wFy"
      },
      "execution_count": 2,
      "outputs": []
    },
    {
      "cell_type": "code",
      "source": [
        "print(X_train.shape)\n",
        "print(y_train.shape)"
      ],
      "metadata": {
        "colab": {
          "base_uri": "https://localhost:8080/"
        },
        "id": "gS9_IROCaPC0",
        "outputId": "0a4c0ba6-a03b-48b0-8159-e18d1baf058f"
      },
      "execution_count": 3,
      "outputs": [
        {
          "output_type": "stream",
          "name": "stdout",
          "text": [
            "(1257, 64)\n",
            "(1257,)\n"
          ]
        }
      ]
    },
    {
      "cell_type": "code",
      "source": [
        "# initialize population \n",
        "def intialize_population(pop_size):\n",
        "    pop = [[]] * pop_size   # create a list(=A) of lists(=B). There are 'pop_size' lists(=B) in the list(=A)\n",
        "    activation = ['identity', 'logistic', 'tanh', 'relu']\n",
        "    solver = ['sgd', 'adam']\n",
        "    pop = [[random.choice(activation), random.choice(solver), randint(2, 4), randint(2, 4)] for i in tqdm(range(0, pop_size))]\n",
        "    return pop"
      ],
      "metadata": {
        "id": "QEKbqkzFaP45"
      },
      "execution_count": 4,
      "outputs": []
    },
    {
      "cell_type": "code",
      "source": [
        "def crossover_mlp(parent1, parent2):\n",
        "    child = [parent1[0], parent2[1], parent1[2], parent2[3]]\n",
        "    return child "
      ],
      "metadata": {
        "id": "UtomHDwCc1CV"
      },
      "execution_count": 5,
      "outputs": []
    },
    {
      "cell_type": "code",
      "source": [
        "def mutation_mlp(children, prob):\n",
        "    for c in range(0, len(children)):\n",
        "        if np.random.rand() > prob:\n",
        "            k = randint(2, 3)\n",
        "            children[c][k] = int(children[c][k]) + randint(-3, 6)\n",
        "\n",
        "    children = np.array(children)\n",
        "    return children "
      ],
      "metadata": {
        "id": "yKQ4NPvgdXFF"
      },
      "execution_count": 6,
      "outputs": []
    },
    {
      "cell_type": "code",
      "source": [
        "def fitness_mlp(pop, X_train, y_train, X_test, y_test):\n",
        "    fitness = []\n",
        "\n",
        "    for individual in tqdm(pop):\n",
        "        clf = MLPClassifier(learning_rate_init=0.1, \n",
        "                            activation=individual[0],\n",
        "                            solver = individual[1], \n",
        "                            hidden_layer_sizes=(int(individual[2]), int(individual[3])),  \n",
        "                            max_iter=2000)\n",
        "        \n",
        "        try:\n",
        "            clf.fit(X_train, y_train)\n",
        "            f = accuracy_score(clf.predict(X_test), y_test)\n",
        "            fitness.append([f, clf, individual])\n",
        "        except:\n",
        "            print('--- WARNING --- INVALID VALUE ENCOUNTERED ---')\n",
        "\n",
        "    fitness = np.array(fitness)\n",
        "    return fitness "
      ],
      "metadata": {
        "id": "qvhXDDrWfqcR"
      },
      "execution_count": 7,
      "outputs": []
    },
    {
      "cell_type": "code",
      "source": [
        "def ga_main_mlp(X_train, y_train, X_test, y_test, generations=10, pop_size=20, mutation_prob=0.1):\n",
        "    # generate population \n",
        "    print(\"Generating initial population ...\")\n",
        "    population = intialize_population(pop_size) \n",
        "\n",
        "    for gen in range(generations):\n",
        "        print(f\"\\n --- Generation: {gen} | Population: {len(population)}\")\n",
        "\n",
        "        # a new individual will go to this 'new_population'\n",
        "        new_population = list()\n",
        "\n",
        "        print(\"Calculating fitness for each individual ...\")\n",
        "        fitness = fitness_mlp(population, X_train, y_train, X_test, y_test)\n",
        "\n",
        "        # sort all individuals by fitness(=accuracy) in decreasing order\n",
        "        fitness_sorted = np.array(list(reversed(sorted(fitness, key=lambda x: x[0]))))\n",
        "\n",
        "        num_individuals = len(fitness_sorted)\n",
        "\n",
        "        # 80 percent of them remain the same \n",
        "        num_remainings = int(num_individuals * 0.85)\n",
        "        for idx in range(num_remainings):\n",
        "            new_population.append(fitness_sorted[:, -1][idx])\n",
        "\n",
        "        # 20 percent of them perform crossover and mutation \n",
        "        num_cross_mutate = int(num_individuals * 0.15)\n",
        "\n",
        "        # flatten and shuffle fitness_sorted\n",
        "        individuals = fitness_sorted[:, 2].flatten()\n",
        "        np.random.shuffle(individuals)\n",
        "\n",
        "        # select half of the individuals for each parent\n",
        "        half = num_individuals // 2\n",
        "        parent_1 = individuals[:half]\n",
        "        parent_2 = individuals[half:half*2]\n",
        "\n",
        "        child_1 = [crossover_mlp(parent_1[i], parent_2[i]) for i in range(num_cross_mutate)]\n",
        "        child_2 = [crossover_mlp(parent_2[i], parent_1[i]) for i in range(num_cross_mutate)]\n",
        "\n",
        "        child_1 = mutation_mlp(child_1, mutation_prob)\n",
        "        child_2 = mutation_mlp(child_2, mutation_prob)\n",
        "\n",
        "        for idx2 in range(len(child_1)):\n",
        "            new_population.append(child_1[idx2])\n",
        "        \n",
        "        for idx3 in range(len(child_2)):\n",
        "            new_population.append(child_2[idx3])\n",
        "\n",
        "        new_population = np.array(new_population)\n",
        "        \n",
        "        population = copy.deepcopy(new_population)\n",
        "\n",
        "        print(f\"Best Fitness: {fitness_sorted[0]}\")"
      ],
      "metadata": {
        "id": "u78xDqxnj9ND"
      },
      "execution_count": 8,
      "outputs": []
    },
    {
      "cell_type": "code",
      "source": [
        "ga_main_mlp(X_train, y_train, X_test, y_test, generations=10, pop_size=10, mutation_prob=0.1)"
      ],
      "metadata": {
        "colab": {
          "base_uri": "https://localhost:8080/"
        },
        "id": "sNt1r8vlqk2W",
        "outputId": "4de3b9b3-507b-4ae0-cdb3-875e6e4ae885"
      },
      "execution_count": 9,
      "outputs": [
        {
          "output_type": "stream",
          "name": "stdout",
          "text": [
            "Generating initial population ...\n"
          ]
        },
        {
          "output_type": "stream",
          "name": "stderr",
          "text": [
            "100%|██████████| 10/10 [00:00<00:00, 52958.38it/s]\n"
          ]
        },
        {
          "output_type": "stream",
          "name": "stdout",
          "text": [
            "\n",
            " --- Generation: 0 | Population: 10\n",
            "Calculating fitness for each individual ...\n"
          ]
        },
        {
          "output_type": "stream",
          "name": "stderr",
          "text": [
            "100%|██████████| 10/10 [00:03<00:00,  2.53it/s]\n",
            "<ipython-input-7-2657c7e4f9ea>:18: VisibleDeprecationWarning: Creating an ndarray from ragged nested sequences (which is a list-or-tuple of lists-or-tuples-or ndarrays with different lengths or shapes) is deprecated. If you meant to do this, you must specify 'dtype=object' when creating the ndarray.\n",
            "  fitness = np.array(fitness)\n"
          ]
        },
        {
          "output_type": "stream",
          "name": "stdout",
          "text": [
            "Best Fitness: [0.8592592592592593\n",
            " MLPClassifier(activation='identity', hidden_layer_sizes=(3, 4),\n",
            "               learning_rate_init=0.1, max_iter=2000)\n",
            " list(['identity', 'adam', 3, 4])]\n",
            "\n",
            " --- Generation: 1 | Population: 10\n",
            "Calculating fitness for each individual ...\n"
          ]
        },
        {
          "output_type": "stream",
          "name": "stderr",
          "text": [
            "100%|██████████| 10/10 [00:10<00:00,  1.06s/it]\n",
            "<ipython-input-7-2657c7e4f9ea>:18: VisibleDeprecationWarning: Creating an ndarray from ragged nested sequences (which is a list-or-tuple of lists-or-tuples-or ndarrays with different lengths or shapes) is deprecated. If you meant to do this, you must specify 'dtype=object' when creating the ndarray.\n",
            "  fitness = np.array(fitness)\n"
          ]
        },
        {
          "output_type": "stream",
          "name": "stdout",
          "text": [
            "Best Fitness: [0.8907407407407407\n",
            " MLPClassifier(activation='identity', hidden_layer_sizes=(3, 4),\n",
            "               learning_rate_init=0.1, max_iter=2000)\n",
            " array(['identity', 'adam', '3', '4'], dtype='<U21')]\n",
            "\n",
            " --- Generation: 2 | Population: 10\n",
            "Calculating fitness for each individual ...\n"
          ]
        },
        {
          "output_type": "stream",
          "name": "stderr",
          "text": [
            "100%|██████████| 10/10 [00:11<00:00,  1.19s/it]\n",
            "<ipython-input-7-2657c7e4f9ea>:18: VisibleDeprecationWarning: Creating an ndarray from ragged nested sequences (which is a list-or-tuple of lists-or-tuples-or ndarrays with different lengths or shapes) is deprecated. If you meant to do this, you must specify 'dtype=object' when creating the ndarray.\n",
            "  fitness = np.array(fitness)\n"
          ]
        },
        {
          "output_type": "stream",
          "name": "stdout",
          "text": [
            "Best Fitness: [0.8759259259259259\n",
            " MLPClassifier(activation='identity', hidden_layer_sizes=(3, 4),\n",
            "               learning_rate_init=0.1, max_iter=2000)\n",
            " array(['identity', 'adam', '3', '4'], dtype='<U21')]\n",
            "\n",
            " --- Generation: 3 | Population: 10\n",
            "Calculating fitness for each individual ...\n"
          ]
        },
        {
          "output_type": "stream",
          "name": "stderr",
          "text": [
            "100%|██████████| 10/10 [00:04<00:00,  2.11it/s]\n",
            "<ipython-input-7-2657c7e4f9ea>:18: VisibleDeprecationWarning: Creating an ndarray from ragged nested sequences (which is a list-or-tuple of lists-or-tuples-or ndarrays with different lengths or shapes) is deprecated. If you meant to do this, you must specify 'dtype=object' when creating the ndarray.\n",
            "  fitness = np.array(fitness)\n"
          ]
        },
        {
          "output_type": "stream",
          "name": "stdout",
          "text": [
            "Best Fitness: [0.9148148148148149\n",
            " MLPClassifier(activation='logistic', hidden_layer_sizes=(10, 8),\n",
            "               learning_rate_init=0.1, max_iter=2000, solver='sgd')\n",
            " array(['logistic', 'sgd', '10', '8'], dtype='<U21')]\n",
            "\n",
            " --- Generation: 4 | Population: 10\n",
            "Calculating fitness for each individual ...\n"
          ]
        },
        {
          "output_type": "stream",
          "name": "stderr",
          "text": [
            "100%|██████████| 10/10 [00:05<00:00,  1.70it/s]\n",
            "<ipython-input-7-2657c7e4f9ea>:18: VisibleDeprecationWarning: Creating an ndarray from ragged nested sequences (which is a list-or-tuple of lists-or-tuples-or ndarrays with different lengths or shapes) is deprecated. If you meant to do this, you must specify 'dtype=object' when creating the ndarray.\n",
            "  fitness = np.array(fitness)\n"
          ]
        },
        {
          "output_type": "stream",
          "name": "stdout",
          "text": [
            "Best Fitness: [0.8574074074074074\n",
            " MLPClassifier(activation='logistic', hidden_layer_sizes=(10, 8),\n",
            "               learning_rate_init=0.1, max_iter=2000, solver='sgd')\n",
            " array(['logistic', 'sgd', '10', '8'], dtype='<U21')]\n",
            "\n",
            " --- Generation: 5 | Population: 10\n",
            "Calculating fitness for each individual ...\n"
          ]
        },
        {
          "output_type": "stream",
          "name": "stderr",
          "text": [
            "100%|██████████| 10/10 [00:05<00:00,  1.92it/s]\n",
            "<ipython-input-7-2657c7e4f9ea>:18: VisibleDeprecationWarning: Creating an ndarray from ragged nested sequences (which is a list-or-tuple of lists-or-tuples-or ndarrays with different lengths or shapes) is deprecated. If you meant to do this, you must specify 'dtype=object' when creating the ndarray.\n",
            "  fitness = np.array(fitness)\n"
          ]
        },
        {
          "output_type": "stream",
          "name": "stdout",
          "text": [
            "Best Fitness: [0.9092592592592592\n",
            " MLPClassifier(activation='identity', hidden_layer_sizes=(5, 6),\n",
            "               learning_rate_init=0.1, max_iter=2000)\n",
            " array(['identity', 'adam', '5', '6'], dtype='<U21')]\n",
            "\n",
            " --- Generation: 6 | Population: 10\n",
            "Calculating fitness for each individual ...\n"
          ]
        },
        {
          "output_type": "stream",
          "name": "stderr",
          "text": [
            " 80%|████████  | 8/10 [00:05<00:01,  1.20it/s]/usr/local/lib/python3.10/dist-packages/sklearn/utils/extmath.py:189: RuntimeWarning: overflow encountered in matmul\n",
            "  ret = a @ b\n",
            "/usr/local/lib/python3.10/dist-packages/sklearn/utils/extmath.py:189: RuntimeWarning: invalid value encountered in matmul\n",
            "  ret = a @ b\n",
            "/usr/local/lib/python3.10/dist-packages/sklearn/neural_network/_multilayer_perceptron.py:686: ConvergenceWarning: Stochastic Optimizer: Maximum iterations (2000) reached and the optimization hasn't converged yet.\n",
            "  warnings.warn(\n",
            " 90%|█████████ | 9/10 [00:14<00:03,  3.37s/it]"
          ]
        },
        {
          "output_type": "stream",
          "name": "stdout",
          "text": [
            "--- WARNING --- INVALID VALUE ENCOUNTERED ---\n"
          ]
        },
        {
          "output_type": "stream",
          "name": "stderr",
          "text": [
            "100%|██████████| 10/10 [00:14<00:00,  1.45s/it]\n",
            "<ipython-input-7-2657c7e4f9ea>:18: VisibleDeprecationWarning: Creating an ndarray from ragged nested sequences (which is a list-or-tuple of lists-or-tuples-or ndarrays with different lengths or shapes) is deprecated. If you meant to do this, you must specify 'dtype=object' when creating the ndarray.\n",
            "  fitness = np.array(fitness)\n"
          ]
        },
        {
          "output_type": "stream",
          "name": "stdout",
          "text": [
            "Best Fitness: [0.9037037037037037\n",
            " MLPClassifier(activation='logistic', hidden_layer_sizes=(10, 8),\n",
            "               learning_rate_init=0.1, max_iter=2000, solver='sgd')\n",
            " array(['logistic', 'sgd', '10', '8'], dtype='<U21')]\n",
            "\n",
            " --- Generation: 7 | Population: 9\n",
            "Calculating fitness for each individual ...\n"
          ]
        },
        {
          "output_type": "stream",
          "name": "stderr",
          "text": [
            "100%|██████████| 9/9 [00:05<00:00,  1.73it/s]\n",
            "<ipython-input-7-2657c7e4f9ea>:18: VisibleDeprecationWarning: Creating an ndarray from ragged nested sequences (which is a list-or-tuple of lists-or-tuples-or ndarrays with different lengths or shapes) is deprecated. If you meant to do this, you must specify 'dtype=object' when creating the ndarray.\n",
            "  fitness = np.array(fitness)\n"
          ]
        },
        {
          "output_type": "stream",
          "name": "stdout",
          "text": [
            "Best Fitness: [0.9444444444444444\n",
            " MLPClassifier(activation='identity', hidden_layer_sizes=(8, 6),\n",
            "               learning_rate_init=0.1, max_iter=2000)\n",
            " array(['identity', 'adam', '8', '6'], dtype='<U21')]\n",
            "\n",
            " --- Generation: 8 | Population: 9\n",
            "Calculating fitness for each individual ...\n"
          ]
        },
        {
          "output_type": "stream",
          "name": "stderr",
          "text": [
            " 78%|███████▊  | 7/9 [00:03<00:00,  2.72it/s]/usr/local/lib/python3.10/dist-packages/sklearn/utils/extmath.py:189: RuntimeWarning: overflow encountered in matmul\n",
            "  ret = a @ b\n",
            "/usr/local/lib/python3.10/dist-packages/sklearn/neural_network/_base.py:66: RuntimeWarning: invalid value encountered in subtract\n",
            "  tmp = X - X.max(axis=1)[:, np.newaxis]\n",
            "/usr/local/lib/python3.10/dist-packages/sklearn/neural_network/_multilayer_perceptron.py:686: ConvergenceWarning: Stochastic Optimizer: Maximum iterations (2000) reached and the optimization hasn't converged yet.\n",
            "  warnings.warn(\n",
            "100%|██████████| 9/9 [00:12<00:00,  1.44s/it]"
          ]
        },
        {
          "output_type": "stream",
          "name": "stdout",
          "text": [
            "--- WARNING --- INVALID VALUE ENCOUNTERED ---\n",
            "Best Fitness: [0.9574074074074074\n",
            " MLPClassifier(activation='identity', hidden_layer_sizes=(8, 6),\n",
            "               learning_rate_init=0.1, max_iter=2000)\n",
            " array(['identity', 'adam', '8', '6'], dtype='<U21')]"
          ]
        },
        {
          "output_type": "stream",
          "name": "stderr",
          "text": [
            "\n",
            "<ipython-input-7-2657c7e4f9ea>:18: VisibleDeprecationWarning: Creating an ndarray from ragged nested sequences (which is a list-or-tuple of lists-or-tuples-or ndarrays with different lengths or shapes) is deprecated. If you meant to do this, you must specify 'dtype=object' when creating the ndarray.\n",
            "  fitness = np.array(fitness)\n"
          ]
        },
        {
          "output_type": "stream",
          "name": "stdout",
          "text": [
            "\n",
            "\n",
            " --- Generation: 9 | Population: 8\n",
            "Calculating fitness for each individual ...\n"
          ]
        },
        {
          "output_type": "stream",
          "name": "stderr",
          "text": [
            "100%|██████████| 8/8 [00:02<00:00,  2.88it/s]"
          ]
        },
        {
          "output_type": "stream",
          "name": "stdout",
          "text": [
            "Best Fitness: [0.9092592592592592\n",
            " MLPClassifier(activation='logistic', hidden_layer_sizes=(10, 8),\n",
            "               learning_rate_init=0.1, max_iter=2000, solver='sgd')\n",
            " array(['logistic', 'sgd', '10', '8'], dtype='<U21')]\n"
          ]
        },
        {
          "output_type": "stream",
          "name": "stderr",
          "text": [
            "\n",
            "<ipython-input-7-2657c7e4f9ea>:18: VisibleDeprecationWarning: Creating an ndarray from ragged nested sequences (which is a list-or-tuple of lists-or-tuples-or ndarrays with different lengths or shapes) is deprecated. If you meant to do this, you must specify 'dtype=object' when creating the ndarray.\n",
            "  fitness = np.array(fitness)\n"
          ]
        }
      ]
    },
    {
      "cell_type": "code",
      "source": [],
      "metadata": {
        "id": "ST0-vePuqmRQ"
      },
      "execution_count": 9,
      "outputs": []
    }
  ]
}