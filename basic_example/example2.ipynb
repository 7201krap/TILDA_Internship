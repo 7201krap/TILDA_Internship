{
 "cells": [
  {
   "cell_type": "code",
   "execution_count": 1,
   "id": "3d1c31d5",
   "metadata": {},
   "outputs": [],
   "source": [
    "# https://medium.com/swlh/genetic-algorithm-in-artificial-neural-network-5f5b9c9467d0"
   ]
  },
  {
   "cell_type": "code",
   "execution_count": null,
   "id": "57e2a487",
   "metadata": {},
   "outputs": [],
   "source": []
  }
 ],
 "metadata": {
  "kernelspec": {
   "display_name": "Python 3 (ipykernel)",
   "language": "python",
   "name": "python3"
  },
  "language_info": {
   "codemirror_mode": {
    "name": "ipython",
    "version": 3
   },
   "file_extension": ".py",
   "mimetype": "text/x-python",
   "name": "python",
   "nbconvert_exporter": "python",
   "pygments_lexer": "ipython3",
   "version": "3.10.9"
  }
 },
 "nbformat": 4,
 "nbformat_minor": 5
}
